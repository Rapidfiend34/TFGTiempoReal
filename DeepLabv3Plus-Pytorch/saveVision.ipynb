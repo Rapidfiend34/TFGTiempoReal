{
 "cells": [
  {
   "cell_type": "code",
   "execution_count": null,
   "metadata": {
    "vscode": {
     "languageId": "plaintext"
    }
   },
   "outputs": [],
   "source": [
    "from visdom import Visdom\n",
    "import os\n",
    "\n",
    "# Crear directorio para guardar (opcional)\n",
    "save_dir = './visdom_saves'\n",
    "os.makedirs(save_dir, exist_ok=True)\n",
    "\n",
    "# Conectar a la sesión existente\n",
    "vis = Visdom(port=28333)\n",
    "\n",
    "# Guardar el estado actual en una ubicación específica\n",
    "vis.save(['main'], save_dir + '/visdom_state.json')  # Especifica la ruta completa\n",
    "print(f\"Estado guardado en: {os.path.abspath(save_dir)}/visdom_state.json\")"
   ]
  }
 ],
 "metadata": {
  "language_info": {
   "name": "python"
  }
 },
 "nbformat": 4,
 "nbformat_minor": 2
}
