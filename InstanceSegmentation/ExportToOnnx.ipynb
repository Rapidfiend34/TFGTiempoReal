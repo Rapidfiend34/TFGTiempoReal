{
 "cells": [
  {
   "cell_type": "code",
   "execution_count": 1,
   "metadata": {},
   "outputs": [
    {
     "name": "stdout",
     "output_type": "stream",
     "text": [
      "Ultralytics 8.3.55  Python-3.11.5 torch-2.6.0+cu126 CPU (AMD Ryzen 7 7735HS with Radeon Graphics)\n",
      "YOLOv8m-seg summary (fused): 245 layers, 27,229,911 parameters, 0 gradients, 110.0 GFLOPs\n",
      "\n",
      "\u001b[34m\u001b[1mPyTorch:\u001b[0m starting from 'runs\\segment\\train52\\weights\\best.pt' with input shape (1, 3, 640, 640) BCHW and output shape(s) ((1, 49, 8400), (1, 32, 160, 160)) (52.3 MB)\n",
      "\n",
      "\u001b[34m\u001b[1mONNX:\u001b[0m starting export with onnx 1.17.0 opset 12...\n",
      "\u001b[34m\u001b[1mONNX:\u001b[0m slimming with onnxslim 0.1.50...\n"
     ]
    },
    {
     "ename": "",
     "evalue": "",
     "output_type": "error",
     "traceback": [
      "\u001b[1;31mThe Kernel crashed while executing code in the current cell or a previous cell. \n",
      "\u001b[1;31mPlease review the code in the cell(s) to identify a possible cause of the failure. \n",
      "\u001b[1;31mClick <a href='https://aka.ms/vscodeJupyterKernelCrash'>here</a> for more info. \n",
      "\u001b[1;31mView Jupyter <a href='command:jupyter.viewOutput'>log</a> for further details."
     ]
    }
   ],
   "source": [
    "# Crea un archivo export_model.py con este contenido:\n",
    "from ultralytics import YOLO\n",
    "\n",
    "# Cargar el modelo\n",
    "model = YOLO('runs/segment/train52/weights/best.pt')\n",
    "\n",
    "# Exportar a ONNX\n",
    "model.export(format='onnx',\n",
    "            half=False,\n",
    "            simplify=True,\n",
    "            opset=12,\n",
    "            dynamic=True,\n",
    "            imgsz=640)"
   ]
  }
 ],
 "metadata": {
  "kernelspec": {
   "display_name": "ia2023",
   "language": "python",
   "name": "ia2023"
  },
  "language_info": {
   "codemirror_mode": {
    "name": "ipython",
    "version": 3
   },
   "file_extension": ".py",
   "mimetype": "text/x-python",
   "name": "python",
   "nbconvert_exporter": "python",
   "pygments_lexer": "ipython3",
   "version": "3.11.5"
  }
 },
 "nbformat": 4,
 "nbformat_minor": 2
}
