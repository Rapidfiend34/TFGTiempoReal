{
 "cells": [
  {
   "cell_type": "code",
   "execution_count": 1,
   "metadata": {},
   "outputs": [
    {
     "name": "stdout",
     "output_type": "stream",
     "text": [
      "Downloading https://github.com/ultralytics/assets/releases/download/v8.3.0/yolov8s-seg.pt to 'yolov8s-seg.pt'...\n"
     ]
    },
    {
     "name": "stderr",
     "output_type": "stream",
     "text": [
      "100%|██████████| 22.8M/22.8M [00:00<00:00, 42.4MB/s]\n"
     ]
    },
    {
     "name": "stdout",
     "output_type": "stream",
     "text": [
      "New https://pypi.org/project/ultralytics/8.3.107 available  Update with 'pip install -U ultralytics'\n",
      "WARNING  'label_smoothing' is deprecated and will be removed in in the future.\n",
      "Ultralytics 8.3.55  Python-3.11.5 torch-2.6.0+cu126 CUDA:0 (NVIDIA GeForce RTX 4060 Laptop GPU, 8188MiB)\n",
      "\u001b[34m\u001b[1mengine\\trainer: \u001b[0mtask=segment, mode=train, model=yolov8s-seg.pt, data=cityscapes.yaml, epochs=15, time=None, patience=100, batch=8, imgsz=640, save=True, save_period=-1, cache=False, device=None, workers=0, project=None, name=train57, exist_ok=False, pretrained=True, optimizer=auto, verbose=True, seed=0, deterministic=True, single_cls=False, rect=False, cos_lr=False, close_mosaic=10, resume=False, amp=True, fraction=1.0, profile=False, freeze=10, multi_scale=False, overlap_mask=True, mask_ratio=4, dropout=0.2, val=True, split=val, save_json=False, save_hybrid=False, conf=None, iou=0.7, max_det=300, half=False, dnn=False, plots=True, source=None, vid_stride=1, stream_buffer=False, visualize=False, augment=True, agnostic_nms=False, classes=None, retina_masks=False, embed=None, show=False, save_frames=False, save_txt=False, save_conf=False, save_crop=False, show_labels=True, show_conf=True, show_boxes=True, line_width=None, format=torchscript, keras=False, optimize=False, int8=False, dynamic=False, simplify=True, opset=None, workspace=None, nms=False, lr0=0.001, lrf=0.0001, momentum=0.937, weight_decay=0.0004, warmup_epochs=3, warmup_momentum=0.85, warmup_bias_lr=0.1, box=7.5, cls=0.5, dfl=1.5, pose=12.0, kobj=1.0, nbs=64, hsv_h=0.015, hsv_s=0.5, hsv_v=0.4, degrees=30.0, translate=0.15, scale=0.5, shear=7.0, perspective=0.0007, flipud=0.3, fliplr=0.5, bgr=0.0, mosaic=0.8, mixup=0.3, copy_paste=0.3, copy_paste_mode=flip, auto_augment=randaugment, erasing=0.4, crop_fraction=1.0, cfg=None, tracker=botsort.yaml, save_dir=runs\\segment\\train57\n",
      "Overriding model.yaml nc=80 with nc=13\n",
      "\n",
      "                   from  n    params  module                                       arguments                     \n",
      "  0                  -1  1       928  ultralytics.nn.modules.conv.Conv             [3, 32, 3, 2]                 \n",
      "  1                  -1  1     18560  ultralytics.nn.modules.conv.Conv             [32, 64, 3, 2]                \n",
      "  2                  -1  1     29056  ultralytics.nn.modules.block.C2f             [64, 64, 1, True]             \n",
      "  3                  -1  1     73984  ultralytics.nn.modules.conv.Conv             [64, 128, 3, 2]               \n",
      "  4                  -1  2    197632  ultralytics.nn.modules.block.C2f             [128, 128, 2, True]           \n",
      "  5                  -1  1    295424  ultralytics.nn.modules.conv.Conv             [128, 256, 3, 2]              \n",
      "  6                  -1  2    788480  ultralytics.nn.modules.block.C2f             [256, 256, 2, True]           \n",
      "  7                  -1  1   1180672  ultralytics.nn.modules.conv.Conv             [256, 512, 3, 2]              \n",
      "  8                  -1  1   1838080  ultralytics.nn.modules.block.C2f             [512, 512, 1, True]           \n",
      "  9                  -1  1    656896  ultralytics.nn.modules.block.SPPF            [512, 512, 5]                 \n",
      " 10                  -1  1         0  torch.nn.modules.upsampling.Upsample         [None, 2, 'nearest']          \n",
      " 11             [-1, 6]  1         0  ultralytics.nn.modules.conv.Concat           [1]                           \n",
      " 12                  -1  1    591360  ultralytics.nn.modules.block.C2f             [768, 256, 1]                 \n",
      " 13                  -1  1         0  torch.nn.modules.upsampling.Upsample         [None, 2, 'nearest']          \n",
      " 14             [-1, 4]  1         0  ultralytics.nn.modules.conv.Concat           [1]                           \n",
      " 15                  -1  1    148224  ultralytics.nn.modules.block.C2f             [384, 128, 1]                 \n",
      " 16                  -1  1    147712  ultralytics.nn.modules.conv.Conv             [128, 128, 3, 2]              \n",
      " 17            [-1, 12]  1         0  ultralytics.nn.modules.conv.Concat           [1]                           \n",
      " 18                  -1  1    493056  ultralytics.nn.modules.block.C2f             [384, 256, 1]                 \n",
      " 19                  -1  1    590336  ultralytics.nn.modules.conv.Conv             [256, 256, 3, 2]              \n",
      " 20             [-1, 9]  1         0  ultralytics.nn.modules.conv.Concat           [1]                           \n",
      " 21                  -1  1   1969152  ultralytics.nn.modules.block.C2f             [768, 512, 1]                 \n",
      " 22        [15, 18, 21]  1   2775575  ultralytics.nn.modules.head.Segment          [13, 32, 128, [128, 256, 512]]\n",
      "YOLOv8s-seg summary: 261 layers, 11,795,127 parameters, 11,795,111 gradients, 42.7 GFLOPs\n",
      "\n",
      "Transferred 411/417 items from pretrained weights\n",
      "Freezing layer 'model.0.conv.weight'\n",
      "Freezing layer 'model.0.bn.weight'\n",
      "Freezing layer 'model.0.bn.bias'\n",
      "Freezing layer 'model.1.conv.weight'\n",
      "Freezing layer 'model.1.bn.weight'\n",
      "Freezing layer 'model.1.bn.bias'\n",
      "Freezing layer 'model.2.cv1.conv.weight'\n",
      "Freezing layer 'model.2.cv1.bn.weight'\n",
      "Freezing layer 'model.2.cv1.bn.bias'\n",
      "Freezing layer 'model.2.cv2.conv.weight'\n",
      "Freezing layer 'model.2.cv2.bn.weight'\n",
      "Freezing layer 'model.2.cv2.bn.bias'\n",
      "Freezing layer 'model.2.m.0.cv1.conv.weight'\n",
      "Freezing layer 'model.2.m.0.cv1.bn.weight'\n",
      "Freezing layer 'model.2.m.0.cv1.bn.bias'\n",
      "Freezing layer 'model.2.m.0.cv2.conv.weight'\n",
      "Freezing layer 'model.2.m.0.cv2.bn.weight'\n",
      "Freezing layer 'model.2.m.0.cv2.bn.bias'\n",
      "Freezing layer 'model.3.conv.weight'\n",
      "Freezing layer 'model.3.bn.weight'\n",
      "Freezing layer 'model.3.bn.bias'\n",
      "Freezing layer 'model.4.cv1.conv.weight'\n",
      "Freezing layer 'model.4.cv1.bn.weight'\n",
      "Freezing layer 'model.4.cv1.bn.bias'\n",
      "Freezing layer 'model.4.cv2.conv.weight'\n",
      "Freezing layer 'model.4.cv2.bn.weight'\n",
      "Freezing layer 'model.4.cv2.bn.bias'\n",
      "Freezing layer 'model.4.m.0.cv1.conv.weight'\n",
      "Freezing layer 'model.4.m.0.cv1.bn.weight'\n",
      "Freezing layer 'model.4.m.0.cv1.bn.bias'\n",
      "Freezing layer 'model.4.m.0.cv2.conv.weight'\n",
      "Freezing layer 'model.4.m.0.cv2.bn.weight'\n",
      "Freezing layer 'model.4.m.0.cv2.bn.bias'\n",
      "Freezing layer 'model.4.m.1.cv1.conv.weight'\n",
      "Freezing layer 'model.4.m.1.cv1.bn.weight'\n",
      "Freezing layer 'model.4.m.1.cv1.bn.bias'\n",
      "Freezing layer 'model.4.m.1.cv2.conv.weight'\n",
      "Freezing layer 'model.4.m.1.cv2.bn.weight'\n",
      "Freezing layer 'model.4.m.1.cv2.bn.bias'\n",
      "Freezing layer 'model.5.conv.weight'\n",
      "Freezing layer 'model.5.bn.weight'\n",
      "Freezing layer 'model.5.bn.bias'\n",
      "Freezing layer 'model.6.cv1.conv.weight'\n",
      "Freezing layer 'model.6.cv1.bn.weight'\n",
      "Freezing layer 'model.6.cv1.bn.bias'\n",
      "Freezing layer 'model.6.cv2.conv.weight'\n",
      "Freezing layer 'model.6.cv2.bn.weight'\n",
      "Freezing layer 'model.6.cv2.bn.bias'\n",
      "Freezing layer 'model.6.m.0.cv1.conv.weight'\n",
      "Freezing layer 'model.6.m.0.cv1.bn.weight'\n",
      "Freezing layer 'model.6.m.0.cv1.bn.bias'\n",
      "Freezing layer 'model.6.m.0.cv2.conv.weight'\n",
      "Freezing layer 'model.6.m.0.cv2.bn.weight'\n",
      "Freezing layer 'model.6.m.0.cv2.bn.bias'\n",
      "Freezing layer 'model.6.m.1.cv1.conv.weight'\n",
      "Freezing layer 'model.6.m.1.cv1.bn.weight'\n",
      "Freezing layer 'model.6.m.1.cv1.bn.bias'\n",
      "Freezing layer 'model.6.m.1.cv2.conv.weight'\n",
      "Freezing layer 'model.6.m.1.cv2.bn.weight'\n",
      "Freezing layer 'model.6.m.1.cv2.bn.bias'\n",
      "Freezing layer 'model.7.conv.weight'\n",
      "Freezing layer 'model.7.bn.weight'\n",
      "Freezing layer 'model.7.bn.bias'\n",
      "Freezing layer 'model.8.cv1.conv.weight'\n",
      "Freezing layer 'model.8.cv1.bn.weight'\n",
      "Freezing layer 'model.8.cv1.bn.bias'\n",
      "Freezing layer 'model.8.cv2.conv.weight'\n",
      "Freezing layer 'model.8.cv2.bn.weight'\n",
      "Freezing layer 'model.8.cv2.bn.bias'\n",
      "Freezing layer 'model.8.m.0.cv1.conv.weight'\n",
      "Freezing layer 'model.8.m.0.cv1.bn.weight'\n",
      "Freezing layer 'model.8.m.0.cv1.bn.bias'\n",
      "Freezing layer 'model.8.m.0.cv2.conv.weight'\n",
      "Freezing layer 'model.8.m.0.cv2.bn.weight'\n",
      "Freezing layer 'model.8.m.0.cv2.bn.bias'\n",
      "Freezing layer 'model.9.cv1.conv.weight'\n",
      "Freezing layer 'model.9.cv1.bn.weight'\n",
      "Freezing layer 'model.9.cv1.bn.bias'\n",
      "Freezing layer 'model.9.cv2.conv.weight'\n",
      "Freezing layer 'model.9.cv2.bn.weight'\n",
      "Freezing layer 'model.9.cv2.bn.bias'\n",
      "Freezing layer 'model.22.dfl.conv.weight'\n",
      "\u001b[34m\u001b[1mAMP: \u001b[0mrunning Automatic Mixed Precision (AMP) checks...\n",
      "\u001b[34m\u001b[1mAMP: \u001b[0mchecks passed \n"
     ]
    },
    {
     "name": "stderr",
     "output_type": "stream",
     "text": [
      "\u001b[34m\u001b[1mtrain: \u001b[0mScanning C:\\Users\\aaron\\Documents\\Año4\\TFG\\CityScapesWithPanopticSegm\\dataset\\labels\\train.cache... 2975 images, 0 backgrounds, 25 corrupt: 100%|██████████| 2975/2975 [00:00<?, ?it/s]"
     ]
    },
    {
     "name": "stdout",
     "output_type": "stream",
     "text": [
      "\u001b[34m\u001b[1mtrain: \u001b[0mWARNING  C:\\Users\\aaron\\Documents\\Ao4\\TFG\\CityScapesWithPanopticSegm\\dataset\\images\\train\\aachen_000000_000019_gtFine_polygons.png: 4 duplicate labels removed\n",
      "\u001b[34m\u001b[1mtrain: \u001b[0mWARNING  C:\\Users\\aaron\\Documents\\Ao4\\TFG\\CityScapesWithPanopticSegm\\dataset\\images\\train\\aachen_000004_000019_gtFine_polygons.png: 1 duplicate labels removed\n",
      "\u001b[34m\u001b[1mtrain: \u001b[0mWARNING  C:\\Users\\aaron\\Documents\\Ao4\\TFG\\CityScapesWithPanopticSegm\\dataset\\images\\train\\aachen_000008_000019_gtFine_polygons.png: 1 duplicate labels removed\n",
      "\u001b[34m\u001b[1mtrain: \u001b[0mWARNING  C:\\Users\\aaron\\Documents\\Ao4\\TFG\\CityScapesWithPanopticSegm\\dataset\\images\\train\\aachen_000022_000019_gtFine_polygons.png: 1 duplicate labels removed\n",
      "\u001b[34m\u001b[1mtrain: \u001b[0mWARNING  C:\\Users\\aaron\\Documents\\Ao4\\TFG\\CityScapesWithPanopticSegm\\dataset\\images\\train\\aachen_000026_000019_gtFine_polygons.png: 1 duplicate labels removed\n",
      "\u001b[34m\u001b[1mtrain: \u001b[0mWARNING  C:\\Users\\aaron\\Documents\\Ao4\\TFG\\CityScapesWithPanopticSegm\\dataset\\images\\train\\aachen_000030_000019_gtFine_polygons.png: 3 duplicate labels removed\n",
      "\u001b[34m\u001b[1mtrain: \u001b[0mWARNING  C:\\Users\\aaron\\Documents\\Ao4\\TFG\\CityScapesWithPanopticSegm\\dataset\\images\\train\\aachen_000031_000019_gtFine_polygons.png: 1 duplicate labels removed\n",
      "\u001b[34m\u001b[1mtrain: \u001b[0mWARNING  C:\\Users\\aaron\\Documents\\Ao4\\TFG\\CityScapesWithPanopticSegm\\dataset\\images\\train\\aachen_000034_000019_gtFine_polygons.png: 1 duplicate labels removed\n",
      "\u001b[34m\u001b[1mtrain: \u001b[0mWARNING  C:\\Users\\aaron\\Documents\\Ao4\\TFG\\CityScapesWithPanopticSegm\\dataset\\images\\train\\aachen_000042_000019_gtFine_polygons.png: 2 duplicate labels removed\n",
      "\u001b[34m\u001b[1mtrain: \u001b[0mWARNING  C:\\Users\\aaron\\Documents\\Ao4\\TFG\\CityScapesWithPanopticSegm\\dataset\\images\\train\\aachen_000058_000019_gtFine_polygons.png: 1 duplicate labels removed\n",
      "\u001b[34m\u001b[1mtrain: \u001b[0mWARNING  C:\\Users\\aaron\\Documents\\Ao4\\TFG\\CityScapesWithPanopticSegm\\dataset\\images\\train\\aachen_000060_000019_gtFine_polygons.png: 15 duplicate labels removed\n",
      "\u001b[34m\u001b[1mtrain: \u001b[0mWARNING  C:\\Users\\aaron\\Documents\\Ao4\\TFG\\CityScapesWithPanopticSegm\\dataset\\images\\train\\aachen_000061_000019_gtFine_polygons.png: 40 duplicate labels removed\n",
      "\u001b[34m\u001b[1mtrain: \u001b[0mWARNING  C:\\Users\\aaron\\Documents\\Ao4\\TFG\\CityScapesWithPanopticSegm\\dataset\\images\\train\\aachen_000062_000019_gtFine_polygons.png: 8 duplicate labels removed\n",
      "\u001b[34m\u001b[1mtrain: \u001b[0mWARNING  C:\\Users\\aaron\\Documents\\Ao4\\TFG\\CityScapesWithPanopticSegm\\dataset\\images\\train\\aachen_000064_000019_gtFine_polygons.png: 1 duplicate labels removed\n",
      "\u001b[34m\u001b[1mtrain: \u001b[0mWARNING  C:\\Users\\aaron\\Documents\\Ao4\\TFG\\CityScapesWithPanopticSegm\\dataset\\images\\train\\aachen_000070_000019_gtFine_polygons.png: 2 duplicate labels removed\n",
      "\u001b[34m\u001b[1mtrain: \u001b[0mWARNING  C:\\Users\\aaron\\Documents\\Ao4\\TFG\\CityScapesWithPanopticSegm\\dataset\\images\\train\\aachen_000072_000019_gtFine_polygons.png: 1 duplicate labels removed\n",
      "\u001b[34m\u001b[1mtrain: \u001b[0mWARNING  C:\\Users\\aaron\\Documents\\Ao4\\TFG\\CityScapesWithPanopticSegm\\dataset\\images\\train\\aachen_000078_000019_gtFine_polygons.png: 3 duplicate labels removed\n",
      "\u001b[34m\u001b[1mtrain: \u001b[0mWARNING  C:\\Users\\aaron\\Documents\\Ao4\\TFG\\CityScapesWithPanopticSegm\\dataset\\images\\train\\aachen_000079_000019_gtFine_polygons.png: 7 duplicate labels removed\n",
      "\u001b[34m\u001b[1mtrain: \u001b[0mWARNING  C:\\Users\\aaron\\Documents\\Ao4\\TFG\\CityScapesWithPanopticSegm\\dataset\\images\\train\\aachen_000080_000019_gtFine_polygons.png: 37 duplicate labels removed\n",
      "\u001b[34m\u001b[1mtrain: \u001b[0mWARNING  C:\\Users\\aaron\\Documents\\Ao4\\TFG\\CityScapesWithPanopticSegm\\dataset\\images\\train\\aachen_000090_000019_gtFine_polygons.png: 3 duplicate labels removed\n",
      "\u001b[34m\u001b[1mtrain: \u001b[0mWARNING  C:\\Users\\aaron\\Documents\\Ao4\\TFG\\CityScapesWithPanopticSegm\\dataset\\images\\train\\aachen_000092_000019_gtFine_polygons.png: 1 duplicate labels removed\n",
      "\u001b[34m\u001b[1mtrain: \u001b[0mWARNING  C:\\Users\\aaron\\Documents\\Ao4\\TFG\\CityScapesWithPanopticSegm\\dataset\\images\\train\\aachen_000095_000019_gtFine_polygons.png: 2 duplicate labels removed\n",
      "\u001b[34m\u001b[1mtrain: \u001b[0mWARNING  C:\\Users\\aaron\\Documents\\Ao4\\TFG\\CityScapesWithPanopticSegm\\dataset\\images\\train\\aachen_000096_000019_gtFine_polygons.png: 4 duplicate labels removed\n",
      "\u001b[34m\u001b[1mtrain: \u001b[0mWARNING  C:\\Users\\aaron\\Documents\\Ao4\\TFG\\CityScapesWithPanopticSegm\\dataset\\images\\train\\aachen_000098_000019_gtFine_polygons.png: 2 duplicate labels removed\n",
      "\u001b[34m\u001b[1mtrain: \u001b[0mWARNING  C:\\Users\\aaron\\Documents\\Ao4\\TFG\\CityScapesWithPanopticSegm\\dataset\\images\\train\\aachen_000152_000019_gtFine_polygons.png: 9 duplicate labels removed\n",
      "\u001b[34m\u001b[1mtrain: \u001b[0mWARNING  C:\\Users\\aaron\\Documents\\Ao4\\TFG\\CityScapesWithPanopticSegm\\dataset\\images\\train\\aachen_000153_000019_gtFine_polygons.png: 1 duplicate labels removed\n",
      "\u001b[34m\u001b[1mtrain: \u001b[0mWARNING  C:\\Users\\aaron\\Documents\\Ao4\\TFG\\CityScapesWithPanopticSegm\\dataset\\images\\train\\aachen_000155_000019_gtFine_polygons.png: 1 duplicate labels removed\n",
      "\u001b[34m\u001b[1mtrain: \u001b[0mWARNING  C:\\Users\\aaron\\Documents\\Ao4\\TFG\\CityScapesWithPanopticSegm\\dataset\\images\\train\\bochum_000000_000885_gtFine_polygons.png: 1 duplicate labels removed\n",
      "\u001b[34m\u001b[1mtrain: \u001b[0mWARNING  C:\\Users\\aaron\\Documents\\Ao4\\TFG\\CityScapesWithPanopticSegm\\dataset\\images\\train\\bochum_000000_004748_gtFine_polygons.png: 1 duplicate labels removed\n",
      "\u001b[34m\u001b[1mtrain: \u001b[0mWARNING  C:\\Users\\aaron\\Documents\\Ao4\\TFG\\CityScapesWithPanopticSegm\\dataset\\images\\train\\bochum_000000_007651_gtFine_polygons.png: 2 duplicate labels removed\n",
      "\u001b[34m\u001b[1mtrain: \u001b[0mWARNING  C:\\Users\\aaron\\Documents\\Ao4\\TFG\\CityScapesWithPanopticSegm\\dataset\\images\\train\\bochum_000000_013209_gtFine_polygons.png: 1 duplicate labels removed\n",
      "\u001b[34m\u001b[1mtrain: \u001b[0mWARNING  C:\\Users\\aaron\\Documents\\Ao4\\TFG\\CityScapesWithPanopticSegm\\dataset\\images\\train\\bochum_000000_017453_gtFine_polygons.png: 1 duplicate labels removed\n",
      "\u001b[34m\u001b[1mtrain: \u001b[0mWARNING  C:\\Users\\aaron\\Documents\\Ao4\\TFG\\CityScapesWithPanopticSegm\\dataset\\images\\train\\bochum_000000_033714_gtFine_polygons.png: 1 duplicate labels removed\n",
      "\u001b[34m\u001b[1mtrain: \u001b[0mWARNING  C:\\Users\\aaron\\Documents\\Ao4\\TFG\\CityScapesWithPanopticSegm\\dataset\\images\\train\\bochum_000000_036606_gtFine_polygons.png: 1 duplicate labels removed\n",
      "\u001b[34m\u001b[1mtrain: \u001b[0mWARNING  C:\\Users\\aaron\\Documents\\Ao4\\TFG\\CityScapesWithPanopticSegm\\dataset\\images\\train\\bremen_000021_000019_gtFine_polygons.png: 1 duplicate labels removed\n",
      "\u001b[34m\u001b[1mtrain: \u001b[0mWARNING  C:\\Users\\aaron\\Documents\\Ao4\\TFG\\CityScapesWithPanopticSegm\\dataset\\images\\train\\bremen_000060_000019_gtFine_polygons.png: 1 duplicate labels removed\n",
      "\u001b[34m\u001b[1mtrain: \u001b[0mWARNING  C:\\Users\\aaron\\Documents\\Ao4\\TFG\\CityScapesWithPanopticSegm\\dataset\\images\\train\\bremen_000099_000019_gtFine_polygons.png: 1 duplicate labels removed\n",
      "\u001b[34m\u001b[1mtrain: \u001b[0mWARNING  C:\\Users\\aaron\\Documents\\Ao4\\TFG\\CityScapesWithPanopticSegm\\dataset\\images\\train\\bremen_000111_000019_gtFine_polygons.png: ignoring corrupt image/label: non-normalized or out of bounds coordinates [     1.0005]\n",
      "\u001b[34m\u001b[1mtrain: \u001b[0mWARNING  C:\\Users\\aaron\\Documents\\Ao4\\TFG\\CityScapesWithPanopticSegm\\dataset\\images\\train\\bremen_000118_000019_gtFine_polygons.png: ignoring corrupt image/label: non-normalized or out of bounds coordinates [      1.001]\n",
      "\u001b[34m\u001b[1mtrain: \u001b[0mWARNING  C:\\Users\\aaron\\Documents\\Ao4\\TFG\\CityScapesWithPanopticSegm\\dataset\\images\\train\\bremen_000121_000019_gtFine_polygons.png: ignoring corrupt image/label: non-normalized or out of bounds coordinates [      1.001]\n",
      "\u001b[34m\u001b[1mtrain: \u001b[0mWARNING  C:\\Users\\aaron\\Documents\\Ao4\\TFG\\CityScapesWithPanopticSegm\\dataset\\images\\train\\bremen_000123_000019_gtFine_polygons.png: ignoring corrupt image/label: non-normalized or out of bounds coordinates [     1.0005]\n",
      "\u001b[34m\u001b[1mtrain: \u001b[0mWARNING  C:\\Users\\aaron\\Documents\\Ao4\\TFG\\CityScapesWithPanopticSegm\\dataset\\images\\train\\bremen_000124_000019_gtFine_polygons.png: ignoring corrupt image/label: non-normalized or out of bounds coordinates [     1.0005]\n",
      "\u001b[34m\u001b[1mtrain: \u001b[0mWARNING  C:\\Users\\aaron\\Documents\\Ao4\\TFG\\CityScapesWithPanopticSegm\\dataset\\images\\train\\bremen_000126_000019_gtFine_polygons.png: ignoring corrupt image/label: non-normalized or out of bounds coordinates [      1.001]\n",
      "\u001b[34m\u001b[1mtrain: \u001b[0mWARNING  C:\\Users\\aaron\\Documents\\Ao4\\TFG\\CityScapesWithPanopticSegm\\dataset\\images\\train\\bremen_000128_000019_gtFine_polygons.png: ignoring corrupt image/label: non-normalized or out of bounds coordinates [     1.0005]\n",
      "\u001b[34m\u001b[1mtrain: \u001b[0mWARNING  C:\\Users\\aaron\\Documents\\Ao4\\TFG\\CityScapesWithPanopticSegm\\dataset\\images\\train\\bremen_000129_000019_gtFine_polygons.png: ignoring corrupt image/label: non-normalized or out of bounds coordinates [     1.0005]\n",
      "\u001b[34m\u001b[1mtrain: \u001b[0mWARNING  C:\\Users\\aaron\\Documents\\Ao4\\TFG\\CityScapesWithPanopticSegm\\dataset\\images\\train\\bremen_000130_000019_gtFine_polygons.png: ignoring corrupt image/label: non-normalized or out of bounds coordinates [      1.001]\n",
      "\u001b[34m\u001b[1mtrain: \u001b[0mWARNING  C:\\Users\\aaron\\Documents\\Ao4\\TFG\\CityScapesWithPanopticSegm\\dataset\\images\\train\\bremen_000132_000019_gtFine_polygons.png: ignoring corrupt image/label: non-normalized or out of bounds coordinates [      1.001]\n",
      "\u001b[34m\u001b[1mtrain: \u001b[0mWARNING  C:\\Users\\aaron\\Documents\\Ao4\\TFG\\CityScapesWithPanopticSegm\\dataset\\images\\train\\bremen_000133_000019_gtFine_polygons.png: ignoring corrupt image/label: non-normalized or out of bounds coordinates [      1.001]\n",
      "\u001b[34m\u001b[1mtrain: \u001b[0mWARNING  C:\\Users\\aaron\\Documents\\Ao4\\TFG\\CityScapesWithPanopticSegm\\dataset\\images\\train\\bremen_000135_000019_gtFine_polygons.png: ignoring corrupt image/label: non-normalized or out of bounds coordinates [     1.0005]\n",
      "\u001b[34m\u001b[1mtrain: \u001b[0mWARNING  C:\\Users\\aaron\\Documents\\Ao4\\TFG\\CityScapesWithPanopticSegm\\dataset\\images\\train\\bremen_000241_000019_gtFine_polygons.png: 1 duplicate labels removed\n",
      "\u001b[34m\u001b[1mtrain: \u001b[0mWARNING  C:\\Users\\aaron\\Documents\\Ao4\\TFG\\CityScapesWithPanopticSegm\\dataset\\images\\train\\cologne_000004_000019_gtFine_polygons.png: 1 duplicate labels removed\n",
      "\u001b[34m\u001b[1mtrain: \u001b[0mWARNING  C:\\Users\\aaron\\Documents\\Ao4\\TFG\\CityScapesWithPanopticSegm\\dataset\\images\\train\\cologne_000006_000019_gtFine_polygons.png: 1 duplicate labels removed\n",
      "\u001b[34m\u001b[1mtrain: \u001b[0mWARNING  C:\\Users\\aaron\\Documents\\Ao4\\TFG\\CityScapesWithPanopticSegm\\dataset\\images\\train\\cologne_000007_000019_gtFine_polygons.png: 2 duplicate labels removed\n",
      "\u001b[34m\u001b[1mtrain: \u001b[0mWARNING  C:\\Users\\aaron\\Documents\\Ao4\\TFG\\CityScapesWithPanopticSegm\\dataset\\images\\train\\cologne_000009_000019_gtFine_polygons.png: 1 duplicate labels removed\n",
      "\u001b[34m\u001b[1mtrain: \u001b[0mWARNING  C:\\Users\\aaron\\Documents\\Ao4\\TFG\\CityScapesWithPanopticSegm\\dataset\\images\\train\\cologne_000012_000019_gtFine_polygons.png: 3 duplicate labels removed\n",
      "\u001b[34m\u001b[1mtrain: \u001b[0mWARNING  C:\\Users\\aaron\\Documents\\Ao4\\TFG\\CityScapesWithPanopticSegm\\dataset\\images\\train\\cologne_000018_000019_gtFine_polygons.png: 5 duplicate labels removed\n",
      "\u001b[34m\u001b[1mtrain: \u001b[0mWARNING  C:\\Users\\aaron\\Documents\\Ao4\\TFG\\CityScapesWithPanopticSegm\\dataset\\images\\train\\cologne_000019_000019_gtFine_polygons.png: 2 duplicate labels removed\n",
      "\u001b[34m\u001b[1mtrain: \u001b[0mWARNING  C:\\Users\\aaron\\Documents\\Ao4\\TFG\\CityScapesWithPanopticSegm\\dataset\\images\\train\\cologne_000021_000019_gtFine_polygons.png: 1 duplicate labels removed\n",
      "\u001b[34m\u001b[1mtrain: \u001b[0mWARNING  C:\\Users\\aaron\\Documents\\Ao4\\TFG\\CityScapesWithPanopticSegm\\dataset\\images\\train\\cologne_000040_000019_gtFine_polygons.png: 1 duplicate labels removed\n",
      "\u001b[34m\u001b[1mtrain: \u001b[0mWARNING  C:\\Users\\aaron\\Documents\\Ao4\\TFG\\CityScapesWithPanopticSegm\\dataset\\images\\train\\cologne_000053_000019_gtFine_polygons.png: 1 duplicate labels removed\n",
      "\u001b[34m\u001b[1mtrain: \u001b[0mWARNING  C:\\Users\\aaron\\Documents\\Ao4\\TFG\\CityScapesWithPanopticSegm\\dataset\\images\\train\\cologne_000056_000019_gtFine_polygons.png: 1 duplicate labels removed\n",
      "\u001b[34m\u001b[1mtrain: \u001b[0mWARNING  C:\\Users\\aaron\\Documents\\Ao4\\TFG\\CityScapesWithPanopticSegm\\dataset\\images\\train\\cologne_000057_000019_gtFine_polygons.png: 1 duplicate labels removed\n",
      "\u001b[34m\u001b[1mtrain: \u001b[0mWARNING  C:\\Users\\aaron\\Documents\\Ao4\\TFG\\CityScapesWithPanopticSegm\\dataset\\images\\train\\cologne_000061_000019_gtFine_polygons.png: 1 duplicate labels removed\n",
      "\u001b[34m\u001b[1mtrain: \u001b[0mWARNING  C:\\Users\\aaron\\Documents\\Ao4\\TFG\\CityScapesWithPanopticSegm\\dataset\\images\\train\\cologne_000090_000019_gtFine_polygons.png: 1 duplicate labels removed\n",
      "\u001b[34m\u001b[1mtrain: \u001b[0mWARNING  C:\\Users\\aaron\\Documents\\Ao4\\TFG\\CityScapesWithPanopticSegm\\dataset\\images\\train\\cologne_000092_000019_gtFine_polygons.png: 3 duplicate labels removed\n",
      "\u001b[34m\u001b[1mtrain: \u001b[0mWARNING  C:\\Users\\aaron\\Documents\\Ao4\\TFG\\CityScapesWithPanopticSegm\\dataset\\images\\train\\cologne_000111_000019_gtFine_polygons.png: 1 duplicate labels removed\n",
      "\u001b[34m\u001b[1mtrain: \u001b[0mWARNING  C:\\Users\\aaron\\Documents\\Ao4\\TFG\\CityScapesWithPanopticSegm\\dataset\\images\\train\\darmstadt_000002_000019_gtFine_polygons.png: 2 duplicate labels removed\n",
      "\u001b[34m\u001b[1mtrain: \u001b[0mWARNING  C:\\Users\\aaron\\Documents\\Ao4\\TFG\\CityScapesWithPanopticSegm\\dataset\\images\\train\\darmstadt_000004_000019_gtFine_polygons.png: 1 duplicate labels removed\n",
      "\u001b[34m\u001b[1mtrain: \u001b[0mWARNING  C:\\Users\\aaron\\Documents\\Ao4\\TFG\\CityScapesWithPanopticSegm\\dataset\\images\\train\\darmstadt_000014_000019_gtFine_polygons.png: 1 duplicate labels removed\n",
      "\u001b[34m\u001b[1mtrain: \u001b[0mWARNING  C:\\Users\\aaron\\Documents\\Ao4\\TFG\\CityScapesWithPanopticSegm\\dataset\\images\\train\\darmstadt_000015_000019_gtFine_polygons.png: 1 duplicate labels removed\n",
      "\u001b[34m\u001b[1mtrain: \u001b[0mWARNING  C:\\Users\\aaron\\Documents\\Ao4\\TFG\\CityScapesWithPanopticSegm\\dataset\\images\\train\\darmstadt_000021_000019_gtFine_polygons.png: 1 duplicate labels removed\n",
      "\u001b[34m\u001b[1mtrain: \u001b[0mWARNING  C:\\Users\\aaron\\Documents\\Ao4\\TFG\\CityScapesWithPanopticSegm\\dataset\\images\\train\\darmstadt_000026_000019_gtFine_polygons.png: 2 duplicate labels removed\n",
      "\u001b[34m\u001b[1mtrain: \u001b[0mWARNING  C:\\Users\\aaron\\Documents\\Ao4\\TFG\\CityScapesWithPanopticSegm\\dataset\\images\\train\\darmstadt_000036_000019_gtFine_polygons.png: 1 duplicate labels removed\n",
      "\u001b[34m\u001b[1mtrain: \u001b[0mWARNING  C:\\Users\\aaron\\Documents\\Ao4\\TFG\\CityScapesWithPanopticSegm\\dataset\\images\\train\\darmstadt_000046_000019_gtFine_polygons.png: 1 duplicate labels removed\n",
      "\u001b[34m\u001b[1mtrain: \u001b[0mWARNING  C:\\Users\\aaron\\Documents\\Ao4\\TFG\\CityScapesWithPanopticSegm\\dataset\\images\\train\\darmstadt_000061_000019_gtFine_polygons.png: 1 duplicate labels removed\n",
      "\u001b[34m\u001b[1mtrain: \u001b[0mWARNING  C:\\Users\\aaron\\Documents\\Ao4\\TFG\\CityScapesWithPanopticSegm\\dataset\\images\\train\\darmstadt_000083_000019_gtFine_polygons.png: 1 duplicate labels removed\n",
      "\u001b[34m\u001b[1mtrain: \u001b[0mWARNING  C:\\Users\\aaron\\Documents\\Ao4\\TFG\\CityScapesWithPanopticSegm\\dataset\\images\\train\\dusseldorf_000057_000019_gtFine_polygons.png: ignoring corrupt image/label: non-normalized or out of bounds coordinates [     1.0005]\n",
      "\u001b[34m\u001b[1mtrain: \u001b[0mWARNING  C:\\Users\\aaron\\Documents\\Ao4\\TFG\\CityScapesWithPanopticSegm\\dataset\\images\\train\\dusseldorf_000068_000019_gtFine_polygons.png: ignoring corrupt image/label: non-normalized or out of bounds coordinates [     1.0005]\n",
      "\u001b[34m\u001b[1mtrain: \u001b[0mWARNING  C:\\Users\\aaron\\Documents\\Ao4\\TFG\\CityScapesWithPanopticSegm\\dataset\\images\\train\\dusseldorf_000075_000019_gtFine_polygons.png: ignoring corrupt image/label: non-normalized or out of bounds coordinates [      1.001]\n",
      "\u001b[34m\u001b[1mtrain: \u001b[0mWARNING  C:\\Users\\aaron\\Documents\\Ao4\\TFG\\CityScapesWithPanopticSegm\\dataset\\images\\train\\dusseldorf_000088_000019_gtFine_polygons.png: ignoring corrupt image/label: non-normalized or out of bounds coordinates [     1.0005]\n",
      "\u001b[34m\u001b[1mtrain: \u001b[0mWARNING  C:\\Users\\aaron\\Documents\\Ao4\\TFG\\CityScapesWithPanopticSegm\\dataset\\images\\train\\dusseldorf_000090_000019_gtFine_polygons.png: ignoring corrupt image/label: non-normalized or out of bounds coordinates [     1.0005]\n",
      "\u001b[34m\u001b[1mtrain: \u001b[0mWARNING  C:\\Users\\aaron\\Documents\\Ao4\\TFG\\CityScapesWithPanopticSegm\\dataset\\images\\train\\dusseldorf_000098_000019_gtFine_polygons.png: ignoring corrupt image/label: non-normalized or out of bounds coordinates [     1.0005]\n",
      "\u001b[34m\u001b[1mtrain: \u001b[0mWARNING  C:\\Users\\aaron\\Documents\\Ao4\\TFG\\CityScapesWithPanopticSegm\\dataset\\images\\train\\dusseldorf_000157_000019_gtFine_polygons.png: ignoring corrupt image/label: non-normalized or out of bounds coordinates [     1.0049]\n",
      "\u001b[34m\u001b[1mtrain: \u001b[0mWARNING  C:\\Users\\aaron\\Documents\\Ao4\\TFG\\CityScapesWithPanopticSegm\\dataset\\images\\train\\dusseldorf_000198_000019_gtFine_polygons.png: ignoring corrupt image/label: non-normalized or out of bounds coordinates [     1.0073]\n",
      "\u001b[34m\u001b[1mtrain: \u001b[0mWARNING  C:\\Users\\aaron\\Documents\\Ao4\\TFG\\CityScapesWithPanopticSegm\\dataset\\images\\train\\erfurt_000020_000019_gtFine_polygons.png: 1 duplicate labels removed\n",
      "\u001b[34m\u001b[1mtrain: \u001b[0mWARNING  C:\\Users\\aaron\\Documents\\Ao4\\TFG\\CityScapesWithPanopticSegm\\dataset\\images\\train\\hamburg_000000_019892_gtFine_polygons.png: 1 duplicate labels removed\n",
      "\u001b[34m\u001b[1mtrain: \u001b[0mWARNING  C:\\Users\\aaron\\Documents\\Ao4\\TFG\\CityScapesWithPanopticSegm\\dataset\\images\\train\\hamburg_000000_032906_gtFine_polygons.png: 1 duplicate labels removed\n",
      "\u001b[34m\u001b[1mtrain: \u001b[0mWARNING  C:\\Users\\aaron\\Documents\\Ao4\\TFG\\CityScapesWithPanopticSegm\\dataset\\images\\train\\hamburg_000000_033506_gtFine_polygons.png: 9 duplicate labels removed\n",
      "\u001b[34m\u001b[1mtrain: \u001b[0mWARNING  C:\\Users\\aaron\\Documents\\Ao4\\TFG\\CityScapesWithPanopticSegm\\dataset\\images\\train\\hamburg_000000_035568_gtFine_polygons.png: 1 duplicate labels removed\n",
      "\u001b[34m\u001b[1mtrain: \u001b[0mWARNING  C:\\Users\\aaron\\Documents\\Ao4\\TFG\\CityScapesWithPanopticSegm\\dataset\\images\\train\\hamburg_000000_039420_gtFine_polygons.png: 1 duplicate labels removed\n",
      "\u001b[34m\u001b[1mtrain: \u001b[0mWARNING  C:\\Users\\aaron\\Documents\\Ao4\\TFG\\CityScapesWithPanopticSegm\\dataset\\images\\train\\hamburg_000000_041667_gtFine_polygons.png: 1 duplicate labels removed\n",
      "\u001b[34m\u001b[1mtrain: \u001b[0mWARNING  C:\\Users\\aaron\\Documents\\Ao4\\TFG\\CityScapesWithPanopticSegm\\dataset\\images\\train\\hamburg_000000_053886_gtFine_polygons.png: 1 duplicate labels removed\n",
      "\u001b[34m\u001b[1mtrain: \u001b[0mWARNING  C:\\Users\\aaron\\Documents\\Ao4\\TFG\\CityScapesWithPanopticSegm\\dataset\\images\\train\\hamburg_000000_071016_gtFine_polygons.png: 1 duplicate labels removed\n",
      "\u001b[34m\u001b[1mtrain: \u001b[0mWARNING  C:\\Users\\aaron\\Documents\\Ao4\\TFG\\CityScapesWithPanopticSegm\\dataset\\images\\train\\hamburg_000000_080438_gtFine_polygons.png: 1 duplicate labels removed\n",
      "\u001b[34m\u001b[1mtrain: \u001b[0mWARNING  C:\\Users\\aaron\\Documents\\Ao4\\TFG\\CityScapesWithPanopticSegm\\dataset\\images\\train\\hanover_000000_012347_gtFine_polygons.png: 1 duplicate labels removed\n",
      "\u001b[34m\u001b[1mtrain: \u001b[0mWARNING  C:\\Users\\aaron\\Documents\\Ao4\\TFG\\CityScapesWithPanopticSegm\\dataset\\images\\train\\hanover_000000_014537_gtFine_polygons.png: 1 duplicate labels removed\n",
      "\u001b[34m\u001b[1mtrain: \u001b[0mWARNING  C:\\Users\\aaron\\Documents\\Ao4\\TFG\\CityScapesWithPanopticSegm\\dataset\\images\\train\\hanover_000000_015587_gtFine_polygons.png: 1 duplicate labels removed\n",
      "\u001b[34m\u001b[1mtrain: \u001b[0mWARNING  C:\\Users\\aaron\\Documents\\Ao4\\TFG\\CityScapesWithPanopticSegm\\dataset\\images\\train\\hanover_000000_018800_gtFine_polygons.png: 3 duplicate labels removed\n",
      "\u001b[34m\u001b[1mtrain: \u001b[0mWARNING  C:\\Users\\aaron\\Documents\\Ao4\\TFG\\CityScapesWithPanopticSegm\\dataset\\images\\train\\hanover_000000_019116_gtFine_polygons.png: 4 duplicate labels removed\n",
      "\u001b[34m\u001b[1mtrain: \u001b[0mWARNING  C:\\Users\\aaron\\Documents\\Ao4\\TFG\\CityScapesWithPanopticSegm\\dataset\\images\\train\\hanover_000000_019282_gtFine_polygons.png: 2 duplicate labels removed\n",
      "\u001b[34m\u001b[1mtrain: \u001b[0mWARNING  C:\\Users\\aaron\\Documents\\Ao4\\TFG\\CityScapesWithPanopticSegm\\dataset\\images\\train\\hanover_000000_019456_gtFine_polygons.png: 1 duplicate labels removed\n",
      "\u001b[34m\u001b[1mtrain: \u001b[0mWARNING  C:\\Users\\aaron\\Documents\\Ao4\\TFG\\CityScapesWithPanopticSegm\\dataset\\images\\train\\hanover_000000_019672_gtFine_polygons.png: 1 duplicate labels removed\n",
      "\u001b[34m\u001b[1mtrain: \u001b[0mWARNING  C:\\Users\\aaron\\Documents\\Ao4\\TFG\\CityScapesWithPanopticSegm\\dataset\\images\\train\\hanover_000000_022645_gtFine_polygons.png: 4 duplicate labels removed\n",
      "\u001b[34m\u001b[1mtrain: \u001b[0mWARNING  C:\\Users\\aaron\\Documents\\Ao4\\TFG\\CityScapesWithPanopticSegm\\dataset\\images\\train\\hanover_000000_026356_gtFine_polygons.png: 1 duplicate labels removed\n",
      "\u001b[34m\u001b[1mtrain: \u001b[0mWARNING  C:\\Users\\aaron\\Documents\\Ao4\\TFG\\CityScapesWithPanopticSegm\\dataset\\images\\train\\hanover_000000_034015_gtFine_polygons.png: 2 duplicate labels removed\n",
      "\u001b[34m\u001b[1mtrain: \u001b[0mWARNING  C:\\Users\\aaron\\Documents\\Ao4\\TFG\\CityScapesWithPanopticSegm\\dataset\\images\\train\\hanover_000000_034141_gtFine_polygons.png: 2 duplicate labels removed\n",
      "\u001b[34m\u001b[1mtrain: \u001b[0mWARNING  C:\\Users\\aaron\\Documents\\Ao4\\TFG\\CityScapesWithPanopticSegm\\dataset\\images\\train\\hanover_000000_036051_gtFine_polygons.png: 1 duplicate labels removed\n",
      "\u001b[34m\u001b[1mtrain: \u001b[0mWARNING  C:\\Users\\aaron\\Documents\\Ao4\\TFG\\CityScapesWithPanopticSegm\\dataset\\images\\train\\hanover_000000_047499_gtFine_polygons.png: 1 duplicate labels removed\n",
      "\u001b[34m\u001b[1mtrain: \u001b[0mWARNING  C:\\Users\\aaron\\Documents\\Ao4\\TFG\\CityScapesWithPanopticSegm\\dataset\\images\\train\\hanover_000000_047870_gtFine_polygons.png: 1 duplicate labels removed\n",
      "\u001b[34m\u001b[1mtrain: \u001b[0mWARNING  C:\\Users\\aaron\\Documents\\Ao4\\TFG\\CityScapesWithPanopticSegm\\dataset\\images\\train\\hanover_000000_051152_gtFine_polygons.png: 2 duplicate labels removed\n",
      "\u001b[34m\u001b[1mtrain: \u001b[0mWARNING  C:\\Users\\aaron\\Documents\\Ao4\\TFG\\CityScapesWithPanopticSegm\\dataset\\images\\train\\hanover_000000_051536_gtFine_polygons.png: 2 duplicate labels removed\n",
      "\u001b[34m\u001b[1mtrain: \u001b[0mWARNING  C:\\Users\\aaron\\Documents\\Ao4\\TFG\\CityScapesWithPanopticSegm\\dataset\\images\\train\\hanover_000000_052512_gtFine_polygons.png: 1 duplicate labels removed\n",
      "\u001b[34m\u001b[1mtrain: \u001b[0mWARNING  C:\\Users\\aaron\\Documents\\Ao4\\TFG\\CityScapesWithPanopticSegm\\dataset\\images\\train\\hanover_000000_053027_gtFine_polygons.png: 1 duplicate labels removed\n",
      "\u001b[34m\u001b[1mtrain: \u001b[0mWARNING  C:\\Users\\aaron\\Documents\\Ao4\\TFG\\CityScapesWithPanopticSegm\\dataset\\images\\train\\hanover_000000_056800_gtFine_polygons.png: 1 duplicate labels removed\n",
      "\u001b[34m\u001b[1mtrain: \u001b[0mWARNING  C:\\Users\\aaron\\Documents\\Ao4\\TFG\\CityScapesWithPanopticSegm\\dataset\\images\\train\\jena_000059_000019_gtFine_polygons.png: ignoring corrupt image/label: non-normalized or out of bounds coordinates [     1.0005]\n",
      "\u001b[34m\u001b[1mtrain: \u001b[0mWARNING  C:\\Users\\aaron\\Documents\\Ao4\\TFG\\CityScapesWithPanopticSegm\\dataset\\images\\train\\krefeld_000000_004608_gtFine_polygons.png: 2 duplicate labels removed\n",
      "\u001b[34m\u001b[1mtrain: \u001b[0mWARNING  C:\\Users\\aaron\\Documents\\Ao4\\TFG\\CityScapesWithPanopticSegm\\dataset\\images\\train\\krefeld_000000_011655_gtFine_polygons.png: 1 duplicate labels removed\n",
      "\u001b[34m\u001b[1mtrain: \u001b[0mWARNING  C:\\Users\\aaron\\Documents\\Ao4\\TFG\\CityScapesWithPanopticSegm\\dataset\\images\\train\\krefeld_000000_013766_gtFine_polygons.png: 1 duplicate labels removed\n",
      "\u001b[34m\u001b[1mtrain: \u001b[0mWARNING  C:\\Users\\aaron\\Documents\\Ao4\\TFG\\CityScapesWithPanopticSegm\\dataset\\images\\train\\krefeld_000000_020933_gtFine_polygons.png: 1 duplicate labels removed\n",
      "\u001b[34m\u001b[1mtrain: \u001b[0mWARNING  C:\\Users\\aaron\\Documents\\Ao4\\TFG\\CityScapesWithPanopticSegm\\dataset\\images\\train\\strasbourg_000000_013654_gtFine_polygons.png: 1 duplicate labels removed\n",
      "\u001b[34m\u001b[1mtrain: \u001b[0mWARNING  C:\\Users\\aaron\\Documents\\Ao4\\TFG\\CityScapesWithPanopticSegm\\dataset\\images\\train\\strasbourg_000000_014503_gtFine_polygons.png: 1 duplicate labels removed\n",
      "\u001b[34m\u001b[1mtrain: \u001b[0mWARNING  C:\\Users\\aaron\\Documents\\Ao4\\TFG\\CityScapesWithPanopticSegm\\dataset\\images\\train\\strasbourg_000001_030539_gtFine_polygons.png: 1 duplicate labels removed\n",
      "\u001b[34m\u001b[1mtrain: \u001b[0mWARNING  C:\\Users\\aaron\\Documents\\Ao4\\TFG\\CityScapesWithPanopticSegm\\dataset\\images\\train\\strasbourg_000001_030997_gtFine_polygons.png: 1 duplicate labels removed\n",
      "\u001b[34m\u001b[1mtrain: \u001b[0mWARNING  C:\\Users\\aaron\\Documents\\Ao4\\TFG\\CityScapesWithPanopticSegm\\dataset\\images\\train\\strasbourg_000001_031582_gtFine_polygons.png: 1 duplicate labels removed\n",
      "\u001b[34m\u001b[1mtrain: \u001b[0mWARNING  C:\\Users\\aaron\\Documents\\Ao4\\TFG\\CityScapesWithPanopticSegm\\dataset\\images\\train\\strasbourg_000001_051317_gtFine_polygons.png: 1 duplicate labels removed\n",
      "\u001b[34m\u001b[1mtrain: \u001b[0mWARNING  C:\\Users\\aaron\\Documents\\Ao4\\TFG\\CityScapesWithPanopticSegm\\dataset\\images\\train\\strasbourg_000001_052050_gtFine_polygons.png: 1 duplicate labels removed\n",
      "\u001b[34m\u001b[1mtrain: \u001b[0mWARNING  C:\\Users\\aaron\\Documents\\Ao4\\TFG\\CityScapesWithPanopticSegm\\dataset\\images\\train\\strasbourg_000001_058373_gtFine_polygons.png: 14 duplicate labels removed\n",
      "\u001b[34m\u001b[1mtrain: \u001b[0mWARNING  C:\\Users\\aaron\\Documents\\Ao4\\TFG\\CityScapesWithPanopticSegm\\dataset\\images\\train\\strasbourg_000001_058954_gtFine_polygons.png: 1 duplicate labels removed\n",
      "\u001b[34m\u001b[1mtrain: \u001b[0mWARNING  C:\\Users\\aaron\\Documents\\Ao4\\TFG\\CityScapesWithPanopticSegm\\dataset\\images\\train\\strasbourg_000001_062691_gtFine_polygons.png: 1 duplicate labels removed\n",
      "\u001b[34m\u001b[1mtrain: \u001b[0mWARNING  C:\\Users\\aaron\\Documents\\Ao4\\TFG\\CityScapesWithPanopticSegm\\dataset\\images\\train\\strasbourg_000001_064224_gtFine_polygons.png: 2 duplicate labels removed\n",
      "\u001b[34m\u001b[1mtrain: \u001b[0mWARNING  C:\\Users\\aaron\\Documents\\Ao4\\TFG\\CityScapesWithPanopticSegm\\dataset\\images\\train\\strasbourg_000001_064393_gtFine_polygons.png: 1 duplicate labels removed\n",
      "\u001b[34m\u001b[1mtrain: \u001b[0mWARNING  C:\\Users\\aaron\\Documents\\Ao4\\TFG\\CityScapesWithPanopticSegm\\dataset\\images\\train\\stuttgart_000002_000019_gtFine_polygons.png: ignoring corrupt image/label: non-normalized or out of bounds coordinates [     1.0005]\n",
      "\u001b[34m\u001b[1mtrain: \u001b[0mWARNING  C:\\Users\\aaron\\Documents\\Ao4\\TFG\\CityScapesWithPanopticSegm\\dataset\\images\\train\\stuttgart_000005_000019_gtFine_polygons.png: ignoring corrupt image/label: non-normalized or out of bounds coordinates [      1.001]\n",
      "\u001b[34m\u001b[1mtrain: \u001b[0mWARNING  C:\\Users\\aaron\\Documents\\Ao4\\TFG\\CityScapesWithPanopticSegm\\dataset\\images\\train\\stuttgart_000006_000019_gtFine_polygons.png: 1 duplicate labels removed\n",
      "\u001b[34m\u001b[1mtrain: \u001b[0mWARNING  C:\\Users\\aaron\\Documents\\Ao4\\TFG\\CityScapesWithPanopticSegm\\dataset\\images\\train\\stuttgart_000068_000019_gtFine_polygons.png: 1 duplicate labels removed\n",
      "\u001b[34m\u001b[1mtrain: \u001b[0mWARNING  C:\\Users\\aaron\\Documents\\Ao4\\TFG\\CityScapesWithPanopticSegm\\dataset\\images\\train\\stuttgart_000109_000019_gtFine_polygons.png: 1 duplicate labels removed\n",
      "\u001b[34m\u001b[1mtrain: \u001b[0mWARNING  C:\\Users\\aaron\\Documents\\Ao4\\TFG\\CityScapesWithPanopticSegm\\dataset\\images\\train\\stuttgart_000120_000019_gtFine_polygons.png: 2 duplicate labels removed\n",
      "\u001b[34m\u001b[1mtrain: \u001b[0mWARNING  C:\\Users\\aaron\\Documents\\Ao4\\TFG\\CityScapesWithPanopticSegm\\dataset\\images\\train\\stuttgart_000168_000019_gtFine_polygons.png: 1 duplicate labels removed\n",
      "\u001b[34m\u001b[1mtrain: \u001b[0mWARNING  C:\\Users\\aaron\\Documents\\Ao4\\TFG\\CityScapesWithPanopticSegm\\dataset\\images\\train\\stuttgart_000175_000019_gtFine_polygons.png: 2 duplicate labels removed\n",
      "\u001b[34m\u001b[1mtrain: \u001b[0mWARNING  C:\\Users\\aaron\\Documents\\Ao4\\TFG\\CityScapesWithPanopticSegm\\dataset\\images\\train\\stuttgart_000184_000019_gtFine_polygons.png: 2 duplicate labels removed\n",
      "\u001b[34m\u001b[1mtrain: \u001b[0mWARNING  C:\\Users\\aaron\\Documents\\Ao4\\TFG\\CityScapesWithPanopticSegm\\dataset\\images\\train\\tubingen_000008_000019_gtFine_polygons.png: 1 duplicate labels removed\n",
      "\u001b[34m\u001b[1mtrain: \u001b[0mWARNING  C:\\Users\\aaron\\Documents\\Ao4\\TFG\\CityScapesWithPanopticSegm\\dataset\\images\\train\\tubingen_000089_000019_gtFine_polygons.png: 1 duplicate labels removed\n",
      "\u001b[34m\u001b[1mtrain: \u001b[0mWARNING  C:\\Users\\aaron\\Documents\\Ao4\\TFG\\CityScapesWithPanopticSegm\\dataset\\images\\train\\tubingen_000118_000019_gtFine_polygons.png: 6 duplicate labels removed\n",
      "\u001b[34m\u001b[1mtrain: \u001b[0mWARNING  C:\\Users\\aaron\\Documents\\Ao4\\TFG\\CityScapesWithPanopticSegm\\dataset\\images\\train\\ulm_000004_000019_gtFine_polygons.png: 2 duplicate labels removed\n",
      "\u001b[34m\u001b[1mtrain: \u001b[0mWARNING  C:\\Users\\aaron\\Documents\\Ao4\\TFG\\CityScapesWithPanopticSegm\\dataset\\images\\train\\ulm_000005_000019_gtFine_polygons.png: 4 duplicate labels removed\n",
      "\u001b[34m\u001b[1mtrain: \u001b[0mWARNING  C:\\Users\\aaron\\Documents\\Ao4\\TFG\\CityScapesWithPanopticSegm\\dataset\\images\\train\\ulm_000006_000019_gtFine_polygons.png: 8 duplicate labels removed\n",
      "\u001b[34m\u001b[1mtrain: \u001b[0mWARNING  C:\\Users\\aaron\\Documents\\Ao4\\TFG\\CityScapesWithPanopticSegm\\dataset\\images\\train\\ulm_000011_000019_gtFine_polygons.png: 1 duplicate labels removed\n",
      "\u001b[34m\u001b[1mtrain: \u001b[0mWARNING  C:\\Users\\aaron\\Documents\\Ao4\\TFG\\CityScapesWithPanopticSegm\\dataset\\images\\train\\ulm_000012_000019_gtFine_polygons.png: 2 duplicate labels removed\n",
      "\u001b[34m\u001b[1mtrain: \u001b[0mWARNING  C:\\Users\\aaron\\Documents\\Ao4\\TFG\\CityScapesWithPanopticSegm\\dataset\\images\\train\\ulm_000013_000019_gtFine_polygons.png: 2 duplicate labels removed\n",
      "\u001b[34m\u001b[1mtrain: \u001b[0mWARNING  C:\\Users\\aaron\\Documents\\Ao4\\TFG\\CityScapesWithPanopticSegm\\dataset\\images\\train\\ulm_000017_000019_gtFine_polygons.png: 2 duplicate labels removed\n",
      "\u001b[34m\u001b[1mtrain: \u001b[0mWARNING  C:\\Users\\aaron\\Documents\\Ao4\\TFG\\CityScapesWithPanopticSegm\\dataset\\images\\train\\ulm_000024_000019_gtFine_polygons.png: 2 duplicate labels removed\n",
      "\u001b[34m\u001b[1mtrain: \u001b[0mWARNING  C:\\Users\\aaron\\Documents\\Ao4\\TFG\\CityScapesWithPanopticSegm\\dataset\\images\\train\\ulm_000025_000019_gtFine_polygons.png: 3 duplicate labels removed\n",
      "\u001b[34m\u001b[1mtrain: \u001b[0mWARNING  C:\\Users\\aaron\\Documents\\Ao4\\TFG\\CityScapesWithPanopticSegm\\dataset\\images\\train\\ulm_000037_000019_gtFine_polygons.png: 1 duplicate labels removed\n",
      "\u001b[34m\u001b[1mtrain: \u001b[0mWARNING  C:\\Users\\aaron\\Documents\\Ao4\\TFG\\CityScapesWithPanopticSegm\\dataset\\images\\train\\ulm_000056_000019_gtFine_polygons.png: 2 duplicate labels removed\n",
      "\u001b[34m\u001b[1mtrain: \u001b[0mWARNING  C:\\Users\\aaron\\Documents\\Ao4\\TFG\\CityScapesWithPanopticSegm\\dataset\\images\\train\\ulm_000058_000019_gtFine_polygons.png: 3 duplicate labels removed\n",
      "\u001b[34m\u001b[1mtrain: \u001b[0mWARNING  C:\\Users\\aaron\\Documents\\Ao4\\TFG\\CityScapesWithPanopticSegm\\dataset\\images\\train\\ulm_000067_000019_gtFine_polygons.png: 3 duplicate labels removed\n",
      "\u001b[34m\u001b[1mtrain: \u001b[0mWARNING  C:\\Users\\aaron\\Documents\\Ao4\\TFG\\CityScapesWithPanopticSegm\\dataset\\images\\train\\ulm_000068_000019_gtFine_polygons.png: 3 duplicate labels removed\n",
      "\u001b[34m\u001b[1mtrain: \u001b[0mWARNING  C:\\Users\\aaron\\Documents\\Ao4\\TFG\\CityScapesWithPanopticSegm\\dataset\\images\\train\\ulm_000069_000019_gtFine_polygons.png: 3 duplicate labels removed\n",
      "\u001b[34m\u001b[1mtrain: \u001b[0mWARNING  C:\\Users\\aaron\\Documents\\Ao4\\TFG\\CityScapesWithPanopticSegm\\dataset\\images\\train\\ulm_000078_000019_gtFine_polygons.png: 1 duplicate labels removed\n",
      "\u001b[34m\u001b[1mtrain: \u001b[0mWARNING  C:\\Users\\aaron\\Documents\\Ao4\\TFG\\CityScapesWithPanopticSegm\\dataset\\images\\train\\ulm_000079_000019_gtFine_polygons.png: 1 duplicate labels removed\n",
      "\u001b[34m\u001b[1mtrain: \u001b[0mWARNING  C:\\Users\\aaron\\Documents\\Ao4\\TFG\\CityScapesWithPanopticSegm\\dataset\\images\\train\\ulm_000084_000019_gtFine_polygons.png: 2 duplicate labels removed\n",
      "\u001b[34m\u001b[1mtrain: \u001b[0mWARNING  C:\\Users\\aaron\\Documents\\Ao4\\TFG\\CityScapesWithPanopticSegm\\dataset\\images\\train\\weimar_000013_000019_gtFine_polygons.png: ignoring corrupt image/label: non-normalized or out of bounds coordinates [      1.001]\n",
      "\u001b[34m\u001b[1mtrain: \u001b[0mWARNING  C:\\Users\\aaron\\Documents\\Ao4\\TFG\\CityScapesWithPanopticSegm\\dataset\\images\\train\\zurich_000002_000019_gtFine_polygons.png: ignoring corrupt image/label: non-normalized or out of bounds coordinates [     1.0005]\n",
      "\u001b[34m\u001b[1mtrain: \u001b[0mWARNING  C:\\Users\\aaron\\Documents\\Ao4\\TFG\\CityScapesWithPanopticSegm\\dataset\\images\\train\\zurich_000027_000019_gtFine_polygons.png: 1 duplicate labels removed\n",
      "\u001b[34m\u001b[1mtrain: \u001b[0mWARNING  C:\\Users\\aaron\\Documents\\Ao4\\TFG\\CityScapesWithPanopticSegm\\dataset\\images\\train\\zurich_000107_000019_gtFine_polygons.png: 1 duplicate labels removed\n"
     ]
    },
    {
     "name": "stderr",
     "output_type": "stream",
     "text": [
      "\n",
      "\u001b[34m\u001b[1mval: \u001b[0mScanning C:\\Users\\aaron\\Documents\\Año4\\TFG\\CityScapesWithPanopticSegm\\dataset\\labels\\val.cache... 500 images, 0 backgrounds, 5 corrupt: 100%|██████████| 500/500 [00:00<?, ?it/s]"
     ]
    },
    {
     "name": "stdout",
     "output_type": "stream",
     "text": [
      "\u001b[34m\u001b[1mval: \u001b[0mWARNING  C:\\Users\\aaron\\Documents\\Ao4\\TFG\\CityScapesWithPanopticSegm\\dataset\\images\\val\\frankfurt_000001_016273_gtFine_polygons.png: 1 duplicate labels removed\n",
      "\u001b[34m\u001b[1mval: \u001b[0mWARNING  C:\\Users\\aaron\\Documents\\Ao4\\TFG\\CityScapesWithPanopticSegm\\dataset\\images\\val\\frankfurt_000001_017101_gtFine_polygons.png: 1 duplicate labels removed\n",
      "\u001b[34m\u001b[1mval: \u001b[0mWARNING  C:\\Users\\aaron\\Documents\\Ao4\\TFG\\CityScapesWithPanopticSegm\\dataset\\images\\val\\frankfurt_000001_028232_gtFine_polygons.png: 1 duplicate labels removed\n",
      "\u001b[34m\u001b[1mval: \u001b[0mWARNING  C:\\Users\\aaron\\Documents\\Ao4\\TFG\\CityScapesWithPanopticSegm\\dataset\\images\\val\\frankfurt_000001_046272_gtFine_polygons.png: 1 duplicate labels removed\n",
      "\u001b[34m\u001b[1mval: \u001b[0mWARNING  C:\\Users\\aaron\\Documents\\Ao4\\TFG\\CityScapesWithPanopticSegm\\dataset\\images\\val\\frankfurt_000001_077434_gtFine_polygons.png: 1 duplicate labels removed\n",
      "\u001b[34m\u001b[1mval: \u001b[0mWARNING  C:\\Users\\aaron\\Documents\\Ao4\\TFG\\CityScapesWithPanopticSegm\\dataset\\images\\val\\lindau_000000_000019_gtFine_polygons.png: ignoring corrupt image/label: non-normalized or out of bounds coordinates [     1.0034]\n",
      "\u001b[34m\u001b[1mval: \u001b[0mWARNING  C:\\Users\\aaron\\Documents\\Ao4\\TFG\\CityScapesWithPanopticSegm\\dataset\\images\\val\\lindau_000013_000019_gtFine_polygons.png: ignoring corrupt image/label: non-normalized or out of bounds coordinates [     1.0005]\n",
      "\u001b[34m\u001b[1mval: \u001b[0mWARNING  C:\\Users\\aaron\\Documents\\Ao4\\TFG\\CityScapesWithPanopticSegm\\dataset\\images\\val\\lindau_000018_000019_gtFine_polygons.png: ignoring corrupt image/label: non-normalized or out of bounds coordinates [      1.001]\n",
      "\u001b[34m\u001b[1mval: \u001b[0mWARNING  C:\\Users\\aaron\\Documents\\Ao4\\TFG\\CityScapesWithPanopticSegm\\dataset\\images\\val\\munster_000026_000019_gtFine_polygons.png: 2 duplicate labels removed\n",
      "\u001b[34m\u001b[1mval: \u001b[0mWARNING  C:\\Users\\aaron\\Documents\\Ao4\\TFG\\CityScapesWithPanopticSegm\\dataset\\images\\val\\munster_000029_000019_gtFine_polygons.png: 1 duplicate labels removed\n",
      "\u001b[34m\u001b[1mval: \u001b[0mWARNING  C:\\Users\\aaron\\Documents\\Ao4\\TFG\\CityScapesWithPanopticSegm\\dataset\\images\\val\\munster_000035_000019_gtFine_polygons.png: ignoring corrupt image/label: non-normalized or out of bounds coordinates [     1.0005]\n",
      "\u001b[34m\u001b[1mval: \u001b[0mWARNING  C:\\Users\\aaron\\Documents\\Ao4\\TFG\\CityScapesWithPanopticSegm\\dataset\\images\\val\\munster_000045_000019_gtFine_polygons.png: ignoring corrupt image/label: non-normalized or out of bounds coordinates [     1.0005]\n",
      "\u001b[34m\u001b[1mval: \u001b[0mWARNING  C:\\Users\\aaron\\Documents\\Ao4\\TFG\\CityScapesWithPanopticSegm\\dataset\\images\\val\\munster_000049_000019_gtFine_polygons.png: 1 duplicate labels removed\n",
      "\u001b[34m\u001b[1mval: \u001b[0mWARNING  C:\\Users\\aaron\\Documents\\Ao4\\TFG\\CityScapesWithPanopticSegm\\dataset\\images\\val\\munster_000108_000019_gtFine_polygons.png: 1 duplicate labels removed\n",
      "\u001b[34m\u001b[1mval: \u001b[0mWARNING  C:\\Users\\aaron\\Documents\\Ao4\\TFG\\CityScapesWithPanopticSegm\\dataset\\images\\val\\munster_000140_000019_gtFine_polygons.png: 1 duplicate labels removed\n",
      "\u001b[34m\u001b[1mval: \u001b[0mWARNING  C:\\Users\\aaron\\Documents\\Ao4\\TFG\\CityScapesWithPanopticSegm\\dataset\\images\\val\\munster_000141_000019_gtFine_polygons.png: 1 duplicate labels removed\n",
      "\u001b[34m\u001b[1mval: \u001b[0mWARNING  C:\\Users\\aaron\\Documents\\Ao4\\TFG\\CityScapesWithPanopticSegm\\dataset\\images\\val\\munster_000142_000019_gtFine_polygons.png: 1 duplicate labels removed\n",
      "\u001b[34m\u001b[1mval: \u001b[0mWARNING  C:\\Users\\aaron\\Documents\\Ao4\\TFG\\CityScapesWithPanopticSegm\\dataset\\images\\val\\munster_000167_000019_gtFine_polygons.png: 1 duplicate labels removed\n"
     ]
    },
    {
     "name": "stderr",
     "output_type": "stream",
     "text": [
      "\n"
     ]
    },
    {
     "name": "stdout",
     "output_type": "stream",
     "text": [
      "Plotting labels to runs\\segment\\train57\\labels.jpg... \n",
      "\u001b[34m\u001b[1moptimizer:\u001b[0m 'optimizer=auto' found, ignoring 'lr0=0.001' and 'momentum=0.937' and determining best 'optimizer', 'lr0' and 'momentum' automatically... \n",
      "\u001b[34m\u001b[1moptimizer:\u001b[0m AdamW(lr=0.000588, momentum=0.9) with parameter groups 66 weight(decay=0.0), 77 weight(decay=0.0004), 76 bias(decay=0.0)\n",
      "Image sizes 640 train, 640 val\n",
      "Using 0 dataloader workers\n",
      "Logging results to \u001b[1mruns\\segment\\train57\u001b[0m\n",
      "Starting training for 15 epochs...\n",
      "\n",
      "      Epoch    GPU_mem   box_loss   seg_loss   cls_loss   dfl_loss  Instances       Size\n"
     ]
    },
    {
     "name": "stderr",
     "output_type": "stream",
     "text": [
      "       1/15      3.88G      1.987       3.93      2.051      1.619        885        640: 100%|██████████| 369/369 [13:11<00:00,  2.14s/it]\n",
      "                 Class     Images  Instances      Box(P          R      mAP50  mAP50-95)     Mask(P          R      mAP50  mAP50-95): 100%|██████████| 31/31 [00:54<00:00,  1.75s/it]\n"
     ]
    },
    {
     "name": "stdout",
     "output_type": "stream",
     "text": [
      "                   all        495      23219      0.507      0.354      0.358      0.211      0.458      0.316      0.304      0.149\n",
      "\n",
      "      Epoch    GPU_mem   box_loss   seg_loss   cls_loss   dfl_loss  Instances       Size\n"
     ]
    },
    {
     "name": "stderr",
     "output_type": "stream",
     "text": [
      "       2/15      5.01G      1.838      3.568      1.618      1.508        427        640: 100%|██████████| 369/369 [12:23<00:00,  2.01s/it]\n",
      "                 Class     Images  Instances      Box(P          R      mAP50  mAP50-95)     Mask(P          R      mAP50  mAP50-95): 100%|██████████| 31/31 [00:52<00:00,  1.69s/it]\n"
     ]
    },
    {
     "name": "stdout",
     "output_type": "stream",
     "text": [
      "                   all        495      23219      0.511      0.389      0.394      0.233      0.467      0.324      0.317      0.161\n",
      "\n",
      "      Epoch    GPU_mem   box_loss   seg_loss   cls_loss   dfl_loss  Instances       Size\n"
     ]
    },
    {
     "name": "stderr",
     "output_type": "stream",
     "text": [
      "       3/15      4.53G      1.802      3.489       1.54      1.482        414        640: 100%|██████████| 369/369 [12:27<00:00,  2.03s/it]\n",
      "                 Class     Images  Instances      Box(P          R      mAP50  mAP50-95)     Mask(P          R      mAP50  mAP50-95): 100%|██████████| 31/31 [00:53<00:00,  1.71s/it]\n"
     ]
    },
    {
     "name": "stdout",
     "output_type": "stream",
     "text": [
      "                   all        495      23219      0.499        0.4      0.398      0.241      0.438      0.342      0.323      0.168\n",
      "\n",
      "      Epoch    GPU_mem   box_loss   seg_loss   cls_loss   dfl_loss  Instances       Size\n"
     ]
    },
    {
     "name": "stderr",
     "output_type": "stream",
     "text": [
      "       4/15      4.13G      1.779      3.452      1.501      1.468        427        640: 100%|██████████| 369/369 [12:33<00:00,  2.04s/it]\n",
      "                 Class     Images  Instances      Box(P          R      mAP50  mAP50-95)     Mask(P          R      mAP50  mAP50-95): 100%|██████████| 31/31 [00:52<00:00,  1.70s/it]\n"
     ]
    },
    {
     "name": "stdout",
     "output_type": "stream",
     "text": [
      "                   all        495      23219      0.513      0.414      0.401      0.242      0.461      0.352      0.325      0.167\n",
      "\n",
      "      Epoch    GPU_mem   box_loss   seg_loss   cls_loss   dfl_loss  Instances       Size\n"
     ]
    },
    {
     "name": "stderr",
     "output_type": "stream",
     "text": [
      "       5/15      3.45G      1.738      3.379      1.439      1.437        756        640: 100%|██████████| 369/369 [12:30<00:00,  2.03s/it]\n",
      "                 Class     Images  Instances      Box(P          R      mAP50  mAP50-95)     Mask(P          R      mAP50  mAP50-95): 100%|██████████| 31/31 [00:52<00:00,  1.69s/it]\n"
     ]
    },
    {
     "name": "stdout",
     "output_type": "stream",
     "text": [
      "                   all        495      23219      0.516      0.402      0.406      0.236      0.443      0.353      0.334      0.165\n",
      "Closing dataloader mosaic\n",
      "\n",
      "      Epoch    GPU_mem   box_loss   seg_loss   cls_loss   dfl_loss  Instances       Size\n"
     ]
    },
    {
     "name": "stderr",
     "output_type": "stream",
     "text": [
      "       6/15      2.24G      1.631      3.145      1.352      1.381        207        640: 100%|██████████| 369/369 [06:14<00:00,  1.02s/it]\n",
      "                 Class     Images  Instances      Box(P          R      mAP50  mAP50-95)     Mask(P          R      mAP50  mAP50-95): 100%|██████████| 31/31 [00:51<00:00,  1.66s/it]\n"
     ]
    },
    {
     "name": "stdout",
     "output_type": "stream",
     "text": [
      "                   all        495      23219      0.501      0.395      0.392      0.239      0.449      0.331      0.323      0.171\n",
      "\n",
      "      Epoch    GPU_mem   box_loss   seg_loss   cls_loss   dfl_loss  Instances       Size\n"
     ]
    },
    {
     "name": "stderr",
     "output_type": "stream",
     "text": [
      "       7/15      2.26G      1.604      3.078      1.298      1.362        224        640: 100%|██████████| 369/369 [06:14<00:00,  1.02s/it]\n",
      "                 Class     Images  Instances      Box(P          R      mAP50  mAP50-95)     Mask(P          R      mAP50  mAP50-95): 100%|██████████| 31/31 [00:51<00:00,  1.65s/it]\n"
     ]
    },
    {
     "name": "stdout",
     "output_type": "stream",
     "text": [
      "                   all        495      23219      0.521      0.421       0.41      0.246      0.469       0.36      0.341      0.177\n",
      "\n",
      "      Epoch    GPU_mem   box_loss   seg_loss   cls_loss   dfl_loss  Instances       Size\n"
     ]
    },
    {
     "name": "stderr",
     "output_type": "stream",
     "text": [
      "       8/15      2.53G       1.57      3.047       1.26       1.34        238        640: 100%|██████████| 369/369 [06:14<00:00,  1.01s/it]\n",
      "                 Class     Images  Instances      Box(P          R      mAP50  mAP50-95)     Mask(P          R      mAP50  mAP50-95): 100%|██████████| 31/31 [00:51<00:00,  1.67s/it]"
     ]
    },
    {
     "name": "stdout",
     "output_type": "stream",
     "text": [
      "                   all        495      23219      0.535      0.432      0.423      0.256      0.484      0.371       0.35      0.183\n"
     ]
    },
    {
     "name": "stderr",
     "output_type": "stream",
     "text": [
      "\n"
     ]
    },
    {
     "name": "stdout",
     "output_type": "stream",
     "text": [
      "\n",
      "      Epoch    GPU_mem   box_loss   seg_loss   cls_loss   dfl_loss  Instances       Size\n"
     ]
    },
    {
     "name": "stderr",
     "output_type": "stream",
     "text": [
      "       9/15      2.31G      1.554      3.016      1.237      1.328        285        640: 100%|██████████| 369/369 [06:14<00:00,  1.02s/it]\n",
      "                 Class     Images  Instances      Box(P          R      mAP50  mAP50-95)     Mask(P          R      mAP50  mAP50-95): 100%|██████████| 31/31 [00:51<00:00,  1.65s/it]\n"
     ]
    },
    {
     "name": "stdout",
     "output_type": "stream",
     "text": [
      "                   all        495      23219      0.524      0.428      0.433      0.261      0.491      0.365      0.359       0.19\n",
      "\n",
      "      Epoch    GPU_mem   box_loss   seg_loss   cls_loss   dfl_loss  Instances       Size\n"
     ]
    },
    {
     "name": "stderr",
     "output_type": "stream",
     "text": [
      "      10/15      2.43G      1.541      2.982       1.22      1.321        220        640: 100%|██████████| 369/369 [06:15<00:00,  1.02s/it]\n",
      "                 Class     Images  Instances      Box(P          R      mAP50  mAP50-95)     Mask(P          R      mAP50  mAP50-95): 100%|██████████| 31/31 [00:51<00:00,  1.67s/it]\n"
     ]
    },
    {
     "name": "stdout",
     "output_type": "stream",
     "text": [
      "                   all        495      23219      0.569      0.422      0.429      0.264        0.5      0.373      0.357      0.189\n",
      "\n",
      "      Epoch    GPU_mem   box_loss   seg_loss   cls_loss   dfl_loss  Instances       Size\n"
     ]
    },
    {
     "name": "stderr",
     "output_type": "stream",
     "text": [
      "      11/15       2.5G      1.524      2.972      1.205      1.311        375        640: 100%|██████████| 369/369 [06:14<00:00,  1.01s/it]\n",
      "                 Class     Images  Instances      Box(P          R      mAP50  mAP50-95)     Mask(P          R      mAP50  mAP50-95): 100%|██████████| 31/31 [00:51<00:00,  1.67s/it]"
     ]
    },
    {
     "name": "stdout",
     "output_type": "stream",
     "text": [
      "                   all        495      23219      0.553       0.43       0.43      0.265      0.494      0.376      0.358      0.189\n"
     ]
    },
    {
     "name": "stderr",
     "output_type": "stream",
     "text": [
      "\n"
     ]
    },
    {
     "name": "stdout",
     "output_type": "stream",
     "text": [
      "\n",
      "      Epoch    GPU_mem   box_loss   seg_loss   cls_loss   dfl_loss  Instances       Size\n"
     ]
    },
    {
     "name": "stderr",
     "output_type": "stream",
     "text": [
      "      12/15      2.47G       1.51      2.951      1.183        1.3        213        640: 100%|██████████| 369/369 [06:15<00:00,  1.02s/it]\n",
      "                 Class     Images  Instances      Box(P          R      mAP50  mAP50-95)     Mask(P          R      mAP50  mAP50-95): 100%|██████████| 31/31 [00:51<00:00,  1.66s/it]"
     ]
    },
    {
     "name": "stdout",
     "output_type": "stream",
     "text": [
      "                   all        495      23219      0.552      0.448      0.441      0.273      0.487      0.398      0.369      0.195\n"
     ]
    },
    {
     "name": "stderr",
     "output_type": "stream",
     "text": [
      "\n"
     ]
    },
    {
     "name": "stdout",
     "output_type": "stream",
     "text": [
      "\n",
      "      Epoch    GPU_mem   box_loss   seg_loss   cls_loss   dfl_loss  Instances       Size\n"
     ]
    },
    {
     "name": "stderr",
     "output_type": "stream",
     "text": [
      "      13/15      2.44G      1.493      2.929      1.167      1.291        243        640: 100%|██████████| 369/369 [06:14<00:00,  1.02s/it]\n",
      "                 Class     Images  Instances      Box(P          R      mAP50  mAP50-95)     Mask(P          R      mAP50  mAP50-95): 100%|██████████| 31/31 [00:51<00:00,  1.66s/it]"
     ]
    },
    {
     "name": "stdout",
     "output_type": "stream",
     "text": [
      "                   all        495      23219       0.55      0.446      0.444      0.274      0.527      0.377      0.369      0.195\n"
     ]
    },
    {
     "name": "stderr",
     "output_type": "stream",
     "text": [
      "\n"
     ]
    },
    {
     "name": "stdout",
     "output_type": "stream",
     "text": [
      "\n",
      "      Epoch    GPU_mem   box_loss   seg_loss   cls_loss   dfl_loss  Instances       Size\n"
     ]
    },
    {
     "name": "stderr",
     "output_type": "stream",
     "text": [
      "      14/15      2.34G      1.476      2.916      1.152      1.282        324        640: 100%|██████████| 369/369 [06:13<00:00,  1.01s/it]\n",
      "                 Class     Images  Instances      Box(P          R      mAP50  mAP50-95)     Mask(P          R      mAP50  mAP50-95): 100%|██████████| 31/31 [00:51<00:00,  1.65s/it]"
     ]
    },
    {
     "name": "stdout",
     "output_type": "stream",
     "text": [
      "                   all        495      23219      0.579      0.443      0.446      0.276      0.515      0.387       0.37      0.197\n"
     ]
    },
    {
     "name": "stderr",
     "output_type": "stream",
     "text": [
      "\n"
     ]
    },
    {
     "name": "stdout",
     "output_type": "stream",
     "text": [
      "\n",
      "      Epoch    GPU_mem   box_loss   seg_loss   cls_loss   dfl_loss  Instances       Size\n"
     ]
    },
    {
     "name": "stderr",
     "output_type": "stream",
     "text": [
      "      15/15      2.13G      1.469      2.911      1.145      1.279        238        640: 100%|██████████| 369/369 [06:14<00:00,  1.01s/it]\n",
      "                 Class     Images  Instances      Box(P          R      mAP50  mAP50-95)     Mask(P          R      mAP50  mAP50-95): 100%|██████████| 31/31 [00:51<00:00,  1.66s/it]"
     ]
    },
    {
     "name": "stdout",
     "output_type": "stream",
     "text": [
      "                   all        495      23219      0.582       0.44      0.452      0.278      0.522      0.386      0.378      0.199\n"
     ]
    },
    {
     "name": "stderr",
     "output_type": "stream",
     "text": [
      "\n"
     ]
    },
    {
     "name": "stdout",
     "output_type": "stream",
     "text": [
      "\n",
      "15 epochs completed in 2.314 hours.\n",
      "Optimizer stripped from runs\\segment\\train57\\weights\\last.pt, 23.8MB\n",
      "Optimizer stripped from runs\\segment\\train57\\weights\\best.pt, 23.8MB\n",
      "\n",
      "Validating runs\\segment\\train57\\weights\\best.pt...\n",
      "Ultralytics 8.3.55  Python-3.11.5 torch-2.6.0+cu126 CUDA:0 (NVIDIA GeForce RTX 4060 Laptop GPU, 8188MiB)\n",
      "YOLOv8s-seg summary (fused): 195 layers, 11,784,631 parameters, 0 gradients, 42.5 GFLOPs\n"
     ]
    },
    {
     "name": "stderr",
     "output_type": "stream",
     "text": [
      "                 Class     Images  Instances      Box(P          R      mAP50  mAP50-95)     Mask(P          R      mAP50  mAP50-95):   0%|          | 0/31 [00:00<?, ?it/s]"
     ]
    },
    {
     "name": "stdout",
     "output_type": "stream",
     "text": [
      "WARNING  Model does not support 'augment=True', reverting to single-scale prediction.\n"
     ]
    },
    {
     "name": "stderr",
     "output_type": "stream",
     "text": [
      "                 Class     Images  Instances      Box(P          R      mAP50  mAP50-95)     Mask(P          R      mAP50  mAP50-95):   3%|▎         | 1/31 [00:01<00:52,  1.75s/it]"
     ]
    },
    {
     "name": "stdout",
     "output_type": "stream",
     "text": [
      "WARNING  Model does not support 'augment=True', reverting to single-scale prediction.\n"
     ]
    },
    {
     "name": "stderr",
     "output_type": "stream",
     "text": [
      "                 Class     Images  Instances      Box(P          R      mAP50  mAP50-95)     Mask(P          R      mAP50  mAP50-95):   6%|▋         | 2/31 [00:03<00:52,  1.81s/it]"
     ]
    },
    {
     "name": "stdout",
     "output_type": "stream",
     "text": [
      "WARNING  Model does not support 'augment=True', reverting to single-scale prediction.\n"
     ]
    },
    {
     "name": "stderr",
     "output_type": "stream",
     "text": [
      "                 Class     Images  Instances      Box(P          R      mAP50  mAP50-95)     Mask(P          R      mAP50  mAP50-95):  10%|▉         | 3/31 [00:05<00:54,  1.94s/it]"
     ]
    },
    {
     "name": "stdout",
     "output_type": "stream",
     "text": [
      "WARNING  Model does not support 'augment=True', reverting to single-scale prediction.\n"
     ]
    },
    {
     "name": "stderr",
     "output_type": "stream",
     "text": [
      "                 Class     Images  Instances      Box(P          R      mAP50  mAP50-95)     Mask(P          R      mAP50  mAP50-95):  13%|█▎        | 4/31 [00:07<00:55,  2.07s/it]"
     ]
    },
    {
     "name": "stdout",
     "output_type": "stream",
     "text": [
      "WARNING  Model does not support 'augment=True', reverting to single-scale prediction.\n"
     ]
    },
    {
     "name": "stderr",
     "output_type": "stream",
     "text": [
      "                 Class     Images  Instances      Box(P          R      mAP50  mAP50-95)     Mask(P          R      mAP50  mAP50-95):  16%|█▌        | 5/31 [00:09<00:51,  1.97s/it]"
     ]
    },
    {
     "name": "stdout",
     "output_type": "stream",
     "text": [
      "WARNING  Model does not support 'augment=True', reverting to single-scale prediction.\n"
     ]
    },
    {
     "name": "stderr",
     "output_type": "stream",
     "text": [
      "                 Class     Images  Instances      Box(P          R      mAP50  mAP50-95)     Mask(P          R      mAP50  mAP50-95):  19%|█▉        | 6/31 [00:11<00:46,  1.88s/it]"
     ]
    },
    {
     "name": "stdout",
     "output_type": "stream",
     "text": [
      "WARNING  Model does not support 'augment=True', reverting to single-scale prediction.\n"
     ]
    },
    {
     "name": "stderr",
     "output_type": "stream",
     "text": [
      "                 Class     Images  Instances      Box(P          R      mAP50  mAP50-95)     Mask(P          R      mAP50  mAP50-95):  23%|██▎       | 7/31 [00:12<00:41,  1.75s/it]"
     ]
    },
    {
     "name": "stdout",
     "output_type": "stream",
     "text": [
      "WARNING  Model does not support 'augment=True', reverting to single-scale prediction.\n"
     ]
    },
    {
     "name": "stderr",
     "output_type": "stream",
     "text": [
      "                 Class     Images  Instances      Box(P          R      mAP50  mAP50-95)     Mask(P          R      mAP50  mAP50-95):  26%|██▌       | 8/31 [00:14<00:39,  1.72s/it]"
     ]
    },
    {
     "name": "stdout",
     "output_type": "stream",
     "text": [
      "WARNING  Model does not support 'augment=True', reverting to single-scale prediction.\n"
     ]
    },
    {
     "name": "stderr",
     "output_type": "stream",
     "text": [
      "                 Class     Images  Instances      Box(P          R      mAP50  mAP50-95)     Mask(P          R      mAP50  mAP50-95):  29%|██▉       | 9/31 [00:16<00:37,  1.72s/it]"
     ]
    },
    {
     "name": "stdout",
     "output_type": "stream",
     "text": [
      "WARNING  Model does not support 'augment=True', reverting to single-scale prediction.\n"
     ]
    },
    {
     "name": "stderr",
     "output_type": "stream",
     "text": [
      "                 Class     Images  Instances      Box(P          R      mAP50  mAP50-95)     Mask(P          R      mAP50  mAP50-95):  32%|███▏      | 10/31 [00:18<00:36,  1.71s/it]"
     ]
    },
    {
     "name": "stdout",
     "output_type": "stream",
     "text": [
      "WARNING  Model does not support 'augment=True', reverting to single-scale prediction.\n"
     ]
    },
    {
     "name": "stderr",
     "output_type": "stream",
     "text": [
      "                 Class     Images  Instances      Box(P          R      mAP50  mAP50-95)     Mask(P          R      mAP50  mAP50-95):  35%|███▌      | 11/31 [00:19<00:34,  1.71s/it]"
     ]
    },
    {
     "name": "stdout",
     "output_type": "stream",
     "text": [
      "WARNING  Model does not support 'augment=True', reverting to single-scale prediction.\n"
     ]
    },
    {
     "name": "stderr",
     "output_type": "stream",
     "text": [
      "                 Class     Images  Instances      Box(P          R      mAP50  mAP50-95)     Mask(P          R      mAP50  mAP50-95):  39%|███▊      | 12/31 [00:21<00:33,  1.75s/it]"
     ]
    },
    {
     "name": "stdout",
     "output_type": "stream",
     "text": [
      "WARNING  Model does not support 'augment=True', reverting to single-scale prediction.\n"
     ]
    },
    {
     "name": "stderr",
     "output_type": "stream",
     "text": [
      "                 Class     Images  Instances      Box(P          R      mAP50  mAP50-95)     Mask(P          R      mAP50  mAP50-95):  42%|████▏     | 13/31 [00:23<00:32,  1.82s/it]"
     ]
    },
    {
     "name": "stdout",
     "output_type": "stream",
     "text": [
      "WARNING  Model does not support 'augment=True', reverting to single-scale prediction.\n"
     ]
    },
    {
     "name": "stderr",
     "output_type": "stream",
     "text": [
      "                 Class     Images  Instances      Box(P          R      mAP50  mAP50-95)     Mask(P          R      mAP50  mAP50-95):  45%|████▌     | 14/31 [00:25<00:30,  1.81s/it]"
     ]
    },
    {
     "name": "stdout",
     "output_type": "stream",
     "text": [
      "WARNING  Model does not support 'augment=True', reverting to single-scale prediction.\n"
     ]
    },
    {
     "name": "stderr",
     "output_type": "stream",
     "text": [
      "                 Class     Images  Instances      Box(P          R      mAP50  mAP50-95)     Mask(P          R      mAP50  mAP50-95):  48%|████▊     | 15/31 [00:27<00:28,  1.80s/it]"
     ]
    },
    {
     "name": "stdout",
     "output_type": "stream",
     "text": [
      "WARNING  Model does not support 'augment=True', reverting to single-scale prediction.\n"
     ]
    },
    {
     "name": "stderr",
     "output_type": "stream",
     "text": [
      "                 Class     Images  Instances      Box(P          R      mAP50  mAP50-95)     Mask(P          R      mAP50  mAP50-95):  52%|█████▏    | 16/31 [00:28<00:27,  1.81s/it]"
     ]
    },
    {
     "name": "stdout",
     "output_type": "stream",
     "text": [
      "WARNING  Model does not support 'augment=True', reverting to single-scale prediction.\n"
     ]
    },
    {
     "name": "stderr",
     "output_type": "stream",
     "text": [
      "                 Class     Images  Instances      Box(P          R      mAP50  mAP50-95)     Mask(P          R      mAP50  mAP50-95):  55%|█████▍    | 17/31 [00:30<00:25,  1.81s/it]"
     ]
    },
    {
     "name": "stdout",
     "output_type": "stream",
     "text": [
      "WARNING  Model does not support 'augment=True', reverting to single-scale prediction.\n"
     ]
    },
    {
     "name": "stderr",
     "output_type": "stream",
     "text": [
      "                 Class     Images  Instances      Box(P          R      mAP50  mAP50-95)     Mask(P          R      mAP50  mAP50-95):  58%|█████▊    | 18/31 [00:32<00:23,  1.81s/it]"
     ]
    },
    {
     "name": "stdout",
     "output_type": "stream",
     "text": [
      "WARNING  Model does not support 'augment=True', reverting to single-scale prediction.\n"
     ]
    },
    {
     "name": "stderr",
     "output_type": "stream",
     "text": [
      "                 Class     Images  Instances      Box(P          R      mAP50  mAP50-95)     Mask(P          R      mAP50  mAP50-95):  61%|██████▏   | 19/31 [00:34<00:22,  1.88s/it]"
     ]
    },
    {
     "name": "stdout",
     "output_type": "stream",
     "text": [
      "WARNING  Model does not support 'augment=True', reverting to single-scale prediction.\n"
     ]
    },
    {
     "name": "stderr",
     "output_type": "stream",
     "text": [
      "                 Class     Images  Instances      Box(P          R      mAP50  mAP50-95)     Mask(P          R      mAP50  mAP50-95):  65%|██████▍   | 20/31 [00:36<00:20,  1.84s/it]"
     ]
    },
    {
     "name": "stdout",
     "output_type": "stream",
     "text": [
      "WARNING  Model does not support 'augment=True', reverting to single-scale prediction.\n"
     ]
    },
    {
     "name": "stderr",
     "output_type": "stream",
     "text": [
      "                 Class     Images  Instances      Box(P          R      mAP50  mAP50-95)     Mask(P          R      mAP50  mAP50-95):  68%|██████▊   | 21/31 [00:38<00:18,  1.85s/it]"
     ]
    },
    {
     "name": "stdout",
     "output_type": "stream",
     "text": [
      "WARNING  Model does not support 'augment=True', reverting to single-scale prediction.\n"
     ]
    },
    {
     "name": "stderr",
     "output_type": "stream",
     "text": [
      "                 Class     Images  Instances      Box(P          R      mAP50  mAP50-95)     Mask(P          R      mAP50  mAP50-95):  71%|███████   | 22/31 [00:39<00:16,  1.82s/it]"
     ]
    },
    {
     "name": "stdout",
     "output_type": "stream",
     "text": [
      "WARNING  Model does not support 'augment=True', reverting to single-scale prediction.\n"
     ]
    },
    {
     "name": "stderr",
     "output_type": "stream",
     "text": [
      "                 Class     Images  Instances      Box(P          R      mAP50  mAP50-95)     Mask(P          R      mAP50  mAP50-95):  74%|███████▍  | 23/31 [00:41<00:14,  1.83s/it]"
     ]
    },
    {
     "name": "stdout",
     "output_type": "stream",
     "text": [
      "WARNING  Model does not support 'augment=True', reverting to single-scale prediction.\n"
     ]
    },
    {
     "name": "stderr",
     "output_type": "stream",
     "text": [
      "                 Class     Images  Instances      Box(P          R      mAP50  mAP50-95)     Mask(P          R      mAP50  mAP50-95):  77%|███████▋  | 24/31 [00:43<00:12,  1.85s/it]"
     ]
    },
    {
     "name": "stdout",
     "output_type": "stream",
     "text": [
      "WARNING  Model does not support 'augment=True', reverting to single-scale prediction.\n"
     ]
    },
    {
     "name": "stderr",
     "output_type": "stream",
     "text": [
      "                 Class     Images  Instances      Box(P          R      mAP50  mAP50-95)     Mask(P          R      mAP50  mAP50-95):  81%|████████  | 25/31 [00:45<00:11,  1.86s/it]"
     ]
    },
    {
     "name": "stdout",
     "output_type": "stream",
     "text": [
      "WARNING  Model does not support 'augment=True', reverting to single-scale prediction.\n"
     ]
    },
    {
     "name": "stderr",
     "output_type": "stream",
     "text": [
      "                 Class     Images  Instances      Box(P          R      mAP50  mAP50-95)     Mask(P          R      mAP50  mAP50-95):  84%|████████▍ | 26/31 [00:47<00:09,  1.87s/it]"
     ]
    },
    {
     "name": "stdout",
     "output_type": "stream",
     "text": [
      "WARNING  Model does not support 'augment=True', reverting to single-scale prediction.\n"
     ]
    },
    {
     "name": "stderr",
     "output_type": "stream",
     "text": [
      "                 Class     Images  Instances      Box(P          R      mAP50  mAP50-95)     Mask(P          R      mAP50  mAP50-95):  87%|████████▋ | 27/31 [00:49<00:07,  1.84s/it]"
     ]
    },
    {
     "name": "stdout",
     "output_type": "stream",
     "text": [
      "WARNING  Model does not support 'augment=True', reverting to single-scale prediction.\n"
     ]
    },
    {
     "name": "stderr",
     "output_type": "stream",
     "text": [
      "                 Class     Images  Instances      Box(P          R      mAP50  mAP50-95)     Mask(P          R      mAP50  mAP50-95):  90%|█████████ | 28/31 [00:51<00:05,  1.85s/it]"
     ]
    },
    {
     "name": "stdout",
     "output_type": "stream",
     "text": [
      "WARNING  Model does not support 'augment=True', reverting to single-scale prediction.\n"
     ]
    },
    {
     "name": "stderr",
     "output_type": "stream",
     "text": [
      "                 Class     Images  Instances      Box(P          R      mAP50  mAP50-95)     Mask(P          R      mAP50  mAP50-95):  94%|█████████▎| 29/31 [00:52<00:03,  1.83s/it]"
     ]
    },
    {
     "name": "stdout",
     "output_type": "stream",
     "text": [
      "WARNING  Model does not support 'augment=True', reverting to single-scale prediction.\n"
     ]
    },
    {
     "name": "stderr",
     "output_type": "stream",
     "text": [
      "                 Class     Images  Instances      Box(P          R      mAP50  mAP50-95)     Mask(P          R      mAP50  mAP50-95):  97%|█████████▋| 30/31 [00:54<00:01,  1.82s/it]"
     ]
    },
    {
     "name": "stdout",
     "output_type": "stream",
     "text": [
      "WARNING  Model does not support 'augment=True', reverting to single-scale prediction.\n"
     ]
    },
    {
     "name": "stderr",
     "output_type": "stream",
     "text": [
      "                 Class     Images  Instances      Box(P          R      mAP50  mAP50-95)     Mask(P          R      mAP50  mAP50-95): 100%|██████████| 31/31 [00:56<00:00,  1.82s/it]\n"
     ]
    },
    {
     "name": "stdout",
     "output_type": "stream",
     "text": [
      "                   all        495      23219      0.578       0.44      0.452      0.278       0.52      0.387      0.378      0.199\n",
      "                person        399       3387      0.561       0.43      0.465      0.249      0.433       0.31      0.304      0.116\n",
      "                 rider        252        548      0.643      0.385      0.465      0.264      0.397      0.234      0.192     0.0492\n",
      "                   car        474       4638      0.701      0.625       0.68      0.443      0.564      0.483      0.508      0.248\n",
      "                 truck         79         92      0.447      0.283      0.268      0.177      0.449      0.261      0.249      0.144\n",
      "                   bus         75         98      0.477      0.469      0.426      0.318      0.495      0.469      0.421      0.232\n",
      "                 train         22         23      0.299      0.348      0.333      0.138      0.286      0.304      0.307      0.124\n",
      "            motorcycle         93        149      0.508      0.255      0.248     0.0975      0.407      0.195      0.149     0.0487\n",
      "               bicycle        330       1165      0.663      0.262      0.357      0.175      0.557      0.206       0.24     0.0768\n",
      "                  road        481        494      0.957      0.974      0.981      0.849      0.956      0.972       0.98      0.847\n",
      "              sidewalk        462       1205      0.591      0.403       0.43      0.243      0.583      0.373      0.379      0.183\n",
      "              building        486       1145      0.513      0.479      0.416      0.247      0.522      0.458      0.406        0.2\n",
      "                  pole        486       9801      0.502      0.108      0.141      0.053      0.467     0.0894      0.132     0.0525\n",
      "                   sky        440        474      0.646      0.696      0.666      0.366      0.646      0.673      0.643      0.269\n",
      "Speed: 0.2ms preprocess, 4.6ms inference, 0.0ms loss, 2.5ms postprocess per image\n",
      "Results saved to \u001b[1mruns\\segment\\train57\u001b[0m\n"
     ]
    }
   ],
   "source": [
    "from gc import freeze\n",
    "import os\n",
    "os.environ['KMP_DUPLICATE_LIB_OK'] = 'TRUE'\n",
    "\n",
    "from ultralytics import YOLO\n",
    "\n",
    "# Cargar modelo\n",
    "model = YOLO('yolov8s-seg.pt')\n",
    "results = model.train(\n",
    "    data='cityscapes.yaml',\n",
    "    epochs=15,        # Más épocas para mejor convergencia\n",
    "    imgsz=640,      # Mantener resolución alta\n",
    "    batch=8,         # Mantener batch size\n",
    "    workers=0,\n",
    "    pretrained=True,\n",
    "    freeze=10,\n",
    "    # Augmentaciones más agresivas para mejor generalización\n",
    "    flipud=0.3,\n",
    "    fliplr=0.5,\n",
    "    mosaic=0.8,      # Aumentar para más variedad\n",
    "    mixup=0.3,       # Aumentar para mejor robustez\n",
    "\n",
    "    # Ajustes de color más agresivos\n",
    "    hsv_h=0.015,     # Aumentar variación de tono\n",
    "    hsv_s=0.5,       # Aumentar saturación\n",
    "    hsv_v=0.4,       # Más variación de brillo\n",
    "\n",
    "    # Transformaciones geométricas más agresivas\n",
    "    degrees=30.0,    # Más rotación\n",
    "    translate=0.15,  # Más traslación\n",
    "    scale=0.5,      # Más escala\n",
    "    shear=7.0,      # Aumentar shear\n",
    "    perspective=0.0007, # Más perspectiva\n",
    "\n",
    "    # Otras configuraciones\n",
    "    copy_paste=0.3,  # Aumentar copy-paste\n",
    "    augment=True,\n",
    "\n",
    "    # Optimización ajustada\n",
    "    warmup_epochs=3,\n",
    "    warmup_momentum=0.85,\n",
    "    lr0=0.001,     # Learning rate más equilibrado\n",
    "    lrf=0.0001,    # Learning rate final ajustado\n",
    "    weight_decay=0.0004,  # Más regularización\n",
    "\n",
    "    # Nuevas configuraciones\n",
    "    label_smoothing=0.1,  # Añadir label smoothing\n",
    "    overlap_mask=True,    # Mejorar máscaras\n",
    "    mask_ratio=4,        # Ajustar ratio de máscara\n",
    "    dropout=0.2          # Añadir dropout\n",
    ")"
   ]
  },
  {
   "cell_type": "code",
   "execution_count": 2,
   "metadata": {},
   "outputs": [
    {
     "name": "stdout",
     "output_type": "stream",
     "text": [
      "New https://pypi.org/project/ultralytics/8.3.107 available  Update with 'pip install -U ultralytics'\n",
      "WARNING  'label_smoothing' is deprecated and will be removed in in the future.\n",
      "Ultralytics 8.3.55  Python-3.11.5 torch-2.6.0+cu126 CUDA:0 (NVIDIA GeForce RTX 4060 Laptop GPU, 8188MiB)\n",
      "\u001b[34m\u001b[1mengine\\trainer: \u001b[0mtask=segment, mode=train, model=runs/segment/train57/weights/best.pt, data=cityscapes.yaml, epochs=50, time=None, patience=10, batch=8, imgsz=640, save=True, save_period=-1, cache=False, device=None, workers=0, project=None, name=train58, exist_ok=False, pretrained=True, optimizer=auto, verbose=True, seed=0, deterministic=True, single_cls=False, rect=False, cos_lr=False, close_mosaic=10, resume=False, amp=True, fraction=1.0, profile=False, freeze=10, multi_scale=False, overlap_mask=True, mask_ratio=4, dropout=0.2, val=True, split=val, save_json=False, save_hybrid=False, conf=None, iou=0.7, max_det=300, half=False, dnn=False, plots=True, source=None, vid_stride=1, stream_buffer=False, visualize=False, augment=True, agnostic_nms=False, classes=None, retina_masks=False, embed=None, show=False, save_frames=False, save_txt=False, save_conf=False, save_crop=False, show_labels=True, show_conf=True, show_boxes=True, line_width=None, format=torchscript, keras=False, optimize=False, int8=False, dynamic=False, simplify=True, opset=None, workspace=None, nms=False, lr0=0.001, lrf=0.0001, momentum=0.937, weight_decay=0.0004, warmup_epochs=3, warmup_momentum=0.85, warmup_bias_lr=0.1, box=7.5, cls=0.5, dfl=1.5, pose=12.0, kobj=1.0, nbs=64, hsv_h=0.015, hsv_s=0.5, hsv_v=0.4, degrees=30.0, translate=0.15, scale=0.5, shear=7.0, perspective=0.0007, flipud=0.3, fliplr=0.5, bgr=0.0, mosaic=0.8, mixup=0.3, copy_paste=0.3, copy_paste_mode=flip, auto_augment=randaugment, erasing=0.4, crop_fraction=1.0, cfg=None, tracker=botsort.yaml, save_dir=runs\\segment\\train58\n",
      "\n",
      "                   from  n    params  module                                       arguments                     \n",
      "  0                  -1  1       928  ultralytics.nn.modules.conv.Conv             [3, 32, 3, 2]                 \n",
      "  1                  -1  1     18560  ultralytics.nn.modules.conv.Conv             [32, 64, 3, 2]                \n",
      "  2                  -1  1     29056  ultralytics.nn.modules.block.C2f             [64, 64, 1, True]             \n",
      "  3                  -1  1     73984  ultralytics.nn.modules.conv.Conv             [64, 128, 3, 2]               \n",
      "  4                  -1  2    197632  ultralytics.nn.modules.block.C2f             [128, 128, 2, True]           \n",
      "  5                  -1  1    295424  ultralytics.nn.modules.conv.Conv             [128, 256, 3, 2]              \n",
      "  6                  -1  2    788480  ultralytics.nn.modules.block.C2f             [256, 256, 2, True]           \n",
      "  7                  -1  1   1180672  ultralytics.nn.modules.conv.Conv             [256, 512, 3, 2]              \n",
      "  8                  -1  1   1838080  ultralytics.nn.modules.block.C2f             [512, 512, 1, True]           \n",
      "  9                  -1  1    656896  ultralytics.nn.modules.block.SPPF            [512, 512, 5]                 \n",
      " 10                  -1  1         0  torch.nn.modules.upsampling.Upsample         [None, 2, 'nearest']          \n",
      " 11             [-1, 6]  1         0  ultralytics.nn.modules.conv.Concat           [1]                           \n",
      " 12                  -1  1    591360  ultralytics.nn.modules.block.C2f             [768, 256, 1]                 \n",
      " 13                  -1  1         0  torch.nn.modules.upsampling.Upsample         [None, 2, 'nearest']          \n",
      " 14             [-1, 4]  1         0  ultralytics.nn.modules.conv.Concat           [1]                           \n",
      " 15                  -1  1    148224  ultralytics.nn.modules.block.C2f             [384, 128, 1]                 \n",
      " 16                  -1  1    147712  ultralytics.nn.modules.conv.Conv             [128, 128, 3, 2]              \n",
      " 17            [-1, 12]  1         0  ultralytics.nn.modules.conv.Concat           [1]                           \n",
      " 18                  -1  1    493056  ultralytics.nn.modules.block.C2f             [384, 256, 1]                 \n",
      " 19                  -1  1    590336  ultralytics.nn.modules.conv.Conv             [256, 256, 3, 2]              \n",
      " 20             [-1, 9]  1         0  ultralytics.nn.modules.conv.Concat           [1]                           \n",
      " 21                  -1  1   1969152  ultralytics.nn.modules.block.C2f             [768, 512, 1]                 \n",
      " 22        [15, 18, 21]  1   2775575  ultralytics.nn.modules.head.Segment          [13, 32, 128, [128, 256, 512]]\n",
      "YOLOv8s-seg summary: 261 layers, 11,795,127 parameters, 11,795,111 gradients, 42.7 GFLOPs\n",
      "\n",
      "Transferred 417/417 items from pretrained weights\n",
      "Freezing layer 'model.0.conv.weight'\n",
      "Freezing layer 'model.0.bn.weight'\n",
      "Freezing layer 'model.0.bn.bias'\n",
      "Freezing layer 'model.1.conv.weight'\n",
      "Freezing layer 'model.1.bn.weight'\n",
      "Freezing layer 'model.1.bn.bias'\n",
      "Freezing layer 'model.2.cv1.conv.weight'\n",
      "Freezing layer 'model.2.cv1.bn.weight'\n",
      "Freezing layer 'model.2.cv1.bn.bias'\n",
      "Freezing layer 'model.2.cv2.conv.weight'\n",
      "Freezing layer 'model.2.cv2.bn.weight'\n",
      "Freezing layer 'model.2.cv2.bn.bias'\n",
      "Freezing layer 'model.2.m.0.cv1.conv.weight'\n",
      "Freezing layer 'model.2.m.0.cv1.bn.weight'\n",
      "Freezing layer 'model.2.m.0.cv1.bn.bias'\n",
      "Freezing layer 'model.2.m.0.cv2.conv.weight'\n",
      "Freezing layer 'model.2.m.0.cv2.bn.weight'\n",
      "Freezing layer 'model.2.m.0.cv2.bn.bias'\n",
      "Freezing layer 'model.3.conv.weight'\n",
      "Freezing layer 'model.3.bn.weight'\n",
      "Freezing layer 'model.3.bn.bias'\n",
      "Freezing layer 'model.4.cv1.conv.weight'\n",
      "Freezing layer 'model.4.cv1.bn.weight'\n",
      "Freezing layer 'model.4.cv1.bn.bias'\n",
      "Freezing layer 'model.4.cv2.conv.weight'\n",
      "Freezing layer 'model.4.cv2.bn.weight'\n",
      "Freezing layer 'model.4.cv2.bn.bias'\n",
      "Freezing layer 'model.4.m.0.cv1.conv.weight'\n",
      "Freezing layer 'model.4.m.0.cv1.bn.weight'\n",
      "Freezing layer 'model.4.m.0.cv1.bn.bias'\n",
      "Freezing layer 'model.4.m.0.cv2.conv.weight'\n",
      "Freezing layer 'model.4.m.0.cv2.bn.weight'\n",
      "Freezing layer 'model.4.m.0.cv2.bn.bias'\n",
      "Freezing layer 'model.4.m.1.cv1.conv.weight'\n",
      "Freezing layer 'model.4.m.1.cv1.bn.weight'\n",
      "Freezing layer 'model.4.m.1.cv1.bn.bias'\n",
      "Freezing layer 'model.4.m.1.cv2.conv.weight'\n",
      "Freezing layer 'model.4.m.1.cv2.bn.weight'\n",
      "Freezing layer 'model.4.m.1.cv2.bn.bias'\n",
      "Freezing layer 'model.5.conv.weight'\n",
      "Freezing layer 'model.5.bn.weight'\n",
      "Freezing layer 'model.5.bn.bias'\n",
      "Freezing layer 'model.6.cv1.conv.weight'\n",
      "Freezing layer 'model.6.cv1.bn.weight'\n",
      "Freezing layer 'model.6.cv1.bn.bias'\n",
      "Freezing layer 'model.6.cv2.conv.weight'\n",
      "Freezing layer 'model.6.cv2.bn.weight'\n",
      "Freezing layer 'model.6.cv2.bn.bias'\n",
      "Freezing layer 'model.6.m.0.cv1.conv.weight'\n",
      "Freezing layer 'model.6.m.0.cv1.bn.weight'\n",
      "Freezing layer 'model.6.m.0.cv1.bn.bias'\n",
      "Freezing layer 'model.6.m.0.cv2.conv.weight'\n",
      "Freezing layer 'model.6.m.0.cv2.bn.weight'\n",
      "Freezing layer 'model.6.m.0.cv2.bn.bias'\n",
      "Freezing layer 'model.6.m.1.cv1.conv.weight'\n",
      "Freezing layer 'model.6.m.1.cv1.bn.weight'\n",
      "Freezing layer 'model.6.m.1.cv1.bn.bias'\n",
      "Freezing layer 'model.6.m.1.cv2.conv.weight'\n",
      "Freezing layer 'model.6.m.1.cv2.bn.weight'\n",
      "Freezing layer 'model.6.m.1.cv2.bn.bias'\n",
      "Freezing layer 'model.7.conv.weight'\n",
      "Freezing layer 'model.7.bn.weight'\n",
      "Freezing layer 'model.7.bn.bias'\n",
      "Freezing layer 'model.8.cv1.conv.weight'\n",
      "Freezing layer 'model.8.cv1.bn.weight'\n",
      "Freezing layer 'model.8.cv1.bn.bias'\n",
      "Freezing layer 'model.8.cv2.conv.weight'\n",
      "Freezing layer 'model.8.cv2.bn.weight'\n",
      "Freezing layer 'model.8.cv2.bn.bias'\n",
      "Freezing layer 'model.8.m.0.cv1.conv.weight'\n",
      "Freezing layer 'model.8.m.0.cv1.bn.weight'\n",
      "Freezing layer 'model.8.m.0.cv1.bn.bias'\n",
      "Freezing layer 'model.8.m.0.cv2.conv.weight'\n",
      "Freezing layer 'model.8.m.0.cv2.bn.weight'\n",
      "Freezing layer 'model.8.m.0.cv2.bn.bias'\n",
      "Freezing layer 'model.9.cv1.conv.weight'\n",
      "Freezing layer 'model.9.cv1.bn.weight'\n",
      "Freezing layer 'model.9.cv1.bn.bias'\n",
      "Freezing layer 'model.9.cv2.conv.weight'\n",
      "Freezing layer 'model.9.cv2.bn.weight'\n",
      "Freezing layer 'model.9.cv2.bn.bias'\n",
      "Freezing layer 'model.22.dfl.conv.weight'\n",
      "\u001b[34m\u001b[1mAMP: \u001b[0mrunning Automatic Mixed Precision (AMP) checks...\n",
      "\u001b[34m\u001b[1mAMP: \u001b[0mchecks passed \n"
     ]
    },
    {
     "name": "stderr",
     "output_type": "stream",
     "text": [
      "\u001b[34m\u001b[1mtrain: \u001b[0mScanning C:\\Users\\aaron\\Documents\\Año4\\TFG\\CityScapesWithPanopticSegm\\dataset\\labels\\train.cache... 2975 images, 0 backgrounds, 25 corrupt: 100%|██████████| 2975/2975 [00:00<?, ?it/s]"
     ]
    },
    {
     "name": "stdout",
     "output_type": "stream",
     "text": [
      "\u001b[34m\u001b[1mtrain: \u001b[0mWARNING  C:\\Users\\aaron\\Documents\\Ao4\\TFG\\CityScapesWithPanopticSegm\\dataset\\images\\train\\aachen_000000_000019_gtFine_polygons.png: 4 duplicate labels removed\n",
      "\u001b[34m\u001b[1mtrain: \u001b[0mWARNING  C:\\Users\\aaron\\Documents\\Ao4\\TFG\\CityScapesWithPanopticSegm\\dataset\\images\\train\\aachen_000004_000019_gtFine_polygons.png: 1 duplicate labels removed\n",
      "\u001b[34m\u001b[1mtrain: \u001b[0mWARNING  C:\\Users\\aaron\\Documents\\Ao4\\TFG\\CityScapesWithPanopticSegm\\dataset\\images\\train\\aachen_000008_000019_gtFine_polygons.png: 1 duplicate labels removed\n",
      "\u001b[34m\u001b[1mtrain: \u001b[0mWARNING  C:\\Users\\aaron\\Documents\\Ao4\\TFG\\CityScapesWithPanopticSegm\\dataset\\images\\train\\aachen_000022_000019_gtFine_polygons.png: 1 duplicate labels removed\n",
      "\u001b[34m\u001b[1mtrain: \u001b[0mWARNING  C:\\Users\\aaron\\Documents\\Ao4\\TFG\\CityScapesWithPanopticSegm\\dataset\\images\\train\\aachen_000026_000019_gtFine_polygons.png: 1 duplicate labels removed\n",
      "\u001b[34m\u001b[1mtrain: \u001b[0mWARNING  C:\\Users\\aaron\\Documents\\Ao4\\TFG\\CityScapesWithPanopticSegm\\dataset\\images\\train\\aachen_000030_000019_gtFine_polygons.png: 3 duplicate labels removed\n",
      "\u001b[34m\u001b[1mtrain: \u001b[0mWARNING  C:\\Users\\aaron\\Documents\\Ao4\\TFG\\CityScapesWithPanopticSegm\\dataset\\images\\train\\aachen_000031_000019_gtFine_polygons.png: 1 duplicate labels removed\n",
      "\u001b[34m\u001b[1mtrain: \u001b[0mWARNING  C:\\Users\\aaron\\Documents\\Ao4\\TFG\\CityScapesWithPanopticSegm\\dataset\\images\\train\\aachen_000034_000019_gtFine_polygons.png: 1 duplicate labels removed\n",
      "\u001b[34m\u001b[1mtrain: \u001b[0mWARNING  C:\\Users\\aaron\\Documents\\Ao4\\TFG\\CityScapesWithPanopticSegm\\dataset\\images\\train\\aachen_000042_000019_gtFine_polygons.png: 2 duplicate labels removed\n",
      "\u001b[34m\u001b[1mtrain: \u001b[0mWARNING  C:\\Users\\aaron\\Documents\\Ao4\\TFG\\CityScapesWithPanopticSegm\\dataset\\images\\train\\aachen_000058_000019_gtFine_polygons.png: 1 duplicate labels removed\n",
      "\u001b[34m\u001b[1mtrain: \u001b[0mWARNING  C:\\Users\\aaron\\Documents\\Ao4\\TFG\\CityScapesWithPanopticSegm\\dataset\\images\\train\\aachen_000060_000019_gtFine_polygons.png: 15 duplicate labels removed\n",
      "\u001b[34m\u001b[1mtrain: \u001b[0mWARNING  C:\\Users\\aaron\\Documents\\Ao4\\TFG\\CityScapesWithPanopticSegm\\dataset\\images\\train\\aachen_000061_000019_gtFine_polygons.png: 40 duplicate labels removed\n",
      "\u001b[34m\u001b[1mtrain: \u001b[0mWARNING  C:\\Users\\aaron\\Documents\\Ao4\\TFG\\CityScapesWithPanopticSegm\\dataset\\images\\train\\aachen_000062_000019_gtFine_polygons.png: 8 duplicate labels removed\n",
      "\u001b[34m\u001b[1mtrain: \u001b[0mWARNING  C:\\Users\\aaron\\Documents\\Ao4\\TFG\\CityScapesWithPanopticSegm\\dataset\\images\\train\\aachen_000064_000019_gtFine_polygons.png: 1 duplicate labels removed\n",
      "\u001b[34m\u001b[1mtrain: \u001b[0mWARNING  C:\\Users\\aaron\\Documents\\Ao4\\TFG\\CityScapesWithPanopticSegm\\dataset\\images\\train\\aachen_000070_000019_gtFine_polygons.png: 2 duplicate labels removed\n",
      "\u001b[34m\u001b[1mtrain: \u001b[0mWARNING  C:\\Users\\aaron\\Documents\\Ao4\\TFG\\CityScapesWithPanopticSegm\\dataset\\images\\train\\aachen_000072_000019_gtFine_polygons.png: 1 duplicate labels removed\n",
      "\u001b[34m\u001b[1mtrain: \u001b[0mWARNING  C:\\Users\\aaron\\Documents\\Ao4\\TFG\\CityScapesWithPanopticSegm\\dataset\\images\\train\\aachen_000078_000019_gtFine_polygons.png: 3 duplicate labels removed\n",
      "\u001b[34m\u001b[1mtrain: \u001b[0mWARNING  C:\\Users\\aaron\\Documents\\Ao4\\TFG\\CityScapesWithPanopticSegm\\dataset\\images\\train\\aachen_000079_000019_gtFine_polygons.png: 7 duplicate labels removed\n",
      "\u001b[34m\u001b[1mtrain: \u001b[0mWARNING  C:\\Users\\aaron\\Documents\\Ao4\\TFG\\CityScapesWithPanopticSegm\\dataset\\images\\train\\aachen_000080_000019_gtFine_polygons.png: 37 duplicate labels removed\n",
      "\u001b[34m\u001b[1mtrain: \u001b[0mWARNING  C:\\Users\\aaron\\Documents\\Ao4\\TFG\\CityScapesWithPanopticSegm\\dataset\\images\\train\\aachen_000090_000019_gtFine_polygons.png: 3 duplicate labels removed\n",
      "\u001b[34m\u001b[1mtrain: \u001b[0mWARNING  C:\\Users\\aaron\\Documents\\Ao4\\TFG\\CityScapesWithPanopticSegm\\dataset\\images\\train\\aachen_000092_000019_gtFine_polygons.png: 1 duplicate labels removed\n",
      "\u001b[34m\u001b[1mtrain: \u001b[0mWARNING  C:\\Users\\aaron\\Documents\\Ao4\\TFG\\CityScapesWithPanopticSegm\\dataset\\images\\train\\aachen_000095_000019_gtFine_polygons.png: 2 duplicate labels removed\n",
      "\u001b[34m\u001b[1mtrain: \u001b[0mWARNING  C:\\Users\\aaron\\Documents\\Ao4\\TFG\\CityScapesWithPanopticSegm\\dataset\\images\\train\\aachen_000096_000019_gtFine_polygons.png: 4 duplicate labels removed\n",
      "\u001b[34m\u001b[1mtrain: \u001b[0mWARNING  C:\\Users\\aaron\\Documents\\Ao4\\TFG\\CityScapesWithPanopticSegm\\dataset\\images\\train\\aachen_000098_000019_gtFine_polygons.png: 2 duplicate labels removed\n",
      "\u001b[34m\u001b[1mtrain: \u001b[0mWARNING  C:\\Users\\aaron\\Documents\\Ao4\\TFG\\CityScapesWithPanopticSegm\\dataset\\images\\train\\aachen_000152_000019_gtFine_polygons.png: 9 duplicate labels removed\n",
      "\u001b[34m\u001b[1mtrain: \u001b[0mWARNING  C:\\Users\\aaron\\Documents\\Ao4\\TFG\\CityScapesWithPanopticSegm\\dataset\\images\\train\\aachen_000153_000019_gtFine_polygons.png: 1 duplicate labels removed\n",
      "\u001b[34m\u001b[1mtrain: \u001b[0mWARNING  C:\\Users\\aaron\\Documents\\Ao4\\TFG\\CityScapesWithPanopticSegm\\dataset\\images\\train\\aachen_000155_000019_gtFine_polygons.png: 1 duplicate labels removed\n",
      "\u001b[34m\u001b[1mtrain: \u001b[0mWARNING  C:\\Users\\aaron\\Documents\\Ao4\\TFG\\CityScapesWithPanopticSegm\\dataset\\images\\train\\bochum_000000_000885_gtFine_polygons.png: 1 duplicate labels removed\n",
      "\u001b[34m\u001b[1mtrain: \u001b[0mWARNING  C:\\Users\\aaron\\Documents\\Ao4\\TFG\\CityScapesWithPanopticSegm\\dataset\\images\\train\\bochum_000000_004748_gtFine_polygons.png: 1 duplicate labels removed\n",
      "\u001b[34m\u001b[1mtrain: \u001b[0mWARNING  C:\\Users\\aaron\\Documents\\Ao4\\TFG\\CityScapesWithPanopticSegm\\dataset\\images\\train\\bochum_000000_007651_gtFine_polygons.png: 2 duplicate labels removed\n",
      "\u001b[34m\u001b[1mtrain: \u001b[0mWARNING  C:\\Users\\aaron\\Documents\\Ao4\\TFG\\CityScapesWithPanopticSegm\\dataset\\images\\train\\bochum_000000_013209_gtFine_polygons.png: 1 duplicate labels removed\n",
      "\u001b[34m\u001b[1mtrain: \u001b[0mWARNING  C:\\Users\\aaron\\Documents\\Ao4\\TFG\\CityScapesWithPanopticSegm\\dataset\\images\\train\\bochum_000000_017453_gtFine_polygons.png: 1 duplicate labels removed\n",
      "\u001b[34m\u001b[1mtrain: \u001b[0mWARNING  C:\\Users\\aaron\\Documents\\Ao4\\TFG\\CityScapesWithPanopticSegm\\dataset\\images\\train\\bochum_000000_033714_gtFine_polygons.png: 1 duplicate labels removed\n",
      "\u001b[34m\u001b[1mtrain: \u001b[0mWARNING  C:\\Users\\aaron\\Documents\\Ao4\\TFG\\CityScapesWithPanopticSegm\\dataset\\images\\train\\bochum_000000_036606_gtFine_polygons.png: 1 duplicate labels removed\n",
      "\u001b[34m\u001b[1mtrain: \u001b[0mWARNING  C:\\Users\\aaron\\Documents\\Ao4\\TFG\\CityScapesWithPanopticSegm\\dataset\\images\\train\\bremen_000021_000019_gtFine_polygons.png: 1 duplicate labels removed\n",
      "\u001b[34m\u001b[1mtrain: \u001b[0mWARNING  C:\\Users\\aaron\\Documents\\Ao4\\TFG\\CityScapesWithPanopticSegm\\dataset\\images\\train\\bremen_000060_000019_gtFine_polygons.png: 1 duplicate labels removed\n",
      "\u001b[34m\u001b[1mtrain: \u001b[0mWARNING  C:\\Users\\aaron\\Documents\\Ao4\\TFG\\CityScapesWithPanopticSegm\\dataset\\images\\train\\bremen_000099_000019_gtFine_polygons.png: 1 duplicate labels removed\n",
      "\u001b[34m\u001b[1mtrain: \u001b[0mWARNING  C:\\Users\\aaron\\Documents\\Ao4\\TFG\\CityScapesWithPanopticSegm\\dataset\\images\\train\\bremen_000111_000019_gtFine_polygons.png: ignoring corrupt image/label: non-normalized or out of bounds coordinates [     1.0005]\n",
      "\u001b[34m\u001b[1mtrain: \u001b[0mWARNING  C:\\Users\\aaron\\Documents\\Ao4\\TFG\\CityScapesWithPanopticSegm\\dataset\\images\\train\\bremen_000118_000019_gtFine_polygons.png: ignoring corrupt image/label: non-normalized or out of bounds coordinates [      1.001]\n",
      "\u001b[34m\u001b[1mtrain: \u001b[0mWARNING  C:\\Users\\aaron\\Documents\\Ao4\\TFG\\CityScapesWithPanopticSegm\\dataset\\images\\train\\bremen_000121_000019_gtFine_polygons.png: ignoring corrupt image/label: non-normalized or out of bounds coordinates [      1.001]\n",
      "\u001b[34m\u001b[1mtrain: \u001b[0mWARNING  C:\\Users\\aaron\\Documents\\Ao4\\TFG\\CityScapesWithPanopticSegm\\dataset\\images\\train\\bremen_000123_000019_gtFine_polygons.png: ignoring corrupt image/label: non-normalized or out of bounds coordinates [     1.0005]\n",
      "\u001b[34m\u001b[1mtrain: \u001b[0mWARNING  C:\\Users\\aaron\\Documents\\Ao4\\TFG\\CityScapesWithPanopticSegm\\dataset\\images\\train\\bremen_000124_000019_gtFine_polygons.png: ignoring corrupt image/label: non-normalized or out of bounds coordinates [     1.0005]\n",
      "\u001b[34m\u001b[1mtrain: \u001b[0mWARNING  C:\\Users\\aaron\\Documents\\Ao4\\TFG\\CityScapesWithPanopticSegm\\dataset\\images\\train\\bremen_000126_000019_gtFine_polygons.png: ignoring corrupt image/label: non-normalized or out of bounds coordinates [      1.001]\n",
      "\u001b[34m\u001b[1mtrain: \u001b[0mWARNING  C:\\Users\\aaron\\Documents\\Ao4\\TFG\\CityScapesWithPanopticSegm\\dataset\\images\\train\\bremen_000128_000019_gtFine_polygons.png: ignoring corrupt image/label: non-normalized or out of bounds coordinates [     1.0005]\n",
      "\u001b[34m\u001b[1mtrain: \u001b[0mWARNING  C:\\Users\\aaron\\Documents\\Ao4\\TFG\\CityScapesWithPanopticSegm\\dataset\\images\\train\\bremen_000129_000019_gtFine_polygons.png: ignoring corrupt image/label: non-normalized or out of bounds coordinates [     1.0005]\n",
      "\u001b[34m\u001b[1mtrain: \u001b[0mWARNING  C:\\Users\\aaron\\Documents\\Ao4\\TFG\\CityScapesWithPanopticSegm\\dataset\\images\\train\\bremen_000130_000019_gtFine_polygons.png: ignoring corrupt image/label: non-normalized or out of bounds coordinates [      1.001]\n",
      "\u001b[34m\u001b[1mtrain: \u001b[0mWARNING  C:\\Users\\aaron\\Documents\\Ao4\\TFG\\CityScapesWithPanopticSegm\\dataset\\images\\train\\bremen_000132_000019_gtFine_polygons.png: ignoring corrupt image/label: non-normalized or out of bounds coordinates [      1.001]\n",
      "\u001b[34m\u001b[1mtrain: \u001b[0mWARNING  C:\\Users\\aaron\\Documents\\Ao4\\TFG\\CityScapesWithPanopticSegm\\dataset\\images\\train\\bremen_000133_000019_gtFine_polygons.png: ignoring corrupt image/label: non-normalized or out of bounds coordinates [      1.001]\n",
      "\u001b[34m\u001b[1mtrain: \u001b[0mWARNING  C:\\Users\\aaron\\Documents\\Ao4\\TFG\\CityScapesWithPanopticSegm\\dataset\\images\\train\\bremen_000135_000019_gtFine_polygons.png: ignoring corrupt image/label: non-normalized or out of bounds coordinates [     1.0005]\n",
      "\u001b[34m\u001b[1mtrain: \u001b[0mWARNING  C:\\Users\\aaron\\Documents\\Ao4\\TFG\\CityScapesWithPanopticSegm\\dataset\\images\\train\\bremen_000241_000019_gtFine_polygons.png: 1 duplicate labels removed\n",
      "\u001b[34m\u001b[1mtrain: \u001b[0mWARNING  C:\\Users\\aaron\\Documents\\Ao4\\TFG\\CityScapesWithPanopticSegm\\dataset\\images\\train\\cologne_000004_000019_gtFine_polygons.png: 1 duplicate labels removed\n",
      "\u001b[34m\u001b[1mtrain: \u001b[0mWARNING  C:\\Users\\aaron\\Documents\\Ao4\\TFG\\CityScapesWithPanopticSegm\\dataset\\images\\train\\cologne_000006_000019_gtFine_polygons.png: 1 duplicate labels removed\n",
      "\u001b[34m\u001b[1mtrain: \u001b[0mWARNING  C:\\Users\\aaron\\Documents\\Ao4\\TFG\\CityScapesWithPanopticSegm\\dataset\\images\\train\\cologne_000007_000019_gtFine_polygons.png: 2 duplicate labels removed\n",
      "\u001b[34m\u001b[1mtrain: \u001b[0mWARNING  C:\\Users\\aaron\\Documents\\Ao4\\TFG\\CityScapesWithPanopticSegm\\dataset\\images\\train\\cologne_000009_000019_gtFine_polygons.png: 1 duplicate labels removed\n",
      "\u001b[34m\u001b[1mtrain: \u001b[0mWARNING  C:\\Users\\aaron\\Documents\\Ao4\\TFG\\CityScapesWithPanopticSegm\\dataset\\images\\train\\cologne_000012_000019_gtFine_polygons.png: 3 duplicate labels removed\n",
      "\u001b[34m\u001b[1mtrain: \u001b[0mWARNING  C:\\Users\\aaron\\Documents\\Ao4\\TFG\\CityScapesWithPanopticSegm\\dataset\\images\\train\\cologne_000018_000019_gtFine_polygons.png: 5 duplicate labels removed\n",
      "\u001b[34m\u001b[1mtrain: \u001b[0mWARNING  C:\\Users\\aaron\\Documents\\Ao4\\TFG\\CityScapesWithPanopticSegm\\dataset\\images\\train\\cologne_000019_000019_gtFine_polygons.png: 2 duplicate labels removed\n",
      "\u001b[34m\u001b[1mtrain: \u001b[0mWARNING  C:\\Users\\aaron\\Documents\\Ao4\\TFG\\CityScapesWithPanopticSegm\\dataset\\images\\train\\cologne_000021_000019_gtFine_polygons.png: 1 duplicate labels removed\n",
      "\u001b[34m\u001b[1mtrain: \u001b[0mWARNING  C:\\Users\\aaron\\Documents\\Ao4\\TFG\\CityScapesWithPanopticSegm\\dataset\\images\\train\\cologne_000040_000019_gtFine_polygons.png: 1 duplicate labels removed\n",
      "\u001b[34m\u001b[1mtrain: \u001b[0mWARNING  C:\\Users\\aaron\\Documents\\Ao4\\TFG\\CityScapesWithPanopticSegm\\dataset\\images\\train\\cologne_000053_000019_gtFine_polygons.png: 1 duplicate labels removed\n",
      "\u001b[34m\u001b[1mtrain: \u001b[0mWARNING  C:\\Users\\aaron\\Documents\\Ao4\\TFG\\CityScapesWithPanopticSegm\\dataset\\images\\train\\cologne_000056_000019_gtFine_polygons.png: 1 duplicate labels removed\n",
      "\u001b[34m\u001b[1mtrain: \u001b[0mWARNING  C:\\Users\\aaron\\Documents\\Ao4\\TFG\\CityScapesWithPanopticSegm\\dataset\\images\\train\\cologne_000057_000019_gtFine_polygons.png: 1 duplicate labels removed\n",
      "\u001b[34m\u001b[1mtrain: \u001b[0mWARNING  C:\\Users\\aaron\\Documents\\Ao4\\TFG\\CityScapesWithPanopticSegm\\dataset\\images\\train\\cologne_000061_000019_gtFine_polygons.png: 1 duplicate labels removed\n",
      "\u001b[34m\u001b[1mtrain: \u001b[0mWARNING  C:\\Users\\aaron\\Documents\\Ao4\\TFG\\CityScapesWithPanopticSegm\\dataset\\images\\train\\cologne_000090_000019_gtFine_polygons.png: 1 duplicate labels removed\n",
      "\u001b[34m\u001b[1mtrain: \u001b[0mWARNING  C:\\Users\\aaron\\Documents\\Ao4\\TFG\\CityScapesWithPanopticSegm\\dataset\\images\\train\\cologne_000092_000019_gtFine_polygons.png: 3 duplicate labels removed\n",
      "\u001b[34m\u001b[1mtrain: \u001b[0mWARNING  C:\\Users\\aaron\\Documents\\Ao4\\TFG\\CityScapesWithPanopticSegm\\dataset\\images\\train\\cologne_000111_000019_gtFine_polygons.png: 1 duplicate labels removed\n",
      "\u001b[34m\u001b[1mtrain: \u001b[0mWARNING  C:\\Users\\aaron\\Documents\\Ao4\\TFG\\CityScapesWithPanopticSegm\\dataset\\images\\train\\darmstadt_000002_000019_gtFine_polygons.png: 2 duplicate labels removed\n",
      "\u001b[34m\u001b[1mtrain: \u001b[0mWARNING  C:\\Users\\aaron\\Documents\\Ao4\\TFG\\CityScapesWithPanopticSegm\\dataset\\images\\train\\darmstadt_000004_000019_gtFine_polygons.png: 1 duplicate labels removed\n",
      "\u001b[34m\u001b[1mtrain: \u001b[0mWARNING  C:\\Users\\aaron\\Documents\\Ao4\\TFG\\CityScapesWithPanopticSegm\\dataset\\images\\train\\darmstadt_000014_000019_gtFine_polygons.png: 1 duplicate labels removed\n",
      "\u001b[34m\u001b[1mtrain: \u001b[0mWARNING  C:\\Users\\aaron\\Documents\\Ao4\\TFG\\CityScapesWithPanopticSegm\\dataset\\images\\train\\darmstadt_000015_000019_gtFine_polygons.png: 1 duplicate labels removed\n",
      "\u001b[34m\u001b[1mtrain: \u001b[0mWARNING  C:\\Users\\aaron\\Documents\\Ao4\\TFG\\CityScapesWithPanopticSegm\\dataset\\images\\train\\darmstadt_000021_000019_gtFine_polygons.png: 1 duplicate labels removed\n",
      "\u001b[34m\u001b[1mtrain: \u001b[0mWARNING  C:\\Users\\aaron\\Documents\\Ao4\\TFG\\CityScapesWithPanopticSegm\\dataset\\images\\train\\darmstadt_000026_000019_gtFine_polygons.png: 2 duplicate labels removed\n",
      "\u001b[34m\u001b[1mtrain: \u001b[0mWARNING  C:\\Users\\aaron\\Documents\\Ao4\\TFG\\CityScapesWithPanopticSegm\\dataset\\images\\train\\darmstadt_000036_000019_gtFine_polygons.png: 1 duplicate labels removed\n",
      "\u001b[34m\u001b[1mtrain: \u001b[0mWARNING  C:\\Users\\aaron\\Documents\\Ao4\\TFG\\CityScapesWithPanopticSegm\\dataset\\images\\train\\darmstadt_000046_000019_gtFine_polygons.png: 1 duplicate labels removed\n",
      "\u001b[34m\u001b[1mtrain: \u001b[0mWARNING  C:\\Users\\aaron\\Documents\\Ao4\\TFG\\CityScapesWithPanopticSegm\\dataset\\images\\train\\darmstadt_000061_000019_gtFine_polygons.png: 1 duplicate labels removed\n",
      "\u001b[34m\u001b[1mtrain: \u001b[0mWARNING  C:\\Users\\aaron\\Documents\\Ao4\\TFG\\CityScapesWithPanopticSegm\\dataset\\images\\train\\darmstadt_000083_000019_gtFine_polygons.png: 1 duplicate labels removed\n",
      "\u001b[34m\u001b[1mtrain: \u001b[0mWARNING  C:\\Users\\aaron\\Documents\\Ao4\\TFG\\CityScapesWithPanopticSegm\\dataset\\images\\train\\dusseldorf_000057_000019_gtFine_polygons.png: ignoring corrupt image/label: non-normalized or out of bounds coordinates [     1.0005]\n",
      "\u001b[34m\u001b[1mtrain: \u001b[0mWARNING  C:\\Users\\aaron\\Documents\\Ao4\\TFG\\CityScapesWithPanopticSegm\\dataset\\images\\train\\dusseldorf_000068_000019_gtFine_polygons.png: ignoring corrupt image/label: non-normalized or out of bounds coordinates [     1.0005]\n",
      "\u001b[34m\u001b[1mtrain: \u001b[0mWARNING  C:\\Users\\aaron\\Documents\\Ao4\\TFG\\CityScapesWithPanopticSegm\\dataset\\images\\train\\dusseldorf_000075_000019_gtFine_polygons.png: ignoring corrupt image/label: non-normalized or out of bounds coordinates [      1.001]\n",
      "\u001b[34m\u001b[1mtrain: \u001b[0mWARNING  C:\\Users\\aaron\\Documents\\Ao4\\TFG\\CityScapesWithPanopticSegm\\dataset\\images\\train\\dusseldorf_000088_000019_gtFine_polygons.png: ignoring corrupt image/label: non-normalized or out of bounds coordinates [     1.0005]\n",
      "\u001b[34m\u001b[1mtrain: \u001b[0mWARNING  C:\\Users\\aaron\\Documents\\Ao4\\TFG\\CityScapesWithPanopticSegm\\dataset\\images\\train\\dusseldorf_000090_000019_gtFine_polygons.png: ignoring corrupt image/label: non-normalized or out of bounds coordinates [     1.0005]\n",
      "\u001b[34m\u001b[1mtrain: \u001b[0mWARNING  C:\\Users\\aaron\\Documents\\Ao4\\TFG\\CityScapesWithPanopticSegm\\dataset\\images\\train\\dusseldorf_000098_000019_gtFine_polygons.png: ignoring corrupt image/label: non-normalized or out of bounds coordinates [     1.0005]\n",
      "\u001b[34m\u001b[1mtrain: \u001b[0mWARNING  C:\\Users\\aaron\\Documents\\Ao4\\TFG\\CityScapesWithPanopticSegm\\dataset\\images\\train\\dusseldorf_000157_000019_gtFine_polygons.png: ignoring corrupt image/label: non-normalized or out of bounds coordinates [     1.0049]\n",
      "\u001b[34m\u001b[1mtrain: \u001b[0mWARNING  C:\\Users\\aaron\\Documents\\Ao4\\TFG\\CityScapesWithPanopticSegm\\dataset\\images\\train\\dusseldorf_000198_000019_gtFine_polygons.png: ignoring corrupt image/label: non-normalized or out of bounds coordinates [     1.0073]\n",
      "\u001b[34m\u001b[1mtrain: \u001b[0mWARNING  C:\\Users\\aaron\\Documents\\Ao4\\TFG\\CityScapesWithPanopticSegm\\dataset\\images\\train\\erfurt_000020_000019_gtFine_polygons.png: 1 duplicate labels removed\n",
      "\u001b[34m\u001b[1mtrain: \u001b[0mWARNING  C:\\Users\\aaron\\Documents\\Ao4\\TFG\\CityScapesWithPanopticSegm\\dataset\\images\\train\\hamburg_000000_019892_gtFine_polygons.png: 1 duplicate labels removed\n",
      "\u001b[34m\u001b[1mtrain: \u001b[0mWARNING  C:\\Users\\aaron\\Documents\\Ao4\\TFG\\CityScapesWithPanopticSegm\\dataset\\images\\train\\hamburg_000000_032906_gtFine_polygons.png: 1 duplicate labels removed\n",
      "\u001b[34m\u001b[1mtrain: \u001b[0mWARNING  C:\\Users\\aaron\\Documents\\Ao4\\TFG\\CityScapesWithPanopticSegm\\dataset\\images\\train\\hamburg_000000_033506_gtFine_polygons.png: 9 duplicate labels removed\n",
      "\u001b[34m\u001b[1mtrain: \u001b[0mWARNING  C:\\Users\\aaron\\Documents\\Ao4\\TFG\\CityScapesWithPanopticSegm\\dataset\\images\\train\\hamburg_000000_035568_gtFine_polygons.png: 1 duplicate labels removed\n",
      "\u001b[34m\u001b[1mtrain: \u001b[0mWARNING  C:\\Users\\aaron\\Documents\\Ao4\\TFG\\CityScapesWithPanopticSegm\\dataset\\images\\train\\hamburg_000000_039420_gtFine_polygons.png: 1 duplicate labels removed\n",
      "\u001b[34m\u001b[1mtrain: \u001b[0mWARNING  C:\\Users\\aaron\\Documents\\Ao4\\TFG\\CityScapesWithPanopticSegm\\dataset\\images\\train\\hamburg_000000_041667_gtFine_polygons.png: 1 duplicate labels removed\n",
      "\u001b[34m\u001b[1mtrain: \u001b[0mWARNING  C:\\Users\\aaron\\Documents\\Ao4\\TFG\\CityScapesWithPanopticSegm\\dataset\\images\\train\\hamburg_000000_053886_gtFine_polygons.png: 1 duplicate labels removed\n",
      "\u001b[34m\u001b[1mtrain: \u001b[0mWARNING  C:\\Users\\aaron\\Documents\\Ao4\\TFG\\CityScapesWithPanopticSegm\\dataset\\images\\train\\hamburg_000000_071016_gtFine_polygons.png: 1 duplicate labels removed\n",
      "\u001b[34m\u001b[1mtrain: \u001b[0mWARNING  C:\\Users\\aaron\\Documents\\Ao4\\TFG\\CityScapesWithPanopticSegm\\dataset\\images\\train\\hamburg_000000_080438_gtFine_polygons.png: 1 duplicate labels removed\n",
      "\u001b[34m\u001b[1mtrain: \u001b[0mWARNING  C:\\Users\\aaron\\Documents\\Ao4\\TFG\\CityScapesWithPanopticSegm\\dataset\\images\\train\\hanover_000000_012347_gtFine_polygons.png: 1 duplicate labels removed\n",
      "\u001b[34m\u001b[1mtrain: \u001b[0mWARNING  C:\\Users\\aaron\\Documents\\Ao4\\TFG\\CityScapesWithPanopticSegm\\dataset\\images\\train\\hanover_000000_014537_gtFine_polygons.png: 1 duplicate labels removed\n",
      "\u001b[34m\u001b[1mtrain: \u001b[0mWARNING  C:\\Users\\aaron\\Documents\\Ao4\\TFG\\CityScapesWithPanopticSegm\\dataset\\images\\train\\hanover_000000_015587_gtFine_polygons.png: 1 duplicate labels removed\n",
      "\u001b[34m\u001b[1mtrain: \u001b[0mWARNING  C:\\Users\\aaron\\Documents\\Ao4\\TFG\\CityScapesWithPanopticSegm\\dataset\\images\\train\\hanover_000000_018800_gtFine_polygons.png: 3 duplicate labels removed\n",
      "\u001b[34m\u001b[1mtrain: \u001b[0mWARNING  C:\\Users\\aaron\\Documents\\Ao4\\TFG\\CityScapesWithPanopticSegm\\dataset\\images\\train\\hanover_000000_019116_gtFine_polygons.png: 4 duplicate labels removed\n",
      "\u001b[34m\u001b[1mtrain: \u001b[0mWARNING  C:\\Users\\aaron\\Documents\\Ao4\\TFG\\CityScapesWithPanopticSegm\\dataset\\images\\train\\hanover_000000_019282_gtFine_polygons.png: 2 duplicate labels removed\n",
      "\u001b[34m\u001b[1mtrain: \u001b[0mWARNING  C:\\Users\\aaron\\Documents\\Ao4\\TFG\\CityScapesWithPanopticSegm\\dataset\\images\\train\\hanover_000000_019456_gtFine_polygons.png: 1 duplicate labels removed\n",
      "\u001b[34m\u001b[1mtrain: \u001b[0mWARNING  C:\\Users\\aaron\\Documents\\Ao4\\TFG\\CityScapesWithPanopticSegm\\dataset\\images\\train\\hanover_000000_019672_gtFine_polygons.png: 1 duplicate labels removed\n",
      "\u001b[34m\u001b[1mtrain: \u001b[0mWARNING  C:\\Users\\aaron\\Documents\\Ao4\\TFG\\CityScapesWithPanopticSegm\\dataset\\images\\train\\hanover_000000_022645_gtFine_polygons.png: 4 duplicate labels removed\n",
      "\u001b[34m\u001b[1mtrain: \u001b[0mWARNING  C:\\Users\\aaron\\Documents\\Ao4\\TFG\\CityScapesWithPanopticSegm\\dataset\\images\\train\\hanover_000000_026356_gtFine_polygons.png: 1 duplicate labels removed\n",
      "\u001b[34m\u001b[1mtrain: \u001b[0mWARNING  C:\\Users\\aaron\\Documents\\Ao4\\TFG\\CityScapesWithPanopticSegm\\dataset\\images\\train\\hanover_000000_034015_gtFine_polygons.png: 2 duplicate labels removed\n",
      "\u001b[34m\u001b[1mtrain: \u001b[0mWARNING  C:\\Users\\aaron\\Documents\\Ao4\\TFG\\CityScapesWithPanopticSegm\\dataset\\images\\train\\hanover_000000_034141_gtFine_polygons.png: 2 duplicate labels removed\n",
      "\u001b[34m\u001b[1mtrain: \u001b[0mWARNING  C:\\Users\\aaron\\Documents\\Ao4\\TFG\\CityScapesWithPanopticSegm\\dataset\\images\\train\\hanover_000000_036051_gtFine_polygons.png: 1 duplicate labels removed\n",
      "\u001b[34m\u001b[1mtrain: \u001b[0mWARNING  C:\\Users\\aaron\\Documents\\Ao4\\TFG\\CityScapesWithPanopticSegm\\dataset\\images\\train\\hanover_000000_047499_gtFine_polygons.png: 1 duplicate labels removed\n",
      "\u001b[34m\u001b[1mtrain: \u001b[0mWARNING  C:\\Users\\aaron\\Documents\\Ao4\\TFG\\CityScapesWithPanopticSegm\\dataset\\images\\train\\hanover_000000_047870_gtFine_polygons.png: 1 duplicate labels removed\n",
      "\u001b[34m\u001b[1mtrain: \u001b[0mWARNING  C:\\Users\\aaron\\Documents\\Ao4\\TFG\\CityScapesWithPanopticSegm\\dataset\\images\\train\\hanover_000000_051152_gtFine_polygons.png: 2 duplicate labels removed\n",
      "\u001b[34m\u001b[1mtrain: \u001b[0mWARNING  C:\\Users\\aaron\\Documents\\Ao4\\TFG\\CityScapesWithPanopticSegm\\dataset\\images\\train\\hanover_000000_051536_gtFine_polygons.png: 2 duplicate labels removed\n",
      "\u001b[34m\u001b[1mtrain: \u001b[0mWARNING  C:\\Users\\aaron\\Documents\\Ao4\\TFG\\CityScapesWithPanopticSegm\\dataset\\images\\train\\hanover_000000_052512_gtFine_polygons.png: 1 duplicate labels removed\n",
      "\u001b[34m\u001b[1mtrain: \u001b[0mWARNING  C:\\Users\\aaron\\Documents\\Ao4\\TFG\\CityScapesWithPanopticSegm\\dataset\\images\\train\\hanover_000000_053027_gtFine_polygons.png: 1 duplicate labels removed\n",
      "\u001b[34m\u001b[1mtrain: \u001b[0mWARNING  C:\\Users\\aaron\\Documents\\Ao4\\TFG\\CityScapesWithPanopticSegm\\dataset\\images\\train\\hanover_000000_056800_gtFine_polygons.png: 1 duplicate labels removed\n",
      "\u001b[34m\u001b[1mtrain: \u001b[0mWARNING  C:\\Users\\aaron\\Documents\\Ao4\\TFG\\CityScapesWithPanopticSegm\\dataset\\images\\train\\jena_000059_000019_gtFine_polygons.png: ignoring corrupt image/label: non-normalized or out of bounds coordinates [     1.0005]\n",
      "\u001b[34m\u001b[1mtrain: \u001b[0mWARNING  C:\\Users\\aaron\\Documents\\Ao4\\TFG\\CityScapesWithPanopticSegm\\dataset\\images\\train\\krefeld_000000_004608_gtFine_polygons.png: 2 duplicate labels removed\n",
      "\u001b[34m\u001b[1mtrain: \u001b[0mWARNING  C:\\Users\\aaron\\Documents\\Ao4\\TFG\\CityScapesWithPanopticSegm\\dataset\\images\\train\\krefeld_000000_011655_gtFine_polygons.png: 1 duplicate labels removed\n",
      "\u001b[34m\u001b[1mtrain: \u001b[0mWARNING  C:\\Users\\aaron\\Documents\\Ao4\\TFG\\CityScapesWithPanopticSegm\\dataset\\images\\train\\krefeld_000000_013766_gtFine_polygons.png: 1 duplicate labels removed\n",
      "\u001b[34m\u001b[1mtrain: \u001b[0mWARNING  C:\\Users\\aaron\\Documents\\Ao4\\TFG\\CityScapesWithPanopticSegm\\dataset\\images\\train\\krefeld_000000_020933_gtFine_polygons.png: 1 duplicate labels removed\n",
      "\u001b[34m\u001b[1mtrain: \u001b[0mWARNING  C:\\Users\\aaron\\Documents\\Ao4\\TFG\\CityScapesWithPanopticSegm\\dataset\\images\\train\\strasbourg_000000_013654_gtFine_polygons.png: 1 duplicate labels removed\n",
      "\u001b[34m\u001b[1mtrain: \u001b[0mWARNING  C:\\Users\\aaron\\Documents\\Ao4\\TFG\\CityScapesWithPanopticSegm\\dataset\\images\\train\\strasbourg_000000_014503_gtFine_polygons.png: 1 duplicate labels removed\n",
      "\u001b[34m\u001b[1mtrain: \u001b[0mWARNING  C:\\Users\\aaron\\Documents\\Ao4\\TFG\\CityScapesWithPanopticSegm\\dataset\\images\\train\\strasbourg_000001_030539_gtFine_polygons.png: 1 duplicate labels removed\n",
      "\u001b[34m\u001b[1mtrain: \u001b[0mWARNING  C:\\Users\\aaron\\Documents\\Ao4\\TFG\\CityScapesWithPanopticSegm\\dataset\\images\\train\\strasbourg_000001_030997_gtFine_polygons.png: 1 duplicate labels removed\n",
      "\u001b[34m\u001b[1mtrain: \u001b[0mWARNING  C:\\Users\\aaron\\Documents\\Ao4\\TFG\\CityScapesWithPanopticSegm\\dataset\\images\\train\\strasbourg_000001_031582_gtFine_polygons.png: 1 duplicate labels removed\n",
      "\u001b[34m\u001b[1mtrain: \u001b[0mWARNING  C:\\Users\\aaron\\Documents\\Ao4\\TFG\\CityScapesWithPanopticSegm\\dataset\\images\\train\\strasbourg_000001_051317_gtFine_polygons.png: 1 duplicate labels removed\n",
      "\u001b[34m\u001b[1mtrain: \u001b[0mWARNING  C:\\Users\\aaron\\Documents\\Ao4\\TFG\\CityScapesWithPanopticSegm\\dataset\\images\\train\\strasbourg_000001_052050_gtFine_polygons.png: 1 duplicate labels removed\n",
      "\u001b[34m\u001b[1mtrain: \u001b[0mWARNING  C:\\Users\\aaron\\Documents\\Ao4\\TFG\\CityScapesWithPanopticSegm\\dataset\\images\\train\\strasbourg_000001_058373_gtFine_polygons.png: 14 duplicate labels removed\n",
      "\u001b[34m\u001b[1mtrain: \u001b[0mWARNING  C:\\Users\\aaron\\Documents\\Ao4\\TFG\\CityScapesWithPanopticSegm\\dataset\\images\\train\\strasbourg_000001_058954_gtFine_polygons.png: 1 duplicate labels removed\n",
      "\u001b[34m\u001b[1mtrain: \u001b[0mWARNING  C:\\Users\\aaron\\Documents\\Ao4\\TFG\\CityScapesWithPanopticSegm\\dataset\\images\\train\\strasbourg_000001_062691_gtFine_polygons.png: 1 duplicate labels removed\n",
      "\u001b[34m\u001b[1mtrain: \u001b[0mWARNING  C:\\Users\\aaron\\Documents\\Ao4\\TFG\\CityScapesWithPanopticSegm\\dataset\\images\\train\\strasbourg_000001_064224_gtFine_polygons.png: 2 duplicate labels removed\n",
      "\u001b[34m\u001b[1mtrain: \u001b[0mWARNING  C:\\Users\\aaron\\Documents\\Ao4\\TFG\\CityScapesWithPanopticSegm\\dataset\\images\\train\\strasbourg_000001_064393_gtFine_polygons.png: 1 duplicate labels removed\n",
      "\u001b[34m\u001b[1mtrain: \u001b[0mWARNING  C:\\Users\\aaron\\Documents\\Ao4\\TFG\\CityScapesWithPanopticSegm\\dataset\\images\\train\\stuttgart_000002_000019_gtFine_polygons.png: ignoring corrupt image/label: non-normalized or out of bounds coordinates [     1.0005]\n",
      "\u001b[34m\u001b[1mtrain: \u001b[0mWARNING  C:\\Users\\aaron\\Documents\\Ao4\\TFG\\CityScapesWithPanopticSegm\\dataset\\images\\train\\stuttgart_000005_000019_gtFine_polygons.png: ignoring corrupt image/label: non-normalized or out of bounds coordinates [      1.001]\n",
      "\u001b[34m\u001b[1mtrain: \u001b[0mWARNING  C:\\Users\\aaron\\Documents\\Ao4\\TFG\\CityScapesWithPanopticSegm\\dataset\\images\\train\\stuttgart_000006_000019_gtFine_polygons.png: 1 duplicate labels removed\n",
      "\u001b[34m\u001b[1mtrain: \u001b[0mWARNING  C:\\Users\\aaron\\Documents\\Ao4\\TFG\\CityScapesWithPanopticSegm\\dataset\\images\\train\\stuttgart_000068_000019_gtFine_polygons.png: 1 duplicate labels removed\n",
      "\u001b[34m\u001b[1mtrain: \u001b[0mWARNING  C:\\Users\\aaron\\Documents\\Ao4\\TFG\\CityScapesWithPanopticSegm\\dataset\\images\\train\\stuttgart_000109_000019_gtFine_polygons.png: 1 duplicate labels removed\n",
      "\u001b[34m\u001b[1mtrain: \u001b[0mWARNING  C:\\Users\\aaron\\Documents\\Ao4\\TFG\\CityScapesWithPanopticSegm\\dataset\\images\\train\\stuttgart_000120_000019_gtFine_polygons.png: 2 duplicate labels removed\n",
      "\u001b[34m\u001b[1mtrain: \u001b[0mWARNING  C:\\Users\\aaron\\Documents\\Ao4\\TFG\\CityScapesWithPanopticSegm\\dataset\\images\\train\\stuttgart_000168_000019_gtFine_polygons.png: 1 duplicate labels removed\n",
      "\u001b[34m\u001b[1mtrain: \u001b[0mWARNING  C:\\Users\\aaron\\Documents\\Ao4\\TFG\\CityScapesWithPanopticSegm\\dataset\\images\\train\\stuttgart_000175_000019_gtFine_polygons.png: 2 duplicate labels removed\n",
      "\u001b[34m\u001b[1mtrain: \u001b[0mWARNING  C:\\Users\\aaron\\Documents\\Ao4\\TFG\\CityScapesWithPanopticSegm\\dataset\\images\\train\\stuttgart_000184_000019_gtFine_polygons.png: 2 duplicate labels removed\n",
      "\u001b[34m\u001b[1mtrain: \u001b[0mWARNING  C:\\Users\\aaron\\Documents\\Ao4\\TFG\\CityScapesWithPanopticSegm\\dataset\\images\\train\\tubingen_000008_000019_gtFine_polygons.png: 1 duplicate labels removed\n",
      "\u001b[34m\u001b[1mtrain: \u001b[0mWARNING  C:\\Users\\aaron\\Documents\\Ao4\\TFG\\CityScapesWithPanopticSegm\\dataset\\images\\train\\tubingen_000089_000019_gtFine_polygons.png: 1 duplicate labels removed\n",
      "\u001b[34m\u001b[1mtrain: \u001b[0mWARNING  C:\\Users\\aaron\\Documents\\Ao4\\TFG\\CityScapesWithPanopticSegm\\dataset\\images\\train\\tubingen_000118_000019_gtFine_polygons.png: 6 duplicate labels removed\n",
      "\u001b[34m\u001b[1mtrain: \u001b[0mWARNING  C:\\Users\\aaron\\Documents\\Ao4\\TFG\\CityScapesWithPanopticSegm\\dataset\\images\\train\\ulm_000004_000019_gtFine_polygons.png: 2 duplicate labels removed\n",
      "\u001b[34m\u001b[1mtrain: \u001b[0mWARNING  C:\\Users\\aaron\\Documents\\Ao4\\TFG\\CityScapesWithPanopticSegm\\dataset\\images\\train\\ulm_000005_000019_gtFine_polygons.png: 4 duplicate labels removed\n",
      "\u001b[34m\u001b[1mtrain: \u001b[0mWARNING  C:\\Users\\aaron\\Documents\\Ao4\\TFG\\CityScapesWithPanopticSegm\\dataset\\images\\train\\ulm_000006_000019_gtFine_polygons.png: 8 duplicate labels removed\n",
      "\u001b[34m\u001b[1mtrain: \u001b[0mWARNING  C:\\Users\\aaron\\Documents\\Ao4\\TFG\\CityScapesWithPanopticSegm\\dataset\\images\\train\\ulm_000011_000019_gtFine_polygons.png: 1 duplicate labels removed\n",
      "\u001b[34m\u001b[1mtrain: \u001b[0mWARNING  C:\\Users\\aaron\\Documents\\Ao4\\TFG\\CityScapesWithPanopticSegm\\dataset\\images\\train\\ulm_000012_000019_gtFine_polygons.png: 2 duplicate labels removed\n",
      "\u001b[34m\u001b[1mtrain: \u001b[0mWARNING  C:\\Users\\aaron\\Documents\\Ao4\\TFG\\CityScapesWithPanopticSegm\\dataset\\images\\train\\ulm_000013_000019_gtFine_polygons.png: 2 duplicate labels removed\n",
      "\u001b[34m\u001b[1mtrain: \u001b[0mWARNING  C:\\Users\\aaron\\Documents\\Ao4\\TFG\\CityScapesWithPanopticSegm\\dataset\\images\\train\\ulm_000017_000019_gtFine_polygons.png: 2 duplicate labels removed\n",
      "\u001b[34m\u001b[1mtrain: \u001b[0mWARNING  C:\\Users\\aaron\\Documents\\Ao4\\TFG\\CityScapesWithPanopticSegm\\dataset\\images\\train\\ulm_000024_000019_gtFine_polygons.png: 2 duplicate labels removed\n",
      "\u001b[34m\u001b[1mtrain: \u001b[0mWARNING  C:\\Users\\aaron\\Documents\\Ao4\\TFG\\CityScapesWithPanopticSegm\\dataset\\images\\train\\ulm_000025_000019_gtFine_polygons.png: 3 duplicate labels removed\n",
      "\u001b[34m\u001b[1mtrain: \u001b[0mWARNING  C:\\Users\\aaron\\Documents\\Ao4\\TFG\\CityScapesWithPanopticSegm\\dataset\\images\\train\\ulm_000037_000019_gtFine_polygons.png: 1 duplicate labels removed\n",
      "\u001b[34m\u001b[1mtrain: \u001b[0mWARNING  C:\\Users\\aaron\\Documents\\Ao4\\TFG\\CityScapesWithPanopticSegm\\dataset\\images\\train\\ulm_000056_000019_gtFine_polygons.png: 2 duplicate labels removed\n",
      "\u001b[34m\u001b[1mtrain: \u001b[0mWARNING  C:\\Users\\aaron\\Documents\\Ao4\\TFG\\CityScapesWithPanopticSegm\\dataset\\images\\train\\ulm_000058_000019_gtFine_polygons.png: 3 duplicate labels removed\n",
      "\u001b[34m\u001b[1mtrain: \u001b[0mWARNING  C:\\Users\\aaron\\Documents\\Ao4\\TFG\\CityScapesWithPanopticSegm\\dataset\\images\\train\\ulm_000067_000019_gtFine_polygons.png: 3 duplicate labels removed\n",
      "\u001b[34m\u001b[1mtrain: \u001b[0mWARNING  C:\\Users\\aaron\\Documents\\Ao4\\TFG\\CityScapesWithPanopticSegm\\dataset\\images\\train\\ulm_000068_000019_gtFine_polygons.png: 3 duplicate labels removed\n",
      "\u001b[34m\u001b[1mtrain: \u001b[0mWARNING  C:\\Users\\aaron\\Documents\\Ao4\\TFG\\CityScapesWithPanopticSegm\\dataset\\images\\train\\ulm_000069_000019_gtFine_polygons.png: 3 duplicate labels removed\n",
      "\u001b[34m\u001b[1mtrain: \u001b[0mWARNING  C:\\Users\\aaron\\Documents\\Ao4\\TFG\\CityScapesWithPanopticSegm\\dataset\\images\\train\\ulm_000078_000019_gtFine_polygons.png: 1 duplicate labels removed\n",
      "\u001b[34m\u001b[1mtrain: \u001b[0mWARNING  C:\\Users\\aaron\\Documents\\Ao4\\TFG\\CityScapesWithPanopticSegm\\dataset\\images\\train\\ulm_000079_000019_gtFine_polygons.png: 1 duplicate labels removed\n",
      "\u001b[34m\u001b[1mtrain: \u001b[0mWARNING  C:\\Users\\aaron\\Documents\\Ao4\\TFG\\CityScapesWithPanopticSegm\\dataset\\images\\train\\ulm_000084_000019_gtFine_polygons.png: 2 duplicate labels removed\n",
      "\u001b[34m\u001b[1mtrain: \u001b[0mWARNING  C:\\Users\\aaron\\Documents\\Ao4\\TFG\\CityScapesWithPanopticSegm\\dataset\\images\\train\\weimar_000013_000019_gtFine_polygons.png: ignoring corrupt image/label: non-normalized or out of bounds coordinates [      1.001]\n",
      "\u001b[34m\u001b[1mtrain: \u001b[0mWARNING  C:\\Users\\aaron\\Documents\\Ao4\\TFG\\CityScapesWithPanopticSegm\\dataset\\images\\train\\zurich_000002_000019_gtFine_polygons.png: ignoring corrupt image/label: non-normalized or out of bounds coordinates [     1.0005]\n",
      "\u001b[34m\u001b[1mtrain: \u001b[0mWARNING  C:\\Users\\aaron\\Documents\\Ao4\\TFG\\CityScapesWithPanopticSegm\\dataset\\images\\train\\zurich_000027_000019_gtFine_polygons.png: 1 duplicate labels removed\n",
      "\u001b[34m\u001b[1mtrain: \u001b[0mWARNING  C:\\Users\\aaron\\Documents\\Ao4\\TFG\\CityScapesWithPanopticSegm\\dataset\\images\\train\\zurich_000107_000019_gtFine_polygons.png: 1 duplicate labels removed\n"
     ]
    },
    {
     "name": "stderr",
     "output_type": "stream",
     "text": [
      "\n",
      "\u001b[34m\u001b[1mval: \u001b[0mScanning C:\\Users\\aaron\\Documents\\Año4\\TFG\\CityScapesWithPanopticSegm\\dataset\\labels\\val.cache... 500 images, 0 backgrounds, 5 corrupt: 100%|██████████| 500/500 [00:00<?, ?it/s]"
     ]
    },
    {
     "name": "stdout",
     "output_type": "stream",
     "text": [
      "\u001b[34m\u001b[1mval: \u001b[0mWARNING  C:\\Users\\aaron\\Documents\\Ao4\\TFG\\CityScapesWithPanopticSegm\\dataset\\images\\val\\frankfurt_000001_016273_gtFine_polygons.png: 1 duplicate labels removed\n",
      "\u001b[34m\u001b[1mval: \u001b[0mWARNING  C:\\Users\\aaron\\Documents\\Ao4\\TFG\\CityScapesWithPanopticSegm\\dataset\\images\\val\\frankfurt_000001_017101_gtFine_polygons.png: 1 duplicate labels removed\n",
      "\u001b[34m\u001b[1mval: \u001b[0mWARNING  C:\\Users\\aaron\\Documents\\Ao4\\TFG\\CityScapesWithPanopticSegm\\dataset\\images\\val\\frankfurt_000001_028232_gtFine_polygons.png: 1 duplicate labels removed\n",
      "\u001b[34m\u001b[1mval: \u001b[0mWARNING  C:\\Users\\aaron\\Documents\\Ao4\\TFG\\CityScapesWithPanopticSegm\\dataset\\images\\val\\frankfurt_000001_046272_gtFine_polygons.png: 1 duplicate labels removed\n",
      "\u001b[34m\u001b[1mval: \u001b[0mWARNING  C:\\Users\\aaron\\Documents\\Ao4\\TFG\\CityScapesWithPanopticSegm\\dataset\\images\\val\\frankfurt_000001_077434_gtFine_polygons.png: 1 duplicate labels removed\n",
      "\u001b[34m\u001b[1mval: \u001b[0mWARNING  C:\\Users\\aaron\\Documents\\Ao4\\TFG\\CityScapesWithPanopticSegm\\dataset\\images\\val\\lindau_000000_000019_gtFine_polygons.png: ignoring corrupt image/label: non-normalized or out of bounds coordinates [     1.0034]\n",
      "\u001b[34m\u001b[1mval: \u001b[0mWARNING  C:\\Users\\aaron\\Documents\\Ao4\\TFG\\CityScapesWithPanopticSegm\\dataset\\images\\val\\lindau_000013_000019_gtFine_polygons.png: ignoring corrupt image/label: non-normalized or out of bounds coordinates [     1.0005]\n",
      "\u001b[34m\u001b[1mval: \u001b[0mWARNING  C:\\Users\\aaron\\Documents\\Ao4\\TFG\\CityScapesWithPanopticSegm\\dataset\\images\\val\\lindau_000018_000019_gtFine_polygons.png: ignoring corrupt image/label: non-normalized or out of bounds coordinates [      1.001]\n",
      "\u001b[34m\u001b[1mval: \u001b[0mWARNING  C:\\Users\\aaron\\Documents\\Ao4\\TFG\\CityScapesWithPanopticSegm\\dataset\\images\\val\\munster_000026_000019_gtFine_polygons.png: 2 duplicate labels removed\n",
      "\u001b[34m\u001b[1mval: \u001b[0mWARNING  C:\\Users\\aaron\\Documents\\Ao4\\TFG\\CityScapesWithPanopticSegm\\dataset\\images\\val\\munster_000029_000019_gtFine_polygons.png: 1 duplicate labels removed\n",
      "\u001b[34m\u001b[1mval: \u001b[0mWARNING  C:\\Users\\aaron\\Documents\\Ao4\\TFG\\CityScapesWithPanopticSegm\\dataset\\images\\val\\munster_000035_000019_gtFine_polygons.png: ignoring corrupt image/label: non-normalized or out of bounds coordinates [     1.0005]\n",
      "\u001b[34m\u001b[1mval: \u001b[0mWARNING  C:\\Users\\aaron\\Documents\\Ao4\\TFG\\CityScapesWithPanopticSegm\\dataset\\images\\val\\munster_000045_000019_gtFine_polygons.png: ignoring corrupt image/label: non-normalized or out of bounds coordinates [     1.0005]\n",
      "\u001b[34m\u001b[1mval: \u001b[0mWARNING  C:\\Users\\aaron\\Documents\\Ao4\\TFG\\CityScapesWithPanopticSegm\\dataset\\images\\val\\munster_000049_000019_gtFine_polygons.png: 1 duplicate labels removed\n",
      "\u001b[34m\u001b[1mval: \u001b[0mWARNING  C:\\Users\\aaron\\Documents\\Ao4\\TFG\\CityScapesWithPanopticSegm\\dataset\\images\\val\\munster_000108_000019_gtFine_polygons.png: 1 duplicate labels removed\n",
      "\u001b[34m\u001b[1mval: \u001b[0mWARNING  C:\\Users\\aaron\\Documents\\Ao4\\TFG\\CityScapesWithPanopticSegm\\dataset\\images\\val\\munster_000140_000019_gtFine_polygons.png: 1 duplicate labels removed\n",
      "\u001b[34m\u001b[1mval: \u001b[0mWARNING  C:\\Users\\aaron\\Documents\\Ao4\\TFG\\CityScapesWithPanopticSegm\\dataset\\images\\val\\munster_000141_000019_gtFine_polygons.png: 1 duplicate labels removed\n",
      "\u001b[34m\u001b[1mval: \u001b[0mWARNING  C:\\Users\\aaron\\Documents\\Ao4\\TFG\\CityScapesWithPanopticSegm\\dataset\\images\\val\\munster_000142_000019_gtFine_polygons.png: 1 duplicate labels removed\n",
      "\u001b[34m\u001b[1mval: \u001b[0mWARNING  C:\\Users\\aaron\\Documents\\Ao4\\TFG\\CityScapesWithPanopticSegm\\dataset\\images\\val\\munster_000167_000019_gtFine_polygons.png: 1 duplicate labels removed\n",
      "Plotting labels to runs\\segment\\train58\\labels.jpg... \n"
     ]
    },
    {
     "name": "stderr",
     "output_type": "stream",
     "text": [
      "\n"
     ]
    },
    {
     "name": "stdout",
     "output_type": "stream",
     "text": [
      "\u001b[34m\u001b[1moptimizer:\u001b[0m 'optimizer=auto' found, ignoring 'lr0=0.001' and 'momentum=0.937' and determining best 'optimizer', 'lr0' and 'momentum' automatically... \n",
      "\u001b[34m\u001b[1moptimizer:\u001b[0m AdamW(lr=0.000588, momentum=0.9) with parameter groups 66 weight(decay=0.0), 77 weight(decay=0.0004), 76 bias(decay=0.0)\n",
      "Image sizes 640 train, 640 val\n",
      "Using 0 dataloader workers\n",
      "Logging results to \u001b[1mruns\\segment\\train58\u001b[0m\n",
      "Starting training for 50 epochs...\n",
      "\n",
      "      Epoch    GPU_mem   box_loss   seg_loss   cls_loss   dfl_loss  Instances       Size\n"
     ]
    },
    {
     "name": "stderr",
     "output_type": "stream",
     "text": [
      "       1/50      3.92G      1.691      3.341        1.4      1.402        885        640: 100%|██████████| 369/369 [13:02<00:00,  2.12s/it]\n",
      "                 Class     Images  Instances      Box(P          R      mAP50  mAP50-95)     Mask(P          R      mAP50  mAP50-95): 100%|██████████| 31/31 [00:52<00:00,  1.70s/it]\n"
     ]
    },
    {
     "name": "stdout",
     "output_type": "stream",
     "text": [
      "                   all        495      23219      0.589      0.425      0.445      0.268      0.538      0.366      0.358      0.188\n",
      "\n",
      "      Epoch    GPU_mem   box_loss   seg_loss   cls_loss   dfl_loss  Instances       Size\n"
     ]
    },
    {
     "name": "stderr",
     "output_type": "stream",
     "text": [
      "       2/50      5.11G      1.679      3.296      1.366      1.395        427        640: 100%|██████████| 369/369 [12:37<00:00,  2.05s/it]\n",
      "                 Class     Images  Instances      Box(P          R      mAP50  mAP50-95)     Mask(P          R      mAP50  mAP50-95): 100%|██████████| 31/31 [00:52<00:00,  1.71s/it]\n"
     ]
    },
    {
     "name": "stdout",
     "output_type": "stream",
     "text": [
      "                   all        495      23219      0.543      0.424      0.435      0.264      0.474      0.365      0.349      0.184\n",
      "\n",
      "      Epoch    GPU_mem   box_loss   seg_loss   cls_loss   dfl_loss  Instances       Size\n"
     ]
    },
    {
     "name": "stderr",
     "output_type": "stream",
     "text": [
      "       3/50      4.57G      1.674      3.296      1.367      1.395        414        640: 100%|██████████| 369/369 [12:34<00:00,  2.04s/it]\n",
      "                 Class     Images  Instances      Box(P          R      mAP50  mAP50-95)     Mask(P          R      mAP50  mAP50-95): 100%|██████████| 31/31 [00:52<00:00,  1.71s/it]\n"
     ]
    },
    {
     "name": "stdout",
     "output_type": "stream",
     "text": [
      "                   all        495      23219      0.535      0.434      0.427      0.256       0.47      0.384      0.351       0.18\n",
      "\n",
      "      Epoch    GPU_mem   box_loss   seg_loss   cls_loss   dfl_loss  Instances       Size\n"
     ]
    },
    {
     "name": "stderr",
     "output_type": "stream",
     "text": [
      "       4/50      4.18G      1.676      3.299      1.366      1.399        427        640: 100%|██████████| 369/369 [12:38<00:00,  2.06s/it]\n",
      "                 Class     Images  Instances      Box(P          R      mAP50  mAP50-95)     Mask(P          R      mAP50  mAP50-95): 100%|██████████| 31/31 [00:52<00:00,  1.70s/it]\n"
     ]
    },
    {
     "name": "stdout",
     "output_type": "stream",
     "text": [
      "                   all        495      23219      0.556       0.42      0.426      0.255       0.49      0.364      0.338      0.176\n",
      "\n",
      "      Epoch    GPU_mem   box_loss   seg_loss   cls_loss   dfl_loss  Instances       Size\n"
     ]
    },
    {
     "name": "stderr",
     "output_type": "stream",
     "text": [
      "       5/50      3.49G      1.652      3.252      1.333      1.383        756        640: 100%|██████████| 369/369 [12:33<00:00,  2.04s/it]\n",
      "                 Class     Images  Instances      Box(P          R      mAP50  mAP50-95)     Mask(P          R      mAP50  mAP50-95): 100%|██████████| 31/31 [00:52<00:00,  1.70s/it]\n"
     ]
    },
    {
     "name": "stdout",
     "output_type": "stream",
     "text": [
      "                   all        495      23219      0.542      0.451      0.439      0.262      0.474      0.397      0.363      0.189\n",
      "\n",
      "      Epoch    GPU_mem   box_loss   seg_loss   cls_loss   dfl_loss  Instances       Size\n"
     ]
    },
    {
     "name": "stderr",
     "output_type": "stream",
     "text": [
      "       6/50      4.71G       1.67      3.277      1.352      1.392        577        640: 100%|██████████| 369/369 [12:24<00:00,  2.02s/it]\n",
      "                 Class     Images  Instances      Box(P          R      mAP50  mAP50-95)     Mask(P          R      mAP50  mAP50-95): 100%|██████████| 31/31 [00:52<00:00,  1.70s/it]\n"
     ]
    },
    {
     "name": "stdout",
     "output_type": "stream",
     "text": [
      "                   all        495      23219      0.538      0.418      0.423      0.253      0.476      0.361      0.345      0.176\n",
      "\n",
      "      Epoch    GPU_mem   box_loss   seg_loss   cls_loss   dfl_loss  Instances       Size\n"
     ]
    },
    {
     "name": "stderr",
     "output_type": "stream",
     "text": [
      "       7/50      5.38G      1.667      3.276      1.341       1.39        644        640: 100%|██████████| 369/369 [12:31<00:00,  2.04s/it]\n",
      "                 Class     Images  Instances      Box(P          R      mAP50  mAP50-95)     Mask(P          R      mAP50  mAP50-95): 100%|██████████| 31/31 [00:53<00:00,  1.72s/it]\n"
     ]
    },
    {
     "name": "stdout",
     "output_type": "stream",
     "text": [
      "                   all        495      23219      0.595      0.418      0.441      0.269      0.537      0.362       0.36      0.188\n",
      "\n",
      "      Epoch    GPU_mem   box_loss   seg_loss   cls_loss   dfl_loss  Instances       Size\n"
     ]
    },
    {
     "name": "stderr",
     "output_type": "stream",
     "text": [
      "       8/50      4.78G      1.675      3.289      1.347      1.394        517        640: 100%|██████████| 369/369 [12:45<00:00,  2.07s/it]\n",
      "                 Class     Images  Instances      Box(P          R      mAP50  mAP50-95)     Mask(P          R      mAP50  mAP50-95): 100%|██████████| 31/31 [00:52<00:00,  1.70s/it]\n"
     ]
    },
    {
     "name": "stdout",
     "output_type": "stream",
     "text": [
      "                   all        495      23219      0.575      0.436      0.439      0.264      0.519      0.369      0.354      0.185\n",
      "\n",
      "      Epoch    GPU_mem   box_loss   seg_loss   cls_loss   dfl_loss  Instances       Size\n"
     ]
    },
    {
     "name": "stderr",
     "output_type": "stream",
     "text": [
      "       9/50      4.52G      1.659      3.262      1.328      1.382        281        640: 100%|██████████| 369/369 [12:43<00:00,  2.07s/it]\n",
      "                 Class     Images  Instances      Box(P          R      mAP50  mAP50-95)     Mask(P          R      mAP50  mAP50-95): 100%|██████████| 31/31 [00:52<00:00,  1.70s/it]\n"
     ]
    },
    {
     "name": "stdout",
     "output_type": "stream",
     "text": [
      "                   all        495      23219      0.577      0.437      0.447      0.275      0.522      0.384      0.371      0.198\n",
      "\n",
      "      Epoch    GPU_mem   box_loss   seg_loss   cls_loss   dfl_loss  Instances       Size\n"
     ]
    },
    {
     "name": "stderr",
     "output_type": "stream",
     "text": [
      "      10/50      4.48G       1.64      3.224      1.315      1.376        740        640: 100%|██████████| 369/369 [12:16<00:00,  2.00s/it]\n",
      "                 Class     Images  Instances      Box(P          R      mAP50  mAP50-95)     Mask(P          R      mAP50  mAP50-95): 100%|██████████| 31/31 [00:52<00:00,  1.70s/it]\n"
     ]
    },
    {
     "name": "stdout",
     "output_type": "stream",
     "text": [
      "                   all        495      23219      0.578      0.419      0.442      0.263      0.502      0.372      0.361      0.187\n",
      "\n",
      "      Epoch    GPU_mem   box_loss   seg_loss   cls_loss   dfl_loss  Instances       Size\n"
     ]
    },
    {
     "name": "stderr",
     "output_type": "stream",
     "text": [
      "      11/50      3.66G      1.631      3.222      1.305      1.368        514        640: 100%|██████████| 369/369 [12:17<00:00,  2.00s/it]\n",
      "                 Class     Images  Instances      Box(P          R      mAP50  mAP50-95)     Mask(P          R      mAP50  mAP50-95): 100%|██████████| 31/31 [00:52<00:00,  1.69s/it]\n"
     ]
    },
    {
     "name": "stdout",
     "output_type": "stream",
     "text": [
      "                   all        495      23219      0.607      0.444       0.46      0.275       0.52      0.385      0.369      0.194\n",
      "\n",
      "      Epoch    GPU_mem   box_loss   seg_loss   cls_loss   dfl_loss  Instances       Size\n"
     ]
    },
    {
     "name": "stderr",
     "output_type": "stream",
     "text": [
      "      12/50      4.39G      1.642       3.24      1.314      1.376        510        640: 100%|██████████| 369/369 [12:30<00:00,  2.04s/it]\n",
      "                 Class     Images  Instances      Box(P          R      mAP50  mAP50-95)     Mask(P          R      mAP50  mAP50-95): 100%|██████████| 31/31 [00:52<00:00,  1.70s/it]\n"
     ]
    },
    {
     "name": "stdout",
     "output_type": "stream",
     "text": [
      "                   all        495      23219      0.598      0.432      0.445      0.274      0.528      0.374      0.362      0.192\n",
      "\n",
      "      Epoch    GPU_mem   box_loss   seg_loss   cls_loss   dfl_loss  Instances       Size\n"
     ]
    },
    {
     "name": "stderr",
     "output_type": "stream",
     "text": [
      "      13/50      5.12G      1.635      3.231      1.306      1.367        402        640: 100%|██████████| 369/369 [12:30<00:00,  2.03s/it]\n",
      "                 Class     Images  Instances      Box(P          R      mAP50  mAP50-95)     Mask(P          R      mAP50  mAP50-95): 100%|██████████| 31/31 [00:52<00:00,  1.70s/it]"
     ]
    },
    {
     "name": "stdout",
     "output_type": "stream",
     "text": [
      "                   all        495      23219      0.569      0.429       0.44      0.271      0.505      0.374      0.358       0.19\n"
     ]
    },
    {
     "name": "stderr",
     "output_type": "stream",
     "text": [
      "\n"
     ]
    },
    {
     "name": "stdout",
     "output_type": "stream",
     "text": [
      "\n",
      "      Epoch    GPU_mem   box_loss   seg_loss   cls_loss   dfl_loss  Instances       Size\n"
     ]
    },
    {
     "name": "stderr",
     "output_type": "stream",
     "text": [
      "      14/50      4.82G      1.629      3.215      1.295      1.363        427        640: 100%|██████████| 369/369 [12:29<00:00,  2.03s/it]\n",
      "                 Class     Images  Instances      Box(P          R      mAP50  mAP50-95)     Mask(P          R      mAP50  mAP50-95): 100%|██████████| 31/31 [00:52<00:00,  1.70s/it]\n"
     ]
    },
    {
     "name": "stdout",
     "output_type": "stream",
     "text": [
      "                   all        495      23219      0.581      0.442      0.454       0.28      0.524       0.38      0.372      0.196\n",
      "\n",
      "      Epoch    GPU_mem   box_loss   seg_loss   cls_loss   dfl_loss  Instances       Size\n"
     ]
    },
    {
     "name": "stderr",
     "output_type": "stream",
     "text": [
      "      15/50      4.26G      1.616        3.2      1.285      1.359        636        640: 100%|██████████| 369/369 [12:36<00:00,  2.05s/it]\n",
      "                 Class     Images  Instances      Box(P          R      mAP50  mAP50-95)     Mask(P          R      mAP50  mAP50-95): 100%|██████████| 31/31 [00:52<00:00,  1.70s/it]\n"
     ]
    },
    {
     "name": "stdout",
     "output_type": "stream",
     "text": [
      "                   all        495      23219      0.548      0.453      0.444      0.274      0.486      0.383      0.358      0.191\n",
      "\n",
      "      Epoch    GPU_mem   box_loss   seg_loss   cls_loss   dfl_loss  Instances       Size\n"
     ]
    },
    {
     "name": "stderr",
     "output_type": "stream",
     "text": [
      "      16/50      4.71G      1.613      3.192      1.275      1.354        449        640: 100%|██████████| 369/369 [12:31<00:00,  2.04s/it]\n",
      "                 Class     Images  Instances      Box(P          R      mAP50  mAP50-95)     Mask(P          R      mAP50  mAP50-95): 100%|██████████| 31/31 [00:52<00:00,  1.70s/it]\n"
     ]
    },
    {
     "name": "stdout",
     "output_type": "stream",
     "text": [
      "                   all        495      23219      0.555      0.445      0.453      0.282      0.494      0.384      0.371      0.198\n",
      "\n",
      "      Epoch    GPU_mem   box_loss   seg_loss   cls_loss   dfl_loss  Instances       Size\n"
     ]
    },
    {
     "name": "stderr",
     "output_type": "stream",
     "text": [
      "      17/50      4.72G      1.613       3.19      1.273       1.35        896        640: 100%|██████████| 369/369 [12:30<00:00,  2.03s/it]\n",
      "                 Class     Images  Instances      Box(P          R      mAP50  mAP50-95)     Mask(P          R      mAP50  mAP50-95): 100%|██████████| 31/31 [00:52<00:00,  1.70s/it]"
     ]
    },
    {
     "name": "stdout",
     "output_type": "stream",
     "text": [
      "                   all        495      23219      0.603      0.446      0.468      0.277       0.54      0.384      0.381      0.196\n"
     ]
    },
    {
     "name": "stderr",
     "output_type": "stream",
     "text": [
      "\n"
     ]
    },
    {
     "name": "stdout",
     "output_type": "stream",
     "text": [
      "\n",
      "      Epoch    GPU_mem   box_loss   seg_loss   cls_loss   dfl_loss  Instances       Size\n"
     ]
    },
    {
     "name": "stderr",
     "output_type": "stream",
     "text": [
      "      18/50      4.18G        1.6      3.173      1.268      1.347        450        640: 100%|██████████| 369/369 [12:22<00:00,  2.01s/it]\n",
      "                 Class     Images  Instances      Box(P          R      mAP50  mAP50-95)     Mask(P          R      mAP50  mAP50-95): 100%|██████████| 31/31 [00:52<00:00,  1.71s/it]"
     ]
    },
    {
     "name": "stdout",
     "output_type": "stream",
     "text": [
      "                   all        495      23219      0.561      0.443      0.446      0.276      0.492      0.381      0.363      0.195\n"
     ]
    },
    {
     "name": "stderr",
     "output_type": "stream",
     "text": [
      "\n"
     ]
    },
    {
     "name": "stdout",
     "output_type": "stream",
     "text": [
      "\n",
      "      Epoch    GPU_mem   box_loss   seg_loss   cls_loss   dfl_loss  Instances       Size\n"
     ]
    },
    {
     "name": "stderr",
     "output_type": "stream",
     "text": [
      "      19/50      5.76G      1.612      3.185      1.277      1.358        548        640: 100%|██████████| 369/369 [12:38<00:00,  2.06s/it]\n",
      "                 Class     Images  Instances      Box(P          R      mAP50  mAP50-95)     Mask(P          R      mAP50  mAP50-95): 100%|██████████| 31/31 [00:53<00:00,  1.71s/it]\n"
     ]
    },
    {
     "name": "stdout",
     "output_type": "stream",
     "text": [
      "                   all        495      23219      0.591      0.449      0.463      0.283      0.518      0.389       0.37      0.196\n",
      "\n",
      "      Epoch    GPU_mem   box_loss   seg_loss   cls_loss   dfl_loss  Instances       Size\n"
     ]
    },
    {
     "name": "stderr",
     "output_type": "stream",
     "text": [
      "      20/50      5.43G      1.603      3.182       1.27      1.349        556        640: 100%|██████████| 369/369 [12:39<00:00,  2.06s/it]\n",
      "                 Class     Images  Instances      Box(P          R      mAP50  mAP50-95)     Mask(P          R      mAP50  mAP50-95): 100%|██████████| 31/31 [00:52<00:00,  1.71s/it]\n"
     ]
    },
    {
     "name": "stdout",
     "output_type": "stream",
     "text": [
      "                   all        495      23219      0.583      0.441      0.455       0.28      0.523      0.386      0.382        0.2\n",
      "\n",
      "      Epoch    GPU_mem   box_loss   seg_loss   cls_loss   dfl_loss  Instances       Size\n"
     ]
    },
    {
     "name": "stderr",
     "output_type": "stream",
     "text": [
      "      21/50      4.44G      1.601      3.179      1.269      1.349        591        640: 100%|██████████| 369/369 [12:32<00:00,  2.04s/it]\n",
      "                 Class     Images  Instances      Box(P          R      mAP50  mAP50-95)     Mask(P          R      mAP50  mAP50-95): 100%|██████████| 31/31 [00:52<00:00,  1.70s/it]\n"
     ]
    },
    {
     "name": "stdout",
     "output_type": "stream",
     "text": [
      "                   all        495      23219      0.593      0.429      0.452      0.279      0.524      0.375      0.372      0.198\n",
      "\n",
      "      Epoch    GPU_mem   box_loss   seg_loss   cls_loss   dfl_loss  Instances       Size\n"
     ]
    },
    {
     "name": "stderr",
     "output_type": "stream",
     "text": [
      "      22/50      5.91G      1.592      3.152       1.25      1.335        795        640: 100%|██████████| 369/369 [12:31<00:00,  2.04s/it]\n",
      "                 Class     Images  Instances      Box(P          R      mAP50  mAP50-95)     Mask(P          R      mAP50  mAP50-95): 100%|██████████| 31/31 [00:53<00:00,  1.71s/it]\n"
     ]
    },
    {
     "name": "stdout",
     "output_type": "stream",
     "text": [
      "                   all        495      23219      0.587      0.444      0.459      0.282      0.508      0.386      0.371      0.196\n",
      "\n",
      "      Epoch    GPU_mem   box_loss   seg_loss   cls_loss   dfl_loss  Instances       Size\n"
     ]
    },
    {
     "name": "stderr",
     "output_type": "stream",
     "text": [
      "      23/50      5.55G       1.59      3.172      1.252      1.342        576        640: 100%|██████████| 369/369 [12:42<00:00,  2.07s/it]\n",
      "                 Class     Images  Instances      Box(P          R      mAP50  mAP50-95)     Mask(P          R      mAP50  mAP50-95): 100%|██████████| 31/31 [00:52<00:00,  1.71s/it]\n"
     ]
    },
    {
     "name": "stdout",
     "output_type": "stream",
     "text": [
      "                   all        495      23219      0.609      0.441      0.462      0.285      0.542      0.387      0.376        0.2\n",
      "\n",
      "      Epoch    GPU_mem   box_loss   seg_loss   cls_loss   dfl_loss  Instances       Size\n"
     ]
    },
    {
     "name": "stderr",
     "output_type": "stream",
     "text": [
      "      24/50      4.76G      1.579      3.156       1.24      1.333        773        640: 100%|██████████| 369/369 [12:22<00:00,  2.01s/it]\n",
      "                 Class     Images  Instances      Box(P          R      mAP50  mAP50-95)     Mask(P          R      mAP50  mAP50-95): 100%|██████████| 31/31 [00:52<00:00,  1.70s/it]\n"
     ]
    },
    {
     "name": "stdout",
     "output_type": "stream",
     "text": [
      "                   all        495      23219      0.598      0.454      0.467      0.285      0.532      0.399      0.389      0.201\n",
      "\n",
      "      Epoch    GPU_mem   box_loss   seg_loss   cls_loss   dfl_loss  Instances       Size\n"
     ]
    },
    {
     "name": "stderr",
     "output_type": "stream",
     "text": [
      "      25/50      6.22G      1.579      3.155      1.245      1.337        719        640: 100%|██████████| 369/369 [13:18<00:00,  2.16s/it]\n",
      "                 Class     Images  Instances      Box(P          R      mAP50  mAP50-95)     Mask(P          R      mAP50  mAP50-95): 100%|██████████| 31/31 [01:01<00:00,  1.99s/it]\n"
     ]
    },
    {
     "name": "stdout",
     "output_type": "stream",
     "text": [
      "                   all        495      23219      0.589      0.458      0.468      0.286      0.524      0.394      0.386      0.204\n",
      "\n",
      "      Epoch    GPU_mem   box_loss   seg_loss   cls_loss   dfl_loss  Instances       Size\n"
     ]
    },
    {
     "name": "stderr",
     "output_type": "stream",
     "text": [
      "      26/50      4.83G      1.572       3.13      1.242       1.33        521        640: 100%|██████████| 369/369 [12:22<00:00,  2.01s/it]\n",
      "                 Class     Images  Instances      Box(P          R      mAP50  mAP50-95)     Mask(P          R      mAP50  mAP50-95): 100%|██████████| 31/31 [00:52<00:00,  1.71s/it]\n"
     ]
    },
    {
     "name": "stdout",
     "output_type": "stream",
     "text": [
      "                   all        495      23219       0.59      0.444      0.464      0.286      0.521      0.387      0.383      0.203\n",
      "\n",
      "      Epoch    GPU_mem   box_loss   seg_loss   cls_loss   dfl_loss  Instances       Size\n"
     ]
    },
    {
     "name": "stderr",
     "output_type": "stream",
     "text": [
      "      27/50      5.25G      1.578      3.148       1.24      1.334        603        640: 100%|██████████| 369/369 [12:38<00:00,  2.06s/it]\n",
      "                 Class     Images  Instances      Box(P          R      mAP50  mAP50-95)     Mask(P          R      mAP50  mAP50-95): 100%|██████████| 31/31 [00:53<00:00,  1.71s/it]"
     ]
    },
    {
     "name": "stdout",
     "output_type": "stream",
     "text": [
      "                   all        495      23219      0.611      0.448      0.472      0.292      0.556      0.395      0.393      0.207\n"
     ]
    },
    {
     "name": "stderr",
     "output_type": "stream",
     "text": [
      "\n"
     ]
    },
    {
     "name": "stdout",
     "output_type": "stream",
     "text": [
      "\n",
      "      Epoch    GPU_mem   box_loss   seg_loss   cls_loss   dfl_loss  Instances       Size\n"
     ]
    },
    {
     "name": "stderr",
     "output_type": "stream",
     "text": [
      "      28/50      4.66G      1.565      3.145      1.223      1.326        723        640: 100%|██████████| 369/369 [12:35<00:00,  2.05s/it]\n",
      "                 Class     Images  Instances      Box(P          R      mAP50  mAP50-95)     Mask(P          R      mAP50  mAP50-95): 100%|██████████| 31/31 [00:52<00:00,  1.71s/it]\n"
     ]
    },
    {
     "name": "stdout",
     "output_type": "stream",
     "text": [
      "                   all        495      23219      0.597      0.446      0.469      0.289      0.527      0.389      0.384      0.204\n",
      "\n",
      "      Epoch    GPU_mem   box_loss   seg_loss   cls_loss   dfl_loss  Instances       Size\n"
     ]
    },
    {
     "name": "stderr",
     "output_type": "stream",
     "text": [
      "      29/50      4.97G      1.564       3.13      1.225      1.325        414        640: 100%|██████████| 369/369 [12:26<00:00,  2.02s/it]\n",
      "                 Class     Images  Instances      Box(P          R      mAP50  mAP50-95)     Mask(P          R      mAP50  mAP50-95): 100%|██████████| 31/31 [00:52<00:00,  1.69s/it]\n"
     ]
    },
    {
     "name": "stdout",
     "output_type": "stream",
     "text": [
      "                   all        495      23219      0.607      0.448      0.473      0.289      0.543      0.393      0.395      0.207\n",
      "\n",
      "      Epoch    GPU_mem   box_loss   seg_loss   cls_loss   dfl_loss  Instances       Size\n"
     ]
    },
    {
     "name": "stderr",
     "output_type": "stream",
     "text": [
      "      30/50      4.49G       1.56      3.121       1.22      1.322        638        640: 100%|██████████| 369/369 [12:24<00:00,  2.02s/it]\n",
      "                 Class     Images  Instances      Box(P          R      mAP50  mAP50-95)     Mask(P          R      mAP50  mAP50-95): 100%|██████████| 31/31 [00:52<00:00,  1.70s/it]\n"
     ]
    },
    {
     "name": "stdout",
     "output_type": "stream",
     "text": [
      "                   all        495      23219      0.574      0.464      0.472      0.289       0.53      0.395      0.392      0.205\n",
      "\n",
      "      Epoch    GPU_mem   box_loss   seg_loss   cls_loss   dfl_loss  Instances       Size\n"
     ]
    },
    {
     "name": "stderr",
     "output_type": "stream",
     "text": [
      "      31/50      4.48G      1.572      3.139      1.234       1.33        531        640: 100%|██████████| 369/369 [12:45<00:00,  2.07s/it]\n",
      "                 Class     Images  Instances      Box(P          R      mAP50  mAP50-95)     Mask(P          R      mAP50  mAP50-95): 100%|██████████| 31/31 [00:53<00:00,  1.71s/it]\n"
     ]
    },
    {
     "name": "stdout",
     "output_type": "stream",
     "text": [
      "                   all        495      23219      0.599      0.451      0.466      0.289      0.524      0.396      0.386      0.206\n",
      "\n",
      "      Epoch    GPU_mem   box_loss   seg_loss   cls_loss   dfl_loss  Instances       Size\n"
     ]
    },
    {
     "name": "stderr",
     "output_type": "stream",
     "text": [
      "      32/50      5.02G      1.569      3.132      1.231      1.329        533        640: 100%|██████████| 369/369 [12:36<00:00,  2.05s/it]\n",
      "                 Class     Images  Instances      Box(P          R      mAP50  mAP50-95)     Mask(P          R      mAP50  mAP50-95): 100%|██████████| 31/31 [00:52<00:00,  1.69s/it]\n"
     ]
    },
    {
     "name": "stdout",
     "output_type": "stream",
     "text": [
      "                   all        495      23219      0.619      0.456      0.478      0.294      0.541      0.397       0.39      0.207\n",
      "\n",
      "      Epoch    GPU_mem   box_loss   seg_loss   cls_loss   dfl_loss  Instances       Size\n"
     ]
    },
    {
     "name": "stderr",
     "output_type": "stream",
     "text": [
      "      33/50      4.43G      1.552      3.111      1.215      1.319        915        640: 100%|██████████| 369/369 [12:23<00:00,  2.01s/it]\n",
      "                 Class     Images  Instances      Box(P          R      mAP50  mAP50-95)     Mask(P          R      mAP50  mAP50-95): 100%|██████████| 31/31 [00:52<00:00,  1.69s/it]\n"
     ]
    },
    {
     "name": "stdout",
     "output_type": "stream",
     "text": [
      "                   all        495      23219      0.617       0.45      0.482      0.299      0.553       0.39      0.396      0.212\n",
      "\n",
      "      Epoch    GPU_mem   box_loss   seg_loss   cls_loss   dfl_loss  Instances       Size\n"
     ]
    },
    {
     "name": "stderr",
     "output_type": "stream",
     "text": [
      "      34/50      5.07G      1.557      3.119      1.218      1.319        668        640: 100%|██████████| 369/369 [12:27<00:00,  2.02s/it]\n",
      "                 Class     Images  Instances      Box(P          R      mAP50  mAP50-95)     Mask(P          R      mAP50  mAP50-95): 100%|██████████| 31/31 [00:52<00:00,  1.70s/it]\n"
     ]
    },
    {
     "name": "stdout",
     "output_type": "stream",
     "text": [
      "                   all        495      23219      0.631      0.456       0.48      0.296      0.566        0.4      0.398       0.21\n",
      "\n",
      "      Epoch    GPU_mem   box_loss   seg_loss   cls_loss   dfl_loss  Instances       Size\n"
     ]
    },
    {
     "name": "stderr",
     "output_type": "stream",
     "text": [
      "      35/50       5.3G      1.564      3.124      1.219      1.325        463        640: 100%|██████████| 369/369 [12:44<00:00,  2.07s/it]\n",
      "                 Class     Images  Instances      Box(P          R      mAP50  mAP50-95)     Mask(P          R      mAP50  mAP50-95): 100%|██████████| 31/31 [00:52<00:00,  1.70s/it]"
     ]
    },
    {
     "name": "stdout",
     "output_type": "stream",
     "text": [
      "                   all        495      23219      0.608      0.451      0.481      0.296      0.552        0.4        0.4      0.211\n"
     ]
    },
    {
     "name": "stderr",
     "output_type": "stream",
     "text": [
      "\n"
     ]
    },
    {
     "name": "stdout",
     "output_type": "stream",
     "text": [
      "\n",
      "      Epoch    GPU_mem   box_loss   seg_loss   cls_loss   dfl_loss  Instances       Size\n"
     ]
    },
    {
     "name": "stderr",
     "output_type": "stream",
     "text": [
      "      36/50      4.47G      1.555      3.121      1.211      1.316        567        640: 100%|██████████| 369/369 [12:36<00:00,  2.05s/it]\n",
      "                 Class     Images  Instances      Box(P          R      mAP50  mAP50-95)     Mask(P          R      mAP50  mAP50-95): 100%|██████████| 31/31 [00:52<00:00,  1.71s/it]\n"
     ]
    },
    {
     "name": "stdout",
     "output_type": "stream",
     "text": [
      "                   all        495      23219      0.623      0.456       0.48      0.297      0.561      0.396      0.396       0.21\n",
      "\n",
      "      Epoch    GPU_mem   box_loss   seg_loss   cls_loss   dfl_loss  Instances       Size\n"
     ]
    },
    {
     "name": "stderr",
     "output_type": "stream",
     "text": [
      "      37/50      4.75G      1.542      3.092      1.199      1.309        901        640: 100%|██████████| 369/369 [12:25<00:00,  2.02s/it]\n",
      "                 Class     Images  Instances      Box(P          R      mAP50  mAP50-95)     Mask(P          R      mAP50  mAP50-95): 100%|██████████| 31/31 [00:52<00:00,  1.70s/it]\n"
     ]
    },
    {
     "name": "stdout",
     "output_type": "stream",
     "text": [
      "                   all        495      23219      0.643      0.446      0.488      0.302      0.589       0.39      0.407      0.214\n",
      "\n",
      "      Epoch    GPU_mem   box_loss   seg_loss   cls_loss   dfl_loss  Instances       Size\n"
     ]
    },
    {
     "name": "stderr",
     "output_type": "stream",
     "text": [
      "      38/50      4.09G      1.542      3.105      1.203      1.313        590        640: 100%|██████████| 369/369 [12:26<00:00,  2.02s/it]\n",
      "                 Class     Images  Instances      Box(P          R      mAP50  mAP50-95)     Mask(P          R      mAP50  mAP50-95): 100%|██████████| 31/31 [00:52<00:00,  1.70s/it]\n"
     ]
    },
    {
     "name": "stdout",
     "output_type": "stream",
     "text": [
      "                   all        495      23219      0.664      0.444      0.488      0.303      0.594      0.388      0.407      0.218\n",
      "\n",
      "      Epoch    GPU_mem   box_loss   seg_loss   cls_loss   dfl_loss  Instances       Size\n"
     ]
    },
    {
     "name": "stderr",
     "output_type": "stream",
     "text": [
      "      39/50      4.33G      1.545        3.1      1.206      1.318        540        640: 100%|██████████| 369/369 [12:32<00:00,  2.04s/it]\n",
      "                 Class     Images  Instances      Box(P          R      mAP50  mAP50-95)     Mask(P          R      mAP50  mAP50-95): 100%|██████████| 31/31 [00:52<00:00,  1.70s/it]\n"
     ]
    },
    {
     "name": "stdout",
     "output_type": "stream",
     "text": [
      "                   all        495      23219      0.643      0.459      0.486        0.3      0.556      0.396      0.398      0.212\n",
      "\n",
      "      Epoch    GPU_mem   box_loss   seg_loss   cls_loss   dfl_loss  Instances       Size\n"
     ]
    },
    {
     "name": "stderr",
     "output_type": "stream",
     "text": [
      "      40/50      6.08G      1.545      3.108      1.204      1.312        482        640: 100%|██████████| 369/369 [12:39<00:00,  2.06s/it]\n",
      "                 Class     Images  Instances      Box(P          R      mAP50  mAP50-95)     Mask(P          R      mAP50  mAP50-95): 100%|██████████| 31/31 [00:52<00:00,  1.70s/it]\n"
     ]
    },
    {
     "name": "stdout",
     "output_type": "stream",
     "text": [
      "                   all        495      23219      0.633      0.461      0.488      0.305      0.552      0.412      0.406      0.217\n",
      "Closing dataloader mosaic\n",
      "\n",
      "      Epoch    GPU_mem   box_loss   seg_loss   cls_loss   dfl_loss  Instances       Size\n"
     ]
    },
    {
     "name": "stderr",
     "output_type": "stream",
     "text": [
      "      41/50      2.44G      1.443       2.87      1.114      1.265        217        640: 100%|██████████| 369/369 [06:16<00:00,  1.02s/it]\n",
      "                 Class     Images  Instances      Box(P          R      mAP50  mAP50-95)     Mask(P          R      mAP50  mAP50-95): 100%|██████████| 31/31 [00:51<00:00,  1.65s/it]\n"
     ]
    },
    {
     "name": "stdout",
     "output_type": "stream",
     "text": [
      "                   all        495      23219      0.575      0.461      0.473       0.29      0.514      0.411      0.398      0.209\n",
      "\n",
      "      Epoch    GPU_mem   box_loss   seg_loss   cls_loss   dfl_loss  Instances       Size\n"
     ]
    },
    {
     "name": "stderr",
     "output_type": "stream",
     "text": [
      "      42/50      2.47G      1.427      2.848      1.094       1.25        290        640: 100%|██████████| 369/369 [06:15<00:00,  1.02s/it]\n",
      "                 Class     Images  Instances      Box(P          R      mAP50  mAP50-95)     Mask(P          R      mAP50  mAP50-95): 100%|██████████| 31/31 [00:51<00:00,  1.66s/it]\n"
     ]
    },
    {
     "name": "stdout",
     "output_type": "stream",
     "text": [
      "                   all        495      23219       0.59      0.462      0.474      0.296       0.52      0.402      0.395      0.212\n",
      "\n",
      "      Epoch    GPU_mem   box_loss   seg_loss   cls_loss   dfl_loss  Instances       Size\n"
     ]
    },
    {
     "name": "stderr",
     "output_type": "stream",
     "text": [
      "      43/50      2.69G      1.428      2.827      1.092      1.253        246        640: 100%|██████████| 369/369 [06:14<00:00,  1.02s/it]\n",
      "                 Class     Images  Instances      Box(P          R      mAP50  mAP50-95)     Mask(P          R      mAP50  mAP50-95): 100%|██████████| 31/31 [00:51<00:00,  1.65s/it]"
     ]
    },
    {
     "name": "stdout",
     "output_type": "stream",
     "text": [
      "                   all        495      23219      0.581      0.464      0.476      0.293      0.536      0.402      0.401      0.211\n"
     ]
    },
    {
     "name": "stderr",
     "output_type": "stream",
     "text": [
      "\n"
     ]
    },
    {
     "name": "stdout",
     "output_type": "stream",
     "text": [
      "\n",
      "      Epoch    GPU_mem   box_loss   seg_loss   cls_loss   dfl_loss  Instances       Size\n"
     ]
    },
    {
     "name": "stderr",
     "output_type": "stream",
     "text": [
      "      44/50      2.44G      1.421      2.807      1.085      1.248        247        640: 100%|██████████| 369/369 [06:16<00:00,  1.02s/it]\n",
      "                 Class     Images  Instances      Box(P          R      mAP50  mAP50-95)     Mask(P          R      mAP50  mAP50-95): 100%|██████████| 31/31 [00:51<00:00,  1.66s/it]\n"
     ]
    },
    {
     "name": "stdout",
     "output_type": "stream",
     "text": [
      "                   all        495      23219      0.616      0.455      0.479      0.297       0.56      0.402      0.405      0.215\n",
      "\n",
      "      Epoch    GPU_mem   box_loss   seg_loss   cls_loss   dfl_loss  Instances       Size\n"
     ]
    },
    {
     "name": "stderr",
     "output_type": "stream",
     "text": [
      "      45/50      2.72G      1.417      2.805       1.08      1.248        223        640: 100%|██████████| 369/369 [06:15<00:00,  1.02s/it]\n",
      "                 Class     Images  Instances      Box(P          R      mAP50  mAP50-95)     Mask(P          R      mAP50  mAP50-95): 100%|██████████| 31/31 [00:51<00:00,  1.67s/it]"
     ]
    },
    {
     "name": "stdout",
     "output_type": "stream",
     "text": [
      "                   all        495      23219      0.566      0.464      0.475      0.295       0.52      0.397      0.399      0.212\n"
     ]
    },
    {
     "name": "stderr",
     "output_type": "stream",
     "text": [
      "\n"
     ]
    },
    {
     "name": "stdout",
     "output_type": "stream",
     "text": [
      "\n",
      "      Epoch    GPU_mem   box_loss   seg_loss   cls_loss   dfl_loss  Instances       Size\n"
     ]
    },
    {
     "name": "stderr",
     "output_type": "stream",
     "text": [
      "      46/50      2.55G      1.405      2.803      1.075       1.24        234        640: 100%|██████████| 369/369 [06:15<00:00,  1.02s/it]\n",
      "                 Class     Images  Instances      Box(P          R      mAP50  mAP50-95)     Mask(P          R      mAP50  mAP50-95): 100%|██████████| 31/31 [00:51<00:00,  1.66s/it]\n"
     ]
    },
    {
     "name": "stdout",
     "output_type": "stream",
     "text": [
      "                   all        495      23219      0.598      0.463      0.481      0.298      0.534      0.407      0.404      0.214\n",
      "\n",
      "      Epoch    GPU_mem   box_loss   seg_loss   cls_loss   dfl_loss  Instances       Size\n"
     ]
    },
    {
     "name": "stderr",
     "output_type": "stream",
     "text": [
      "      47/50      2.24G      1.406      2.797      1.071      1.241        258        640: 100%|██████████| 369/369 [06:15<00:00,  1.02s/it]\n",
      "                 Class     Images  Instances      Box(P          R      mAP50  mAP50-95)     Mask(P          R      mAP50  mAP50-95): 100%|██████████| 31/31 [00:51<00:00,  1.66s/it]"
     ]
    },
    {
     "name": "stdout",
     "output_type": "stream",
     "text": [
      "                   all        495      23219      0.607      0.459       0.48        0.3      0.545      0.404      0.406      0.216\n"
     ]
    },
    {
     "name": "stderr",
     "output_type": "stream",
     "text": [
      "\n"
     ]
    },
    {
     "name": "stdout",
     "output_type": "stream",
     "text": [
      "\n",
      "      Epoch    GPU_mem   box_loss   seg_loss   cls_loss   dfl_loss  Instances       Size\n"
     ]
    },
    {
     "name": "stderr",
     "output_type": "stream",
     "text": [
      "      48/50      2.52G      1.406      2.794       1.07      1.239        237        640: 100%|██████████| 369/369 [06:15<00:00,  1.02s/it]\n",
      "                 Class     Images  Instances      Box(P          R      mAP50  mAP50-95)     Mask(P          R      mAP50  mAP50-95): 100%|██████████| 31/31 [00:51<00:00,  1.65s/it]\n"
     ]
    },
    {
     "name": "stdout",
     "output_type": "stream",
     "text": [
      "                   all        495      23219      0.598      0.473      0.484      0.299      0.532      0.419      0.407      0.216\n",
      "\n",
      "      Epoch    GPU_mem   box_loss   seg_loss   cls_loss   dfl_loss  Instances       Size\n"
     ]
    },
    {
     "name": "stderr",
     "output_type": "stream",
     "text": [
      "      49/50      2.65G      1.404      2.795      1.069      1.237        178        640: 100%|██████████| 369/369 [06:15<00:00,  1.02s/it]\n",
      "                 Class     Images  Instances      Box(P          R      mAP50  mAP50-95)     Mask(P          R      mAP50  mAP50-95): 100%|██████████| 31/31 [00:51<00:00,  1.65s/it]\n"
     ]
    },
    {
     "name": "stdout",
     "output_type": "stream",
     "text": [
      "                   all        495      23219      0.606       0.47      0.485      0.302      0.548      0.408      0.407      0.217\n",
      "\n",
      "      Epoch    GPU_mem   box_loss   seg_loss   cls_loss   dfl_loss  Instances       Size\n"
     ]
    },
    {
     "name": "stderr",
     "output_type": "stream",
     "text": [
      "      50/50      2.57G      1.394      2.783      1.061      1.237        238        640: 100%|██████████| 369/369 [06:14<00:00,  1.02s/it]\n",
      "                 Class     Images  Instances      Box(P          R      mAP50  mAP50-95)     Mask(P          R      mAP50  mAP50-95): 100%|██████████| 31/31 [00:51<00:00,  1.65s/it]\n"
     ]
    },
    {
     "name": "stdout",
     "output_type": "stream",
     "text": [
      "                   all        495      23219      0.617      0.467      0.485      0.302      0.549      0.414      0.407      0.218\n",
      "\u001b[34m\u001b[1mEarlyStopping: \u001b[0mTraining stopped early as no improvement observed in last 10 epochs. Best results observed at epoch 40, best model saved as best.pt.\n",
      "To update EarlyStopping(patience=10) pass a new patience value, i.e. `patience=300` or use `patience=0` to disable EarlyStopping.\n",
      "\n",
      "50 epochs completed in 10.176 hours.\n",
      "Optimizer stripped from runs\\segment\\train58\\weights\\last.pt, 23.8MB\n",
      "Optimizer stripped from runs\\segment\\train58\\weights\\best.pt, 23.8MB\n",
      "\n",
      "Validating runs\\segment\\train58\\weights\\best.pt...\n",
      "Ultralytics 8.3.55  Python-3.11.5 torch-2.6.0+cu126 CUDA:0 (NVIDIA GeForce RTX 4060 Laptop GPU, 8188MiB)\n",
      "YOLOv8s-seg summary (fused): 195 layers, 11,784,631 parameters, 0 gradients, 42.5 GFLOPs\n"
     ]
    },
    {
     "name": "stderr",
     "output_type": "stream",
     "text": [
      "                 Class     Images  Instances      Box(P          R      mAP50  mAP50-95)     Mask(P          R      mAP50  mAP50-95):   0%|          | 0/31 [00:00<?, ?it/s]"
     ]
    },
    {
     "name": "stdout",
     "output_type": "stream",
     "text": [
      "WARNING  Model does not support 'augment=True', reverting to single-scale prediction.\n"
     ]
    },
    {
     "name": "stderr",
     "output_type": "stream",
     "text": [
      "                 Class     Images  Instances      Box(P          R      mAP50  mAP50-95)     Mask(P          R      mAP50  mAP50-95):   3%|▎         | 1/31 [00:01<00:59,  1.98s/it]"
     ]
    },
    {
     "name": "stdout",
     "output_type": "stream",
     "text": [
      "WARNING  Model does not support 'augment=True', reverting to single-scale prediction.\n"
     ]
    },
    {
     "name": "stderr",
     "output_type": "stream",
     "text": [
      "                 Class     Images  Instances      Box(P          R      mAP50  mAP50-95)     Mask(P          R      mAP50  mAP50-95):   6%|▋         | 2/31 [00:03<00:57,  1.98s/it]"
     ]
    },
    {
     "name": "stdout",
     "output_type": "stream",
     "text": [
      "WARNING  Model does not support 'augment=True', reverting to single-scale prediction.\n"
     ]
    },
    {
     "name": "stderr",
     "output_type": "stream",
     "text": [
      "                 Class     Images  Instances      Box(P          R      mAP50  mAP50-95)     Mask(P          R      mAP50  mAP50-95):  10%|▉         | 3/31 [00:06<00:56,  2.03s/it]"
     ]
    },
    {
     "name": "stdout",
     "output_type": "stream",
     "text": [
      "WARNING  Model does not support 'augment=True', reverting to single-scale prediction.\n"
     ]
    },
    {
     "name": "stderr",
     "output_type": "stream",
     "text": [
      "                 Class     Images  Instances      Box(P          R      mAP50  mAP50-95)     Mask(P          R      mAP50  mAP50-95):  13%|█▎        | 4/31 [00:08<00:56,  2.11s/it]"
     ]
    },
    {
     "name": "stdout",
     "output_type": "stream",
     "text": [
      "WARNING  Model does not support 'augment=True', reverting to single-scale prediction.\n"
     ]
    },
    {
     "name": "stderr",
     "output_type": "stream",
     "text": [
      "                 Class     Images  Instances      Box(P          R      mAP50  mAP50-95)     Mask(P          R      mAP50  mAP50-95):  16%|█▌        | 5/31 [00:10<00:52,  2.04s/it]"
     ]
    },
    {
     "name": "stdout",
     "output_type": "stream",
     "text": [
      "WARNING  Model does not support 'augment=True', reverting to single-scale prediction.\n"
     ]
    },
    {
     "name": "stderr",
     "output_type": "stream",
     "text": [
      "                 Class     Images  Instances      Box(P          R      mAP50  mAP50-95)     Mask(P          R      mAP50  mAP50-95):  19%|█▉        | 6/31 [00:11<00:48,  1.94s/it]"
     ]
    },
    {
     "name": "stdout",
     "output_type": "stream",
     "text": [
      "WARNING  Model does not support 'augment=True', reverting to single-scale prediction.\n"
     ]
    },
    {
     "name": "stderr",
     "output_type": "stream",
     "text": [
      "                 Class     Images  Instances      Box(P          R      mAP50  mAP50-95)     Mask(P          R      mAP50  mAP50-95):  23%|██▎       | 7/31 [00:13<00:43,  1.79s/it]"
     ]
    },
    {
     "name": "stdout",
     "output_type": "stream",
     "text": [
      "WARNING  Model does not support 'augment=True', reverting to single-scale prediction.\n"
     ]
    },
    {
     "name": "stderr",
     "output_type": "stream",
     "text": [
      "                 Class     Images  Instances      Box(P          R      mAP50  mAP50-95)     Mask(P          R      mAP50  mAP50-95):  26%|██▌       | 8/31 [00:15<00:40,  1.76s/it]"
     ]
    },
    {
     "name": "stdout",
     "output_type": "stream",
     "text": [
      "WARNING  Model does not support 'augment=True', reverting to single-scale prediction.\n"
     ]
    },
    {
     "name": "stderr",
     "output_type": "stream",
     "text": [
      "                 Class     Images  Instances      Box(P          R      mAP50  mAP50-95)     Mask(P          R      mAP50  mAP50-95):  29%|██▉       | 9/31 [00:16<00:39,  1.78s/it]"
     ]
    },
    {
     "name": "stdout",
     "output_type": "stream",
     "text": [
      "WARNING  Model does not support 'augment=True', reverting to single-scale prediction.\n"
     ]
    },
    {
     "name": "stderr",
     "output_type": "stream",
     "text": [
      "                 Class     Images  Instances      Box(P          R      mAP50  mAP50-95)     Mask(P          R      mAP50  mAP50-95):  32%|███▏      | 10/31 [00:18<00:36,  1.73s/it]"
     ]
    },
    {
     "name": "stdout",
     "output_type": "stream",
     "text": [
      "WARNING  Model does not support 'augment=True', reverting to single-scale prediction.\n"
     ]
    },
    {
     "name": "stderr",
     "output_type": "stream",
     "text": [
      "                 Class     Images  Instances      Box(P          R      mAP50  mAP50-95)     Mask(P          R      mAP50  mAP50-95):  35%|███▌      | 11/31 [00:20<00:35,  1.76s/it]"
     ]
    },
    {
     "name": "stdout",
     "output_type": "stream",
     "text": [
      "WARNING  Model does not support 'augment=True', reverting to single-scale prediction.\n"
     ]
    },
    {
     "name": "stderr",
     "output_type": "stream",
     "text": [
      "                 Class     Images  Instances      Box(P          R      mAP50  mAP50-95)     Mask(P          R      mAP50  mAP50-95):  39%|███▊      | 12/31 [00:22<00:33,  1.75s/it]"
     ]
    },
    {
     "name": "stdout",
     "output_type": "stream",
     "text": [
      "WARNING  Model does not support 'augment=True', reverting to single-scale prediction.\n"
     ]
    },
    {
     "name": "stderr",
     "output_type": "stream",
     "text": [
      "                 Class     Images  Instances      Box(P          R      mAP50  mAP50-95)     Mask(P          R      mAP50  mAP50-95):  42%|████▏     | 13/31 [00:23<00:32,  1.78s/it]"
     ]
    },
    {
     "name": "stdout",
     "output_type": "stream",
     "text": [
      "WARNING  Model does not support 'augment=True', reverting to single-scale prediction.\n"
     ]
    },
    {
     "name": "stderr",
     "output_type": "stream",
     "text": [
      "                 Class     Images  Instances      Box(P          R      mAP50  mAP50-95)     Mask(P          R      mAP50  mAP50-95):  45%|████▌     | 14/31 [00:25<00:30,  1.79s/it]"
     ]
    },
    {
     "name": "stdout",
     "output_type": "stream",
     "text": [
      "WARNING  Model does not support 'augment=True', reverting to single-scale prediction.\n"
     ]
    },
    {
     "name": "stderr",
     "output_type": "stream",
     "text": [
      "                 Class     Images  Instances      Box(P          R      mAP50  mAP50-95)     Mask(P          R      mAP50  mAP50-95):  48%|████▊     | 15/31 [00:27<00:29,  1.83s/it]"
     ]
    },
    {
     "name": "stdout",
     "output_type": "stream",
     "text": [
      "WARNING  Model does not support 'augment=True', reverting to single-scale prediction.\n"
     ]
    },
    {
     "name": "stderr",
     "output_type": "stream",
     "text": [
      "                 Class     Images  Instances      Box(P          R      mAP50  mAP50-95)     Mask(P          R      mAP50  mAP50-95):  52%|█████▏    | 16/31 [00:29<00:27,  1.83s/it]"
     ]
    },
    {
     "name": "stdout",
     "output_type": "stream",
     "text": [
      "WARNING  Model does not support 'augment=True', reverting to single-scale prediction.\n"
     ]
    },
    {
     "name": "stderr",
     "output_type": "stream",
     "text": [
      "                 Class     Images  Instances      Box(P          R      mAP50  mAP50-95)     Mask(P          R      mAP50  mAP50-95):  55%|█████▍    | 17/31 [00:31<00:26,  1.86s/it]"
     ]
    },
    {
     "name": "stdout",
     "output_type": "stream",
     "text": [
      "WARNING  Model does not support 'augment=True', reverting to single-scale prediction.\n"
     ]
    },
    {
     "name": "stderr",
     "output_type": "stream",
     "text": [
      "                 Class     Images  Instances      Box(P          R      mAP50  mAP50-95)     Mask(P          R      mAP50  mAP50-95):  58%|█████▊    | 18/31 [00:33<00:24,  1.87s/it]"
     ]
    },
    {
     "name": "stdout",
     "output_type": "stream",
     "text": [
      "WARNING  Model does not support 'augment=True', reverting to single-scale prediction.\n"
     ]
    },
    {
     "name": "stderr",
     "output_type": "stream",
     "text": [
      "                 Class     Images  Instances      Box(P          R      mAP50  mAP50-95)     Mask(P          R      mAP50  mAP50-95):  61%|██████▏   | 19/31 [00:35<00:23,  1.95s/it]"
     ]
    },
    {
     "name": "stdout",
     "output_type": "stream",
     "text": [
      "WARNING  Model does not support 'augment=True', reverting to single-scale prediction.\n"
     ]
    },
    {
     "name": "stderr",
     "output_type": "stream",
     "text": [
      "                 Class     Images  Instances      Box(P          R      mAP50  mAP50-95)     Mask(P          R      mAP50  mAP50-95):  65%|██████▍   | 20/31 [00:37<00:20,  1.90s/it]"
     ]
    },
    {
     "name": "stdout",
     "output_type": "stream",
     "text": [
      "WARNING  Model does not support 'augment=True', reverting to single-scale prediction.\n"
     ]
    },
    {
     "name": "stderr",
     "output_type": "stream",
     "text": [
      "                 Class     Images  Instances      Box(P          R      mAP50  mAP50-95)     Mask(P          R      mAP50  mAP50-95):  68%|██████▊   | 21/31 [00:39<00:18,  1.86s/it]"
     ]
    },
    {
     "name": "stdout",
     "output_type": "stream",
     "text": [
      "WARNING  Model does not support 'augment=True', reverting to single-scale prediction.\n"
     ]
    },
    {
     "name": "stderr",
     "output_type": "stream",
     "text": [
      "                 Class     Images  Instances      Box(P          R      mAP50  mAP50-95)     Mask(P          R      mAP50  mAP50-95):  71%|███████   | 22/31 [00:40<00:16,  1.87s/it]"
     ]
    },
    {
     "name": "stdout",
     "output_type": "stream",
     "text": [
      "WARNING  Model does not support 'augment=True', reverting to single-scale prediction.\n"
     ]
    },
    {
     "name": "stderr",
     "output_type": "stream",
     "text": [
      "                 Class     Images  Instances      Box(P          R      mAP50  mAP50-95)     Mask(P          R      mAP50  mAP50-95):  74%|███████▍  | 23/31 [00:42<00:14,  1.85s/it]"
     ]
    },
    {
     "name": "stdout",
     "output_type": "stream",
     "text": [
      "WARNING  Model does not support 'augment=True', reverting to single-scale prediction.\n"
     ]
    },
    {
     "name": "stderr",
     "output_type": "stream",
     "text": [
      "                 Class     Images  Instances      Box(P          R      mAP50  mAP50-95)     Mask(P          R      mAP50  mAP50-95):  77%|███████▋  | 24/31 [00:44<00:13,  1.87s/it]"
     ]
    },
    {
     "name": "stdout",
     "output_type": "stream",
     "text": [
      "WARNING  Model does not support 'augment=True', reverting to single-scale prediction.\n"
     ]
    },
    {
     "name": "stderr",
     "output_type": "stream",
     "text": [
      "                 Class     Images  Instances      Box(P          R      mAP50  mAP50-95)     Mask(P          R      mAP50  mAP50-95):  81%|████████  | 25/31 [00:46<00:11,  1.86s/it]"
     ]
    },
    {
     "name": "stdout",
     "output_type": "stream",
     "text": [
      "WARNING  Model does not support 'augment=True', reverting to single-scale prediction.\n"
     ]
    },
    {
     "name": "stderr",
     "output_type": "stream",
     "text": [
      "                 Class     Images  Instances      Box(P          R      mAP50  mAP50-95)     Mask(P          R      mAP50  mAP50-95):  84%|████████▍ | 26/31 [00:48<00:09,  1.89s/it]"
     ]
    },
    {
     "name": "stdout",
     "output_type": "stream",
     "text": [
      "WARNING  Model does not support 'augment=True', reverting to single-scale prediction.\n"
     ]
    },
    {
     "name": "stderr",
     "output_type": "stream",
     "text": [
      "                 Class     Images  Instances      Box(P          R      mAP50  mAP50-95)     Mask(P          R      mAP50  mAP50-95):  87%|████████▋ | 27/31 [00:50<00:07,  1.85s/it]"
     ]
    },
    {
     "name": "stdout",
     "output_type": "stream",
     "text": [
      "WARNING  Model does not support 'augment=True', reverting to single-scale prediction.\n"
     ]
    },
    {
     "name": "stderr",
     "output_type": "stream",
     "text": [
      "                 Class     Images  Instances      Box(P          R      mAP50  mAP50-95)     Mask(P          R      mAP50  mAP50-95):  90%|█████████ | 28/31 [00:52<00:05,  1.85s/it]"
     ]
    },
    {
     "name": "stdout",
     "output_type": "stream",
     "text": [
      "WARNING  Model does not support 'augment=True', reverting to single-scale prediction.\n"
     ]
    },
    {
     "name": "stderr",
     "output_type": "stream",
     "text": [
      "                 Class     Images  Instances      Box(P          R      mAP50  mAP50-95)     Mask(P          R      mAP50  mAP50-95):  94%|█████████▎| 29/31 [00:53<00:03,  1.82s/it]"
     ]
    },
    {
     "name": "stdout",
     "output_type": "stream",
     "text": [
      "WARNING  Model does not support 'augment=True', reverting to single-scale prediction.\n"
     ]
    },
    {
     "name": "stderr",
     "output_type": "stream",
     "text": [
      "                 Class     Images  Instances      Box(P          R      mAP50  mAP50-95)     Mask(P          R      mAP50  mAP50-95):  97%|█████████▋| 30/31 [00:55<00:01,  1.84s/it]"
     ]
    },
    {
     "name": "stdout",
     "output_type": "stream",
     "text": [
      "WARNING  Model does not support 'augment=True', reverting to single-scale prediction.\n"
     ]
    },
    {
     "name": "stderr",
     "output_type": "stream",
     "text": [
      "                 Class     Images  Instances      Box(P          R      mAP50  mAP50-95)     Mask(P          R      mAP50  mAP50-95): 100%|██████████| 31/31 [00:57<00:00,  1.85s/it]\n"
     ]
    },
    {
     "name": "stdout",
     "output_type": "stream",
     "text": [
      "                   all        495      23219      0.637       0.46      0.488      0.305      0.552      0.412      0.406      0.217\n",
      "                person        399       3387      0.621      0.424      0.479      0.257      0.455      0.315      0.312      0.119\n",
      "                 rider        252        548      0.708      0.416      0.497      0.283      0.397      0.235      0.206      0.049\n",
      "                   car        474       4638      0.698       0.64      0.691      0.457      0.546      0.506      0.524      0.258\n",
      "                 truck         79         92      0.587      0.326      0.371      0.264      0.583      0.326      0.341      0.196\n",
      "                   bus         75         98      0.645      0.469      0.531      0.403      0.643      0.469       0.51      0.298\n",
      "                 train         22         23      0.529      0.435      0.347      0.141      0.448      0.391      0.275       0.12\n",
      "            motorcycle         93        149      0.539      0.255      0.292      0.116      0.453      0.215      0.207     0.0647\n",
      "               bicycle        330       1165      0.669      0.278      0.366       0.18      0.536      0.227      0.249     0.0788\n",
      "                  road        481        494      0.965      0.972      0.981      0.862      0.963       0.97      0.981      0.857\n",
      "              sidewalk        462       1205      0.593      0.416      0.453      0.261      0.562      0.403      0.404      0.199\n",
      "              building        486       1145      0.543      0.499      0.454      0.276      0.515      0.478      0.432       0.22\n",
      "                  pole        486       9801      0.517      0.139       0.17     0.0677      0.441      0.124      0.153     0.0626\n",
      "                   sky        440        474      0.664      0.713      0.708      0.396      0.641      0.692      0.686      0.297\n",
      "Speed: 0.4ms preprocess, 7.5ms inference, 0.0ms loss, 2.8ms postprocess per image\n",
      "Results saved to \u001b[1mruns\\segment\\train58\u001b[0m\n"
     ]
    }
   ],
   "source": [
    "from gc import freeze\n",
    "import os\n",
    "os.environ['KMP_DUPLICATE_LIB_OK'] = 'TRUE'\n",
    "\n",
    "from ultralytics import YOLO\n",
    "\n",
    "# Cargar modelo\n",
    "model = YOLO('runs/segment/train57/weights/best.pt')\n",
    "results = model.train(\n",
    "    data='cityscapes.yaml',\n",
    "    epochs=50,        # Más épocas para mejor convergencia\n",
    "    imgsz=640,      # Mantener resolución alta\n",
    "    batch=8,         # Mantener batch size\n",
    "    workers=0,\n",
    "    pretrained=True,\n",
    "    freeze=10,\n",
    "    patience=10,\n",
    "    # Augmentaciones más agresivas para mejor generalización\n",
    "    flipud=0.3,\n",
    "    fliplr=0.5,\n",
    "    mosaic=0.8,      # Aumentar para más variedad\n",
    "    mixup=0.3,       # Aumentar para mejor robustez\n",
    "\n",
    "    # Ajustes de color más agresivos\n",
    "    hsv_h=0.015,     # Aumentar variación de tono\n",
    "    hsv_s=0.5,       # Aumentar saturación\n",
    "    hsv_v=0.4,       # Más variación de brillo\n",
    "\n",
    "    # Transformaciones geométricas más agresivas\n",
    "    degrees=30.0,    # Más rotación\n",
    "    translate=0.15,  # Más traslación\n",
    "    scale=0.5,      # Más escala\n",
    "    shear=7.0,      # Aumentar shear\n",
    "    perspective=0.0007, # Más perspectiva\n",
    "\n",
    "    # Otras configuraciones\n",
    "    copy_paste=0.3,  # Aumentar copy-paste\n",
    "    augment=True,\n",
    "\n",
    "    # Optimización ajustada\n",
    "    warmup_epochs=3,\n",
    "    warmup_momentum=0.85,\n",
    "    lr0=0.001,     # Learning rate más equilibrado\n",
    "    lrf=0.0001,    # Learning rate final ajustado\n",
    "    weight_decay=0.0004,  # Más regularización\n",
    "\n",
    "    # Nuevas configuraciones\n",
    "    label_smoothing=0.1,  # Añadir label smoothing\n",
    "    overlap_mask=True,    # Mejorar máscaras\n",
    "    mask_ratio=4,        # Ajustar ratio de máscara\n",
    "    dropout=0.2          # Añadir dropout\n",
    ")"
   ]
  },
  {
   "cell_type": "code",
   "execution_count": 4,
   "metadata": {},
   "outputs": [
    {
     "name": "stdout",
     "output_type": "stream",
     "text": [
      "New https://pypi.org/project/ultralytics/8.3.107 available  Update with 'pip install -U ultralytics'\n",
      "Ultralytics 8.3.55  Python-3.11.5 torch-2.6.0+cu126 CUDA:0 (NVIDIA GeForce RTX 4060 Laptop GPU, 8188MiB)\n",
      "\u001b[34m\u001b[1mengine\\trainer: \u001b[0mtask=segment, mode=train, model=runs/segment/train52/weights/best.pt, data=cityscapes.yaml, epochs=30, time=None, patience=17, batch=8, imgsz=640, save=True, save_period=-1, cache=False, device=cuda, workers=0, project=None, name=train552, exist_ok=False, pretrained=True, optimizer=AdamW, verbose=True, seed=0, deterministic=True, single_cls=False, rect=False, cos_lr=False, close_mosaic=10, resume=False, amp=True, fraction=1.0, profile=False, freeze=0, multi_scale=False, overlap_mask=True, mask_ratio=4, dropout=0.2, val=True, split=val, save_json=False, save_hybrid=False, conf=None, iou=0.7, max_det=300, half=False, dnn=False, plots=True, source=None, vid_stride=1, stream_buffer=False, visualize=False, augment=True, agnostic_nms=False, classes=None, retina_masks=False, embed=None, show=False, save_frames=False, save_txt=False, save_conf=False, save_crop=False, show_labels=True, show_conf=True, show_boxes=True, line_width=None, format=torchscript, keras=False, optimize=False, int8=False, dynamic=False, simplify=True, opset=None, workspace=None, nms=False, lr0=1e-08, lrf=0.01221, momentum=0.86519, weight_decay=0.00045, warmup_epochs=5.0, warmup_momentum=0.80406, warmup_bias_lr=0.0, box=5.59591, cls=0.76484, dfl=2.14151, pose=12.0, kobj=1.0, nbs=64, hsv_h=0.0, hsv_s=0.0, hsv_v=0.0, degrees=0.0, translate=0.0, scale=0.0, shear=0.0, perspective=0.0, flipud=0.0, fliplr=0, bgr=0.0, mosaic=1, mixup=0.0, copy_paste=0.0, copy_paste_mode=flip, auto_augment=randaugment, erasing=0.0, crop_fraction=1.0, cfg=None, tracker=botsort.yaml, save_dir=runs\\segment\\train552\n",
      "\n",
      "                   from  n    params  module                                       arguments                     \n",
      "  0                  -1  1      1392  ultralytics.nn.modules.conv.Conv             [3, 48, 3, 2]                 \n",
      "  1                  -1  1     41664  ultralytics.nn.modules.conv.Conv             [48, 96, 3, 2]                \n",
      "  2                  -1  2    111360  ultralytics.nn.modules.block.C2f             [96, 96, 2, True]             \n",
      "  3                  -1  1    166272  ultralytics.nn.modules.conv.Conv             [96, 192, 3, 2]               \n",
      "  4                  -1  4    813312  ultralytics.nn.modules.block.C2f             [192, 192, 4, True]           \n",
      "  5                  -1  1    664320  ultralytics.nn.modules.conv.Conv             [192, 384, 3, 2]              \n",
      "  6                  -1  4   3248640  ultralytics.nn.modules.block.C2f             [384, 384, 4, True]           \n",
      "  7                  -1  1   1991808  ultralytics.nn.modules.conv.Conv             [384, 576, 3, 2]              \n",
      "  8                  -1  2   3985920  ultralytics.nn.modules.block.C2f             [576, 576, 2, True]           \n",
      "  9                  -1  1    831168  ultralytics.nn.modules.block.SPPF            [576, 576, 5]                 \n",
      " 10                  -1  1         0  torch.nn.modules.upsampling.Upsample         [None, 2, 'nearest']          \n",
      " 11             [-1, 6]  1         0  ultralytics.nn.modules.conv.Concat           [1]                           \n",
      " 12                  -1  2   1993728  ultralytics.nn.modules.block.C2f             [960, 384, 2]                 \n",
      " 13                  -1  1         0  torch.nn.modules.upsampling.Upsample         [None, 2, 'nearest']          \n",
      " 14             [-1, 4]  1         0  ultralytics.nn.modules.conv.Concat           [1]                           \n",
      " 15                  -1  2    517632  ultralytics.nn.modules.block.C2f             [576, 192, 2]                 \n",
      " 16                  -1  1    332160  ultralytics.nn.modules.conv.Conv             [192, 192, 3, 2]              \n",
      " 17            [-1, 12]  1         0  ultralytics.nn.modules.conv.Concat           [1]                           \n",
      " 18                  -1  2   1846272  ultralytics.nn.modules.block.C2f             [576, 384, 2]                 \n",
      " 19                  -1  1   1327872  ultralytics.nn.modules.conv.Conv             [384, 384, 3, 2]              \n",
      " 20             [-1, 9]  1         0  ultralytics.nn.modules.conv.Concat           [1]                           \n",
      " 21                  -1  2   4207104  ultralytics.nn.modules.block.C2f             [960, 576, 2]                 \n",
      " 22        [15, 18, 21]  1   5166551  ultralytics.nn.modules.head.Segment          [13, 32, 192, [192, 384, 576]]\n",
      "YOLOv8m-seg summary: 331 layers, 27,247,175 parameters, 27,247,159 gradients, 110.4 GFLOPs\n",
      "\n",
      "Transferred 537/537 items from pretrained weights\n",
      "Freezing layer 'model.22.dfl.conv.weight'\n",
      "\u001b[34m\u001b[1mAMP: \u001b[0mrunning Automatic Mixed Precision (AMP) checks...\n",
      "\u001b[34m\u001b[1mAMP: \u001b[0mchecks passed \n"
     ]
    },
    {
     "name": "stderr",
     "output_type": "stream",
     "text": [
      "\u001b[34m\u001b[1mtrain: \u001b[0mScanning C:\\Users\\aaron\\Documents\\Año4\\TFG\\CityScapesWithPanopticSegm\\dataset\\labels\\train.cache... 2975 images, 0 backgrounds, 25 corrupt: 100%|██████████| 2975/2975 [00:00<?, ?it/s]"
     ]
    },
    {
     "name": "stdout",
     "output_type": "stream",
     "text": [
      "\u001b[34m\u001b[1mtrain: \u001b[0mWARNING  C:\\Users\\aaron\\Documents\\Ao4\\TFG\\CityScapesWithPanopticSegm\\dataset\\images\\train\\aachen_000000_000019_gtFine_polygons.png: 4 duplicate labels removed\n",
      "\u001b[34m\u001b[1mtrain: \u001b[0mWARNING  C:\\Users\\aaron\\Documents\\Ao4\\TFG\\CityScapesWithPanopticSegm\\dataset\\images\\train\\aachen_000004_000019_gtFine_polygons.png: 1 duplicate labels removed\n",
      "\u001b[34m\u001b[1mtrain: \u001b[0mWARNING  C:\\Users\\aaron\\Documents\\Ao4\\TFG\\CityScapesWithPanopticSegm\\dataset\\images\\train\\aachen_000008_000019_gtFine_polygons.png: 1 duplicate labels removed\n",
      "\u001b[34m\u001b[1mtrain: \u001b[0mWARNING  C:\\Users\\aaron\\Documents\\Ao4\\TFG\\CityScapesWithPanopticSegm\\dataset\\images\\train\\aachen_000022_000019_gtFine_polygons.png: 1 duplicate labels removed\n",
      "\u001b[34m\u001b[1mtrain: \u001b[0mWARNING  C:\\Users\\aaron\\Documents\\Ao4\\TFG\\CityScapesWithPanopticSegm\\dataset\\images\\train\\aachen_000026_000019_gtFine_polygons.png: 1 duplicate labels removed\n",
      "\u001b[34m\u001b[1mtrain: \u001b[0mWARNING  C:\\Users\\aaron\\Documents\\Ao4\\TFG\\CityScapesWithPanopticSegm\\dataset\\images\\train\\aachen_000030_000019_gtFine_polygons.png: 3 duplicate labels removed\n",
      "\u001b[34m\u001b[1mtrain: \u001b[0mWARNING  C:\\Users\\aaron\\Documents\\Ao4\\TFG\\CityScapesWithPanopticSegm\\dataset\\images\\train\\aachen_000031_000019_gtFine_polygons.png: 1 duplicate labels removed\n",
      "\u001b[34m\u001b[1mtrain: \u001b[0mWARNING  C:\\Users\\aaron\\Documents\\Ao4\\TFG\\CityScapesWithPanopticSegm\\dataset\\images\\train\\aachen_000034_000019_gtFine_polygons.png: 1 duplicate labels removed\n",
      "\u001b[34m\u001b[1mtrain: \u001b[0mWARNING  C:\\Users\\aaron\\Documents\\Ao4\\TFG\\CityScapesWithPanopticSegm\\dataset\\images\\train\\aachen_000042_000019_gtFine_polygons.png: 2 duplicate labels removed\n",
      "\u001b[34m\u001b[1mtrain: \u001b[0mWARNING  C:\\Users\\aaron\\Documents\\Ao4\\TFG\\CityScapesWithPanopticSegm\\dataset\\images\\train\\aachen_000058_000019_gtFine_polygons.png: 1 duplicate labels removed\n",
      "\u001b[34m\u001b[1mtrain: \u001b[0mWARNING  C:\\Users\\aaron\\Documents\\Ao4\\TFG\\CityScapesWithPanopticSegm\\dataset\\images\\train\\aachen_000060_000019_gtFine_polygons.png: 15 duplicate labels removed\n",
      "\u001b[34m\u001b[1mtrain: \u001b[0mWARNING  C:\\Users\\aaron\\Documents\\Ao4\\TFG\\CityScapesWithPanopticSegm\\dataset\\images\\train\\aachen_000061_000019_gtFine_polygons.png: 40 duplicate labels removed\n",
      "\u001b[34m\u001b[1mtrain: \u001b[0mWARNING  C:\\Users\\aaron\\Documents\\Ao4\\TFG\\CityScapesWithPanopticSegm\\dataset\\images\\train\\aachen_000062_000019_gtFine_polygons.png: 8 duplicate labels removed\n",
      "\u001b[34m\u001b[1mtrain: \u001b[0mWARNING  C:\\Users\\aaron\\Documents\\Ao4\\TFG\\CityScapesWithPanopticSegm\\dataset\\images\\train\\aachen_000064_000019_gtFine_polygons.png: 1 duplicate labels removed\n",
      "\u001b[34m\u001b[1mtrain: \u001b[0mWARNING  C:\\Users\\aaron\\Documents\\Ao4\\TFG\\CityScapesWithPanopticSegm\\dataset\\images\\train\\aachen_000070_000019_gtFine_polygons.png: 2 duplicate labels removed\n",
      "\u001b[34m\u001b[1mtrain: \u001b[0mWARNING  C:\\Users\\aaron\\Documents\\Ao4\\TFG\\CityScapesWithPanopticSegm\\dataset\\images\\train\\aachen_000072_000019_gtFine_polygons.png: 1 duplicate labels removed\n",
      "\u001b[34m\u001b[1mtrain: \u001b[0mWARNING  C:\\Users\\aaron\\Documents\\Ao4\\TFG\\CityScapesWithPanopticSegm\\dataset\\images\\train\\aachen_000078_000019_gtFine_polygons.png: 3 duplicate labels removed\n",
      "\u001b[34m\u001b[1mtrain: \u001b[0mWARNING  C:\\Users\\aaron\\Documents\\Ao4\\TFG\\CityScapesWithPanopticSegm\\dataset\\images\\train\\aachen_000079_000019_gtFine_polygons.png: 7 duplicate labels removed\n",
      "\u001b[34m\u001b[1mtrain: \u001b[0mWARNING  C:\\Users\\aaron\\Documents\\Ao4\\TFG\\CityScapesWithPanopticSegm\\dataset\\images\\train\\aachen_000080_000019_gtFine_polygons.png: 37 duplicate labels removed\n",
      "\u001b[34m\u001b[1mtrain: \u001b[0mWARNING  C:\\Users\\aaron\\Documents\\Ao4\\TFG\\CityScapesWithPanopticSegm\\dataset\\images\\train\\aachen_000090_000019_gtFine_polygons.png: 3 duplicate labels removed\n",
      "\u001b[34m\u001b[1mtrain: \u001b[0mWARNING  C:\\Users\\aaron\\Documents\\Ao4\\TFG\\CityScapesWithPanopticSegm\\dataset\\images\\train\\aachen_000092_000019_gtFine_polygons.png: 1 duplicate labels removed\n",
      "\u001b[34m\u001b[1mtrain: \u001b[0mWARNING  C:\\Users\\aaron\\Documents\\Ao4\\TFG\\CityScapesWithPanopticSegm\\dataset\\images\\train\\aachen_000095_000019_gtFine_polygons.png: 2 duplicate labels removed\n",
      "\u001b[34m\u001b[1mtrain: \u001b[0mWARNING  C:\\Users\\aaron\\Documents\\Ao4\\TFG\\CityScapesWithPanopticSegm\\dataset\\images\\train\\aachen_000096_000019_gtFine_polygons.png: 4 duplicate labels removed\n",
      "\u001b[34m\u001b[1mtrain: \u001b[0mWARNING  C:\\Users\\aaron\\Documents\\Ao4\\TFG\\CityScapesWithPanopticSegm\\dataset\\images\\train\\aachen_000098_000019_gtFine_polygons.png: 2 duplicate labels removed\n",
      "\u001b[34m\u001b[1mtrain: \u001b[0mWARNING  C:\\Users\\aaron\\Documents\\Ao4\\TFG\\CityScapesWithPanopticSegm\\dataset\\images\\train\\aachen_000152_000019_gtFine_polygons.png: 9 duplicate labels removed\n",
      "\u001b[34m\u001b[1mtrain: \u001b[0mWARNING  C:\\Users\\aaron\\Documents\\Ao4\\TFG\\CityScapesWithPanopticSegm\\dataset\\images\\train\\aachen_000153_000019_gtFine_polygons.png: 1 duplicate labels removed\n",
      "\u001b[34m\u001b[1mtrain: \u001b[0mWARNING  C:\\Users\\aaron\\Documents\\Ao4\\TFG\\CityScapesWithPanopticSegm\\dataset\\images\\train\\aachen_000155_000019_gtFine_polygons.png: 1 duplicate labels removed\n",
      "\u001b[34m\u001b[1mtrain: \u001b[0mWARNING  C:\\Users\\aaron\\Documents\\Ao4\\TFG\\CityScapesWithPanopticSegm\\dataset\\images\\train\\bochum_000000_000885_gtFine_polygons.png: 1 duplicate labels removed\n",
      "\u001b[34m\u001b[1mtrain: \u001b[0mWARNING  C:\\Users\\aaron\\Documents\\Ao4\\TFG\\CityScapesWithPanopticSegm\\dataset\\images\\train\\bochum_000000_004748_gtFine_polygons.png: 1 duplicate labels removed\n",
      "\u001b[34m\u001b[1mtrain: \u001b[0mWARNING  C:\\Users\\aaron\\Documents\\Ao4\\TFG\\CityScapesWithPanopticSegm\\dataset\\images\\train\\bochum_000000_007651_gtFine_polygons.png: 2 duplicate labels removed\n",
      "\u001b[34m\u001b[1mtrain: \u001b[0mWARNING  C:\\Users\\aaron\\Documents\\Ao4\\TFG\\CityScapesWithPanopticSegm\\dataset\\images\\train\\bochum_000000_013209_gtFine_polygons.png: 1 duplicate labels removed\n",
      "\u001b[34m\u001b[1mtrain: \u001b[0mWARNING  C:\\Users\\aaron\\Documents\\Ao4\\TFG\\CityScapesWithPanopticSegm\\dataset\\images\\train\\bochum_000000_017453_gtFine_polygons.png: 1 duplicate labels removed\n",
      "\u001b[34m\u001b[1mtrain: \u001b[0mWARNING  C:\\Users\\aaron\\Documents\\Ao4\\TFG\\CityScapesWithPanopticSegm\\dataset\\images\\train\\bochum_000000_033714_gtFine_polygons.png: 1 duplicate labels removed\n",
      "\u001b[34m\u001b[1mtrain: \u001b[0mWARNING  C:\\Users\\aaron\\Documents\\Ao4\\TFG\\CityScapesWithPanopticSegm\\dataset\\images\\train\\bochum_000000_036606_gtFine_polygons.png: 1 duplicate labels removed\n",
      "\u001b[34m\u001b[1mtrain: \u001b[0mWARNING  C:\\Users\\aaron\\Documents\\Ao4\\TFG\\CityScapesWithPanopticSegm\\dataset\\images\\train\\bremen_000021_000019_gtFine_polygons.png: 1 duplicate labels removed\n",
      "\u001b[34m\u001b[1mtrain: \u001b[0mWARNING  C:\\Users\\aaron\\Documents\\Ao4\\TFG\\CityScapesWithPanopticSegm\\dataset\\images\\train\\bremen_000060_000019_gtFine_polygons.png: 1 duplicate labels removed\n",
      "\u001b[34m\u001b[1mtrain: \u001b[0mWARNING  C:\\Users\\aaron\\Documents\\Ao4\\TFG\\CityScapesWithPanopticSegm\\dataset\\images\\train\\bremen_000099_000019_gtFine_polygons.png: 1 duplicate labels removed\n",
      "\u001b[34m\u001b[1mtrain: \u001b[0mWARNING  C:\\Users\\aaron\\Documents\\Ao4\\TFG\\CityScapesWithPanopticSegm\\dataset\\images\\train\\bremen_000111_000019_gtFine_polygons.png: ignoring corrupt image/label: non-normalized or out of bounds coordinates [     1.0005]\n",
      "\u001b[34m\u001b[1mtrain: \u001b[0mWARNING  C:\\Users\\aaron\\Documents\\Ao4\\TFG\\CityScapesWithPanopticSegm\\dataset\\images\\train\\bremen_000118_000019_gtFine_polygons.png: ignoring corrupt image/label: non-normalized or out of bounds coordinates [      1.001]\n",
      "\u001b[34m\u001b[1mtrain: \u001b[0mWARNING  C:\\Users\\aaron\\Documents\\Ao4\\TFG\\CityScapesWithPanopticSegm\\dataset\\images\\train\\bremen_000121_000019_gtFine_polygons.png: ignoring corrupt image/label: non-normalized or out of bounds coordinates [      1.001]\n",
      "\u001b[34m\u001b[1mtrain: \u001b[0mWARNING  C:\\Users\\aaron\\Documents\\Ao4\\TFG\\CityScapesWithPanopticSegm\\dataset\\images\\train\\bremen_000123_000019_gtFine_polygons.png: ignoring corrupt image/label: non-normalized or out of bounds coordinates [     1.0005]\n",
      "\u001b[34m\u001b[1mtrain: \u001b[0mWARNING  C:\\Users\\aaron\\Documents\\Ao4\\TFG\\CityScapesWithPanopticSegm\\dataset\\images\\train\\bremen_000124_000019_gtFine_polygons.png: ignoring corrupt image/label: non-normalized or out of bounds coordinates [     1.0005]\n",
      "\u001b[34m\u001b[1mtrain: \u001b[0mWARNING  C:\\Users\\aaron\\Documents\\Ao4\\TFG\\CityScapesWithPanopticSegm\\dataset\\images\\train\\bremen_000126_000019_gtFine_polygons.png: ignoring corrupt image/label: non-normalized or out of bounds coordinates [      1.001]\n",
      "\u001b[34m\u001b[1mtrain: \u001b[0mWARNING  C:\\Users\\aaron\\Documents\\Ao4\\TFG\\CityScapesWithPanopticSegm\\dataset\\images\\train\\bremen_000128_000019_gtFine_polygons.png: ignoring corrupt image/label: non-normalized or out of bounds coordinates [     1.0005]\n",
      "\u001b[34m\u001b[1mtrain: \u001b[0mWARNING  C:\\Users\\aaron\\Documents\\Ao4\\TFG\\CityScapesWithPanopticSegm\\dataset\\images\\train\\bremen_000129_000019_gtFine_polygons.png: ignoring corrupt image/label: non-normalized or out of bounds coordinates [     1.0005]\n",
      "\u001b[34m\u001b[1mtrain: \u001b[0mWARNING  C:\\Users\\aaron\\Documents\\Ao4\\TFG\\CityScapesWithPanopticSegm\\dataset\\images\\train\\bremen_000130_000019_gtFine_polygons.png: ignoring corrupt image/label: non-normalized or out of bounds coordinates [      1.001]\n",
      "\u001b[34m\u001b[1mtrain: \u001b[0mWARNING  C:\\Users\\aaron\\Documents\\Ao4\\TFG\\CityScapesWithPanopticSegm\\dataset\\images\\train\\bremen_000132_000019_gtFine_polygons.png: ignoring corrupt image/label: non-normalized or out of bounds coordinates [      1.001]\n",
      "\u001b[34m\u001b[1mtrain: \u001b[0mWARNING  C:\\Users\\aaron\\Documents\\Ao4\\TFG\\CityScapesWithPanopticSegm\\dataset\\images\\train\\bremen_000133_000019_gtFine_polygons.png: ignoring corrupt image/label: non-normalized or out of bounds coordinates [      1.001]\n",
      "\u001b[34m\u001b[1mtrain: \u001b[0mWARNING  C:\\Users\\aaron\\Documents\\Ao4\\TFG\\CityScapesWithPanopticSegm\\dataset\\images\\train\\bremen_000135_000019_gtFine_polygons.png: ignoring corrupt image/label: non-normalized or out of bounds coordinates [     1.0005]\n",
      "\u001b[34m\u001b[1mtrain: \u001b[0mWARNING  C:\\Users\\aaron\\Documents\\Ao4\\TFG\\CityScapesWithPanopticSegm\\dataset\\images\\train\\bremen_000241_000019_gtFine_polygons.png: 1 duplicate labels removed\n",
      "\u001b[34m\u001b[1mtrain: \u001b[0mWARNING  C:\\Users\\aaron\\Documents\\Ao4\\TFG\\CityScapesWithPanopticSegm\\dataset\\images\\train\\cologne_000004_000019_gtFine_polygons.png: 1 duplicate labels removed\n",
      "\u001b[34m\u001b[1mtrain: \u001b[0mWARNING  C:\\Users\\aaron\\Documents\\Ao4\\TFG\\CityScapesWithPanopticSegm\\dataset\\images\\train\\cologne_000006_000019_gtFine_polygons.png: 1 duplicate labels removed\n",
      "\u001b[34m\u001b[1mtrain: \u001b[0mWARNING  C:\\Users\\aaron\\Documents\\Ao4\\TFG\\CityScapesWithPanopticSegm\\dataset\\images\\train\\cologne_000007_000019_gtFine_polygons.png: 2 duplicate labels removed\n",
      "\u001b[34m\u001b[1mtrain: \u001b[0mWARNING  C:\\Users\\aaron\\Documents\\Ao4\\TFG\\CityScapesWithPanopticSegm\\dataset\\images\\train\\cologne_000009_000019_gtFine_polygons.png: 1 duplicate labels removed\n",
      "\u001b[34m\u001b[1mtrain: \u001b[0mWARNING  C:\\Users\\aaron\\Documents\\Ao4\\TFG\\CityScapesWithPanopticSegm\\dataset\\images\\train\\cologne_000012_000019_gtFine_polygons.png: 3 duplicate labels removed\n",
      "\u001b[34m\u001b[1mtrain: \u001b[0mWARNING  C:\\Users\\aaron\\Documents\\Ao4\\TFG\\CityScapesWithPanopticSegm\\dataset\\images\\train\\cologne_000018_000019_gtFine_polygons.png: 5 duplicate labels removed\n",
      "\u001b[34m\u001b[1mtrain: \u001b[0mWARNING  C:\\Users\\aaron\\Documents\\Ao4\\TFG\\CityScapesWithPanopticSegm\\dataset\\images\\train\\cologne_000019_000019_gtFine_polygons.png: 2 duplicate labels removed\n",
      "\u001b[34m\u001b[1mtrain: \u001b[0mWARNING  C:\\Users\\aaron\\Documents\\Ao4\\TFG\\CityScapesWithPanopticSegm\\dataset\\images\\train\\cologne_000021_000019_gtFine_polygons.png: 1 duplicate labels removed\n",
      "\u001b[34m\u001b[1mtrain: \u001b[0mWARNING  C:\\Users\\aaron\\Documents\\Ao4\\TFG\\CityScapesWithPanopticSegm\\dataset\\images\\train\\cologne_000040_000019_gtFine_polygons.png: 1 duplicate labels removed\n",
      "\u001b[34m\u001b[1mtrain: \u001b[0mWARNING  C:\\Users\\aaron\\Documents\\Ao4\\TFG\\CityScapesWithPanopticSegm\\dataset\\images\\train\\cologne_000053_000019_gtFine_polygons.png: 1 duplicate labels removed\n",
      "\u001b[34m\u001b[1mtrain: \u001b[0mWARNING  C:\\Users\\aaron\\Documents\\Ao4\\TFG\\CityScapesWithPanopticSegm\\dataset\\images\\train\\cologne_000056_000019_gtFine_polygons.png: 1 duplicate labels removed\n",
      "\u001b[34m\u001b[1mtrain: \u001b[0mWARNING  C:\\Users\\aaron\\Documents\\Ao4\\TFG\\CityScapesWithPanopticSegm\\dataset\\images\\train\\cologne_000057_000019_gtFine_polygons.png: 1 duplicate labels removed\n",
      "\u001b[34m\u001b[1mtrain: \u001b[0mWARNING  C:\\Users\\aaron\\Documents\\Ao4\\TFG\\CityScapesWithPanopticSegm\\dataset\\images\\train\\cologne_000061_000019_gtFine_polygons.png: 1 duplicate labels removed\n",
      "\u001b[34m\u001b[1mtrain: \u001b[0mWARNING  C:\\Users\\aaron\\Documents\\Ao4\\TFG\\CityScapesWithPanopticSegm\\dataset\\images\\train\\cologne_000090_000019_gtFine_polygons.png: 1 duplicate labels removed\n",
      "\u001b[34m\u001b[1mtrain: \u001b[0mWARNING  C:\\Users\\aaron\\Documents\\Ao4\\TFG\\CityScapesWithPanopticSegm\\dataset\\images\\train\\cologne_000092_000019_gtFine_polygons.png: 3 duplicate labels removed\n",
      "\u001b[34m\u001b[1mtrain: \u001b[0mWARNING  C:\\Users\\aaron\\Documents\\Ao4\\TFG\\CityScapesWithPanopticSegm\\dataset\\images\\train\\cologne_000111_000019_gtFine_polygons.png: 1 duplicate labels removed\n",
      "\u001b[34m\u001b[1mtrain: \u001b[0mWARNING  C:\\Users\\aaron\\Documents\\Ao4\\TFG\\CityScapesWithPanopticSegm\\dataset\\images\\train\\darmstadt_000002_000019_gtFine_polygons.png: 2 duplicate labels removed\n",
      "\u001b[34m\u001b[1mtrain: \u001b[0mWARNING  C:\\Users\\aaron\\Documents\\Ao4\\TFG\\CityScapesWithPanopticSegm\\dataset\\images\\train\\darmstadt_000004_000019_gtFine_polygons.png: 1 duplicate labels removed\n",
      "\u001b[34m\u001b[1mtrain: \u001b[0mWARNING  C:\\Users\\aaron\\Documents\\Ao4\\TFG\\CityScapesWithPanopticSegm\\dataset\\images\\train\\darmstadt_000014_000019_gtFine_polygons.png: 1 duplicate labels removed\n",
      "\u001b[34m\u001b[1mtrain: \u001b[0mWARNING  C:\\Users\\aaron\\Documents\\Ao4\\TFG\\CityScapesWithPanopticSegm\\dataset\\images\\train\\darmstadt_000015_000019_gtFine_polygons.png: 1 duplicate labels removed\n",
      "\u001b[34m\u001b[1mtrain: \u001b[0mWARNING  C:\\Users\\aaron\\Documents\\Ao4\\TFG\\CityScapesWithPanopticSegm\\dataset\\images\\train\\darmstadt_000021_000019_gtFine_polygons.png: 1 duplicate labels removed\n",
      "\u001b[34m\u001b[1mtrain: \u001b[0mWARNING  C:\\Users\\aaron\\Documents\\Ao4\\TFG\\CityScapesWithPanopticSegm\\dataset\\images\\train\\darmstadt_000026_000019_gtFine_polygons.png: 2 duplicate labels removed\n",
      "\u001b[34m\u001b[1mtrain: \u001b[0mWARNING  C:\\Users\\aaron\\Documents\\Ao4\\TFG\\CityScapesWithPanopticSegm\\dataset\\images\\train\\darmstadt_000036_000019_gtFine_polygons.png: 1 duplicate labels removed\n",
      "\u001b[34m\u001b[1mtrain: \u001b[0mWARNING  C:\\Users\\aaron\\Documents\\Ao4\\TFG\\CityScapesWithPanopticSegm\\dataset\\images\\train\\darmstadt_000046_000019_gtFine_polygons.png: 1 duplicate labels removed\n",
      "\u001b[34m\u001b[1mtrain: \u001b[0mWARNING  C:\\Users\\aaron\\Documents\\Ao4\\TFG\\CityScapesWithPanopticSegm\\dataset\\images\\train\\darmstadt_000061_000019_gtFine_polygons.png: 1 duplicate labels removed\n",
      "\u001b[34m\u001b[1mtrain: \u001b[0mWARNING  C:\\Users\\aaron\\Documents\\Ao4\\TFG\\CityScapesWithPanopticSegm\\dataset\\images\\train\\darmstadt_000083_000019_gtFine_polygons.png: 1 duplicate labels removed\n",
      "\u001b[34m\u001b[1mtrain: \u001b[0mWARNING  C:\\Users\\aaron\\Documents\\Ao4\\TFG\\CityScapesWithPanopticSegm\\dataset\\images\\train\\dusseldorf_000057_000019_gtFine_polygons.png: ignoring corrupt image/label: non-normalized or out of bounds coordinates [     1.0005]\n",
      "\u001b[34m\u001b[1mtrain: \u001b[0mWARNING  C:\\Users\\aaron\\Documents\\Ao4\\TFG\\CityScapesWithPanopticSegm\\dataset\\images\\train\\dusseldorf_000068_000019_gtFine_polygons.png: ignoring corrupt image/label: non-normalized or out of bounds coordinates [     1.0005]\n",
      "\u001b[34m\u001b[1mtrain: \u001b[0mWARNING  C:\\Users\\aaron\\Documents\\Ao4\\TFG\\CityScapesWithPanopticSegm\\dataset\\images\\train\\dusseldorf_000075_000019_gtFine_polygons.png: ignoring corrupt image/label: non-normalized or out of bounds coordinates [      1.001]\n",
      "\u001b[34m\u001b[1mtrain: \u001b[0mWARNING  C:\\Users\\aaron\\Documents\\Ao4\\TFG\\CityScapesWithPanopticSegm\\dataset\\images\\train\\dusseldorf_000088_000019_gtFine_polygons.png: ignoring corrupt image/label: non-normalized or out of bounds coordinates [     1.0005]\n",
      "\u001b[34m\u001b[1mtrain: \u001b[0mWARNING  C:\\Users\\aaron\\Documents\\Ao4\\TFG\\CityScapesWithPanopticSegm\\dataset\\images\\train\\dusseldorf_000090_000019_gtFine_polygons.png: ignoring corrupt image/label: non-normalized or out of bounds coordinates [     1.0005]\n",
      "\u001b[34m\u001b[1mtrain: \u001b[0mWARNING  C:\\Users\\aaron\\Documents\\Ao4\\TFG\\CityScapesWithPanopticSegm\\dataset\\images\\train\\dusseldorf_000098_000019_gtFine_polygons.png: ignoring corrupt image/label: non-normalized or out of bounds coordinates [     1.0005]\n",
      "\u001b[34m\u001b[1mtrain: \u001b[0mWARNING  C:\\Users\\aaron\\Documents\\Ao4\\TFG\\CityScapesWithPanopticSegm\\dataset\\images\\train\\dusseldorf_000157_000019_gtFine_polygons.png: ignoring corrupt image/label: non-normalized or out of bounds coordinates [     1.0049]\n",
      "\u001b[34m\u001b[1mtrain: \u001b[0mWARNING  C:\\Users\\aaron\\Documents\\Ao4\\TFG\\CityScapesWithPanopticSegm\\dataset\\images\\train\\dusseldorf_000198_000019_gtFine_polygons.png: ignoring corrupt image/label: non-normalized or out of bounds coordinates [     1.0073]\n",
      "\u001b[34m\u001b[1mtrain: \u001b[0mWARNING  C:\\Users\\aaron\\Documents\\Ao4\\TFG\\CityScapesWithPanopticSegm\\dataset\\images\\train\\erfurt_000020_000019_gtFine_polygons.png: 1 duplicate labels removed\n",
      "\u001b[34m\u001b[1mtrain: \u001b[0mWARNING  C:\\Users\\aaron\\Documents\\Ao4\\TFG\\CityScapesWithPanopticSegm\\dataset\\images\\train\\hamburg_000000_019892_gtFine_polygons.png: 1 duplicate labels removed\n",
      "\u001b[34m\u001b[1mtrain: \u001b[0mWARNING  C:\\Users\\aaron\\Documents\\Ao4\\TFG\\CityScapesWithPanopticSegm\\dataset\\images\\train\\hamburg_000000_032906_gtFine_polygons.png: 1 duplicate labels removed\n",
      "\u001b[34m\u001b[1mtrain: \u001b[0mWARNING  C:\\Users\\aaron\\Documents\\Ao4\\TFG\\CityScapesWithPanopticSegm\\dataset\\images\\train\\hamburg_000000_033506_gtFine_polygons.png: 9 duplicate labels removed\n",
      "\u001b[34m\u001b[1mtrain: \u001b[0mWARNING  C:\\Users\\aaron\\Documents\\Ao4\\TFG\\CityScapesWithPanopticSegm\\dataset\\images\\train\\hamburg_000000_035568_gtFine_polygons.png: 1 duplicate labels removed\n",
      "\u001b[34m\u001b[1mtrain: \u001b[0mWARNING  C:\\Users\\aaron\\Documents\\Ao4\\TFG\\CityScapesWithPanopticSegm\\dataset\\images\\train\\hamburg_000000_039420_gtFine_polygons.png: 1 duplicate labels removed\n",
      "\u001b[34m\u001b[1mtrain: \u001b[0mWARNING  C:\\Users\\aaron\\Documents\\Ao4\\TFG\\CityScapesWithPanopticSegm\\dataset\\images\\train\\hamburg_000000_041667_gtFine_polygons.png: 1 duplicate labels removed\n",
      "\u001b[34m\u001b[1mtrain: \u001b[0mWARNING  C:\\Users\\aaron\\Documents\\Ao4\\TFG\\CityScapesWithPanopticSegm\\dataset\\images\\train\\hamburg_000000_053886_gtFine_polygons.png: 1 duplicate labels removed\n",
      "\u001b[34m\u001b[1mtrain: \u001b[0mWARNING  C:\\Users\\aaron\\Documents\\Ao4\\TFG\\CityScapesWithPanopticSegm\\dataset\\images\\train\\hamburg_000000_071016_gtFine_polygons.png: 1 duplicate labels removed\n",
      "\u001b[34m\u001b[1mtrain: \u001b[0mWARNING  C:\\Users\\aaron\\Documents\\Ao4\\TFG\\CityScapesWithPanopticSegm\\dataset\\images\\train\\hamburg_000000_080438_gtFine_polygons.png: 1 duplicate labels removed\n",
      "\u001b[34m\u001b[1mtrain: \u001b[0mWARNING  C:\\Users\\aaron\\Documents\\Ao4\\TFG\\CityScapesWithPanopticSegm\\dataset\\images\\train\\hanover_000000_012347_gtFine_polygons.png: 1 duplicate labels removed\n",
      "\u001b[34m\u001b[1mtrain: \u001b[0mWARNING  C:\\Users\\aaron\\Documents\\Ao4\\TFG\\CityScapesWithPanopticSegm\\dataset\\images\\train\\hanover_000000_014537_gtFine_polygons.png: 1 duplicate labels removed\n",
      "\u001b[34m\u001b[1mtrain: \u001b[0mWARNING  C:\\Users\\aaron\\Documents\\Ao4\\TFG\\CityScapesWithPanopticSegm\\dataset\\images\\train\\hanover_000000_015587_gtFine_polygons.png: 1 duplicate labels removed\n",
      "\u001b[34m\u001b[1mtrain: \u001b[0mWARNING  C:\\Users\\aaron\\Documents\\Ao4\\TFG\\CityScapesWithPanopticSegm\\dataset\\images\\train\\hanover_000000_018800_gtFine_polygons.png: 3 duplicate labels removed\n",
      "\u001b[34m\u001b[1mtrain: \u001b[0mWARNING  C:\\Users\\aaron\\Documents\\Ao4\\TFG\\CityScapesWithPanopticSegm\\dataset\\images\\train\\hanover_000000_019116_gtFine_polygons.png: 4 duplicate labels removed\n",
      "\u001b[34m\u001b[1mtrain: \u001b[0mWARNING  C:\\Users\\aaron\\Documents\\Ao4\\TFG\\CityScapesWithPanopticSegm\\dataset\\images\\train\\hanover_000000_019282_gtFine_polygons.png: 2 duplicate labels removed\n",
      "\u001b[34m\u001b[1mtrain: \u001b[0mWARNING  C:\\Users\\aaron\\Documents\\Ao4\\TFG\\CityScapesWithPanopticSegm\\dataset\\images\\train\\hanover_000000_019456_gtFine_polygons.png: 1 duplicate labels removed\n",
      "\u001b[34m\u001b[1mtrain: \u001b[0mWARNING  C:\\Users\\aaron\\Documents\\Ao4\\TFG\\CityScapesWithPanopticSegm\\dataset\\images\\train\\hanover_000000_019672_gtFine_polygons.png: 1 duplicate labels removed\n",
      "\u001b[34m\u001b[1mtrain: \u001b[0mWARNING  C:\\Users\\aaron\\Documents\\Ao4\\TFG\\CityScapesWithPanopticSegm\\dataset\\images\\train\\hanover_000000_022645_gtFine_polygons.png: 4 duplicate labels removed\n",
      "\u001b[34m\u001b[1mtrain: \u001b[0mWARNING  C:\\Users\\aaron\\Documents\\Ao4\\TFG\\CityScapesWithPanopticSegm\\dataset\\images\\train\\hanover_000000_026356_gtFine_polygons.png: 1 duplicate labels removed\n",
      "\u001b[34m\u001b[1mtrain: \u001b[0mWARNING  C:\\Users\\aaron\\Documents\\Ao4\\TFG\\CityScapesWithPanopticSegm\\dataset\\images\\train\\hanover_000000_034015_gtFine_polygons.png: 2 duplicate labels removed\n",
      "\u001b[34m\u001b[1mtrain: \u001b[0mWARNING  C:\\Users\\aaron\\Documents\\Ao4\\TFG\\CityScapesWithPanopticSegm\\dataset\\images\\train\\hanover_000000_034141_gtFine_polygons.png: 2 duplicate labels removed\n",
      "\u001b[34m\u001b[1mtrain: \u001b[0mWARNING  C:\\Users\\aaron\\Documents\\Ao4\\TFG\\CityScapesWithPanopticSegm\\dataset\\images\\train\\hanover_000000_036051_gtFine_polygons.png: 1 duplicate labels removed\n",
      "\u001b[34m\u001b[1mtrain: \u001b[0mWARNING  C:\\Users\\aaron\\Documents\\Ao4\\TFG\\CityScapesWithPanopticSegm\\dataset\\images\\train\\hanover_000000_047499_gtFine_polygons.png: 1 duplicate labels removed\n",
      "\u001b[34m\u001b[1mtrain: \u001b[0mWARNING  C:\\Users\\aaron\\Documents\\Ao4\\TFG\\CityScapesWithPanopticSegm\\dataset\\images\\train\\hanover_000000_047870_gtFine_polygons.png: 1 duplicate labels removed\n",
      "\u001b[34m\u001b[1mtrain: \u001b[0mWARNING  C:\\Users\\aaron\\Documents\\Ao4\\TFG\\CityScapesWithPanopticSegm\\dataset\\images\\train\\hanover_000000_051152_gtFine_polygons.png: 2 duplicate labels removed\n",
      "\u001b[34m\u001b[1mtrain: \u001b[0mWARNING  C:\\Users\\aaron\\Documents\\Ao4\\TFG\\CityScapesWithPanopticSegm\\dataset\\images\\train\\hanover_000000_051536_gtFine_polygons.png: 2 duplicate labels removed\n",
      "\u001b[34m\u001b[1mtrain: \u001b[0mWARNING  C:\\Users\\aaron\\Documents\\Ao4\\TFG\\CityScapesWithPanopticSegm\\dataset\\images\\train\\hanover_000000_052512_gtFine_polygons.png: 1 duplicate labels removed\n",
      "\u001b[34m\u001b[1mtrain: \u001b[0mWARNING  C:\\Users\\aaron\\Documents\\Ao4\\TFG\\CityScapesWithPanopticSegm\\dataset\\images\\train\\hanover_000000_053027_gtFine_polygons.png: 1 duplicate labels removed\n",
      "\u001b[34m\u001b[1mtrain: \u001b[0mWARNING  C:\\Users\\aaron\\Documents\\Ao4\\TFG\\CityScapesWithPanopticSegm\\dataset\\images\\train\\hanover_000000_056800_gtFine_polygons.png: 1 duplicate labels removed\n",
      "\u001b[34m\u001b[1mtrain: \u001b[0mWARNING  C:\\Users\\aaron\\Documents\\Ao4\\TFG\\CityScapesWithPanopticSegm\\dataset\\images\\train\\jena_000059_000019_gtFine_polygons.png: ignoring corrupt image/label: non-normalized or out of bounds coordinates [     1.0005]\n",
      "\u001b[34m\u001b[1mtrain: \u001b[0mWARNING  C:\\Users\\aaron\\Documents\\Ao4\\TFG\\CityScapesWithPanopticSegm\\dataset\\images\\train\\krefeld_000000_004608_gtFine_polygons.png: 2 duplicate labels removed\n",
      "\u001b[34m\u001b[1mtrain: \u001b[0mWARNING  C:\\Users\\aaron\\Documents\\Ao4\\TFG\\CityScapesWithPanopticSegm\\dataset\\images\\train\\krefeld_000000_011655_gtFine_polygons.png: 1 duplicate labels removed\n",
      "\u001b[34m\u001b[1mtrain: \u001b[0mWARNING  C:\\Users\\aaron\\Documents\\Ao4\\TFG\\CityScapesWithPanopticSegm\\dataset\\images\\train\\krefeld_000000_013766_gtFine_polygons.png: 1 duplicate labels removed\n",
      "\u001b[34m\u001b[1mtrain: \u001b[0mWARNING  C:\\Users\\aaron\\Documents\\Ao4\\TFG\\CityScapesWithPanopticSegm\\dataset\\images\\train\\krefeld_000000_020933_gtFine_polygons.png: 1 duplicate labels removed\n",
      "\u001b[34m\u001b[1mtrain: \u001b[0mWARNING  C:\\Users\\aaron\\Documents\\Ao4\\TFG\\CityScapesWithPanopticSegm\\dataset\\images\\train\\strasbourg_000000_013654_gtFine_polygons.png: 1 duplicate labels removed\n",
      "\u001b[34m\u001b[1mtrain: \u001b[0mWARNING  C:\\Users\\aaron\\Documents\\Ao4\\TFG\\CityScapesWithPanopticSegm\\dataset\\images\\train\\strasbourg_000000_014503_gtFine_polygons.png: 1 duplicate labels removed\n",
      "\u001b[34m\u001b[1mtrain: \u001b[0mWARNING  C:\\Users\\aaron\\Documents\\Ao4\\TFG\\CityScapesWithPanopticSegm\\dataset\\images\\train\\strasbourg_000001_030539_gtFine_polygons.png: 1 duplicate labels removed\n",
      "\u001b[34m\u001b[1mtrain: \u001b[0mWARNING  C:\\Users\\aaron\\Documents\\Ao4\\TFG\\CityScapesWithPanopticSegm\\dataset\\images\\train\\strasbourg_000001_030997_gtFine_polygons.png: 1 duplicate labels removed\n",
      "\u001b[34m\u001b[1mtrain: \u001b[0mWARNING  C:\\Users\\aaron\\Documents\\Ao4\\TFG\\CityScapesWithPanopticSegm\\dataset\\images\\train\\strasbourg_000001_031582_gtFine_polygons.png: 1 duplicate labels removed\n",
      "\u001b[34m\u001b[1mtrain: \u001b[0mWARNING  C:\\Users\\aaron\\Documents\\Ao4\\TFG\\CityScapesWithPanopticSegm\\dataset\\images\\train\\strasbourg_000001_051317_gtFine_polygons.png: 1 duplicate labels removed\n",
      "\u001b[34m\u001b[1mtrain: \u001b[0mWARNING  C:\\Users\\aaron\\Documents\\Ao4\\TFG\\CityScapesWithPanopticSegm\\dataset\\images\\train\\strasbourg_000001_052050_gtFine_polygons.png: 1 duplicate labels removed\n",
      "\u001b[34m\u001b[1mtrain: \u001b[0mWARNING  C:\\Users\\aaron\\Documents\\Ao4\\TFG\\CityScapesWithPanopticSegm\\dataset\\images\\train\\strasbourg_000001_058373_gtFine_polygons.png: 14 duplicate labels removed\n",
      "\u001b[34m\u001b[1mtrain: \u001b[0mWARNING  C:\\Users\\aaron\\Documents\\Ao4\\TFG\\CityScapesWithPanopticSegm\\dataset\\images\\train\\strasbourg_000001_058954_gtFine_polygons.png: 1 duplicate labels removed\n",
      "\u001b[34m\u001b[1mtrain: \u001b[0mWARNING  C:\\Users\\aaron\\Documents\\Ao4\\TFG\\CityScapesWithPanopticSegm\\dataset\\images\\train\\strasbourg_000001_062691_gtFine_polygons.png: 1 duplicate labels removed\n",
      "\u001b[34m\u001b[1mtrain: \u001b[0mWARNING  C:\\Users\\aaron\\Documents\\Ao4\\TFG\\CityScapesWithPanopticSegm\\dataset\\images\\train\\strasbourg_000001_064224_gtFine_polygons.png: 2 duplicate labels removed\n",
      "\u001b[34m\u001b[1mtrain: \u001b[0mWARNING  C:\\Users\\aaron\\Documents\\Ao4\\TFG\\CityScapesWithPanopticSegm\\dataset\\images\\train\\strasbourg_000001_064393_gtFine_polygons.png: 1 duplicate labels removed\n",
      "\u001b[34m\u001b[1mtrain: \u001b[0mWARNING  C:\\Users\\aaron\\Documents\\Ao4\\TFG\\CityScapesWithPanopticSegm\\dataset\\images\\train\\stuttgart_000002_000019_gtFine_polygons.png: ignoring corrupt image/label: non-normalized or out of bounds coordinates [     1.0005]\n",
      "\u001b[34m\u001b[1mtrain: \u001b[0mWARNING  C:\\Users\\aaron\\Documents\\Ao4\\TFG\\CityScapesWithPanopticSegm\\dataset\\images\\train\\stuttgart_000005_000019_gtFine_polygons.png: ignoring corrupt image/label: non-normalized or out of bounds coordinates [      1.001]\n",
      "\u001b[34m\u001b[1mtrain: \u001b[0mWARNING  C:\\Users\\aaron\\Documents\\Ao4\\TFG\\CityScapesWithPanopticSegm\\dataset\\images\\train\\stuttgart_000006_000019_gtFine_polygons.png: 1 duplicate labels removed\n",
      "\u001b[34m\u001b[1mtrain: \u001b[0mWARNING  C:\\Users\\aaron\\Documents\\Ao4\\TFG\\CityScapesWithPanopticSegm\\dataset\\images\\train\\stuttgart_000068_000019_gtFine_polygons.png: 1 duplicate labels removed\n",
      "\u001b[34m\u001b[1mtrain: \u001b[0mWARNING  C:\\Users\\aaron\\Documents\\Ao4\\TFG\\CityScapesWithPanopticSegm\\dataset\\images\\train\\stuttgart_000109_000019_gtFine_polygons.png: 1 duplicate labels removed\n",
      "\u001b[34m\u001b[1mtrain: \u001b[0mWARNING  C:\\Users\\aaron\\Documents\\Ao4\\TFG\\CityScapesWithPanopticSegm\\dataset\\images\\train\\stuttgart_000120_000019_gtFine_polygons.png: 2 duplicate labels removed\n",
      "\u001b[34m\u001b[1mtrain: \u001b[0mWARNING  C:\\Users\\aaron\\Documents\\Ao4\\TFG\\CityScapesWithPanopticSegm\\dataset\\images\\train\\stuttgart_000168_000019_gtFine_polygons.png: 1 duplicate labels removed\n",
      "\u001b[34m\u001b[1mtrain: \u001b[0mWARNING  C:\\Users\\aaron\\Documents\\Ao4\\TFG\\CityScapesWithPanopticSegm\\dataset\\images\\train\\stuttgart_000175_000019_gtFine_polygons.png: 2 duplicate labels removed\n",
      "\u001b[34m\u001b[1mtrain: \u001b[0mWARNING  C:\\Users\\aaron\\Documents\\Ao4\\TFG\\CityScapesWithPanopticSegm\\dataset\\images\\train\\stuttgart_000184_000019_gtFine_polygons.png: 2 duplicate labels removed\n",
      "\u001b[34m\u001b[1mtrain: \u001b[0mWARNING  C:\\Users\\aaron\\Documents\\Ao4\\TFG\\CityScapesWithPanopticSegm\\dataset\\images\\train\\tubingen_000008_000019_gtFine_polygons.png: 1 duplicate labels removed\n",
      "\u001b[34m\u001b[1mtrain: \u001b[0mWARNING  C:\\Users\\aaron\\Documents\\Ao4\\TFG\\CityScapesWithPanopticSegm\\dataset\\images\\train\\tubingen_000089_000019_gtFine_polygons.png: 1 duplicate labels removed\n",
      "\u001b[34m\u001b[1mtrain: \u001b[0mWARNING  C:\\Users\\aaron\\Documents\\Ao4\\TFG\\CityScapesWithPanopticSegm\\dataset\\images\\train\\tubingen_000118_000019_gtFine_polygons.png: 6 duplicate labels removed\n",
      "\u001b[34m\u001b[1mtrain: \u001b[0mWARNING  C:\\Users\\aaron\\Documents\\Ao4\\TFG\\CityScapesWithPanopticSegm\\dataset\\images\\train\\ulm_000004_000019_gtFine_polygons.png: 2 duplicate labels removed\n",
      "\u001b[34m\u001b[1mtrain: \u001b[0mWARNING  C:\\Users\\aaron\\Documents\\Ao4\\TFG\\CityScapesWithPanopticSegm\\dataset\\images\\train\\ulm_000005_000019_gtFine_polygons.png: 4 duplicate labels removed\n",
      "\u001b[34m\u001b[1mtrain: \u001b[0mWARNING  C:\\Users\\aaron\\Documents\\Ao4\\TFG\\CityScapesWithPanopticSegm\\dataset\\images\\train\\ulm_000006_000019_gtFine_polygons.png: 8 duplicate labels removed\n",
      "\u001b[34m\u001b[1mtrain: \u001b[0mWARNING  C:\\Users\\aaron\\Documents\\Ao4\\TFG\\CityScapesWithPanopticSegm\\dataset\\images\\train\\ulm_000011_000019_gtFine_polygons.png: 1 duplicate labels removed\n",
      "\u001b[34m\u001b[1mtrain: \u001b[0mWARNING  C:\\Users\\aaron\\Documents\\Ao4\\TFG\\CityScapesWithPanopticSegm\\dataset\\images\\train\\ulm_000012_000019_gtFine_polygons.png: 2 duplicate labels removed\n",
      "\u001b[34m\u001b[1mtrain: \u001b[0mWARNING  C:\\Users\\aaron\\Documents\\Ao4\\TFG\\CityScapesWithPanopticSegm\\dataset\\images\\train\\ulm_000013_000019_gtFine_polygons.png: 2 duplicate labels removed\n",
      "\u001b[34m\u001b[1mtrain: \u001b[0mWARNING  C:\\Users\\aaron\\Documents\\Ao4\\TFG\\CityScapesWithPanopticSegm\\dataset\\images\\train\\ulm_000017_000019_gtFine_polygons.png: 2 duplicate labels removed\n",
      "\u001b[34m\u001b[1mtrain: \u001b[0mWARNING  C:\\Users\\aaron\\Documents\\Ao4\\TFG\\CityScapesWithPanopticSegm\\dataset\\images\\train\\ulm_000024_000019_gtFine_polygons.png: 2 duplicate labels removed\n",
      "\u001b[34m\u001b[1mtrain: \u001b[0mWARNING  C:\\Users\\aaron\\Documents\\Ao4\\TFG\\CityScapesWithPanopticSegm\\dataset\\images\\train\\ulm_000025_000019_gtFine_polygons.png: 3 duplicate labels removed\n",
      "\u001b[34m\u001b[1mtrain: \u001b[0mWARNING  C:\\Users\\aaron\\Documents\\Ao4\\TFG\\CityScapesWithPanopticSegm\\dataset\\images\\train\\ulm_000037_000019_gtFine_polygons.png: 1 duplicate labels removed\n",
      "\u001b[34m\u001b[1mtrain: \u001b[0mWARNING  C:\\Users\\aaron\\Documents\\Ao4\\TFG\\CityScapesWithPanopticSegm\\dataset\\images\\train\\ulm_000056_000019_gtFine_polygons.png: 2 duplicate labels removed\n",
      "\u001b[34m\u001b[1mtrain: \u001b[0mWARNING  C:\\Users\\aaron\\Documents\\Ao4\\TFG\\CityScapesWithPanopticSegm\\dataset\\images\\train\\ulm_000058_000019_gtFine_polygons.png: 3 duplicate labels removed\n",
      "\u001b[34m\u001b[1mtrain: \u001b[0mWARNING  C:\\Users\\aaron\\Documents\\Ao4\\TFG\\CityScapesWithPanopticSegm\\dataset\\images\\train\\ulm_000067_000019_gtFine_polygons.png: 3 duplicate labels removed\n",
      "\u001b[34m\u001b[1mtrain: \u001b[0mWARNING  C:\\Users\\aaron\\Documents\\Ao4\\TFG\\CityScapesWithPanopticSegm\\dataset\\images\\train\\ulm_000068_000019_gtFine_polygons.png: 3 duplicate labels removed\n",
      "\u001b[34m\u001b[1mtrain: \u001b[0mWARNING  C:\\Users\\aaron\\Documents\\Ao4\\TFG\\CityScapesWithPanopticSegm\\dataset\\images\\train\\ulm_000069_000019_gtFine_polygons.png: 3 duplicate labels removed\n",
      "\u001b[34m\u001b[1mtrain: \u001b[0mWARNING  C:\\Users\\aaron\\Documents\\Ao4\\TFG\\CityScapesWithPanopticSegm\\dataset\\images\\train\\ulm_000078_000019_gtFine_polygons.png: 1 duplicate labels removed\n",
      "\u001b[34m\u001b[1mtrain: \u001b[0mWARNING  C:\\Users\\aaron\\Documents\\Ao4\\TFG\\CityScapesWithPanopticSegm\\dataset\\images\\train\\ulm_000079_000019_gtFine_polygons.png: 1 duplicate labels removed\n",
      "\u001b[34m\u001b[1mtrain: \u001b[0mWARNING  C:\\Users\\aaron\\Documents\\Ao4\\TFG\\CityScapesWithPanopticSegm\\dataset\\images\\train\\ulm_000084_000019_gtFine_polygons.png: 2 duplicate labels removed\n",
      "\u001b[34m\u001b[1mtrain: \u001b[0mWARNING  C:\\Users\\aaron\\Documents\\Ao4\\TFG\\CityScapesWithPanopticSegm\\dataset\\images\\train\\weimar_000013_000019_gtFine_polygons.png: ignoring corrupt image/label: non-normalized or out of bounds coordinates [      1.001]\n",
      "\u001b[34m\u001b[1mtrain: \u001b[0mWARNING  C:\\Users\\aaron\\Documents\\Ao4\\TFG\\CityScapesWithPanopticSegm\\dataset\\images\\train\\zurich_000002_000019_gtFine_polygons.png: ignoring corrupt image/label: non-normalized or out of bounds coordinates [     1.0005]\n",
      "\u001b[34m\u001b[1mtrain: \u001b[0mWARNING  C:\\Users\\aaron\\Documents\\Ao4\\TFG\\CityScapesWithPanopticSegm\\dataset\\images\\train\\zurich_000027_000019_gtFine_polygons.png: 1 duplicate labels removed\n",
      "\u001b[34m\u001b[1mtrain: \u001b[0mWARNING  C:\\Users\\aaron\\Documents\\Ao4\\TFG\\CityScapesWithPanopticSegm\\dataset\\images\\train\\zurich_000107_000019_gtFine_polygons.png: 1 duplicate labels removed\n"
     ]
    },
    {
     "name": "stderr",
     "output_type": "stream",
     "text": [
      "\n",
      "\u001b[34m\u001b[1mval: \u001b[0mScanning C:\\Users\\aaron\\Documents\\Año4\\TFG\\CityScapesWithPanopticSegm\\dataset\\labels\\val.cache... 500 images, 0 backgrounds, 5 corrupt: 100%|██████████| 500/500 [00:00<?, ?it/s]"
     ]
    },
    {
     "name": "stdout",
     "output_type": "stream",
     "text": [
      "\u001b[34m\u001b[1mval: \u001b[0mWARNING  C:\\Users\\aaron\\Documents\\Ao4\\TFG\\CityScapesWithPanopticSegm\\dataset\\images\\val\\frankfurt_000001_016273_gtFine_polygons.png: 1 duplicate labels removed\n",
      "\u001b[34m\u001b[1mval: \u001b[0mWARNING  C:\\Users\\aaron\\Documents\\Ao4\\TFG\\CityScapesWithPanopticSegm\\dataset\\images\\val\\frankfurt_000001_017101_gtFine_polygons.png: 1 duplicate labels removed\n",
      "\u001b[34m\u001b[1mval: \u001b[0mWARNING  C:\\Users\\aaron\\Documents\\Ao4\\TFG\\CityScapesWithPanopticSegm\\dataset\\images\\val\\frankfurt_000001_028232_gtFine_polygons.png: 1 duplicate labels removed\n",
      "\u001b[34m\u001b[1mval: \u001b[0mWARNING  C:\\Users\\aaron\\Documents\\Ao4\\TFG\\CityScapesWithPanopticSegm\\dataset\\images\\val\\frankfurt_000001_046272_gtFine_polygons.png: 1 duplicate labels removed\n",
      "\u001b[34m\u001b[1mval: \u001b[0mWARNING  C:\\Users\\aaron\\Documents\\Ao4\\TFG\\CityScapesWithPanopticSegm\\dataset\\images\\val\\frankfurt_000001_077434_gtFine_polygons.png: 1 duplicate labels removed\n",
      "\u001b[34m\u001b[1mval: \u001b[0mWARNING  C:\\Users\\aaron\\Documents\\Ao4\\TFG\\CityScapesWithPanopticSegm\\dataset\\images\\val\\lindau_000000_000019_gtFine_polygons.png: ignoring corrupt image/label: non-normalized or out of bounds coordinates [     1.0034]\n",
      "\u001b[34m\u001b[1mval: \u001b[0mWARNING  C:\\Users\\aaron\\Documents\\Ao4\\TFG\\CityScapesWithPanopticSegm\\dataset\\images\\val\\lindau_000013_000019_gtFine_polygons.png: ignoring corrupt image/label: non-normalized or out of bounds coordinates [     1.0005]\n",
      "\u001b[34m\u001b[1mval: \u001b[0mWARNING  C:\\Users\\aaron\\Documents\\Ao4\\TFG\\CityScapesWithPanopticSegm\\dataset\\images\\val\\lindau_000018_000019_gtFine_polygons.png: ignoring corrupt image/label: non-normalized or out of bounds coordinates [      1.001]\n",
      "\u001b[34m\u001b[1mval: \u001b[0mWARNING  C:\\Users\\aaron\\Documents\\Ao4\\TFG\\CityScapesWithPanopticSegm\\dataset\\images\\val\\munster_000026_000019_gtFine_polygons.png: 2 duplicate labels removed\n",
      "\u001b[34m\u001b[1mval: \u001b[0mWARNING  C:\\Users\\aaron\\Documents\\Ao4\\TFG\\CityScapesWithPanopticSegm\\dataset\\images\\val\\munster_000029_000019_gtFine_polygons.png: 1 duplicate labels removed\n",
      "\u001b[34m\u001b[1mval: \u001b[0mWARNING  C:\\Users\\aaron\\Documents\\Ao4\\TFG\\CityScapesWithPanopticSegm\\dataset\\images\\val\\munster_000035_000019_gtFine_polygons.png: ignoring corrupt image/label: non-normalized or out of bounds coordinates [     1.0005]\n",
      "\u001b[34m\u001b[1mval: \u001b[0mWARNING  C:\\Users\\aaron\\Documents\\Ao4\\TFG\\CityScapesWithPanopticSegm\\dataset\\images\\val\\munster_000045_000019_gtFine_polygons.png: ignoring corrupt image/label: non-normalized or out of bounds coordinates [     1.0005]\n",
      "\u001b[34m\u001b[1mval: \u001b[0mWARNING  C:\\Users\\aaron\\Documents\\Ao4\\TFG\\CityScapesWithPanopticSegm\\dataset\\images\\val\\munster_000049_000019_gtFine_polygons.png: 1 duplicate labels removed\n",
      "\u001b[34m\u001b[1mval: \u001b[0mWARNING  C:\\Users\\aaron\\Documents\\Ao4\\TFG\\CityScapesWithPanopticSegm\\dataset\\images\\val\\munster_000108_000019_gtFine_polygons.png: 1 duplicate labels removed\n",
      "\u001b[34m\u001b[1mval: \u001b[0mWARNING  C:\\Users\\aaron\\Documents\\Ao4\\TFG\\CityScapesWithPanopticSegm\\dataset\\images\\val\\munster_000140_000019_gtFine_polygons.png: 1 duplicate labels removed\n",
      "\u001b[34m\u001b[1mval: \u001b[0mWARNING  C:\\Users\\aaron\\Documents\\Ao4\\TFG\\CityScapesWithPanopticSegm\\dataset\\images\\val\\munster_000141_000019_gtFine_polygons.png: 1 duplicate labels removed\n",
      "\u001b[34m\u001b[1mval: \u001b[0mWARNING  C:\\Users\\aaron\\Documents\\Ao4\\TFG\\CityScapesWithPanopticSegm\\dataset\\images\\val\\munster_000142_000019_gtFine_polygons.png: 1 duplicate labels removed\n",
      "\u001b[34m\u001b[1mval: \u001b[0mWARNING  C:\\Users\\aaron\\Documents\\Ao4\\TFG\\CityScapesWithPanopticSegm\\dataset\\images\\val\\munster_000167_000019_gtFine_polygons.png: 1 duplicate labels removed\n",
      "Plotting labels to runs\\segment\\train552\\labels.jpg... \n"
     ]
    },
    {
     "name": "stderr",
     "output_type": "stream",
     "text": [
      "\n"
     ]
    },
    {
     "name": "stdout",
     "output_type": "stream",
     "text": [
      "\u001b[34m\u001b[1moptimizer:\u001b[0m AdamW(lr=1e-08, momentum=0.86519) with parameter groups 86 weight(decay=0.0), 97 weight(decay=0.00045), 96 bias(decay=0.0)\n",
      "Image sizes 640 train, 640 val\n",
      "Using 0 dataloader workers\n",
      "Logging results to \u001b[1mruns\\segment\\train552\u001b[0m\n",
      "Starting training for 30 epochs...\n",
      "\n",
      "      Epoch    GPU_mem   box_loss   seg_loss   cls_loss   dfl_loss  Instances       Size\n"
     ]
    },
    {
     "name": "stderr",
     "output_type": "stream",
     "text": [
      "       1/30      5.19G     0.9397      2.134      1.366      1.652        427        640: 100%|██████████| 369/369 [09:25<00:00,  1.53s/it]\n",
      "                 Class     Images  Instances      Box(P          R      mAP50  mAP50-95)     Mask(P          R      mAP50  mAP50-95): 100%|██████████| 31/31 [00:53<00:00,  1.72s/it]\n"
     ]
    },
    {
     "name": "stdout",
     "output_type": "stream",
     "text": [
      "                   all        495      23219      0.685        0.5      0.536      0.344      0.621      0.446      0.456      0.247\n",
      "\n",
      "      Epoch    GPU_mem   box_loss   seg_loss   cls_loss   dfl_loss  Instances       Size\n"
     ]
    },
    {
     "name": "stderr",
     "output_type": "stream",
     "text": [
      "       2/30      5.09G     0.9409      2.135      1.369      1.653        365        640: 100%|██████████| 369/369 [09:14<00:00,  1.50s/it]\n",
      "                 Class     Images  Instances      Box(P          R      mAP50  mAP50-95)     Mask(P          R      mAP50  mAP50-95): 100%|██████████| 31/31 [00:53<00:00,  1.73s/it]\n"
     ]
    },
    {
     "name": "stdout",
     "output_type": "stream",
     "text": [
      "                   all        495      23219      0.683      0.499      0.538      0.344      0.618      0.449      0.456      0.248\n",
      "\n",
      "      Epoch    GPU_mem   box_loss   seg_loss   cls_loss   dfl_loss  Instances       Size\n"
     ]
    },
    {
     "name": "stderr",
     "output_type": "stream",
     "text": [
      "       3/30      5.12G     0.9458      2.149      1.372      1.655        326        640: 100%|██████████| 369/369 [09:12<00:00,  1.50s/it]\n",
      "                 Class     Images  Instances      Box(P          R      mAP50  mAP50-95)     Mask(P          R      mAP50  mAP50-95): 100%|██████████| 31/31 [00:53<00:00,  1.73s/it]\n"
     ]
    },
    {
     "name": "stdout",
     "output_type": "stream",
     "text": [
      "                   all        495      23219      0.691      0.497      0.536      0.344       0.62      0.445      0.455      0.247\n",
      "\n",
      "      Epoch    GPU_mem   box_loss   seg_loss   cls_loss   dfl_loss  Instances       Size\n"
     ]
    },
    {
     "name": "stderr",
     "output_type": "stream",
     "text": [
      "       4/30      5.16G       0.94      2.133      1.369      1.652        273        640: 100%|██████████| 369/369 [09:09<00:00,  1.49s/it]\n",
      "                 Class     Images  Instances      Box(P          R      mAP50  mAP50-95)     Mask(P          R      mAP50  mAP50-95): 100%|██████████| 31/31 [00:53<00:00,  1.73s/it]\n"
     ]
    },
    {
     "name": "stdout",
     "output_type": "stream",
     "text": [
      "                   all        495      23219      0.682        0.5      0.537      0.346      0.617      0.448      0.457      0.248\n",
      "\n",
      "      Epoch    GPU_mem   box_loss   seg_loss   cls_loss   dfl_loss  Instances       Size\n"
     ]
    },
    {
     "name": "stderr",
     "output_type": "stream",
     "text": [
      "       5/30      5.16G     0.9401      2.132      1.368      1.654        392        640: 100%|██████████| 369/369 [09:09<00:00,  1.49s/it]\n",
      "                 Class     Images  Instances      Box(P          R      mAP50  mAP50-95)     Mask(P          R      mAP50  mAP50-95): 100%|██████████| 31/31 [00:53<00:00,  1.73s/it]\n"
     ]
    },
    {
     "name": "stdout",
     "output_type": "stream",
     "text": [
      "                   all        495      23219      0.685      0.499      0.537      0.345      0.621      0.446      0.456      0.248\n",
      "\n",
      "      Epoch    GPU_mem   box_loss   seg_loss   cls_loss   dfl_loss  Instances       Size\n"
     ]
    },
    {
     "name": "stderr",
     "output_type": "stream",
     "text": [
      "       6/30      5.14G     0.9394      2.132      1.365      1.653        424        640: 100%|██████████| 369/369 [09:08<00:00,  1.49s/it]\n",
      "                 Class     Images  Instances      Box(P          R      mAP50  mAP50-95)     Mask(P          R      mAP50  mAP50-95): 100%|██████████| 31/31 [00:53<00:00,  1.73s/it]\n"
     ]
    },
    {
     "name": "stdout",
     "output_type": "stream",
     "text": [
      "                   all        495      23219      0.688      0.496      0.536      0.344      0.628      0.443      0.457      0.248\n",
      "\n",
      "      Epoch    GPU_mem   box_loss   seg_loss   cls_loss   dfl_loss  Instances       Size\n"
     ]
    },
    {
     "name": "stderr",
     "output_type": "stream",
     "text": [
      "       7/30      5.39G     0.9405      2.136      1.372      1.654        387        640: 100%|██████████| 369/369 [09:09<00:00,  1.49s/it]\n",
      "                 Class     Images  Instances      Box(P          R      mAP50  mAP50-95)     Mask(P          R      mAP50  mAP50-95): 100%|██████████| 31/31 [00:53<00:00,  1.73s/it]\n"
     ]
    },
    {
     "name": "stdout",
     "output_type": "stream",
     "text": [
      "                   all        495      23219      0.686      0.498      0.537      0.344      0.618      0.447      0.457      0.248\n",
      "\n",
      "      Epoch    GPU_mem   box_loss   seg_loss   cls_loss   dfl_loss  Instances       Size\n"
     ]
    },
    {
     "name": "stderr",
     "output_type": "stream",
     "text": [
      "       8/30      5.34G     0.9394       2.13      1.363       1.65        419        640: 100%|██████████| 369/369 [09:09<00:00,  1.49s/it]\n",
      "                 Class     Images  Instances      Box(P          R      mAP50  mAP50-95)     Mask(P          R      mAP50  mAP50-95): 100%|██████████| 31/31 [00:53<00:00,  1.73s/it]\n"
     ]
    },
    {
     "name": "stdout",
     "output_type": "stream",
     "text": [
      "                   all        495      23219      0.689      0.497      0.538      0.345      0.627      0.443      0.455      0.247\n",
      "\n",
      "      Epoch    GPU_mem   box_loss   seg_loss   cls_loss   dfl_loss  Instances       Size\n"
     ]
    },
    {
     "name": "stderr",
     "output_type": "stream",
     "text": [
      "       9/30      5.18G     0.9376      2.128      1.367      1.651        289        640: 100%|██████████| 369/369 [09:08<00:00,  1.49s/it]\n",
      "                 Class     Images  Instances      Box(P          R      mAP50  mAP50-95)     Mask(P          R      mAP50  mAP50-95): 100%|██████████| 31/31 [00:53<00:00,  1.73s/it]\n"
     ]
    },
    {
     "name": "stdout",
     "output_type": "stream",
     "text": [
      "                   all        495      23219       0.69      0.498      0.537      0.345      0.618      0.448      0.457      0.248\n",
      "\n",
      "      Epoch    GPU_mem   box_loss   seg_loss   cls_loss   dfl_loss  Instances       Size\n"
     ]
    },
    {
     "name": "stderr",
     "output_type": "stream",
     "text": [
      "      10/30       5.3G     0.9408      2.133      1.366      1.654        305        640: 100%|██████████| 369/369 [09:08<00:00,  1.49s/it]\n",
      "                 Class     Images  Instances      Box(P          R      mAP50  mAP50-95)     Mask(P          R      mAP50  mAP50-95): 100%|██████████| 31/31 [00:53<00:00,  1.72s/it]\n"
     ]
    },
    {
     "name": "stdout",
     "output_type": "stream",
     "text": [
      "                   all        495      23219      0.686      0.499      0.537      0.345       0.63       0.44      0.456      0.247\n",
      "\n",
      "      Epoch    GPU_mem   box_loss   seg_loss   cls_loss   dfl_loss  Instances       Size\n"
     ]
    },
    {
     "name": "stderr",
     "output_type": "stream",
     "text": [
      "      11/30      5.14G     0.9416      2.131      1.369      1.653        327        640: 100%|██████████| 369/369 [09:06<00:00,  1.48s/it]\n",
      "                 Class     Images  Instances      Box(P          R      mAP50  mAP50-95)     Mask(P          R      mAP50  mAP50-95): 100%|██████████| 31/31 [00:53<00:00,  1.72s/it]\n"
     ]
    },
    {
     "name": "stdout",
     "output_type": "stream",
     "text": [
      "                   all        495      23219       0.69      0.496      0.537      0.345       0.62      0.446      0.455      0.248\n",
      "\n",
      "      Epoch    GPU_mem   box_loss   seg_loss   cls_loss   dfl_loss  Instances       Size\n"
     ]
    },
    {
     "name": "stderr",
     "output_type": "stream",
     "text": [
      "      12/30       5.2G     0.9418      2.126      1.366      1.653        425        640: 100%|██████████| 369/369 [09:07<00:00,  1.48s/it]\n",
      "                 Class     Images  Instances      Box(P          R      mAP50  mAP50-95)     Mask(P          R      mAP50  mAP50-95): 100%|██████████| 31/31 [00:53<00:00,  1.72s/it]\n"
     ]
    },
    {
     "name": "stdout",
     "output_type": "stream",
     "text": [
      "                   all        495      23219      0.686        0.5      0.537      0.345      0.629      0.441      0.456      0.247\n",
      "\n",
      "      Epoch    GPU_mem   box_loss   seg_loss   cls_loss   dfl_loss  Instances       Size\n"
     ]
    },
    {
     "name": "stderr",
     "output_type": "stream",
     "text": [
      "      13/30      5.17G      0.933      2.123      1.355      1.647        351        640: 100%|██████████| 369/369 [09:07<00:00,  1.48s/it]\n",
      "                 Class     Images  Instances      Box(P          R      mAP50  mAP50-95)     Mask(P          R      mAP50  mAP50-95): 100%|██████████| 31/31 [00:53<00:00,  1.73s/it]\n"
     ]
    },
    {
     "name": "stdout",
     "output_type": "stream",
     "text": [
      "                   all        495      23219      0.687        0.5      0.537      0.345      0.621      0.447      0.457      0.249\n",
      "\n",
      "      Epoch    GPU_mem   box_loss   seg_loss   cls_loss   dfl_loss  Instances       Size\n"
     ]
    },
    {
     "name": "stderr",
     "output_type": "stream",
     "text": [
      "      14/30      5.19G     0.9297      2.115      1.348      1.647        354        640: 100%|██████████| 369/369 [09:06<00:00,  1.48s/it]\n",
      "                 Class     Images  Instances      Box(P          R      mAP50  mAP50-95)     Mask(P          R      mAP50  mAP50-95): 100%|██████████| 31/31 [00:53<00:00,  1.73s/it]\n"
     ]
    },
    {
     "name": "stdout",
     "output_type": "stream",
     "text": [
      "                   all        495      23219      0.689      0.499      0.537      0.345      0.626      0.443      0.457      0.248\n",
      "\n",
      "      Epoch    GPU_mem   box_loss   seg_loss   cls_loss   dfl_loss  Instances       Size\n"
     ]
    },
    {
     "name": "stderr",
     "output_type": "stream",
     "text": [
      "      15/30      5.17G     0.9352      2.117      1.361      1.651        315        640: 100%|██████████| 369/369 [09:06<00:00,  1.48s/it]\n",
      "                 Class     Images  Instances      Box(P          R      mAP50  mAP50-95)     Mask(P          R      mAP50  mAP50-95): 100%|██████████| 31/31 [00:53<00:00,  1.72s/it]\n"
     ]
    },
    {
     "name": "stdout",
     "output_type": "stream",
     "text": [
      "                   all        495      23219       0.69      0.499      0.537      0.345      0.616      0.449      0.457      0.248\n",
      "\n",
      "      Epoch    GPU_mem   box_loss   seg_loss   cls_loss   dfl_loss  Instances       Size\n"
     ]
    },
    {
     "name": "stderr",
     "output_type": "stream",
     "text": [
      "      16/30      5.24G     0.9365      2.129      1.359      1.651        353        640: 100%|██████████| 369/369 [09:05<00:00,  1.48s/it]\n",
      "                 Class     Images  Instances      Box(P          R      mAP50  mAP50-95)     Mask(P          R      mAP50  mAP50-95): 100%|██████████| 31/31 [00:53<00:00,  1.73s/it]\n"
     ]
    },
    {
     "name": "stdout",
     "output_type": "stream",
     "text": [
      "                   all        495      23219      0.685        0.5      0.537      0.346       0.62      0.445      0.457      0.248\n",
      "\n",
      "      Epoch    GPU_mem   box_loss   seg_loss   cls_loss   dfl_loss  Instances       Size\n"
     ]
    },
    {
     "name": "stderr",
     "output_type": "stream",
     "text": [
      "      17/30      5.21G     0.9346      2.124      1.355      1.648        369        640: 100%|██████████| 369/369 [09:08<00:00,  1.49s/it]\n",
      "                 Class     Images  Instances      Box(P          R      mAP50  mAP50-95)     Mask(P          R      mAP50  mAP50-95): 100%|██████████| 31/31 [00:53<00:00,  1.73s/it]\n"
     ]
    },
    {
     "name": "stdout",
     "output_type": "stream",
     "text": [
      "                   all        495      23219      0.681      0.497      0.536      0.344       0.62      0.447      0.458      0.247\n",
      "\n",
      "      Epoch    GPU_mem   box_loss   seg_loss   cls_loss   dfl_loss  Instances       Size\n"
     ]
    },
    {
     "name": "stderr",
     "output_type": "stream",
     "text": [
      "      18/30      5.23G     0.9408      2.139      1.368      1.655        374        640: 100%|██████████| 369/369 [09:08<00:00,  1.49s/it]\n",
      "                 Class     Images  Instances      Box(P          R      mAP50  mAP50-95)     Mask(P          R      mAP50  mAP50-95): 100%|██████████| 31/31 [00:53<00:00,  1.72s/it]\n"
     ]
    },
    {
     "name": "stdout",
     "output_type": "stream",
     "text": [
      "                   all        495      23219      0.686        0.5      0.538      0.345      0.619       0.45      0.459      0.249\n",
      "\n",
      "      Epoch    GPU_mem   box_loss   seg_loss   cls_loss   dfl_loss  Instances       Size\n"
     ]
    },
    {
     "name": "stderr",
     "output_type": "stream",
     "text": [
      "      19/30      5.22G     0.9382      2.128      1.361      1.651        383        640: 100%|██████████| 369/369 [09:06<00:00,  1.48s/it]\n",
      "                 Class     Images  Instances      Box(P          R      mAP50  mAP50-95)     Mask(P          R      mAP50  mAP50-95): 100%|██████████| 31/31 [00:53<00:00,  1.72s/it]\n"
     ]
    },
    {
     "name": "stdout",
     "output_type": "stream",
     "text": [
      "                   all        495      23219      0.677      0.504      0.538      0.346      0.622      0.448      0.458      0.248\n",
      "\n",
      "      Epoch    GPU_mem   box_loss   seg_loss   cls_loss   dfl_loss  Instances       Size\n"
     ]
    },
    {
     "name": "stderr",
     "output_type": "stream",
     "text": [
      "      20/30      5.16G     0.9367      2.129      1.358      1.651        303        640: 100%|██████████| 369/369 [09:07<00:00,  1.48s/it]\n",
      "                 Class     Images  Instances      Box(P          R      mAP50  mAP50-95)     Mask(P          R      mAP50  mAP50-95): 100%|██████████| 31/31 [00:53<00:00,  1.73s/it]\n"
     ]
    },
    {
     "name": "stdout",
     "output_type": "stream",
     "text": [
      "                   all        495      23219       0.69      0.497      0.537      0.345      0.628      0.441      0.457      0.248\n",
      "Closing dataloader mosaic\n",
      "\n",
      "      Epoch    GPU_mem   box_loss   seg_loss   cls_loss   dfl_loss  Instances       Size\n"
     ]
    },
    {
     "name": "stderr",
     "output_type": "stream",
     "text": [
      "      21/30      5.08G     0.9833      2.197       1.48      1.739        197        640: 100%|██████████| 369/369 [06:47<00:00,  1.10s/it]\n",
      "                 Class     Images  Instances      Box(P          R      mAP50  mAP50-95)     Mask(P          R      mAP50  mAP50-95): 100%|██████████| 31/31 [00:53<00:00,  1.72s/it]\n"
     ]
    },
    {
     "name": "stdout",
     "output_type": "stream",
     "text": [
      "                   all        495      23219      0.661       0.48      0.521      0.329      0.631      0.418      0.436      0.231\n",
      "\n",
      "      Epoch    GPU_mem   box_loss   seg_loss   cls_loss   dfl_loss  Instances       Size\n"
     ]
    },
    {
     "name": "stderr",
     "output_type": "stream",
     "text": [
      "      22/30      4.98G     0.9823      2.194      1.478      1.738        140        640: 100%|██████████| 369/369 [06:46<00:00,  1.10s/it]\n",
      "                 Class     Images  Instances      Box(P          R      mAP50  mAP50-95)     Mask(P          R      mAP50  mAP50-95): 100%|██████████| 31/31 [00:53<00:00,  1.74s/it]\n"
     ]
    },
    {
     "name": "stdout",
     "output_type": "stream",
     "text": [
      "                   all        495      23219      0.654      0.485      0.522       0.33      0.636      0.418      0.437      0.232\n",
      "\n",
      "      Epoch    GPU_mem   box_loss   seg_loss   cls_loss   dfl_loss  Instances       Size\n"
     ]
    },
    {
     "name": "stderr",
     "output_type": "stream",
     "text": [
      "      23/30      5.09G     0.9821      2.194      1.475      1.738        178        640: 100%|██████████| 369/369 [06:46<00:00,  1.10s/it]\n",
      "                 Class     Images  Instances      Box(P          R      mAP50  mAP50-95)     Mask(P          R      mAP50  mAP50-95): 100%|██████████| 31/31 [00:53<00:00,  1.73s/it]\n"
     ]
    },
    {
     "name": "stdout",
     "output_type": "stream",
     "text": [
      "                   all        495      23219      0.655      0.487      0.521      0.329      0.633      0.417      0.436      0.231\n",
      "\n",
      "      Epoch    GPU_mem   box_loss   seg_loss   cls_loss   dfl_loss  Instances       Size\n"
     ]
    },
    {
     "name": "stderr",
     "output_type": "stream",
     "text": [
      "      24/30      4.67G      0.982      2.193      1.474      1.737        189        640: 100%|██████████| 369/369 [06:45<00:00,  1.10s/it]\n",
      "                 Class     Images  Instances      Box(P          R      mAP50  mAP50-95)     Mask(P          R      mAP50  mAP50-95): 100%|██████████| 31/31 [00:53<00:00,  1.73s/it]\n"
     ]
    },
    {
     "name": "stdout",
     "output_type": "stream",
     "text": [
      "                   all        495      23219      0.652      0.485      0.521       0.33      0.626      0.417      0.435      0.231\n",
      "\n",
      "      Epoch    GPU_mem   box_loss   seg_loss   cls_loss   dfl_loss  Instances       Size\n"
     ]
    },
    {
     "name": "stderr",
     "output_type": "stream",
     "text": [
      "      25/30      5.09G     0.9798      2.193      1.473      1.735        315        640: 100%|██████████| 369/369 [06:46<00:00,  1.10s/it]\n",
      "                 Class     Images  Instances      Box(P          R      mAP50  mAP50-95)     Mask(P          R      mAP50  mAP50-95): 100%|██████████| 31/31 [00:53<00:00,  1.72s/it]\n"
     ]
    },
    {
     "name": "stdout",
     "output_type": "stream",
     "text": [
      "                   all        495      23219      0.653      0.486       0.52      0.329      0.628      0.418      0.436      0.231\n",
      "\n",
      "      Epoch    GPU_mem   box_loss   seg_loss   cls_loss   dfl_loss  Instances       Size\n"
     ]
    },
    {
     "name": "stderr",
     "output_type": "stream",
     "text": [
      "      26/30      5.07G      0.982      2.194      1.473      1.737        270        640: 100%|██████████| 369/369 [06:46<00:00,  1.10s/it]\n",
      "                 Class     Images  Instances      Box(P          R      mAP50  mAP50-95)     Mask(P          R      mAP50  mAP50-95): 100%|██████████| 31/31 [00:53<00:00,  1.73s/it]\n"
     ]
    },
    {
     "name": "stdout",
     "output_type": "stream",
     "text": [
      "                   all        495      23219      0.649      0.487       0.52      0.329      0.626      0.417      0.435      0.232\n",
      "\n",
      "      Epoch    GPU_mem   box_loss   seg_loss   cls_loss   dfl_loss  Instances       Size\n"
     ]
    },
    {
     "name": "stderr",
     "output_type": "stream",
     "text": [
      "      27/30      5.07G     0.9814      2.193      1.472      1.737        209        640: 100%|██████████| 369/369 [06:49<00:00,  1.11s/it]\n",
      "                 Class     Images  Instances      Box(P          R      mAP50  mAP50-95)     Mask(P          R      mAP50  mAP50-95): 100%|██████████| 31/31 [00:53<00:00,  1.73s/it]\n"
     ]
    },
    {
     "name": "stdout",
     "output_type": "stream",
     "text": [
      "                   all        495      23219      0.647      0.489      0.522      0.331      0.629       0.42      0.438      0.232\n",
      "\n",
      "      Epoch    GPU_mem   box_loss   seg_loss   cls_loss   dfl_loss  Instances       Size\n"
     ]
    },
    {
     "name": "stderr",
     "output_type": "stream",
     "text": [
      "      28/30      5.08G     0.9803      2.191      1.471      1.734        212        640: 100%|██████████| 369/369 [06:46<00:00,  1.10s/it]\n",
      "                 Class     Images  Instances      Box(P          R      mAP50  mAP50-95)     Mask(P          R      mAP50  mAP50-95): 100%|██████████| 31/31 [00:53<00:00,  1.73s/it]\n"
     ]
    },
    {
     "name": "stdout",
     "output_type": "stream",
     "text": [
      "                   all        495      23219      0.647      0.489      0.521       0.33      0.635      0.417      0.436      0.232\n",
      "\n",
      "      Epoch    GPU_mem   box_loss   seg_loss   cls_loss   dfl_loss  Instances       Size\n"
     ]
    },
    {
     "name": "stderr",
     "output_type": "stream",
     "text": [
      "      29/30      5.07G     0.9799      2.191      1.471      1.736        194        640: 100%|██████████| 369/369 [06:46<00:00,  1.10s/it]\n",
      "                 Class     Images  Instances      Box(P          R      mAP50  mAP50-95)     Mask(P          R      mAP50  mAP50-95): 100%|██████████| 31/31 [00:53<00:00,  1.74s/it]\n"
     ]
    },
    {
     "name": "stdout",
     "output_type": "stream",
     "text": [
      "                   all        495      23219      0.652      0.487      0.522       0.33      0.639      0.416      0.436      0.232\n",
      "\n",
      "      Epoch    GPU_mem   box_loss   seg_loss   cls_loss   dfl_loss  Instances       Size\n"
     ]
    },
    {
     "name": "stderr",
     "output_type": "stream",
     "text": [
      "      30/30      4.98G     0.9805      2.192      1.471      1.734        201        640: 100%|██████████| 369/369 [06:47<00:00,  1.11s/it]\n",
      "                 Class     Images  Instances      Box(P          R      mAP50  mAP50-95)     Mask(P          R      mAP50  mAP50-95): 100%|██████████| 31/31 [00:53<00:00,  1.73s/it]\n"
     ]
    },
    {
     "name": "stdout",
     "output_type": "stream",
     "text": [
      "                   all        495      23219      0.647       0.49      0.522       0.33      0.622      0.421      0.437      0.231\n",
      "\n",
      "30 epochs completed in 4.646 hours.\n",
      "Optimizer stripped from runs\\segment\\train552\\weights\\last.pt, 54.8MB\n",
      "Optimizer stripped from runs\\segment\\train552\\weights\\best.pt, 54.8MB\n",
      "\n",
      "Validating runs\\segment\\train552\\weights\\best.pt...\n",
      "Ultralytics 8.3.55  Python-3.11.5 torch-2.6.0+cu126 CUDA:0 (NVIDIA GeForce RTX 4060 Laptop GPU, 8188MiB)\n",
      "YOLOv8m-seg summary (fused): 245 layers, 27,229,911 parameters, 0 gradients, 110.0 GFLOPs\n"
     ]
    },
    {
     "name": "stderr",
     "output_type": "stream",
     "text": [
      "                 Class     Images  Instances      Box(P          R      mAP50  mAP50-95)     Mask(P          R      mAP50  mAP50-95):   0%|          | 0/31 [00:00<?, ?it/s]"
     ]
    },
    {
     "name": "stdout",
     "output_type": "stream",
     "text": [
      "WARNING  Model does not support 'augment=True', reverting to single-scale prediction.\n"
     ]
    },
    {
     "name": "stderr",
     "output_type": "stream",
     "text": [
      "                 Class     Images  Instances      Box(P          R      mAP50  mAP50-95)     Mask(P          R      mAP50  mAP50-95):   3%|▎         | 1/31 [00:02<01:03,  2.12s/it]"
     ]
    },
    {
     "name": "stdout",
     "output_type": "stream",
     "text": [
      "WARNING  Model does not support 'augment=True', reverting to single-scale prediction.\n"
     ]
    },
    {
     "name": "stderr",
     "output_type": "stream",
     "text": [
      "                 Class     Images  Instances      Box(P          R      mAP50  mAP50-95)     Mask(P          R      mAP50  mAP50-95):   6%|▋         | 2/31 [00:04<00:58,  2.02s/it]"
     ]
    },
    {
     "name": "stdout",
     "output_type": "stream",
     "text": [
      "WARNING  Model does not support 'augment=True', reverting to single-scale prediction.\n"
     ]
    },
    {
     "name": "stderr",
     "output_type": "stream",
     "text": [
      "                 Class     Images  Instances      Box(P          R      mAP50  mAP50-95)     Mask(P          R      mAP50  mAP50-95):  10%|▉         | 3/31 [00:06<00:58,  2.10s/it]"
     ]
    },
    {
     "name": "stdout",
     "output_type": "stream",
     "text": [
      "WARNING  Model does not support 'augment=True', reverting to single-scale prediction.\n"
     ]
    },
    {
     "name": "stderr",
     "output_type": "stream",
     "text": [
      "                 Class     Images  Instances      Box(P          R      mAP50  mAP50-95)     Mask(P          R      mAP50  mAP50-95):  13%|█▎        | 4/31 [00:08<00:59,  2.21s/it]"
     ]
    },
    {
     "name": "stdout",
     "output_type": "stream",
     "text": [
      "WARNING  Model does not support 'augment=True', reverting to single-scale prediction.\n"
     ]
    },
    {
     "name": "stderr",
     "output_type": "stream",
     "text": [
      "                 Class     Images  Instances      Box(P          R      mAP50  mAP50-95)     Mask(P          R      mAP50  mAP50-95):  16%|█▌        | 5/31 [00:10<00:53,  2.05s/it]"
     ]
    },
    {
     "name": "stdout",
     "output_type": "stream",
     "text": [
      "WARNING  Model does not support 'augment=True', reverting to single-scale prediction.\n"
     ]
    },
    {
     "name": "stderr",
     "output_type": "stream",
     "text": [
      "                 Class     Images  Instances      Box(P          R      mAP50  mAP50-95)     Mask(P          R      mAP50  mAP50-95):  19%|█▉        | 6/31 [00:12<00:48,  1.94s/it]"
     ]
    },
    {
     "name": "stdout",
     "output_type": "stream",
     "text": [
      "WARNING  Model does not support 'augment=True', reverting to single-scale prediction.\n"
     ]
    },
    {
     "name": "stderr",
     "output_type": "stream",
     "text": [
      "                 Class     Images  Instances      Box(P          R      mAP50  mAP50-95)     Mask(P          R      mAP50  mAP50-95):  23%|██▎       | 7/31 [00:13<00:43,  1.81s/it]"
     ]
    },
    {
     "name": "stdout",
     "output_type": "stream",
     "text": [
      "WARNING  Model does not support 'augment=True', reverting to single-scale prediction.\n"
     ]
    },
    {
     "name": "stderr",
     "output_type": "stream",
     "text": [
      "                 Class     Images  Instances      Box(P          R      mAP50  mAP50-95)     Mask(P          R      mAP50  mAP50-95):  26%|██▌       | 8/31 [00:15<00:40,  1.74s/it]"
     ]
    },
    {
     "name": "stdout",
     "output_type": "stream",
     "text": [
      "WARNING  Model does not support 'augment=True', reverting to single-scale prediction.\n"
     ]
    },
    {
     "name": "stderr",
     "output_type": "stream",
     "text": [
      "                 Class     Images  Instances      Box(P          R      mAP50  mAP50-95)     Mask(P          R      mAP50  mAP50-95):  29%|██▉       | 9/31 [00:16<00:37,  1.72s/it]"
     ]
    },
    {
     "name": "stdout",
     "output_type": "stream",
     "text": [
      "WARNING  Model does not support 'augment=True', reverting to single-scale prediction.\n"
     ]
    },
    {
     "name": "stderr",
     "output_type": "stream",
     "text": [
      "                 Class     Images  Instances      Box(P          R      mAP50  mAP50-95)     Mask(P          R      mAP50  mAP50-95):  32%|███▏      | 10/31 [00:18<00:36,  1.73s/it]"
     ]
    },
    {
     "name": "stdout",
     "output_type": "stream",
     "text": [
      "WARNING  Model does not support 'augment=True', reverting to single-scale prediction.\n"
     ]
    },
    {
     "name": "stderr",
     "output_type": "stream",
     "text": [
      "                 Class     Images  Instances      Box(P          R      mAP50  mAP50-95)     Mask(P          R      mAP50  mAP50-95):  35%|███▌      | 11/31 [00:20<00:34,  1.74s/it]"
     ]
    },
    {
     "name": "stdout",
     "output_type": "stream",
     "text": [
      "WARNING  Model does not support 'augment=True', reverting to single-scale prediction.\n"
     ]
    },
    {
     "name": "stderr",
     "output_type": "stream",
     "text": [
      "                 Class     Images  Instances      Box(P          R      mAP50  mAP50-95)     Mask(P          R      mAP50  mAP50-95):  39%|███▊      | 12/31 [00:22<00:33,  1.75s/it]"
     ]
    },
    {
     "name": "stdout",
     "output_type": "stream",
     "text": [
      "WARNING  Model does not support 'augment=True', reverting to single-scale prediction.\n"
     ]
    },
    {
     "name": "stderr",
     "output_type": "stream",
     "text": [
      "                 Class     Images  Instances      Box(P          R      mAP50  mAP50-95)     Mask(P          R      mAP50  mAP50-95):  42%|████▏     | 13/31 [00:24<00:31,  1.77s/it]"
     ]
    },
    {
     "name": "stdout",
     "output_type": "stream",
     "text": [
      "WARNING  Model does not support 'augment=True', reverting to single-scale prediction.\n"
     ]
    },
    {
     "name": "stderr",
     "output_type": "stream",
     "text": [
      "                 Class     Images  Instances      Box(P          R      mAP50  mAP50-95)     Mask(P          R      mAP50  mAP50-95):  45%|████▌     | 14/31 [00:25<00:30,  1.78s/it]"
     ]
    },
    {
     "name": "stdout",
     "output_type": "stream",
     "text": [
      "WARNING  Model does not support 'augment=True', reverting to single-scale prediction.\n"
     ]
    },
    {
     "name": "stderr",
     "output_type": "stream",
     "text": [
      "                 Class     Images  Instances      Box(P          R      mAP50  mAP50-95)     Mask(P          R      mAP50  mAP50-95):  48%|████▊     | 15/31 [00:27<00:28,  1.77s/it]"
     ]
    },
    {
     "name": "stdout",
     "output_type": "stream",
     "text": [
      "WARNING  Model does not support 'augment=True', reverting to single-scale prediction.\n"
     ]
    },
    {
     "name": "stderr",
     "output_type": "stream",
     "text": [
      "                 Class     Images  Instances      Box(P          R      mAP50  mAP50-95)     Mask(P          R      mAP50  mAP50-95):  52%|█████▏    | 16/31 [00:29<00:27,  1.81s/it]"
     ]
    },
    {
     "name": "stdout",
     "output_type": "stream",
     "text": [
      "WARNING  Model does not support 'augment=True', reverting to single-scale prediction.\n"
     ]
    },
    {
     "name": "stderr",
     "output_type": "stream",
     "text": [
      "                 Class     Images  Instances      Box(P          R      mAP50  mAP50-95)     Mask(P          R      mAP50  mAP50-95):  55%|█████▍    | 17/31 [00:31<00:25,  1.81s/it]"
     ]
    },
    {
     "name": "stdout",
     "output_type": "stream",
     "text": [
      "WARNING  Model does not support 'augment=True', reverting to single-scale prediction.\n"
     ]
    },
    {
     "name": "stderr",
     "output_type": "stream",
     "text": [
      "                 Class     Images  Instances      Box(P          R      mAP50  mAP50-95)     Mask(P          R      mAP50  mAP50-95):  58%|█████▊    | 18/31 [00:33<00:23,  1.81s/it]"
     ]
    },
    {
     "name": "stdout",
     "output_type": "stream",
     "text": [
      "WARNING  Model does not support 'augment=True', reverting to single-scale prediction.\n"
     ]
    },
    {
     "name": "stderr",
     "output_type": "stream",
     "text": [
      "                 Class     Images  Instances      Box(P          R      mAP50  mAP50-95)     Mask(P          R      mAP50  mAP50-95):  61%|██████▏   | 19/31 [00:35<00:22,  1.89s/it]"
     ]
    },
    {
     "name": "stdout",
     "output_type": "stream",
     "text": [
      "WARNING  Model does not support 'augment=True', reverting to single-scale prediction.\n"
     ]
    },
    {
     "name": "stderr",
     "output_type": "stream",
     "text": [
      "                 Class     Images  Instances      Box(P          R      mAP50  mAP50-95)     Mask(P          R      mAP50  mAP50-95):  65%|██████▍   | 20/31 [00:37<00:21,  1.93s/it]"
     ]
    },
    {
     "name": "stdout",
     "output_type": "stream",
     "text": [
      "WARNING  Model does not support 'augment=True', reverting to single-scale prediction.\n"
     ]
    },
    {
     "name": "stderr",
     "output_type": "stream",
     "text": [
      "                 Class     Images  Instances      Box(P          R      mAP50  mAP50-95)     Mask(P          R      mAP50  mAP50-95):  68%|██████▊   | 21/31 [00:39<00:19,  1.94s/it]"
     ]
    },
    {
     "name": "stdout",
     "output_type": "stream",
     "text": [
      "WARNING  Model does not support 'augment=True', reverting to single-scale prediction.\n"
     ]
    },
    {
     "name": "stderr",
     "output_type": "stream",
     "text": [
      "                 Class     Images  Instances      Box(P          R      mAP50  mAP50-95)     Mask(P          R      mAP50  mAP50-95):  71%|███████   | 22/31 [00:40<00:17,  1.89s/it]"
     ]
    },
    {
     "name": "stdout",
     "output_type": "stream",
     "text": [
      "WARNING  Model does not support 'augment=True', reverting to single-scale prediction.\n"
     ]
    },
    {
     "name": "stderr",
     "output_type": "stream",
     "text": [
      "                 Class     Images  Instances      Box(P          R      mAP50  mAP50-95)     Mask(P          R      mAP50  mAP50-95):  74%|███████▍  | 23/31 [00:42<00:15,  1.91s/it]"
     ]
    },
    {
     "name": "stdout",
     "output_type": "stream",
     "text": [
      "WARNING  Model does not support 'augment=True', reverting to single-scale prediction.\n"
     ]
    },
    {
     "name": "stderr",
     "output_type": "stream",
     "text": [
      "                 Class     Images  Instances      Box(P          R      mAP50  mAP50-95)     Mask(P          R      mAP50  mAP50-95):  77%|███████▋  | 24/31 [00:44<00:13,  1.88s/it]"
     ]
    },
    {
     "name": "stdout",
     "output_type": "stream",
     "text": [
      "WARNING  Model does not support 'augment=True', reverting to single-scale prediction.\n"
     ]
    },
    {
     "name": "stderr",
     "output_type": "stream",
     "text": [
      "                 Class     Images  Instances      Box(P          R      mAP50  mAP50-95)     Mask(P          R      mAP50  mAP50-95):  81%|████████  | 25/31 [00:46<00:11,  1.89s/it]"
     ]
    },
    {
     "name": "stdout",
     "output_type": "stream",
     "text": [
      "WARNING  Model does not support 'augment=True', reverting to single-scale prediction.\n"
     ]
    },
    {
     "name": "stderr",
     "output_type": "stream",
     "text": [
      "                 Class     Images  Instances      Box(P          R      mAP50  mAP50-95)     Mask(P          R      mAP50  mAP50-95):  84%|████████▍ | 26/31 [00:48<00:09,  1.94s/it]"
     ]
    },
    {
     "name": "stdout",
     "output_type": "stream",
     "text": [
      "WARNING  Model does not support 'augment=True', reverting to single-scale prediction.\n"
     ]
    },
    {
     "name": "stderr",
     "output_type": "stream",
     "text": [
      "                 Class     Images  Instances      Box(P          R      mAP50  mAP50-95)     Mask(P          R      mAP50  mAP50-95):  87%|████████▋ | 27/31 [00:50<00:07,  1.90s/it]"
     ]
    },
    {
     "name": "stdout",
     "output_type": "stream",
     "text": [
      "WARNING  Model does not support 'augment=True', reverting to single-scale prediction.\n"
     ]
    },
    {
     "name": "stderr",
     "output_type": "stream",
     "text": [
      "                 Class     Images  Instances      Box(P          R      mAP50  mAP50-95)     Mask(P          R      mAP50  mAP50-95):  90%|█████████ | 28/31 [00:52<00:05,  1.90s/it]"
     ]
    },
    {
     "name": "stdout",
     "output_type": "stream",
     "text": [
      "WARNING  Model does not support 'augment=True', reverting to single-scale prediction.\n"
     ]
    },
    {
     "name": "stderr",
     "output_type": "stream",
     "text": [
      "                 Class     Images  Instances      Box(P          R      mAP50  mAP50-95)     Mask(P          R      mAP50  mAP50-95):  94%|█████████▎| 29/31 [00:54<00:03,  1.88s/it]"
     ]
    },
    {
     "name": "stdout",
     "output_type": "stream",
     "text": [
      "WARNING  Model does not support 'augment=True', reverting to single-scale prediction.\n"
     ]
    },
    {
     "name": "stderr",
     "output_type": "stream",
     "text": [
      "                 Class     Images  Instances      Box(P          R      mAP50  mAP50-95)     Mask(P          R      mAP50  mAP50-95):  97%|█████████▋| 30/31 [00:56<00:01,  1.86s/it]"
     ]
    },
    {
     "name": "stdout",
     "output_type": "stream",
     "text": [
      "WARNING  Model does not support 'augment=True', reverting to single-scale prediction.\n"
     ]
    },
    {
     "name": "stderr",
     "output_type": "stream",
     "text": [
      "                 Class     Images  Instances      Box(P          R      mAP50  mAP50-95)     Mask(P          R      mAP50  mAP50-95): 100%|██████████| 31/31 [00:57<00:00,  1.86s/it]\n"
     ]
    },
    {
     "name": "stdout",
     "output_type": "stream",
     "text": [
      "                   all        495      23219      0.677      0.504      0.538      0.346      0.622      0.448      0.458      0.248\n",
      "                person        399       3387      0.625      0.468      0.521       0.29       0.51      0.351      0.357      0.143\n",
      "                 rider        252        548      0.795      0.446       0.56      0.331      0.541       0.29      0.283     0.0879\n",
      "                   car        474       4638      0.795       0.64      0.717      0.478      0.656      0.505      0.548      0.278\n",
      "                 truck         79         92      0.558       0.37      0.407       0.31      0.583       0.37      0.397      0.245\n",
      "                   bus         75         98      0.607      0.612      0.651      0.496      0.629      0.592      0.629      0.387\n",
      "                 train         22         23      0.636      0.478       0.43      0.242      0.587      0.435      0.394      0.185\n",
      "            motorcycle         93        149      0.752      0.295      0.364      0.162      0.568      0.215      0.238      0.065\n",
      "               bicycle        330       1165      0.737      0.334       0.44      0.226       0.65      0.273      0.307      0.105\n",
      "                  road        481        494      0.967      0.972      0.979      0.866      0.966       0.97      0.974      0.867\n",
      "              sidewalk        462       1205      0.651      0.437      0.483       0.28      0.673       0.42      0.445      0.217\n",
      "              building        486       1145      0.537      0.563      0.504      0.309      0.538      0.521      0.474      0.252\n",
      "                  pole        486       9801      0.464      0.175      0.182     0.0699      0.501      0.168      0.205     0.0871\n",
      "                   sky        440        474      0.677      0.755      0.752      0.432      0.683      0.715      0.702      0.304\n",
      "Speed: 0.2ms preprocess, 8.3ms inference, 0.0ms loss, 2.5ms postprocess per image\n",
      "Results saved to \u001b[1mruns\\segment\\train552\u001b[0m\n"
     ]
    }
   ],
   "source": [
    "results = model.train(\n",
    "    data='cityscapes.yaml',               # Ruta al archivo de configuración de datos\n",
    "    pretrained=True,                # Usar modelo preentrenado\n",
    "    freeze=0,\n",
    "    epochs=30,                      # Número de épocas para el ajuste fino\n",
    "    batch=8,                        # Tamaño de batch\n",
    "    imgsz=640,                      # Tamaño de imagen\n",
    "    device='cuda',                  # Dispositivo para entrenamiento\n",
    "    optimizer='AdamW',              # Usar AdamW como optimizador\n",
    "    lr0=1e-8,                    # Learning rate inicial\n",
    "    lrf=0.01221,                    # Learning rate final (ajustado con scheduler)\n",
    "    momentum=0.86519,               # Momentum\n",
    "    weight_decay=0.00045,           # Regularización L2\n",
    "    warmup_epochs=5.0,              # Warmup epochs\n",
    "    warmup_momentum=0.80406,        # Warmup momentum\n",
    "    box=5.59591,                    # Box loss gain\n",
    "    cls=0.76484,                    # CLS loss gain\n",
    "    dfl=2.14151,                    # DFL loss gain\n",
    "    hsv_h=0.0,                  # HSV-Hue augmentation\n",
    "    hsv_s=0.0,                  # HSV-Saturation augmentation\n",
    "    hsv_v=0.0,                  # HSV-Value augmentation\n",
    "    degrees=0.0,                    # Desactivar rotación\n",
    "    translate=0.00,              # Traslación\n",
    "    scale=0.0,                  # Escalado\n",
    "    shear=0.0,                      # Desactivar shear\n",
    "    perspective=0.0,                # Desactivar perspectiva\n",
    "    flipud=0.0,                     # Desactivar flip up-down\n",
    "    fliplr=0,                 # Flip left-right\n",
    "    bgr=0.0,                        # Desactivar cambio de canal BGR\n",
    "    mosaic=1,                 # Mosaic augmentation\n",
    "    mixup=0.0,                      # Desactivar mixup\n",
    "    copy_paste=0.0,                 # Desactivar copy-paste\n",
    "    #auto_augment='',                # Desactivar auto-augment\n",
    "    erasing=0.0,                    # Desactivar erasing\n",
    "    save=True,                      # Guardar el modelo     \n",
    "    val=True,                      # Desactivar validación\n",
    "    #close_mosaic=20,                 # Desactiva el mosaico\n",
    "    patience=17                     # Detener si no hay mejora después de 10 épocas\n",
    ")"
   ]
  },
  {
   "cell_type": "code",
   "execution_count": 3,
   "metadata": {},
   "outputs": [
    {
     "name": "stdout",
     "output_type": "stream",
     "text": [
      "New https://pypi.org/project/ultralytics/8.3.108 available  Update with 'pip install -U ultralytics'\n",
      "Ultralytics 8.3.55  Python-3.11.5 torch-2.6.0+cu126 CUDA:0 (NVIDIA GeForce RTX 4060 Laptop GPU, 8188MiB)\n",
      "\u001b[34m\u001b[1mengine\\trainer: \u001b[0mtask=segment, mode=train, model=runs/segment/train58/weights/best.pt, data=cityscapes.yaml, epochs=30, time=None, patience=17, batch=8, imgsz=640, save=True, save_period=-1, cache=False, device=cuda, workers=8, project=None, name=train59, exist_ok=False, pretrained=True, optimizer=AdamW, verbose=True, seed=0, deterministic=True, single_cls=False, rect=False, cos_lr=False, close_mosaic=10, resume=False, amp=True, fraction=1.0, profile=False, freeze=0, multi_scale=False, overlap_mask=True, mask_ratio=4, dropout=0.0, val=True, split=val, save_json=False, save_hybrid=False, conf=None, iou=0.7, max_det=300, half=False, dnn=False, plots=True, source=None, vid_stride=1, stream_buffer=False, visualize=False, augment=False, agnostic_nms=False, classes=None, retina_masks=False, embed=None, show=False, save_frames=False, save_txt=False, save_conf=False, save_crop=False, show_labels=True, show_conf=True, show_boxes=True, line_width=None, format=torchscript, keras=False, optimize=False, int8=False, dynamic=False, simplify=True, opset=None, workspace=None, nms=False, lr0=1e-08, lrf=0.01221, momentum=0.86519, weight_decay=0.00045, warmup_epochs=5.0, warmup_momentum=0.80406, warmup_bias_lr=0.1, box=5.59591, cls=0.76484, dfl=2.14151, pose=12.0, kobj=1.0, nbs=64, hsv_h=0.0, hsv_s=0.0, hsv_v=0.0, degrees=0.0, translate=0.0, scale=0.0, shear=0.0, perspective=0.0, flipud=0.0, fliplr=0, bgr=0.0, mosaic=1, mixup=0.0, copy_paste=0.0, copy_paste_mode=flip, auto_augment=randaugment, erasing=0.0, crop_fraction=1.0, cfg=None, tracker=botsort.yaml, save_dir=runs\\segment\\train59\n",
      "\n",
      "                   from  n    params  module                                       arguments                     \n",
      "  0                  -1  1       928  ultralytics.nn.modules.conv.Conv             [3, 32, 3, 2]                 \n",
      "  1                  -1  1     18560  ultralytics.nn.modules.conv.Conv             [32, 64, 3, 2]                \n",
      "  2                  -1  1     29056  ultralytics.nn.modules.block.C2f             [64, 64, 1, True]             \n",
      "  3                  -1  1     73984  ultralytics.nn.modules.conv.Conv             [64, 128, 3, 2]               \n",
      "  4                  -1  2    197632  ultralytics.nn.modules.block.C2f             [128, 128, 2, True]           \n",
      "  5                  -1  1    295424  ultralytics.nn.modules.conv.Conv             [128, 256, 3, 2]              \n",
      "  6                  -1  2    788480  ultralytics.nn.modules.block.C2f             [256, 256, 2, True]           \n",
      "  7                  -1  1   1180672  ultralytics.nn.modules.conv.Conv             [256, 512, 3, 2]              \n",
      "  8                  -1  1   1838080  ultralytics.nn.modules.block.C2f             [512, 512, 1, True]           \n",
      "  9                  -1  1    656896  ultralytics.nn.modules.block.SPPF            [512, 512, 5]                 \n",
      " 10                  -1  1         0  torch.nn.modules.upsampling.Upsample         [None, 2, 'nearest']          \n",
      " 11             [-1, 6]  1         0  ultralytics.nn.modules.conv.Concat           [1]                           \n",
      " 12                  -1  1    591360  ultralytics.nn.modules.block.C2f             [768, 256, 1]                 \n",
      " 13                  -1  1         0  torch.nn.modules.upsampling.Upsample         [None, 2, 'nearest']          \n",
      " 14             [-1, 4]  1         0  ultralytics.nn.modules.conv.Concat           [1]                           \n",
      " 15                  -1  1    148224  ultralytics.nn.modules.block.C2f             [384, 128, 1]                 \n",
      " 16                  -1  1    147712  ultralytics.nn.modules.conv.Conv             [128, 128, 3, 2]              \n",
      " 17            [-1, 12]  1         0  ultralytics.nn.modules.conv.Concat           [1]                           \n",
      " 18                  -1  1    493056  ultralytics.nn.modules.block.C2f             [384, 256, 1]                 \n",
      " 19                  -1  1    590336  ultralytics.nn.modules.conv.Conv             [256, 256, 3, 2]              \n",
      " 20             [-1, 9]  1         0  ultralytics.nn.modules.conv.Concat           [1]                           \n",
      " 21                  -1  1   1969152  ultralytics.nn.modules.block.C2f             [768, 512, 1]                 \n",
      " 22        [15, 18, 21]  1   2775575  ultralytics.nn.modules.head.Segment          [13, 32, 128, [128, 256, 512]]\n",
      "YOLOv8s-seg summary: 261 layers, 11,795,127 parameters, 11,795,111 gradients, 42.7 GFLOPs\n",
      "\n",
      "Transferred 417/417 items from pretrained weights\n",
      "Freezing layer 'model.22.dfl.conv.weight'\n",
      "\u001b[34m\u001b[1mAMP: \u001b[0mrunning Automatic Mixed Precision (AMP) checks...\n",
      "\u001b[34m\u001b[1mAMP: \u001b[0mchecks passed \n"
     ]
    },
    {
     "name": "stderr",
     "output_type": "stream",
     "text": [
      "\u001b[34m\u001b[1mtrain: \u001b[0mScanning C:\\Users\\aaron\\Documents\\Año4\\TFG\\CityScapesWithPanopticSegm\\dataset\\labels\\train.cache... 2975 images, 0 backgrounds, 25 corrupt: 100%|██████████| 2975/2975 [00:00<?, ?it/s]"
     ]
    },
    {
     "name": "stdout",
     "output_type": "stream",
     "text": [
      "\u001b[34m\u001b[1mtrain: \u001b[0mWARNING  C:\\Users\\aaron\\Documents\\Ao4\\TFG\\CityScapesWithPanopticSegm\\dataset\\images\\train\\aachen_000000_000019_gtFine_polygons.png: 4 duplicate labels removed\n",
      "\u001b[34m\u001b[1mtrain: \u001b[0mWARNING  C:\\Users\\aaron\\Documents\\Ao4\\TFG\\CityScapesWithPanopticSegm\\dataset\\images\\train\\aachen_000004_000019_gtFine_polygons.png: 1 duplicate labels removed\n",
      "\u001b[34m\u001b[1mtrain: \u001b[0mWARNING  C:\\Users\\aaron\\Documents\\Ao4\\TFG\\CityScapesWithPanopticSegm\\dataset\\images\\train\\aachen_000008_000019_gtFine_polygons.png: 1 duplicate labels removed\n",
      "\u001b[34m\u001b[1mtrain: \u001b[0mWARNING  C:\\Users\\aaron\\Documents\\Ao4\\TFG\\CityScapesWithPanopticSegm\\dataset\\images\\train\\aachen_000022_000019_gtFine_polygons.png: 1 duplicate labels removed\n",
      "\u001b[34m\u001b[1mtrain: \u001b[0mWARNING  C:\\Users\\aaron\\Documents\\Ao4\\TFG\\CityScapesWithPanopticSegm\\dataset\\images\\train\\aachen_000026_000019_gtFine_polygons.png: 1 duplicate labels removed\n",
      "\u001b[34m\u001b[1mtrain: \u001b[0mWARNING  C:\\Users\\aaron\\Documents\\Ao4\\TFG\\CityScapesWithPanopticSegm\\dataset\\images\\train\\aachen_000030_000019_gtFine_polygons.png: 3 duplicate labels removed\n",
      "\u001b[34m\u001b[1mtrain: \u001b[0mWARNING  C:\\Users\\aaron\\Documents\\Ao4\\TFG\\CityScapesWithPanopticSegm\\dataset\\images\\train\\aachen_000031_000019_gtFine_polygons.png: 1 duplicate labels removed\n",
      "\u001b[34m\u001b[1mtrain: \u001b[0mWARNING  C:\\Users\\aaron\\Documents\\Ao4\\TFG\\CityScapesWithPanopticSegm\\dataset\\images\\train\\aachen_000034_000019_gtFine_polygons.png: 1 duplicate labels removed\n",
      "\u001b[34m\u001b[1mtrain: \u001b[0mWARNING  C:\\Users\\aaron\\Documents\\Ao4\\TFG\\CityScapesWithPanopticSegm\\dataset\\images\\train\\aachen_000042_000019_gtFine_polygons.png: 2 duplicate labels removed\n",
      "\u001b[34m\u001b[1mtrain: \u001b[0mWARNING  C:\\Users\\aaron\\Documents\\Ao4\\TFG\\CityScapesWithPanopticSegm\\dataset\\images\\train\\aachen_000058_000019_gtFine_polygons.png: 1 duplicate labels removed\n",
      "\u001b[34m\u001b[1mtrain: \u001b[0mWARNING  C:\\Users\\aaron\\Documents\\Ao4\\TFG\\CityScapesWithPanopticSegm\\dataset\\images\\train\\aachen_000060_000019_gtFine_polygons.png: 15 duplicate labels removed\n",
      "\u001b[34m\u001b[1mtrain: \u001b[0mWARNING  C:\\Users\\aaron\\Documents\\Ao4\\TFG\\CityScapesWithPanopticSegm\\dataset\\images\\train\\aachen_000061_000019_gtFine_polygons.png: 40 duplicate labels removed\n",
      "\u001b[34m\u001b[1mtrain: \u001b[0mWARNING  C:\\Users\\aaron\\Documents\\Ao4\\TFG\\CityScapesWithPanopticSegm\\dataset\\images\\train\\aachen_000062_000019_gtFine_polygons.png: 8 duplicate labels removed\n",
      "\u001b[34m\u001b[1mtrain: \u001b[0mWARNING  C:\\Users\\aaron\\Documents\\Ao4\\TFG\\CityScapesWithPanopticSegm\\dataset\\images\\train\\aachen_000064_000019_gtFine_polygons.png: 1 duplicate labels removed\n",
      "\u001b[34m\u001b[1mtrain: \u001b[0mWARNING  C:\\Users\\aaron\\Documents\\Ao4\\TFG\\CityScapesWithPanopticSegm\\dataset\\images\\train\\aachen_000070_000019_gtFine_polygons.png: 2 duplicate labels removed\n",
      "\u001b[34m\u001b[1mtrain: \u001b[0mWARNING  C:\\Users\\aaron\\Documents\\Ao4\\TFG\\CityScapesWithPanopticSegm\\dataset\\images\\train\\aachen_000072_000019_gtFine_polygons.png: 1 duplicate labels removed\n",
      "\u001b[34m\u001b[1mtrain: \u001b[0mWARNING  C:\\Users\\aaron\\Documents\\Ao4\\TFG\\CityScapesWithPanopticSegm\\dataset\\images\\train\\aachen_000078_000019_gtFine_polygons.png: 3 duplicate labels removed\n",
      "\u001b[34m\u001b[1mtrain: \u001b[0mWARNING  C:\\Users\\aaron\\Documents\\Ao4\\TFG\\CityScapesWithPanopticSegm\\dataset\\images\\train\\aachen_000079_000019_gtFine_polygons.png: 7 duplicate labels removed\n",
      "\u001b[34m\u001b[1mtrain: \u001b[0mWARNING  C:\\Users\\aaron\\Documents\\Ao4\\TFG\\CityScapesWithPanopticSegm\\dataset\\images\\train\\aachen_000080_000019_gtFine_polygons.png: 37 duplicate labels removed\n",
      "\u001b[34m\u001b[1mtrain: \u001b[0mWARNING  C:\\Users\\aaron\\Documents\\Ao4\\TFG\\CityScapesWithPanopticSegm\\dataset\\images\\train\\aachen_000090_000019_gtFine_polygons.png: 3 duplicate labels removed\n",
      "\u001b[34m\u001b[1mtrain: \u001b[0mWARNING  C:\\Users\\aaron\\Documents\\Ao4\\TFG\\CityScapesWithPanopticSegm\\dataset\\images\\train\\aachen_000092_000019_gtFine_polygons.png: 1 duplicate labels removed\n",
      "\u001b[34m\u001b[1mtrain: \u001b[0mWARNING  C:\\Users\\aaron\\Documents\\Ao4\\TFG\\CityScapesWithPanopticSegm\\dataset\\images\\train\\aachen_000095_000019_gtFine_polygons.png: 2 duplicate labels removed\n",
      "\u001b[34m\u001b[1mtrain: \u001b[0mWARNING  C:\\Users\\aaron\\Documents\\Ao4\\TFG\\CityScapesWithPanopticSegm\\dataset\\images\\train\\aachen_000096_000019_gtFine_polygons.png: 4 duplicate labels removed\n",
      "\u001b[34m\u001b[1mtrain: \u001b[0mWARNING  C:\\Users\\aaron\\Documents\\Ao4\\TFG\\CityScapesWithPanopticSegm\\dataset\\images\\train\\aachen_000098_000019_gtFine_polygons.png: 2 duplicate labels removed\n",
      "\u001b[34m\u001b[1mtrain: \u001b[0mWARNING  C:\\Users\\aaron\\Documents\\Ao4\\TFG\\CityScapesWithPanopticSegm\\dataset\\images\\train\\aachen_000152_000019_gtFine_polygons.png: 9 duplicate labels removed\n",
      "\u001b[34m\u001b[1mtrain: \u001b[0mWARNING  C:\\Users\\aaron\\Documents\\Ao4\\TFG\\CityScapesWithPanopticSegm\\dataset\\images\\train\\aachen_000153_000019_gtFine_polygons.png: 1 duplicate labels removed\n",
      "\u001b[34m\u001b[1mtrain: \u001b[0mWARNING  C:\\Users\\aaron\\Documents\\Ao4\\TFG\\CityScapesWithPanopticSegm\\dataset\\images\\train\\aachen_000155_000019_gtFine_polygons.png: 1 duplicate labels removed\n",
      "\u001b[34m\u001b[1mtrain: \u001b[0mWARNING  C:\\Users\\aaron\\Documents\\Ao4\\TFG\\CityScapesWithPanopticSegm\\dataset\\images\\train\\bochum_000000_000885_gtFine_polygons.png: 1 duplicate labels removed\n",
      "\u001b[34m\u001b[1mtrain: \u001b[0mWARNING  C:\\Users\\aaron\\Documents\\Ao4\\TFG\\CityScapesWithPanopticSegm\\dataset\\images\\train\\bochum_000000_004748_gtFine_polygons.png: 1 duplicate labels removed\n",
      "\u001b[34m\u001b[1mtrain: \u001b[0mWARNING  C:\\Users\\aaron\\Documents\\Ao4\\TFG\\CityScapesWithPanopticSegm\\dataset\\images\\train\\bochum_000000_007651_gtFine_polygons.png: 2 duplicate labels removed\n",
      "\u001b[34m\u001b[1mtrain: \u001b[0mWARNING  C:\\Users\\aaron\\Documents\\Ao4\\TFG\\CityScapesWithPanopticSegm\\dataset\\images\\train\\bochum_000000_013209_gtFine_polygons.png: 1 duplicate labels removed\n",
      "\u001b[34m\u001b[1mtrain: \u001b[0mWARNING  C:\\Users\\aaron\\Documents\\Ao4\\TFG\\CityScapesWithPanopticSegm\\dataset\\images\\train\\bochum_000000_017453_gtFine_polygons.png: 1 duplicate labels removed\n",
      "\u001b[34m\u001b[1mtrain: \u001b[0mWARNING  C:\\Users\\aaron\\Documents\\Ao4\\TFG\\CityScapesWithPanopticSegm\\dataset\\images\\train\\bochum_000000_033714_gtFine_polygons.png: 1 duplicate labels removed\n",
      "\u001b[34m\u001b[1mtrain: \u001b[0mWARNING  C:\\Users\\aaron\\Documents\\Ao4\\TFG\\CityScapesWithPanopticSegm\\dataset\\images\\train\\bochum_000000_036606_gtFine_polygons.png: 1 duplicate labels removed\n",
      "\u001b[34m\u001b[1mtrain: \u001b[0mWARNING  C:\\Users\\aaron\\Documents\\Ao4\\TFG\\CityScapesWithPanopticSegm\\dataset\\images\\train\\bremen_000021_000019_gtFine_polygons.png: 1 duplicate labels removed\n",
      "\u001b[34m\u001b[1mtrain: \u001b[0mWARNING  C:\\Users\\aaron\\Documents\\Ao4\\TFG\\CityScapesWithPanopticSegm\\dataset\\images\\train\\bremen_000060_000019_gtFine_polygons.png: 1 duplicate labels removed\n",
      "\u001b[34m\u001b[1mtrain: \u001b[0mWARNING  C:\\Users\\aaron\\Documents\\Ao4\\TFG\\CityScapesWithPanopticSegm\\dataset\\images\\train\\bremen_000099_000019_gtFine_polygons.png: 1 duplicate labels removed\n",
      "\u001b[34m\u001b[1mtrain: \u001b[0mWARNING  C:\\Users\\aaron\\Documents\\Ao4\\TFG\\CityScapesWithPanopticSegm\\dataset\\images\\train\\bremen_000111_000019_gtFine_polygons.png: ignoring corrupt image/label: non-normalized or out of bounds coordinates [     1.0005]\n",
      "\u001b[34m\u001b[1mtrain: \u001b[0mWARNING  C:\\Users\\aaron\\Documents\\Ao4\\TFG\\CityScapesWithPanopticSegm\\dataset\\images\\train\\bremen_000118_000019_gtFine_polygons.png: ignoring corrupt image/label: non-normalized or out of bounds coordinates [      1.001]\n",
      "\u001b[34m\u001b[1mtrain: \u001b[0mWARNING  C:\\Users\\aaron\\Documents\\Ao4\\TFG\\CityScapesWithPanopticSegm\\dataset\\images\\train\\bremen_000121_000019_gtFine_polygons.png: ignoring corrupt image/label: non-normalized or out of bounds coordinates [      1.001]\n",
      "\u001b[34m\u001b[1mtrain: \u001b[0mWARNING  C:\\Users\\aaron\\Documents\\Ao4\\TFG\\CityScapesWithPanopticSegm\\dataset\\images\\train\\bremen_000123_000019_gtFine_polygons.png: ignoring corrupt image/label: non-normalized or out of bounds coordinates [     1.0005]\n",
      "\u001b[34m\u001b[1mtrain: \u001b[0mWARNING  C:\\Users\\aaron\\Documents\\Ao4\\TFG\\CityScapesWithPanopticSegm\\dataset\\images\\train\\bremen_000124_000019_gtFine_polygons.png: ignoring corrupt image/label: non-normalized or out of bounds coordinates [     1.0005]\n",
      "\u001b[34m\u001b[1mtrain: \u001b[0mWARNING  C:\\Users\\aaron\\Documents\\Ao4\\TFG\\CityScapesWithPanopticSegm\\dataset\\images\\train\\bremen_000126_000019_gtFine_polygons.png: ignoring corrupt image/label: non-normalized or out of bounds coordinates [      1.001]\n",
      "\u001b[34m\u001b[1mtrain: \u001b[0mWARNING  C:\\Users\\aaron\\Documents\\Ao4\\TFG\\CityScapesWithPanopticSegm\\dataset\\images\\train\\bremen_000128_000019_gtFine_polygons.png: ignoring corrupt image/label: non-normalized or out of bounds coordinates [     1.0005]\n",
      "\u001b[34m\u001b[1mtrain: \u001b[0mWARNING  C:\\Users\\aaron\\Documents\\Ao4\\TFG\\CityScapesWithPanopticSegm\\dataset\\images\\train\\bremen_000129_000019_gtFine_polygons.png: ignoring corrupt image/label: non-normalized or out of bounds coordinates [     1.0005]\n",
      "\u001b[34m\u001b[1mtrain: \u001b[0mWARNING  C:\\Users\\aaron\\Documents\\Ao4\\TFG\\CityScapesWithPanopticSegm\\dataset\\images\\train\\bremen_000130_000019_gtFine_polygons.png: ignoring corrupt image/label: non-normalized or out of bounds coordinates [      1.001]\n",
      "\u001b[34m\u001b[1mtrain: \u001b[0mWARNING  C:\\Users\\aaron\\Documents\\Ao4\\TFG\\CityScapesWithPanopticSegm\\dataset\\images\\train\\bremen_000132_000019_gtFine_polygons.png: ignoring corrupt image/label: non-normalized or out of bounds coordinates [      1.001]\n",
      "\u001b[34m\u001b[1mtrain: \u001b[0mWARNING  C:\\Users\\aaron\\Documents\\Ao4\\TFG\\CityScapesWithPanopticSegm\\dataset\\images\\train\\bremen_000133_000019_gtFine_polygons.png: ignoring corrupt image/label: non-normalized or out of bounds coordinates [      1.001]\n",
      "\u001b[34m\u001b[1mtrain: \u001b[0mWARNING  C:\\Users\\aaron\\Documents\\Ao4\\TFG\\CityScapesWithPanopticSegm\\dataset\\images\\train\\bremen_000135_000019_gtFine_polygons.png: ignoring corrupt image/label: non-normalized or out of bounds coordinates [     1.0005]\n",
      "\u001b[34m\u001b[1mtrain: \u001b[0mWARNING  C:\\Users\\aaron\\Documents\\Ao4\\TFG\\CityScapesWithPanopticSegm\\dataset\\images\\train\\bremen_000241_000019_gtFine_polygons.png: 1 duplicate labels removed\n",
      "\u001b[34m\u001b[1mtrain: \u001b[0mWARNING  C:\\Users\\aaron\\Documents\\Ao4\\TFG\\CityScapesWithPanopticSegm\\dataset\\images\\train\\cologne_000004_000019_gtFine_polygons.png: 1 duplicate labels removed\n",
      "\u001b[34m\u001b[1mtrain: \u001b[0mWARNING  C:\\Users\\aaron\\Documents\\Ao4\\TFG\\CityScapesWithPanopticSegm\\dataset\\images\\train\\cologne_000006_000019_gtFine_polygons.png: 1 duplicate labels removed\n",
      "\u001b[34m\u001b[1mtrain: \u001b[0mWARNING  C:\\Users\\aaron\\Documents\\Ao4\\TFG\\CityScapesWithPanopticSegm\\dataset\\images\\train\\cologne_000007_000019_gtFine_polygons.png: 2 duplicate labels removed\n",
      "\u001b[34m\u001b[1mtrain: \u001b[0mWARNING  C:\\Users\\aaron\\Documents\\Ao4\\TFG\\CityScapesWithPanopticSegm\\dataset\\images\\train\\cologne_000009_000019_gtFine_polygons.png: 1 duplicate labels removed\n",
      "\u001b[34m\u001b[1mtrain: \u001b[0mWARNING  C:\\Users\\aaron\\Documents\\Ao4\\TFG\\CityScapesWithPanopticSegm\\dataset\\images\\train\\cologne_000012_000019_gtFine_polygons.png: 3 duplicate labels removed\n",
      "\u001b[34m\u001b[1mtrain: \u001b[0mWARNING  C:\\Users\\aaron\\Documents\\Ao4\\TFG\\CityScapesWithPanopticSegm\\dataset\\images\\train\\cologne_000018_000019_gtFine_polygons.png: 5 duplicate labels removed\n",
      "\u001b[34m\u001b[1mtrain: \u001b[0mWARNING  C:\\Users\\aaron\\Documents\\Ao4\\TFG\\CityScapesWithPanopticSegm\\dataset\\images\\train\\cologne_000019_000019_gtFine_polygons.png: 2 duplicate labels removed\n",
      "\u001b[34m\u001b[1mtrain: \u001b[0mWARNING  C:\\Users\\aaron\\Documents\\Ao4\\TFG\\CityScapesWithPanopticSegm\\dataset\\images\\train\\cologne_000021_000019_gtFine_polygons.png: 1 duplicate labels removed\n",
      "\u001b[34m\u001b[1mtrain: \u001b[0mWARNING  C:\\Users\\aaron\\Documents\\Ao4\\TFG\\CityScapesWithPanopticSegm\\dataset\\images\\train\\cologne_000040_000019_gtFine_polygons.png: 1 duplicate labels removed\n",
      "\u001b[34m\u001b[1mtrain: \u001b[0mWARNING  C:\\Users\\aaron\\Documents\\Ao4\\TFG\\CityScapesWithPanopticSegm\\dataset\\images\\train\\cologne_000053_000019_gtFine_polygons.png: 1 duplicate labels removed\n",
      "\u001b[34m\u001b[1mtrain: \u001b[0mWARNING  C:\\Users\\aaron\\Documents\\Ao4\\TFG\\CityScapesWithPanopticSegm\\dataset\\images\\train\\cologne_000056_000019_gtFine_polygons.png: 1 duplicate labels removed\n",
      "\u001b[34m\u001b[1mtrain: \u001b[0mWARNING  C:\\Users\\aaron\\Documents\\Ao4\\TFG\\CityScapesWithPanopticSegm\\dataset\\images\\train\\cologne_000057_000019_gtFine_polygons.png: 1 duplicate labels removed\n",
      "\u001b[34m\u001b[1mtrain: \u001b[0mWARNING  C:\\Users\\aaron\\Documents\\Ao4\\TFG\\CityScapesWithPanopticSegm\\dataset\\images\\train\\cologne_000061_000019_gtFine_polygons.png: 1 duplicate labels removed\n",
      "\u001b[34m\u001b[1mtrain: \u001b[0mWARNING  C:\\Users\\aaron\\Documents\\Ao4\\TFG\\CityScapesWithPanopticSegm\\dataset\\images\\train\\cologne_000090_000019_gtFine_polygons.png: 1 duplicate labels removed\n",
      "\u001b[34m\u001b[1mtrain: \u001b[0mWARNING  C:\\Users\\aaron\\Documents\\Ao4\\TFG\\CityScapesWithPanopticSegm\\dataset\\images\\train\\cologne_000092_000019_gtFine_polygons.png: 3 duplicate labels removed\n",
      "\u001b[34m\u001b[1mtrain: \u001b[0mWARNING  C:\\Users\\aaron\\Documents\\Ao4\\TFG\\CityScapesWithPanopticSegm\\dataset\\images\\train\\cologne_000111_000019_gtFine_polygons.png: 1 duplicate labels removed\n",
      "\u001b[34m\u001b[1mtrain: \u001b[0mWARNING  C:\\Users\\aaron\\Documents\\Ao4\\TFG\\CityScapesWithPanopticSegm\\dataset\\images\\train\\darmstadt_000002_000019_gtFine_polygons.png: 2 duplicate labels removed\n",
      "\u001b[34m\u001b[1mtrain: \u001b[0mWARNING  C:\\Users\\aaron\\Documents\\Ao4\\TFG\\CityScapesWithPanopticSegm\\dataset\\images\\train\\darmstadt_000004_000019_gtFine_polygons.png: 1 duplicate labels removed\n",
      "\u001b[34m\u001b[1mtrain: \u001b[0mWARNING  C:\\Users\\aaron\\Documents\\Ao4\\TFG\\CityScapesWithPanopticSegm\\dataset\\images\\train\\darmstadt_000014_000019_gtFine_polygons.png: 1 duplicate labels removed\n",
      "\u001b[34m\u001b[1mtrain: \u001b[0mWARNING  C:\\Users\\aaron\\Documents\\Ao4\\TFG\\CityScapesWithPanopticSegm\\dataset\\images\\train\\darmstadt_000015_000019_gtFine_polygons.png: 1 duplicate labels removed\n",
      "\u001b[34m\u001b[1mtrain: \u001b[0mWARNING  C:\\Users\\aaron\\Documents\\Ao4\\TFG\\CityScapesWithPanopticSegm\\dataset\\images\\train\\darmstadt_000021_000019_gtFine_polygons.png: 1 duplicate labels removed\n",
      "\u001b[34m\u001b[1mtrain: \u001b[0mWARNING  C:\\Users\\aaron\\Documents\\Ao4\\TFG\\CityScapesWithPanopticSegm\\dataset\\images\\train\\darmstadt_000026_000019_gtFine_polygons.png: 2 duplicate labels removed\n",
      "\u001b[34m\u001b[1mtrain: \u001b[0mWARNING  C:\\Users\\aaron\\Documents\\Ao4\\TFG\\CityScapesWithPanopticSegm\\dataset\\images\\train\\darmstadt_000036_000019_gtFine_polygons.png: 1 duplicate labels removed\n",
      "\u001b[34m\u001b[1mtrain: \u001b[0mWARNING  C:\\Users\\aaron\\Documents\\Ao4\\TFG\\CityScapesWithPanopticSegm\\dataset\\images\\train\\darmstadt_000046_000019_gtFine_polygons.png: 1 duplicate labels removed\n",
      "\u001b[34m\u001b[1mtrain: \u001b[0mWARNING  C:\\Users\\aaron\\Documents\\Ao4\\TFG\\CityScapesWithPanopticSegm\\dataset\\images\\train\\darmstadt_000061_000019_gtFine_polygons.png: 1 duplicate labels removed\n",
      "\u001b[34m\u001b[1mtrain: \u001b[0mWARNING  C:\\Users\\aaron\\Documents\\Ao4\\TFG\\CityScapesWithPanopticSegm\\dataset\\images\\train\\darmstadt_000083_000019_gtFine_polygons.png: 1 duplicate labels removed\n",
      "\u001b[34m\u001b[1mtrain: \u001b[0mWARNING  C:\\Users\\aaron\\Documents\\Ao4\\TFG\\CityScapesWithPanopticSegm\\dataset\\images\\train\\dusseldorf_000057_000019_gtFine_polygons.png: ignoring corrupt image/label: non-normalized or out of bounds coordinates [     1.0005]\n",
      "\u001b[34m\u001b[1mtrain: \u001b[0mWARNING  C:\\Users\\aaron\\Documents\\Ao4\\TFG\\CityScapesWithPanopticSegm\\dataset\\images\\train\\dusseldorf_000068_000019_gtFine_polygons.png: ignoring corrupt image/label: non-normalized or out of bounds coordinates [     1.0005]\n",
      "\u001b[34m\u001b[1mtrain: \u001b[0mWARNING  C:\\Users\\aaron\\Documents\\Ao4\\TFG\\CityScapesWithPanopticSegm\\dataset\\images\\train\\dusseldorf_000075_000019_gtFine_polygons.png: ignoring corrupt image/label: non-normalized or out of bounds coordinates [      1.001]\n",
      "\u001b[34m\u001b[1mtrain: \u001b[0mWARNING  C:\\Users\\aaron\\Documents\\Ao4\\TFG\\CityScapesWithPanopticSegm\\dataset\\images\\train\\dusseldorf_000088_000019_gtFine_polygons.png: ignoring corrupt image/label: non-normalized or out of bounds coordinates [     1.0005]\n",
      "\u001b[34m\u001b[1mtrain: \u001b[0mWARNING  C:\\Users\\aaron\\Documents\\Ao4\\TFG\\CityScapesWithPanopticSegm\\dataset\\images\\train\\dusseldorf_000090_000019_gtFine_polygons.png: ignoring corrupt image/label: non-normalized or out of bounds coordinates [     1.0005]\n",
      "\u001b[34m\u001b[1mtrain: \u001b[0mWARNING  C:\\Users\\aaron\\Documents\\Ao4\\TFG\\CityScapesWithPanopticSegm\\dataset\\images\\train\\dusseldorf_000098_000019_gtFine_polygons.png: ignoring corrupt image/label: non-normalized or out of bounds coordinates [     1.0005]\n",
      "\u001b[34m\u001b[1mtrain: \u001b[0mWARNING  C:\\Users\\aaron\\Documents\\Ao4\\TFG\\CityScapesWithPanopticSegm\\dataset\\images\\train\\dusseldorf_000157_000019_gtFine_polygons.png: ignoring corrupt image/label: non-normalized or out of bounds coordinates [     1.0049]\n",
      "\u001b[34m\u001b[1mtrain: \u001b[0mWARNING  C:\\Users\\aaron\\Documents\\Ao4\\TFG\\CityScapesWithPanopticSegm\\dataset\\images\\train\\dusseldorf_000198_000019_gtFine_polygons.png: ignoring corrupt image/label: non-normalized or out of bounds coordinates [     1.0073]\n",
      "\u001b[34m\u001b[1mtrain: \u001b[0mWARNING  C:\\Users\\aaron\\Documents\\Ao4\\TFG\\CityScapesWithPanopticSegm\\dataset\\images\\train\\erfurt_000020_000019_gtFine_polygons.png: 1 duplicate labels removed\n",
      "\u001b[34m\u001b[1mtrain: \u001b[0mWARNING  C:\\Users\\aaron\\Documents\\Ao4\\TFG\\CityScapesWithPanopticSegm\\dataset\\images\\train\\hamburg_000000_019892_gtFine_polygons.png: 1 duplicate labels removed\n",
      "\u001b[34m\u001b[1mtrain: \u001b[0mWARNING  C:\\Users\\aaron\\Documents\\Ao4\\TFG\\CityScapesWithPanopticSegm\\dataset\\images\\train\\hamburg_000000_032906_gtFine_polygons.png: 1 duplicate labels removed\n",
      "\u001b[34m\u001b[1mtrain: \u001b[0mWARNING  C:\\Users\\aaron\\Documents\\Ao4\\TFG\\CityScapesWithPanopticSegm\\dataset\\images\\train\\hamburg_000000_033506_gtFine_polygons.png: 9 duplicate labels removed\n",
      "\u001b[34m\u001b[1mtrain: \u001b[0mWARNING  C:\\Users\\aaron\\Documents\\Ao4\\TFG\\CityScapesWithPanopticSegm\\dataset\\images\\train\\hamburg_000000_035568_gtFine_polygons.png: 1 duplicate labels removed\n",
      "\u001b[34m\u001b[1mtrain: \u001b[0mWARNING  C:\\Users\\aaron\\Documents\\Ao4\\TFG\\CityScapesWithPanopticSegm\\dataset\\images\\train\\hamburg_000000_039420_gtFine_polygons.png: 1 duplicate labels removed\n",
      "\u001b[34m\u001b[1mtrain: \u001b[0mWARNING  C:\\Users\\aaron\\Documents\\Ao4\\TFG\\CityScapesWithPanopticSegm\\dataset\\images\\train\\hamburg_000000_041667_gtFine_polygons.png: 1 duplicate labels removed\n",
      "\u001b[34m\u001b[1mtrain: \u001b[0mWARNING  C:\\Users\\aaron\\Documents\\Ao4\\TFG\\CityScapesWithPanopticSegm\\dataset\\images\\train\\hamburg_000000_053886_gtFine_polygons.png: 1 duplicate labels removed\n",
      "\u001b[34m\u001b[1mtrain: \u001b[0mWARNING  C:\\Users\\aaron\\Documents\\Ao4\\TFG\\CityScapesWithPanopticSegm\\dataset\\images\\train\\hamburg_000000_071016_gtFine_polygons.png: 1 duplicate labels removed\n",
      "\u001b[34m\u001b[1mtrain: \u001b[0mWARNING  C:\\Users\\aaron\\Documents\\Ao4\\TFG\\CityScapesWithPanopticSegm\\dataset\\images\\train\\hamburg_000000_080438_gtFine_polygons.png: 1 duplicate labels removed\n",
      "\u001b[34m\u001b[1mtrain: \u001b[0mWARNING  C:\\Users\\aaron\\Documents\\Ao4\\TFG\\CityScapesWithPanopticSegm\\dataset\\images\\train\\hanover_000000_012347_gtFine_polygons.png: 1 duplicate labels removed\n",
      "\u001b[34m\u001b[1mtrain: \u001b[0mWARNING  C:\\Users\\aaron\\Documents\\Ao4\\TFG\\CityScapesWithPanopticSegm\\dataset\\images\\train\\hanover_000000_014537_gtFine_polygons.png: 1 duplicate labels removed\n",
      "\u001b[34m\u001b[1mtrain: \u001b[0mWARNING  C:\\Users\\aaron\\Documents\\Ao4\\TFG\\CityScapesWithPanopticSegm\\dataset\\images\\train\\hanover_000000_015587_gtFine_polygons.png: 1 duplicate labels removed\n",
      "\u001b[34m\u001b[1mtrain: \u001b[0mWARNING  C:\\Users\\aaron\\Documents\\Ao4\\TFG\\CityScapesWithPanopticSegm\\dataset\\images\\train\\hanover_000000_018800_gtFine_polygons.png: 3 duplicate labels removed\n",
      "\u001b[34m\u001b[1mtrain: \u001b[0mWARNING  C:\\Users\\aaron\\Documents\\Ao4\\TFG\\CityScapesWithPanopticSegm\\dataset\\images\\train\\hanover_000000_019116_gtFine_polygons.png: 4 duplicate labels removed\n",
      "\u001b[34m\u001b[1mtrain: \u001b[0mWARNING  C:\\Users\\aaron\\Documents\\Ao4\\TFG\\CityScapesWithPanopticSegm\\dataset\\images\\train\\hanover_000000_019282_gtFine_polygons.png: 2 duplicate labels removed\n",
      "\u001b[34m\u001b[1mtrain: \u001b[0mWARNING  C:\\Users\\aaron\\Documents\\Ao4\\TFG\\CityScapesWithPanopticSegm\\dataset\\images\\train\\hanover_000000_019456_gtFine_polygons.png: 1 duplicate labels removed\n",
      "\u001b[34m\u001b[1mtrain: \u001b[0mWARNING  C:\\Users\\aaron\\Documents\\Ao4\\TFG\\CityScapesWithPanopticSegm\\dataset\\images\\train\\hanover_000000_019672_gtFine_polygons.png: 1 duplicate labels removed\n",
      "\u001b[34m\u001b[1mtrain: \u001b[0mWARNING  C:\\Users\\aaron\\Documents\\Ao4\\TFG\\CityScapesWithPanopticSegm\\dataset\\images\\train\\hanover_000000_022645_gtFine_polygons.png: 4 duplicate labels removed\n",
      "\u001b[34m\u001b[1mtrain: \u001b[0mWARNING  C:\\Users\\aaron\\Documents\\Ao4\\TFG\\CityScapesWithPanopticSegm\\dataset\\images\\train\\hanover_000000_026356_gtFine_polygons.png: 1 duplicate labels removed\n",
      "\u001b[34m\u001b[1mtrain: \u001b[0mWARNING  C:\\Users\\aaron\\Documents\\Ao4\\TFG\\CityScapesWithPanopticSegm\\dataset\\images\\train\\hanover_000000_034015_gtFine_polygons.png: 2 duplicate labels removed\n",
      "\u001b[34m\u001b[1mtrain: \u001b[0mWARNING  C:\\Users\\aaron\\Documents\\Ao4\\TFG\\CityScapesWithPanopticSegm\\dataset\\images\\train\\hanover_000000_034141_gtFine_polygons.png: 2 duplicate labels removed\n",
      "\u001b[34m\u001b[1mtrain: \u001b[0mWARNING  C:\\Users\\aaron\\Documents\\Ao4\\TFG\\CityScapesWithPanopticSegm\\dataset\\images\\train\\hanover_000000_036051_gtFine_polygons.png: 1 duplicate labels removed\n",
      "\u001b[34m\u001b[1mtrain: \u001b[0mWARNING  C:\\Users\\aaron\\Documents\\Ao4\\TFG\\CityScapesWithPanopticSegm\\dataset\\images\\train\\hanover_000000_047499_gtFine_polygons.png: 1 duplicate labels removed\n",
      "\u001b[34m\u001b[1mtrain: \u001b[0mWARNING  C:\\Users\\aaron\\Documents\\Ao4\\TFG\\CityScapesWithPanopticSegm\\dataset\\images\\train\\hanover_000000_047870_gtFine_polygons.png: 1 duplicate labels removed\n",
      "\u001b[34m\u001b[1mtrain: \u001b[0mWARNING  C:\\Users\\aaron\\Documents\\Ao4\\TFG\\CityScapesWithPanopticSegm\\dataset\\images\\train\\hanover_000000_051152_gtFine_polygons.png: 2 duplicate labels removed\n",
      "\u001b[34m\u001b[1mtrain: \u001b[0mWARNING  C:\\Users\\aaron\\Documents\\Ao4\\TFG\\CityScapesWithPanopticSegm\\dataset\\images\\train\\hanover_000000_051536_gtFine_polygons.png: 2 duplicate labels removed\n",
      "\u001b[34m\u001b[1mtrain: \u001b[0mWARNING  C:\\Users\\aaron\\Documents\\Ao4\\TFG\\CityScapesWithPanopticSegm\\dataset\\images\\train\\hanover_000000_052512_gtFine_polygons.png: 1 duplicate labels removed\n",
      "\u001b[34m\u001b[1mtrain: \u001b[0mWARNING  C:\\Users\\aaron\\Documents\\Ao4\\TFG\\CityScapesWithPanopticSegm\\dataset\\images\\train\\hanover_000000_053027_gtFine_polygons.png: 1 duplicate labels removed\n",
      "\u001b[34m\u001b[1mtrain: \u001b[0mWARNING  C:\\Users\\aaron\\Documents\\Ao4\\TFG\\CityScapesWithPanopticSegm\\dataset\\images\\train\\hanover_000000_056800_gtFine_polygons.png: 1 duplicate labels removed\n",
      "\u001b[34m\u001b[1mtrain: \u001b[0mWARNING  C:\\Users\\aaron\\Documents\\Ao4\\TFG\\CityScapesWithPanopticSegm\\dataset\\images\\train\\jena_000059_000019_gtFine_polygons.png: ignoring corrupt image/label: non-normalized or out of bounds coordinates [     1.0005]\n",
      "\u001b[34m\u001b[1mtrain: \u001b[0mWARNING  C:\\Users\\aaron\\Documents\\Ao4\\TFG\\CityScapesWithPanopticSegm\\dataset\\images\\train\\krefeld_000000_004608_gtFine_polygons.png: 2 duplicate labels removed\n",
      "\u001b[34m\u001b[1mtrain: \u001b[0mWARNING  C:\\Users\\aaron\\Documents\\Ao4\\TFG\\CityScapesWithPanopticSegm\\dataset\\images\\train\\krefeld_000000_011655_gtFine_polygons.png: 1 duplicate labels removed\n",
      "\u001b[34m\u001b[1mtrain: \u001b[0mWARNING  C:\\Users\\aaron\\Documents\\Ao4\\TFG\\CityScapesWithPanopticSegm\\dataset\\images\\train\\krefeld_000000_013766_gtFine_polygons.png: 1 duplicate labels removed\n",
      "\u001b[34m\u001b[1mtrain: \u001b[0mWARNING  C:\\Users\\aaron\\Documents\\Ao4\\TFG\\CityScapesWithPanopticSegm\\dataset\\images\\train\\krefeld_000000_020933_gtFine_polygons.png: 1 duplicate labels removed\n",
      "\u001b[34m\u001b[1mtrain: \u001b[0mWARNING  C:\\Users\\aaron\\Documents\\Ao4\\TFG\\CityScapesWithPanopticSegm\\dataset\\images\\train\\strasbourg_000000_013654_gtFine_polygons.png: 1 duplicate labels removed\n",
      "\u001b[34m\u001b[1mtrain: \u001b[0mWARNING  C:\\Users\\aaron\\Documents\\Ao4\\TFG\\CityScapesWithPanopticSegm\\dataset\\images\\train\\strasbourg_000000_014503_gtFine_polygons.png: 1 duplicate labels removed\n",
      "\u001b[34m\u001b[1mtrain: \u001b[0mWARNING  C:\\Users\\aaron\\Documents\\Ao4\\TFG\\CityScapesWithPanopticSegm\\dataset\\images\\train\\strasbourg_000001_030539_gtFine_polygons.png: 1 duplicate labels removed\n",
      "\u001b[34m\u001b[1mtrain: \u001b[0mWARNING  C:\\Users\\aaron\\Documents\\Ao4\\TFG\\CityScapesWithPanopticSegm\\dataset\\images\\train\\strasbourg_000001_030997_gtFine_polygons.png: 1 duplicate labels removed\n",
      "\u001b[34m\u001b[1mtrain: \u001b[0mWARNING  C:\\Users\\aaron\\Documents\\Ao4\\TFG\\CityScapesWithPanopticSegm\\dataset\\images\\train\\strasbourg_000001_031582_gtFine_polygons.png: 1 duplicate labels removed\n",
      "\u001b[34m\u001b[1mtrain: \u001b[0mWARNING  C:\\Users\\aaron\\Documents\\Ao4\\TFG\\CityScapesWithPanopticSegm\\dataset\\images\\train\\strasbourg_000001_051317_gtFine_polygons.png: 1 duplicate labels removed\n",
      "\u001b[34m\u001b[1mtrain: \u001b[0mWARNING  C:\\Users\\aaron\\Documents\\Ao4\\TFG\\CityScapesWithPanopticSegm\\dataset\\images\\train\\strasbourg_000001_052050_gtFine_polygons.png: 1 duplicate labels removed\n",
      "\u001b[34m\u001b[1mtrain: \u001b[0mWARNING  C:\\Users\\aaron\\Documents\\Ao4\\TFG\\CityScapesWithPanopticSegm\\dataset\\images\\train\\strasbourg_000001_058373_gtFine_polygons.png: 14 duplicate labels removed\n",
      "\u001b[34m\u001b[1mtrain: \u001b[0mWARNING  C:\\Users\\aaron\\Documents\\Ao4\\TFG\\CityScapesWithPanopticSegm\\dataset\\images\\train\\strasbourg_000001_058954_gtFine_polygons.png: 1 duplicate labels removed\n",
      "\u001b[34m\u001b[1mtrain: \u001b[0mWARNING  C:\\Users\\aaron\\Documents\\Ao4\\TFG\\CityScapesWithPanopticSegm\\dataset\\images\\train\\strasbourg_000001_062691_gtFine_polygons.png: 1 duplicate labels removed\n",
      "\u001b[34m\u001b[1mtrain: \u001b[0mWARNING  C:\\Users\\aaron\\Documents\\Ao4\\TFG\\CityScapesWithPanopticSegm\\dataset\\images\\train\\strasbourg_000001_064224_gtFine_polygons.png: 2 duplicate labels removed\n",
      "\u001b[34m\u001b[1mtrain: \u001b[0mWARNING  C:\\Users\\aaron\\Documents\\Ao4\\TFG\\CityScapesWithPanopticSegm\\dataset\\images\\train\\strasbourg_000001_064393_gtFine_polygons.png: 1 duplicate labels removed\n",
      "\u001b[34m\u001b[1mtrain: \u001b[0mWARNING  C:\\Users\\aaron\\Documents\\Ao4\\TFG\\CityScapesWithPanopticSegm\\dataset\\images\\train\\stuttgart_000002_000019_gtFine_polygons.png: ignoring corrupt image/label: non-normalized or out of bounds coordinates [     1.0005]\n",
      "\u001b[34m\u001b[1mtrain: \u001b[0mWARNING  C:\\Users\\aaron\\Documents\\Ao4\\TFG\\CityScapesWithPanopticSegm\\dataset\\images\\train\\stuttgart_000005_000019_gtFine_polygons.png: ignoring corrupt image/label: non-normalized or out of bounds coordinates [      1.001]\n",
      "\u001b[34m\u001b[1mtrain: \u001b[0mWARNING  C:\\Users\\aaron\\Documents\\Ao4\\TFG\\CityScapesWithPanopticSegm\\dataset\\images\\train\\stuttgart_000006_000019_gtFine_polygons.png: 1 duplicate labels removed\n",
      "\u001b[34m\u001b[1mtrain: \u001b[0mWARNING  C:\\Users\\aaron\\Documents\\Ao4\\TFG\\CityScapesWithPanopticSegm\\dataset\\images\\train\\stuttgart_000068_000019_gtFine_polygons.png: 1 duplicate labels removed\n",
      "\u001b[34m\u001b[1mtrain: \u001b[0mWARNING  C:\\Users\\aaron\\Documents\\Ao4\\TFG\\CityScapesWithPanopticSegm\\dataset\\images\\train\\stuttgart_000109_000019_gtFine_polygons.png: 1 duplicate labels removed\n",
      "\u001b[34m\u001b[1mtrain: \u001b[0mWARNING  C:\\Users\\aaron\\Documents\\Ao4\\TFG\\CityScapesWithPanopticSegm\\dataset\\images\\train\\stuttgart_000120_000019_gtFine_polygons.png: 2 duplicate labels removed\n",
      "\u001b[34m\u001b[1mtrain: \u001b[0mWARNING  C:\\Users\\aaron\\Documents\\Ao4\\TFG\\CityScapesWithPanopticSegm\\dataset\\images\\train\\stuttgart_000168_000019_gtFine_polygons.png: 1 duplicate labels removed\n",
      "\u001b[34m\u001b[1mtrain: \u001b[0mWARNING  C:\\Users\\aaron\\Documents\\Ao4\\TFG\\CityScapesWithPanopticSegm\\dataset\\images\\train\\stuttgart_000175_000019_gtFine_polygons.png: 2 duplicate labels removed\n",
      "\u001b[34m\u001b[1mtrain: \u001b[0mWARNING  C:\\Users\\aaron\\Documents\\Ao4\\TFG\\CityScapesWithPanopticSegm\\dataset\\images\\train\\stuttgart_000184_000019_gtFine_polygons.png: 2 duplicate labels removed\n",
      "\u001b[34m\u001b[1mtrain: \u001b[0mWARNING  C:\\Users\\aaron\\Documents\\Ao4\\TFG\\CityScapesWithPanopticSegm\\dataset\\images\\train\\tubingen_000008_000019_gtFine_polygons.png: 1 duplicate labels removed\n",
      "\u001b[34m\u001b[1mtrain: \u001b[0mWARNING  C:\\Users\\aaron\\Documents\\Ao4\\TFG\\CityScapesWithPanopticSegm\\dataset\\images\\train\\tubingen_000089_000019_gtFine_polygons.png: 1 duplicate labels removed\n",
      "\u001b[34m\u001b[1mtrain: \u001b[0mWARNING  C:\\Users\\aaron\\Documents\\Ao4\\TFG\\CityScapesWithPanopticSegm\\dataset\\images\\train\\tubingen_000118_000019_gtFine_polygons.png: 6 duplicate labels removed\n",
      "\u001b[34m\u001b[1mtrain: \u001b[0mWARNING  C:\\Users\\aaron\\Documents\\Ao4\\TFG\\CityScapesWithPanopticSegm\\dataset\\images\\train\\ulm_000004_000019_gtFine_polygons.png: 2 duplicate labels removed\n",
      "\u001b[34m\u001b[1mtrain: \u001b[0mWARNING  C:\\Users\\aaron\\Documents\\Ao4\\TFG\\CityScapesWithPanopticSegm\\dataset\\images\\train\\ulm_000005_000019_gtFine_polygons.png: 4 duplicate labels removed\n",
      "\u001b[34m\u001b[1mtrain: \u001b[0mWARNING  C:\\Users\\aaron\\Documents\\Ao4\\TFG\\CityScapesWithPanopticSegm\\dataset\\images\\train\\ulm_000006_000019_gtFine_polygons.png: 8 duplicate labels removed\n",
      "\u001b[34m\u001b[1mtrain: \u001b[0mWARNING  C:\\Users\\aaron\\Documents\\Ao4\\TFG\\CityScapesWithPanopticSegm\\dataset\\images\\train\\ulm_000011_000019_gtFine_polygons.png: 1 duplicate labels removed\n",
      "\u001b[34m\u001b[1mtrain: \u001b[0mWARNING  C:\\Users\\aaron\\Documents\\Ao4\\TFG\\CityScapesWithPanopticSegm\\dataset\\images\\train\\ulm_000012_000019_gtFine_polygons.png: 2 duplicate labels removed\n",
      "\u001b[34m\u001b[1mtrain: \u001b[0mWARNING  C:\\Users\\aaron\\Documents\\Ao4\\TFG\\CityScapesWithPanopticSegm\\dataset\\images\\train\\ulm_000013_000019_gtFine_polygons.png: 2 duplicate labels removed\n",
      "\u001b[34m\u001b[1mtrain: \u001b[0mWARNING  C:\\Users\\aaron\\Documents\\Ao4\\TFG\\CityScapesWithPanopticSegm\\dataset\\images\\train\\ulm_000017_000019_gtFine_polygons.png: 2 duplicate labels removed\n",
      "\u001b[34m\u001b[1mtrain: \u001b[0mWARNING  C:\\Users\\aaron\\Documents\\Ao4\\TFG\\CityScapesWithPanopticSegm\\dataset\\images\\train\\ulm_000024_000019_gtFine_polygons.png: 2 duplicate labels removed\n",
      "\u001b[34m\u001b[1mtrain: \u001b[0mWARNING  C:\\Users\\aaron\\Documents\\Ao4\\TFG\\CityScapesWithPanopticSegm\\dataset\\images\\train\\ulm_000025_000019_gtFine_polygons.png: 3 duplicate labels removed\n",
      "\u001b[34m\u001b[1mtrain: \u001b[0mWARNING  C:\\Users\\aaron\\Documents\\Ao4\\TFG\\CityScapesWithPanopticSegm\\dataset\\images\\train\\ulm_000037_000019_gtFine_polygons.png: 1 duplicate labels removed\n",
      "\u001b[34m\u001b[1mtrain: \u001b[0mWARNING  C:\\Users\\aaron\\Documents\\Ao4\\TFG\\CityScapesWithPanopticSegm\\dataset\\images\\train\\ulm_000056_000019_gtFine_polygons.png: 2 duplicate labels removed\n",
      "\u001b[34m\u001b[1mtrain: \u001b[0mWARNING  C:\\Users\\aaron\\Documents\\Ao4\\TFG\\CityScapesWithPanopticSegm\\dataset\\images\\train\\ulm_000058_000019_gtFine_polygons.png: 3 duplicate labels removed\n",
      "\u001b[34m\u001b[1mtrain: \u001b[0mWARNING  C:\\Users\\aaron\\Documents\\Ao4\\TFG\\CityScapesWithPanopticSegm\\dataset\\images\\train\\ulm_000067_000019_gtFine_polygons.png: 3 duplicate labels removed\n",
      "\u001b[34m\u001b[1mtrain: \u001b[0mWARNING  C:\\Users\\aaron\\Documents\\Ao4\\TFG\\CityScapesWithPanopticSegm\\dataset\\images\\train\\ulm_000068_000019_gtFine_polygons.png: 3 duplicate labels removed\n",
      "\u001b[34m\u001b[1mtrain: \u001b[0mWARNING  C:\\Users\\aaron\\Documents\\Ao4\\TFG\\CityScapesWithPanopticSegm\\dataset\\images\\train\\ulm_000069_000019_gtFine_polygons.png: 3 duplicate labels removed\n",
      "\u001b[34m\u001b[1mtrain: \u001b[0mWARNING  C:\\Users\\aaron\\Documents\\Ao4\\TFG\\CityScapesWithPanopticSegm\\dataset\\images\\train\\ulm_000078_000019_gtFine_polygons.png: 1 duplicate labels removed\n",
      "\u001b[34m\u001b[1mtrain: \u001b[0mWARNING  C:\\Users\\aaron\\Documents\\Ao4\\TFG\\CityScapesWithPanopticSegm\\dataset\\images\\train\\ulm_000079_000019_gtFine_polygons.png: 1 duplicate labels removed\n",
      "\u001b[34m\u001b[1mtrain: \u001b[0mWARNING  C:\\Users\\aaron\\Documents\\Ao4\\TFG\\CityScapesWithPanopticSegm\\dataset\\images\\train\\ulm_000084_000019_gtFine_polygons.png: 2 duplicate labels removed\n",
      "\u001b[34m\u001b[1mtrain: \u001b[0mWARNING  C:\\Users\\aaron\\Documents\\Ao4\\TFG\\CityScapesWithPanopticSegm\\dataset\\images\\train\\weimar_000013_000019_gtFine_polygons.png: ignoring corrupt image/label: non-normalized or out of bounds coordinates [      1.001]\n",
      "\u001b[34m\u001b[1mtrain: \u001b[0mWARNING  C:\\Users\\aaron\\Documents\\Ao4\\TFG\\CityScapesWithPanopticSegm\\dataset\\images\\train\\zurich_000002_000019_gtFine_polygons.png: ignoring corrupt image/label: non-normalized or out of bounds coordinates [     1.0005]\n",
      "\u001b[34m\u001b[1mtrain: \u001b[0mWARNING  C:\\Users\\aaron\\Documents\\Ao4\\TFG\\CityScapesWithPanopticSegm\\dataset\\images\\train\\zurich_000027_000019_gtFine_polygons.png: 1 duplicate labels removed\n",
      "\u001b[34m\u001b[1mtrain: \u001b[0mWARNING  C:\\Users\\aaron\\Documents\\Ao4\\TFG\\CityScapesWithPanopticSegm\\dataset\\images\\train\\zurich_000107_000019_gtFine_polygons.png: 1 duplicate labels removed\n"
     ]
    },
    {
     "name": "stderr",
     "output_type": "stream",
     "text": [
      "\n",
      "\u001b[34m\u001b[1mval: \u001b[0mScanning C:\\Users\\aaron\\Documents\\Año4\\TFG\\CityScapesWithPanopticSegm\\dataset\\labels\\val.cache... 500 images, 0 backgrounds, 5 corrupt: 100%|██████████| 500/500 [00:00<?, ?it/s]"
     ]
    },
    {
     "name": "stdout",
     "output_type": "stream",
     "text": [
      "\u001b[34m\u001b[1mval: \u001b[0mWARNING  C:\\Users\\aaron\\Documents\\Ao4\\TFG\\CityScapesWithPanopticSegm\\dataset\\images\\val\\frankfurt_000001_016273_gtFine_polygons.png: 1 duplicate labels removed\n",
      "\u001b[34m\u001b[1mval: \u001b[0mWARNING  C:\\Users\\aaron\\Documents\\Ao4\\TFG\\CityScapesWithPanopticSegm\\dataset\\images\\val\\frankfurt_000001_017101_gtFine_polygons.png: 1 duplicate labels removed\n",
      "\u001b[34m\u001b[1mval: \u001b[0mWARNING  C:\\Users\\aaron\\Documents\\Ao4\\TFG\\CityScapesWithPanopticSegm\\dataset\\images\\val\\frankfurt_000001_028232_gtFine_polygons.png: 1 duplicate labels removed\n",
      "\u001b[34m\u001b[1mval: \u001b[0mWARNING  C:\\Users\\aaron\\Documents\\Ao4\\TFG\\CityScapesWithPanopticSegm\\dataset\\images\\val\\frankfurt_000001_046272_gtFine_polygons.png: 1 duplicate labels removed\n",
      "\u001b[34m\u001b[1mval: \u001b[0mWARNING  C:\\Users\\aaron\\Documents\\Ao4\\TFG\\CityScapesWithPanopticSegm\\dataset\\images\\val\\frankfurt_000001_077434_gtFine_polygons.png: 1 duplicate labels removed\n",
      "\u001b[34m\u001b[1mval: \u001b[0mWARNING  C:\\Users\\aaron\\Documents\\Ao4\\TFG\\CityScapesWithPanopticSegm\\dataset\\images\\val\\lindau_000000_000019_gtFine_polygons.png: ignoring corrupt image/label: non-normalized or out of bounds coordinates [     1.0034]\n",
      "\u001b[34m\u001b[1mval: \u001b[0mWARNING  C:\\Users\\aaron\\Documents\\Ao4\\TFG\\CityScapesWithPanopticSegm\\dataset\\images\\val\\lindau_000013_000019_gtFine_polygons.png: ignoring corrupt image/label: non-normalized or out of bounds coordinates [     1.0005]\n",
      "\u001b[34m\u001b[1mval: \u001b[0mWARNING  C:\\Users\\aaron\\Documents\\Ao4\\TFG\\CityScapesWithPanopticSegm\\dataset\\images\\val\\lindau_000018_000019_gtFine_polygons.png: ignoring corrupt image/label: non-normalized or out of bounds coordinates [      1.001]\n",
      "\u001b[34m\u001b[1mval: \u001b[0mWARNING  C:\\Users\\aaron\\Documents\\Ao4\\TFG\\CityScapesWithPanopticSegm\\dataset\\images\\val\\munster_000026_000019_gtFine_polygons.png: 2 duplicate labels removed\n",
      "\u001b[34m\u001b[1mval: \u001b[0mWARNING  C:\\Users\\aaron\\Documents\\Ao4\\TFG\\CityScapesWithPanopticSegm\\dataset\\images\\val\\munster_000029_000019_gtFine_polygons.png: 1 duplicate labels removed\n",
      "\u001b[34m\u001b[1mval: \u001b[0mWARNING  C:\\Users\\aaron\\Documents\\Ao4\\TFG\\CityScapesWithPanopticSegm\\dataset\\images\\val\\munster_000035_000019_gtFine_polygons.png: ignoring corrupt image/label: non-normalized or out of bounds coordinates [     1.0005]\n",
      "\u001b[34m\u001b[1mval: \u001b[0mWARNING  C:\\Users\\aaron\\Documents\\Ao4\\TFG\\CityScapesWithPanopticSegm\\dataset\\images\\val\\munster_000045_000019_gtFine_polygons.png: ignoring corrupt image/label: non-normalized or out of bounds coordinates [     1.0005]\n",
      "\u001b[34m\u001b[1mval: \u001b[0mWARNING  C:\\Users\\aaron\\Documents\\Ao4\\TFG\\CityScapesWithPanopticSegm\\dataset\\images\\val\\munster_000049_000019_gtFine_polygons.png: 1 duplicate labels removed\n",
      "\u001b[34m\u001b[1mval: \u001b[0mWARNING  C:\\Users\\aaron\\Documents\\Ao4\\TFG\\CityScapesWithPanopticSegm\\dataset\\images\\val\\munster_000108_000019_gtFine_polygons.png: 1 duplicate labels removed\n",
      "\u001b[34m\u001b[1mval: \u001b[0mWARNING  C:\\Users\\aaron\\Documents\\Ao4\\TFG\\CityScapesWithPanopticSegm\\dataset\\images\\val\\munster_000140_000019_gtFine_polygons.png: 1 duplicate labels removed\n",
      "\u001b[34m\u001b[1mval: \u001b[0mWARNING  C:\\Users\\aaron\\Documents\\Ao4\\TFG\\CityScapesWithPanopticSegm\\dataset\\images\\val\\munster_000141_000019_gtFine_polygons.png: 1 duplicate labels removed\n",
      "\u001b[34m\u001b[1mval: \u001b[0mWARNING  C:\\Users\\aaron\\Documents\\Ao4\\TFG\\CityScapesWithPanopticSegm\\dataset\\images\\val\\munster_000142_000019_gtFine_polygons.png: 1 duplicate labels removed\n",
      "\u001b[34m\u001b[1mval: \u001b[0mWARNING  C:\\Users\\aaron\\Documents\\Ao4\\TFG\\CityScapesWithPanopticSegm\\dataset\\images\\val\\munster_000167_000019_gtFine_polygons.png: 1 duplicate labels removed\n"
     ]
    },
    {
     "name": "stderr",
     "output_type": "stream",
     "text": [
      "\n"
     ]
    },
    {
     "name": "stdout",
     "output_type": "stream",
     "text": [
      "Plotting labels to runs\\segment\\train59\\labels.jpg... \n",
      "\u001b[34m\u001b[1moptimizer:\u001b[0m AdamW(lr=1e-08, momentum=0.86519) with parameter groups 66 weight(decay=0.0), 77 weight(decay=0.00045), 76 bias(decay=0.0)\n",
      "Image sizes 640 train, 640 val\n",
      "Using 8 dataloader workers\n",
      "Logging results to \u001b[1mruns\\segment\\train59\u001b[0m\n",
      "Starting training for 30 epochs...\n",
      "\n",
      "      Epoch    GPU_mem   box_loss   seg_loss   cls_loss   dfl_loss  Instances       Size\n"
     ]
    },
    {
     "name": "stderr",
     "output_type": "stream",
     "text": [
      "       1/30      4.25G     0.9479      2.302      1.488      1.667        400        640: 100%|██████████| 369/369 [02:01<00:00,  3.03it/s]\n",
      "                 Class     Images  Instances      Box(P          R      mAP50  mAP50-95)     Mask(P          R      mAP50  mAP50-95): 100%|██████████| 31/31 [00:10<00:00,  2.90it/s]\n"
     ]
    },
    {
     "name": "stdout",
     "output_type": "stream",
     "text": [
      "                   all        495      23219      0.595      0.424      0.441       0.27      0.469      0.333      0.314       0.15\n",
      "\n",
      "      Epoch    GPU_mem   box_loss   seg_loss   cls_loss   dfl_loss  Instances       Size\n"
     ]
    },
    {
     "name": "stderr",
     "output_type": "stream",
     "text": [
      "       2/30      4.03G     0.9279      2.239      1.447      1.652        454        640: 100%|██████████| 369/369 [01:51<00:00,  3.30it/s]\n",
      "                 Class     Images  Instances      Box(P          R      mAP50  mAP50-95)     Mask(P          R      mAP50  mAP50-95): 100%|██████████| 31/31 [00:10<00:00,  2.88it/s]\n"
     ]
    },
    {
     "name": "stdout",
     "output_type": "stream",
     "text": [
      "                   all        495      23219      0.609      0.459      0.472      0.292      0.519      0.377      0.364      0.189\n",
      "\n",
      "      Epoch    GPU_mem   box_loss   seg_loss   cls_loss   dfl_loss  Instances       Size\n"
     ]
    },
    {
     "name": "stderr",
     "output_type": "stream",
     "text": [
      "       3/30      3.93G     0.9276      2.228      1.441       1.65        391        640: 100%|██████████| 369/369 [01:48<00:00,  3.41it/s]\n",
      "                 Class     Images  Instances      Box(P          R      mAP50  mAP50-95)     Mask(P          R      mAP50  mAP50-95): 100%|██████████| 31/31 [00:10<00:00,  2.92it/s]\n"
     ]
    },
    {
     "name": "stdout",
     "output_type": "stream",
     "text": [
      "                   all        495      23219      0.627      0.461      0.487        0.3      0.545      0.391      0.396      0.204\n",
      "\n",
      "      Epoch    GPU_mem   box_loss   seg_loss   cls_loss   dfl_loss  Instances       Size\n"
     ]
    },
    {
     "name": "stderr",
     "output_type": "stream",
     "text": [
      "       4/30         4G     0.9193      2.209      1.427      1.646        412        640: 100%|██████████| 369/369 [01:47<00:00,  3.43it/s]\n",
      "                 Class     Images  Instances      Box(P          R      mAP50  mAP50-95)     Mask(P          R      mAP50  mAP50-95): 100%|██████████| 31/31 [00:10<00:00,  2.88it/s]\n"
     ]
    },
    {
     "name": "stdout",
     "output_type": "stream",
     "text": [
      "                   all        495      23219      0.613      0.474        0.5       0.31      0.556      0.397      0.408      0.214\n",
      "\n",
      "      Epoch    GPU_mem   box_loss   seg_loss   cls_loss   dfl_loss  Instances       Size\n"
     ]
    },
    {
     "name": "stderr",
     "output_type": "stream",
     "text": [
      "       5/30      4.02G     0.9112      2.205      1.421      1.641        267        640: 100%|██████████| 369/369 [01:46<00:00,  3.45it/s]\n",
      "                 Class     Images  Instances      Box(P          R      mAP50  mAP50-95)     Mask(P          R      mAP50  mAP50-95): 100%|██████████| 31/31 [00:10<00:00,  2.83it/s]\n"
     ]
    },
    {
     "name": "stdout",
     "output_type": "stream",
     "text": [
      "                   all        495      23219      0.624      0.479        0.5      0.313      0.557       0.42      0.421      0.223\n",
      "\n",
      "      Epoch    GPU_mem   box_loss   seg_loss   cls_loss   dfl_loss  Instances       Size\n"
     ]
    },
    {
     "name": "stderr",
     "output_type": "stream",
     "text": [
      "       6/30      4.15G     0.9096      2.201      1.409      1.638        296        640: 100%|██████████| 369/369 [01:47<00:00,  3.45it/s]\n",
      "                 Class     Images  Instances      Box(P          R      mAP50  mAP50-95)     Mask(P          R      mAP50  mAP50-95): 100%|██████████| 31/31 [00:10<00:00,  2.91it/s]\n"
     ]
    },
    {
     "name": "stdout",
     "output_type": "stream",
     "text": [
      "                   all        495      23219      0.623      0.476      0.501      0.312      0.553      0.421      0.422      0.224\n",
      "\n",
      "      Epoch    GPU_mem   box_loss   seg_loss   cls_loss   dfl_loss  Instances       Size\n"
     ]
    },
    {
     "name": "stderr",
     "output_type": "stream",
     "text": [
      "       7/30      4.01G     0.9108      2.193      1.416      1.638        292        640: 100%|██████████| 369/369 [01:46<00:00,  3.48it/s]\n",
      "                 Class     Images  Instances      Box(P          R      mAP50  mAP50-95)     Mask(P          R      mAP50  mAP50-95): 100%|██████████| 31/31 [00:10<00:00,  2.91it/s]\n"
     ]
    },
    {
     "name": "stdout",
     "output_type": "stream",
     "text": [
      "                   all        495      23219      0.618      0.478        0.5      0.312      0.556      0.419       0.42      0.223\n",
      "\n",
      "      Epoch    GPU_mem   box_loss   seg_loss   cls_loss   dfl_loss  Instances       Size\n"
     ]
    },
    {
     "name": "stderr",
     "output_type": "stream",
     "text": [
      "       8/30      4.15G     0.9097      2.198      1.409      1.636        402        640: 100%|██████████| 369/369 [01:46<00:00,  3.47it/s]\n",
      "                 Class     Images  Instances      Box(P          R      mAP50  mAP50-95)     Mask(P          R      mAP50  mAP50-95): 100%|██████████| 31/31 [00:10<00:00,  2.88it/s]\n"
     ]
    },
    {
     "name": "stdout",
     "output_type": "stream",
     "text": [
      "                   all        495      23219      0.621      0.477      0.501      0.312      0.566      0.417      0.421      0.223\n",
      "\n",
      "      Epoch    GPU_mem   box_loss   seg_loss   cls_loss   dfl_loss  Instances       Size\n"
     ]
    },
    {
     "name": "stderr",
     "output_type": "stream",
     "text": [
      "       9/30      4.35G     0.9118       2.19      1.414      1.637        332        640: 100%|██████████| 369/369 [01:47<00:00,  3.45it/s]\n",
      "                 Class     Images  Instances      Box(P          R      mAP50  mAP50-95)     Mask(P          R      mAP50  mAP50-95): 100%|██████████| 31/31 [00:10<00:00,  2.89it/s]\n"
     ]
    },
    {
     "name": "stdout",
     "output_type": "stream",
     "text": [
      "                   all        495      23219      0.624      0.478      0.502      0.313       0.55      0.423      0.422      0.224\n",
      "\n",
      "      Epoch    GPU_mem   box_loss   seg_loss   cls_loss   dfl_loss  Instances       Size\n"
     ]
    },
    {
     "name": "stderr",
     "output_type": "stream",
     "text": [
      "      10/30         4G     0.9112        2.2      1.411      1.637        383        640: 100%|██████████| 369/369 [01:46<00:00,  3.48it/s]\n",
      "                 Class     Images  Instances      Box(P          R      mAP50  mAP50-95)     Mask(P          R      mAP50  mAP50-95): 100%|██████████| 31/31 [00:10<00:00,  2.90it/s]\n"
     ]
    },
    {
     "name": "stdout",
     "output_type": "stream",
     "text": [
      "                   all        495      23219      0.619       0.48      0.501      0.312      0.556      0.419       0.42      0.223\n",
      "\n",
      "      Epoch    GPU_mem   box_loss   seg_loss   cls_loss   dfl_loss  Instances       Size\n"
     ]
    },
    {
     "name": "stderr",
     "output_type": "stream",
     "text": [
      "      11/30      4.17G     0.9122      2.197      1.415      1.641        338        640: 100%|██████████| 369/369 [01:46<00:00,  3.46it/s]\n",
      "                 Class     Images  Instances      Box(P          R      mAP50  mAP50-95)     Mask(P          R      mAP50  mAP50-95): 100%|██████████| 31/31 [00:10<00:00,  2.90it/s]\n"
     ]
    },
    {
     "name": "stdout",
     "output_type": "stream",
     "text": [
      "                   all        495      23219      0.617      0.479      0.502      0.313       0.55      0.424      0.421      0.223\n",
      "\n",
      "      Epoch    GPU_mem   box_loss   seg_loss   cls_loss   dfl_loss  Instances       Size\n"
     ]
    },
    {
     "name": "stderr",
     "output_type": "stream",
     "text": [
      "      12/30      4.42G     0.9147        2.2      1.417      1.642        477        640: 100%|██████████| 369/369 [01:46<00:00,  3.46it/s]\n",
      "                 Class     Images  Instances      Box(P          R      mAP50  mAP50-95)     Mask(P          R      mAP50  mAP50-95): 100%|██████████| 31/31 [00:10<00:00,  2.86it/s]\n"
     ]
    },
    {
     "name": "stdout",
     "output_type": "stream",
     "text": [
      "                   all        495      23219      0.629      0.475      0.503      0.314      0.554      0.422      0.424      0.225\n",
      "\n",
      "      Epoch    GPU_mem   box_loss   seg_loss   cls_loss   dfl_loss  Instances       Size\n"
     ]
    },
    {
     "name": "stderr",
     "output_type": "stream",
     "text": [
      "      13/30      4.03G     0.9121      2.197      1.414      1.641        396        640: 100%|██████████| 369/369 [01:46<00:00,  3.47it/s]\n",
      "                 Class     Images  Instances      Box(P          R      mAP50  mAP50-95)     Mask(P          R      mAP50  mAP50-95): 100%|██████████| 31/31 [00:10<00:00,  2.92it/s]\n"
     ]
    },
    {
     "name": "stdout",
     "output_type": "stream",
     "text": [
      "                   all        495      23219       0.62      0.479      0.501      0.313      0.551      0.424      0.421      0.223\n",
      "\n",
      "      Epoch    GPU_mem   box_loss   seg_loss   cls_loss   dfl_loss  Instances       Size\n"
     ]
    },
    {
     "name": "stderr",
     "output_type": "stream",
     "text": [
      "      14/30      3.83G     0.9121      2.199      1.409       1.64        363        640: 100%|██████████| 369/369 [01:45<00:00,  3.50it/s]\n",
      "                 Class     Images  Instances      Box(P          R      mAP50  mAP50-95)     Mask(P          R      mAP50  mAP50-95): 100%|██████████| 31/31 [00:10<00:00,  2.94it/s]\n"
     ]
    },
    {
     "name": "stdout",
     "output_type": "stream",
     "text": [
      "                   all        495      23219      0.624      0.479      0.501      0.312      0.549      0.422       0.42      0.223\n",
      "\n",
      "      Epoch    GPU_mem   box_loss   seg_loss   cls_loss   dfl_loss  Instances       Size\n"
     ]
    },
    {
     "name": "stderr",
     "output_type": "stream",
     "text": [
      "      15/30       4.4G     0.9093       2.19      1.407      1.639        377        640: 100%|██████████| 369/369 [01:46<00:00,  3.47it/s]\n",
      "                 Class     Images  Instances      Box(P          R      mAP50  mAP50-95)     Mask(P          R      mAP50  mAP50-95): 100%|██████████| 31/31 [00:10<00:00,  2.86it/s]\n"
     ]
    },
    {
     "name": "stdout",
     "output_type": "stream",
     "text": [
      "                   all        495      23219      0.617      0.479      0.501      0.312      0.553       0.42       0.42      0.223\n",
      "\n",
      "      Epoch    GPU_mem   box_loss   seg_loss   cls_loss   dfl_loss  Instances       Size\n"
     ]
    },
    {
     "name": "stderr",
     "output_type": "stream",
     "text": [
      "      16/30      4.17G     0.9103      2.194      1.413      1.636        413        640: 100%|██████████| 369/369 [01:45<00:00,  3.49it/s]\n",
      "                 Class     Images  Instances      Box(P          R      mAP50  mAP50-95)     Mask(P          R      mAP50  mAP50-95): 100%|██████████| 31/31 [00:10<00:00,  2.87it/s]\n"
     ]
    },
    {
     "name": "stdout",
     "output_type": "stream",
     "text": [
      "                   all        495      23219      0.625      0.476      0.501      0.313      0.557      0.419      0.421      0.224\n",
      "\n",
      "      Epoch    GPU_mem   box_loss   seg_loss   cls_loss   dfl_loss  Instances       Size\n"
     ]
    },
    {
     "name": "stderr",
     "output_type": "stream",
     "text": [
      "      17/30      4.57G     0.9099      2.194       1.41      1.637        415        640: 100%|██████████| 369/369 [01:46<00:00,  3.46it/s]\n",
      "                 Class     Images  Instances      Box(P          R      mAP50  mAP50-95)     Mask(P          R      mAP50  mAP50-95): 100%|██████████| 31/31 [00:10<00:00,  2.90it/s]\n"
     ]
    },
    {
     "name": "stdout",
     "output_type": "stream",
     "text": [
      "                   all        495      23219      0.619       0.48      0.501      0.313       0.55      0.423      0.422      0.224\n",
      "\n",
      "      Epoch    GPU_mem   box_loss   seg_loss   cls_loss   dfl_loss  Instances       Size\n"
     ]
    },
    {
     "name": "stderr",
     "output_type": "stream",
     "text": [
      "      18/30      4.09G     0.9134      2.202      1.418      1.639        333        640: 100%|██████████| 369/369 [01:46<00:00,  3.48it/s]\n",
      "                 Class     Images  Instances      Box(P          R      mAP50  mAP50-95)     Mask(P          R      mAP50  mAP50-95): 100%|██████████| 31/31 [00:10<00:00,  2.92it/s]\n"
     ]
    },
    {
     "name": "stdout",
     "output_type": "stream",
     "text": [
      "                   all        495      23219      0.623      0.479        0.5      0.312      0.549      0.422       0.42      0.223\n",
      "\n",
      "      Epoch    GPU_mem   box_loss   seg_loss   cls_loss   dfl_loss  Instances       Size\n"
     ]
    },
    {
     "name": "stderr",
     "output_type": "stream",
     "text": [
      "      19/30      4.31G     0.9112      2.196      1.413       1.64        262        640: 100%|██████████| 369/369 [01:46<00:00,  3.47it/s]\n",
      "                 Class     Images  Instances      Box(P          R      mAP50  mAP50-95)     Mask(P          R      mAP50  mAP50-95): 100%|██████████| 31/31 [00:10<00:00,  2.88it/s]\n"
     ]
    },
    {
     "name": "stdout",
     "output_type": "stream",
     "text": [
      "                   all        495      23219      0.629      0.474      0.502      0.312      0.557       0.42      0.421      0.224\n",
      "\n",
      "      Epoch    GPU_mem   box_loss   seg_loss   cls_loss   dfl_loss  Instances       Size\n"
     ]
    },
    {
     "name": "stderr",
     "output_type": "stream",
     "text": [
      "      20/30      4.21G     0.9118      2.194      1.418      1.642        411        640: 100%|██████████| 369/369 [01:46<00:00,  3.47it/s]\n",
      "                 Class     Images  Instances      Box(P          R      mAP50  mAP50-95)     Mask(P          R      mAP50  mAP50-95): 100%|██████████| 31/31 [00:10<00:00,  2.90it/s]\n"
     ]
    },
    {
     "name": "stdout",
     "output_type": "stream",
     "text": [
      "                   all        495      23219       0.62       0.48      0.502      0.313      0.554      0.422      0.423      0.224\n",
      "Closing dataloader mosaic\n",
      "\n",
      "      Epoch    GPU_mem   box_loss   seg_loss   cls_loss   dfl_loss  Instances       Size\n"
     ]
    },
    {
     "name": "stderr",
     "output_type": "stream",
     "text": [
      "      21/30      3.35G      1.017      2.293      1.575      1.749        183        640: 100%|██████████| 369/369 [01:34<00:00,  3.92it/s]\n",
      "                 Class     Images  Instances      Box(P          R      mAP50  mAP50-95)     Mask(P          R      mAP50  mAP50-95): 100%|██████████| 31/31 [00:10<00:00,  2.91it/s]\n"
     ]
    },
    {
     "name": "stdout",
     "output_type": "stream",
     "text": [
      "                   all        495      23219      0.549      0.461      0.459      0.281      0.556      0.371      0.376      0.196\n",
      "\n",
      "      Epoch    GPU_mem   box_loss   seg_loss   cls_loss   dfl_loss  Instances       Size\n"
     ]
    },
    {
     "name": "stderr",
     "output_type": "stream",
     "text": [
      "      22/30      3.47G      1.017      2.291      1.572      1.749        192        640: 100%|██████████| 369/369 [01:33<00:00,  3.95it/s]\n",
      "                 Class     Images  Instances      Box(P          R      mAP50  mAP50-95)     Mask(P          R      mAP50  mAP50-95): 100%|██████████| 31/31 [00:10<00:00,  2.87it/s]\n"
     ]
    },
    {
     "name": "stdout",
     "output_type": "stream",
     "text": [
      "                   all        495      23219      0.561       0.46       0.46      0.282       0.52      0.383      0.376      0.196\n",
      "\n",
      "      Epoch    GPU_mem   box_loss   seg_loss   cls_loss   dfl_loss  Instances       Size\n"
     ]
    },
    {
     "name": "stderr",
     "output_type": "stream",
     "text": [
      "      23/30      3.44G      1.017       2.29      1.571      1.749        221        640: 100%|██████████| 369/369 [01:33<00:00,  3.96it/s]\n",
      "                 Class     Images  Instances      Box(P          R      mAP50  mAP50-95)     Mask(P          R      mAP50  mAP50-95): 100%|██████████| 31/31 [00:10<00:00,  2.87it/s]\n"
     ]
    },
    {
     "name": "stdout",
     "output_type": "stream",
     "text": [
      "                   all        495      23219      0.561      0.456      0.459      0.281      0.558      0.372      0.376      0.196\n",
      "\n",
      "      Epoch    GPU_mem   box_loss   seg_loss   cls_loss   dfl_loss  Instances       Size\n"
     ]
    },
    {
     "name": "stderr",
     "output_type": "stream",
     "text": [
      "      24/30      3.55G      1.017      2.291      1.573      1.748        184        640: 100%|██████████| 369/369 [01:33<00:00,  3.95it/s]\n",
      "                 Class     Images  Instances      Box(P          R      mAP50  mAP50-95)     Mask(P          R      mAP50  mAP50-95): 100%|██████████| 31/31 [00:10<00:00,  2.86it/s]\n"
     ]
    },
    {
     "name": "stdout",
     "output_type": "stream",
     "text": [
      "                   all        495      23219       0.55      0.457      0.459       0.28      0.559      0.369      0.375      0.196\n",
      "\n",
      "      Epoch    GPU_mem   box_loss   seg_loss   cls_loss   dfl_loss  Instances       Size\n"
     ]
    },
    {
     "name": "stderr",
     "output_type": "stream",
     "text": [
      "      25/30      3.37G      1.017      2.291      1.571      1.748        185        640: 100%|██████████| 369/369 [01:32<00:00,  3.99it/s]\n",
      "                 Class     Images  Instances      Box(P          R      mAP50  mAP50-95)     Mask(P          R      mAP50  mAP50-95): 100%|██████████| 31/31 [00:10<00:00,  2.83it/s]\n"
     ]
    },
    {
     "name": "stdout",
     "output_type": "stream",
     "text": [
      "                   all        495      23219      0.549      0.461      0.459      0.281      0.538       0.38      0.377      0.197\n",
      "\n",
      "      Epoch    GPU_mem   box_loss   seg_loss   cls_loss   dfl_loss  Instances       Size\n"
     ]
    },
    {
     "name": "stderr",
     "output_type": "stream",
     "text": [
      "      26/30      3.28G      1.016      2.291      1.571      1.748        280        640: 100%|██████████| 369/369 [01:32<00:00,  3.99it/s]\n",
      "                 Class     Images  Instances      Box(P          R      mAP50  mAP50-95)     Mask(P          R      mAP50  mAP50-95): 100%|██████████| 31/31 [00:10<00:00,  2.87it/s]\n"
     ]
    },
    {
     "name": "stdout",
     "output_type": "stream",
     "text": [
      "                   all        495      23219      0.553      0.459      0.459      0.281      0.559      0.369      0.376      0.197\n",
      "\n",
      "      Epoch    GPU_mem   box_loss   seg_loss   cls_loss   dfl_loss  Instances       Size\n"
     ]
    },
    {
     "name": "stderr",
     "output_type": "stream",
     "text": [
      "      27/30      3.31G      1.017      2.292      1.572      1.748        249        640: 100%|██████████| 369/369 [01:32<00:00,  3.97it/s]\n",
      "                 Class     Images  Instances      Box(P          R      mAP50  mAP50-95)     Mask(P          R      mAP50  mAP50-95): 100%|██████████| 31/31 [00:10<00:00,  2.93it/s]\n"
     ]
    },
    {
     "name": "stdout",
     "output_type": "stream",
     "text": [
      "                   all        495      23219      0.553      0.463       0.46      0.282      0.522      0.385      0.376      0.196\n",
      "\n",
      "      Epoch    GPU_mem   box_loss   seg_loss   cls_loss   dfl_loss  Instances       Size\n"
     ]
    },
    {
     "name": "stderr",
     "output_type": "stream",
     "text": [
      "      28/30      3.54G      1.017       2.29      1.572      1.748        275        640: 100%|██████████| 369/369 [01:33<00:00,  3.94it/s]\n",
      "                 Class     Images  Instances      Box(P          R      mAP50  mAP50-95)     Mask(P          R      mAP50  mAP50-95): 100%|██████████| 31/31 [00:10<00:00,  2.86it/s]\n"
     ]
    },
    {
     "name": "stdout",
     "output_type": "stream",
     "text": [
      "                   all        495      23219      0.566      0.453       0.46      0.282      0.534      0.382      0.377      0.197\n",
      "\n",
      "      Epoch    GPU_mem   box_loss   seg_loss   cls_loss   dfl_loss  Instances       Size\n"
     ]
    },
    {
     "name": "stderr",
     "output_type": "stream",
     "text": [
      "      29/30      3.33G      1.016       2.29       1.57      1.748        190        640: 100%|██████████| 369/369 [01:33<00:00,  3.96it/s]\n",
      "                 Class     Images  Instances      Box(P          R      mAP50  mAP50-95)     Mask(P          R      mAP50  mAP50-95): 100%|██████████| 31/31 [00:11<00:00,  2.82it/s]\n"
     ]
    },
    {
     "name": "stdout",
     "output_type": "stream",
     "text": [
      "                   all        495      23219      0.554      0.461      0.459      0.281      0.558       0.37      0.375      0.196\n",
      "\u001b[34m\u001b[1mEarlyStopping: \u001b[0mTraining stopped early as no improvement observed in last 17 epochs. Best results observed at epoch 12, best model saved as best.pt.\n",
      "To update EarlyStopping(patience=17) pass a new patience value, i.e. `patience=300` or use `patience=0` to disable EarlyStopping.\n",
      "\n",
      "29 epochs completed in 0.952 hours.\n",
      "Optimizer stripped from runs\\segment\\train59\\weights\\last.pt, 23.8MB\n",
      "Optimizer stripped from runs\\segment\\train59\\weights\\best.pt, 23.8MB\n",
      "\n",
      "Validating runs\\segment\\train59\\weights\\best.pt...\n",
      "Ultralytics 8.3.55  Python-3.11.5 torch-2.6.0+cu126 CUDA:0 (NVIDIA GeForce RTX 4060 Laptop GPU, 8188MiB)\n",
      "YOLOv8s-seg summary (fused): 195 layers, 11,784,631 parameters, 0 gradients, 42.5 GFLOPs\n"
     ]
    },
    {
     "name": "stderr",
     "output_type": "stream",
     "text": [
      "                 Class     Images  Instances      Box(P          R      mAP50  mAP50-95)     Mask(P          R      mAP50  mAP50-95): 100%|██████████| 31/31 [00:16<00:00,  1.89it/s]\n"
     ]
    },
    {
     "name": "stdout",
     "output_type": "stream",
     "text": [
      "                   all        495      23219      0.629      0.476      0.504      0.314      0.552      0.423      0.424      0.225\n",
      "                person        399       3387      0.621       0.44       0.49      0.263      0.489      0.339      0.339      0.129\n",
      "                 rider        252        548      0.724      0.412      0.492      0.279      0.437      0.243      0.225     0.0602\n",
      "                   car        474       4638      0.726      0.635      0.697      0.465      0.579      0.499      0.531      0.262\n",
      "                 truck         79         92      0.551       0.37      0.404      0.272      0.535      0.348      0.368      0.213\n",
      "                   bus         75         98       0.63      0.531      0.566      0.416      0.624       0.52      0.536      0.305\n",
      "                 train         22         23      0.332      0.391      0.356       0.13      0.342      0.391      0.356      0.146\n",
      "            motorcycle         93        149       0.57      0.282      0.301      0.124      0.407      0.193      0.193     0.0534\n",
      "               bicycle        330       1165      0.651      0.293      0.374      0.181      0.529      0.231      0.246     0.0802\n",
      "                  road        481        494      0.965      0.972      0.981       0.87      0.965      0.972      0.981      0.866\n",
      "              sidewalk        462       1205      0.619      0.429      0.471      0.275      0.603      0.404       0.42      0.208\n",
      "              building        486       1145      0.529      0.562      0.493      0.306      0.512      0.536      0.459      0.238\n",
      "                  pole        486       9801      0.555      0.135       0.18     0.0754      0.473      0.111      0.156     0.0664\n",
      "                   sky        440        474      0.703      0.739      0.742      0.423      0.684      0.707      0.709      0.295\n",
      "Speed: 0.2ms preprocess, 3.2ms inference, 0.0ms loss, 3.1ms postprocess per image\n",
      "Results saved to \u001b[1mruns\\segment\\train59\u001b[0m\n"
     ]
    }
   ],
   "source": [
    "model = YOLO('runs/segment/train58/weights/best.pt')\n",
    "results = model.train(\n",
    "    data='cityscapes.yaml',               # Ruta al archivo de configuración de datos\n",
    "    pretrained=True,                # Usar modelo preentrenado\n",
    "    freeze=0,\n",
    "    epochs=30,                      # Número de épocas para el ajuste fino\n",
    "    batch=8,                        # Tamaño de batch\n",
    "    imgsz=640,                      # Tamaño de imagen\n",
    "    device='cuda',                  # Dispositivo para entrenamiento\n",
    "    optimizer='AdamW',              # Usar AdamW como optimizador\n",
    "    lr0=1e-8,                    # Learning rate inicial\n",
    "    lrf=0.01221,                    # Learning rate final (ajustado con scheduler)\n",
    "    momentum=0.86519,               # Momentum\n",
    "    weight_decay=0.00045,           # Regularización L2\n",
    "    warmup_epochs=5.0,              # Warmup epochs\n",
    "    warmup_momentum=0.80406,        # Warmup momentum\n",
    "    box=5.59591,                    # Box loss gain\n",
    "    cls=0.76484,                    # CLS loss gain\n",
    "    dfl=2.14151,                    # DFL loss gain\n",
    "    hsv_h=0.0,                  # HSV-Hue augmentation\n",
    "    hsv_s=0.0,                  # HSV-Saturation augmentation\n",
    "    hsv_v=0.0,                  # HSV-Value augmentation\n",
    "    degrees=0.0,                    # Desactivar rotación\n",
    "    translate=0.00,              # Traslación\n",
    "    scale=0.0,                  # Escalado\n",
    "    shear=0.0,                      # Desactivar shear\n",
    "    perspective=0.0,                # Desactivar perspectiva\n",
    "    flipud=0.0,                     # Desactivar flip up-down\n",
    "    fliplr=0,                 # Flip left-right\n",
    "    bgr=0.0,                        # Desactivar cambio de canal BGR\n",
    "    mosaic=1,                 # Mosaic augmentation\n",
    "    mixup=0.0,                      # Desactivar mixup\n",
    "    copy_paste=0.0,                 # Desactivar copy-paste\n",
    "    #auto_augment='',                # Desactivar auto-augment\n",
    "    erasing=0.0,                    # Desactivar erasing\n",
    "    save=True,                      # Guardar el modelo     \n",
    "    val=True,                      # Desactivar validación\n",
    "    #close_mosaic=20,                 # Desactiva el mosaico\n",
    "    patience=17                     # Detener si no hay mejora después de 10 épocas\n",
    ")"
   ]
  }
 ],
 "metadata": {
  "kernelspec": {
   "display_name": "ia2023",
   "language": "python",
   "name": "ia2023"
  },
  "language_info": {
   "codemirror_mode": {
    "name": "ipython",
    "version": 3
   },
   "file_extension": ".py",
   "mimetype": "text/x-python",
   "name": "python",
   "nbconvert_exporter": "python",
   "pygments_lexer": "ipython3",
   "version": "3.11.5"
  }
 },
 "nbformat": 4,
 "nbformat_minor": 2
}
