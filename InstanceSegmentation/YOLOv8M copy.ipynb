{
 "cells": [
  {
   "cell_type": "code",
   "execution_count": 1,
   "metadata": {},
   "outputs": [
    {
     "name": "stdout",
     "output_type": "stream",
     "text": [
      "Downloading https://github.com/ultralytics/assets/releases/download/v8.3.0/yolov8l-seg.pt to 'yolov8l-seg.pt'...\n"
     ]
    },
    {
     "name": "stderr",
     "output_type": "stream",
     "text": [
      "100%|██████████| 88.1M/88.1M [00:02<00:00, 39.4MB/s]\n"
     ]
    },
    {
     "name": "stdout",
     "output_type": "stream",
     "text": [
      "New https://pypi.org/project/ultralytics/8.3.107 available  Update with 'pip install -U ultralytics'\n",
      "WARNING  'label_smoothing' is deprecated and will be removed in in the future.\n",
      "Ultralytics 8.3.55  Python-3.11.5 torch-2.6.0+cu126 CUDA:0 (NVIDIA GeForce RTX 4060 Laptop GPU, 8188MiB)\n",
      "\u001b[34m\u001b[1mengine\\trainer: \u001b[0mtask=segment, mode=train, model=yolov8l-seg.pt, data=cityscapes.yaml, epochs=50, time=None, patience=100, batch=8, imgsz=640, save=True, save_period=-1, cache=False, device=None, workers=0, project=None, name=train56, exist_ok=False, pretrained=True, optimizer=auto, verbose=True, seed=0, deterministic=True, single_cls=False, rect=False, cos_lr=False, close_mosaic=10, resume=False, amp=True, fraction=1.0, profile=False, freeze=10, multi_scale=False, overlap_mask=True, mask_ratio=4, dropout=0.2, val=True, split=val, save_json=False, save_hybrid=False, conf=None, iou=0.7, max_det=300, half=False, dnn=False, plots=True, source=None, vid_stride=1, stream_buffer=False, visualize=False, augment=True, agnostic_nms=False, classes=None, retina_masks=False, embed=None, show=False, save_frames=False, save_txt=False, save_conf=False, save_crop=False, show_labels=True, show_conf=True, show_boxes=True, line_width=None, format=torchscript, keras=False, optimize=False, int8=False, dynamic=False, simplify=True, opset=None, workspace=None, nms=False, lr0=0.001, lrf=0.0001, momentum=0.937, weight_decay=0.0004, warmup_epochs=3, warmup_momentum=0.85, warmup_bias_lr=0.1, box=7.5, cls=0.5, dfl=1.5, pose=12.0, kobj=1.0, nbs=64, hsv_h=0.015, hsv_s=0.5, hsv_v=0.4, degrees=30.0, translate=0.15, scale=0.5, shear=7.0, perspective=0.0007, flipud=0.3, fliplr=0.5, bgr=0.0, mosaic=0.8, mixup=0.3, copy_paste=0.3, copy_paste_mode=flip, auto_augment=randaugment, erasing=0.4, crop_fraction=1.0, cfg=None, tracker=botsort.yaml, save_dir=runs\\segment\\train56\n",
      "Overriding model.yaml nc=80 with nc=13\n",
      "\n",
      "                   from  n    params  module                                       arguments                     \n",
      "  0                  -1  1      1856  ultralytics.nn.modules.conv.Conv             [3, 64, 3, 2]                 \n",
      "  1                  -1  1     73984  ultralytics.nn.modules.conv.Conv             [64, 128, 3, 2]               \n",
      "  2                  -1  3    279808  ultralytics.nn.modules.block.C2f             [128, 128, 3, True]           \n",
      "  3                  -1  1    295424  ultralytics.nn.modules.conv.Conv             [128, 256, 3, 2]              \n",
      "  4                  -1  6   2101248  ultralytics.nn.modules.block.C2f             [256, 256, 6, True]           \n",
      "  5                  -1  1   1180672  ultralytics.nn.modules.conv.Conv             [256, 512, 3, 2]              \n",
      "  6                  -1  6   8396800  ultralytics.nn.modules.block.C2f             [512, 512, 6, True]           \n",
      "  7                  -1  1   2360320  ultralytics.nn.modules.conv.Conv             [512, 512, 3, 2]              \n",
      "  8                  -1  3   4461568  ultralytics.nn.modules.block.C2f             [512, 512, 3, True]           \n",
      "  9                  -1  1    656896  ultralytics.nn.modules.block.SPPF            [512, 512, 5]                 \n",
      " 10                  -1  1         0  torch.nn.modules.upsampling.Upsample         [None, 2, 'nearest']          \n",
      " 11             [-1, 6]  1         0  ultralytics.nn.modules.conv.Concat           [1]                           \n",
      " 12                  -1  3   4723712  ultralytics.nn.modules.block.C2f             [1024, 512, 3]                \n",
      " 13                  -1  1         0  torch.nn.modules.upsampling.Upsample         [None, 2, 'nearest']          \n",
      " 14             [-1, 4]  1         0  ultralytics.nn.modules.conv.Concat           [1]                           \n",
      " 15                  -1  3   1247744  ultralytics.nn.modules.block.C2f             [768, 256, 3]                 \n",
      " 16                  -1  1    590336  ultralytics.nn.modules.conv.Conv             [256, 256, 3, 2]              \n",
      " 17            [-1, 12]  1         0  ultralytics.nn.modules.conv.Concat           [1]                           \n",
      " 18                  -1  3   4592640  ultralytics.nn.modules.block.C2f             [768, 512, 3]                 \n",
      " 19                  -1  1   2360320  ultralytics.nn.modules.conv.Conv             [512, 512, 3, 2]              \n",
      " 20             [-1, 9]  1         0  ultralytics.nn.modules.conv.Concat           [1]                           \n",
      " 21                  -1  3   4723712  ultralytics.nn.modules.block.C2f             [1024, 512, 3]                \n",
      " 22        [15, 18, 21]  1   7899031  ultralytics.nn.modules.head.Segment          [13, 32, 256, [256, 512, 512]]\n",
      "YOLOv8l-seg summary: 401 layers, 45,946,071 parameters, 45,946,055 gradients, 220.8 GFLOPs\n",
      "\n",
      "Transferred 651/657 items from pretrained weights\n",
      "Freezing layer 'model.0.conv.weight'\n",
      "Freezing layer 'model.0.bn.weight'\n",
      "Freezing layer 'model.0.bn.bias'\n",
      "Freezing layer 'model.1.conv.weight'\n",
      "Freezing layer 'model.1.bn.weight'\n",
      "Freezing layer 'model.1.bn.bias'\n",
      "Freezing layer 'model.2.cv1.conv.weight'\n",
      "Freezing layer 'model.2.cv1.bn.weight'\n",
      "Freezing layer 'model.2.cv1.bn.bias'\n",
      "Freezing layer 'model.2.cv2.conv.weight'\n",
      "Freezing layer 'model.2.cv2.bn.weight'\n",
      "Freezing layer 'model.2.cv2.bn.bias'\n",
      "Freezing layer 'model.2.m.0.cv1.conv.weight'\n",
      "Freezing layer 'model.2.m.0.cv1.bn.weight'\n",
      "Freezing layer 'model.2.m.0.cv1.bn.bias'\n",
      "Freezing layer 'model.2.m.0.cv2.conv.weight'\n",
      "Freezing layer 'model.2.m.0.cv2.bn.weight'\n",
      "Freezing layer 'model.2.m.0.cv2.bn.bias'\n",
      "Freezing layer 'model.2.m.1.cv1.conv.weight'\n",
      "Freezing layer 'model.2.m.1.cv1.bn.weight'\n",
      "Freezing layer 'model.2.m.1.cv1.bn.bias'\n",
      "Freezing layer 'model.2.m.1.cv2.conv.weight'\n",
      "Freezing layer 'model.2.m.1.cv2.bn.weight'\n",
      "Freezing layer 'model.2.m.1.cv2.bn.bias'\n",
      "Freezing layer 'model.2.m.2.cv1.conv.weight'\n",
      "Freezing layer 'model.2.m.2.cv1.bn.weight'\n",
      "Freezing layer 'model.2.m.2.cv1.bn.bias'\n",
      "Freezing layer 'model.2.m.2.cv2.conv.weight'\n",
      "Freezing layer 'model.2.m.2.cv2.bn.weight'\n",
      "Freezing layer 'model.2.m.2.cv2.bn.bias'\n",
      "Freezing layer 'model.3.conv.weight'\n",
      "Freezing layer 'model.3.bn.weight'\n",
      "Freezing layer 'model.3.bn.bias'\n",
      "Freezing layer 'model.4.cv1.conv.weight'\n",
      "Freezing layer 'model.4.cv1.bn.weight'\n",
      "Freezing layer 'model.4.cv1.bn.bias'\n",
      "Freezing layer 'model.4.cv2.conv.weight'\n",
      "Freezing layer 'model.4.cv2.bn.weight'\n",
      "Freezing layer 'model.4.cv2.bn.bias'\n",
      "Freezing layer 'model.4.m.0.cv1.conv.weight'\n",
      "Freezing layer 'model.4.m.0.cv1.bn.weight'\n",
      "Freezing layer 'model.4.m.0.cv1.bn.bias'\n",
      "Freezing layer 'model.4.m.0.cv2.conv.weight'\n",
      "Freezing layer 'model.4.m.0.cv2.bn.weight'\n",
      "Freezing layer 'model.4.m.0.cv2.bn.bias'\n",
      "Freezing layer 'model.4.m.1.cv1.conv.weight'\n",
      "Freezing layer 'model.4.m.1.cv1.bn.weight'\n",
      "Freezing layer 'model.4.m.1.cv1.bn.bias'\n",
      "Freezing layer 'model.4.m.1.cv2.conv.weight'\n",
      "Freezing layer 'model.4.m.1.cv2.bn.weight'\n",
      "Freezing layer 'model.4.m.1.cv2.bn.bias'\n",
      "Freezing layer 'model.4.m.2.cv1.conv.weight'\n",
      "Freezing layer 'model.4.m.2.cv1.bn.weight'\n",
      "Freezing layer 'model.4.m.2.cv1.bn.bias'\n",
      "Freezing layer 'model.4.m.2.cv2.conv.weight'\n",
      "Freezing layer 'model.4.m.2.cv2.bn.weight'\n",
      "Freezing layer 'model.4.m.2.cv2.bn.bias'\n",
      "Freezing layer 'model.4.m.3.cv1.conv.weight'\n",
      "Freezing layer 'model.4.m.3.cv1.bn.weight'\n",
      "Freezing layer 'model.4.m.3.cv1.bn.bias'\n",
      "Freezing layer 'model.4.m.3.cv2.conv.weight'\n",
      "Freezing layer 'model.4.m.3.cv2.bn.weight'\n",
      "Freezing layer 'model.4.m.3.cv2.bn.bias'\n",
      "Freezing layer 'model.4.m.4.cv1.conv.weight'\n",
      "Freezing layer 'model.4.m.4.cv1.bn.weight'\n",
      "Freezing layer 'model.4.m.4.cv1.bn.bias'\n",
      "Freezing layer 'model.4.m.4.cv2.conv.weight'\n",
      "Freezing layer 'model.4.m.4.cv2.bn.weight'\n",
      "Freezing layer 'model.4.m.4.cv2.bn.bias'\n",
      "Freezing layer 'model.4.m.5.cv1.conv.weight'\n",
      "Freezing layer 'model.4.m.5.cv1.bn.weight'\n",
      "Freezing layer 'model.4.m.5.cv1.bn.bias'\n",
      "Freezing layer 'model.4.m.5.cv2.conv.weight'\n",
      "Freezing layer 'model.4.m.5.cv2.bn.weight'\n",
      "Freezing layer 'model.4.m.5.cv2.bn.bias'\n",
      "Freezing layer 'model.5.conv.weight'\n",
      "Freezing layer 'model.5.bn.weight'\n",
      "Freezing layer 'model.5.bn.bias'\n",
      "Freezing layer 'model.6.cv1.conv.weight'\n",
      "Freezing layer 'model.6.cv1.bn.weight'\n",
      "Freezing layer 'model.6.cv1.bn.bias'\n",
      "Freezing layer 'model.6.cv2.conv.weight'\n",
      "Freezing layer 'model.6.cv2.bn.weight'\n",
      "Freezing layer 'model.6.cv2.bn.bias'\n",
      "Freezing layer 'model.6.m.0.cv1.conv.weight'\n",
      "Freezing layer 'model.6.m.0.cv1.bn.weight'\n",
      "Freezing layer 'model.6.m.0.cv1.bn.bias'\n",
      "Freezing layer 'model.6.m.0.cv2.conv.weight'\n",
      "Freezing layer 'model.6.m.0.cv2.bn.weight'\n",
      "Freezing layer 'model.6.m.0.cv2.bn.bias'\n",
      "Freezing layer 'model.6.m.1.cv1.conv.weight'\n",
      "Freezing layer 'model.6.m.1.cv1.bn.weight'\n",
      "Freezing layer 'model.6.m.1.cv1.bn.bias'\n",
      "Freezing layer 'model.6.m.1.cv2.conv.weight'\n",
      "Freezing layer 'model.6.m.1.cv2.bn.weight'\n",
      "Freezing layer 'model.6.m.1.cv2.bn.bias'\n",
      "Freezing layer 'model.6.m.2.cv1.conv.weight'\n",
      "Freezing layer 'model.6.m.2.cv1.bn.weight'\n",
      "Freezing layer 'model.6.m.2.cv1.bn.bias'\n",
      "Freezing layer 'model.6.m.2.cv2.conv.weight'\n",
      "Freezing layer 'model.6.m.2.cv2.bn.weight'\n",
      "Freezing layer 'model.6.m.2.cv2.bn.bias'\n",
      "Freezing layer 'model.6.m.3.cv1.conv.weight'\n",
      "Freezing layer 'model.6.m.3.cv1.bn.weight'\n",
      "Freezing layer 'model.6.m.3.cv1.bn.bias'\n",
      "Freezing layer 'model.6.m.3.cv2.conv.weight'\n",
      "Freezing layer 'model.6.m.3.cv2.bn.weight'\n",
      "Freezing layer 'model.6.m.3.cv2.bn.bias'\n",
      "Freezing layer 'model.6.m.4.cv1.conv.weight'\n",
      "Freezing layer 'model.6.m.4.cv1.bn.weight'\n",
      "Freezing layer 'model.6.m.4.cv1.bn.bias'\n",
      "Freezing layer 'model.6.m.4.cv2.conv.weight'\n",
      "Freezing layer 'model.6.m.4.cv2.bn.weight'\n",
      "Freezing layer 'model.6.m.4.cv2.bn.bias'\n",
      "Freezing layer 'model.6.m.5.cv1.conv.weight'\n",
      "Freezing layer 'model.6.m.5.cv1.bn.weight'\n",
      "Freezing layer 'model.6.m.5.cv1.bn.bias'\n",
      "Freezing layer 'model.6.m.5.cv2.conv.weight'\n",
      "Freezing layer 'model.6.m.5.cv2.bn.weight'\n",
      "Freezing layer 'model.6.m.5.cv2.bn.bias'\n",
      "Freezing layer 'model.7.conv.weight'\n",
      "Freezing layer 'model.7.bn.weight'\n",
      "Freezing layer 'model.7.bn.bias'\n",
      "Freezing layer 'model.8.cv1.conv.weight'\n",
      "Freezing layer 'model.8.cv1.bn.weight'\n",
      "Freezing layer 'model.8.cv1.bn.bias'\n",
      "Freezing layer 'model.8.cv2.conv.weight'\n",
      "Freezing layer 'model.8.cv2.bn.weight'\n",
      "Freezing layer 'model.8.cv2.bn.bias'\n",
      "Freezing layer 'model.8.m.0.cv1.conv.weight'\n",
      "Freezing layer 'model.8.m.0.cv1.bn.weight'\n",
      "Freezing layer 'model.8.m.0.cv1.bn.bias'\n",
      "Freezing layer 'model.8.m.0.cv2.conv.weight'\n",
      "Freezing layer 'model.8.m.0.cv2.bn.weight'\n",
      "Freezing layer 'model.8.m.0.cv2.bn.bias'\n",
      "Freezing layer 'model.8.m.1.cv1.conv.weight'\n",
      "Freezing layer 'model.8.m.1.cv1.bn.weight'\n",
      "Freezing layer 'model.8.m.1.cv1.bn.bias'\n",
      "Freezing layer 'model.8.m.1.cv2.conv.weight'\n",
      "Freezing layer 'model.8.m.1.cv2.bn.weight'\n",
      "Freezing layer 'model.8.m.1.cv2.bn.bias'\n",
      "Freezing layer 'model.8.m.2.cv1.conv.weight'\n",
      "Freezing layer 'model.8.m.2.cv1.bn.weight'\n",
      "Freezing layer 'model.8.m.2.cv1.bn.bias'\n",
      "Freezing layer 'model.8.m.2.cv2.conv.weight'\n",
      "Freezing layer 'model.8.m.2.cv2.bn.weight'\n",
      "Freezing layer 'model.8.m.2.cv2.bn.bias'\n",
      "Freezing layer 'model.9.cv1.conv.weight'\n",
      "Freezing layer 'model.9.cv1.bn.weight'\n",
      "Freezing layer 'model.9.cv1.bn.bias'\n",
      "Freezing layer 'model.9.cv2.conv.weight'\n",
      "Freezing layer 'model.9.cv2.bn.weight'\n",
      "Freezing layer 'model.9.cv2.bn.bias'\n",
      "Freezing layer 'model.22.dfl.conv.weight'\n",
      "\u001b[34m\u001b[1mAMP: \u001b[0mrunning Automatic Mixed Precision (AMP) checks...\n",
      "\u001b[34m\u001b[1mAMP: \u001b[0mchecks passed \n"
     ]
    },
    {
     "name": "stderr",
     "output_type": "stream",
     "text": [
      "\u001b[34m\u001b[1mtrain: \u001b[0mScanning C:\\Users\\aaron\\Documents\\Año4\\TFG\\CityScapesWithPanopticSegm\\dataset\\labels\\train.cache... 2975 images, 0 backgrounds, 25 corrupt: 100%|██████████| 2975/2975 [00:00<?, ?it/s]"
     ]
    },
    {
     "name": "stdout",
     "output_type": "stream",
     "text": [
      "\u001b[34m\u001b[1mtrain: \u001b[0mWARNING  C:\\Users\\aaron\\Documents\\Ao4\\TFG\\CityScapesWithPanopticSegm\\dataset\\images\\train\\aachen_000000_000019_gtFine_polygons.png: 4 duplicate labels removed\n",
      "\u001b[34m\u001b[1mtrain: \u001b[0mWARNING  C:\\Users\\aaron\\Documents\\Ao4\\TFG\\CityScapesWithPanopticSegm\\dataset\\images\\train\\aachen_000004_000019_gtFine_polygons.png: 1 duplicate labels removed\n",
      "\u001b[34m\u001b[1mtrain: \u001b[0mWARNING  C:\\Users\\aaron\\Documents\\Ao4\\TFG\\CityScapesWithPanopticSegm\\dataset\\images\\train\\aachen_000008_000019_gtFine_polygons.png: 1 duplicate labels removed\n",
      "\u001b[34m\u001b[1mtrain: \u001b[0mWARNING  C:\\Users\\aaron\\Documents\\Ao4\\TFG\\CityScapesWithPanopticSegm\\dataset\\images\\train\\aachen_000022_000019_gtFine_polygons.png: 1 duplicate labels removed\n",
      "\u001b[34m\u001b[1mtrain: \u001b[0mWARNING  C:\\Users\\aaron\\Documents\\Ao4\\TFG\\CityScapesWithPanopticSegm\\dataset\\images\\train\\aachen_000026_000019_gtFine_polygons.png: 1 duplicate labels removed\n",
      "\u001b[34m\u001b[1mtrain: \u001b[0mWARNING  C:\\Users\\aaron\\Documents\\Ao4\\TFG\\CityScapesWithPanopticSegm\\dataset\\images\\train\\aachen_000030_000019_gtFine_polygons.png: 3 duplicate labels removed\n",
      "\u001b[34m\u001b[1mtrain: \u001b[0mWARNING  C:\\Users\\aaron\\Documents\\Ao4\\TFG\\CityScapesWithPanopticSegm\\dataset\\images\\train\\aachen_000031_000019_gtFine_polygons.png: 1 duplicate labels removed\n",
      "\u001b[34m\u001b[1mtrain: \u001b[0mWARNING  C:\\Users\\aaron\\Documents\\Ao4\\TFG\\CityScapesWithPanopticSegm\\dataset\\images\\train\\aachen_000034_000019_gtFine_polygons.png: 1 duplicate labels removed\n",
      "\u001b[34m\u001b[1mtrain: \u001b[0mWARNING  C:\\Users\\aaron\\Documents\\Ao4\\TFG\\CityScapesWithPanopticSegm\\dataset\\images\\train\\aachen_000042_000019_gtFine_polygons.png: 2 duplicate labels removed\n",
      "\u001b[34m\u001b[1mtrain: \u001b[0mWARNING  C:\\Users\\aaron\\Documents\\Ao4\\TFG\\CityScapesWithPanopticSegm\\dataset\\images\\train\\aachen_000058_000019_gtFine_polygons.png: 1 duplicate labels removed\n",
      "\u001b[34m\u001b[1mtrain: \u001b[0mWARNING  C:\\Users\\aaron\\Documents\\Ao4\\TFG\\CityScapesWithPanopticSegm\\dataset\\images\\train\\aachen_000060_000019_gtFine_polygons.png: 15 duplicate labels removed\n",
      "\u001b[34m\u001b[1mtrain: \u001b[0mWARNING  C:\\Users\\aaron\\Documents\\Ao4\\TFG\\CityScapesWithPanopticSegm\\dataset\\images\\train\\aachen_000061_000019_gtFine_polygons.png: 40 duplicate labels removed\n",
      "\u001b[34m\u001b[1mtrain: \u001b[0mWARNING  C:\\Users\\aaron\\Documents\\Ao4\\TFG\\CityScapesWithPanopticSegm\\dataset\\images\\train\\aachen_000062_000019_gtFine_polygons.png: 8 duplicate labels removed\n",
      "\u001b[34m\u001b[1mtrain: \u001b[0mWARNING  C:\\Users\\aaron\\Documents\\Ao4\\TFG\\CityScapesWithPanopticSegm\\dataset\\images\\train\\aachen_000064_000019_gtFine_polygons.png: 1 duplicate labels removed\n",
      "\u001b[34m\u001b[1mtrain: \u001b[0mWARNING  C:\\Users\\aaron\\Documents\\Ao4\\TFG\\CityScapesWithPanopticSegm\\dataset\\images\\train\\aachen_000070_000019_gtFine_polygons.png: 2 duplicate labels removed\n",
      "\u001b[34m\u001b[1mtrain: \u001b[0mWARNING  C:\\Users\\aaron\\Documents\\Ao4\\TFG\\CityScapesWithPanopticSegm\\dataset\\images\\train\\aachen_000072_000019_gtFine_polygons.png: 1 duplicate labels removed\n",
      "\u001b[34m\u001b[1mtrain: \u001b[0mWARNING  C:\\Users\\aaron\\Documents\\Ao4\\TFG\\CityScapesWithPanopticSegm\\dataset\\images\\train\\aachen_000078_000019_gtFine_polygons.png: 3 duplicate labels removed\n",
      "\u001b[34m\u001b[1mtrain: \u001b[0mWARNING  C:\\Users\\aaron\\Documents\\Ao4\\TFG\\CityScapesWithPanopticSegm\\dataset\\images\\train\\aachen_000079_000019_gtFine_polygons.png: 7 duplicate labels removed\n",
      "\u001b[34m\u001b[1mtrain: \u001b[0mWARNING  C:\\Users\\aaron\\Documents\\Ao4\\TFG\\CityScapesWithPanopticSegm\\dataset\\images\\train\\aachen_000080_000019_gtFine_polygons.png: 37 duplicate labels removed\n",
      "\u001b[34m\u001b[1mtrain: \u001b[0mWARNING  C:\\Users\\aaron\\Documents\\Ao4\\TFG\\CityScapesWithPanopticSegm\\dataset\\images\\train\\aachen_000090_000019_gtFine_polygons.png: 3 duplicate labels removed\n",
      "\u001b[34m\u001b[1mtrain: \u001b[0mWARNING  C:\\Users\\aaron\\Documents\\Ao4\\TFG\\CityScapesWithPanopticSegm\\dataset\\images\\train\\aachen_000092_000019_gtFine_polygons.png: 1 duplicate labels removed\n",
      "\u001b[34m\u001b[1mtrain: \u001b[0mWARNING  C:\\Users\\aaron\\Documents\\Ao4\\TFG\\CityScapesWithPanopticSegm\\dataset\\images\\train\\aachen_000095_000019_gtFine_polygons.png: 2 duplicate labels removed\n",
      "\u001b[34m\u001b[1mtrain: \u001b[0mWARNING  C:\\Users\\aaron\\Documents\\Ao4\\TFG\\CityScapesWithPanopticSegm\\dataset\\images\\train\\aachen_000096_000019_gtFine_polygons.png: 4 duplicate labels removed\n",
      "\u001b[34m\u001b[1mtrain: \u001b[0mWARNING  C:\\Users\\aaron\\Documents\\Ao4\\TFG\\CityScapesWithPanopticSegm\\dataset\\images\\train\\aachen_000098_000019_gtFine_polygons.png: 2 duplicate labels removed\n",
      "\u001b[34m\u001b[1mtrain: \u001b[0mWARNING  C:\\Users\\aaron\\Documents\\Ao4\\TFG\\CityScapesWithPanopticSegm\\dataset\\images\\train\\aachen_000152_000019_gtFine_polygons.png: 9 duplicate labels removed\n",
      "\u001b[34m\u001b[1mtrain: \u001b[0mWARNING  C:\\Users\\aaron\\Documents\\Ao4\\TFG\\CityScapesWithPanopticSegm\\dataset\\images\\train\\aachen_000153_000019_gtFine_polygons.png: 1 duplicate labels removed\n",
      "\u001b[34m\u001b[1mtrain: \u001b[0mWARNING  C:\\Users\\aaron\\Documents\\Ao4\\TFG\\CityScapesWithPanopticSegm\\dataset\\images\\train\\aachen_000155_000019_gtFine_polygons.png: 1 duplicate labels removed\n",
      "\u001b[34m\u001b[1mtrain: \u001b[0mWARNING  C:\\Users\\aaron\\Documents\\Ao4\\TFG\\CityScapesWithPanopticSegm\\dataset\\images\\train\\bochum_000000_000885_gtFine_polygons.png: 1 duplicate labels removed\n",
      "\u001b[34m\u001b[1mtrain: \u001b[0mWARNING  C:\\Users\\aaron\\Documents\\Ao4\\TFG\\CityScapesWithPanopticSegm\\dataset\\images\\train\\bochum_000000_004748_gtFine_polygons.png: 1 duplicate labels removed\n",
      "\u001b[34m\u001b[1mtrain: \u001b[0mWARNING  C:\\Users\\aaron\\Documents\\Ao4\\TFG\\CityScapesWithPanopticSegm\\dataset\\images\\train\\bochum_000000_007651_gtFine_polygons.png: 2 duplicate labels removed\n",
      "\u001b[34m\u001b[1mtrain: \u001b[0mWARNING  C:\\Users\\aaron\\Documents\\Ao4\\TFG\\CityScapesWithPanopticSegm\\dataset\\images\\train\\bochum_000000_013209_gtFine_polygons.png: 1 duplicate labels removed\n",
      "\u001b[34m\u001b[1mtrain: \u001b[0mWARNING  C:\\Users\\aaron\\Documents\\Ao4\\TFG\\CityScapesWithPanopticSegm\\dataset\\images\\train\\bochum_000000_017453_gtFine_polygons.png: 1 duplicate labels removed\n",
      "\u001b[34m\u001b[1mtrain: \u001b[0mWARNING  C:\\Users\\aaron\\Documents\\Ao4\\TFG\\CityScapesWithPanopticSegm\\dataset\\images\\train\\bochum_000000_033714_gtFine_polygons.png: 1 duplicate labels removed\n",
      "\u001b[34m\u001b[1mtrain: \u001b[0mWARNING  C:\\Users\\aaron\\Documents\\Ao4\\TFG\\CityScapesWithPanopticSegm\\dataset\\images\\train\\bochum_000000_036606_gtFine_polygons.png: 1 duplicate labels removed\n",
      "\u001b[34m\u001b[1mtrain: \u001b[0mWARNING  C:\\Users\\aaron\\Documents\\Ao4\\TFG\\CityScapesWithPanopticSegm\\dataset\\images\\train\\bremen_000021_000019_gtFine_polygons.png: 1 duplicate labels removed\n",
      "\u001b[34m\u001b[1mtrain: \u001b[0mWARNING  C:\\Users\\aaron\\Documents\\Ao4\\TFG\\CityScapesWithPanopticSegm\\dataset\\images\\train\\bremen_000060_000019_gtFine_polygons.png: 1 duplicate labels removed\n",
      "\u001b[34m\u001b[1mtrain: \u001b[0mWARNING  C:\\Users\\aaron\\Documents\\Ao4\\TFG\\CityScapesWithPanopticSegm\\dataset\\images\\train\\bremen_000099_000019_gtFine_polygons.png: 1 duplicate labels removed\n",
      "\u001b[34m\u001b[1mtrain: \u001b[0mWARNING  C:\\Users\\aaron\\Documents\\Ao4\\TFG\\CityScapesWithPanopticSegm\\dataset\\images\\train\\bremen_000111_000019_gtFine_polygons.png: ignoring corrupt image/label: non-normalized or out of bounds coordinates [     1.0005]\n",
      "\u001b[34m\u001b[1mtrain: \u001b[0mWARNING  C:\\Users\\aaron\\Documents\\Ao4\\TFG\\CityScapesWithPanopticSegm\\dataset\\images\\train\\bremen_000118_000019_gtFine_polygons.png: ignoring corrupt image/label: non-normalized or out of bounds coordinates [      1.001]\n",
      "\u001b[34m\u001b[1mtrain: \u001b[0mWARNING  C:\\Users\\aaron\\Documents\\Ao4\\TFG\\CityScapesWithPanopticSegm\\dataset\\images\\train\\bremen_000121_000019_gtFine_polygons.png: ignoring corrupt image/label: non-normalized or out of bounds coordinates [      1.001]\n",
      "\u001b[34m\u001b[1mtrain: \u001b[0mWARNING  C:\\Users\\aaron\\Documents\\Ao4\\TFG\\CityScapesWithPanopticSegm\\dataset\\images\\train\\bremen_000123_000019_gtFine_polygons.png: ignoring corrupt image/label: non-normalized or out of bounds coordinates [     1.0005]\n",
      "\u001b[34m\u001b[1mtrain: \u001b[0mWARNING  C:\\Users\\aaron\\Documents\\Ao4\\TFG\\CityScapesWithPanopticSegm\\dataset\\images\\train\\bremen_000124_000019_gtFine_polygons.png: ignoring corrupt image/label: non-normalized or out of bounds coordinates [     1.0005]\n",
      "\u001b[34m\u001b[1mtrain: \u001b[0mWARNING  C:\\Users\\aaron\\Documents\\Ao4\\TFG\\CityScapesWithPanopticSegm\\dataset\\images\\train\\bremen_000126_000019_gtFine_polygons.png: ignoring corrupt image/label: non-normalized or out of bounds coordinates [      1.001]\n",
      "\u001b[34m\u001b[1mtrain: \u001b[0mWARNING  C:\\Users\\aaron\\Documents\\Ao4\\TFG\\CityScapesWithPanopticSegm\\dataset\\images\\train\\bremen_000128_000019_gtFine_polygons.png: ignoring corrupt image/label: non-normalized or out of bounds coordinates [     1.0005]\n",
      "\u001b[34m\u001b[1mtrain: \u001b[0mWARNING  C:\\Users\\aaron\\Documents\\Ao4\\TFG\\CityScapesWithPanopticSegm\\dataset\\images\\train\\bremen_000129_000019_gtFine_polygons.png: ignoring corrupt image/label: non-normalized or out of bounds coordinates [     1.0005]\n",
      "\u001b[34m\u001b[1mtrain: \u001b[0mWARNING  C:\\Users\\aaron\\Documents\\Ao4\\TFG\\CityScapesWithPanopticSegm\\dataset\\images\\train\\bremen_000130_000019_gtFine_polygons.png: ignoring corrupt image/label: non-normalized or out of bounds coordinates [      1.001]\n",
      "\u001b[34m\u001b[1mtrain: \u001b[0mWARNING  C:\\Users\\aaron\\Documents\\Ao4\\TFG\\CityScapesWithPanopticSegm\\dataset\\images\\train\\bremen_000132_000019_gtFine_polygons.png: ignoring corrupt image/label: non-normalized or out of bounds coordinates [      1.001]\n",
      "\u001b[34m\u001b[1mtrain: \u001b[0mWARNING  C:\\Users\\aaron\\Documents\\Ao4\\TFG\\CityScapesWithPanopticSegm\\dataset\\images\\train\\bremen_000133_000019_gtFine_polygons.png: ignoring corrupt image/label: non-normalized or out of bounds coordinates [      1.001]\n",
      "\u001b[34m\u001b[1mtrain: \u001b[0mWARNING  C:\\Users\\aaron\\Documents\\Ao4\\TFG\\CityScapesWithPanopticSegm\\dataset\\images\\train\\bremen_000135_000019_gtFine_polygons.png: ignoring corrupt image/label: non-normalized or out of bounds coordinates [     1.0005]\n",
      "\u001b[34m\u001b[1mtrain: \u001b[0mWARNING  C:\\Users\\aaron\\Documents\\Ao4\\TFG\\CityScapesWithPanopticSegm\\dataset\\images\\train\\bremen_000241_000019_gtFine_polygons.png: 1 duplicate labels removed\n",
      "\u001b[34m\u001b[1mtrain: \u001b[0mWARNING  C:\\Users\\aaron\\Documents\\Ao4\\TFG\\CityScapesWithPanopticSegm\\dataset\\images\\train\\cologne_000004_000019_gtFine_polygons.png: 1 duplicate labels removed\n",
      "\u001b[34m\u001b[1mtrain: \u001b[0mWARNING  C:\\Users\\aaron\\Documents\\Ao4\\TFG\\CityScapesWithPanopticSegm\\dataset\\images\\train\\cologne_000006_000019_gtFine_polygons.png: 1 duplicate labels removed\n",
      "\u001b[34m\u001b[1mtrain: \u001b[0mWARNING  C:\\Users\\aaron\\Documents\\Ao4\\TFG\\CityScapesWithPanopticSegm\\dataset\\images\\train\\cologne_000007_000019_gtFine_polygons.png: 2 duplicate labels removed\n",
      "\u001b[34m\u001b[1mtrain: \u001b[0mWARNING  C:\\Users\\aaron\\Documents\\Ao4\\TFG\\CityScapesWithPanopticSegm\\dataset\\images\\train\\cologne_000009_000019_gtFine_polygons.png: 1 duplicate labels removed\n",
      "\u001b[34m\u001b[1mtrain: \u001b[0mWARNING  C:\\Users\\aaron\\Documents\\Ao4\\TFG\\CityScapesWithPanopticSegm\\dataset\\images\\train\\cologne_000012_000019_gtFine_polygons.png: 3 duplicate labels removed\n",
      "\u001b[34m\u001b[1mtrain: \u001b[0mWARNING  C:\\Users\\aaron\\Documents\\Ao4\\TFG\\CityScapesWithPanopticSegm\\dataset\\images\\train\\cologne_000018_000019_gtFine_polygons.png: 5 duplicate labels removed\n",
      "\u001b[34m\u001b[1mtrain: \u001b[0mWARNING  C:\\Users\\aaron\\Documents\\Ao4\\TFG\\CityScapesWithPanopticSegm\\dataset\\images\\train\\cologne_000019_000019_gtFine_polygons.png: 2 duplicate labels removed\n",
      "\u001b[34m\u001b[1mtrain: \u001b[0mWARNING  C:\\Users\\aaron\\Documents\\Ao4\\TFG\\CityScapesWithPanopticSegm\\dataset\\images\\train\\cologne_000021_000019_gtFine_polygons.png: 1 duplicate labels removed\n",
      "\u001b[34m\u001b[1mtrain: \u001b[0mWARNING  C:\\Users\\aaron\\Documents\\Ao4\\TFG\\CityScapesWithPanopticSegm\\dataset\\images\\train\\cologne_000040_000019_gtFine_polygons.png: 1 duplicate labels removed\n",
      "\u001b[34m\u001b[1mtrain: \u001b[0mWARNING  C:\\Users\\aaron\\Documents\\Ao4\\TFG\\CityScapesWithPanopticSegm\\dataset\\images\\train\\cologne_000053_000019_gtFine_polygons.png: 1 duplicate labels removed\n",
      "\u001b[34m\u001b[1mtrain: \u001b[0mWARNING  C:\\Users\\aaron\\Documents\\Ao4\\TFG\\CityScapesWithPanopticSegm\\dataset\\images\\train\\cologne_000056_000019_gtFine_polygons.png: 1 duplicate labels removed\n",
      "\u001b[34m\u001b[1mtrain: \u001b[0mWARNING  C:\\Users\\aaron\\Documents\\Ao4\\TFG\\CityScapesWithPanopticSegm\\dataset\\images\\train\\cologne_000057_000019_gtFine_polygons.png: 1 duplicate labels removed\n",
      "\u001b[34m\u001b[1mtrain: \u001b[0mWARNING  C:\\Users\\aaron\\Documents\\Ao4\\TFG\\CityScapesWithPanopticSegm\\dataset\\images\\train\\cologne_000061_000019_gtFine_polygons.png: 1 duplicate labels removed\n",
      "\u001b[34m\u001b[1mtrain: \u001b[0mWARNING  C:\\Users\\aaron\\Documents\\Ao4\\TFG\\CityScapesWithPanopticSegm\\dataset\\images\\train\\cologne_000090_000019_gtFine_polygons.png: 1 duplicate labels removed\n",
      "\u001b[34m\u001b[1mtrain: \u001b[0mWARNING  C:\\Users\\aaron\\Documents\\Ao4\\TFG\\CityScapesWithPanopticSegm\\dataset\\images\\train\\cologne_000092_000019_gtFine_polygons.png: 3 duplicate labels removed\n",
      "\u001b[34m\u001b[1mtrain: \u001b[0mWARNING  C:\\Users\\aaron\\Documents\\Ao4\\TFG\\CityScapesWithPanopticSegm\\dataset\\images\\train\\cologne_000111_000019_gtFine_polygons.png: 1 duplicate labels removed\n",
      "\u001b[34m\u001b[1mtrain: \u001b[0mWARNING  C:\\Users\\aaron\\Documents\\Ao4\\TFG\\CityScapesWithPanopticSegm\\dataset\\images\\train\\darmstadt_000002_000019_gtFine_polygons.png: 2 duplicate labels removed\n",
      "\u001b[34m\u001b[1mtrain: \u001b[0mWARNING  C:\\Users\\aaron\\Documents\\Ao4\\TFG\\CityScapesWithPanopticSegm\\dataset\\images\\train\\darmstadt_000004_000019_gtFine_polygons.png: 1 duplicate labels removed\n",
      "\u001b[34m\u001b[1mtrain: \u001b[0mWARNING  C:\\Users\\aaron\\Documents\\Ao4\\TFG\\CityScapesWithPanopticSegm\\dataset\\images\\train\\darmstadt_000014_000019_gtFine_polygons.png: 1 duplicate labels removed\n",
      "\u001b[34m\u001b[1mtrain: \u001b[0mWARNING  C:\\Users\\aaron\\Documents\\Ao4\\TFG\\CityScapesWithPanopticSegm\\dataset\\images\\train\\darmstadt_000015_000019_gtFine_polygons.png: 1 duplicate labels removed\n",
      "\u001b[34m\u001b[1mtrain: \u001b[0mWARNING  C:\\Users\\aaron\\Documents\\Ao4\\TFG\\CityScapesWithPanopticSegm\\dataset\\images\\train\\darmstadt_000021_000019_gtFine_polygons.png: 1 duplicate labels removed\n",
      "\u001b[34m\u001b[1mtrain: \u001b[0mWARNING  C:\\Users\\aaron\\Documents\\Ao4\\TFG\\CityScapesWithPanopticSegm\\dataset\\images\\train\\darmstadt_000026_000019_gtFine_polygons.png: 2 duplicate labels removed\n",
      "\u001b[34m\u001b[1mtrain: \u001b[0mWARNING  C:\\Users\\aaron\\Documents\\Ao4\\TFG\\CityScapesWithPanopticSegm\\dataset\\images\\train\\darmstadt_000036_000019_gtFine_polygons.png: 1 duplicate labels removed\n",
      "\u001b[34m\u001b[1mtrain: \u001b[0mWARNING  C:\\Users\\aaron\\Documents\\Ao4\\TFG\\CityScapesWithPanopticSegm\\dataset\\images\\train\\darmstadt_000046_000019_gtFine_polygons.png: 1 duplicate labels removed\n",
      "\u001b[34m\u001b[1mtrain: \u001b[0mWARNING  C:\\Users\\aaron\\Documents\\Ao4\\TFG\\CityScapesWithPanopticSegm\\dataset\\images\\train\\darmstadt_000061_000019_gtFine_polygons.png: 1 duplicate labels removed\n",
      "\u001b[34m\u001b[1mtrain: \u001b[0mWARNING  C:\\Users\\aaron\\Documents\\Ao4\\TFG\\CityScapesWithPanopticSegm\\dataset\\images\\train\\darmstadt_000083_000019_gtFine_polygons.png: 1 duplicate labels removed\n",
      "\u001b[34m\u001b[1mtrain: \u001b[0mWARNING  C:\\Users\\aaron\\Documents\\Ao4\\TFG\\CityScapesWithPanopticSegm\\dataset\\images\\train\\dusseldorf_000057_000019_gtFine_polygons.png: ignoring corrupt image/label: non-normalized or out of bounds coordinates [     1.0005]\n",
      "\u001b[34m\u001b[1mtrain: \u001b[0mWARNING  C:\\Users\\aaron\\Documents\\Ao4\\TFG\\CityScapesWithPanopticSegm\\dataset\\images\\train\\dusseldorf_000068_000019_gtFine_polygons.png: ignoring corrupt image/label: non-normalized or out of bounds coordinates [     1.0005]\n",
      "\u001b[34m\u001b[1mtrain: \u001b[0mWARNING  C:\\Users\\aaron\\Documents\\Ao4\\TFG\\CityScapesWithPanopticSegm\\dataset\\images\\train\\dusseldorf_000075_000019_gtFine_polygons.png: ignoring corrupt image/label: non-normalized or out of bounds coordinates [      1.001]\n",
      "\u001b[34m\u001b[1mtrain: \u001b[0mWARNING  C:\\Users\\aaron\\Documents\\Ao4\\TFG\\CityScapesWithPanopticSegm\\dataset\\images\\train\\dusseldorf_000088_000019_gtFine_polygons.png: ignoring corrupt image/label: non-normalized or out of bounds coordinates [     1.0005]\n",
      "\u001b[34m\u001b[1mtrain: \u001b[0mWARNING  C:\\Users\\aaron\\Documents\\Ao4\\TFG\\CityScapesWithPanopticSegm\\dataset\\images\\train\\dusseldorf_000090_000019_gtFine_polygons.png: ignoring corrupt image/label: non-normalized or out of bounds coordinates [     1.0005]\n",
      "\u001b[34m\u001b[1mtrain: \u001b[0mWARNING  C:\\Users\\aaron\\Documents\\Ao4\\TFG\\CityScapesWithPanopticSegm\\dataset\\images\\train\\dusseldorf_000098_000019_gtFine_polygons.png: ignoring corrupt image/label: non-normalized or out of bounds coordinates [     1.0005]\n",
      "\u001b[34m\u001b[1mtrain: \u001b[0mWARNING  C:\\Users\\aaron\\Documents\\Ao4\\TFG\\CityScapesWithPanopticSegm\\dataset\\images\\train\\dusseldorf_000157_000019_gtFine_polygons.png: ignoring corrupt image/label: non-normalized or out of bounds coordinates [     1.0049]\n",
      "\u001b[34m\u001b[1mtrain: \u001b[0mWARNING  C:\\Users\\aaron\\Documents\\Ao4\\TFG\\CityScapesWithPanopticSegm\\dataset\\images\\train\\dusseldorf_000198_000019_gtFine_polygons.png: ignoring corrupt image/label: non-normalized or out of bounds coordinates [     1.0073]\n",
      "\u001b[34m\u001b[1mtrain: \u001b[0mWARNING  C:\\Users\\aaron\\Documents\\Ao4\\TFG\\CityScapesWithPanopticSegm\\dataset\\images\\train\\erfurt_000020_000019_gtFine_polygons.png: 1 duplicate labels removed\n",
      "\u001b[34m\u001b[1mtrain: \u001b[0mWARNING  C:\\Users\\aaron\\Documents\\Ao4\\TFG\\CityScapesWithPanopticSegm\\dataset\\images\\train\\hamburg_000000_019892_gtFine_polygons.png: 1 duplicate labels removed\n",
      "\u001b[34m\u001b[1mtrain: \u001b[0mWARNING  C:\\Users\\aaron\\Documents\\Ao4\\TFG\\CityScapesWithPanopticSegm\\dataset\\images\\train\\hamburg_000000_032906_gtFine_polygons.png: 1 duplicate labels removed\n",
      "\u001b[34m\u001b[1mtrain: \u001b[0mWARNING  C:\\Users\\aaron\\Documents\\Ao4\\TFG\\CityScapesWithPanopticSegm\\dataset\\images\\train\\hamburg_000000_033506_gtFine_polygons.png: 9 duplicate labels removed\n",
      "\u001b[34m\u001b[1mtrain: \u001b[0mWARNING  C:\\Users\\aaron\\Documents\\Ao4\\TFG\\CityScapesWithPanopticSegm\\dataset\\images\\train\\hamburg_000000_035568_gtFine_polygons.png: 1 duplicate labels removed\n",
      "\u001b[34m\u001b[1mtrain: \u001b[0mWARNING  C:\\Users\\aaron\\Documents\\Ao4\\TFG\\CityScapesWithPanopticSegm\\dataset\\images\\train\\hamburg_000000_039420_gtFine_polygons.png: 1 duplicate labels removed\n",
      "\u001b[34m\u001b[1mtrain: \u001b[0mWARNING  C:\\Users\\aaron\\Documents\\Ao4\\TFG\\CityScapesWithPanopticSegm\\dataset\\images\\train\\hamburg_000000_041667_gtFine_polygons.png: 1 duplicate labels removed\n",
      "\u001b[34m\u001b[1mtrain: \u001b[0mWARNING  C:\\Users\\aaron\\Documents\\Ao4\\TFG\\CityScapesWithPanopticSegm\\dataset\\images\\train\\hamburg_000000_053886_gtFine_polygons.png: 1 duplicate labels removed\n",
      "\u001b[34m\u001b[1mtrain: \u001b[0mWARNING  C:\\Users\\aaron\\Documents\\Ao4\\TFG\\CityScapesWithPanopticSegm\\dataset\\images\\train\\hamburg_000000_071016_gtFine_polygons.png: 1 duplicate labels removed\n",
      "\u001b[34m\u001b[1mtrain: \u001b[0mWARNING  C:\\Users\\aaron\\Documents\\Ao4\\TFG\\CityScapesWithPanopticSegm\\dataset\\images\\train\\hamburg_000000_080438_gtFine_polygons.png: 1 duplicate labels removed\n",
      "\u001b[34m\u001b[1mtrain: \u001b[0mWARNING  C:\\Users\\aaron\\Documents\\Ao4\\TFG\\CityScapesWithPanopticSegm\\dataset\\images\\train\\hanover_000000_012347_gtFine_polygons.png: 1 duplicate labels removed\n",
      "\u001b[34m\u001b[1mtrain: \u001b[0mWARNING  C:\\Users\\aaron\\Documents\\Ao4\\TFG\\CityScapesWithPanopticSegm\\dataset\\images\\train\\hanover_000000_014537_gtFine_polygons.png: 1 duplicate labels removed\n",
      "\u001b[34m\u001b[1mtrain: \u001b[0mWARNING  C:\\Users\\aaron\\Documents\\Ao4\\TFG\\CityScapesWithPanopticSegm\\dataset\\images\\train\\hanover_000000_015587_gtFine_polygons.png: 1 duplicate labels removed\n",
      "\u001b[34m\u001b[1mtrain: \u001b[0mWARNING  C:\\Users\\aaron\\Documents\\Ao4\\TFG\\CityScapesWithPanopticSegm\\dataset\\images\\train\\hanover_000000_018800_gtFine_polygons.png: 3 duplicate labels removed\n",
      "\u001b[34m\u001b[1mtrain: \u001b[0mWARNING  C:\\Users\\aaron\\Documents\\Ao4\\TFG\\CityScapesWithPanopticSegm\\dataset\\images\\train\\hanover_000000_019116_gtFine_polygons.png: 4 duplicate labels removed\n",
      "\u001b[34m\u001b[1mtrain: \u001b[0mWARNING  C:\\Users\\aaron\\Documents\\Ao4\\TFG\\CityScapesWithPanopticSegm\\dataset\\images\\train\\hanover_000000_019282_gtFine_polygons.png: 2 duplicate labels removed\n",
      "\u001b[34m\u001b[1mtrain: \u001b[0mWARNING  C:\\Users\\aaron\\Documents\\Ao4\\TFG\\CityScapesWithPanopticSegm\\dataset\\images\\train\\hanover_000000_019456_gtFine_polygons.png: 1 duplicate labels removed\n",
      "\u001b[34m\u001b[1mtrain: \u001b[0mWARNING  C:\\Users\\aaron\\Documents\\Ao4\\TFG\\CityScapesWithPanopticSegm\\dataset\\images\\train\\hanover_000000_019672_gtFine_polygons.png: 1 duplicate labels removed\n",
      "\u001b[34m\u001b[1mtrain: \u001b[0mWARNING  C:\\Users\\aaron\\Documents\\Ao4\\TFG\\CityScapesWithPanopticSegm\\dataset\\images\\train\\hanover_000000_022645_gtFine_polygons.png: 4 duplicate labels removed\n",
      "\u001b[34m\u001b[1mtrain: \u001b[0mWARNING  C:\\Users\\aaron\\Documents\\Ao4\\TFG\\CityScapesWithPanopticSegm\\dataset\\images\\train\\hanover_000000_026356_gtFine_polygons.png: 1 duplicate labels removed\n",
      "\u001b[34m\u001b[1mtrain: \u001b[0mWARNING  C:\\Users\\aaron\\Documents\\Ao4\\TFG\\CityScapesWithPanopticSegm\\dataset\\images\\train\\hanover_000000_034015_gtFine_polygons.png: 2 duplicate labels removed\n",
      "\u001b[34m\u001b[1mtrain: \u001b[0mWARNING  C:\\Users\\aaron\\Documents\\Ao4\\TFG\\CityScapesWithPanopticSegm\\dataset\\images\\train\\hanover_000000_034141_gtFine_polygons.png: 2 duplicate labels removed\n",
      "\u001b[34m\u001b[1mtrain: \u001b[0mWARNING  C:\\Users\\aaron\\Documents\\Ao4\\TFG\\CityScapesWithPanopticSegm\\dataset\\images\\train\\hanover_000000_036051_gtFine_polygons.png: 1 duplicate labels removed\n",
      "\u001b[34m\u001b[1mtrain: \u001b[0mWARNING  C:\\Users\\aaron\\Documents\\Ao4\\TFG\\CityScapesWithPanopticSegm\\dataset\\images\\train\\hanover_000000_047499_gtFine_polygons.png: 1 duplicate labels removed\n",
      "\u001b[34m\u001b[1mtrain: \u001b[0mWARNING  C:\\Users\\aaron\\Documents\\Ao4\\TFG\\CityScapesWithPanopticSegm\\dataset\\images\\train\\hanover_000000_047870_gtFine_polygons.png: 1 duplicate labels removed\n",
      "\u001b[34m\u001b[1mtrain: \u001b[0mWARNING  C:\\Users\\aaron\\Documents\\Ao4\\TFG\\CityScapesWithPanopticSegm\\dataset\\images\\train\\hanover_000000_051152_gtFine_polygons.png: 2 duplicate labels removed\n",
      "\u001b[34m\u001b[1mtrain: \u001b[0mWARNING  C:\\Users\\aaron\\Documents\\Ao4\\TFG\\CityScapesWithPanopticSegm\\dataset\\images\\train\\hanover_000000_051536_gtFine_polygons.png: 2 duplicate labels removed\n",
      "\u001b[34m\u001b[1mtrain: \u001b[0mWARNING  C:\\Users\\aaron\\Documents\\Ao4\\TFG\\CityScapesWithPanopticSegm\\dataset\\images\\train\\hanover_000000_052512_gtFine_polygons.png: 1 duplicate labels removed\n",
      "\u001b[34m\u001b[1mtrain: \u001b[0mWARNING  C:\\Users\\aaron\\Documents\\Ao4\\TFG\\CityScapesWithPanopticSegm\\dataset\\images\\train\\hanover_000000_053027_gtFine_polygons.png: 1 duplicate labels removed\n",
      "\u001b[34m\u001b[1mtrain: \u001b[0mWARNING  C:\\Users\\aaron\\Documents\\Ao4\\TFG\\CityScapesWithPanopticSegm\\dataset\\images\\train\\hanover_000000_056800_gtFine_polygons.png: 1 duplicate labels removed\n",
      "\u001b[34m\u001b[1mtrain: \u001b[0mWARNING  C:\\Users\\aaron\\Documents\\Ao4\\TFG\\CityScapesWithPanopticSegm\\dataset\\images\\train\\jena_000059_000019_gtFine_polygons.png: ignoring corrupt image/label: non-normalized or out of bounds coordinates [     1.0005]\n",
      "\u001b[34m\u001b[1mtrain: \u001b[0mWARNING  C:\\Users\\aaron\\Documents\\Ao4\\TFG\\CityScapesWithPanopticSegm\\dataset\\images\\train\\krefeld_000000_004608_gtFine_polygons.png: 2 duplicate labels removed\n",
      "\u001b[34m\u001b[1mtrain: \u001b[0mWARNING  C:\\Users\\aaron\\Documents\\Ao4\\TFG\\CityScapesWithPanopticSegm\\dataset\\images\\train\\krefeld_000000_011655_gtFine_polygons.png: 1 duplicate labels removed\n",
      "\u001b[34m\u001b[1mtrain: \u001b[0mWARNING  C:\\Users\\aaron\\Documents\\Ao4\\TFG\\CityScapesWithPanopticSegm\\dataset\\images\\train\\krefeld_000000_013766_gtFine_polygons.png: 1 duplicate labels removed\n",
      "\u001b[34m\u001b[1mtrain: \u001b[0mWARNING  C:\\Users\\aaron\\Documents\\Ao4\\TFG\\CityScapesWithPanopticSegm\\dataset\\images\\train\\krefeld_000000_020933_gtFine_polygons.png: 1 duplicate labels removed\n",
      "\u001b[34m\u001b[1mtrain: \u001b[0mWARNING  C:\\Users\\aaron\\Documents\\Ao4\\TFG\\CityScapesWithPanopticSegm\\dataset\\images\\train\\strasbourg_000000_013654_gtFine_polygons.png: 1 duplicate labels removed\n",
      "\u001b[34m\u001b[1mtrain: \u001b[0mWARNING  C:\\Users\\aaron\\Documents\\Ao4\\TFG\\CityScapesWithPanopticSegm\\dataset\\images\\train\\strasbourg_000000_014503_gtFine_polygons.png: 1 duplicate labels removed\n",
      "\u001b[34m\u001b[1mtrain: \u001b[0mWARNING  C:\\Users\\aaron\\Documents\\Ao4\\TFG\\CityScapesWithPanopticSegm\\dataset\\images\\train\\strasbourg_000001_030539_gtFine_polygons.png: 1 duplicate labels removed\n",
      "\u001b[34m\u001b[1mtrain: \u001b[0mWARNING  C:\\Users\\aaron\\Documents\\Ao4\\TFG\\CityScapesWithPanopticSegm\\dataset\\images\\train\\strasbourg_000001_030997_gtFine_polygons.png: 1 duplicate labels removed\n",
      "\u001b[34m\u001b[1mtrain: \u001b[0mWARNING  C:\\Users\\aaron\\Documents\\Ao4\\TFG\\CityScapesWithPanopticSegm\\dataset\\images\\train\\strasbourg_000001_031582_gtFine_polygons.png: 1 duplicate labels removed\n",
      "\u001b[34m\u001b[1mtrain: \u001b[0mWARNING  C:\\Users\\aaron\\Documents\\Ao4\\TFG\\CityScapesWithPanopticSegm\\dataset\\images\\train\\strasbourg_000001_051317_gtFine_polygons.png: 1 duplicate labels removed\n",
      "\u001b[34m\u001b[1mtrain: \u001b[0mWARNING  C:\\Users\\aaron\\Documents\\Ao4\\TFG\\CityScapesWithPanopticSegm\\dataset\\images\\train\\strasbourg_000001_052050_gtFine_polygons.png: 1 duplicate labels removed\n",
      "\u001b[34m\u001b[1mtrain: \u001b[0mWARNING  C:\\Users\\aaron\\Documents\\Ao4\\TFG\\CityScapesWithPanopticSegm\\dataset\\images\\train\\strasbourg_000001_058373_gtFine_polygons.png: 14 duplicate labels removed\n",
      "\u001b[34m\u001b[1mtrain: \u001b[0mWARNING  C:\\Users\\aaron\\Documents\\Ao4\\TFG\\CityScapesWithPanopticSegm\\dataset\\images\\train\\strasbourg_000001_058954_gtFine_polygons.png: 1 duplicate labels removed\n",
      "\u001b[34m\u001b[1mtrain: \u001b[0mWARNING  C:\\Users\\aaron\\Documents\\Ao4\\TFG\\CityScapesWithPanopticSegm\\dataset\\images\\train\\strasbourg_000001_062691_gtFine_polygons.png: 1 duplicate labels removed\n",
      "\u001b[34m\u001b[1mtrain: \u001b[0mWARNING  C:\\Users\\aaron\\Documents\\Ao4\\TFG\\CityScapesWithPanopticSegm\\dataset\\images\\train\\strasbourg_000001_064224_gtFine_polygons.png: 2 duplicate labels removed\n",
      "\u001b[34m\u001b[1mtrain: \u001b[0mWARNING  C:\\Users\\aaron\\Documents\\Ao4\\TFG\\CityScapesWithPanopticSegm\\dataset\\images\\train\\strasbourg_000001_064393_gtFine_polygons.png: 1 duplicate labels removed\n",
      "\u001b[34m\u001b[1mtrain: \u001b[0mWARNING  C:\\Users\\aaron\\Documents\\Ao4\\TFG\\CityScapesWithPanopticSegm\\dataset\\images\\train\\stuttgart_000002_000019_gtFine_polygons.png: ignoring corrupt image/label: non-normalized or out of bounds coordinates [     1.0005]\n",
      "\u001b[34m\u001b[1mtrain: \u001b[0mWARNING  C:\\Users\\aaron\\Documents\\Ao4\\TFG\\CityScapesWithPanopticSegm\\dataset\\images\\train\\stuttgart_000005_000019_gtFine_polygons.png: ignoring corrupt image/label: non-normalized or out of bounds coordinates [      1.001]\n",
      "\u001b[34m\u001b[1mtrain: \u001b[0mWARNING  C:\\Users\\aaron\\Documents\\Ao4\\TFG\\CityScapesWithPanopticSegm\\dataset\\images\\train\\stuttgart_000006_000019_gtFine_polygons.png: 1 duplicate labels removed\n",
      "\u001b[34m\u001b[1mtrain: \u001b[0mWARNING  C:\\Users\\aaron\\Documents\\Ao4\\TFG\\CityScapesWithPanopticSegm\\dataset\\images\\train\\stuttgart_000068_000019_gtFine_polygons.png: 1 duplicate labels removed\n",
      "\u001b[34m\u001b[1mtrain: \u001b[0mWARNING  C:\\Users\\aaron\\Documents\\Ao4\\TFG\\CityScapesWithPanopticSegm\\dataset\\images\\train\\stuttgart_000109_000019_gtFine_polygons.png: 1 duplicate labels removed\n",
      "\u001b[34m\u001b[1mtrain: \u001b[0mWARNING  C:\\Users\\aaron\\Documents\\Ao4\\TFG\\CityScapesWithPanopticSegm\\dataset\\images\\train\\stuttgart_000120_000019_gtFine_polygons.png: 2 duplicate labels removed\n",
      "\u001b[34m\u001b[1mtrain: \u001b[0mWARNING  C:\\Users\\aaron\\Documents\\Ao4\\TFG\\CityScapesWithPanopticSegm\\dataset\\images\\train\\stuttgart_000168_000019_gtFine_polygons.png: 1 duplicate labels removed\n",
      "\u001b[34m\u001b[1mtrain: \u001b[0mWARNING  C:\\Users\\aaron\\Documents\\Ao4\\TFG\\CityScapesWithPanopticSegm\\dataset\\images\\train\\stuttgart_000175_000019_gtFine_polygons.png: 2 duplicate labels removed\n",
      "\u001b[34m\u001b[1mtrain: \u001b[0mWARNING  C:\\Users\\aaron\\Documents\\Ao4\\TFG\\CityScapesWithPanopticSegm\\dataset\\images\\train\\stuttgart_000184_000019_gtFine_polygons.png: 2 duplicate labels removed\n",
      "\u001b[34m\u001b[1mtrain: \u001b[0mWARNING  C:\\Users\\aaron\\Documents\\Ao4\\TFG\\CityScapesWithPanopticSegm\\dataset\\images\\train\\tubingen_000008_000019_gtFine_polygons.png: 1 duplicate labels removed\n",
      "\u001b[34m\u001b[1mtrain: \u001b[0mWARNING  C:\\Users\\aaron\\Documents\\Ao4\\TFG\\CityScapesWithPanopticSegm\\dataset\\images\\train\\tubingen_000089_000019_gtFine_polygons.png: 1 duplicate labels removed\n",
      "\u001b[34m\u001b[1mtrain: \u001b[0mWARNING  C:\\Users\\aaron\\Documents\\Ao4\\TFG\\CityScapesWithPanopticSegm\\dataset\\images\\train\\tubingen_000118_000019_gtFine_polygons.png: 6 duplicate labels removed\n",
      "\u001b[34m\u001b[1mtrain: \u001b[0mWARNING  C:\\Users\\aaron\\Documents\\Ao4\\TFG\\CityScapesWithPanopticSegm\\dataset\\images\\train\\ulm_000004_000019_gtFine_polygons.png: 2 duplicate labels removed\n",
      "\u001b[34m\u001b[1mtrain: \u001b[0mWARNING  C:\\Users\\aaron\\Documents\\Ao4\\TFG\\CityScapesWithPanopticSegm\\dataset\\images\\train\\ulm_000005_000019_gtFine_polygons.png: 4 duplicate labels removed\n",
      "\u001b[34m\u001b[1mtrain: \u001b[0mWARNING  C:\\Users\\aaron\\Documents\\Ao4\\TFG\\CityScapesWithPanopticSegm\\dataset\\images\\train\\ulm_000006_000019_gtFine_polygons.png: 8 duplicate labels removed\n",
      "\u001b[34m\u001b[1mtrain: \u001b[0mWARNING  C:\\Users\\aaron\\Documents\\Ao4\\TFG\\CityScapesWithPanopticSegm\\dataset\\images\\train\\ulm_000011_000019_gtFine_polygons.png: 1 duplicate labels removed\n",
      "\u001b[34m\u001b[1mtrain: \u001b[0mWARNING  C:\\Users\\aaron\\Documents\\Ao4\\TFG\\CityScapesWithPanopticSegm\\dataset\\images\\train\\ulm_000012_000019_gtFine_polygons.png: 2 duplicate labels removed\n",
      "\u001b[34m\u001b[1mtrain: \u001b[0mWARNING  C:\\Users\\aaron\\Documents\\Ao4\\TFG\\CityScapesWithPanopticSegm\\dataset\\images\\train\\ulm_000013_000019_gtFine_polygons.png: 2 duplicate labels removed\n",
      "\u001b[34m\u001b[1mtrain: \u001b[0mWARNING  C:\\Users\\aaron\\Documents\\Ao4\\TFG\\CityScapesWithPanopticSegm\\dataset\\images\\train\\ulm_000017_000019_gtFine_polygons.png: 2 duplicate labels removed\n",
      "\u001b[34m\u001b[1mtrain: \u001b[0mWARNING  C:\\Users\\aaron\\Documents\\Ao4\\TFG\\CityScapesWithPanopticSegm\\dataset\\images\\train\\ulm_000024_000019_gtFine_polygons.png: 2 duplicate labels removed\n",
      "\u001b[34m\u001b[1mtrain: \u001b[0mWARNING  C:\\Users\\aaron\\Documents\\Ao4\\TFG\\CityScapesWithPanopticSegm\\dataset\\images\\train\\ulm_000025_000019_gtFine_polygons.png: 3 duplicate labels removed\n",
      "\u001b[34m\u001b[1mtrain: \u001b[0mWARNING  C:\\Users\\aaron\\Documents\\Ao4\\TFG\\CityScapesWithPanopticSegm\\dataset\\images\\train\\ulm_000037_000019_gtFine_polygons.png: 1 duplicate labels removed\n",
      "\u001b[34m\u001b[1mtrain: \u001b[0mWARNING  C:\\Users\\aaron\\Documents\\Ao4\\TFG\\CityScapesWithPanopticSegm\\dataset\\images\\train\\ulm_000056_000019_gtFine_polygons.png: 2 duplicate labels removed\n",
      "\u001b[34m\u001b[1mtrain: \u001b[0mWARNING  C:\\Users\\aaron\\Documents\\Ao4\\TFG\\CityScapesWithPanopticSegm\\dataset\\images\\train\\ulm_000058_000019_gtFine_polygons.png: 3 duplicate labels removed\n",
      "\u001b[34m\u001b[1mtrain: \u001b[0mWARNING  C:\\Users\\aaron\\Documents\\Ao4\\TFG\\CityScapesWithPanopticSegm\\dataset\\images\\train\\ulm_000067_000019_gtFine_polygons.png: 3 duplicate labels removed\n",
      "\u001b[34m\u001b[1mtrain: \u001b[0mWARNING  C:\\Users\\aaron\\Documents\\Ao4\\TFG\\CityScapesWithPanopticSegm\\dataset\\images\\train\\ulm_000068_000019_gtFine_polygons.png: 3 duplicate labels removed\n",
      "\u001b[34m\u001b[1mtrain: \u001b[0mWARNING  C:\\Users\\aaron\\Documents\\Ao4\\TFG\\CityScapesWithPanopticSegm\\dataset\\images\\train\\ulm_000069_000019_gtFine_polygons.png: 3 duplicate labels removed\n",
      "\u001b[34m\u001b[1mtrain: \u001b[0mWARNING  C:\\Users\\aaron\\Documents\\Ao4\\TFG\\CityScapesWithPanopticSegm\\dataset\\images\\train\\ulm_000078_000019_gtFine_polygons.png: 1 duplicate labels removed\n",
      "\u001b[34m\u001b[1mtrain: \u001b[0mWARNING  C:\\Users\\aaron\\Documents\\Ao4\\TFG\\CityScapesWithPanopticSegm\\dataset\\images\\train\\ulm_000079_000019_gtFine_polygons.png: 1 duplicate labels removed\n",
      "\u001b[34m\u001b[1mtrain: \u001b[0mWARNING  C:\\Users\\aaron\\Documents\\Ao4\\TFG\\CityScapesWithPanopticSegm\\dataset\\images\\train\\ulm_000084_000019_gtFine_polygons.png: 2 duplicate labels removed\n",
      "\u001b[34m\u001b[1mtrain: \u001b[0mWARNING  C:\\Users\\aaron\\Documents\\Ao4\\TFG\\CityScapesWithPanopticSegm\\dataset\\images\\train\\weimar_000013_000019_gtFine_polygons.png: ignoring corrupt image/label: non-normalized or out of bounds coordinates [      1.001]\n",
      "\u001b[34m\u001b[1mtrain: \u001b[0mWARNING  C:\\Users\\aaron\\Documents\\Ao4\\TFG\\CityScapesWithPanopticSegm\\dataset\\images\\train\\zurich_000002_000019_gtFine_polygons.png: ignoring corrupt image/label: non-normalized or out of bounds coordinates [     1.0005]\n",
      "\u001b[34m\u001b[1mtrain: \u001b[0mWARNING  C:\\Users\\aaron\\Documents\\Ao4\\TFG\\CityScapesWithPanopticSegm\\dataset\\images\\train\\zurich_000027_000019_gtFine_polygons.png: 1 duplicate labels removed\n",
      "\u001b[34m\u001b[1mtrain: \u001b[0mWARNING  C:\\Users\\aaron\\Documents\\Ao4\\TFG\\CityScapesWithPanopticSegm\\dataset\\images\\train\\zurich_000107_000019_gtFine_polygons.png: 1 duplicate labels removed\n"
     ]
    },
    {
     "name": "stderr",
     "output_type": "stream",
     "text": [
      "\n",
      "\u001b[34m\u001b[1mval: \u001b[0mScanning C:\\Users\\aaron\\Documents\\Año4\\TFG\\CityScapesWithPanopticSegm\\dataset\\labels\\val.cache... 500 images, 0 backgrounds, 5 corrupt: 100%|██████████| 500/500 [00:00<?, ?it/s]"
     ]
    },
    {
     "name": "stdout",
     "output_type": "stream",
     "text": [
      "\u001b[34m\u001b[1mval: \u001b[0mWARNING  C:\\Users\\aaron\\Documents\\Ao4\\TFG\\CityScapesWithPanopticSegm\\dataset\\images\\val\\frankfurt_000001_016273_gtFine_polygons.png: 1 duplicate labels removed\n",
      "\u001b[34m\u001b[1mval: \u001b[0mWARNING  C:\\Users\\aaron\\Documents\\Ao4\\TFG\\CityScapesWithPanopticSegm\\dataset\\images\\val\\frankfurt_000001_017101_gtFine_polygons.png: 1 duplicate labels removed\n",
      "\u001b[34m\u001b[1mval: \u001b[0mWARNING  C:\\Users\\aaron\\Documents\\Ao4\\TFG\\CityScapesWithPanopticSegm\\dataset\\images\\val\\frankfurt_000001_028232_gtFine_polygons.png: 1 duplicate labels removed\n",
      "\u001b[34m\u001b[1mval: \u001b[0mWARNING  C:\\Users\\aaron\\Documents\\Ao4\\TFG\\CityScapesWithPanopticSegm\\dataset\\images\\val\\frankfurt_000001_046272_gtFine_polygons.png: 1 duplicate labels removed\n",
      "\u001b[34m\u001b[1mval: \u001b[0mWARNING  C:\\Users\\aaron\\Documents\\Ao4\\TFG\\CityScapesWithPanopticSegm\\dataset\\images\\val\\frankfurt_000001_077434_gtFine_polygons.png: 1 duplicate labels removed\n",
      "\u001b[34m\u001b[1mval: \u001b[0mWARNING  C:\\Users\\aaron\\Documents\\Ao4\\TFG\\CityScapesWithPanopticSegm\\dataset\\images\\val\\lindau_000000_000019_gtFine_polygons.png: ignoring corrupt image/label: non-normalized or out of bounds coordinates [     1.0034]\n",
      "\u001b[34m\u001b[1mval: \u001b[0mWARNING  C:\\Users\\aaron\\Documents\\Ao4\\TFG\\CityScapesWithPanopticSegm\\dataset\\images\\val\\lindau_000013_000019_gtFine_polygons.png: ignoring corrupt image/label: non-normalized or out of bounds coordinates [     1.0005]\n",
      "\u001b[34m\u001b[1mval: \u001b[0mWARNING  C:\\Users\\aaron\\Documents\\Ao4\\TFG\\CityScapesWithPanopticSegm\\dataset\\images\\val\\lindau_000018_000019_gtFine_polygons.png: ignoring corrupt image/label: non-normalized or out of bounds coordinates [      1.001]\n",
      "\u001b[34m\u001b[1mval: \u001b[0mWARNING  C:\\Users\\aaron\\Documents\\Ao4\\TFG\\CityScapesWithPanopticSegm\\dataset\\images\\val\\munster_000026_000019_gtFine_polygons.png: 2 duplicate labels removed\n",
      "\u001b[34m\u001b[1mval: \u001b[0mWARNING  C:\\Users\\aaron\\Documents\\Ao4\\TFG\\CityScapesWithPanopticSegm\\dataset\\images\\val\\munster_000029_000019_gtFine_polygons.png: 1 duplicate labels removed\n",
      "\u001b[34m\u001b[1mval: \u001b[0mWARNING  C:\\Users\\aaron\\Documents\\Ao4\\TFG\\CityScapesWithPanopticSegm\\dataset\\images\\val\\munster_000035_000019_gtFine_polygons.png: ignoring corrupt image/label: non-normalized or out of bounds coordinates [     1.0005]\n",
      "\u001b[34m\u001b[1mval: \u001b[0mWARNING  C:\\Users\\aaron\\Documents\\Ao4\\TFG\\CityScapesWithPanopticSegm\\dataset\\images\\val\\munster_000045_000019_gtFine_polygons.png: ignoring corrupt image/label: non-normalized or out of bounds coordinates [     1.0005]\n",
      "\u001b[34m\u001b[1mval: \u001b[0mWARNING  C:\\Users\\aaron\\Documents\\Ao4\\TFG\\CityScapesWithPanopticSegm\\dataset\\images\\val\\munster_000049_000019_gtFine_polygons.png: 1 duplicate labels removed\n",
      "\u001b[34m\u001b[1mval: \u001b[0mWARNING  C:\\Users\\aaron\\Documents\\Ao4\\TFG\\CityScapesWithPanopticSegm\\dataset\\images\\val\\munster_000108_000019_gtFine_polygons.png: 1 duplicate labels removed\n",
      "\u001b[34m\u001b[1mval: \u001b[0mWARNING  C:\\Users\\aaron\\Documents\\Ao4\\TFG\\CityScapesWithPanopticSegm\\dataset\\images\\val\\munster_000140_000019_gtFine_polygons.png: 1 duplicate labels removed\n",
      "\u001b[34m\u001b[1mval: \u001b[0mWARNING  C:\\Users\\aaron\\Documents\\Ao4\\TFG\\CityScapesWithPanopticSegm\\dataset\\images\\val\\munster_000141_000019_gtFine_polygons.png: 1 duplicate labels removed\n",
      "\u001b[34m\u001b[1mval: \u001b[0mWARNING  C:\\Users\\aaron\\Documents\\Ao4\\TFG\\CityScapesWithPanopticSegm\\dataset\\images\\val\\munster_000142_000019_gtFine_polygons.png: 1 duplicate labels removed\n",
      "\u001b[34m\u001b[1mval: \u001b[0mWARNING  C:\\Users\\aaron\\Documents\\Ao4\\TFG\\CityScapesWithPanopticSegm\\dataset\\images\\val\\munster_000167_000019_gtFine_polygons.png: 1 duplicate labels removed\n"
     ]
    },
    {
     "name": "stderr",
     "output_type": "stream",
     "text": [
      "\n"
     ]
    },
    {
     "name": "stdout",
     "output_type": "stream",
     "text": [
      "Plotting labels to runs\\segment\\train56\\labels.jpg... \n",
      "\u001b[34m\u001b[1moptimizer:\u001b[0m 'optimizer=auto' found, ignoring 'lr0=0.001' and 'momentum=0.937' and determining best 'optimizer', 'lr0' and 'momentum' automatically... \n",
      "\u001b[34m\u001b[1moptimizer:\u001b[0m AdamW(lr=0.000588, momentum=0.9) with parameter groups 106 weight(decay=0.0), 117 weight(decay=0.0004), 116 bias(decay=0.0)\n",
      "Image sizes 640 train, 640 val\n",
      "Using 0 dataloader workers\n",
      "Logging results to \u001b[1mruns\\segment\\train56\u001b[0m\n",
      "Starting training for 50 epochs...\n",
      "\n",
      "      Epoch    GPU_mem   box_loss   seg_loss   cls_loss   dfl_loss  Instances       Size\n"
     ]
    },
    {
     "name": "stderr",
     "output_type": "stream",
     "text": [
      "       1/50      5.32G      1.686      3.484      1.656      1.505        885        640: 100%|██████████| 369/369 [14:03<00:00,  2.29s/it]\n",
      "                 Class     Images  Instances      Box(P          R      mAP50  mAP50-95)     Mask(P          R      mAP50  mAP50-95): 100%|██████████| 31/31 [00:55<00:00,  1.78s/it]"
     ]
    },
    {
     "name": "stdout",
     "output_type": "stream",
     "text": [
      "                   all        495      23219      0.573      0.443       0.45      0.284      0.521      0.388      0.368      0.193\n"
     ]
    },
    {
     "name": "stderr",
     "output_type": "stream",
     "text": [
      "\n"
     ]
    },
    {
     "name": "stdout",
     "output_type": "stream",
     "text": [
      "\n",
      "      Epoch    GPU_mem   box_loss   seg_loss   cls_loss   dfl_loss  Instances       Size\n"
     ]
    },
    {
     "name": "stderr",
     "output_type": "stream",
     "text": [
      "       2/50      6.49G      1.616       3.23      1.361      1.447        427        640: 100%|██████████| 369/369 [13:49<00:00,  2.25s/it]\n",
      "                 Class     Images  Instances      Box(P          R      mAP50  mAP50-95)     Mask(P          R      mAP50  mAP50-95): 100%|██████████| 31/31 [00:54<00:00,  1.77s/it]\n"
     ]
    },
    {
     "name": "stdout",
     "output_type": "stream",
     "text": [
      "                   all        495      23219      0.592      0.452       0.48      0.293      0.543      0.385      0.393      0.201\n",
      "\n",
      "      Epoch    GPU_mem   box_loss   seg_loss   cls_loss   dfl_loss  Instances       Size\n"
     ]
    },
    {
     "name": "stderr",
     "output_type": "stream",
     "text": [
      "       3/50      6.04G      1.601      3.178      1.309      1.436        414        640: 100%|██████████| 369/369 [13:38<00:00,  2.22s/it]\n",
      "                 Class     Images  Instances      Box(P          R      mAP50  mAP50-95)     Mask(P          R      mAP50  mAP50-95): 100%|██████████| 31/31 [00:55<00:00,  1.78s/it]\n"
     ]
    },
    {
     "name": "stdout",
     "output_type": "stream",
     "text": [
      "                   all        495      23219      0.672      0.414      0.474      0.293      0.618      0.358      0.391      0.201\n",
      "\n",
      "      Epoch    GPU_mem   box_loss   seg_loss   cls_loss   dfl_loss  Instances       Size\n"
     ]
    },
    {
     "name": "stderr",
     "output_type": "stream",
     "text": [
      "       4/50      5.58G      1.574      3.141      1.282      1.424        427        640: 100%|██████████| 369/369 [13:42<00:00,  2.23s/it]\n",
      "                 Class     Images  Instances      Box(P          R      mAP50  mAP50-95)     Mask(P          R      mAP50  mAP50-95): 100%|██████████| 31/31 [00:55<00:00,  1.78s/it]\n"
     ]
    },
    {
     "name": "stdout",
     "output_type": "stream",
     "text": [
      "                   all        495      23219      0.594      0.454      0.482      0.301      0.547       0.39      0.395      0.205\n",
      "\n",
      "      Epoch    GPU_mem   box_loss   seg_loss   cls_loss   dfl_loss  Instances       Size\n"
     ]
    },
    {
     "name": "stderr",
     "output_type": "stream",
     "text": [
      "       5/50      5.02G      1.542       3.07      1.233      1.403        756        640: 100%|██████████| 369/369 [13:36<00:00,  2.21s/it]\n",
      "                 Class     Images  Instances      Box(P          R      mAP50  mAP50-95)     Mask(P          R      mAP50  mAP50-95): 100%|██████████| 31/31 [00:54<00:00,  1.77s/it]"
     ]
    },
    {
     "name": "stdout",
     "output_type": "stream",
     "text": [
      "                   all        495      23219      0.563      0.484      0.494      0.312      0.503       0.42      0.415      0.215\n"
     ]
    },
    {
     "name": "stderr",
     "output_type": "stream",
     "text": [
      "\n"
     ]
    },
    {
     "name": "stdout",
     "output_type": "stream",
     "text": [
      "\n",
      "      Epoch    GPU_mem   box_loss   seg_loss   cls_loss   dfl_loss  Instances       Size\n"
     ]
    },
    {
     "name": "stderr",
     "output_type": "stream",
     "text": [
      "       6/50      6.24G      1.517      3.038      1.207      1.386        577        640: 100%|██████████| 369/369 [13:27<00:00,  2.19s/it]\n",
      "                 Class     Images  Instances      Box(P          R      mAP50  mAP50-95)     Mask(P          R      mAP50  mAP50-95): 100%|██████████| 31/31 [00:54<00:00,  1.77s/it]"
     ]
    },
    {
     "name": "stdout",
     "output_type": "stream",
     "text": [
      "                   all        495      23219       0.61      0.484      0.507      0.313      0.569      0.406      0.415      0.224\n"
     ]
    },
    {
     "name": "stderr",
     "output_type": "stream",
     "text": [
      "\n"
     ]
    },
    {
     "name": "stdout",
     "output_type": "stream",
     "text": [
      "\n",
      "      Epoch    GPU_mem   box_loss   seg_loss   cls_loss   dfl_loss  Instances       Size\n"
     ]
    },
    {
     "name": "stderr",
     "output_type": "stream",
     "text": [
      "       7/50       6.7G      1.504      3.019      1.188      1.377        644        640: 100%|██████████| 369/369 [13:58<00:00,  2.27s/it]\n",
      "                 Class     Images  Instances      Box(P          R      mAP50  mAP50-95)     Mask(P          R      mAP50  mAP50-95): 100%|██████████| 31/31 [00:56<00:00,  1.83s/it]\n"
     ]
    },
    {
     "name": "stdout",
     "output_type": "stream",
     "text": [
      "                   all        495      23219       0.63      0.473      0.512      0.324      0.568      0.424      0.434       0.23\n",
      "\n",
      "      Epoch    GPU_mem   box_loss   seg_loss   cls_loss   dfl_loss  Instances       Size\n"
     ]
    },
    {
     "name": "stderr",
     "output_type": "stream",
     "text": [
      "       8/50       5.8G      1.504      3.019      1.188      1.379        517        640: 100%|██████████| 369/369 [13:45<00:00,  2.24s/it]\n",
      "                 Class     Images  Instances      Box(P          R      mAP50  mAP50-95)     Mask(P          R      mAP50  mAP50-95): 100%|██████████| 31/31 [00:55<00:00,  1.78s/it]\n"
     ]
    },
    {
     "name": "stdout",
     "output_type": "stream",
     "text": [
      "                   all        495      23219      0.616      0.473      0.497      0.317      0.557      0.419      0.421      0.224\n",
      "\n",
      "      Epoch    GPU_mem   box_loss   seg_loss   cls_loss   dfl_loss  Instances       Size\n"
     ]
    },
    {
     "name": "stderr",
     "output_type": "stream",
     "text": [
      "       9/50      6.06G      1.482      2.984      1.162      1.361        281        640: 100%|██████████| 369/369 [13:41<00:00,  2.23s/it]\n",
      "                 Class     Images  Instances      Box(P          R      mAP50  mAP50-95)     Mask(P          R      mAP50  mAP50-95): 100%|██████████| 31/31 [00:55<00:00,  1.78s/it]\n"
     ]
    },
    {
     "name": "stdout",
     "output_type": "stream",
     "text": [
      "                   all        495      23219      0.621      0.497      0.517      0.324      0.575      0.434      0.439      0.238\n",
      "\n",
      "      Epoch    GPU_mem   box_loss   seg_loss   cls_loss   dfl_loss  Instances       Size\n"
     ]
    },
    {
     "name": "stderr",
     "output_type": "stream",
     "text": [
      "      10/50       5.6G      1.462       2.93      1.141      1.353        740        640: 100%|██████████| 369/369 [13:18<00:00,  2.16s/it]\n",
      "                 Class     Images  Instances      Box(P          R      mAP50  mAP50-95)     Mask(P          R      mAP50  mAP50-95): 100%|██████████| 31/31 [00:54<00:00,  1.77s/it]\n"
     ]
    },
    {
     "name": "stdout",
     "output_type": "stream",
     "text": [
      "                   all        495      23219      0.664      0.484       0.52       0.33      0.611      0.424      0.436      0.232\n",
      "\n",
      "      Epoch    GPU_mem   box_loss   seg_loss   cls_loss   dfl_loss  Instances       Size\n"
     ]
    },
    {
     "name": "stderr",
     "output_type": "stream",
     "text": [
      "      11/50      4.75G      1.444      2.921      1.131      1.341        514        640: 100%|██████████| 369/369 [13:17<00:00,  2.16s/it]\n",
      "                 Class     Images  Instances      Box(P          R      mAP50  mAP50-95)     Mask(P          R      mAP50  mAP50-95): 100%|██████████| 31/31 [00:54<00:00,  1.77s/it]\n"
     ]
    },
    {
     "name": "stdout",
     "output_type": "stream",
     "text": [
      "                   all        495      23219      0.663      0.489      0.523      0.334      0.591      0.433      0.438      0.236\n",
      "\n",
      "      Epoch    GPU_mem   box_loss   seg_loss   cls_loss   dfl_loss  Instances       Size\n"
     ]
    },
    {
     "name": "stderr",
     "output_type": "stream",
     "text": [
      "      12/50      5.84G      1.453      2.932      1.137      1.348        510        640: 100%|██████████| 369/369 [13:32<00:00,  2.20s/it]\n",
      "                 Class     Images  Instances      Box(P          R      mAP50  mAP50-95)     Mask(P          R      mAP50  mAP50-95): 100%|██████████| 31/31 [00:54<00:00,  1.77s/it]\n"
     ]
    },
    {
     "name": "stdout",
     "output_type": "stream",
     "text": [
      "                   all        495      23219      0.644      0.488      0.522      0.335      0.598      0.427      0.438      0.237\n",
      "\n",
      "      Epoch    GPU_mem   box_loss   seg_loss   cls_loss   dfl_loss  Instances       Size\n"
     ]
    },
    {
     "name": "stderr",
     "output_type": "stream",
     "text": [
      "      13/50      6.64G      1.439      2.913      1.116      1.334        402        640: 100%|██████████| 369/369 [13:31<00:00,  2.20s/it]\n",
      "                 Class     Images  Instances      Box(P          R      mAP50  mAP50-95)     Mask(P          R      mAP50  mAP50-95): 100%|██████████| 31/31 [00:55<00:00,  1.78s/it]\n"
     ]
    },
    {
     "name": "stdout",
     "output_type": "stream",
     "text": [
      "                   all        495      23219      0.672      0.489      0.535       0.34      0.621      0.431      0.453      0.244\n",
      "\n",
      "      Epoch    GPU_mem   box_loss   seg_loss   cls_loss   dfl_loss  Instances       Size\n"
     ]
    },
    {
     "name": "stderr",
     "output_type": "stream",
     "text": [
      "      14/50      6.26G      1.434      2.896      1.107      1.329        427        640: 100%|██████████| 369/369 [13:28<00:00,  2.19s/it]\n",
      "                 Class     Images  Instances      Box(P          R      mAP50  mAP50-95)     Mask(P          R      mAP50  mAP50-95): 100%|██████████| 31/31 [00:54<00:00,  1.76s/it]\n"
     ]
    },
    {
     "name": "stdout",
     "output_type": "stream",
     "text": [
      "                   all        495      23219      0.663        0.5      0.535      0.344      0.614      0.444      0.454      0.249\n",
      "\n",
      "      Epoch    GPU_mem   box_loss   seg_loss   cls_loss   dfl_loss  Instances       Size\n"
     ]
    },
    {
     "name": "stderr",
     "output_type": "stream",
     "text": [
      "      15/50      5.73G      1.417      2.876      1.097      1.321        636        640: 100%|██████████| 369/369 [13:33<00:00,  2.20s/it]\n",
      "                 Class     Images  Instances      Box(P          R      mAP50  mAP50-95)     Mask(P          R      mAP50  mAP50-95): 100%|██████████| 31/31 [00:54<00:00,  1.77s/it]\n"
     ]
    },
    {
     "name": "stdout",
     "output_type": "stream",
     "text": [
      "                   all        495      23219      0.651      0.494      0.535      0.343      0.611      0.422      0.445      0.244\n",
      "\n",
      "      Epoch    GPU_mem   box_loss   seg_loss   cls_loss   dfl_loss  Instances       Size\n"
     ]
    },
    {
     "name": "stderr",
     "output_type": "stream",
     "text": [
      "      16/50      6.25G      1.412      2.862      1.088      1.318        449        640: 100%|██████████| 369/369 [13:32<00:00,  2.20s/it]\n",
      "                 Class     Images  Instances      Box(P          R      mAP50  mAP50-95)     Mask(P          R      mAP50  mAP50-95): 100%|██████████| 31/31 [00:54<00:00,  1.77s/it]\n"
     ]
    },
    {
     "name": "stdout",
     "output_type": "stream",
     "text": [
      "                   all        495      23219      0.614      0.517      0.536      0.347      0.552      0.466      0.456      0.248\n",
      "\n",
      "      Epoch    GPU_mem   box_loss   seg_loss   cls_loss   dfl_loss  Instances       Size\n"
     ]
    },
    {
     "name": "stderr",
     "output_type": "stream",
     "text": [
      "      17/50      6.27G      1.406      2.855      1.079      1.312        896        640: 100%|██████████| 369/369 [13:31<00:00,  2.20s/it]\n",
      "                 Class     Images  Instances      Box(P          R      mAP50  mAP50-95)     Mask(P          R      mAP50  mAP50-95): 100%|██████████| 31/31 [00:54<00:00,  1.77s/it]\n"
     ]
    },
    {
     "name": "stdout",
     "output_type": "stream",
     "text": [
      "                   all        495      23219       0.67      0.506      0.539      0.346      0.604      0.448      0.452      0.242\n",
      "\n",
      "      Epoch    GPU_mem   box_loss   seg_loss   cls_loss   dfl_loss  Instances       Size\n"
     ]
    },
    {
     "name": "stderr",
     "output_type": "stream",
     "text": [
      "      18/50      5.91G      1.396      2.838      1.074       1.31        450        640: 100%|██████████| 369/369 [13:21<00:00,  2.17s/it]\n",
      "                 Class     Images  Instances      Box(P          R      mAP50  mAP50-95)     Mask(P          R      mAP50  mAP50-95): 100%|██████████| 31/31 [00:54<00:00,  1.76s/it]\n"
     ]
    },
    {
     "name": "stdout",
     "output_type": "stream",
     "text": [
      "                   all        495      23219      0.687      0.502      0.545      0.347      0.604      0.439      0.446      0.239\n",
      "\n",
      "      Epoch    GPU_mem   box_loss   seg_loss   cls_loss   dfl_loss  Instances       Size\n"
     ]
    },
    {
     "name": "stderr",
     "output_type": "stream",
     "text": [
      "      19/50      7.24G        1.4      2.842      1.076      1.317        548        640: 100%|██████████| 369/369 [13:41<00:00,  2.23s/it]\n",
      "                 Class     Images  Instances      Box(P          R      mAP50  mAP50-95)     Mask(P          R      mAP50  mAP50-95): 100%|██████████| 31/31 [00:55<00:00,  1.78s/it]\n"
     ]
    },
    {
     "name": "stdout",
     "output_type": "stream",
     "text": [
      "                   all        495      23219       0.67      0.498       0.54      0.349      0.621      0.446      0.458      0.244\n",
      "\n",
      "      Epoch    GPU_mem   box_loss   seg_loss   cls_loss   dfl_loss  Instances       Size\n"
     ]
    },
    {
     "name": "stderr",
     "output_type": "stream",
     "text": [
      "      20/50      6.72G      1.399      2.832      1.071      1.313        556        640: 100%|██████████| 369/369 [13:37<00:00,  2.21s/it]\n",
      "                 Class     Images  Instances      Box(P          R      mAP50  mAP50-95)     Mask(P          R      mAP50  mAP50-95): 100%|██████████| 31/31 [00:54<00:00,  1.77s/it]\n"
     ]
    },
    {
     "name": "stdout",
     "output_type": "stream",
     "text": [
      "                   all        495      23219      0.682      0.497      0.545      0.351      0.614      0.446      0.462      0.246\n",
      "\n",
      "      Epoch    GPU_mem   box_loss   seg_loss   cls_loss   dfl_loss  Instances       Size\n"
     ]
    },
    {
     "name": "stderr",
     "output_type": "stream",
     "text": [
      "      21/50      5.77G       1.39      2.828      1.067       1.31        591        640: 100%|██████████| 369/369 [13:33<00:00,  2.20s/it]\n",
      "                 Class     Images  Instances      Box(P          R      mAP50  mAP50-95)     Mask(P          R      mAP50  mAP50-95): 100%|██████████| 31/31 [00:55<00:00,  1.78s/it]\n"
     ]
    },
    {
     "name": "stdout",
     "output_type": "stream",
     "text": [
      "                   all        495      23219      0.701      0.488      0.548      0.352      0.655      0.428      0.459      0.245\n",
      "\n",
      "      Epoch    GPU_mem   box_loss   seg_loss   cls_loss   dfl_loss  Instances       Size\n"
     ]
    },
    {
     "name": "stderr",
     "output_type": "stream",
     "text": [
      "      22/50      7.14G      1.383      2.803      1.052      1.297        795        640: 100%|██████████| 369/369 [13:30<00:00,  2.20s/it]\n",
      "                 Class     Images  Instances      Box(P          R      mAP50  mAP50-95)     Mask(P          R      mAP50  mAP50-95): 100%|██████████| 31/31 [00:54<00:00,  1.77s/it]\n"
     ]
    },
    {
     "name": "stdout",
     "output_type": "stream",
     "text": [
      "                   all        495      23219      0.729      0.489      0.549      0.358      0.668      0.441      0.468      0.254\n",
      "\n",
      "      Epoch    GPU_mem   box_loss   seg_loss   cls_loss   dfl_loss  Instances       Size\n"
     ]
    },
    {
     "name": "stderr",
     "output_type": "stream",
     "text": [
      "      23/50      7.18G      1.375      2.813      1.048      1.297        576        640: 100%|██████████| 369/369 [15:05<00:00,  2.45s/it]\n",
      "                 Class     Images  Instances      Box(P          R      mAP50  mAP50-95)     Mask(P          R      mAP50  mAP50-95): 100%|██████████| 31/31 [01:01<00:00,  1.98s/it]\n"
     ]
    },
    {
     "name": "stdout",
     "output_type": "stream",
     "text": [
      "                   all        495      23219      0.707      0.501      0.554      0.358      0.649      0.441      0.464      0.256\n",
      "\n",
      "      Epoch    GPU_mem   box_loss   seg_loss   cls_loss   dfl_loss  Instances       Size\n"
     ]
    },
    {
     "name": "stderr",
     "output_type": "stream",
     "text": [
      "      24/50      6.24G      1.366        2.8      1.034      1.289        773        640: 100%|██████████| 369/369 [13:20<00:00,  2.17s/it]\n",
      "                 Class     Images  Instances      Box(P          R      mAP50  mAP50-95)     Mask(P          R      mAP50  mAP50-95): 100%|██████████| 31/31 [00:54<00:00,  1.77s/it]"
     ]
    },
    {
     "name": "stdout",
     "output_type": "stream",
     "text": [
      "                   all        495      23219      0.704      0.506      0.555      0.359      0.638      0.449      0.468      0.255\n"
     ]
    },
    {
     "name": "stderr",
     "output_type": "stream",
     "text": [
      "\n"
     ]
    },
    {
     "name": "stdout",
     "output_type": "stream",
     "text": [
      "\n",
      "      Epoch    GPU_mem   box_loss   seg_loss   cls_loss   dfl_loss  Instances       Size\n"
     ]
    },
    {
     "name": "stderr",
     "output_type": "stream",
     "text": [
      "      25/50      7.82G      1.362      2.791       1.04      1.293        719        640: 100%|██████████| 369/369 [17:07<00:00,  2.79s/it]\n",
      "                 Class     Images  Instances      Box(P          R      mAP50  mAP50-95)     Mask(P          R      mAP50  mAP50-95): 100%|██████████| 31/31 [01:04<00:00,  2.09s/it]\n"
     ]
    },
    {
     "name": "stdout",
     "output_type": "stream",
     "text": [
      "                   all        495      23219      0.675      0.526      0.555      0.359      0.613      0.463       0.47      0.255\n",
      "\n",
      "      Epoch    GPU_mem   box_loss   seg_loss   cls_loss   dfl_loss  Instances       Size\n"
     ]
    },
    {
     "name": "stderr",
     "output_type": "stream",
     "text": [
      "      26/50      6.14G      1.356      2.764      1.034      1.284        521        640: 100%|██████████| 369/369 [13:19<00:00,  2.17s/it]\n",
      "                 Class     Images  Instances      Box(P          R      mAP50  mAP50-95)     Mask(P          R      mAP50  mAP50-95): 100%|██████████| 31/31 [00:54<00:00,  1.76s/it]\n"
     ]
    },
    {
     "name": "stdout",
     "output_type": "stream",
     "text": [
      "                   all        495      23219      0.689      0.515      0.557      0.359      0.626       0.46      0.468      0.256\n",
      "\n",
      "      Epoch    GPU_mem   box_loss   seg_loss   cls_loss   dfl_loss  Instances       Size\n"
     ]
    },
    {
     "name": "stderr",
     "output_type": "stream",
     "text": [
      "      27/50      6.54G      1.362       2.78       1.03      1.287        603        640: 100%|██████████| 369/369 [13:37<00:00,  2.22s/it]\n",
      "                 Class     Images  Instances      Box(P          R      mAP50  mAP50-95)     Mask(P          R      mAP50  mAP50-95): 100%|██████████| 31/31 [00:54<00:00,  1.76s/it]\n"
     ]
    },
    {
     "name": "stdout",
     "output_type": "stream",
     "text": [
      "                   all        495      23219      0.713      0.509      0.562      0.364      0.637      0.454      0.474      0.259\n",
      "\n",
      "      Epoch    GPU_mem   box_loss   seg_loss   cls_loss   dfl_loss  Instances       Size\n"
     ]
    },
    {
     "name": "stderr",
     "output_type": "stream",
     "text": [
      "      28/50      6.15G      1.346       2.77      1.019       1.28        723        640: 100%|██████████| 369/369 [13:27<00:00,  2.19s/it]\n",
      "                 Class     Images  Instances      Box(P          R      mAP50  mAP50-95)     Mask(P          R      mAP50  mAP50-95): 100%|██████████| 31/31 [00:54<00:00,  1.77s/it]\n"
     ]
    },
    {
     "name": "stdout",
     "output_type": "stream",
     "text": [
      "                   all        495      23219       0.67      0.522      0.561      0.361      0.637      0.452      0.474      0.257\n",
      "\n",
      "      Epoch    GPU_mem   box_loss   seg_loss   cls_loss   dfl_loss  Instances       Size\n"
     ]
    },
    {
     "name": "stderr",
     "output_type": "stream",
     "text": [
      "      29/50      6.37G      1.346      2.757      1.014      1.278        414        640: 100%|██████████| 369/369 [13:25<00:00,  2.18s/it]\n",
      "                 Class     Images  Instances      Box(P          R      mAP50  mAP50-95)     Mask(P          R      mAP50  mAP50-95): 100%|██████████| 31/31 [00:54<00:00,  1.77s/it]\n"
     ]
    },
    {
     "name": "stdout",
     "output_type": "stream",
     "text": [
      "                   all        495      23219      0.688      0.521      0.561      0.367      0.622      0.462      0.472      0.259\n",
      "\n",
      "      Epoch    GPU_mem   box_loss   seg_loss   cls_loss   dfl_loss  Instances       Size\n"
     ]
    },
    {
     "name": "stderr",
     "output_type": "stream",
     "text": [
      "      30/50      6.14G      1.339      2.748      1.012      1.273        638        640: 100%|██████████| 369/369 [13:25<00:00,  2.18s/it]\n",
      "                 Class     Images  Instances      Box(P          R      mAP50  mAP50-95)     Mask(P          R      mAP50  mAP50-95): 100%|██████████| 31/31 [00:54<00:00,  1.77s/it]\n"
     ]
    },
    {
     "name": "stdout",
     "output_type": "stream",
     "text": [
      "                   all        495      23219      0.699      0.503      0.558      0.365      0.635      0.448      0.469      0.256\n",
      "\n",
      "      Epoch    GPU_mem   box_loss   seg_loss   cls_loss   dfl_loss  Instances       Size\n"
     ]
    },
    {
     "name": "stderr",
     "output_type": "stream",
     "text": [
      "      31/50      6.09G      1.346      2.757       1.02      1.279        531        640: 100%|██████████| 369/369 [13:39<00:00,  2.22s/it]\n",
      "                 Class     Images  Instances      Box(P          R      mAP50  mAP50-95)     Mask(P          R      mAP50  mAP50-95): 100%|██████████| 31/31 [00:54<00:00,  1.76s/it]\n"
     ]
    },
    {
     "name": "stdout",
     "output_type": "stream",
     "text": [
      "                   all        495      23219      0.715      0.525       0.57      0.369      0.649      0.464      0.481      0.261\n",
      "\n",
      "      Epoch    GPU_mem   box_loss   seg_loss   cls_loss   dfl_loss  Instances       Size\n"
     ]
    },
    {
     "name": "stderr",
     "output_type": "stream",
     "text": [
      "      32/50       6.7G      1.345       2.75      1.018      1.277        533        640: 100%|██████████| 369/369 [13:34<00:00,  2.21s/it]\n",
      "                 Class     Images  Instances      Box(P          R      mAP50  mAP50-95)     Mask(P          R      mAP50  mAP50-95): 100%|██████████| 31/31 [00:54<00:00,  1.77s/it]\n"
     ]
    },
    {
     "name": "stdout",
     "output_type": "stream",
     "text": [
      "                   all        495      23219      0.705      0.521      0.569      0.369      0.647      0.453      0.475      0.259\n",
      "\n",
      "      Epoch    GPU_mem   box_loss   seg_loss   cls_loss   dfl_loss  Instances       Size\n"
     ]
    },
    {
     "name": "stderr",
     "output_type": "stream",
     "text": [
      "      33/50      5.99G      1.328      2.725      1.002      1.266        915        640: 100%|██████████| 369/369 [13:24<00:00,  2.18s/it]\n",
      "                 Class     Images  Instances      Box(P          R      mAP50  mAP50-95)     Mask(P          R      mAP50  mAP50-95): 100%|██████████| 31/31 [00:54<00:00,  1.77s/it]\n"
     ]
    },
    {
     "name": "stdout",
     "output_type": "stream",
     "text": [
      "                   all        495      23219      0.726      0.512      0.575      0.373      0.653      0.444      0.475      0.263\n",
      "\n",
      "      Epoch    GPU_mem   box_loss   seg_loss   cls_loss   dfl_loss  Instances       Size\n"
     ]
    },
    {
     "name": "stderr",
     "output_type": "stream",
     "text": [
      "      34/50      6.27G       1.33      2.732      1.002      1.267        668        640: 100%|██████████| 369/369 [13:30<00:00,  2.20s/it]\n",
      "                 Class     Images  Instances      Box(P          R      mAP50  mAP50-95)     Mask(P          R      mAP50  mAP50-95): 100%|██████████| 31/31 [00:54<00:00,  1.76s/it]\n"
     ]
    },
    {
     "name": "stdout",
     "output_type": "stream",
     "text": [
      "                   all        495      23219      0.748      0.518      0.575       0.37      0.668      0.462      0.486      0.262\n",
      "\n",
      "      Epoch    GPU_mem   box_loss   seg_loss   cls_loss   dfl_loss  Instances       Size\n"
     ]
    },
    {
     "name": "stderr",
     "output_type": "stream",
     "text": [
      "      35/50      6.64G      1.336      2.733     0.9979       1.27        463        640: 100%|██████████| 369/369 [13:41<00:00,  2.23s/it]\n",
      "                 Class     Images  Instances      Box(P          R      mAP50  mAP50-95)     Mask(P          R      mAP50  mAP50-95): 100%|██████████| 31/31 [00:54<00:00,  1.76s/it]\n"
     ]
    },
    {
     "name": "stdout",
     "output_type": "stream",
     "text": [
      "                   all        495      23219      0.709      0.526      0.573      0.368      0.647      0.468      0.487      0.264\n",
      "\n",
      "      Epoch    GPU_mem   box_loss   seg_loss   cls_loss   dfl_loss  Instances       Size\n"
     ]
    },
    {
     "name": "stderr",
     "output_type": "stream",
     "text": [
      "      36/50      5.93G      1.326      2.729      0.993      1.261        567        640: 100%|██████████| 369/369 [13:35<00:00,  2.21s/it]\n",
      "                 Class     Images  Instances      Box(P          R      mAP50  mAP50-95)     Mask(P          R      mAP50  mAP50-95): 100%|██████████| 31/31 [00:54<00:00,  1.77s/it]\n"
     ]
    },
    {
     "name": "stdout",
     "output_type": "stream",
     "text": [
      "                   all        495      23219      0.701      0.529      0.573      0.371      0.641      0.464      0.483      0.264\n",
      "\n",
      "      Epoch    GPU_mem   box_loss   seg_loss   cls_loss   dfl_loss  Instances       Size\n"
     ]
    },
    {
     "name": "stderr",
     "output_type": "stream",
     "text": [
      "      37/50      5.73G      1.312      2.697     0.9799      1.256        901        640: 100%|██████████| 369/369 [13:25<00:00,  2.18s/it]\n",
      "                 Class     Images  Instances      Box(P          R      mAP50  mAP50-95)     Mask(P          R      mAP50  mAP50-95): 100%|██████████| 31/31 [00:54<00:00,  1.77s/it]\n"
     ]
    },
    {
     "name": "stdout",
     "output_type": "stream",
     "text": [
      "                   all        495      23219      0.722      0.518      0.575      0.375       0.67      0.451      0.485      0.265\n",
      "\n",
      "      Epoch    GPU_mem   box_loss   seg_loss   cls_loss   dfl_loss  Instances       Size\n"
     ]
    },
    {
     "name": "stderr",
     "output_type": "stream",
     "text": [
      "      38/50      5.63G      1.312      2.706      0.982      1.257        590        640: 100%|██████████| 369/369 [13:29<00:00,  2.19s/it]\n",
      "                 Class     Images  Instances      Box(P          R      mAP50  mAP50-95)     Mask(P          R      mAP50  mAP50-95): 100%|██████████| 31/31 [00:54<00:00,  1.77s/it]\n"
     ]
    },
    {
     "name": "stdout",
     "output_type": "stream",
     "text": [
      "                   all        495      23219      0.707      0.523      0.577      0.373       0.65      0.462      0.491      0.268\n",
      "\n",
      "      Epoch    GPU_mem   box_loss   seg_loss   cls_loss   dfl_loss  Instances       Size\n"
     ]
    },
    {
     "name": "stderr",
     "output_type": "stream",
     "text": [
      "      39/50      5.81G      1.312      2.698     0.9832      1.262        540        640: 100%|██████████| 369/369 [13:33<00:00,  2.20s/it]\n",
      "                 Class     Images  Instances      Box(P          R      mAP50  mAP50-95)     Mask(P          R      mAP50  mAP50-95): 100%|██████████| 31/31 [00:54<00:00,  1.77s/it]\n"
     ]
    },
    {
     "name": "stdout",
     "output_type": "stream",
     "text": [
      "                   all        495      23219       0.71      0.526      0.573      0.373       0.67       0.46      0.487      0.265\n",
      "\n",
      "      Epoch    GPU_mem   box_loss   seg_loss   cls_loss   dfl_loss  Instances       Size\n"
     ]
    },
    {
     "name": "stderr",
     "output_type": "stream",
     "text": [
      "      40/50      7.72G      1.309        2.7       0.98      1.255        482        640: 100%|██████████| 369/369 [16:32<00:00,  2.69s/it]\n",
      "                 Class     Images  Instances      Box(P          R      mAP50  mAP50-95)     Mask(P          R      mAP50  mAP50-95): 100%|██████████| 31/31 [01:06<00:00,  2.14s/it]\n"
     ]
    },
    {
     "name": "stdout",
     "output_type": "stream",
     "text": [
      "                   all        495      23219        0.7      0.532       0.58      0.375      0.643      0.464      0.489      0.266\n",
      "Closing dataloader mosaic\n",
      "\n",
      "      Epoch    GPU_mem   box_loss   seg_loss   cls_loss   dfl_loss  Instances       Size\n"
     ]
    },
    {
     "name": "stderr",
     "output_type": "stream",
     "text": [
      "      41/50      3.69G      1.212      2.443     0.8912      1.206        217        640: 100%|██████████| 369/369 [07:15<00:00,  1.18s/it]\n",
      "                 Class     Images  Instances      Box(P          R      mAP50  mAP50-95)     Mask(P          R      mAP50  mAP50-95): 100%|██████████| 31/31 [00:53<00:00,  1.73s/it]\n"
     ]
    },
    {
     "name": "stdout",
     "output_type": "stream",
     "text": [
      "                   all        495      23219      0.717      0.507      0.567      0.368      0.638      0.452      0.481      0.261\n",
      "\n",
      "      Epoch    GPU_mem   box_loss   seg_loss   cls_loss   dfl_loss  Instances       Size\n"
     ]
    },
    {
     "name": "stderr",
     "output_type": "stream",
     "text": [
      "      42/50      3.75G      1.204      2.435     0.8784      1.198        290        640: 100%|██████████| 369/369 [07:14<00:00,  1.18s/it]\n",
      "                 Class     Images  Instances      Box(P          R      mAP50  mAP50-95)     Mask(P          R      mAP50  mAP50-95): 100%|██████████| 31/31 [00:53<00:00,  1.71s/it]"
     ]
    },
    {
     "name": "stdout",
     "output_type": "stream",
     "text": [
      "                   all        495      23219      0.688      0.526       0.57       0.37      0.637      0.453      0.481      0.263\n"
     ]
    },
    {
     "name": "stderr",
     "output_type": "stream",
     "text": [
      "\n"
     ]
    },
    {
     "name": "stdout",
     "output_type": "stream",
     "text": [
      "\n",
      "      Epoch    GPU_mem   box_loss   seg_loss   cls_loss   dfl_loss  Instances       Size\n"
     ]
    },
    {
     "name": "stderr",
     "output_type": "stream",
     "text": [
      "      43/50      3.83G      1.206      2.413     0.8778      1.198        246        640: 100%|██████████| 369/369 [07:14<00:00,  1.18s/it]\n",
      "                 Class     Images  Instances      Box(P          R      mAP50  mAP50-95)     Mask(P          R      mAP50  mAP50-95): 100%|██████████| 31/31 [00:53<00:00,  1.71s/it]\n"
     ]
    },
    {
     "name": "stdout",
     "output_type": "stream",
     "text": [
      "                   all        495      23219      0.698      0.519      0.567      0.368      0.627      0.468      0.484      0.264\n",
      "\n",
      "      Epoch    GPU_mem   box_loss   seg_loss   cls_loss   dfl_loss  Instances       Size\n"
     ]
    },
    {
     "name": "stderr",
     "output_type": "stream",
     "text": [
      "      44/50      3.71G      1.196      2.399      0.867      1.191        247        640: 100%|██████████| 369/369 [07:14<00:00,  1.18s/it]\n",
      "                 Class     Images  Instances      Box(P          R      mAP50  mAP50-95)     Mask(P          R      mAP50  mAP50-95): 100%|██████████| 31/31 [00:53<00:00,  1.71s/it]"
     ]
    },
    {
     "name": "stdout",
     "output_type": "stream",
     "text": [
      "                   all        495      23219      0.712      0.514      0.572      0.369      0.666      0.456      0.485      0.265\n"
     ]
    },
    {
     "name": "stderr",
     "output_type": "stream",
     "text": [
      "\n"
     ]
    },
    {
     "name": "stdout",
     "output_type": "stream",
     "text": [
      "\n",
      "      Epoch    GPU_mem   box_loss   seg_loss   cls_loss   dfl_loss  Instances       Size\n"
     ]
    },
    {
     "name": "stderr",
     "output_type": "stream",
     "text": [
      "      45/50      3.78G      1.194      2.391     0.8624       1.19        223        640: 100%|██████████| 369/369 [07:15<00:00,  1.18s/it]\n",
      "                 Class     Images  Instances      Box(P          R      mAP50  mAP50-95)     Mask(P          R      mAP50  mAP50-95): 100%|██████████| 31/31 [00:53<00:00,  1.71s/it]\n"
     ]
    },
    {
     "name": "stdout",
     "output_type": "stream",
     "text": [
      "                   all        495      23219      0.708      0.517      0.573       0.37      0.654      0.459      0.487      0.267\n",
      "\n",
      "      Epoch    GPU_mem   box_loss   seg_loss   cls_loss   dfl_loss  Instances       Size\n"
     ]
    },
    {
     "name": "stderr",
     "output_type": "stream",
     "text": [
      "      46/50      3.72G      1.185       2.39     0.8594      1.183        234        640: 100%|██████████| 369/369 [07:13<00:00,  1.18s/it]\n",
      "                 Class     Images  Instances      Box(P          R      mAP50  mAP50-95)     Mask(P          R      mAP50  mAP50-95): 100%|██████████| 31/31 [00:53<00:00,  1.71s/it]"
     ]
    },
    {
     "name": "stdout",
     "output_type": "stream",
     "text": [
      "                   all        495      23219       0.71      0.526      0.575      0.373      0.639      0.475      0.489      0.269\n"
     ]
    },
    {
     "name": "stderr",
     "output_type": "stream",
     "text": [
      "\n"
     ]
    },
    {
     "name": "stdout",
     "output_type": "stream",
     "text": [
      "\n",
      "      Epoch    GPU_mem   box_loss   seg_loss   cls_loss   dfl_loss  Instances       Size\n"
     ]
    },
    {
     "name": "stderr",
     "output_type": "stream",
     "text": [
      "      47/50       3.7G      1.181      2.386     0.8573      1.182        258        640: 100%|██████████| 369/369 [07:14<00:00,  1.18s/it]\n",
      "                 Class     Images  Instances      Box(P          R      mAP50  mAP50-95)     Mask(P          R      mAP50  mAP50-95): 100%|██████████| 31/31 [00:53<00:00,  1.71s/it]\n"
     ]
    },
    {
     "name": "stdout",
     "output_type": "stream",
     "text": [
      "                   all        495      23219      0.754      0.509       0.58      0.377      0.692       0.46      0.495      0.271\n",
      "\n",
      "      Epoch    GPU_mem   box_loss   seg_loss   cls_loss   dfl_loss  Instances       Size\n"
     ]
    },
    {
     "name": "stderr",
     "output_type": "stream",
     "text": [
      "      48/50      3.66G      1.179      2.377     0.8517      1.179        237        640: 100%|██████████| 369/369 [07:14<00:00,  1.18s/it]\n",
      "                 Class     Images  Instances      Box(P          R      mAP50  mAP50-95)     Mask(P          R      mAP50  mAP50-95): 100%|██████████| 31/31 [00:53<00:00,  1.72s/it]"
     ]
    },
    {
     "name": "stdout",
     "output_type": "stream",
     "text": [
      "                   all        495      23219      0.735       0.51      0.578      0.375      0.677      0.459      0.495      0.269\n"
     ]
    },
    {
     "name": "stderr",
     "output_type": "stream",
     "text": [
      "\n"
     ]
    },
    {
     "name": "stdout",
     "output_type": "stream",
     "text": [
      "\n",
      "      Epoch    GPU_mem   box_loss   seg_loss   cls_loss   dfl_loss  Instances       Size\n"
     ]
    },
    {
     "name": "stderr",
     "output_type": "stream",
     "text": [
      "      49/50      3.81G      1.178      2.374     0.8509       1.18        178        640: 100%|██████████| 369/369 [07:14<00:00,  1.18s/it]\n",
      "                 Class     Images  Instances      Box(P          R      mAP50  mAP50-95)     Mask(P          R      mAP50  mAP50-95): 100%|██████████| 31/31 [00:53<00:00,  1.71s/it]\n"
     ]
    },
    {
     "name": "stdout",
     "output_type": "stream",
     "text": [
      "                   all        495      23219      0.739      0.513      0.579      0.376      0.672      0.459      0.492      0.269\n",
      "\n",
      "      Epoch    GPU_mem   box_loss   seg_loss   cls_loss   dfl_loss  Instances       Size\n"
     ]
    },
    {
     "name": "stderr",
     "output_type": "stream",
     "text": [
      "      50/50      3.71G      1.171      2.364     0.8462      1.179        238        640: 100%|██████████| 369/369 [07:13<00:00,  1.17s/it]\n",
      "                 Class     Images  Instances      Box(P          R      mAP50  mAP50-95)     Mask(P          R      mAP50  mAP50-95): 100%|██████████| 31/31 [00:52<00:00,  1.70s/it]"
     ]
    },
    {
     "name": "stdout",
     "output_type": "stream",
     "text": [
      "                   all        495      23219      0.738      0.516      0.579      0.375      0.666      0.466       0.49      0.269\n"
     ]
    },
    {
     "name": "stderr",
     "output_type": "stream",
     "text": [
      "\n"
     ]
    },
    {
     "name": "stdout",
     "output_type": "stream",
     "text": [
      "\n",
      "50 epochs completed in 11.181 hours.\n",
      "Optimizer stripped from runs\\segment\\train56\\weights\\last.pt, 92.3MB\n",
      "Optimizer stripped from runs\\segment\\train56\\weights\\best.pt, 92.3MB\n",
      "\n",
      "Validating runs\\segment\\train56\\weights\\best.pt...\n",
      "Ultralytics 8.3.55  Python-3.11.5 torch-2.6.0+cu126 CUDA:0 (NVIDIA GeForce RTX 4060 Laptop GPU, 8188MiB)\n",
      "YOLOv8l-seg summary (fused): 295 layers, 45,921,911 parameters, 0 gradients, 220.2 GFLOPs\n"
     ]
    },
    {
     "name": "stderr",
     "output_type": "stream",
     "text": [
      "                 Class     Images  Instances      Box(P          R      mAP50  mAP50-95)     Mask(P          R      mAP50  mAP50-95):   0%|          | 0/31 [00:00<?, ?it/s]"
     ]
    },
    {
     "name": "stdout",
     "output_type": "stream",
     "text": [
      "WARNING  Model does not support 'augment=True', reverting to single-scale prediction.\n"
     ]
    },
    {
     "name": "stderr",
     "output_type": "stream",
     "text": [
      "                 Class     Images  Instances      Box(P          R      mAP50  mAP50-95)     Mask(P          R      mAP50  mAP50-95):   3%|▎         | 1/31 [00:02<01:00,  2.03s/it]"
     ]
    },
    {
     "name": "stdout",
     "output_type": "stream",
     "text": [
      "WARNING  Model does not support 'augment=True', reverting to single-scale prediction.\n"
     ]
    },
    {
     "name": "stderr",
     "output_type": "stream",
     "text": [
      "                 Class     Images  Instances      Box(P          R      mAP50  mAP50-95)     Mask(P          R      mAP50  mAP50-95):   6%|▋         | 2/31 [00:04<01:00,  2.08s/it]"
     ]
    },
    {
     "name": "stdout",
     "output_type": "stream",
     "text": [
      "WARNING  Model does not support 'augment=True', reverting to single-scale prediction.\n"
     ]
    },
    {
     "name": "stderr",
     "output_type": "stream",
     "text": [
      "                 Class     Images  Instances      Box(P          R      mAP50  mAP50-95)     Mask(P          R      mAP50  mAP50-95):  10%|▉         | 3/31 [00:06<00:59,  2.14s/it]"
     ]
    },
    {
     "name": "stdout",
     "output_type": "stream",
     "text": [
      "WARNING  Model does not support 'augment=True', reverting to single-scale prediction.\n"
     ]
    },
    {
     "name": "stderr",
     "output_type": "stream",
     "text": [
      "                 Class     Images  Instances      Box(P          R      mAP50  mAP50-95)     Mask(P          R      mAP50  mAP50-95):  13%|█▎        | 4/31 [00:08<00:59,  2.21s/it]"
     ]
    },
    {
     "name": "stdout",
     "output_type": "stream",
     "text": [
      "WARNING  Model does not support 'augment=True', reverting to single-scale prediction.\n"
     ]
    },
    {
     "name": "stderr",
     "output_type": "stream",
     "text": [
      "                 Class     Images  Instances      Box(P          R      mAP50  mAP50-95)     Mask(P          R      mAP50  mAP50-95):  16%|█▌        | 5/31 [00:10<00:53,  2.07s/it]"
     ]
    },
    {
     "name": "stdout",
     "output_type": "stream",
     "text": [
      "WARNING  Model does not support 'augment=True', reverting to single-scale prediction.\n"
     ]
    },
    {
     "name": "stderr",
     "output_type": "stream",
     "text": [
      "                 Class     Images  Instances      Box(P          R      mAP50  mAP50-95)     Mask(P          R      mAP50  mAP50-95):  19%|█▉        | 6/31 [00:12<00:49,  1.97s/it]"
     ]
    },
    {
     "name": "stdout",
     "output_type": "stream",
     "text": [
      "WARNING  Model does not support 'augment=True', reverting to single-scale prediction.\n"
     ]
    },
    {
     "name": "stderr",
     "output_type": "stream",
     "text": [
      "                 Class     Images  Instances      Box(P          R      mAP50  mAP50-95)     Mask(P          R      mAP50  mAP50-95):  23%|██▎       | 7/31 [00:13<00:44,  1.86s/it]"
     ]
    },
    {
     "name": "stdout",
     "output_type": "stream",
     "text": [
      "WARNING  Model does not support 'augment=True', reverting to single-scale prediction.\n"
     ]
    },
    {
     "name": "stderr",
     "output_type": "stream",
     "text": [
      "                 Class     Images  Instances      Box(P          R      mAP50  mAP50-95)     Mask(P          R      mAP50  mAP50-95):  26%|██▌       | 8/31 [00:15<00:41,  1.80s/it]"
     ]
    },
    {
     "name": "stdout",
     "output_type": "stream",
     "text": [
      "WARNING  Model does not support 'augment=True', reverting to single-scale prediction.\n"
     ]
    },
    {
     "name": "stderr",
     "output_type": "stream",
     "text": [
      "                 Class     Images  Instances      Box(P          R      mAP50  mAP50-95)     Mask(P          R      mAP50  mAP50-95):  29%|██▉       | 9/31 [00:17<00:39,  1.80s/it]"
     ]
    },
    {
     "name": "stdout",
     "output_type": "stream",
     "text": [
      "WARNING  Model does not support 'augment=True', reverting to single-scale prediction.\n"
     ]
    },
    {
     "name": "stderr",
     "output_type": "stream",
     "text": [
      "                 Class     Images  Instances      Box(P          R      mAP50  mAP50-95)     Mask(P          R      mAP50  mAP50-95):  32%|███▏      | 10/31 [00:19<00:37,  1.80s/it]"
     ]
    },
    {
     "name": "stdout",
     "output_type": "stream",
     "text": [
      "WARNING  Model does not support 'augment=True', reverting to single-scale prediction.\n"
     ]
    },
    {
     "name": "stderr",
     "output_type": "stream",
     "text": [
      "                 Class     Images  Instances      Box(P          R      mAP50  mAP50-95)     Mask(P          R      mAP50  mAP50-95):  35%|███▌      | 11/31 [00:20<00:36,  1.81s/it]"
     ]
    },
    {
     "name": "stdout",
     "output_type": "stream",
     "text": [
      "WARNING  Model does not support 'augment=True', reverting to single-scale prediction.\n"
     ]
    },
    {
     "name": "stderr",
     "output_type": "stream",
     "text": [
      "                 Class     Images  Instances      Box(P          R      mAP50  mAP50-95)     Mask(P          R      mAP50  mAP50-95):  39%|███▊      | 12/31 [00:22<00:34,  1.82s/it]"
     ]
    },
    {
     "name": "stdout",
     "output_type": "stream",
     "text": [
      "WARNING  Model does not support 'augment=True', reverting to single-scale prediction.\n"
     ]
    },
    {
     "name": "stderr",
     "output_type": "stream",
     "text": [
      "                 Class     Images  Instances      Box(P          R      mAP50  mAP50-95)     Mask(P          R      mAP50  mAP50-95):  42%|████▏     | 13/31 [00:24<00:33,  1.85s/it]"
     ]
    },
    {
     "name": "stdout",
     "output_type": "stream",
     "text": [
      "WARNING  Model does not support 'augment=True', reverting to single-scale prediction.\n"
     ]
    },
    {
     "name": "stderr",
     "output_type": "stream",
     "text": [
      "                 Class     Images  Instances      Box(P          R      mAP50  mAP50-95)     Mask(P          R      mAP50  mAP50-95):  45%|████▌     | 14/31 [00:26<00:31,  1.86s/it]"
     ]
    },
    {
     "name": "stdout",
     "output_type": "stream",
     "text": [
      "WARNING  Model does not support 'augment=True', reverting to single-scale prediction.\n"
     ]
    },
    {
     "name": "stderr",
     "output_type": "stream",
     "text": [
      "                 Class     Images  Instances      Box(P          R      mAP50  mAP50-95)     Mask(P          R      mAP50  mAP50-95):  48%|████▊     | 15/31 [00:28<00:29,  1.84s/it]"
     ]
    },
    {
     "name": "stdout",
     "output_type": "stream",
     "text": [
      "WARNING  Model does not support 'augment=True', reverting to single-scale prediction.\n"
     ]
    },
    {
     "name": "stderr",
     "output_type": "stream",
     "text": [
      "                 Class     Images  Instances      Box(P          R      mAP50  mAP50-95)     Mask(P          R      mAP50  mAP50-95):  52%|█████▏    | 16/31 [00:30<00:28,  1.87s/it]"
     ]
    },
    {
     "name": "stdout",
     "output_type": "stream",
     "text": [
      "WARNING  Model does not support 'augment=True', reverting to single-scale prediction.\n"
     ]
    },
    {
     "name": "stderr",
     "output_type": "stream",
     "text": [
      "                 Class     Images  Instances      Box(P          R      mAP50  mAP50-95)     Mask(P          R      mAP50  mAP50-95):  55%|█████▍    | 17/31 [00:32<00:26,  1.88s/it]"
     ]
    },
    {
     "name": "stdout",
     "output_type": "stream",
     "text": [
      "WARNING  Model does not support 'augment=True', reverting to single-scale prediction.\n"
     ]
    },
    {
     "name": "stderr",
     "output_type": "stream",
     "text": [
      "                 Class     Images  Instances      Box(P          R      mAP50  mAP50-95)     Mask(P          R      mAP50  mAP50-95):  58%|█████▊    | 18/31 [00:34<00:24,  1.90s/it]"
     ]
    },
    {
     "name": "stdout",
     "output_type": "stream",
     "text": [
      "WARNING  Model does not support 'augment=True', reverting to single-scale prediction.\n"
     ]
    },
    {
     "name": "stderr",
     "output_type": "stream",
     "text": [
      "                 Class     Images  Instances      Box(P          R      mAP50  mAP50-95)     Mask(P          R      mAP50  mAP50-95):  61%|██████▏   | 19/31 [00:36<00:23,  1.96s/it]"
     ]
    },
    {
     "name": "stdout",
     "output_type": "stream",
     "text": [
      "WARNING  Model does not support 'augment=True', reverting to single-scale prediction.\n"
     ]
    },
    {
     "name": "stderr",
     "output_type": "stream",
     "text": [
      "                 Class     Images  Instances      Box(P          R      mAP50  mAP50-95)     Mask(P          R      mAP50  mAP50-95):  65%|██████▍   | 20/31 [00:38<00:21,  1.94s/it]"
     ]
    },
    {
     "name": "stdout",
     "output_type": "stream",
     "text": [
      "WARNING  Model does not support 'augment=True', reverting to single-scale prediction.\n"
     ]
    },
    {
     "name": "stderr",
     "output_type": "stream",
     "text": [
      "                 Class     Images  Instances      Box(P          R      mAP50  mAP50-95)     Mask(P          R      mAP50  mAP50-95):  68%|██████▊   | 21/31 [00:40<00:19,  1.97s/it]"
     ]
    },
    {
     "name": "stdout",
     "output_type": "stream",
     "text": [
      "WARNING  Model does not support 'augment=True', reverting to single-scale prediction.\n"
     ]
    },
    {
     "name": "stderr",
     "output_type": "stream",
     "text": [
      "                 Class     Images  Instances      Box(P          R      mAP50  mAP50-95)     Mask(P          R      mAP50  mAP50-95):  71%|███████   | 22/31 [00:42<00:17,  1.93s/it]"
     ]
    },
    {
     "name": "stdout",
     "output_type": "stream",
     "text": [
      "WARNING  Model does not support 'augment=True', reverting to single-scale prediction.\n"
     ]
    },
    {
     "name": "stderr",
     "output_type": "stream",
     "text": [
      "                 Class     Images  Instances      Box(P          R      mAP50  mAP50-95)     Mask(P          R      mAP50  mAP50-95):  74%|███████▍  | 23/31 [00:44<00:15,  1.93s/it]"
     ]
    },
    {
     "name": "stdout",
     "output_type": "stream",
     "text": [
      "WARNING  Model does not support 'augment=True', reverting to single-scale prediction.\n"
     ]
    },
    {
     "name": "stderr",
     "output_type": "stream",
     "text": [
      "                 Class     Images  Instances      Box(P          R      mAP50  mAP50-95)     Mask(P          R      mAP50  mAP50-95):  77%|███████▋  | 24/31 [00:46<00:13,  1.96s/it]"
     ]
    },
    {
     "name": "stdout",
     "output_type": "stream",
     "text": [
      "WARNING  Model does not support 'augment=True', reverting to single-scale prediction.\n"
     ]
    },
    {
     "name": "stderr",
     "output_type": "stream",
     "text": [
      "                 Class     Images  Instances      Box(P          R      mAP50  mAP50-95)     Mask(P          R      mAP50  mAP50-95):  81%|████████  | 25/31 [00:48<00:11,  1.97s/it]"
     ]
    },
    {
     "name": "stdout",
     "output_type": "stream",
     "text": [
      "WARNING  Model does not support 'augment=True', reverting to single-scale prediction.\n"
     ]
    },
    {
     "name": "stderr",
     "output_type": "stream",
     "text": [
      "                 Class     Images  Instances      Box(P          R      mAP50  mAP50-95)     Mask(P          R      mAP50  mAP50-95):  84%|████████▍ | 26/31 [00:50<00:09,  1.97s/it]"
     ]
    },
    {
     "name": "stdout",
     "output_type": "stream",
     "text": [
      "WARNING  Model does not support 'augment=True', reverting to single-scale prediction.\n"
     ]
    },
    {
     "name": "stderr",
     "output_type": "stream",
     "text": [
      "                 Class     Images  Instances      Box(P          R      mAP50  mAP50-95)     Mask(P          R      mAP50  mAP50-95):  87%|████████▋ | 27/31 [00:51<00:07,  1.93s/it]"
     ]
    },
    {
     "name": "stdout",
     "output_type": "stream",
     "text": [
      "WARNING  Model does not support 'augment=True', reverting to single-scale prediction.\n"
     ]
    },
    {
     "name": "stderr",
     "output_type": "stream",
     "text": [
      "                 Class     Images  Instances      Box(P          R      mAP50  mAP50-95)     Mask(P          R      mAP50  mAP50-95):  90%|█████████ | 28/31 [00:53<00:05,  1.93s/it]"
     ]
    },
    {
     "name": "stdout",
     "output_type": "stream",
     "text": [
      "WARNING  Model does not support 'augment=True', reverting to single-scale prediction.\n"
     ]
    },
    {
     "name": "stderr",
     "output_type": "stream",
     "text": [
      "                 Class     Images  Instances      Box(P          R      mAP50  mAP50-95)     Mask(P          R      mAP50  mAP50-95):  94%|█████████▎| 29/31 [00:55<00:03,  1.92s/it]"
     ]
    },
    {
     "name": "stdout",
     "output_type": "stream",
     "text": [
      "WARNING  Model does not support 'augment=True', reverting to single-scale prediction.\n"
     ]
    },
    {
     "name": "stderr",
     "output_type": "stream",
     "text": [
      "                 Class     Images  Instances      Box(P          R      mAP50  mAP50-95)     Mask(P          R      mAP50  mAP50-95):  97%|█████████▋| 30/31 [00:57<00:01,  1.91s/it]"
     ]
    },
    {
     "name": "stdout",
     "output_type": "stream",
     "text": [
      "WARNING  Model does not support 'augment=True', reverting to single-scale prediction.\n"
     ]
    },
    {
     "name": "stderr",
     "output_type": "stream",
     "text": [
      "                 Class     Images  Instances      Box(P          R      mAP50  mAP50-95)     Mask(P          R      mAP50  mAP50-95): 100%|██████████| 31/31 [00:59<00:00,  1.91s/it]\n"
     ]
    },
    {
     "name": "stdout",
     "output_type": "stream",
     "text": [
      "                   all        495      23219      0.752       0.51       0.58      0.376      0.692       0.46      0.495      0.271\n",
      "                person        399       3387      0.706      0.497      0.567      0.324      0.554      0.371      0.381      0.156\n",
      "                 rider        252        548      0.811      0.473      0.586      0.363      0.562      0.323      0.297     0.0893\n",
      "                   car        474       4638      0.819      0.667      0.747      0.521      0.661      0.523      0.573      0.295\n",
      "                 truck         79         92      0.613       0.37       0.45      0.324      0.618       0.37      0.436      0.275\n",
      "                   bus         75         98      0.793      0.571      0.689      0.535      0.784      0.561      0.641      0.384\n",
      "                 train         22         23      0.801      0.478      0.507      0.245      0.846      0.478      0.497      0.225\n",
      "            motorcycle         93        149      0.742      0.342      0.415      0.196      0.726      0.315      0.334      0.112\n",
      "               bicycle        330       1165      0.773      0.382      0.501      0.262       0.66      0.308      0.353      0.125\n",
      "                  road        481        494      0.972      0.972      0.979       0.88      0.972       0.97      0.973       0.89\n",
      "              sidewalk        462       1205      0.715      0.449      0.533      0.319      0.717      0.429      0.491      0.244\n",
      "              building        486       1145      0.604      0.526      0.539      0.348      0.609      0.509      0.517      0.283\n",
      "                  pole        486       9801      0.666      0.173      0.248      0.116      0.521      0.124      0.187      0.084\n",
      "                   sky        440        474       0.76      0.728      0.774       0.46      0.764      0.705      0.755      0.355\n",
      "Speed: 0.2ms preprocess, 9.8ms inference, 0.0ms loss, 2.3ms postprocess per image\n",
      "Results saved to \u001b[1mruns\\segment\\train56\u001b[0m\n"
     ]
    }
   ],
   "source": [
    "from gc import freeze\n",
    "import os\n",
    "os.environ['KMP_DUPLICATE_LIB_OK'] = 'TRUE'\n",
    "\n",
    "from ultralytics import YOLO\n",
    "\n",
    "# Cargar modelo\n",
    "model = YOLO('yolov8l-seg.pt')\n",
    "results = model.train(\n",
    "    data='cityscapes.yaml',\n",
    "    epochs=50,        # Más épocas para mejor convergencia\n",
    "    imgsz=640,      # Mantener resolución alta\n",
    "    batch=8,         # Mantener batch size\n",
    "    workers=0,\n",
    "    pretrained=True,\n",
    "    freeze=10,\n",
    "    # Augmentaciones más agresivas para mejor generalización\n",
    "    flipud=0.3,\n",
    "    fliplr=0.5,\n",
    "    mosaic=0.8,      # Aumentar para más variedad\n",
    "    mixup=0.3,       # Aumentar para mejor robustez\n",
    "\n",
    "    # Ajustes de color más agresivos\n",
    "    hsv_h=0.015,     # Aumentar variación de tono\n",
    "    hsv_s=0.5,       # Aumentar saturación\n",
    "    hsv_v=0.4,       # Más variación de brillo\n",
    "\n",
    "    # Transformaciones geométricas más agresivas\n",
    "    degrees=30.0,    # Más rotación\n",
    "    translate=0.15,  # Más traslación\n",
    "    scale=0.5,      # Más escala\n",
    "    shear=7.0,      # Aumentar shear\n",
    "    perspective=0.0007, # Más perspectiva\n",
    "\n",
    "    # Otras configuraciones\n",
    "    copy_paste=0.3,  # Aumentar copy-paste\n",
    "    augment=True,\n",
    "\n",
    "    # Optimización ajustada\n",
    "    warmup_epochs=3,\n",
    "    warmup_momentum=0.85,\n",
    "    lr0=0.001,     # Learning rate más equilibrado\n",
    "    lrf=0.0001,    # Learning rate final ajustado\n",
    "    weight_decay=0.0004,  # Más regularización\n",
    "\n",
    "    # Nuevas configuraciones\n",
    "    label_smoothing=0.1,  # Añadir label smoothing\n",
    "    overlap_mask=True,    # Mejorar máscaras\n",
    "    mask_ratio=4,        # Ajustar ratio de máscara\n",
    "    dropout=0.2          # Añadir dropout\n",
    ")"
   ]
  },
  {
   "cell_type": "code",
   "execution_count": 3,
   "metadata": {},
   "outputs": [
    {
     "name": "stdout",
     "output_type": "stream",
     "text": [
      "New https://pypi.org/project/ultralytics/8.3.107 available  Update with 'pip install -U ultralytics'\n",
      "WARNING  'label_smoothing' is deprecated and will be removed in in the future.\n",
      "Ultralytics 8.3.55  Python-3.11.5 torch-2.6.0+cu126 CUDA:0 (NVIDIA GeForce RTX 4060 Laptop GPU, 8188MiB)\n",
      "\u001b[34m\u001b[1mengine\\trainer: \u001b[0mtask=segment, mode=train, model=runs/segment/train52/weights/best.pt, data=cityscapes.yaml, epochs=50, time=None, patience=10, batch=8, imgsz=640, save=True, save_period=-1, cache=False, device=None, workers=0, project=None, name=train55, exist_ok=False, pretrained=True, optimizer=auto, verbose=True, seed=0, deterministic=True, single_cls=False, rect=False, cos_lr=False, close_mosaic=10, resume=False, amp=True, fraction=1.0, profile=False, freeze=10, multi_scale=False, overlap_mask=True, mask_ratio=4, dropout=0.2, val=True, split=val, save_json=False, save_hybrid=False, conf=None, iou=0.7, max_det=300, half=False, dnn=False, plots=True, source=None, vid_stride=1, stream_buffer=False, visualize=False, augment=True, agnostic_nms=False, classes=None, retina_masks=False, embed=None, show=False, save_frames=False, save_txt=False, save_conf=False, save_crop=False, show_labels=True, show_conf=True, show_boxes=True, line_width=None, format=torchscript, keras=False, optimize=False, int8=False, dynamic=False, simplify=True, opset=None, workspace=None, nms=False, lr0=0.001, lrf=0.0001, momentum=0.937, weight_decay=0.0004, warmup_epochs=3, warmup_momentum=0.85, warmup_bias_lr=0.1, box=7.5, cls=0.5, dfl=1.5, pose=12.0, kobj=1.0, nbs=64, hsv_h=0.015, hsv_s=0.5, hsv_v=0.4, degrees=30.0, translate=0.15, scale=0.5, shear=7.0, perspective=0.0007, flipud=0.3, fliplr=0.5, bgr=0.0, mosaic=0.8, mixup=0.3, copy_paste=0.3, copy_paste_mode=flip, auto_augment=randaugment, erasing=0.4, crop_fraction=1.0, cfg=None, tracker=botsort.yaml, save_dir=runs\\segment\\train55\n",
      "\n",
      "                   from  n    params  module                                       arguments                     \n",
      "  0                  -1  1      1392  ultralytics.nn.modules.conv.Conv             [3, 48, 3, 2]                 \n",
      "  1                  -1  1     41664  ultralytics.nn.modules.conv.Conv             [48, 96, 3, 2]                \n",
      "  2                  -1  2    111360  ultralytics.nn.modules.block.C2f             [96, 96, 2, True]             \n",
      "  3                  -1  1    166272  ultralytics.nn.modules.conv.Conv             [96, 192, 3, 2]               \n",
      "  4                  -1  4    813312  ultralytics.nn.modules.block.C2f             [192, 192, 4, True]           \n",
      "  5                  -1  1    664320  ultralytics.nn.modules.conv.Conv             [192, 384, 3, 2]              \n",
      "  6                  -1  4   3248640  ultralytics.nn.modules.block.C2f             [384, 384, 4, True]           \n",
      "  7                  -1  1   1991808  ultralytics.nn.modules.conv.Conv             [384, 576, 3, 2]              \n",
      "  8                  -1  2   3985920  ultralytics.nn.modules.block.C2f             [576, 576, 2, True]           \n",
      "  9                  -1  1    831168  ultralytics.nn.modules.block.SPPF            [576, 576, 5]                 \n",
      " 10                  -1  1         0  torch.nn.modules.upsampling.Upsample         [None, 2, 'nearest']          \n",
      " 11             [-1, 6]  1         0  ultralytics.nn.modules.conv.Concat           [1]                           \n",
      " 12                  -1  2   1993728  ultralytics.nn.modules.block.C2f             [960, 384, 2]                 \n",
      " 13                  -1  1         0  torch.nn.modules.upsampling.Upsample         [None, 2, 'nearest']          \n",
      " 14             [-1, 4]  1         0  ultralytics.nn.modules.conv.Concat           [1]                           \n",
      " 15                  -1  2    517632  ultralytics.nn.modules.block.C2f             [576, 192, 2]                 \n",
      " 16                  -1  1    332160  ultralytics.nn.modules.conv.Conv             [192, 192, 3, 2]              \n",
      " 17            [-1, 12]  1         0  ultralytics.nn.modules.conv.Concat           [1]                           \n",
      " 18                  -1  2   1846272  ultralytics.nn.modules.block.C2f             [576, 384, 2]                 \n",
      " 19                  -1  1   1327872  ultralytics.nn.modules.conv.Conv             [384, 384, 3, 2]              \n",
      " 20             [-1, 9]  1         0  ultralytics.nn.modules.conv.Concat           [1]                           \n",
      " 21                  -1  2   4207104  ultralytics.nn.modules.block.C2f             [960, 576, 2]                 \n",
      " 22        [15, 18, 21]  1   5166551  ultralytics.nn.modules.head.Segment          [13, 32, 192, [192, 384, 576]]\n",
      "YOLOv8m-seg summary: 331 layers, 27,247,175 parameters, 27,247,159 gradients, 110.4 GFLOPs\n",
      "\n",
      "Transferred 537/537 items from pretrained weights\n",
      "Freezing layer 'model.0.conv.weight'\n",
      "Freezing layer 'model.0.bn.weight'\n",
      "Freezing layer 'model.0.bn.bias'\n",
      "Freezing layer 'model.1.conv.weight'\n",
      "Freezing layer 'model.1.bn.weight'\n",
      "Freezing layer 'model.1.bn.bias'\n",
      "Freezing layer 'model.2.cv1.conv.weight'\n",
      "Freezing layer 'model.2.cv1.bn.weight'\n",
      "Freezing layer 'model.2.cv1.bn.bias'\n",
      "Freezing layer 'model.2.cv2.conv.weight'\n",
      "Freezing layer 'model.2.cv2.bn.weight'\n",
      "Freezing layer 'model.2.cv2.bn.bias'\n",
      "Freezing layer 'model.2.m.0.cv1.conv.weight'\n",
      "Freezing layer 'model.2.m.0.cv1.bn.weight'\n",
      "Freezing layer 'model.2.m.0.cv1.bn.bias'\n",
      "Freezing layer 'model.2.m.0.cv2.conv.weight'\n",
      "Freezing layer 'model.2.m.0.cv2.bn.weight'\n",
      "Freezing layer 'model.2.m.0.cv2.bn.bias'\n",
      "Freezing layer 'model.2.m.1.cv1.conv.weight'\n",
      "Freezing layer 'model.2.m.1.cv1.bn.weight'\n",
      "Freezing layer 'model.2.m.1.cv1.bn.bias'\n",
      "Freezing layer 'model.2.m.1.cv2.conv.weight'\n",
      "Freezing layer 'model.2.m.1.cv2.bn.weight'\n",
      "Freezing layer 'model.2.m.1.cv2.bn.bias'\n",
      "Freezing layer 'model.3.conv.weight'\n",
      "Freezing layer 'model.3.bn.weight'\n",
      "Freezing layer 'model.3.bn.bias'\n",
      "Freezing layer 'model.4.cv1.conv.weight'\n",
      "Freezing layer 'model.4.cv1.bn.weight'\n",
      "Freezing layer 'model.4.cv1.bn.bias'\n",
      "Freezing layer 'model.4.cv2.conv.weight'\n",
      "Freezing layer 'model.4.cv2.bn.weight'\n",
      "Freezing layer 'model.4.cv2.bn.bias'\n",
      "Freezing layer 'model.4.m.0.cv1.conv.weight'\n",
      "Freezing layer 'model.4.m.0.cv1.bn.weight'\n",
      "Freezing layer 'model.4.m.0.cv1.bn.bias'\n",
      "Freezing layer 'model.4.m.0.cv2.conv.weight'\n",
      "Freezing layer 'model.4.m.0.cv2.bn.weight'\n",
      "Freezing layer 'model.4.m.0.cv2.bn.bias'\n",
      "Freezing layer 'model.4.m.1.cv1.conv.weight'\n",
      "Freezing layer 'model.4.m.1.cv1.bn.weight'\n",
      "Freezing layer 'model.4.m.1.cv1.bn.bias'\n",
      "Freezing layer 'model.4.m.1.cv2.conv.weight'\n",
      "Freezing layer 'model.4.m.1.cv2.bn.weight'\n",
      "Freezing layer 'model.4.m.1.cv2.bn.bias'\n",
      "Freezing layer 'model.4.m.2.cv1.conv.weight'\n",
      "Freezing layer 'model.4.m.2.cv1.bn.weight'\n",
      "Freezing layer 'model.4.m.2.cv1.bn.bias'\n",
      "Freezing layer 'model.4.m.2.cv2.conv.weight'\n",
      "Freezing layer 'model.4.m.2.cv2.bn.weight'\n",
      "Freezing layer 'model.4.m.2.cv2.bn.bias'\n",
      "Freezing layer 'model.4.m.3.cv1.conv.weight'\n",
      "Freezing layer 'model.4.m.3.cv1.bn.weight'\n",
      "Freezing layer 'model.4.m.3.cv1.bn.bias'\n",
      "Freezing layer 'model.4.m.3.cv2.conv.weight'\n",
      "Freezing layer 'model.4.m.3.cv2.bn.weight'\n",
      "Freezing layer 'model.4.m.3.cv2.bn.bias'\n",
      "Freezing layer 'model.5.conv.weight'\n",
      "Freezing layer 'model.5.bn.weight'\n",
      "Freezing layer 'model.5.bn.bias'\n",
      "Freezing layer 'model.6.cv1.conv.weight'\n",
      "Freezing layer 'model.6.cv1.bn.weight'\n",
      "Freezing layer 'model.6.cv1.bn.bias'\n",
      "Freezing layer 'model.6.cv2.conv.weight'\n",
      "Freezing layer 'model.6.cv2.bn.weight'\n",
      "Freezing layer 'model.6.cv2.bn.bias'\n",
      "Freezing layer 'model.6.m.0.cv1.conv.weight'\n",
      "Freezing layer 'model.6.m.0.cv1.bn.weight'\n",
      "Freezing layer 'model.6.m.0.cv1.bn.bias'\n",
      "Freezing layer 'model.6.m.0.cv2.conv.weight'\n",
      "Freezing layer 'model.6.m.0.cv2.bn.weight'\n",
      "Freezing layer 'model.6.m.0.cv2.bn.bias'\n",
      "Freezing layer 'model.6.m.1.cv1.conv.weight'\n",
      "Freezing layer 'model.6.m.1.cv1.bn.weight'\n",
      "Freezing layer 'model.6.m.1.cv1.bn.bias'\n",
      "Freezing layer 'model.6.m.1.cv2.conv.weight'\n",
      "Freezing layer 'model.6.m.1.cv2.bn.weight'\n",
      "Freezing layer 'model.6.m.1.cv2.bn.bias'\n",
      "Freezing layer 'model.6.m.2.cv1.conv.weight'\n",
      "Freezing layer 'model.6.m.2.cv1.bn.weight'\n",
      "Freezing layer 'model.6.m.2.cv1.bn.bias'\n",
      "Freezing layer 'model.6.m.2.cv2.conv.weight'\n",
      "Freezing layer 'model.6.m.2.cv2.bn.weight'\n",
      "Freezing layer 'model.6.m.2.cv2.bn.bias'\n",
      "Freezing layer 'model.6.m.3.cv1.conv.weight'\n",
      "Freezing layer 'model.6.m.3.cv1.bn.weight'\n",
      "Freezing layer 'model.6.m.3.cv1.bn.bias'\n",
      "Freezing layer 'model.6.m.3.cv2.conv.weight'\n",
      "Freezing layer 'model.6.m.3.cv2.bn.weight'\n",
      "Freezing layer 'model.6.m.3.cv2.bn.bias'\n",
      "Freezing layer 'model.7.conv.weight'\n",
      "Freezing layer 'model.7.bn.weight'\n",
      "Freezing layer 'model.7.bn.bias'\n",
      "Freezing layer 'model.8.cv1.conv.weight'\n",
      "Freezing layer 'model.8.cv1.bn.weight'\n",
      "Freezing layer 'model.8.cv1.bn.bias'\n",
      "Freezing layer 'model.8.cv2.conv.weight'\n",
      "Freezing layer 'model.8.cv2.bn.weight'\n",
      "Freezing layer 'model.8.cv2.bn.bias'\n",
      "Freezing layer 'model.8.m.0.cv1.conv.weight'\n",
      "Freezing layer 'model.8.m.0.cv1.bn.weight'\n",
      "Freezing layer 'model.8.m.0.cv1.bn.bias'\n",
      "Freezing layer 'model.8.m.0.cv2.conv.weight'\n",
      "Freezing layer 'model.8.m.0.cv2.bn.weight'\n",
      "Freezing layer 'model.8.m.0.cv2.bn.bias'\n",
      "Freezing layer 'model.8.m.1.cv1.conv.weight'\n",
      "Freezing layer 'model.8.m.1.cv1.bn.weight'\n",
      "Freezing layer 'model.8.m.1.cv1.bn.bias'\n",
      "Freezing layer 'model.8.m.1.cv2.conv.weight'\n",
      "Freezing layer 'model.8.m.1.cv2.bn.weight'\n",
      "Freezing layer 'model.8.m.1.cv2.bn.bias'\n",
      "Freezing layer 'model.9.cv1.conv.weight'\n",
      "Freezing layer 'model.9.cv1.bn.weight'\n",
      "Freezing layer 'model.9.cv1.bn.bias'\n",
      "Freezing layer 'model.9.cv2.conv.weight'\n",
      "Freezing layer 'model.9.cv2.bn.weight'\n",
      "Freezing layer 'model.9.cv2.bn.bias'\n",
      "Freezing layer 'model.22.dfl.conv.weight'\n",
      "\u001b[34m\u001b[1mAMP: \u001b[0mrunning Automatic Mixed Precision (AMP) checks...\n",
      "\u001b[34m\u001b[1mAMP: \u001b[0mchecks passed \n"
     ]
    },
    {
     "name": "stderr",
     "output_type": "stream",
     "text": [
      "\u001b[34m\u001b[1mtrain: \u001b[0mScanning C:\\Users\\aaron\\Documents\\Año4\\TFG\\CityScapesWithPanopticSegm\\dataset\\labels\\train.cache... 2975 images, 0 backgrounds, 25 corrupt: 100%|██████████| 2975/2975 [00:00<?, ?it/s]"
     ]
    },
    {
     "name": "stdout",
     "output_type": "stream",
     "text": [
      "\u001b[34m\u001b[1mtrain: \u001b[0mWARNING  C:\\Users\\aaron\\Documents\\Ao4\\TFG\\CityScapesWithPanopticSegm\\dataset\\images\\train\\aachen_000000_000019_gtFine_polygons.png: 4 duplicate labels removed\n",
      "\u001b[34m\u001b[1mtrain: \u001b[0mWARNING  C:\\Users\\aaron\\Documents\\Ao4\\TFG\\CityScapesWithPanopticSegm\\dataset\\images\\train\\aachen_000004_000019_gtFine_polygons.png: 1 duplicate labels removed\n",
      "\u001b[34m\u001b[1mtrain: \u001b[0mWARNING  C:\\Users\\aaron\\Documents\\Ao4\\TFG\\CityScapesWithPanopticSegm\\dataset\\images\\train\\aachen_000008_000019_gtFine_polygons.png: 1 duplicate labels removed\n",
      "\u001b[34m\u001b[1mtrain: \u001b[0mWARNING  C:\\Users\\aaron\\Documents\\Ao4\\TFG\\CityScapesWithPanopticSegm\\dataset\\images\\train\\aachen_000022_000019_gtFine_polygons.png: 1 duplicate labels removed\n",
      "\u001b[34m\u001b[1mtrain: \u001b[0mWARNING  C:\\Users\\aaron\\Documents\\Ao4\\TFG\\CityScapesWithPanopticSegm\\dataset\\images\\train\\aachen_000026_000019_gtFine_polygons.png: 1 duplicate labels removed\n",
      "\u001b[34m\u001b[1mtrain: \u001b[0mWARNING  C:\\Users\\aaron\\Documents\\Ao4\\TFG\\CityScapesWithPanopticSegm\\dataset\\images\\train\\aachen_000030_000019_gtFine_polygons.png: 3 duplicate labels removed\n",
      "\u001b[34m\u001b[1mtrain: \u001b[0mWARNING  C:\\Users\\aaron\\Documents\\Ao4\\TFG\\CityScapesWithPanopticSegm\\dataset\\images\\train\\aachen_000031_000019_gtFine_polygons.png: 1 duplicate labels removed\n",
      "\u001b[34m\u001b[1mtrain: \u001b[0mWARNING  C:\\Users\\aaron\\Documents\\Ao4\\TFG\\CityScapesWithPanopticSegm\\dataset\\images\\train\\aachen_000034_000019_gtFine_polygons.png: 1 duplicate labels removed\n",
      "\u001b[34m\u001b[1mtrain: \u001b[0mWARNING  C:\\Users\\aaron\\Documents\\Ao4\\TFG\\CityScapesWithPanopticSegm\\dataset\\images\\train\\aachen_000042_000019_gtFine_polygons.png: 2 duplicate labels removed\n",
      "\u001b[34m\u001b[1mtrain: \u001b[0mWARNING  C:\\Users\\aaron\\Documents\\Ao4\\TFG\\CityScapesWithPanopticSegm\\dataset\\images\\train\\aachen_000058_000019_gtFine_polygons.png: 1 duplicate labels removed\n",
      "\u001b[34m\u001b[1mtrain: \u001b[0mWARNING  C:\\Users\\aaron\\Documents\\Ao4\\TFG\\CityScapesWithPanopticSegm\\dataset\\images\\train\\aachen_000060_000019_gtFine_polygons.png: 15 duplicate labels removed\n",
      "\u001b[34m\u001b[1mtrain: \u001b[0mWARNING  C:\\Users\\aaron\\Documents\\Ao4\\TFG\\CityScapesWithPanopticSegm\\dataset\\images\\train\\aachen_000061_000019_gtFine_polygons.png: 40 duplicate labels removed\n",
      "\u001b[34m\u001b[1mtrain: \u001b[0mWARNING  C:\\Users\\aaron\\Documents\\Ao4\\TFG\\CityScapesWithPanopticSegm\\dataset\\images\\train\\aachen_000062_000019_gtFine_polygons.png: 8 duplicate labels removed\n",
      "\u001b[34m\u001b[1mtrain: \u001b[0mWARNING  C:\\Users\\aaron\\Documents\\Ao4\\TFG\\CityScapesWithPanopticSegm\\dataset\\images\\train\\aachen_000064_000019_gtFine_polygons.png: 1 duplicate labels removed\n",
      "\u001b[34m\u001b[1mtrain: \u001b[0mWARNING  C:\\Users\\aaron\\Documents\\Ao4\\TFG\\CityScapesWithPanopticSegm\\dataset\\images\\train\\aachen_000070_000019_gtFine_polygons.png: 2 duplicate labels removed\n",
      "\u001b[34m\u001b[1mtrain: \u001b[0mWARNING  C:\\Users\\aaron\\Documents\\Ao4\\TFG\\CityScapesWithPanopticSegm\\dataset\\images\\train\\aachen_000072_000019_gtFine_polygons.png: 1 duplicate labels removed\n",
      "\u001b[34m\u001b[1mtrain: \u001b[0mWARNING  C:\\Users\\aaron\\Documents\\Ao4\\TFG\\CityScapesWithPanopticSegm\\dataset\\images\\train\\aachen_000078_000019_gtFine_polygons.png: 3 duplicate labels removed\n",
      "\u001b[34m\u001b[1mtrain: \u001b[0mWARNING  C:\\Users\\aaron\\Documents\\Ao4\\TFG\\CityScapesWithPanopticSegm\\dataset\\images\\train\\aachen_000079_000019_gtFine_polygons.png: 7 duplicate labels removed\n",
      "\u001b[34m\u001b[1mtrain: \u001b[0mWARNING  C:\\Users\\aaron\\Documents\\Ao4\\TFG\\CityScapesWithPanopticSegm\\dataset\\images\\train\\aachen_000080_000019_gtFine_polygons.png: 37 duplicate labels removed\n",
      "\u001b[34m\u001b[1mtrain: \u001b[0mWARNING  C:\\Users\\aaron\\Documents\\Ao4\\TFG\\CityScapesWithPanopticSegm\\dataset\\images\\train\\aachen_000090_000019_gtFine_polygons.png: 3 duplicate labels removed\n",
      "\u001b[34m\u001b[1mtrain: \u001b[0mWARNING  C:\\Users\\aaron\\Documents\\Ao4\\TFG\\CityScapesWithPanopticSegm\\dataset\\images\\train\\aachen_000092_000019_gtFine_polygons.png: 1 duplicate labels removed\n",
      "\u001b[34m\u001b[1mtrain: \u001b[0mWARNING  C:\\Users\\aaron\\Documents\\Ao4\\TFG\\CityScapesWithPanopticSegm\\dataset\\images\\train\\aachen_000095_000019_gtFine_polygons.png: 2 duplicate labels removed\n",
      "\u001b[34m\u001b[1mtrain: \u001b[0mWARNING  C:\\Users\\aaron\\Documents\\Ao4\\TFG\\CityScapesWithPanopticSegm\\dataset\\images\\train\\aachen_000096_000019_gtFine_polygons.png: 4 duplicate labels removed\n",
      "\u001b[34m\u001b[1mtrain: \u001b[0mWARNING  C:\\Users\\aaron\\Documents\\Ao4\\TFG\\CityScapesWithPanopticSegm\\dataset\\images\\train\\aachen_000098_000019_gtFine_polygons.png: 2 duplicate labels removed\n",
      "\u001b[34m\u001b[1mtrain: \u001b[0mWARNING  C:\\Users\\aaron\\Documents\\Ao4\\TFG\\CityScapesWithPanopticSegm\\dataset\\images\\train\\aachen_000152_000019_gtFine_polygons.png: 9 duplicate labels removed\n",
      "\u001b[34m\u001b[1mtrain: \u001b[0mWARNING  C:\\Users\\aaron\\Documents\\Ao4\\TFG\\CityScapesWithPanopticSegm\\dataset\\images\\train\\aachen_000153_000019_gtFine_polygons.png: 1 duplicate labels removed\n",
      "\u001b[34m\u001b[1mtrain: \u001b[0mWARNING  C:\\Users\\aaron\\Documents\\Ao4\\TFG\\CityScapesWithPanopticSegm\\dataset\\images\\train\\aachen_000155_000019_gtFine_polygons.png: 1 duplicate labels removed\n",
      "\u001b[34m\u001b[1mtrain: \u001b[0mWARNING  C:\\Users\\aaron\\Documents\\Ao4\\TFG\\CityScapesWithPanopticSegm\\dataset\\images\\train\\bochum_000000_000885_gtFine_polygons.png: 1 duplicate labels removed\n",
      "\u001b[34m\u001b[1mtrain: \u001b[0mWARNING  C:\\Users\\aaron\\Documents\\Ao4\\TFG\\CityScapesWithPanopticSegm\\dataset\\images\\train\\bochum_000000_004748_gtFine_polygons.png: 1 duplicate labels removed\n",
      "\u001b[34m\u001b[1mtrain: \u001b[0mWARNING  C:\\Users\\aaron\\Documents\\Ao4\\TFG\\CityScapesWithPanopticSegm\\dataset\\images\\train\\bochum_000000_007651_gtFine_polygons.png: 2 duplicate labels removed\n",
      "\u001b[34m\u001b[1mtrain: \u001b[0mWARNING  C:\\Users\\aaron\\Documents\\Ao4\\TFG\\CityScapesWithPanopticSegm\\dataset\\images\\train\\bochum_000000_013209_gtFine_polygons.png: 1 duplicate labels removed\n",
      "\u001b[34m\u001b[1mtrain: \u001b[0mWARNING  C:\\Users\\aaron\\Documents\\Ao4\\TFG\\CityScapesWithPanopticSegm\\dataset\\images\\train\\bochum_000000_017453_gtFine_polygons.png: 1 duplicate labels removed\n",
      "\u001b[34m\u001b[1mtrain: \u001b[0mWARNING  C:\\Users\\aaron\\Documents\\Ao4\\TFG\\CityScapesWithPanopticSegm\\dataset\\images\\train\\bochum_000000_033714_gtFine_polygons.png: 1 duplicate labels removed\n",
      "\u001b[34m\u001b[1mtrain: \u001b[0mWARNING  C:\\Users\\aaron\\Documents\\Ao4\\TFG\\CityScapesWithPanopticSegm\\dataset\\images\\train\\bochum_000000_036606_gtFine_polygons.png: 1 duplicate labels removed\n",
      "\u001b[34m\u001b[1mtrain: \u001b[0mWARNING  C:\\Users\\aaron\\Documents\\Ao4\\TFG\\CityScapesWithPanopticSegm\\dataset\\images\\train\\bremen_000021_000019_gtFine_polygons.png: 1 duplicate labels removed\n",
      "\u001b[34m\u001b[1mtrain: \u001b[0mWARNING  C:\\Users\\aaron\\Documents\\Ao4\\TFG\\CityScapesWithPanopticSegm\\dataset\\images\\train\\bremen_000060_000019_gtFine_polygons.png: 1 duplicate labels removed\n",
      "\u001b[34m\u001b[1mtrain: \u001b[0mWARNING  C:\\Users\\aaron\\Documents\\Ao4\\TFG\\CityScapesWithPanopticSegm\\dataset\\images\\train\\bremen_000099_000019_gtFine_polygons.png: 1 duplicate labels removed\n",
      "\u001b[34m\u001b[1mtrain: \u001b[0mWARNING  C:\\Users\\aaron\\Documents\\Ao4\\TFG\\CityScapesWithPanopticSegm\\dataset\\images\\train\\bremen_000111_000019_gtFine_polygons.png: ignoring corrupt image/label: non-normalized or out of bounds coordinates [     1.0005]\n",
      "\u001b[34m\u001b[1mtrain: \u001b[0mWARNING  C:\\Users\\aaron\\Documents\\Ao4\\TFG\\CityScapesWithPanopticSegm\\dataset\\images\\train\\bremen_000118_000019_gtFine_polygons.png: ignoring corrupt image/label: non-normalized or out of bounds coordinates [      1.001]\n",
      "\u001b[34m\u001b[1mtrain: \u001b[0mWARNING  C:\\Users\\aaron\\Documents\\Ao4\\TFG\\CityScapesWithPanopticSegm\\dataset\\images\\train\\bremen_000121_000019_gtFine_polygons.png: ignoring corrupt image/label: non-normalized or out of bounds coordinates [      1.001]\n",
      "\u001b[34m\u001b[1mtrain: \u001b[0mWARNING  C:\\Users\\aaron\\Documents\\Ao4\\TFG\\CityScapesWithPanopticSegm\\dataset\\images\\train\\bremen_000123_000019_gtFine_polygons.png: ignoring corrupt image/label: non-normalized or out of bounds coordinates [     1.0005]\n",
      "\u001b[34m\u001b[1mtrain: \u001b[0mWARNING  C:\\Users\\aaron\\Documents\\Ao4\\TFG\\CityScapesWithPanopticSegm\\dataset\\images\\train\\bremen_000124_000019_gtFine_polygons.png: ignoring corrupt image/label: non-normalized or out of bounds coordinates [     1.0005]\n",
      "\u001b[34m\u001b[1mtrain: \u001b[0mWARNING  C:\\Users\\aaron\\Documents\\Ao4\\TFG\\CityScapesWithPanopticSegm\\dataset\\images\\train\\bremen_000126_000019_gtFine_polygons.png: ignoring corrupt image/label: non-normalized or out of bounds coordinates [      1.001]\n",
      "\u001b[34m\u001b[1mtrain: \u001b[0mWARNING  C:\\Users\\aaron\\Documents\\Ao4\\TFG\\CityScapesWithPanopticSegm\\dataset\\images\\train\\bremen_000128_000019_gtFine_polygons.png: ignoring corrupt image/label: non-normalized or out of bounds coordinates [     1.0005]\n",
      "\u001b[34m\u001b[1mtrain: \u001b[0mWARNING  C:\\Users\\aaron\\Documents\\Ao4\\TFG\\CityScapesWithPanopticSegm\\dataset\\images\\train\\bremen_000129_000019_gtFine_polygons.png: ignoring corrupt image/label: non-normalized or out of bounds coordinates [     1.0005]\n",
      "\u001b[34m\u001b[1mtrain: \u001b[0mWARNING  C:\\Users\\aaron\\Documents\\Ao4\\TFG\\CityScapesWithPanopticSegm\\dataset\\images\\train\\bremen_000130_000019_gtFine_polygons.png: ignoring corrupt image/label: non-normalized or out of bounds coordinates [      1.001]\n",
      "\u001b[34m\u001b[1mtrain: \u001b[0mWARNING  C:\\Users\\aaron\\Documents\\Ao4\\TFG\\CityScapesWithPanopticSegm\\dataset\\images\\train\\bremen_000132_000019_gtFine_polygons.png: ignoring corrupt image/label: non-normalized or out of bounds coordinates [      1.001]\n",
      "\u001b[34m\u001b[1mtrain: \u001b[0mWARNING  C:\\Users\\aaron\\Documents\\Ao4\\TFG\\CityScapesWithPanopticSegm\\dataset\\images\\train\\bremen_000133_000019_gtFine_polygons.png: ignoring corrupt image/label: non-normalized or out of bounds coordinates [      1.001]\n",
      "\u001b[34m\u001b[1mtrain: \u001b[0mWARNING  C:\\Users\\aaron\\Documents\\Ao4\\TFG\\CityScapesWithPanopticSegm\\dataset\\images\\train\\bremen_000135_000019_gtFine_polygons.png: ignoring corrupt image/label: non-normalized or out of bounds coordinates [     1.0005]\n",
      "\u001b[34m\u001b[1mtrain: \u001b[0mWARNING  C:\\Users\\aaron\\Documents\\Ao4\\TFG\\CityScapesWithPanopticSegm\\dataset\\images\\train\\bremen_000241_000019_gtFine_polygons.png: 1 duplicate labels removed\n",
      "\u001b[34m\u001b[1mtrain: \u001b[0mWARNING  C:\\Users\\aaron\\Documents\\Ao4\\TFG\\CityScapesWithPanopticSegm\\dataset\\images\\train\\cologne_000004_000019_gtFine_polygons.png: 1 duplicate labels removed\n",
      "\u001b[34m\u001b[1mtrain: \u001b[0mWARNING  C:\\Users\\aaron\\Documents\\Ao4\\TFG\\CityScapesWithPanopticSegm\\dataset\\images\\train\\cologne_000006_000019_gtFine_polygons.png: 1 duplicate labels removed\n",
      "\u001b[34m\u001b[1mtrain: \u001b[0mWARNING  C:\\Users\\aaron\\Documents\\Ao4\\TFG\\CityScapesWithPanopticSegm\\dataset\\images\\train\\cologne_000007_000019_gtFine_polygons.png: 2 duplicate labels removed\n",
      "\u001b[34m\u001b[1mtrain: \u001b[0mWARNING  C:\\Users\\aaron\\Documents\\Ao4\\TFG\\CityScapesWithPanopticSegm\\dataset\\images\\train\\cologne_000009_000019_gtFine_polygons.png: 1 duplicate labels removed\n",
      "\u001b[34m\u001b[1mtrain: \u001b[0mWARNING  C:\\Users\\aaron\\Documents\\Ao4\\TFG\\CityScapesWithPanopticSegm\\dataset\\images\\train\\cologne_000012_000019_gtFine_polygons.png: 3 duplicate labels removed\n",
      "\u001b[34m\u001b[1mtrain: \u001b[0mWARNING  C:\\Users\\aaron\\Documents\\Ao4\\TFG\\CityScapesWithPanopticSegm\\dataset\\images\\train\\cologne_000018_000019_gtFine_polygons.png: 5 duplicate labels removed\n",
      "\u001b[34m\u001b[1mtrain: \u001b[0mWARNING  C:\\Users\\aaron\\Documents\\Ao4\\TFG\\CityScapesWithPanopticSegm\\dataset\\images\\train\\cologne_000019_000019_gtFine_polygons.png: 2 duplicate labels removed\n",
      "\u001b[34m\u001b[1mtrain: \u001b[0mWARNING  C:\\Users\\aaron\\Documents\\Ao4\\TFG\\CityScapesWithPanopticSegm\\dataset\\images\\train\\cologne_000021_000019_gtFine_polygons.png: 1 duplicate labels removed\n",
      "\u001b[34m\u001b[1mtrain: \u001b[0mWARNING  C:\\Users\\aaron\\Documents\\Ao4\\TFG\\CityScapesWithPanopticSegm\\dataset\\images\\train\\cologne_000040_000019_gtFine_polygons.png: 1 duplicate labels removed\n",
      "\u001b[34m\u001b[1mtrain: \u001b[0mWARNING  C:\\Users\\aaron\\Documents\\Ao4\\TFG\\CityScapesWithPanopticSegm\\dataset\\images\\train\\cologne_000053_000019_gtFine_polygons.png: 1 duplicate labels removed\n",
      "\u001b[34m\u001b[1mtrain: \u001b[0mWARNING  C:\\Users\\aaron\\Documents\\Ao4\\TFG\\CityScapesWithPanopticSegm\\dataset\\images\\train\\cologne_000056_000019_gtFine_polygons.png: 1 duplicate labels removed\n",
      "\u001b[34m\u001b[1mtrain: \u001b[0mWARNING  C:\\Users\\aaron\\Documents\\Ao4\\TFG\\CityScapesWithPanopticSegm\\dataset\\images\\train\\cologne_000057_000019_gtFine_polygons.png: 1 duplicate labels removed\n",
      "\u001b[34m\u001b[1mtrain: \u001b[0mWARNING  C:\\Users\\aaron\\Documents\\Ao4\\TFG\\CityScapesWithPanopticSegm\\dataset\\images\\train\\cologne_000061_000019_gtFine_polygons.png: 1 duplicate labels removed\n",
      "\u001b[34m\u001b[1mtrain: \u001b[0mWARNING  C:\\Users\\aaron\\Documents\\Ao4\\TFG\\CityScapesWithPanopticSegm\\dataset\\images\\train\\cologne_000090_000019_gtFine_polygons.png: 1 duplicate labels removed\n",
      "\u001b[34m\u001b[1mtrain: \u001b[0mWARNING  C:\\Users\\aaron\\Documents\\Ao4\\TFG\\CityScapesWithPanopticSegm\\dataset\\images\\train\\cologne_000092_000019_gtFine_polygons.png: 3 duplicate labels removed\n",
      "\u001b[34m\u001b[1mtrain: \u001b[0mWARNING  C:\\Users\\aaron\\Documents\\Ao4\\TFG\\CityScapesWithPanopticSegm\\dataset\\images\\train\\cologne_000111_000019_gtFine_polygons.png: 1 duplicate labels removed\n",
      "\u001b[34m\u001b[1mtrain: \u001b[0mWARNING  C:\\Users\\aaron\\Documents\\Ao4\\TFG\\CityScapesWithPanopticSegm\\dataset\\images\\train\\darmstadt_000002_000019_gtFine_polygons.png: 2 duplicate labels removed\n",
      "\u001b[34m\u001b[1mtrain: \u001b[0mWARNING  C:\\Users\\aaron\\Documents\\Ao4\\TFG\\CityScapesWithPanopticSegm\\dataset\\images\\train\\darmstadt_000004_000019_gtFine_polygons.png: 1 duplicate labels removed\n",
      "\u001b[34m\u001b[1mtrain: \u001b[0mWARNING  C:\\Users\\aaron\\Documents\\Ao4\\TFG\\CityScapesWithPanopticSegm\\dataset\\images\\train\\darmstadt_000014_000019_gtFine_polygons.png: 1 duplicate labels removed\n",
      "\u001b[34m\u001b[1mtrain: \u001b[0mWARNING  C:\\Users\\aaron\\Documents\\Ao4\\TFG\\CityScapesWithPanopticSegm\\dataset\\images\\train\\darmstadt_000015_000019_gtFine_polygons.png: 1 duplicate labels removed\n",
      "\u001b[34m\u001b[1mtrain: \u001b[0mWARNING  C:\\Users\\aaron\\Documents\\Ao4\\TFG\\CityScapesWithPanopticSegm\\dataset\\images\\train\\darmstadt_000021_000019_gtFine_polygons.png: 1 duplicate labels removed\n",
      "\u001b[34m\u001b[1mtrain: \u001b[0mWARNING  C:\\Users\\aaron\\Documents\\Ao4\\TFG\\CityScapesWithPanopticSegm\\dataset\\images\\train\\darmstadt_000026_000019_gtFine_polygons.png: 2 duplicate labels removed\n",
      "\u001b[34m\u001b[1mtrain: \u001b[0mWARNING  C:\\Users\\aaron\\Documents\\Ao4\\TFG\\CityScapesWithPanopticSegm\\dataset\\images\\train\\darmstadt_000036_000019_gtFine_polygons.png: 1 duplicate labels removed\n",
      "\u001b[34m\u001b[1mtrain: \u001b[0mWARNING  C:\\Users\\aaron\\Documents\\Ao4\\TFG\\CityScapesWithPanopticSegm\\dataset\\images\\train\\darmstadt_000046_000019_gtFine_polygons.png: 1 duplicate labels removed\n",
      "\u001b[34m\u001b[1mtrain: \u001b[0mWARNING  C:\\Users\\aaron\\Documents\\Ao4\\TFG\\CityScapesWithPanopticSegm\\dataset\\images\\train\\darmstadt_000061_000019_gtFine_polygons.png: 1 duplicate labels removed\n",
      "\u001b[34m\u001b[1mtrain: \u001b[0mWARNING  C:\\Users\\aaron\\Documents\\Ao4\\TFG\\CityScapesWithPanopticSegm\\dataset\\images\\train\\darmstadt_000083_000019_gtFine_polygons.png: 1 duplicate labels removed\n",
      "\u001b[34m\u001b[1mtrain: \u001b[0mWARNING  C:\\Users\\aaron\\Documents\\Ao4\\TFG\\CityScapesWithPanopticSegm\\dataset\\images\\train\\dusseldorf_000057_000019_gtFine_polygons.png: ignoring corrupt image/label: non-normalized or out of bounds coordinates [     1.0005]\n",
      "\u001b[34m\u001b[1mtrain: \u001b[0mWARNING  C:\\Users\\aaron\\Documents\\Ao4\\TFG\\CityScapesWithPanopticSegm\\dataset\\images\\train\\dusseldorf_000068_000019_gtFine_polygons.png: ignoring corrupt image/label: non-normalized or out of bounds coordinates [     1.0005]\n",
      "\u001b[34m\u001b[1mtrain: \u001b[0mWARNING  C:\\Users\\aaron\\Documents\\Ao4\\TFG\\CityScapesWithPanopticSegm\\dataset\\images\\train\\dusseldorf_000075_000019_gtFine_polygons.png: ignoring corrupt image/label: non-normalized or out of bounds coordinates [      1.001]\n",
      "\u001b[34m\u001b[1mtrain: \u001b[0mWARNING  C:\\Users\\aaron\\Documents\\Ao4\\TFG\\CityScapesWithPanopticSegm\\dataset\\images\\train\\dusseldorf_000088_000019_gtFine_polygons.png: ignoring corrupt image/label: non-normalized or out of bounds coordinates [     1.0005]\n",
      "\u001b[34m\u001b[1mtrain: \u001b[0mWARNING  C:\\Users\\aaron\\Documents\\Ao4\\TFG\\CityScapesWithPanopticSegm\\dataset\\images\\train\\dusseldorf_000090_000019_gtFine_polygons.png: ignoring corrupt image/label: non-normalized or out of bounds coordinates [     1.0005]\n",
      "\u001b[34m\u001b[1mtrain: \u001b[0mWARNING  C:\\Users\\aaron\\Documents\\Ao4\\TFG\\CityScapesWithPanopticSegm\\dataset\\images\\train\\dusseldorf_000098_000019_gtFine_polygons.png: ignoring corrupt image/label: non-normalized or out of bounds coordinates [     1.0005]\n",
      "\u001b[34m\u001b[1mtrain: \u001b[0mWARNING  C:\\Users\\aaron\\Documents\\Ao4\\TFG\\CityScapesWithPanopticSegm\\dataset\\images\\train\\dusseldorf_000157_000019_gtFine_polygons.png: ignoring corrupt image/label: non-normalized or out of bounds coordinates [     1.0049]\n",
      "\u001b[34m\u001b[1mtrain: \u001b[0mWARNING  C:\\Users\\aaron\\Documents\\Ao4\\TFG\\CityScapesWithPanopticSegm\\dataset\\images\\train\\dusseldorf_000198_000019_gtFine_polygons.png: ignoring corrupt image/label: non-normalized or out of bounds coordinates [     1.0073]\n",
      "\u001b[34m\u001b[1mtrain: \u001b[0mWARNING  C:\\Users\\aaron\\Documents\\Ao4\\TFG\\CityScapesWithPanopticSegm\\dataset\\images\\train\\erfurt_000020_000019_gtFine_polygons.png: 1 duplicate labels removed\n",
      "\u001b[34m\u001b[1mtrain: \u001b[0mWARNING  C:\\Users\\aaron\\Documents\\Ao4\\TFG\\CityScapesWithPanopticSegm\\dataset\\images\\train\\hamburg_000000_019892_gtFine_polygons.png: 1 duplicate labels removed\n",
      "\u001b[34m\u001b[1mtrain: \u001b[0mWARNING  C:\\Users\\aaron\\Documents\\Ao4\\TFG\\CityScapesWithPanopticSegm\\dataset\\images\\train\\hamburg_000000_032906_gtFine_polygons.png: 1 duplicate labels removed\n",
      "\u001b[34m\u001b[1mtrain: \u001b[0mWARNING  C:\\Users\\aaron\\Documents\\Ao4\\TFG\\CityScapesWithPanopticSegm\\dataset\\images\\train\\hamburg_000000_033506_gtFine_polygons.png: 9 duplicate labels removed\n",
      "\u001b[34m\u001b[1mtrain: \u001b[0mWARNING  C:\\Users\\aaron\\Documents\\Ao4\\TFG\\CityScapesWithPanopticSegm\\dataset\\images\\train\\hamburg_000000_035568_gtFine_polygons.png: 1 duplicate labels removed\n",
      "\u001b[34m\u001b[1mtrain: \u001b[0mWARNING  C:\\Users\\aaron\\Documents\\Ao4\\TFG\\CityScapesWithPanopticSegm\\dataset\\images\\train\\hamburg_000000_039420_gtFine_polygons.png: 1 duplicate labels removed\n",
      "\u001b[34m\u001b[1mtrain: \u001b[0mWARNING  C:\\Users\\aaron\\Documents\\Ao4\\TFG\\CityScapesWithPanopticSegm\\dataset\\images\\train\\hamburg_000000_041667_gtFine_polygons.png: 1 duplicate labels removed\n",
      "\u001b[34m\u001b[1mtrain: \u001b[0mWARNING  C:\\Users\\aaron\\Documents\\Ao4\\TFG\\CityScapesWithPanopticSegm\\dataset\\images\\train\\hamburg_000000_053886_gtFine_polygons.png: 1 duplicate labels removed\n",
      "\u001b[34m\u001b[1mtrain: \u001b[0mWARNING  C:\\Users\\aaron\\Documents\\Ao4\\TFG\\CityScapesWithPanopticSegm\\dataset\\images\\train\\hamburg_000000_071016_gtFine_polygons.png: 1 duplicate labels removed\n",
      "\u001b[34m\u001b[1mtrain: \u001b[0mWARNING  C:\\Users\\aaron\\Documents\\Ao4\\TFG\\CityScapesWithPanopticSegm\\dataset\\images\\train\\hamburg_000000_080438_gtFine_polygons.png: 1 duplicate labels removed\n",
      "\u001b[34m\u001b[1mtrain: \u001b[0mWARNING  C:\\Users\\aaron\\Documents\\Ao4\\TFG\\CityScapesWithPanopticSegm\\dataset\\images\\train\\hanover_000000_012347_gtFine_polygons.png: 1 duplicate labels removed\n",
      "\u001b[34m\u001b[1mtrain: \u001b[0mWARNING  C:\\Users\\aaron\\Documents\\Ao4\\TFG\\CityScapesWithPanopticSegm\\dataset\\images\\train\\hanover_000000_014537_gtFine_polygons.png: 1 duplicate labels removed\n",
      "\u001b[34m\u001b[1mtrain: \u001b[0mWARNING  C:\\Users\\aaron\\Documents\\Ao4\\TFG\\CityScapesWithPanopticSegm\\dataset\\images\\train\\hanover_000000_015587_gtFine_polygons.png: 1 duplicate labels removed\n",
      "\u001b[34m\u001b[1mtrain: \u001b[0mWARNING  C:\\Users\\aaron\\Documents\\Ao4\\TFG\\CityScapesWithPanopticSegm\\dataset\\images\\train\\hanover_000000_018800_gtFine_polygons.png: 3 duplicate labels removed\n",
      "\u001b[34m\u001b[1mtrain: \u001b[0mWARNING  C:\\Users\\aaron\\Documents\\Ao4\\TFG\\CityScapesWithPanopticSegm\\dataset\\images\\train\\hanover_000000_019116_gtFine_polygons.png: 4 duplicate labels removed\n",
      "\u001b[34m\u001b[1mtrain: \u001b[0mWARNING  C:\\Users\\aaron\\Documents\\Ao4\\TFG\\CityScapesWithPanopticSegm\\dataset\\images\\train\\hanover_000000_019282_gtFine_polygons.png: 2 duplicate labels removed\n",
      "\u001b[34m\u001b[1mtrain: \u001b[0mWARNING  C:\\Users\\aaron\\Documents\\Ao4\\TFG\\CityScapesWithPanopticSegm\\dataset\\images\\train\\hanover_000000_019456_gtFine_polygons.png: 1 duplicate labels removed\n",
      "\u001b[34m\u001b[1mtrain: \u001b[0mWARNING  C:\\Users\\aaron\\Documents\\Ao4\\TFG\\CityScapesWithPanopticSegm\\dataset\\images\\train\\hanover_000000_019672_gtFine_polygons.png: 1 duplicate labels removed\n",
      "\u001b[34m\u001b[1mtrain: \u001b[0mWARNING  C:\\Users\\aaron\\Documents\\Ao4\\TFG\\CityScapesWithPanopticSegm\\dataset\\images\\train\\hanover_000000_022645_gtFine_polygons.png: 4 duplicate labels removed\n",
      "\u001b[34m\u001b[1mtrain: \u001b[0mWARNING  C:\\Users\\aaron\\Documents\\Ao4\\TFG\\CityScapesWithPanopticSegm\\dataset\\images\\train\\hanover_000000_026356_gtFine_polygons.png: 1 duplicate labels removed\n",
      "\u001b[34m\u001b[1mtrain: \u001b[0mWARNING  C:\\Users\\aaron\\Documents\\Ao4\\TFG\\CityScapesWithPanopticSegm\\dataset\\images\\train\\hanover_000000_034015_gtFine_polygons.png: 2 duplicate labels removed\n",
      "\u001b[34m\u001b[1mtrain: \u001b[0mWARNING  C:\\Users\\aaron\\Documents\\Ao4\\TFG\\CityScapesWithPanopticSegm\\dataset\\images\\train\\hanover_000000_034141_gtFine_polygons.png: 2 duplicate labels removed\n",
      "\u001b[34m\u001b[1mtrain: \u001b[0mWARNING  C:\\Users\\aaron\\Documents\\Ao4\\TFG\\CityScapesWithPanopticSegm\\dataset\\images\\train\\hanover_000000_036051_gtFine_polygons.png: 1 duplicate labels removed\n",
      "\u001b[34m\u001b[1mtrain: \u001b[0mWARNING  C:\\Users\\aaron\\Documents\\Ao4\\TFG\\CityScapesWithPanopticSegm\\dataset\\images\\train\\hanover_000000_047499_gtFine_polygons.png: 1 duplicate labels removed\n",
      "\u001b[34m\u001b[1mtrain: \u001b[0mWARNING  C:\\Users\\aaron\\Documents\\Ao4\\TFG\\CityScapesWithPanopticSegm\\dataset\\images\\train\\hanover_000000_047870_gtFine_polygons.png: 1 duplicate labels removed\n",
      "\u001b[34m\u001b[1mtrain: \u001b[0mWARNING  C:\\Users\\aaron\\Documents\\Ao4\\TFG\\CityScapesWithPanopticSegm\\dataset\\images\\train\\hanover_000000_051152_gtFine_polygons.png: 2 duplicate labels removed\n",
      "\u001b[34m\u001b[1mtrain: \u001b[0mWARNING  C:\\Users\\aaron\\Documents\\Ao4\\TFG\\CityScapesWithPanopticSegm\\dataset\\images\\train\\hanover_000000_051536_gtFine_polygons.png: 2 duplicate labels removed\n",
      "\u001b[34m\u001b[1mtrain: \u001b[0mWARNING  C:\\Users\\aaron\\Documents\\Ao4\\TFG\\CityScapesWithPanopticSegm\\dataset\\images\\train\\hanover_000000_052512_gtFine_polygons.png: 1 duplicate labels removed\n",
      "\u001b[34m\u001b[1mtrain: \u001b[0mWARNING  C:\\Users\\aaron\\Documents\\Ao4\\TFG\\CityScapesWithPanopticSegm\\dataset\\images\\train\\hanover_000000_053027_gtFine_polygons.png: 1 duplicate labels removed\n",
      "\u001b[34m\u001b[1mtrain: \u001b[0mWARNING  C:\\Users\\aaron\\Documents\\Ao4\\TFG\\CityScapesWithPanopticSegm\\dataset\\images\\train\\hanover_000000_056800_gtFine_polygons.png: 1 duplicate labels removed\n",
      "\u001b[34m\u001b[1mtrain: \u001b[0mWARNING  C:\\Users\\aaron\\Documents\\Ao4\\TFG\\CityScapesWithPanopticSegm\\dataset\\images\\train\\jena_000059_000019_gtFine_polygons.png: ignoring corrupt image/label: non-normalized or out of bounds coordinates [     1.0005]\n",
      "\u001b[34m\u001b[1mtrain: \u001b[0mWARNING  C:\\Users\\aaron\\Documents\\Ao4\\TFG\\CityScapesWithPanopticSegm\\dataset\\images\\train\\krefeld_000000_004608_gtFine_polygons.png: 2 duplicate labels removed\n",
      "\u001b[34m\u001b[1mtrain: \u001b[0mWARNING  C:\\Users\\aaron\\Documents\\Ao4\\TFG\\CityScapesWithPanopticSegm\\dataset\\images\\train\\krefeld_000000_011655_gtFine_polygons.png: 1 duplicate labels removed\n",
      "\u001b[34m\u001b[1mtrain: \u001b[0mWARNING  C:\\Users\\aaron\\Documents\\Ao4\\TFG\\CityScapesWithPanopticSegm\\dataset\\images\\train\\krefeld_000000_013766_gtFine_polygons.png: 1 duplicate labels removed\n",
      "\u001b[34m\u001b[1mtrain: \u001b[0mWARNING  C:\\Users\\aaron\\Documents\\Ao4\\TFG\\CityScapesWithPanopticSegm\\dataset\\images\\train\\krefeld_000000_020933_gtFine_polygons.png: 1 duplicate labels removed\n",
      "\u001b[34m\u001b[1mtrain: \u001b[0mWARNING  C:\\Users\\aaron\\Documents\\Ao4\\TFG\\CityScapesWithPanopticSegm\\dataset\\images\\train\\strasbourg_000000_013654_gtFine_polygons.png: 1 duplicate labels removed\n",
      "\u001b[34m\u001b[1mtrain: \u001b[0mWARNING  C:\\Users\\aaron\\Documents\\Ao4\\TFG\\CityScapesWithPanopticSegm\\dataset\\images\\train\\strasbourg_000000_014503_gtFine_polygons.png: 1 duplicate labels removed\n",
      "\u001b[34m\u001b[1mtrain: \u001b[0mWARNING  C:\\Users\\aaron\\Documents\\Ao4\\TFG\\CityScapesWithPanopticSegm\\dataset\\images\\train\\strasbourg_000001_030539_gtFine_polygons.png: 1 duplicate labels removed\n",
      "\u001b[34m\u001b[1mtrain: \u001b[0mWARNING  C:\\Users\\aaron\\Documents\\Ao4\\TFG\\CityScapesWithPanopticSegm\\dataset\\images\\train\\strasbourg_000001_030997_gtFine_polygons.png: 1 duplicate labels removed\n",
      "\u001b[34m\u001b[1mtrain: \u001b[0mWARNING  C:\\Users\\aaron\\Documents\\Ao4\\TFG\\CityScapesWithPanopticSegm\\dataset\\images\\train\\strasbourg_000001_031582_gtFine_polygons.png: 1 duplicate labels removed\n",
      "\u001b[34m\u001b[1mtrain: \u001b[0mWARNING  C:\\Users\\aaron\\Documents\\Ao4\\TFG\\CityScapesWithPanopticSegm\\dataset\\images\\train\\strasbourg_000001_051317_gtFine_polygons.png: 1 duplicate labels removed\n",
      "\u001b[34m\u001b[1mtrain: \u001b[0mWARNING  C:\\Users\\aaron\\Documents\\Ao4\\TFG\\CityScapesWithPanopticSegm\\dataset\\images\\train\\strasbourg_000001_052050_gtFine_polygons.png: 1 duplicate labels removed\n",
      "\u001b[34m\u001b[1mtrain: \u001b[0mWARNING  C:\\Users\\aaron\\Documents\\Ao4\\TFG\\CityScapesWithPanopticSegm\\dataset\\images\\train\\strasbourg_000001_058373_gtFine_polygons.png: 14 duplicate labels removed\n",
      "\u001b[34m\u001b[1mtrain: \u001b[0mWARNING  C:\\Users\\aaron\\Documents\\Ao4\\TFG\\CityScapesWithPanopticSegm\\dataset\\images\\train\\strasbourg_000001_058954_gtFine_polygons.png: 1 duplicate labels removed\n",
      "\u001b[34m\u001b[1mtrain: \u001b[0mWARNING  C:\\Users\\aaron\\Documents\\Ao4\\TFG\\CityScapesWithPanopticSegm\\dataset\\images\\train\\strasbourg_000001_062691_gtFine_polygons.png: 1 duplicate labels removed\n",
      "\u001b[34m\u001b[1mtrain: \u001b[0mWARNING  C:\\Users\\aaron\\Documents\\Ao4\\TFG\\CityScapesWithPanopticSegm\\dataset\\images\\train\\strasbourg_000001_064224_gtFine_polygons.png: 2 duplicate labels removed\n",
      "\u001b[34m\u001b[1mtrain: \u001b[0mWARNING  C:\\Users\\aaron\\Documents\\Ao4\\TFG\\CityScapesWithPanopticSegm\\dataset\\images\\train\\strasbourg_000001_064393_gtFine_polygons.png: 1 duplicate labels removed\n",
      "\u001b[34m\u001b[1mtrain: \u001b[0mWARNING  C:\\Users\\aaron\\Documents\\Ao4\\TFG\\CityScapesWithPanopticSegm\\dataset\\images\\train\\stuttgart_000002_000019_gtFine_polygons.png: ignoring corrupt image/label: non-normalized or out of bounds coordinates [     1.0005]\n",
      "\u001b[34m\u001b[1mtrain: \u001b[0mWARNING  C:\\Users\\aaron\\Documents\\Ao4\\TFG\\CityScapesWithPanopticSegm\\dataset\\images\\train\\stuttgart_000005_000019_gtFine_polygons.png: ignoring corrupt image/label: non-normalized or out of bounds coordinates [      1.001]\n",
      "\u001b[34m\u001b[1mtrain: \u001b[0mWARNING  C:\\Users\\aaron\\Documents\\Ao4\\TFG\\CityScapesWithPanopticSegm\\dataset\\images\\train\\stuttgart_000006_000019_gtFine_polygons.png: 1 duplicate labels removed\n",
      "\u001b[34m\u001b[1mtrain: \u001b[0mWARNING  C:\\Users\\aaron\\Documents\\Ao4\\TFG\\CityScapesWithPanopticSegm\\dataset\\images\\train\\stuttgart_000068_000019_gtFine_polygons.png: 1 duplicate labels removed\n",
      "\u001b[34m\u001b[1mtrain: \u001b[0mWARNING  C:\\Users\\aaron\\Documents\\Ao4\\TFG\\CityScapesWithPanopticSegm\\dataset\\images\\train\\stuttgart_000109_000019_gtFine_polygons.png: 1 duplicate labels removed\n",
      "\u001b[34m\u001b[1mtrain: \u001b[0mWARNING  C:\\Users\\aaron\\Documents\\Ao4\\TFG\\CityScapesWithPanopticSegm\\dataset\\images\\train\\stuttgart_000120_000019_gtFine_polygons.png: 2 duplicate labels removed\n",
      "\u001b[34m\u001b[1mtrain: \u001b[0mWARNING  C:\\Users\\aaron\\Documents\\Ao4\\TFG\\CityScapesWithPanopticSegm\\dataset\\images\\train\\stuttgart_000168_000019_gtFine_polygons.png: 1 duplicate labels removed\n",
      "\u001b[34m\u001b[1mtrain: \u001b[0mWARNING  C:\\Users\\aaron\\Documents\\Ao4\\TFG\\CityScapesWithPanopticSegm\\dataset\\images\\train\\stuttgart_000175_000019_gtFine_polygons.png: 2 duplicate labels removed\n",
      "\u001b[34m\u001b[1mtrain: \u001b[0mWARNING  C:\\Users\\aaron\\Documents\\Ao4\\TFG\\CityScapesWithPanopticSegm\\dataset\\images\\train\\stuttgart_000184_000019_gtFine_polygons.png: 2 duplicate labels removed\n",
      "\u001b[34m\u001b[1mtrain: \u001b[0mWARNING  C:\\Users\\aaron\\Documents\\Ao4\\TFG\\CityScapesWithPanopticSegm\\dataset\\images\\train\\tubingen_000008_000019_gtFine_polygons.png: 1 duplicate labels removed\n",
      "\u001b[34m\u001b[1mtrain: \u001b[0mWARNING  C:\\Users\\aaron\\Documents\\Ao4\\TFG\\CityScapesWithPanopticSegm\\dataset\\images\\train\\tubingen_000089_000019_gtFine_polygons.png: 1 duplicate labels removed\n",
      "\u001b[34m\u001b[1mtrain: \u001b[0mWARNING  C:\\Users\\aaron\\Documents\\Ao4\\TFG\\CityScapesWithPanopticSegm\\dataset\\images\\train\\tubingen_000118_000019_gtFine_polygons.png: 6 duplicate labels removed\n",
      "\u001b[34m\u001b[1mtrain: \u001b[0mWARNING  C:\\Users\\aaron\\Documents\\Ao4\\TFG\\CityScapesWithPanopticSegm\\dataset\\images\\train\\ulm_000004_000019_gtFine_polygons.png: 2 duplicate labels removed\n",
      "\u001b[34m\u001b[1mtrain: \u001b[0mWARNING  C:\\Users\\aaron\\Documents\\Ao4\\TFG\\CityScapesWithPanopticSegm\\dataset\\images\\train\\ulm_000005_000019_gtFine_polygons.png: 4 duplicate labels removed\n",
      "\u001b[34m\u001b[1mtrain: \u001b[0mWARNING  C:\\Users\\aaron\\Documents\\Ao4\\TFG\\CityScapesWithPanopticSegm\\dataset\\images\\train\\ulm_000006_000019_gtFine_polygons.png: 8 duplicate labels removed\n",
      "\u001b[34m\u001b[1mtrain: \u001b[0mWARNING  C:\\Users\\aaron\\Documents\\Ao4\\TFG\\CityScapesWithPanopticSegm\\dataset\\images\\train\\ulm_000011_000019_gtFine_polygons.png: 1 duplicate labels removed\n",
      "\u001b[34m\u001b[1mtrain: \u001b[0mWARNING  C:\\Users\\aaron\\Documents\\Ao4\\TFG\\CityScapesWithPanopticSegm\\dataset\\images\\train\\ulm_000012_000019_gtFine_polygons.png: 2 duplicate labels removed\n",
      "\u001b[34m\u001b[1mtrain: \u001b[0mWARNING  C:\\Users\\aaron\\Documents\\Ao4\\TFG\\CityScapesWithPanopticSegm\\dataset\\images\\train\\ulm_000013_000019_gtFine_polygons.png: 2 duplicate labels removed\n",
      "\u001b[34m\u001b[1mtrain: \u001b[0mWARNING  C:\\Users\\aaron\\Documents\\Ao4\\TFG\\CityScapesWithPanopticSegm\\dataset\\images\\train\\ulm_000017_000019_gtFine_polygons.png: 2 duplicate labels removed\n",
      "\u001b[34m\u001b[1mtrain: \u001b[0mWARNING  C:\\Users\\aaron\\Documents\\Ao4\\TFG\\CityScapesWithPanopticSegm\\dataset\\images\\train\\ulm_000024_000019_gtFine_polygons.png: 2 duplicate labels removed\n",
      "\u001b[34m\u001b[1mtrain: \u001b[0mWARNING  C:\\Users\\aaron\\Documents\\Ao4\\TFG\\CityScapesWithPanopticSegm\\dataset\\images\\train\\ulm_000025_000019_gtFine_polygons.png: 3 duplicate labels removed\n",
      "\u001b[34m\u001b[1mtrain: \u001b[0mWARNING  C:\\Users\\aaron\\Documents\\Ao4\\TFG\\CityScapesWithPanopticSegm\\dataset\\images\\train\\ulm_000037_000019_gtFine_polygons.png: 1 duplicate labels removed\n",
      "\u001b[34m\u001b[1mtrain: \u001b[0mWARNING  C:\\Users\\aaron\\Documents\\Ao4\\TFG\\CityScapesWithPanopticSegm\\dataset\\images\\train\\ulm_000056_000019_gtFine_polygons.png: 2 duplicate labels removed\n",
      "\u001b[34m\u001b[1mtrain: \u001b[0mWARNING  C:\\Users\\aaron\\Documents\\Ao4\\TFG\\CityScapesWithPanopticSegm\\dataset\\images\\train\\ulm_000058_000019_gtFine_polygons.png: 3 duplicate labels removed\n",
      "\u001b[34m\u001b[1mtrain: \u001b[0mWARNING  C:\\Users\\aaron\\Documents\\Ao4\\TFG\\CityScapesWithPanopticSegm\\dataset\\images\\train\\ulm_000067_000019_gtFine_polygons.png: 3 duplicate labels removed\n",
      "\u001b[34m\u001b[1mtrain: \u001b[0mWARNING  C:\\Users\\aaron\\Documents\\Ao4\\TFG\\CityScapesWithPanopticSegm\\dataset\\images\\train\\ulm_000068_000019_gtFine_polygons.png: 3 duplicate labels removed\n",
      "\u001b[34m\u001b[1mtrain: \u001b[0mWARNING  C:\\Users\\aaron\\Documents\\Ao4\\TFG\\CityScapesWithPanopticSegm\\dataset\\images\\train\\ulm_000069_000019_gtFine_polygons.png: 3 duplicate labels removed\n",
      "\u001b[34m\u001b[1mtrain: \u001b[0mWARNING  C:\\Users\\aaron\\Documents\\Ao4\\TFG\\CityScapesWithPanopticSegm\\dataset\\images\\train\\ulm_000078_000019_gtFine_polygons.png: 1 duplicate labels removed\n",
      "\u001b[34m\u001b[1mtrain: \u001b[0mWARNING  C:\\Users\\aaron\\Documents\\Ao4\\TFG\\CityScapesWithPanopticSegm\\dataset\\images\\train\\ulm_000079_000019_gtFine_polygons.png: 1 duplicate labels removed\n",
      "\u001b[34m\u001b[1mtrain: \u001b[0mWARNING  C:\\Users\\aaron\\Documents\\Ao4\\TFG\\CityScapesWithPanopticSegm\\dataset\\images\\train\\ulm_000084_000019_gtFine_polygons.png: 2 duplicate labels removed\n",
      "\u001b[34m\u001b[1mtrain: \u001b[0mWARNING  C:\\Users\\aaron\\Documents\\Ao4\\TFG\\CityScapesWithPanopticSegm\\dataset\\images\\train\\weimar_000013_000019_gtFine_polygons.png: ignoring corrupt image/label: non-normalized or out of bounds coordinates [      1.001]\n",
      "\u001b[34m\u001b[1mtrain: \u001b[0mWARNING  C:\\Users\\aaron\\Documents\\Ao4\\TFG\\CityScapesWithPanopticSegm\\dataset\\images\\train\\zurich_000002_000019_gtFine_polygons.png: ignoring corrupt image/label: non-normalized or out of bounds coordinates [     1.0005]\n",
      "\u001b[34m\u001b[1mtrain: \u001b[0mWARNING  C:\\Users\\aaron\\Documents\\Ao4\\TFG\\CityScapesWithPanopticSegm\\dataset\\images\\train\\zurich_000027_000019_gtFine_polygons.png: 1 duplicate labels removed\n",
      "\u001b[34m\u001b[1mtrain: \u001b[0mWARNING  C:\\Users\\aaron\\Documents\\Ao4\\TFG\\CityScapesWithPanopticSegm\\dataset\\images\\train\\zurich_000107_000019_gtFine_polygons.png: 1 duplicate labels removed\n"
     ]
    },
    {
     "name": "stderr",
     "output_type": "stream",
     "text": [
      "\n",
      "\u001b[34m\u001b[1mval: \u001b[0mScanning C:\\Users\\aaron\\Documents\\Año4\\TFG\\CityScapesWithPanopticSegm\\dataset\\labels\\val.cache... 500 images, 0 backgrounds, 5 corrupt: 100%|██████████| 500/500 [00:00<?, ?it/s]"
     ]
    },
    {
     "name": "stdout",
     "output_type": "stream",
     "text": [
      "\u001b[34m\u001b[1mval: \u001b[0mWARNING  C:\\Users\\aaron\\Documents\\Ao4\\TFG\\CityScapesWithPanopticSegm\\dataset\\images\\val\\frankfurt_000001_016273_gtFine_polygons.png: 1 duplicate labels removed\n",
      "\u001b[34m\u001b[1mval: \u001b[0mWARNING  C:\\Users\\aaron\\Documents\\Ao4\\TFG\\CityScapesWithPanopticSegm\\dataset\\images\\val\\frankfurt_000001_017101_gtFine_polygons.png: 1 duplicate labels removed\n",
      "\u001b[34m\u001b[1mval: \u001b[0mWARNING  C:\\Users\\aaron\\Documents\\Ao4\\TFG\\CityScapesWithPanopticSegm\\dataset\\images\\val\\frankfurt_000001_028232_gtFine_polygons.png: 1 duplicate labels removed\n",
      "\u001b[34m\u001b[1mval: \u001b[0mWARNING  C:\\Users\\aaron\\Documents\\Ao4\\TFG\\CityScapesWithPanopticSegm\\dataset\\images\\val\\frankfurt_000001_046272_gtFine_polygons.png: 1 duplicate labels removed\n",
      "\u001b[34m\u001b[1mval: \u001b[0mWARNING  C:\\Users\\aaron\\Documents\\Ao4\\TFG\\CityScapesWithPanopticSegm\\dataset\\images\\val\\frankfurt_000001_077434_gtFine_polygons.png: 1 duplicate labels removed\n",
      "\u001b[34m\u001b[1mval: \u001b[0mWARNING  C:\\Users\\aaron\\Documents\\Ao4\\TFG\\CityScapesWithPanopticSegm\\dataset\\images\\val\\lindau_000000_000019_gtFine_polygons.png: ignoring corrupt image/label: non-normalized or out of bounds coordinates [     1.0034]\n",
      "\u001b[34m\u001b[1mval: \u001b[0mWARNING  C:\\Users\\aaron\\Documents\\Ao4\\TFG\\CityScapesWithPanopticSegm\\dataset\\images\\val\\lindau_000013_000019_gtFine_polygons.png: ignoring corrupt image/label: non-normalized or out of bounds coordinates [     1.0005]\n",
      "\u001b[34m\u001b[1mval: \u001b[0mWARNING  C:\\Users\\aaron\\Documents\\Ao4\\TFG\\CityScapesWithPanopticSegm\\dataset\\images\\val\\lindau_000018_000019_gtFine_polygons.png: ignoring corrupt image/label: non-normalized or out of bounds coordinates [      1.001]\n",
      "\u001b[34m\u001b[1mval: \u001b[0mWARNING  C:\\Users\\aaron\\Documents\\Ao4\\TFG\\CityScapesWithPanopticSegm\\dataset\\images\\val\\munster_000026_000019_gtFine_polygons.png: 2 duplicate labels removed\n",
      "\u001b[34m\u001b[1mval: \u001b[0mWARNING  C:\\Users\\aaron\\Documents\\Ao4\\TFG\\CityScapesWithPanopticSegm\\dataset\\images\\val\\munster_000029_000019_gtFine_polygons.png: 1 duplicate labels removed\n",
      "\u001b[34m\u001b[1mval: \u001b[0mWARNING  C:\\Users\\aaron\\Documents\\Ao4\\TFG\\CityScapesWithPanopticSegm\\dataset\\images\\val\\munster_000035_000019_gtFine_polygons.png: ignoring corrupt image/label: non-normalized or out of bounds coordinates [     1.0005]\n",
      "\u001b[34m\u001b[1mval: \u001b[0mWARNING  C:\\Users\\aaron\\Documents\\Ao4\\TFG\\CityScapesWithPanopticSegm\\dataset\\images\\val\\munster_000045_000019_gtFine_polygons.png: ignoring corrupt image/label: non-normalized or out of bounds coordinates [     1.0005]\n",
      "\u001b[34m\u001b[1mval: \u001b[0mWARNING  C:\\Users\\aaron\\Documents\\Ao4\\TFG\\CityScapesWithPanopticSegm\\dataset\\images\\val\\munster_000049_000019_gtFine_polygons.png: 1 duplicate labels removed\n",
      "\u001b[34m\u001b[1mval: \u001b[0mWARNING  C:\\Users\\aaron\\Documents\\Ao4\\TFG\\CityScapesWithPanopticSegm\\dataset\\images\\val\\munster_000108_000019_gtFine_polygons.png: 1 duplicate labels removed\n",
      "\u001b[34m\u001b[1mval: \u001b[0mWARNING  C:\\Users\\aaron\\Documents\\Ao4\\TFG\\CityScapesWithPanopticSegm\\dataset\\images\\val\\munster_000140_000019_gtFine_polygons.png: 1 duplicate labels removed\n",
      "\u001b[34m\u001b[1mval: \u001b[0mWARNING  C:\\Users\\aaron\\Documents\\Ao4\\TFG\\CityScapesWithPanopticSegm\\dataset\\images\\val\\munster_000141_000019_gtFine_polygons.png: 1 duplicate labels removed\n",
      "\u001b[34m\u001b[1mval: \u001b[0mWARNING  C:\\Users\\aaron\\Documents\\Ao4\\TFG\\CityScapesWithPanopticSegm\\dataset\\images\\val\\munster_000142_000019_gtFine_polygons.png: 1 duplicate labels removed\n",
      "\u001b[34m\u001b[1mval: \u001b[0mWARNING  C:\\Users\\aaron\\Documents\\Ao4\\TFG\\CityScapesWithPanopticSegm\\dataset\\images\\val\\munster_000167_000019_gtFine_polygons.png: 1 duplicate labels removed\n",
      "Plotting labels to runs\\segment\\train55\\labels.jpg... \n"
     ]
    },
    {
     "name": "stderr",
     "output_type": "stream",
     "text": [
      "\n"
     ]
    },
    {
     "name": "stdout",
     "output_type": "stream",
     "text": [
      "\u001b[34m\u001b[1moptimizer:\u001b[0m 'optimizer=auto' found, ignoring 'lr0=0.001' and 'momentum=0.937' and determining best 'optimizer', 'lr0' and 'momentum' automatically... \n",
      "\u001b[34m\u001b[1moptimizer:\u001b[0m AdamW(lr=0.000588, momentum=0.9) with parameter groups 86 weight(decay=0.0), 97 weight(decay=0.0004), 96 bias(decay=0.0)\n",
      "Image sizes 640 train, 640 val\n",
      "Using 0 dataloader workers\n",
      "Logging results to \u001b[1mruns\\segment\\train55\u001b[0m\n",
      "Starting training for 50 epochs...\n",
      "\n",
      "      Epoch    GPU_mem   box_loss   seg_loss   cls_loss   dfl_loss  Instances       Size\n"
     ]
    },
    {
     "name": "stderr",
     "output_type": "stream",
     "text": [
      "       1/50      4.18G      1.385      2.844      1.047      1.258        885        640: 100%|██████████| 369/369 [13:18<00:00,  2.16s/it]\n",
      "                 Class     Images  Instances      Box(P          R      mAP50  mAP50-95)     Mask(P          R      mAP50  mAP50-95): 100%|██████████| 31/31 [00:54<00:00,  1.75s/it]"
     ]
    },
    {
     "name": "stdout",
     "output_type": "stream",
     "text": [
      "                   all        495      23219      0.679        0.5      0.547      0.351      0.625      0.439      0.453      0.245\n"
     ]
    },
    {
     "name": "stderr",
     "output_type": "stream",
     "text": [
      "\n"
     ]
    },
    {
     "name": "stdout",
     "output_type": "stream",
     "text": [
      "\n",
      "      Epoch    GPU_mem   box_loss   seg_loss   cls_loss   dfl_loss  Instances       Size\n"
     ]
    },
    {
     "name": "stderr",
     "output_type": "stream",
     "text": [
      "       2/50      4.26G      1.408      2.866      1.069      1.268        427        640: 100%|██████████| 369/369 [12:47<00:00,  2.08s/it]\n",
      "                 Class     Images  Instances      Box(P          R      mAP50  mAP50-95)     Mask(P          R      mAP50  mAP50-95): 100%|██████████| 31/31 [00:51<00:00,  1.67s/it]\n"
     ]
    },
    {
     "name": "stdout",
     "output_type": "stream",
     "text": [
      "                   all        495      23219      0.653      0.501      0.533      0.334      0.582      0.422      0.426      0.232\n",
      "\n",
      "      Epoch    GPU_mem   box_loss   seg_loss   cls_loss   dfl_loss  Instances       Size\n"
     ]
    },
    {
     "name": "stderr",
     "output_type": "stream",
     "text": [
      "       3/50      4.36G      1.419      2.883      1.083      1.275        414        640: 100%|██████████| 369/369 [12:46<00:00,  2.08s/it]\n",
      "                 Class     Images  Instances      Box(P          R      mAP50  mAP50-95)     Mask(P          R      mAP50  mAP50-95): 100%|██████████| 31/31 [00:52<00:00,  1.69s/it]"
     ]
    },
    {
     "name": "stdout",
     "output_type": "stream",
     "text": [
      "                   all        495      23219       0.68      0.489      0.537      0.337      0.606       0.43      0.444      0.238\n"
     ]
    },
    {
     "name": "stderr",
     "output_type": "stream",
     "text": [
      "\n"
     ]
    },
    {
     "name": "stdout",
     "output_type": "stream",
     "text": [
      "\n",
      "      Epoch    GPU_mem   box_loss   seg_loss   cls_loss   dfl_loss  Instances       Size\n"
     ]
    },
    {
     "name": "stderr",
     "output_type": "stream",
     "text": [
      "       4/50      4.31G      1.429      2.901      1.093      1.282        427        640: 100%|██████████| 369/369 [12:52<00:00,  2.09s/it]\n",
      "                 Class     Images  Instances      Box(P          R      mAP50  mAP50-95)     Mask(P          R      mAP50  mAP50-95): 100%|██████████| 31/31 [00:51<00:00,  1.67s/it]\n"
     ]
    },
    {
     "name": "stdout",
     "output_type": "stream",
     "text": [
      "                   all        495      23219      0.664      0.495      0.533      0.335      0.584      0.433      0.432      0.231\n",
      "\n",
      "      Epoch    GPU_mem   box_loss   seg_loss   cls_loss   dfl_loss  Instances       Size\n"
     ]
    },
    {
     "name": "stderr",
     "output_type": "stream",
     "text": [
      "       5/50      4.17G      1.418      2.869      1.081      1.276        756        640: 100%|██████████| 369/369 [12:45<00:00,  2.07s/it]\n",
      "                 Class     Images  Instances      Box(P          R      mAP50  mAP50-95)     Mask(P          R      mAP50  mAP50-95): 100%|██████████| 31/31 [00:51<00:00,  1.67s/it]"
     ]
    },
    {
     "name": "stdout",
     "output_type": "stream",
     "text": [
      "                   all        495      23219      0.649      0.508      0.538       0.34      0.603      0.444      0.447      0.237\n"
     ]
    },
    {
     "name": "stderr",
     "output_type": "stream",
     "text": [
      "\n"
     ]
    },
    {
     "name": "stdout",
     "output_type": "stream",
     "text": [
      "\n",
      "      Epoch    GPU_mem   box_loss   seg_loss   cls_loss   dfl_loss  Instances       Size\n"
     ]
    },
    {
     "name": "stderr",
     "output_type": "stream",
     "text": [
      "       6/50       4.3G      1.419      2.882      1.085      1.275        577        640: 100%|██████████| 369/369 [12:36<00:00,  2.05s/it]\n",
      "                 Class     Images  Instances      Box(P          R      mAP50  mAP50-95)     Mask(P          R      mAP50  mAP50-95): 100%|██████████| 31/31 [00:51<00:00,  1.67s/it]\n"
     ]
    },
    {
     "name": "stdout",
     "output_type": "stream",
     "text": [
      "                   all        495      23219      0.656      0.491      0.536      0.339      0.604      0.425      0.449      0.241\n",
      "\n",
      "      Epoch    GPU_mem   box_loss   seg_loss   cls_loss   dfl_loss  Instances       Size\n"
     ]
    },
    {
     "name": "stderr",
     "output_type": "stream",
     "text": [
      "       7/50      4.74G      1.422      2.887       1.08       1.28        644        640: 100%|██████████| 369/369 [12:53<00:00,  2.10s/it]\n",
      "                 Class     Images  Instances      Box(P          R      mAP50  mAP50-95)     Mask(P          R      mAP50  mAP50-95): 100%|██████████| 31/31 [00:53<00:00,  1.72s/it]\n"
     ]
    },
    {
     "name": "stdout",
     "output_type": "stream",
     "text": [
      "                   all        495      23219      0.673      0.499      0.527      0.332      0.601      0.443      0.438      0.237\n",
      "\n",
      "      Epoch    GPU_mem   box_loss   seg_loss   cls_loss   dfl_loss  Instances       Size\n"
     ]
    },
    {
     "name": "stderr",
     "output_type": "stream",
     "text": [
      "       8/50      4.54G      1.433      2.914      1.094      1.285        517        640: 100%|██████████| 369/369 [13:00<00:00,  2.12s/it]\n",
      "                 Class     Images  Instances      Box(P          R      mAP50  mAP50-95)     Mask(P          R      mAP50  mAP50-95): 100%|██████████| 31/31 [00:53<00:00,  1.72s/it]\n"
     ]
    },
    {
     "name": "stdout",
     "output_type": "stream",
     "text": [
      "                   all        495      23219      0.681      0.499      0.537      0.338      0.627      0.435      0.449      0.239\n",
      "\n",
      "      Epoch    GPU_mem   box_loss   seg_loss   cls_loss   dfl_loss  Instances       Size\n"
     ]
    },
    {
     "name": "stderr",
     "output_type": "stream",
     "text": [
      "       9/50      4.62G      1.422      2.887      1.079      1.278        281        640: 100%|██████████| 369/369 [13:09<00:00,  2.14s/it]\n",
      "                 Class     Images  Instances      Box(P          R      mAP50  mAP50-95)     Mask(P          R      mAP50  mAP50-95): 100%|██████████| 31/31 [00:53<00:00,  1.73s/it]\n"
     ]
    },
    {
     "name": "stdout",
     "output_type": "stream",
     "text": [
      "                   all        495      23219      0.681      0.498      0.541      0.346      0.601       0.44      0.451      0.242\n",
      "\n",
      "      Epoch    GPU_mem   box_loss   seg_loss   cls_loss   dfl_loss  Instances       Size\n"
     ]
    },
    {
     "name": "stderr",
     "output_type": "stream",
     "text": [
      "      10/50      4.01G      1.406      2.855      1.071      1.273        740        640: 100%|██████████| 369/369 [12:29<00:00,  2.03s/it]\n",
      "                 Class     Images  Instances      Box(P          R      mAP50  mAP50-95)     Mask(P          R      mAP50  mAP50-95): 100%|██████████| 31/31 [00:51<00:00,  1.67s/it]\n"
     ]
    },
    {
     "name": "stdout",
     "output_type": "stream",
     "text": [
      "                   all        495      23219      0.665      0.497      0.538      0.342      0.599      0.447      0.449      0.237\n",
      "\n",
      "      Epoch    GPU_mem   box_loss   seg_loss   cls_loss   dfl_loss  Instances       Size\n"
     ]
    },
    {
     "name": "stderr",
     "output_type": "stream",
     "text": [
      "      11/50      3.91G      1.402      2.857      1.068      1.269        514        640: 100%|██████████| 369/369 [12:29<00:00,  2.03s/it]\n",
      "                 Class     Images  Instances      Box(P          R      mAP50  mAP50-95)     Mask(P          R      mAP50  mAP50-95): 100%|██████████| 31/31 [00:51<00:00,  1.67s/it]\n"
     ]
    },
    {
     "name": "stdout",
     "output_type": "stream",
     "text": [
      "                   all        495      23219      0.665        0.5       0.54      0.344      0.601      0.435      0.444       0.24\n",
      "\u001b[34m\u001b[1mEarlyStopping: \u001b[0mTraining stopped early as no improvement observed in last 10 epochs. Best results observed at epoch 1, best model saved as best.pt.\n",
      "To update EarlyStopping(patience=10) pass a new patience value, i.e. `patience=300` or use `patience=0` to disable EarlyStopping.\n",
      "\n",
      "11 epochs completed in 2.518 hours.\n",
      "Optimizer stripped from runs\\segment\\train55\\weights\\last.pt, 54.8MB\n",
      "Optimizer stripped from runs\\segment\\train55\\weights\\best.pt, 54.8MB\n",
      "\n",
      "Validating runs\\segment\\train55\\weights\\best.pt...\n",
      "Ultralytics 8.3.55  Python-3.11.5 torch-2.6.0+cu126 CUDA:0 (NVIDIA GeForce RTX 4060 Laptop GPU, 8188MiB)\n",
      "YOLOv8m-seg summary (fused): 245 layers, 27,229,911 parameters, 0 gradients, 110.0 GFLOPs\n"
     ]
    },
    {
     "name": "stderr",
     "output_type": "stream",
     "text": [
      "                 Class     Images  Instances      Box(P          R      mAP50  mAP50-95)     Mask(P          R      mAP50  mAP50-95):   0%|          | 0/31 [00:00<?, ?it/s]"
     ]
    },
    {
     "name": "stdout",
     "output_type": "stream",
     "text": [
      "WARNING  Model does not support 'augment=True', reverting to single-scale prediction.\n"
     ]
    },
    {
     "name": "stderr",
     "output_type": "stream",
     "text": [
      "                 Class     Images  Instances      Box(P          R      mAP50  mAP50-95)     Mask(P          R      mAP50  mAP50-95):   3%|▎         | 1/31 [00:02<01:03,  2.13s/it]"
     ]
    },
    {
     "name": "stdout",
     "output_type": "stream",
     "text": [
      "WARNING  Model does not support 'augment=True', reverting to single-scale prediction.\n"
     ]
    },
    {
     "name": "stderr",
     "output_type": "stream",
     "text": [
      "                 Class     Images  Instances      Box(P          R      mAP50  mAP50-95)     Mask(P          R      mAP50  mAP50-95):   6%|▋         | 2/31 [00:04<01:00,  2.07s/it]"
     ]
    },
    {
     "name": "stdout",
     "output_type": "stream",
     "text": [
      "WARNING  Model does not support 'augment=True', reverting to single-scale prediction.\n"
     ]
    },
    {
     "name": "stderr",
     "output_type": "stream",
     "text": [
      "                 Class     Images  Instances      Box(P          R      mAP50  mAP50-95)     Mask(P          R      mAP50  mAP50-95):  10%|▉         | 3/31 [00:06<00:59,  2.14s/it]"
     ]
    },
    {
     "name": "stdout",
     "output_type": "stream",
     "text": [
      "WARNING  Model does not support 'augment=True', reverting to single-scale prediction.\n"
     ]
    },
    {
     "name": "stderr",
     "output_type": "stream",
     "text": [
      "                 Class     Images  Instances      Box(P          R      mAP50  mAP50-95)     Mask(P          R      mAP50  mAP50-95):  13%|█▎        | 4/31 [00:08<00:59,  2.19s/it]"
     ]
    },
    {
     "name": "stdout",
     "output_type": "stream",
     "text": [
      "WARNING  Model does not support 'augment=True', reverting to single-scale prediction.\n"
     ]
    },
    {
     "name": "stderr",
     "output_type": "stream",
     "text": [
      "                 Class     Images  Instances      Box(P          R      mAP50  mAP50-95)     Mask(P          R      mAP50  mAP50-95):  16%|█▌        | 5/31 [00:10<00:52,  2.02s/it]"
     ]
    },
    {
     "name": "stdout",
     "output_type": "stream",
     "text": [
      "WARNING  Model does not support 'augment=True', reverting to single-scale prediction.\n"
     ]
    },
    {
     "name": "stderr",
     "output_type": "stream",
     "text": [
      "                 Class     Images  Instances      Box(P          R      mAP50  mAP50-95)     Mask(P          R      mAP50  mAP50-95):  19%|█▉        | 6/31 [00:12<00:47,  1.91s/it]"
     ]
    },
    {
     "name": "stdout",
     "output_type": "stream",
     "text": [
      "WARNING  Model does not support 'augment=True', reverting to single-scale prediction.\n"
     ]
    },
    {
     "name": "stderr",
     "output_type": "stream",
     "text": [
      "                 Class     Images  Instances      Box(P          R      mAP50  mAP50-95)     Mask(P          R      mAP50  mAP50-95):  23%|██▎       | 7/31 [00:13<00:42,  1.78s/it]"
     ]
    },
    {
     "name": "stdout",
     "output_type": "stream",
     "text": [
      "WARNING  Model does not support 'augment=True', reverting to single-scale prediction.\n"
     ]
    },
    {
     "name": "stderr",
     "output_type": "stream",
     "text": [
      "                 Class     Images  Instances      Box(P          R      mAP50  mAP50-95)     Mask(P          R      mAP50  mAP50-95):  26%|██▌       | 8/31 [00:15<00:39,  1.73s/it]"
     ]
    },
    {
     "name": "stdout",
     "output_type": "stream",
     "text": [
      "WARNING  Model does not support 'augment=True', reverting to single-scale prediction.\n"
     ]
    },
    {
     "name": "stderr",
     "output_type": "stream",
     "text": [
      "                 Class     Images  Instances      Box(P          R      mAP50  mAP50-95)     Mask(P          R      mAP50  mAP50-95):  29%|██▉       | 9/31 [00:16<00:38,  1.73s/it]"
     ]
    },
    {
     "name": "stdout",
     "output_type": "stream",
     "text": [
      "WARNING  Model does not support 'augment=True', reverting to single-scale prediction.\n"
     ]
    },
    {
     "name": "stderr",
     "output_type": "stream",
     "text": [
      "                 Class     Images  Instances      Box(P          R      mAP50  mAP50-95)     Mask(P          R      mAP50  mAP50-95):  32%|███▏      | 10/31 [00:18<00:36,  1.73s/it]"
     ]
    },
    {
     "name": "stdout",
     "output_type": "stream",
     "text": [
      "WARNING  Model does not support 'augment=True', reverting to single-scale prediction.\n"
     ]
    },
    {
     "name": "stderr",
     "output_type": "stream",
     "text": [
      "                 Class     Images  Instances      Box(P          R      mAP50  mAP50-95)     Mask(P          R      mAP50  mAP50-95):  35%|███▌      | 11/31 [00:20<00:35,  1.76s/it]"
     ]
    },
    {
     "name": "stdout",
     "output_type": "stream",
     "text": [
      "WARNING  Model does not support 'augment=True', reverting to single-scale prediction.\n"
     ]
    },
    {
     "name": "stderr",
     "output_type": "stream",
     "text": [
      "                 Class     Images  Instances      Box(P          R      mAP50  mAP50-95)     Mask(P          R      mAP50  mAP50-95):  39%|███▊      | 12/31 [00:22<00:34,  1.81s/it]"
     ]
    },
    {
     "name": "stdout",
     "output_type": "stream",
     "text": [
      "WARNING  Model does not support 'augment=True', reverting to single-scale prediction.\n"
     ]
    },
    {
     "name": "stderr",
     "output_type": "stream",
     "text": [
      "                 Class     Images  Instances      Box(P          R      mAP50  mAP50-95)     Mask(P          R      mAP50  mAP50-95):  42%|████▏     | 13/31 [00:24<00:33,  1.89s/it]"
     ]
    },
    {
     "name": "stdout",
     "output_type": "stream",
     "text": [
      "WARNING  Model does not support 'augment=True', reverting to single-scale prediction.\n"
     ]
    },
    {
     "name": "stderr",
     "output_type": "stream",
     "text": [
      "                 Class     Images  Instances      Box(P          R      mAP50  mAP50-95)     Mask(P          R      mAP50  mAP50-95):  45%|████▌     | 14/31 [00:26<00:32,  1.92s/it]"
     ]
    },
    {
     "name": "stdout",
     "output_type": "stream",
     "text": [
      "WARNING  Model does not support 'augment=True', reverting to single-scale prediction.\n"
     ]
    },
    {
     "name": "stderr",
     "output_type": "stream",
     "text": [
      "                 Class     Images  Instances      Box(P          R      mAP50  mAP50-95)     Mask(P          R      mAP50  mAP50-95):  48%|████▊     | 15/31 [00:28<00:29,  1.87s/it]"
     ]
    },
    {
     "name": "stdout",
     "output_type": "stream",
     "text": [
      "WARNING  Model does not support 'augment=True', reverting to single-scale prediction.\n"
     ]
    },
    {
     "name": "stderr",
     "output_type": "stream",
     "text": [
      "                 Class     Images  Instances      Box(P          R      mAP50  mAP50-95)     Mask(P          R      mAP50  mAP50-95):  52%|█████▏    | 16/31 [00:30<00:29,  1.95s/it]"
     ]
    },
    {
     "name": "stdout",
     "output_type": "stream",
     "text": [
      "WARNING  Model does not support 'augment=True', reverting to single-scale prediction.\n"
     ]
    },
    {
     "name": "stderr",
     "output_type": "stream",
     "text": [
      "                 Class     Images  Instances      Box(P          R      mAP50  mAP50-95)     Mask(P          R      mAP50  mAP50-95):  55%|█████▍    | 17/31 [00:32<00:26,  1.90s/it]"
     ]
    },
    {
     "name": "stdout",
     "output_type": "stream",
     "text": [
      "WARNING  Model does not support 'augment=True', reverting to single-scale prediction.\n"
     ]
    },
    {
     "name": "stderr",
     "output_type": "stream",
     "text": [
      "                 Class     Images  Instances      Box(P          R      mAP50  mAP50-95)     Mask(P          R      mAP50  mAP50-95):  58%|█████▊    | 18/31 [00:34<00:24,  1.89s/it]"
     ]
    },
    {
     "name": "stdout",
     "output_type": "stream",
     "text": [
      "WARNING  Model does not support 'augment=True', reverting to single-scale prediction.\n"
     ]
    },
    {
     "name": "stderr",
     "output_type": "stream",
     "text": [
      "                 Class     Images  Instances      Box(P          R      mAP50  mAP50-95)     Mask(P          R      mAP50  mAP50-95):  61%|██████▏   | 19/31 [00:36<00:23,  1.92s/it]"
     ]
    },
    {
     "name": "stdout",
     "output_type": "stream",
     "text": [
      "WARNING  Model does not support 'augment=True', reverting to single-scale prediction.\n"
     ]
    },
    {
     "name": "stderr",
     "output_type": "stream",
     "text": [
      "                 Class     Images  Instances      Box(P          R      mAP50  mAP50-95)     Mask(P          R      mAP50  mAP50-95):  65%|██████▍   | 20/31 [00:37<00:20,  1.88s/it]"
     ]
    },
    {
     "name": "stdout",
     "output_type": "stream",
     "text": [
      "WARNING  Model does not support 'augment=True', reverting to single-scale prediction.\n"
     ]
    },
    {
     "name": "stderr",
     "output_type": "stream",
     "text": [
      "                 Class     Images  Instances      Box(P          R      mAP50  mAP50-95)     Mask(P          R      mAP50  mAP50-95):  68%|██████▊   | 21/31 [00:39<00:18,  1.87s/it]"
     ]
    },
    {
     "name": "stdout",
     "output_type": "stream",
     "text": [
      "WARNING  Model does not support 'augment=True', reverting to single-scale prediction.\n"
     ]
    },
    {
     "name": "stderr",
     "output_type": "stream",
     "text": [
      "                 Class     Images  Instances      Box(P          R      mAP50  mAP50-95)     Mask(P          R      mAP50  mAP50-95):  71%|███████   | 22/31 [00:41<00:16,  1.86s/it]"
     ]
    },
    {
     "name": "stdout",
     "output_type": "stream",
     "text": [
      "WARNING  Model does not support 'augment=True', reverting to single-scale prediction.\n"
     ]
    },
    {
     "name": "stderr",
     "output_type": "stream",
     "text": [
      "                 Class     Images  Instances      Box(P          R      mAP50  mAP50-95)     Mask(P          R      mAP50  mAP50-95):  74%|███████▍  | 23/31 [00:43<00:14,  1.84s/it]"
     ]
    },
    {
     "name": "stdout",
     "output_type": "stream",
     "text": [
      "WARNING  Model does not support 'augment=True', reverting to single-scale prediction.\n"
     ]
    },
    {
     "name": "stderr",
     "output_type": "stream",
     "text": [
      "                 Class     Images  Instances      Box(P          R      mAP50  mAP50-95)     Mask(P          R      mAP50  mAP50-95):  77%|███████▋  | 24/31 [00:45<00:12,  1.83s/it]"
     ]
    },
    {
     "name": "stdout",
     "output_type": "stream",
     "text": [
      "WARNING  Model does not support 'augment=True', reverting to single-scale prediction.\n"
     ]
    },
    {
     "name": "stderr",
     "output_type": "stream",
     "text": [
      "                 Class     Images  Instances      Box(P          R      mAP50  mAP50-95)     Mask(P          R      mAP50  mAP50-95):  81%|████████  | 25/31 [00:47<00:11,  1.87s/it]"
     ]
    },
    {
     "name": "stdout",
     "output_type": "stream",
     "text": [
      "WARNING  Model does not support 'augment=True', reverting to single-scale prediction.\n"
     ]
    },
    {
     "name": "stderr",
     "output_type": "stream",
     "text": [
      "                 Class     Images  Instances      Box(P          R      mAP50  mAP50-95)     Mask(P          R      mAP50  mAP50-95):  84%|████████▍ | 26/31 [00:48<00:09,  1.87s/it]"
     ]
    },
    {
     "name": "stdout",
     "output_type": "stream",
     "text": [
      "WARNING  Model does not support 'augment=True', reverting to single-scale prediction.\n"
     ]
    },
    {
     "name": "stderr",
     "output_type": "stream",
     "text": [
      "                 Class     Images  Instances      Box(P          R      mAP50  mAP50-95)     Mask(P          R      mAP50  mAP50-95):  87%|████████▋ | 27/31 [00:50<00:07,  1.84s/it]"
     ]
    },
    {
     "name": "stdout",
     "output_type": "stream",
     "text": [
      "WARNING  Model does not support 'augment=True', reverting to single-scale prediction.\n"
     ]
    },
    {
     "name": "stderr",
     "output_type": "stream",
     "text": [
      "                 Class     Images  Instances      Box(P          R      mAP50  mAP50-95)     Mask(P          R      mAP50  mAP50-95):  90%|█████████ | 28/31 [00:52<00:05,  1.84s/it]"
     ]
    },
    {
     "name": "stdout",
     "output_type": "stream",
     "text": [
      "WARNING  Model does not support 'augment=True', reverting to single-scale prediction.\n"
     ]
    },
    {
     "name": "stderr",
     "output_type": "stream",
     "text": [
      "                 Class     Images  Instances      Box(P          R      mAP50  mAP50-95)     Mask(P          R      mAP50  mAP50-95):  94%|█████████▎| 29/31 [00:54<00:03,  1.84s/it]"
     ]
    },
    {
     "name": "stdout",
     "output_type": "stream",
     "text": [
      "WARNING  Model does not support 'augment=True', reverting to single-scale prediction.\n"
     ]
    },
    {
     "name": "stderr",
     "output_type": "stream",
     "text": [
      "                 Class     Images  Instances      Box(P          R      mAP50  mAP50-95)     Mask(P          R      mAP50  mAP50-95):  97%|█████████▋| 30/31 [00:56<00:01,  1.83s/it]"
     ]
    },
    {
     "name": "stdout",
     "output_type": "stream",
     "text": [
      "WARNING  Model does not support 'augment=True', reverting to single-scale prediction.\n"
     ]
    },
    {
     "name": "stderr",
     "output_type": "stream",
     "text": [
      "                 Class     Images  Instances      Box(P          R      mAP50  mAP50-95)     Mask(P          R      mAP50  mAP50-95): 100%|██████████| 31/31 [00:57<00:00,  1.86s/it]\n"
     ]
    },
    {
     "name": "stdout",
     "output_type": "stream",
     "text": [
      "                   all        495      23219      0.682        0.5      0.547      0.351      0.624      0.439      0.452      0.244\n",
      "                person        399       3387      0.695      0.464       0.54      0.303      0.543      0.332      0.349       0.14\n",
      "                 rider        252        548      0.836      0.431      0.573       0.35      0.577      0.286      0.272     0.0851\n",
      "                   car        474       4638      0.809      0.648      0.725      0.489      0.656      0.498      0.536      0.271\n",
      "                 truck         79         92      0.535       0.37      0.419      0.307      0.557      0.359      0.395      0.239\n",
      "                   bus         75         98      0.705      0.561       0.65      0.503      0.714      0.561      0.616      0.388\n",
      "                 train         22         23      0.474      0.478      0.468      0.255      0.442      0.435       0.42      0.208\n",
      "            motorcycle         93        149      0.701      0.322      0.376      0.175      0.619      0.262      0.259     0.0729\n",
      "               bicycle        330       1165      0.737      0.335      0.449      0.234      0.681      0.277      0.312      0.106\n",
      "                  road        481        494      0.964       0.97      0.978      0.864      0.965      0.968      0.973      0.868\n",
      "              sidewalk        462       1205      0.635      0.441      0.481       0.28      0.657      0.412      0.442      0.223\n",
      "              building        486       1145      0.549      0.551      0.504      0.312      0.564       0.52      0.477      0.249\n",
      "                  pole        486       9801      0.577      0.164      0.211       0.09      0.507      0.123      0.179     0.0778\n",
      "                   sky        440        474      0.653      0.762      0.734      0.401      0.633      0.677      0.645       0.25\n",
      "Speed: 0.2ms preprocess, 8.4ms inference, 0.0ms loss, 2.3ms postprocess per image\n",
      "Results saved to \u001b[1mruns\\segment\\train55\u001b[0m\n"
     ]
    }
   ],
   "source": [
    "from gc import freeze\n",
    "import os\n",
    "os.environ['KMP_DUPLICATE_LIB_OK'] = 'TRUE'\n",
    "\n",
    "from ultralytics import YOLO\n",
    "\n",
    "# Cargar modelo\n",
    "model = YOLO('runs/segment/train52/weights/best.pt')\n",
    "results = model.train(\n",
    "    data='cityscapes.yaml',\n",
    "    epochs=50,        # Más épocas para mejor convergencia\n",
    "    imgsz=640,      # Mantener resolución alta\n",
    "    batch=8,         # Mantener batch size\n",
    "    workers=0,\n",
    "    pretrained=True,\n",
    "    freeze=10,\n",
    "    patience=10,\n",
    "    # Augmentaciones más agresivas para mejor generalización\n",
    "    flipud=0.3,\n",
    "    fliplr=0.5,\n",
    "    mosaic=0.8,      # Aumentar para más variedad\n",
    "    mixup=0.3,       # Aumentar para mejor robustez\n",
    "\n",
    "    # Ajustes de color más agresivos\n",
    "    hsv_h=0.015,     # Aumentar variación de tono\n",
    "    hsv_s=0.5,       # Aumentar saturación\n",
    "    hsv_v=0.4,       # Más variación de brillo\n",
    "\n",
    "    # Transformaciones geométricas más agresivas\n",
    "    degrees=30.0,    # Más rotación\n",
    "    translate=0.15,  # Más traslación\n",
    "    scale=0.5,      # Más escala\n",
    "    shear=7.0,      # Aumentar shear\n",
    "    perspective=0.0007, # Más perspectiva\n",
    "\n",
    "    # Otras configuraciones\n",
    "    copy_paste=0.3,  # Aumentar copy-paste\n",
    "    augment=True,\n",
    "\n",
    "    # Optimización ajustada\n",
    "    warmup_epochs=3,\n",
    "    warmup_momentum=0.85,\n",
    "    lr0=0.001,     # Learning rate más equilibrado\n",
    "    lrf=0.0001,    # Learning rate final ajustado\n",
    "    weight_decay=0.0004,  # Más regularización\n",
    "\n",
    "    # Nuevas configuraciones\n",
    "    label_smoothing=0.1,  # Añadir label smoothing\n",
    "    overlap_mask=True,    # Mejorar máscaras\n",
    "    mask_ratio=4,        # Ajustar ratio de máscara\n",
    "    dropout=0.2          # Añadir dropout\n",
    ")"
   ]
  },
  {
   "cell_type": "code",
   "execution_count": 4,
   "metadata": {},
   "outputs": [
    {
     "name": "stdout",
     "output_type": "stream",
     "text": [
      "New https://pypi.org/project/ultralytics/8.3.107 available  Update with 'pip install -U ultralytics'\n",
      "Ultralytics 8.3.55  Python-3.11.5 torch-2.6.0+cu126 CUDA:0 (NVIDIA GeForce RTX 4060 Laptop GPU, 8188MiB)\n",
      "\u001b[34m\u001b[1mengine\\trainer: \u001b[0mtask=segment, mode=train, model=runs/segment/train52/weights/best.pt, data=cityscapes.yaml, epochs=30, time=None, patience=17, batch=8, imgsz=640, save=True, save_period=-1, cache=False, device=cuda, workers=0, project=None, name=train552, exist_ok=False, pretrained=True, optimizer=AdamW, verbose=True, seed=0, deterministic=True, single_cls=False, rect=False, cos_lr=False, close_mosaic=10, resume=False, amp=True, fraction=1.0, profile=False, freeze=0, multi_scale=False, overlap_mask=True, mask_ratio=4, dropout=0.2, val=True, split=val, save_json=False, save_hybrid=False, conf=None, iou=0.7, max_det=300, half=False, dnn=False, plots=True, source=None, vid_stride=1, stream_buffer=False, visualize=False, augment=True, agnostic_nms=False, classes=None, retina_masks=False, embed=None, show=False, save_frames=False, save_txt=False, save_conf=False, save_crop=False, show_labels=True, show_conf=True, show_boxes=True, line_width=None, format=torchscript, keras=False, optimize=False, int8=False, dynamic=False, simplify=True, opset=None, workspace=None, nms=False, lr0=1e-08, lrf=0.01221, momentum=0.86519, weight_decay=0.00045, warmup_epochs=5.0, warmup_momentum=0.80406, warmup_bias_lr=0.0, box=5.59591, cls=0.76484, dfl=2.14151, pose=12.0, kobj=1.0, nbs=64, hsv_h=0.0, hsv_s=0.0, hsv_v=0.0, degrees=0.0, translate=0.0, scale=0.0, shear=0.0, perspective=0.0, flipud=0.0, fliplr=0, bgr=0.0, mosaic=1, mixup=0.0, copy_paste=0.0, copy_paste_mode=flip, auto_augment=randaugment, erasing=0.0, crop_fraction=1.0, cfg=None, tracker=botsort.yaml, save_dir=runs\\segment\\train552\n",
      "\n",
      "                   from  n    params  module                                       arguments                     \n",
      "  0                  -1  1      1392  ultralytics.nn.modules.conv.Conv             [3, 48, 3, 2]                 \n",
      "  1                  -1  1     41664  ultralytics.nn.modules.conv.Conv             [48, 96, 3, 2]                \n",
      "  2                  -1  2    111360  ultralytics.nn.modules.block.C2f             [96, 96, 2, True]             \n",
      "  3                  -1  1    166272  ultralytics.nn.modules.conv.Conv             [96, 192, 3, 2]               \n",
      "  4                  -1  4    813312  ultralytics.nn.modules.block.C2f             [192, 192, 4, True]           \n",
      "  5                  -1  1    664320  ultralytics.nn.modules.conv.Conv             [192, 384, 3, 2]              \n",
      "  6                  -1  4   3248640  ultralytics.nn.modules.block.C2f             [384, 384, 4, True]           \n",
      "  7                  -1  1   1991808  ultralytics.nn.modules.conv.Conv             [384, 576, 3, 2]              \n",
      "  8                  -1  2   3985920  ultralytics.nn.modules.block.C2f             [576, 576, 2, True]           \n",
      "  9                  -1  1    831168  ultralytics.nn.modules.block.SPPF            [576, 576, 5]                 \n",
      " 10                  -1  1         0  torch.nn.modules.upsampling.Upsample         [None, 2, 'nearest']          \n",
      " 11             [-1, 6]  1         0  ultralytics.nn.modules.conv.Concat           [1]                           \n",
      " 12                  -1  2   1993728  ultralytics.nn.modules.block.C2f             [960, 384, 2]                 \n",
      " 13                  -1  1         0  torch.nn.modules.upsampling.Upsample         [None, 2, 'nearest']          \n",
      " 14             [-1, 4]  1         0  ultralytics.nn.modules.conv.Concat           [1]                           \n",
      " 15                  -1  2    517632  ultralytics.nn.modules.block.C2f             [576, 192, 2]                 \n",
      " 16                  -1  1    332160  ultralytics.nn.modules.conv.Conv             [192, 192, 3, 2]              \n",
      " 17            [-1, 12]  1         0  ultralytics.nn.modules.conv.Concat           [1]                           \n",
      " 18                  -1  2   1846272  ultralytics.nn.modules.block.C2f             [576, 384, 2]                 \n",
      " 19                  -1  1   1327872  ultralytics.nn.modules.conv.Conv             [384, 384, 3, 2]              \n",
      " 20             [-1, 9]  1         0  ultralytics.nn.modules.conv.Concat           [1]                           \n",
      " 21                  -1  2   4207104  ultralytics.nn.modules.block.C2f             [960, 576, 2]                 \n",
      " 22        [15, 18, 21]  1   5166551  ultralytics.nn.modules.head.Segment          [13, 32, 192, [192, 384, 576]]\n",
      "YOLOv8m-seg summary: 331 layers, 27,247,175 parameters, 27,247,159 gradients, 110.4 GFLOPs\n",
      "\n",
      "Transferred 537/537 items from pretrained weights\n",
      "Freezing layer 'model.22.dfl.conv.weight'\n",
      "\u001b[34m\u001b[1mAMP: \u001b[0mrunning Automatic Mixed Precision (AMP) checks...\n",
      "\u001b[34m\u001b[1mAMP: \u001b[0mchecks passed \n"
     ]
    },
    {
     "name": "stderr",
     "output_type": "stream",
     "text": [
      "\u001b[34m\u001b[1mtrain: \u001b[0mScanning C:\\Users\\aaron\\Documents\\Año4\\TFG\\CityScapesWithPanopticSegm\\dataset\\labels\\train.cache... 2975 images, 0 backgrounds, 25 corrupt: 100%|██████████| 2975/2975 [00:00<?, ?it/s]"
     ]
    },
    {
     "name": "stdout",
     "output_type": "stream",
     "text": [
      "\u001b[34m\u001b[1mtrain: \u001b[0mWARNING  C:\\Users\\aaron\\Documents\\Ao4\\TFG\\CityScapesWithPanopticSegm\\dataset\\images\\train\\aachen_000000_000019_gtFine_polygons.png: 4 duplicate labels removed\n",
      "\u001b[34m\u001b[1mtrain: \u001b[0mWARNING  C:\\Users\\aaron\\Documents\\Ao4\\TFG\\CityScapesWithPanopticSegm\\dataset\\images\\train\\aachen_000004_000019_gtFine_polygons.png: 1 duplicate labels removed\n",
      "\u001b[34m\u001b[1mtrain: \u001b[0mWARNING  C:\\Users\\aaron\\Documents\\Ao4\\TFG\\CityScapesWithPanopticSegm\\dataset\\images\\train\\aachen_000008_000019_gtFine_polygons.png: 1 duplicate labels removed\n",
      "\u001b[34m\u001b[1mtrain: \u001b[0mWARNING  C:\\Users\\aaron\\Documents\\Ao4\\TFG\\CityScapesWithPanopticSegm\\dataset\\images\\train\\aachen_000022_000019_gtFine_polygons.png: 1 duplicate labels removed\n",
      "\u001b[34m\u001b[1mtrain: \u001b[0mWARNING  C:\\Users\\aaron\\Documents\\Ao4\\TFG\\CityScapesWithPanopticSegm\\dataset\\images\\train\\aachen_000026_000019_gtFine_polygons.png: 1 duplicate labels removed\n",
      "\u001b[34m\u001b[1mtrain: \u001b[0mWARNING  C:\\Users\\aaron\\Documents\\Ao4\\TFG\\CityScapesWithPanopticSegm\\dataset\\images\\train\\aachen_000030_000019_gtFine_polygons.png: 3 duplicate labels removed\n",
      "\u001b[34m\u001b[1mtrain: \u001b[0mWARNING  C:\\Users\\aaron\\Documents\\Ao4\\TFG\\CityScapesWithPanopticSegm\\dataset\\images\\train\\aachen_000031_000019_gtFine_polygons.png: 1 duplicate labels removed\n",
      "\u001b[34m\u001b[1mtrain: \u001b[0mWARNING  C:\\Users\\aaron\\Documents\\Ao4\\TFG\\CityScapesWithPanopticSegm\\dataset\\images\\train\\aachen_000034_000019_gtFine_polygons.png: 1 duplicate labels removed\n",
      "\u001b[34m\u001b[1mtrain: \u001b[0mWARNING  C:\\Users\\aaron\\Documents\\Ao4\\TFG\\CityScapesWithPanopticSegm\\dataset\\images\\train\\aachen_000042_000019_gtFine_polygons.png: 2 duplicate labels removed\n",
      "\u001b[34m\u001b[1mtrain: \u001b[0mWARNING  C:\\Users\\aaron\\Documents\\Ao4\\TFG\\CityScapesWithPanopticSegm\\dataset\\images\\train\\aachen_000058_000019_gtFine_polygons.png: 1 duplicate labels removed\n",
      "\u001b[34m\u001b[1mtrain: \u001b[0mWARNING  C:\\Users\\aaron\\Documents\\Ao4\\TFG\\CityScapesWithPanopticSegm\\dataset\\images\\train\\aachen_000060_000019_gtFine_polygons.png: 15 duplicate labels removed\n",
      "\u001b[34m\u001b[1mtrain: \u001b[0mWARNING  C:\\Users\\aaron\\Documents\\Ao4\\TFG\\CityScapesWithPanopticSegm\\dataset\\images\\train\\aachen_000061_000019_gtFine_polygons.png: 40 duplicate labels removed\n",
      "\u001b[34m\u001b[1mtrain: \u001b[0mWARNING  C:\\Users\\aaron\\Documents\\Ao4\\TFG\\CityScapesWithPanopticSegm\\dataset\\images\\train\\aachen_000062_000019_gtFine_polygons.png: 8 duplicate labels removed\n",
      "\u001b[34m\u001b[1mtrain: \u001b[0mWARNING  C:\\Users\\aaron\\Documents\\Ao4\\TFG\\CityScapesWithPanopticSegm\\dataset\\images\\train\\aachen_000064_000019_gtFine_polygons.png: 1 duplicate labels removed\n",
      "\u001b[34m\u001b[1mtrain: \u001b[0mWARNING  C:\\Users\\aaron\\Documents\\Ao4\\TFG\\CityScapesWithPanopticSegm\\dataset\\images\\train\\aachen_000070_000019_gtFine_polygons.png: 2 duplicate labels removed\n",
      "\u001b[34m\u001b[1mtrain: \u001b[0mWARNING  C:\\Users\\aaron\\Documents\\Ao4\\TFG\\CityScapesWithPanopticSegm\\dataset\\images\\train\\aachen_000072_000019_gtFine_polygons.png: 1 duplicate labels removed\n",
      "\u001b[34m\u001b[1mtrain: \u001b[0mWARNING  C:\\Users\\aaron\\Documents\\Ao4\\TFG\\CityScapesWithPanopticSegm\\dataset\\images\\train\\aachen_000078_000019_gtFine_polygons.png: 3 duplicate labels removed\n",
      "\u001b[34m\u001b[1mtrain: \u001b[0mWARNING  C:\\Users\\aaron\\Documents\\Ao4\\TFG\\CityScapesWithPanopticSegm\\dataset\\images\\train\\aachen_000079_000019_gtFine_polygons.png: 7 duplicate labels removed\n",
      "\u001b[34m\u001b[1mtrain: \u001b[0mWARNING  C:\\Users\\aaron\\Documents\\Ao4\\TFG\\CityScapesWithPanopticSegm\\dataset\\images\\train\\aachen_000080_000019_gtFine_polygons.png: 37 duplicate labels removed\n",
      "\u001b[34m\u001b[1mtrain: \u001b[0mWARNING  C:\\Users\\aaron\\Documents\\Ao4\\TFG\\CityScapesWithPanopticSegm\\dataset\\images\\train\\aachen_000090_000019_gtFine_polygons.png: 3 duplicate labels removed\n",
      "\u001b[34m\u001b[1mtrain: \u001b[0mWARNING  C:\\Users\\aaron\\Documents\\Ao4\\TFG\\CityScapesWithPanopticSegm\\dataset\\images\\train\\aachen_000092_000019_gtFine_polygons.png: 1 duplicate labels removed\n",
      "\u001b[34m\u001b[1mtrain: \u001b[0mWARNING  C:\\Users\\aaron\\Documents\\Ao4\\TFG\\CityScapesWithPanopticSegm\\dataset\\images\\train\\aachen_000095_000019_gtFine_polygons.png: 2 duplicate labels removed\n",
      "\u001b[34m\u001b[1mtrain: \u001b[0mWARNING  C:\\Users\\aaron\\Documents\\Ao4\\TFG\\CityScapesWithPanopticSegm\\dataset\\images\\train\\aachen_000096_000019_gtFine_polygons.png: 4 duplicate labels removed\n",
      "\u001b[34m\u001b[1mtrain: \u001b[0mWARNING  C:\\Users\\aaron\\Documents\\Ao4\\TFG\\CityScapesWithPanopticSegm\\dataset\\images\\train\\aachen_000098_000019_gtFine_polygons.png: 2 duplicate labels removed\n",
      "\u001b[34m\u001b[1mtrain: \u001b[0mWARNING  C:\\Users\\aaron\\Documents\\Ao4\\TFG\\CityScapesWithPanopticSegm\\dataset\\images\\train\\aachen_000152_000019_gtFine_polygons.png: 9 duplicate labels removed\n",
      "\u001b[34m\u001b[1mtrain: \u001b[0mWARNING  C:\\Users\\aaron\\Documents\\Ao4\\TFG\\CityScapesWithPanopticSegm\\dataset\\images\\train\\aachen_000153_000019_gtFine_polygons.png: 1 duplicate labels removed\n",
      "\u001b[34m\u001b[1mtrain: \u001b[0mWARNING  C:\\Users\\aaron\\Documents\\Ao4\\TFG\\CityScapesWithPanopticSegm\\dataset\\images\\train\\aachen_000155_000019_gtFine_polygons.png: 1 duplicate labels removed\n",
      "\u001b[34m\u001b[1mtrain: \u001b[0mWARNING  C:\\Users\\aaron\\Documents\\Ao4\\TFG\\CityScapesWithPanopticSegm\\dataset\\images\\train\\bochum_000000_000885_gtFine_polygons.png: 1 duplicate labels removed\n",
      "\u001b[34m\u001b[1mtrain: \u001b[0mWARNING  C:\\Users\\aaron\\Documents\\Ao4\\TFG\\CityScapesWithPanopticSegm\\dataset\\images\\train\\bochum_000000_004748_gtFine_polygons.png: 1 duplicate labels removed\n",
      "\u001b[34m\u001b[1mtrain: \u001b[0mWARNING  C:\\Users\\aaron\\Documents\\Ao4\\TFG\\CityScapesWithPanopticSegm\\dataset\\images\\train\\bochum_000000_007651_gtFine_polygons.png: 2 duplicate labels removed\n",
      "\u001b[34m\u001b[1mtrain: \u001b[0mWARNING  C:\\Users\\aaron\\Documents\\Ao4\\TFG\\CityScapesWithPanopticSegm\\dataset\\images\\train\\bochum_000000_013209_gtFine_polygons.png: 1 duplicate labels removed\n",
      "\u001b[34m\u001b[1mtrain: \u001b[0mWARNING  C:\\Users\\aaron\\Documents\\Ao4\\TFG\\CityScapesWithPanopticSegm\\dataset\\images\\train\\bochum_000000_017453_gtFine_polygons.png: 1 duplicate labels removed\n",
      "\u001b[34m\u001b[1mtrain: \u001b[0mWARNING  C:\\Users\\aaron\\Documents\\Ao4\\TFG\\CityScapesWithPanopticSegm\\dataset\\images\\train\\bochum_000000_033714_gtFine_polygons.png: 1 duplicate labels removed\n",
      "\u001b[34m\u001b[1mtrain: \u001b[0mWARNING  C:\\Users\\aaron\\Documents\\Ao4\\TFG\\CityScapesWithPanopticSegm\\dataset\\images\\train\\bochum_000000_036606_gtFine_polygons.png: 1 duplicate labels removed\n",
      "\u001b[34m\u001b[1mtrain: \u001b[0mWARNING  C:\\Users\\aaron\\Documents\\Ao4\\TFG\\CityScapesWithPanopticSegm\\dataset\\images\\train\\bremen_000021_000019_gtFine_polygons.png: 1 duplicate labels removed\n",
      "\u001b[34m\u001b[1mtrain: \u001b[0mWARNING  C:\\Users\\aaron\\Documents\\Ao4\\TFG\\CityScapesWithPanopticSegm\\dataset\\images\\train\\bremen_000060_000019_gtFine_polygons.png: 1 duplicate labels removed\n",
      "\u001b[34m\u001b[1mtrain: \u001b[0mWARNING  C:\\Users\\aaron\\Documents\\Ao4\\TFG\\CityScapesWithPanopticSegm\\dataset\\images\\train\\bremen_000099_000019_gtFine_polygons.png: 1 duplicate labels removed\n",
      "\u001b[34m\u001b[1mtrain: \u001b[0mWARNING  C:\\Users\\aaron\\Documents\\Ao4\\TFG\\CityScapesWithPanopticSegm\\dataset\\images\\train\\bremen_000111_000019_gtFine_polygons.png: ignoring corrupt image/label: non-normalized or out of bounds coordinates [     1.0005]\n",
      "\u001b[34m\u001b[1mtrain: \u001b[0mWARNING  C:\\Users\\aaron\\Documents\\Ao4\\TFG\\CityScapesWithPanopticSegm\\dataset\\images\\train\\bremen_000118_000019_gtFine_polygons.png: ignoring corrupt image/label: non-normalized or out of bounds coordinates [      1.001]\n",
      "\u001b[34m\u001b[1mtrain: \u001b[0mWARNING  C:\\Users\\aaron\\Documents\\Ao4\\TFG\\CityScapesWithPanopticSegm\\dataset\\images\\train\\bremen_000121_000019_gtFine_polygons.png: ignoring corrupt image/label: non-normalized or out of bounds coordinates [      1.001]\n",
      "\u001b[34m\u001b[1mtrain: \u001b[0mWARNING  C:\\Users\\aaron\\Documents\\Ao4\\TFG\\CityScapesWithPanopticSegm\\dataset\\images\\train\\bremen_000123_000019_gtFine_polygons.png: ignoring corrupt image/label: non-normalized or out of bounds coordinates [     1.0005]\n",
      "\u001b[34m\u001b[1mtrain: \u001b[0mWARNING  C:\\Users\\aaron\\Documents\\Ao4\\TFG\\CityScapesWithPanopticSegm\\dataset\\images\\train\\bremen_000124_000019_gtFine_polygons.png: ignoring corrupt image/label: non-normalized or out of bounds coordinates [     1.0005]\n",
      "\u001b[34m\u001b[1mtrain: \u001b[0mWARNING  C:\\Users\\aaron\\Documents\\Ao4\\TFG\\CityScapesWithPanopticSegm\\dataset\\images\\train\\bremen_000126_000019_gtFine_polygons.png: ignoring corrupt image/label: non-normalized or out of bounds coordinates [      1.001]\n",
      "\u001b[34m\u001b[1mtrain: \u001b[0mWARNING  C:\\Users\\aaron\\Documents\\Ao4\\TFG\\CityScapesWithPanopticSegm\\dataset\\images\\train\\bremen_000128_000019_gtFine_polygons.png: ignoring corrupt image/label: non-normalized or out of bounds coordinates [     1.0005]\n",
      "\u001b[34m\u001b[1mtrain: \u001b[0mWARNING  C:\\Users\\aaron\\Documents\\Ao4\\TFG\\CityScapesWithPanopticSegm\\dataset\\images\\train\\bremen_000129_000019_gtFine_polygons.png: ignoring corrupt image/label: non-normalized or out of bounds coordinates [     1.0005]\n",
      "\u001b[34m\u001b[1mtrain: \u001b[0mWARNING  C:\\Users\\aaron\\Documents\\Ao4\\TFG\\CityScapesWithPanopticSegm\\dataset\\images\\train\\bremen_000130_000019_gtFine_polygons.png: ignoring corrupt image/label: non-normalized or out of bounds coordinates [      1.001]\n",
      "\u001b[34m\u001b[1mtrain: \u001b[0mWARNING  C:\\Users\\aaron\\Documents\\Ao4\\TFG\\CityScapesWithPanopticSegm\\dataset\\images\\train\\bremen_000132_000019_gtFine_polygons.png: ignoring corrupt image/label: non-normalized or out of bounds coordinates [      1.001]\n",
      "\u001b[34m\u001b[1mtrain: \u001b[0mWARNING  C:\\Users\\aaron\\Documents\\Ao4\\TFG\\CityScapesWithPanopticSegm\\dataset\\images\\train\\bremen_000133_000019_gtFine_polygons.png: ignoring corrupt image/label: non-normalized or out of bounds coordinates [      1.001]\n",
      "\u001b[34m\u001b[1mtrain: \u001b[0mWARNING  C:\\Users\\aaron\\Documents\\Ao4\\TFG\\CityScapesWithPanopticSegm\\dataset\\images\\train\\bremen_000135_000019_gtFine_polygons.png: ignoring corrupt image/label: non-normalized or out of bounds coordinates [     1.0005]\n",
      "\u001b[34m\u001b[1mtrain: \u001b[0mWARNING  C:\\Users\\aaron\\Documents\\Ao4\\TFG\\CityScapesWithPanopticSegm\\dataset\\images\\train\\bremen_000241_000019_gtFine_polygons.png: 1 duplicate labels removed\n",
      "\u001b[34m\u001b[1mtrain: \u001b[0mWARNING  C:\\Users\\aaron\\Documents\\Ao4\\TFG\\CityScapesWithPanopticSegm\\dataset\\images\\train\\cologne_000004_000019_gtFine_polygons.png: 1 duplicate labels removed\n",
      "\u001b[34m\u001b[1mtrain: \u001b[0mWARNING  C:\\Users\\aaron\\Documents\\Ao4\\TFG\\CityScapesWithPanopticSegm\\dataset\\images\\train\\cologne_000006_000019_gtFine_polygons.png: 1 duplicate labels removed\n",
      "\u001b[34m\u001b[1mtrain: \u001b[0mWARNING  C:\\Users\\aaron\\Documents\\Ao4\\TFG\\CityScapesWithPanopticSegm\\dataset\\images\\train\\cologne_000007_000019_gtFine_polygons.png: 2 duplicate labels removed\n",
      "\u001b[34m\u001b[1mtrain: \u001b[0mWARNING  C:\\Users\\aaron\\Documents\\Ao4\\TFG\\CityScapesWithPanopticSegm\\dataset\\images\\train\\cologne_000009_000019_gtFine_polygons.png: 1 duplicate labels removed\n",
      "\u001b[34m\u001b[1mtrain: \u001b[0mWARNING  C:\\Users\\aaron\\Documents\\Ao4\\TFG\\CityScapesWithPanopticSegm\\dataset\\images\\train\\cologne_000012_000019_gtFine_polygons.png: 3 duplicate labels removed\n",
      "\u001b[34m\u001b[1mtrain: \u001b[0mWARNING  C:\\Users\\aaron\\Documents\\Ao4\\TFG\\CityScapesWithPanopticSegm\\dataset\\images\\train\\cologne_000018_000019_gtFine_polygons.png: 5 duplicate labels removed\n",
      "\u001b[34m\u001b[1mtrain: \u001b[0mWARNING  C:\\Users\\aaron\\Documents\\Ao4\\TFG\\CityScapesWithPanopticSegm\\dataset\\images\\train\\cologne_000019_000019_gtFine_polygons.png: 2 duplicate labels removed\n",
      "\u001b[34m\u001b[1mtrain: \u001b[0mWARNING  C:\\Users\\aaron\\Documents\\Ao4\\TFG\\CityScapesWithPanopticSegm\\dataset\\images\\train\\cologne_000021_000019_gtFine_polygons.png: 1 duplicate labels removed\n",
      "\u001b[34m\u001b[1mtrain: \u001b[0mWARNING  C:\\Users\\aaron\\Documents\\Ao4\\TFG\\CityScapesWithPanopticSegm\\dataset\\images\\train\\cologne_000040_000019_gtFine_polygons.png: 1 duplicate labels removed\n",
      "\u001b[34m\u001b[1mtrain: \u001b[0mWARNING  C:\\Users\\aaron\\Documents\\Ao4\\TFG\\CityScapesWithPanopticSegm\\dataset\\images\\train\\cologne_000053_000019_gtFine_polygons.png: 1 duplicate labels removed\n",
      "\u001b[34m\u001b[1mtrain: \u001b[0mWARNING  C:\\Users\\aaron\\Documents\\Ao4\\TFG\\CityScapesWithPanopticSegm\\dataset\\images\\train\\cologne_000056_000019_gtFine_polygons.png: 1 duplicate labels removed\n",
      "\u001b[34m\u001b[1mtrain: \u001b[0mWARNING  C:\\Users\\aaron\\Documents\\Ao4\\TFG\\CityScapesWithPanopticSegm\\dataset\\images\\train\\cologne_000057_000019_gtFine_polygons.png: 1 duplicate labels removed\n",
      "\u001b[34m\u001b[1mtrain: \u001b[0mWARNING  C:\\Users\\aaron\\Documents\\Ao4\\TFG\\CityScapesWithPanopticSegm\\dataset\\images\\train\\cologne_000061_000019_gtFine_polygons.png: 1 duplicate labels removed\n",
      "\u001b[34m\u001b[1mtrain: \u001b[0mWARNING  C:\\Users\\aaron\\Documents\\Ao4\\TFG\\CityScapesWithPanopticSegm\\dataset\\images\\train\\cologne_000090_000019_gtFine_polygons.png: 1 duplicate labels removed\n",
      "\u001b[34m\u001b[1mtrain: \u001b[0mWARNING  C:\\Users\\aaron\\Documents\\Ao4\\TFG\\CityScapesWithPanopticSegm\\dataset\\images\\train\\cologne_000092_000019_gtFine_polygons.png: 3 duplicate labels removed\n",
      "\u001b[34m\u001b[1mtrain: \u001b[0mWARNING  C:\\Users\\aaron\\Documents\\Ao4\\TFG\\CityScapesWithPanopticSegm\\dataset\\images\\train\\cologne_000111_000019_gtFine_polygons.png: 1 duplicate labels removed\n",
      "\u001b[34m\u001b[1mtrain: \u001b[0mWARNING  C:\\Users\\aaron\\Documents\\Ao4\\TFG\\CityScapesWithPanopticSegm\\dataset\\images\\train\\darmstadt_000002_000019_gtFine_polygons.png: 2 duplicate labels removed\n",
      "\u001b[34m\u001b[1mtrain: \u001b[0mWARNING  C:\\Users\\aaron\\Documents\\Ao4\\TFG\\CityScapesWithPanopticSegm\\dataset\\images\\train\\darmstadt_000004_000019_gtFine_polygons.png: 1 duplicate labels removed\n",
      "\u001b[34m\u001b[1mtrain: \u001b[0mWARNING  C:\\Users\\aaron\\Documents\\Ao4\\TFG\\CityScapesWithPanopticSegm\\dataset\\images\\train\\darmstadt_000014_000019_gtFine_polygons.png: 1 duplicate labels removed\n",
      "\u001b[34m\u001b[1mtrain: \u001b[0mWARNING  C:\\Users\\aaron\\Documents\\Ao4\\TFG\\CityScapesWithPanopticSegm\\dataset\\images\\train\\darmstadt_000015_000019_gtFine_polygons.png: 1 duplicate labels removed\n",
      "\u001b[34m\u001b[1mtrain: \u001b[0mWARNING  C:\\Users\\aaron\\Documents\\Ao4\\TFG\\CityScapesWithPanopticSegm\\dataset\\images\\train\\darmstadt_000021_000019_gtFine_polygons.png: 1 duplicate labels removed\n",
      "\u001b[34m\u001b[1mtrain: \u001b[0mWARNING  C:\\Users\\aaron\\Documents\\Ao4\\TFG\\CityScapesWithPanopticSegm\\dataset\\images\\train\\darmstadt_000026_000019_gtFine_polygons.png: 2 duplicate labels removed\n",
      "\u001b[34m\u001b[1mtrain: \u001b[0mWARNING  C:\\Users\\aaron\\Documents\\Ao4\\TFG\\CityScapesWithPanopticSegm\\dataset\\images\\train\\darmstadt_000036_000019_gtFine_polygons.png: 1 duplicate labels removed\n",
      "\u001b[34m\u001b[1mtrain: \u001b[0mWARNING  C:\\Users\\aaron\\Documents\\Ao4\\TFG\\CityScapesWithPanopticSegm\\dataset\\images\\train\\darmstadt_000046_000019_gtFine_polygons.png: 1 duplicate labels removed\n",
      "\u001b[34m\u001b[1mtrain: \u001b[0mWARNING  C:\\Users\\aaron\\Documents\\Ao4\\TFG\\CityScapesWithPanopticSegm\\dataset\\images\\train\\darmstadt_000061_000019_gtFine_polygons.png: 1 duplicate labels removed\n",
      "\u001b[34m\u001b[1mtrain: \u001b[0mWARNING  C:\\Users\\aaron\\Documents\\Ao4\\TFG\\CityScapesWithPanopticSegm\\dataset\\images\\train\\darmstadt_000083_000019_gtFine_polygons.png: 1 duplicate labels removed\n",
      "\u001b[34m\u001b[1mtrain: \u001b[0mWARNING  C:\\Users\\aaron\\Documents\\Ao4\\TFG\\CityScapesWithPanopticSegm\\dataset\\images\\train\\dusseldorf_000057_000019_gtFine_polygons.png: ignoring corrupt image/label: non-normalized or out of bounds coordinates [     1.0005]\n",
      "\u001b[34m\u001b[1mtrain: \u001b[0mWARNING  C:\\Users\\aaron\\Documents\\Ao4\\TFG\\CityScapesWithPanopticSegm\\dataset\\images\\train\\dusseldorf_000068_000019_gtFine_polygons.png: ignoring corrupt image/label: non-normalized or out of bounds coordinates [     1.0005]\n",
      "\u001b[34m\u001b[1mtrain: \u001b[0mWARNING  C:\\Users\\aaron\\Documents\\Ao4\\TFG\\CityScapesWithPanopticSegm\\dataset\\images\\train\\dusseldorf_000075_000019_gtFine_polygons.png: ignoring corrupt image/label: non-normalized or out of bounds coordinates [      1.001]\n",
      "\u001b[34m\u001b[1mtrain: \u001b[0mWARNING  C:\\Users\\aaron\\Documents\\Ao4\\TFG\\CityScapesWithPanopticSegm\\dataset\\images\\train\\dusseldorf_000088_000019_gtFine_polygons.png: ignoring corrupt image/label: non-normalized or out of bounds coordinates [     1.0005]\n",
      "\u001b[34m\u001b[1mtrain: \u001b[0mWARNING  C:\\Users\\aaron\\Documents\\Ao4\\TFG\\CityScapesWithPanopticSegm\\dataset\\images\\train\\dusseldorf_000090_000019_gtFine_polygons.png: ignoring corrupt image/label: non-normalized or out of bounds coordinates [     1.0005]\n",
      "\u001b[34m\u001b[1mtrain: \u001b[0mWARNING  C:\\Users\\aaron\\Documents\\Ao4\\TFG\\CityScapesWithPanopticSegm\\dataset\\images\\train\\dusseldorf_000098_000019_gtFine_polygons.png: ignoring corrupt image/label: non-normalized or out of bounds coordinates [     1.0005]\n",
      "\u001b[34m\u001b[1mtrain: \u001b[0mWARNING  C:\\Users\\aaron\\Documents\\Ao4\\TFG\\CityScapesWithPanopticSegm\\dataset\\images\\train\\dusseldorf_000157_000019_gtFine_polygons.png: ignoring corrupt image/label: non-normalized or out of bounds coordinates [     1.0049]\n",
      "\u001b[34m\u001b[1mtrain: \u001b[0mWARNING  C:\\Users\\aaron\\Documents\\Ao4\\TFG\\CityScapesWithPanopticSegm\\dataset\\images\\train\\dusseldorf_000198_000019_gtFine_polygons.png: ignoring corrupt image/label: non-normalized or out of bounds coordinates [     1.0073]\n",
      "\u001b[34m\u001b[1mtrain: \u001b[0mWARNING  C:\\Users\\aaron\\Documents\\Ao4\\TFG\\CityScapesWithPanopticSegm\\dataset\\images\\train\\erfurt_000020_000019_gtFine_polygons.png: 1 duplicate labels removed\n",
      "\u001b[34m\u001b[1mtrain: \u001b[0mWARNING  C:\\Users\\aaron\\Documents\\Ao4\\TFG\\CityScapesWithPanopticSegm\\dataset\\images\\train\\hamburg_000000_019892_gtFine_polygons.png: 1 duplicate labels removed\n",
      "\u001b[34m\u001b[1mtrain: \u001b[0mWARNING  C:\\Users\\aaron\\Documents\\Ao4\\TFG\\CityScapesWithPanopticSegm\\dataset\\images\\train\\hamburg_000000_032906_gtFine_polygons.png: 1 duplicate labels removed\n",
      "\u001b[34m\u001b[1mtrain: \u001b[0mWARNING  C:\\Users\\aaron\\Documents\\Ao4\\TFG\\CityScapesWithPanopticSegm\\dataset\\images\\train\\hamburg_000000_033506_gtFine_polygons.png: 9 duplicate labels removed\n",
      "\u001b[34m\u001b[1mtrain: \u001b[0mWARNING  C:\\Users\\aaron\\Documents\\Ao4\\TFG\\CityScapesWithPanopticSegm\\dataset\\images\\train\\hamburg_000000_035568_gtFine_polygons.png: 1 duplicate labels removed\n",
      "\u001b[34m\u001b[1mtrain: \u001b[0mWARNING  C:\\Users\\aaron\\Documents\\Ao4\\TFG\\CityScapesWithPanopticSegm\\dataset\\images\\train\\hamburg_000000_039420_gtFine_polygons.png: 1 duplicate labels removed\n",
      "\u001b[34m\u001b[1mtrain: \u001b[0mWARNING  C:\\Users\\aaron\\Documents\\Ao4\\TFG\\CityScapesWithPanopticSegm\\dataset\\images\\train\\hamburg_000000_041667_gtFine_polygons.png: 1 duplicate labels removed\n",
      "\u001b[34m\u001b[1mtrain: \u001b[0mWARNING  C:\\Users\\aaron\\Documents\\Ao4\\TFG\\CityScapesWithPanopticSegm\\dataset\\images\\train\\hamburg_000000_053886_gtFine_polygons.png: 1 duplicate labels removed\n",
      "\u001b[34m\u001b[1mtrain: \u001b[0mWARNING  C:\\Users\\aaron\\Documents\\Ao4\\TFG\\CityScapesWithPanopticSegm\\dataset\\images\\train\\hamburg_000000_071016_gtFine_polygons.png: 1 duplicate labels removed\n",
      "\u001b[34m\u001b[1mtrain: \u001b[0mWARNING  C:\\Users\\aaron\\Documents\\Ao4\\TFG\\CityScapesWithPanopticSegm\\dataset\\images\\train\\hamburg_000000_080438_gtFine_polygons.png: 1 duplicate labels removed\n",
      "\u001b[34m\u001b[1mtrain: \u001b[0mWARNING  C:\\Users\\aaron\\Documents\\Ao4\\TFG\\CityScapesWithPanopticSegm\\dataset\\images\\train\\hanover_000000_012347_gtFine_polygons.png: 1 duplicate labels removed\n",
      "\u001b[34m\u001b[1mtrain: \u001b[0mWARNING  C:\\Users\\aaron\\Documents\\Ao4\\TFG\\CityScapesWithPanopticSegm\\dataset\\images\\train\\hanover_000000_014537_gtFine_polygons.png: 1 duplicate labels removed\n",
      "\u001b[34m\u001b[1mtrain: \u001b[0mWARNING  C:\\Users\\aaron\\Documents\\Ao4\\TFG\\CityScapesWithPanopticSegm\\dataset\\images\\train\\hanover_000000_015587_gtFine_polygons.png: 1 duplicate labels removed\n",
      "\u001b[34m\u001b[1mtrain: \u001b[0mWARNING  C:\\Users\\aaron\\Documents\\Ao4\\TFG\\CityScapesWithPanopticSegm\\dataset\\images\\train\\hanover_000000_018800_gtFine_polygons.png: 3 duplicate labels removed\n",
      "\u001b[34m\u001b[1mtrain: \u001b[0mWARNING  C:\\Users\\aaron\\Documents\\Ao4\\TFG\\CityScapesWithPanopticSegm\\dataset\\images\\train\\hanover_000000_019116_gtFine_polygons.png: 4 duplicate labels removed\n",
      "\u001b[34m\u001b[1mtrain: \u001b[0mWARNING  C:\\Users\\aaron\\Documents\\Ao4\\TFG\\CityScapesWithPanopticSegm\\dataset\\images\\train\\hanover_000000_019282_gtFine_polygons.png: 2 duplicate labels removed\n",
      "\u001b[34m\u001b[1mtrain: \u001b[0mWARNING  C:\\Users\\aaron\\Documents\\Ao4\\TFG\\CityScapesWithPanopticSegm\\dataset\\images\\train\\hanover_000000_019456_gtFine_polygons.png: 1 duplicate labels removed\n",
      "\u001b[34m\u001b[1mtrain: \u001b[0mWARNING  C:\\Users\\aaron\\Documents\\Ao4\\TFG\\CityScapesWithPanopticSegm\\dataset\\images\\train\\hanover_000000_019672_gtFine_polygons.png: 1 duplicate labels removed\n",
      "\u001b[34m\u001b[1mtrain: \u001b[0mWARNING  C:\\Users\\aaron\\Documents\\Ao4\\TFG\\CityScapesWithPanopticSegm\\dataset\\images\\train\\hanover_000000_022645_gtFine_polygons.png: 4 duplicate labels removed\n",
      "\u001b[34m\u001b[1mtrain: \u001b[0mWARNING  C:\\Users\\aaron\\Documents\\Ao4\\TFG\\CityScapesWithPanopticSegm\\dataset\\images\\train\\hanover_000000_026356_gtFine_polygons.png: 1 duplicate labels removed\n",
      "\u001b[34m\u001b[1mtrain: \u001b[0mWARNING  C:\\Users\\aaron\\Documents\\Ao4\\TFG\\CityScapesWithPanopticSegm\\dataset\\images\\train\\hanover_000000_034015_gtFine_polygons.png: 2 duplicate labels removed\n",
      "\u001b[34m\u001b[1mtrain: \u001b[0mWARNING  C:\\Users\\aaron\\Documents\\Ao4\\TFG\\CityScapesWithPanopticSegm\\dataset\\images\\train\\hanover_000000_034141_gtFine_polygons.png: 2 duplicate labels removed\n",
      "\u001b[34m\u001b[1mtrain: \u001b[0mWARNING  C:\\Users\\aaron\\Documents\\Ao4\\TFG\\CityScapesWithPanopticSegm\\dataset\\images\\train\\hanover_000000_036051_gtFine_polygons.png: 1 duplicate labels removed\n",
      "\u001b[34m\u001b[1mtrain: \u001b[0mWARNING  C:\\Users\\aaron\\Documents\\Ao4\\TFG\\CityScapesWithPanopticSegm\\dataset\\images\\train\\hanover_000000_047499_gtFine_polygons.png: 1 duplicate labels removed\n",
      "\u001b[34m\u001b[1mtrain: \u001b[0mWARNING  C:\\Users\\aaron\\Documents\\Ao4\\TFG\\CityScapesWithPanopticSegm\\dataset\\images\\train\\hanover_000000_047870_gtFine_polygons.png: 1 duplicate labels removed\n",
      "\u001b[34m\u001b[1mtrain: \u001b[0mWARNING  C:\\Users\\aaron\\Documents\\Ao4\\TFG\\CityScapesWithPanopticSegm\\dataset\\images\\train\\hanover_000000_051152_gtFine_polygons.png: 2 duplicate labels removed\n",
      "\u001b[34m\u001b[1mtrain: \u001b[0mWARNING  C:\\Users\\aaron\\Documents\\Ao4\\TFG\\CityScapesWithPanopticSegm\\dataset\\images\\train\\hanover_000000_051536_gtFine_polygons.png: 2 duplicate labels removed\n",
      "\u001b[34m\u001b[1mtrain: \u001b[0mWARNING  C:\\Users\\aaron\\Documents\\Ao4\\TFG\\CityScapesWithPanopticSegm\\dataset\\images\\train\\hanover_000000_052512_gtFine_polygons.png: 1 duplicate labels removed\n",
      "\u001b[34m\u001b[1mtrain: \u001b[0mWARNING  C:\\Users\\aaron\\Documents\\Ao4\\TFG\\CityScapesWithPanopticSegm\\dataset\\images\\train\\hanover_000000_053027_gtFine_polygons.png: 1 duplicate labels removed\n",
      "\u001b[34m\u001b[1mtrain: \u001b[0mWARNING  C:\\Users\\aaron\\Documents\\Ao4\\TFG\\CityScapesWithPanopticSegm\\dataset\\images\\train\\hanover_000000_056800_gtFine_polygons.png: 1 duplicate labels removed\n",
      "\u001b[34m\u001b[1mtrain: \u001b[0mWARNING  C:\\Users\\aaron\\Documents\\Ao4\\TFG\\CityScapesWithPanopticSegm\\dataset\\images\\train\\jena_000059_000019_gtFine_polygons.png: ignoring corrupt image/label: non-normalized or out of bounds coordinates [     1.0005]\n",
      "\u001b[34m\u001b[1mtrain: \u001b[0mWARNING  C:\\Users\\aaron\\Documents\\Ao4\\TFG\\CityScapesWithPanopticSegm\\dataset\\images\\train\\krefeld_000000_004608_gtFine_polygons.png: 2 duplicate labels removed\n",
      "\u001b[34m\u001b[1mtrain: \u001b[0mWARNING  C:\\Users\\aaron\\Documents\\Ao4\\TFG\\CityScapesWithPanopticSegm\\dataset\\images\\train\\krefeld_000000_011655_gtFine_polygons.png: 1 duplicate labels removed\n",
      "\u001b[34m\u001b[1mtrain: \u001b[0mWARNING  C:\\Users\\aaron\\Documents\\Ao4\\TFG\\CityScapesWithPanopticSegm\\dataset\\images\\train\\krefeld_000000_013766_gtFine_polygons.png: 1 duplicate labels removed\n",
      "\u001b[34m\u001b[1mtrain: \u001b[0mWARNING  C:\\Users\\aaron\\Documents\\Ao4\\TFG\\CityScapesWithPanopticSegm\\dataset\\images\\train\\krefeld_000000_020933_gtFine_polygons.png: 1 duplicate labels removed\n",
      "\u001b[34m\u001b[1mtrain: \u001b[0mWARNING  C:\\Users\\aaron\\Documents\\Ao4\\TFG\\CityScapesWithPanopticSegm\\dataset\\images\\train\\strasbourg_000000_013654_gtFine_polygons.png: 1 duplicate labels removed\n",
      "\u001b[34m\u001b[1mtrain: \u001b[0mWARNING  C:\\Users\\aaron\\Documents\\Ao4\\TFG\\CityScapesWithPanopticSegm\\dataset\\images\\train\\strasbourg_000000_014503_gtFine_polygons.png: 1 duplicate labels removed\n",
      "\u001b[34m\u001b[1mtrain: \u001b[0mWARNING  C:\\Users\\aaron\\Documents\\Ao4\\TFG\\CityScapesWithPanopticSegm\\dataset\\images\\train\\strasbourg_000001_030539_gtFine_polygons.png: 1 duplicate labels removed\n",
      "\u001b[34m\u001b[1mtrain: \u001b[0mWARNING  C:\\Users\\aaron\\Documents\\Ao4\\TFG\\CityScapesWithPanopticSegm\\dataset\\images\\train\\strasbourg_000001_030997_gtFine_polygons.png: 1 duplicate labels removed\n",
      "\u001b[34m\u001b[1mtrain: \u001b[0mWARNING  C:\\Users\\aaron\\Documents\\Ao4\\TFG\\CityScapesWithPanopticSegm\\dataset\\images\\train\\strasbourg_000001_031582_gtFine_polygons.png: 1 duplicate labels removed\n",
      "\u001b[34m\u001b[1mtrain: \u001b[0mWARNING  C:\\Users\\aaron\\Documents\\Ao4\\TFG\\CityScapesWithPanopticSegm\\dataset\\images\\train\\strasbourg_000001_051317_gtFine_polygons.png: 1 duplicate labels removed\n",
      "\u001b[34m\u001b[1mtrain: \u001b[0mWARNING  C:\\Users\\aaron\\Documents\\Ao4\\TFG\\CityScapesWithPanopticSegm\\dataset\\images\\train\\strasbourg_000001_052050_gtFine_polygons.png: 1 duplicate labels removed\n",
      "\u001b[34m\u001b[1mtrain: \u001b[0mWARNING  C:\\Users\\aaron\\Documents\\Ao4\\TFG\\CityScapesWithPanopticSegm\\dataset\\images\\train\\strasbourg_000001_058373_gtFine_polygons.png: 14 duplicate labels removed\n",
      "\u001b[34m\u001b[1mtrain: \u001b[0mWARNING  C:\\Users\\aaron\\Documents\\Ao4\\TFG\\CityScapesWithPanopticSegm\\dataset\\images\\train\\strasbourg_000001_058954_gtFine_polygons.png: 1 duplicate labels removed\n",
      "\u001b[34m\u001b[1mtrain: \u001b[0mWARNING  C:\\Users\\aaron\\Documents\\Ao4\\TFG\\CityScapesWithPanopticSegm\\dataset\\images\\train\\strasbourg_000001_062691_gtFine_polygons.png: 1 duplicate labels removed\n",
      "\u001b[34m\u001b[1mtrain: \u001b[0mWARNING  C:\\Users\\aaron\\Documents\\Ao4\\TFG\\CityScapesWithPanopticSegm\\dataset\\images\\train\\strasbourg_000001_064224_gtFine_polygons.png: 2 duplicate labels removed\n",
      "\u001b[34m\u001b[1mtrain: \u001b[0mWARNING  C:\\Users\\aaron\\Documents\\Ao4\\TFG\\CityScapesWithPanopticSegm\\dataset\\images\\train\\strasbourg_000001_064393_gtFine_polygons.png: 1 duplicate labels removed\n",
      "\u001b[34m\u001b[1mtrain: \u001b[0mWARNING  C:\\Users\\aaron\\Documents\\Ao4\\TFG\\CityScapesWithPanopticSegm\\dataset\\images\\train\\stuttgart_000002_000019_gtFine_polygons.png: ignoring corrupt image/label: non-normalized or out of bounds coordinates [     1.0005]\n",
      "\u001b[34m\u001b[1mtrain: \u001b[0mWARNING  C:\\Users\\aaron\\Documents\\Ao4\\TFG\\CityScapesWithPanopticSegm\\dataset\\images\\train\\stuttgart_000005_000019_gtFine_polygons.png: ignoring corrupt image/label: non-normalized or out of bounds coordinates [      1.001]\n",
      "\u001b[34m\u001b[1mtrain: \u001b[0mWARNING  C:\\Users\\aaron\\Documents\\Ao4\\TFG\\CityScapesWithPanopticSegm\\dataset\\images\\train\\stuttgart_000006_000019_gtFine_polygons.png: 1 duplicate labels removed\n",
      "\u001b[34m\u001b[1mtrain: \u001b[0mWARNING  C:\\Users\\aaron\\Documents\\Ao4\\TFG\\CityScapesWithPanopticSegm\\dataset\\images\\train\\stuttgart_000068_000019_gtFine_polygons.png: 1 duplicate labels removed\n",
      "\u001b[34m\u001b[1mtrain: \u001b[0mWARNING  C:\\Users\\aaron\\Documents\\Ao4\\TFG\\CityScapesWithPanopticSegm\\dataset\\images\\train\\stuttgart_000109_000019_gtFine_polygons.png: 1 duplicate labels removed\n",
      "\u001b[34m\u001b[1mtrain: \u001b[0mWARNING  C:\\Users\\aaron\\Documents\\Ao4\\TFG\\CityScapesWithPanopticSegm\\dataset\\images\\train\\stuttgart_000120_000019_gtFine_polygons.png: 2 duplicate labels removed\n",
      "\u001b[34m\u001b[1mtrain: \u001b[0mWARNING  C:\\Users\\aaron\\Documents\\Ao4\\TFG\\CityScapesWithPanopticSegm\\dataset\\images\\train\\stuttgart_000168_000019_gtFine_polygons.png: 1 duplicate labels removed\n",
      "\u001b[34m\u001b[1mtrain: \u001b[0mWARNING  C:\\Users\\aaron\\Documents\\Ao4\\TFG\\CityScapesWithPanopticSegm\\dataset\\images\\train\\stuttgart_000175_000019_gtFine_polygons.png: 2 duplicate labels removed\n",
      "\u001b[34m\u001b[1mtrain: \u001b[0mWARNING  C:\\Users\\aaron\\Documents\\Ao4\\TFG\\CityScapesWithPanopticSegm\\dataset\\images\\train\\stuttgart_000184_000019_gtFine_polygons.png: 2 duplicate labels removed\n",
      "\u001b[34m\u001b[1mtrain: \u001b[0mWARNING  C:\\Users\\aaron\\Documents\\Ao4\\TFG\\CityScapesWithPanopticSegm\\dataset\\images\\train\\tubingen_000008_000019_gtFine_polygons.png: 1 duplicate labels removed\n",
      "\u001b[34m\u001b[1mtrain: \u001b[0mWARNING  C:\\Users\\aaron\\Documents\\Ao4\\TFG\\CityScapesWithPanopticSegm\\dataset\\images\\train\\tubingen_000089_000019_gtFine_polygons.png: 1 duplicate labels removed\n",
      "\u001b[34m\u001b[1mtrain: \u001b[0mWARNING  C:\\Users\\aaron\\Documents\\Ao4\\TFG\\CityScapesWithPanopticSegm\\dataset\\images\\train\\tubingen_000118_000019_gtFine_polygons.png: 6 duplicate labels removed\n",
      "\u001b[34m\u001b[1mtrain: \u001b[0mWARNING  C:\\Users\\aaron\\Documents\\Ao4\\TFG\\CityScapesWithPanopticSegm\\dataset\\images\\train\\ulm_000004_000019_gtFine_polygons.png: 2 duplicate labels removed\n",
      "\u001b[34m\u001b[1mtrain: \u001b[0mWARNING  C:\\Users\\aaron\\Documents\\Ao4\\TFG\\CityScapesWithPanopticSegm\\dataset\\images\\train\\ulm_000005_000019_gtFine_polygons.png: 4 duplicate labels removed\n",
      "\u001b[34m\u001b[1mtrain: \u001b[0mWARNING  C:\\Users\\aaron\\Documents\\Ao4\\TFG\\CityScapesWithPanopticSegm\\dataset\\images\\train\\ulm_000006_000019_gtFine_polygons.png: 8 duplicate labels removed\n",
      "\u001b[34m\u001b[1mtrain: \u001b[0mWARNING  C:\\Users\\aaron\\Documents\\Ao4\\TFG\\CityScapesWithPanopticSegm\\dataset\\images\\train\\ulm_000011_000019_gtFine_polygons.png: 1 duplicate labels removed\n",
      "\u001b[34m\u001b[1mtrain: \u001b[0mWARNING  C:\\Users\\aaron\\Documents\\Ao4\\TFG\\CityScapesWithPanopticSegm\\dataset\\images\\train\\ulm_000012_000019_gtFine_polygons.png: 2 duplicate labels removed\n",
      "\u001b[34m\u001b[1mtrain: \u001b[0mWARNING  C:\\Users\\aaron\\Documents\\Ao4\\TFG\\CityScapesWithPanopticSegm\\dataset\\images\\train\\ulm_000013_000019_gtFine_polygons.png: 2 duplicate labels removed\n",
      "\u001b[34m\u001b[1mtrain: \u001b[0mWARNING  C:\\Users\\aaron\\Documents\\Ao4\\TFG\\CityScapesWithPanopticSegm\\dataset\\images\\train\\ulm_000017_000019_gtFine_polygons.png: 2 duplicate labels removed\n",
      "\u001b[34m\u001b[1mtrain: \u001b[0mWARNING  C:\\Users\\aaron\\Documents\\Ao4\\TFG\\CityScapesWithPanopticSegm\\dataset\\images\\train\\ulm_000024_000019_gtFine_polygons.png: 2 duplicate labels removed\n",
      "\u001b[34m\u001b[1mtrain: \u001b[0mWARNING  C:\\Users\\aaron\\Documents\\Ao4\\TFG\\CityScapesWithPanopticSegm\\dataset\\images\\train\\ulm_000025_000019_gtFine_polygons.png: 3 duplicate labels removed\n",
      "\u001b[34m\u001b[1mtrain: \u001b[0mWARNING  C:\\Users\\aaron\\Documents\\Ao4\\TFG\\CityScapesWithPanopticSegm\\dataset\\images\\train\\ulm_000037_000019_gtFine_polygons.png: 1 duplicate labels removed\n",
      "\u001b[34m\u001b[1mtrain: \u001b[0mWARNING  C:\\Users\\aaron\\Documents\\Ao4\\TFG\\CityScapesWithPanopticSegm\\dataset\\images\\train\\ulm_000056_000019_gtFine_polygons.png: 2 duplicate labels removed\n",
      "\u001b[34m\u001b[1mtrain: \u001b[0mWARNING  C:\\Users\\aaron\\Documents\\Ao4\\TFG\\CityScapesWithPanopticSegm\\dataset\\images\\train\\ulm_000058_000019_gtFine_polygons.png: 3 duplicate labels removed\n",
      "\u001b[34m\u001b[1mtrain: \u001b[0mWARNING  C:\\Users\\aaron\\Documents\\Ao4\\TFG\\CityScapesWithPanopticSegm\\dataset\\images\\train\\ulm_000067_000019_gtFine_polygons.png: 3 duplicate labels removed\n",
      "\u001b[34m\u001b[1mtrain: \u001b[0mWARNING  C:\\Users\\aaron\\Documents\\Ao4\\TFG\\CityScapesWithPanopticSegm\\dataset\\images\\train\\ulm_000068_000019_gtFine_polygons.png: 3 duplicate labels removed\n",
      "\u001b[34m\u001b[1mtrain: \u001b[0mWARNING  C:\\Users\\aaron\\Documents\\Ao4\\TFG\\CityScapesWithPanopticSegm\\dataset\\images\\train\\ulm_000069_000019_gtFine_polygons.png: 3 duplicate labels removed\n",
      "\u001b[34m\u001b[1mtrain: \u001b[0mWARNING  C:\\Users\\aaron\\Documents\\Ao4\\TFG\\CityScapesWithPanopticSegm\\dataset\\images\\train\\ulm_000078_000019_gtFine_polygons.png: 1 duplicate labels removed\n",
      "\u001b[34m\u001b[1mtrain: \u001b[0mWARNING  C:\\Users\\aaron\\Documents\\Ao4\\TFG\\CityScapesWithPanopticSegm\\dataset\\images\\train\\ulm_000079_000019_gtFine_polygons.png: 1 duplicate labels removed\n",
      "\u001b[34m\u001b[1mtrain: \u001b[0mWARNING  C:\\Users\\aaron\\Documents\\Ao4\\TFG\\CityScapesWithPanopticSegm\\dataset\\images\\train\\ulm_000084_000019_gtFine_polygons.png: 2 duplicate labels removed\n",
      "\u001b[34m\u001b[1mtrain: \u001b[0mWARNING  C:\\Users\\aaron\\Documents\\Ao4\\TFG\\CityScapesWithPanopticSegm\\dataset\\images\\train\\weimar_000013_000019_gtFine_polygons.png: ignoring corrupt image/label: non-normalized or out of bounds coordinates [      1.001]\n",
      "\u001b[34m\u001b[1mtrain: \u001b[0mWARNING  C:\\Users\\aaron\\Documents\\Ao4\\TFG\\CityScapesWithPanopticSegm\\dataset\\images\\train\\zurich_000002_000019_gtFine_polygons.png: ignoring corrupt image/label: non-normalized or out of bounds coordinates [     1.0005]\n",
      "\u001b[34m\u001b[1mtrain: \u001b[0mWARNING  C:\\Users\\aaron\\Documents\\Ao4\\TFG\\CityScapesWithPanopticSegm\\dataset\\images\\train\\zurich_000027_000019_gtFine_polygons.png: 1 duplicate labels removed\n",
      "\u001b[34m\u001b[1mtrain: \u001b[0mWARNING  C:\\Users\\aaron\\Documents\\Ao4\\TFG\\CityScapesWithPanopticSegm\\dataset\\images\\train\\zurich_000107_000019_gtFine_polygons.png: 1 duplicate labels removed\n"
     ]
    },
    {
     "name": "stderr",
     "output_type": "stream",
     "text": [
      "\n",
      "\u001b[34m\u001b[1mval: \u001b[0mScanning C:\\Users\\aaron\\Documents\\Año4\\TFG\\CityScapesWithPanopticSegm\\dataset\\labels\\val.cache... 500 images, 0 backgrounds, 5 corrupt: 100%|██████████| 500/500 [00:00<?, ?it/s]"
     ]
    },
    {
     "name": "stdout",
     "output_type": "stream",
     "text": [
      "\u001b[34m\u001b[1mval: \u001b[0mWARNING  C:\\Users\\aaron\\Documents\\Ao4\\TFG\\CityScapesWithPanopticSegm\\dataset\\images\\val\\frankfurt_000001_016273_gtFine_polygons.png: 1 duplicate labels removed\n",
      "\u001b[34m\u001b[1mval: \u001b[0mWARNING  C:\\Users\\aaron\\Documents\\Ao4\\TFG\\CityScapesWithPanopticSegm\\dataset\\images\\val\\frankfurt_000001_017101_gtFine_polygons.png: 1 duplicate labels removed\n",
      "\u001b[34m\u001b[1mval: \u001b[0mWARNING  C:\\Users\\aaron\\Documents\\Ao4\\TFG\\CityScapesWithPanopticSegm\\dataset\\images\\val\\frankfurt_000001_028232_gtFine_polygons.png: 1 duplicate labels removed\n",
      "\u001b[34m\u001b[1mval: \u001b[0mWARNING  C:\\Users\\aaron\\Documents\\Ao4\\TFG\\CityScapesWithPanopticSegm\\dataset\\images\\val\\frankfurt_000001_046272_gtFine_polygons.png: 1 duplicate labels removed\n",
      "\u001b[34m\u001b[1mval: \u001b[0mWARNING  C:\\Users\\aaron\\Documents\\Ao4\\TFG\\CityScapesWithPanopticSegm\\dataset\\images\\val\\frankfurt_000001_077434_gtFine_polygons.png: 1 duplicate labels removed\n",
      "\u001b[34m\u001b[1mval: \u001b[0mWARNING  C:\\Users\\aaron\\Documents\\Ao4\\TFG\\CityScapesWithPanopticSegm\\dataset\\images\\val\\lindau_000000_000019_gtFine_polygons.png: ignoring corrupt image/label: non-normalized or out of bounds coordinates [     1.0034]\n",
      "\u001b[34m\u001b[1mval: \u001b[0mWARNING  C:\\Users\\aaron\\Documents\\Ao4\\TFG\\CityScapesWithPanopticSegm\\dataset\\images\\val\\lindau_000013_000019_gtFine_polygons.png: ignoring corrupt image/label: non-normalized or out of bounds coordinates [     1.0005]\n",
      "\u001b[34m\u001b[1mval: \u001b[0mWARNING  C:\\Users\\aaron\\Documents\\Ao4\\TFG\\CityScapesWithPanopticSegm\\dataset\\images\\val\\lindau_000018_000019_gtFine_polygons.png: ignoring corrupt image/label: non-normalized or out of bounds coordinates [      1.001]\n",
      "\u001b[34m\u001b[1mval: \u001b[0mWARNING  C:\\Users\\aaron\\Documents\\Ao4\\TFG\\CityScapesWithPanopticSegm\\dataset\\images\\val\\munster_000026_000019_gtFine_polygons.png: 2 duplicate labels removed\n",
      "\u001b[34m\u001b[1mval: \u001b[0mWARNING  C:\\Users\\aaron\\Documents\\Ao4\\TFG\\CityScapesWithPanopticSegm\\dataset\\images\\val\\munster_000029_000019_gtFine_polygons.png: 1 duplicate labels removed\n",
      "\u001b[34m\u001b[1mval: \u001b[0mWARNING  C:\\Users\\aaron\\Documents\\Ao4\\TFG\\CityScapesWithPanopticSegm\\dataset\\images\\val\\munster_000035_000019_gtFine_polygons.png: ignoring corrupt image/label: non-normalized or out of bounds coordinates [     1.0005]\n",
      "\u001b[34m\u001b[1mval: \u001b[0mWARNING  C:\\Users\\aaron\\Documents\\Ao4\\TFG\\CityScapesWithPanopticSegm\\dataset\\images\\val\\munster_000045_000019_gtFine_polygons.png: ignoring corrupt image/label: non-normalized or out of bounds coordinates [     1.0005]\n",
      "\u001b[34m\u001b[1mval: \u001b[0mWARNING  C:\\Users\\aaron\\Documents\\Ao4\\TFG\\CityScapesWithPanopticSegm\\dataset\\images\\val\\munster_000049_000019_gtFine_polygons.png: 1 duplicate labels removed\n",
      "\u001b[34m\u001b[1mval: \u001b[0mWARNING  C:\\Users\\aaron\\Documents\\Ao4\\TFG\\CityScapesWithPanopticSegm\\dataset\\images\\val\\munster_000108_000019_gtFine_polygons.png: 1 duplicate labels removed\n",
      "\u001b[34m\u001b[1mval: \u001b[0mWARNING  C:\\Users\\aaron\\Documents\\Ao4\\TFG\\CityScapesWithPanopticSegm\\dataset\\images\\val\\munster_000140_000019_gtFine_polygons.png: 1 duplicate labels removed\n",
      "\u001b[34m\u001b[1mval: \u001b[0mWARNING  C:\\Users\\aaron\\Documents\\Ao4\\TFG\\CityScapesWithPanopticSegm\\dataset\\images\\val\\munster_000141_000019_gtFine_polygons.png: 1 duplicate labels removed\n",
      "\u001b[34m\u001b[1mval: \u001b[0mWARNING  C:\\Users\\aaron\\Documents\\Ao4\\TFG\\CityScapesWithPanopticSegm\\dataset\\images\\val\\munster_000142_000019_gtFine_polygons.png: 1 duplicate labels removed\n",
      "\u001b[34m\u001b[1mval: \u001b[0mWARNING  C:\\Users\\aaron\\Documents\\Ao4\\TFG\\CityScapesWithPanopticSegm\\dataset\\images\\val\\munster_000167_000019_gtFine_polygons.png: 1 duplicate labels removed\n",
      "Plotting labels to runs\\segment\\train552\\labels.jpg... \n"
     ]
    },
    {
     "name": "stderr",
     "output_type": "stream",
     "text": [
      "\n"
     ]
    },
    {
     "name": "stdout",
     "output_type": "stream",
     "text": [
      "\u001b[34m\u001b[1moptimizer:\u001b[0m AdamW(lr=1e-08, momentum=0.86519) with parameter groups 86 weight(decay=0.0), 97 weight(decay=0.00045), 96 bias(decay=0.0)\n",
      "Image sizes 640 train, 640 val\n",
      "Using 0 dataloader workers\n",
      "Logging results to \u001b[1mruns\\segment\\train552\u001b[0m\n",
      "Starting training for 30 epochs...\n",
      "\n",
      "      Epoch    GPU_mem   box_loss   seg_loss   cls_loss   dfl_loss  Instances       Size\n"
     ]
    },
    {
     "name": "stderr",
     "output_type": "stream",
     "text": [
      "       1/30      5.19G     0.9397      2.134      1.366      1.652        427        640: 100%|██████████| 369/369 [09:25<00:00,  1.53s/it]\n",
      "                 Class     Images  Instances      Box(P          R      mAP50  mAP50-95)     Mask(P          R      mAP50  mAP50-95): 100%|██████████| 31/31 [00:53<00:00,  1.72s/it]\n"
     ]
    },
    {
     "name": "stdout",
     "output_type": "stream",
     "text": [
      "                   all        495      23219      0.685        0.5      0.536      0.344      0.621      0.446      0.456      0.247\n",
      "\n",
      "      Epoch    GPU_mem   box_loss   seg_loss   cls_loss   dfl_loss  Instances       Size\n"
     ]
    },
    {
     "name": "stderr",
     "output_type": "stream",
     "text": [
      "       2/30      5.09G     0.9409      2.135      1.369      1.653        365        640: 100%|██████████| 369/369 [09:14<00:00,  1.50s/it]\n",
      "                 Class     Images  Instances      Box(P          R      mAP50  mAP50-95)     Mask(P          R      mAP50  mAP50-95): 100%|██████████| 31/31 [00:53<00:00,  1.73s/it]\n"
     ]
    },
    {
     "name": "stdout",
     "output_type": "stream",
     "text": [
      "                   all        495      23219      0.683      0.499      0.538      0.344      0.618      0.449      0.456      0.248\n",
      "\n",
      "      Epoch    GPU_mem   box_loss   seg_loss   cls_loss   dfl_loss  Instances       Size\n"
     ]
    },
    {
     "name": "stderr",
     "output_type": "stream",
     "text": [
      "       3/30      5.12G     0.9458      2.149      1.372      1.655        326        640: 100%|██████████| 369/369 [09:12<00:00,  1.50s/it]\n",
      "                 Class     Images  Instances      Box(P          R      mAP50  mAP50-95)     Mask(P          R      mAP50  mAP50-95): 100%|██████████| 31/31 [00:53<00:00,  1.73s/it]\n"
     ]
    },
    {
     "name": "stdout",
     "output_type": "stream",
     "text": [
      "                   all        495      23219      0.691      0.497      0.536      0.344       0.62      0.445      0.455      0.247\n",
      "\n",
      "      Epoch    GPU_mem   box_loss   seg_loss   cls_loss   dfl_loss  Instances       Size\n"
     ]
    },
    {
     "name": "stderr",
     "output_type": "stream",
     "text": [
      "       4/30      5.16G       0.94      2.133      1.369      1.652        273        640: 100%|██████████| 369/369 [09:09<00:00,  1.49s/it]\n",
      "                 Class     Images  Instances      Box(P          R      mAP50  mAP50-95)     Mask(P          R      mAP50  mAP50-95): 100%|██████████| 31/31 [00:53<00:00,  1.73s/it]\n"
     ]
    },
    {
     "name": "stdout",
     "output_type": "stream",
     "text": [
      "                   all        495      23219      0.682        0.5      0.537      0.346      0.617      0.448      0.457      0.248\n",
      "\n",
      "      Epoch    GPU_mem   box_loss   seg_loss   cls_loss   dfl_loss  Instances       Size\n"
     ]
    },
    {
     "name": "stderr",
     "output_type": "stream",
     "text": [
      "       5/30      5.16G     0.9401      2.132      1.368      1.654        392        640: 100%|██████████| 369/369 [09:09<00:00,  1.49s/it]\n",
      "                 Class     Images  Instances      Box(P          R      mAP50  mAP50-95)     Mask(P          R      mAP50  mAP50-95): 100%|██████████| 31/31 [00:53<00:00,  1.73s/it]\n"
     ]
    },
    {
     "name": "stdout",
     "output_type": "stream",
     "text": [
      "                   all        495      23219      0.685      0.499      0.537      0.345      0.621      0.446      0.456      0.248\n",
      "\n",
      "      Epoch    GPU_mem   box_loss   seg_loss   cls_loss   dfl_loss  Instances       Size\n"
     ]
    },
    {
     "name": "stderr",
     "output_type": "stream",
     "text": [
      "       6/30      5.14G     0.9394      2.132      1.365      1.653        424        640: 100%|██████████| 369/369 [09:08<00:00,  1.49s/it]\n",
      "                 Class     Images  Instances      Box(P          R      mAP50  mAP50-95)     Mask(P          R      mAP50  mAP50-95): 100%|██████████| 31/31 [00:53<00:00,  1.73s/it]\n"
     ]
    },
    {
     "name": "stdout",
     "output_type": "stream",
     "text": [
      "                   all        495      23219      0.688      0.496      0.536      0.344      0.628      0.443      0.457      0.248\n",
      "\n",
      "      Epoch    GPU_mem   box_loss   seg_loss   cls_loss   dfl_loss  Instances       Size\n"
     ]
    },
    {
     "name": "stderr",
     "output_type": "stream",
     "text": [
      "       7/30      5.39G     0.9405      2.136      1.372      1.654        387        640: 100%|██████████| 369/369 [09:09<00:00,  1.49s/it]\n",
      "                 Class     Images  Instances      Box(P          R      mAP50  mAP50-95)     Mask(P          R      mAP50  mAP50-95): 100%|██████████| 31/31 [00:53<00:00,  1.73s/it]\n"
     ]
    },
    {
     "name": "stdout",
     "output_type": "stream",
     "text": [
      "                   all        495      23219      0.686      0.498      0.537      0.344      0.618      0.447      0.457      0.248\n",
      "\n",
      "      Epoch    GPU_mem   box_loss   seg_loss   cls_loss   dfl_loss  Instances       Size\n"
     ]
    },
    {
     "name": "stderr",
     "output_type": "stream",
     "text": [
      "       8/30      5.34G     0.9394       2.13      1.363       1.65        419        640: 100%|██████████| 369/369 [09:09<00:00,  1.49s/it]\n",
      "                 Class     Images  Instances      Box(P          R      mAP50  mAP50-95)     Mask(P          R      mAP50  mAP50-95): 100%|██████████| 31/31 [00:53<00:00,  1.73s/it]\n"
     ]
    },
    {
     "name": "stdout",
     "output_type": "stream",
     "text": [
      "                   all        495      23219      0.689      0.497      0.538      0.345      0.627      0.443      0.455      0.247\n",
      "\n",
      "      Epoch    GPU_mem   box_loss   seg_loss   cls_loss   dfl_loss  Instances       Size\n"
     ]
    },
    {
     "name": "stderr",
     "output_type": "stream",
     "text": [
      "       9/30      5.18G     0.9376      2.128      1.367      1.651        289        640: 100%|██████████| 369/369 [09:08<00:00,  1.49s/it]\n",
      "                 Class     Images  Instances      Box(P          R      mAP50  mAP50-95)     Mask(P          R      mAP50  mAP50-95): 100%|██████████| 31/31 [00:53<00:00,  1.73s/it]\n"
     ]
    },
    {
     "name": "stdout",
     "output_type": "stream",
     "text": [
      "                   all        495      23219       0.69      0.498      0.537      0.345      0.618      0.448      0.457      0.248\n",
      "\n",
      "      Epoch    GPU_mem   box_loss   seg_loss   cls_loss   dfl_loss  Instances       Size\n"
     ]
    },
    {
     "name": "stderr",
     "output_type": "stream",
     "text": [
      "      10/30       5.3G     0.9408      2.133      1.366      1.654        305        640: 100%|██████████| 369/369 [09:08<00:00,  1.49s/it]\n",
      "                 Class     Images  Instances      Box(P          R      mAP50  mAP50-95)     Mask(P          R      mAP50  mAP50-95): 100%|██████████| 31/31 [00:53<00:00,  1.72s/it]\n"
     ]
    },
    {
     "name": "stdout",
     "output_type": "stream",
     "text": [
      "                   all        495      23219      0.686      0.499      0.537      0.345       0.63       0.44      0.456      0.247\n",
      "\n",
      "      Epoch    GPU_mem   box_loss   seg_loss   cls_loss   dfl_loss  Instances       Size\n"
     ]
    },
    {
     "name": "stderr",
     "output_type": "stream",
     "text": [
      "      11/30      5.14G     0.9416      2.131      1.369      1.653        327        640: 100%|██████████| 369/369 [09:06<00:00,  1.48s/it]\n",
      "                 Class     Images  Instances      Box(P          R      mAP50  mAP50-95)     Mask(P          R      mAP50  mAP50-95): 100%|██████████| 31/31 [00:53<00:00,  1.72s/it]\n"
     ]
    },
    {
     "name": "stdout",
     "output_type": "stream",
     "text": [
      "                   all        495      23219       0.69      0.496      0.537      0.345       0.62      0.446      0.455      0.248\n",
      "\n",
      "      Epoch    GPU_mem   box_loss   seg_loss   cls_loss   dfl_loss  Instances       Size\n"
     ]
    },
    {
     "name": "stderr",
     "output_type": "stream",
     "text": [
      "      12/30       5.2G     0.9418      2.126      1.366      1.653        425        640: 100%|██████████| 369/369 [09:07<00:00,  1.48s/it]\n",
      "                 Class     Images  Instances      Box(P          R      mAP50  mAP50-95)     Mask(P          R      mAP50  mAP50-95): 100%|██████████| 31/31 [00:53<00:00,  1.72s/it]\n"
     ]
    },
    {
     "name": "stdout",
     "output_type": "stream",
     "text": [
      "                   all        495      23219      0.686        0.5      0.537      0.345      0.629      0.441      0.456      0.247\n",
      "\n",
      "      Epoch    GPU_mem   box_loss   seg_loss   cls_loss   dfl_loss  Instances       Size\n"
     ]
    },
    {
     "name": "stderr",
     "output_type": "stream",
     "text": [
      "      13/30      5.17G      0.933      2.123      1.355      1.647        351        640: 100%|██████████| 369/369 [09:07<00:00,  1.48s/it]\n",
      "                 Class     Images  Instances      Box(P          R      mAP50  mAP50-95)     Mask(P          R      mAP50  mAP50-95): 100%|██████████| 31/31 [00:53<00:00,  1.73s/it]\n"
     ]
    },
    {
     "name": "stdout",
     "output_type": "stream",
     "text": [
      "                   all        495      23219      0.687        0.5      0.537      0.345      0.621      0.447      0.457      0.249\n",
      "\n",
      "      Epoch    GPU_mem   box_loss   seg_loss   cls_loss   dfl_loss  Instances       Size\n"
     ]
    },
    {
     "name": "stderr",
     "output_type": "stream",
     "text": [
      "      14/30      5.19G     0.9297      2.115      1.348      1.647        354        640: 100%|██████████| 369/369 [09:06<00:00,  1.48s/it]\n",
      "                 Class     Images  Instances      Box(P          R      mAP50  mAP50-95)     Mask(P          R      mAP50  mAP50-95): 100%|██████████| 31/31 [00:53<00:00,  1.73s/it]\n"
     ]
    },
    {
     "name": "stdout",
     "output_type": "stream",
     "text": [
      "                   all        495      23219      0.689      0.499      0.537      0.345      0.626      0.443      0.457      0.248\n",
      "\n",
      "      Epoch    GPU_mem   box_loss   seg_loss   cls_loss   dfl_loss  Instances       Size\n"
     ]
    },
    {
     "name": "stderr",
     "output_type": "stream",
     "text": [
      "      15/30      5.17G     0.9352      2.117      1.361      1.651        315        640: 100%|██████████| 369/369 [09:06<00:00,  1.48s/it]\n",
      "                 Class     Images  Instances      Box(P          R      mAP50  mAP50-95)     Mask(P          R      mAP50  mAP50-95): 100%|██████████| 31/31 [00:53<00:00,  1.72s/it]\n"
     ]
    },
    {
     "name": "stdout",
     "output_type": "stream",
     "text": [
      "                   all        495      23219       0.69      0.499      0.537      0.345      0.616      0.449      0.457      0.248\n",
      "\n",
      "      Epoch    GPU_mem   box_loss   seg_loss   cls_loss   dfl_loss  Instances       Size\n"
     ]
    },
    {
     "name": "stderr",
     "output_type": "stream",
     "text": [
      "      16/30      5.24G     0.9365      2.129      1.359      1.651        353        640: 100%|██████████| 369/369 [09:05<00:00,  1.48s/it]\n",
      "                 Class     Images  Instances      Box(P          R      mAP50  mAP50-95)     Mask(P          R      mAP50  mAP50-95): 100%|██████████| 31/31 [00:53<00:00,  1.73s/it]\n"
     ]
    },
    {
     "name": "stdout",
     "output_type": "stream",
     "text": [
      "                   all        495      23219      0.685        0.5      0.537      0.346       0.62      0.445      0.457      0.248\n",
      "\n",
      "      Epoch    GPU_mem   box_loss   seg_loss   cls_loss   dfl_loss  Instances       Size\n"
     ]
    },
    {
     "name": "stderr",
     "output_type": "stream",
     "text": [
      "      17/30      5.21G     0.9346      2.124      1.355      1.648        369        640: 100%|██████████| 369/369 [09:08<00:00,  1.49s/it]\n",
      "                 Class     Images  Instances      Box(P          R      mAP50  mAP50-95)     Mask(P          R      mAP50  mAP50-95): 100%|██████████| 31/31 [00:53<00:00,  1.73s/it]\n"
     ]
    },
    {
     "name": "stdout",
     "output_type": "stream",
     "text": [
      "                   all        495      23219      0.681      0.497      0.536      0.344       0.62      0.447      0.458      0.247\n",
      "\n",
      "      Epoch    GPU_mem   box_loss   seg_loss   cls_loss   dfl_loss  Instances       Size\n"
     ]
    },
    {
     "name": "stderr",
     "output_type": "stream",
     "text": [
      "      18/30      5.23G     0.9408      2.139      1.368      1.655        374        640: 100%|██████████| 369/369 [09:08<00:00,  1.49s/it]\n",
      "                 Class     Images  Instances      Box(P          R      mAP50  mAP50-95)     Mask(P          R      mAP50  mAP50-95): 100%|██████████| 31/31 [00:53<00:00,  1.72s/it]\n"
     ]
    },
    {
     "name": "stdout",
     "output_type": "stream",
     "text": [
      "                   all        495      23219      0.686        0.5      0.538      0.345      0.619       0.45      0.459      0.249\n",
      "\n",
      "      Epoch    GPU_mem   box_loss   seg_loss   cls_loss   dfl_loss  Instances       Size\n"
     ]
    },
    {
     "name": "stderr",
     "output_type": "stream",
     "text": [
      "      19/30      5.22G     0.9382      2.128      1.361      1.651        383        640: 100%|██████████| 369/369 [09:06<00:00,  1.48s/it]\n",
      "                 Class     Images  Instances      Box(P          R      mAP50  mAP50-95)     Mask(P          R      mAP50  mAP50-95): 100%|██████████| 31/31 [00:53<00:00,  1.72s/it]\n"
     ]
    },
    {
     "name": "stdout",
     "output_type": "stream",
     "text": [
      "                   all        495      23219      0.677      0.504      0.538      0.346      0.622      0.448      0.458      0.248\n",
      "\n",
      "      Epoch    GPU_mem   box_loss   seg_loss   cls_loss   dfl_loss  Instances       Size\n"
     ]
    },
    {
     "name": "stderr",
     "output_type": "stream",
     "text": [
      "      20/30      5.16G     0.9367      2.129      1.358      1.651        303        640: 100%|██████████| 369/369 [09:07<00:00,  1.48s/it]\n",
      "                 Class     Images  Instances      Box(P          R      mAP50  mAP50-95)     Mask(P          R      mAP50  mAP50-95): 100%|██████████| 31/31 [00:53<00:00,  1.73s/it]\n"
     ]
    },
    {
     "name": "stdout",
     "output_type": "stream",
     "text": [
      "                   all        495      23219       0.69      0.497      0.537      0.345      0.628      0.441      0.457      0.248\n",
      "Closing dataloader mosaic\n",
      "\n",
      "      Epoch    GPU_mem   box_loss   seg_loss   cls_loss   dfl_loss  Instances       Size\n"
     ]
    },
    {
     "name": "stderr",
     "output_type": "stream",
     "text": [
      "      21/30      5.08G     0.9833      2.197       1.48      1.739        197        640: 100%|██████████| 369/369 [06:47<00:00,  1.10s/it]\n",
      "                 Class     Images  Instances      Box(P          R      mAP50  mAP50-95)     Mask(P          R      mAP50  mAP50-95): 100%|██████████| 31/31 [00:53<00:00,  1.72s/it]\n"
     ]
    },
    {
     "name": "stdout",
     "output_type": "stream",
     "text": [
      "                   all        495      23219      0.661       0.48      0.521      0.329      0.631      0.418      0.436      0.231\n",
      "\n",
      "      Epoch    GPU_mem   box_loss   seg_loss   cls_loss   dfl_loss  Instances       Size\n"
     ]
    },
    {
     "name": "stderr",
     "output_type": "stream",
     "text": [
      "      22/30      4.98G     0.9823      2.194      1.478      1.738        140        640: 100%|██████████| 369/369 [06:46<00:00,  1.10s/it]\n",
      "                 Class     Images  Instances      Box(P          R      mAP50  mAP50-95)     Mask(P          R      mAP50  mAP50-95): 100%|██████████| 31/31 [00:53<00:00,  1.74s/it]\n"
     ]
    },
    {
     "name": "stdout",
     "output_type": "stream",
     "text": [
      "                   all        495      23219      0.654      0.485      0.522       0.33      0.636      0.418      0.437      0.232\n",
      "\n",
      "      Epoch    GPU_mem   box_loss   seg_loss   cls_loss   dfl_loss  Instances       Size\n"
     ]
    },
    {
     "name": "stderr",
     "output_type": "stream",
     "text": [
      "      23/30      5.09G     0.9821      2.194      1.475      1.738        178        640: 100%|██████████| 369/369 [06:46<00:00,  1.10s/it]\n",
      "                 Class     Images  Instances      Box(P          R      mAP50  mAP50-95)     Mask(P          R      mAP50  mAP50-95): 100%|██████████| 31/31 [00:53<00:00,  1.73s/it]\n"
     ]
    },
    {
     "name": "stdout",
     "output_type": "stream",
     "text": [
      "                   all        495      23219      0.655      0.487      0.521      0.329      0.633      0.417      0.436      0.231\n",
      "\n",
      "      Epoch    GPU_mem   box_loss   seg_loss   cls_loss   dfl_loss  Instances       Size\n"
     ]
    },
    {
     "name": "stderr",
     "output_type": "stream",
     "text": [
      "      24/30      4.67G      0.982      2.193      1.474      1.737        189        640: 100%|██████████| 369/369 [06:45<00:00,  1.10s/it]\n",
      "                 Class     Images  Instances      Box(P          R      mAP50  mAP50-95)     Mask(P          R      mAP50  mAP50-95): 100%|██████████| 31/31 [00:53<00:00,  1.73s/it]\n"
     ]
    },
    {
     "name": "stdout",
     "output_type": "stream",
     "text": [
      "                   all        495      23219      0.652      0.485      0.521       0.33      0.626      0.417      0.435      0.231\n",
      "\n",
      "      Epoch    GPU_mem   box_loss   seg_loss   cls_loss   dfl_loss  Instances       Size\n"
     ]
    },
    {
     "name": "stderr",
     "output_type": "stream",
     "text": [
      "      25/30      5.09G     0.9798      2.193      1.473      1.735        315        640: 100%|██████████| 369/369 [06:46<00:00,  1.10s/it]\n",
      "                 Class     Images  Instances      Box(P          R      mAP50  mAP50-95)     Mask(P          R      mAP50  mAP50-95): 100%|██████████| 31/31 [00:53<00:00,  1.72s/it]\n"
     ]
    },
    {
     "name": "stdout",
     "output_type": "stream",
     "text": [
      "                   all        495      23219      0.653      0.486       0.52      0.329      0.628      0.418      0.436      0.231\n",
      "\n",
      "      Epoch    GPU_mem   box_loss   seg_loss   cls_loss   dfl_loss  Instances       Size\n"
     ]
    },
    {
     "name": "stderr",
     "output_type": "stream",
     "text": [
      "      26/30      5.07G      0.982      2.194      1.473      1.737        270        640: 100%|██████████| 369/369 [06:46<00:00,  1.10s/it]\n",
      "                 Class     Images  Instances      Box(P          R      mAP50  mAP50-95)     Mask(P          R      mAP50  mAP50-95): 100%|██████████| 31/31 [00:53<00:00,  1.73s/it]\n"
     ]
    },
    {
     "name": "stdout",
     "output_type": "stream",
     "text": [
      "                   all        495      23219      0.649      0.487       0.52      0.329      0.626      0.417      0.435      0.232\n",
      "\n",
      "      Epoch    GPU_mem   box_loss   seg_loss   cls_loss   dfl_loss  Instances       Size\n"
     ]
    },
    {
     "name": "stderr",
     "output_type": "stream",
     "text": [
      "      27/30      5.07G     0.9814      2.193      1.472      1.737        209        640: 100%|██████████| 369/369 [06:49<00:00,  1.11s/it]\n",
      "                 Class     Images  Instances      Box(P          R      mAP50  mAP50-95)     Mask(P          R      mAP50  mAP50-95): 100%|██████████| 31/31 [00:53<00:00,  1.73s/it]\n"
     ]
    },
    {
     "name": "stdout",
     "output_type": "stream",
     "text": [
      "                   all        495      23219      0.647      0.489      0.522      0.331      0.629       0.42      0.438      0.232\n",
      "\n",
      "      Epoch    GPU_mem   box_loss   seg_loss   cls_loss   dfl_loss  Instances       Size\n"
     ]
    },
    {
     "name": "stderr",
     "output_type": "stream",
     "text": [
      "      28/30      5.08G     0.9803      2.191      1.471      1.734        212        640: 100%|██████████| 369/369 [06:46<00:00,  1.10s/it]\n",
      "                 Class     Images  Instances      Box(P          R      mAP50  mAP50-95)     Mask(P          R      mAP50  mAP50-95): 100%|██████████| 31/31 [00:53<00:00,  1.73s/it]\n"
     ]
    },
    {
     "name": "stdout",
     "output_type": "stream",
     "text": [
      "                   all        495      23219      0.647      0.489      0.521       0.33      0.635      0.417      0.436      0.232\n",
      "\n",
      "      Epoch    GPU_mem   box_loss   seg_loss   cls_loss   dfl_loss  Instances       Size\n"
     ]
    },
    {
     "name": "stderr",
     "output_type": "stream",
     "text": [
      "      29/30      5.07G     0.9799      2.191      1.471      1.736        194        640: 100%|██████████| 369/369 [06:46<00:00,  1.10s/it]\n",
      "                 Class     Images  Instances      Box(P          R      mAP50  mAP50-95)     Mask(P          R      mAP50  mAP50-95): 100%|██████████| 31/31 [00:53<00:00,  1.74s/it]\n"
     ]
    },
    {
     "name": "stdout",
     "output_type": "stream",
     "text": [
      "                   all        495      23219      0.652      0.487      0.522       0.33      0.639      0.416      0.436      0.232\n",
      "\n",
      "      Epoch    GPU_mem   box_loss   seg_loss   cls_loss   dfl_loss  Instances       Size\n"
     ]
    },
    {
     "name": "stderr",
     "output_type": "stream",
     "text": [
      "      30/30      4.98G     0.9805      2.192      1.471      1.734        201        640: 100%|██████████| 369/369 [06:47<00:00,  1.11s/it]\n",
      "                 Class     Images  Instances      Box(P          R      mAP50  mAP50-95)     Mask(P          R      mAP50  mAP50-95): 100%|██████████| 31/31 [00:53<00:00,  1.73s/it]\n"
     ]
    },
    {
     "name": "stdout",
     "output_type": "stream",
     "text": [
      "                   all        495      23219      0.647       0.49      0.522       0.33      0.622      0.421      0.437      0.231\n",
      "\n",
      "30 epochs completed in 4.646 hours.\n",
      "Optimizer stripped from runs\\segment\\train552\\weights\\last.pt, 54.8MB\n",
      "Optimizer stripped from runs\\segment\\train552\\weights\\best.pt, 54.8MB\n",
      "\n",
      "Validating runs\\segment\\train552\\weights\\best.pt...\n",
      "Ultralytics 8.3.55  Python-3.11.5 torch-2.6.0+cu126 CUDA:0 (NVIDIA GeForce RTX 4060 Laptop GPU, 8188MiB)\n",
      "YOLOv8m-seg summary (fused): 245 layers, 27,229,911 parameters, 0 gradients, 110.0 GFLOPs\n"
     ]
    },
    {
     "name": "stderr",
     "output_type": "stream",
     "text": [
      "                 Class     Images  Instances      Box(P          R      mAP50  mAP50-95)     Mask(P          R      mAP50  mAP50-95):   0%|          | 0/31 [00:00<?, ?it/s]"
     ]
    },
    {
     "name": "stdout",
     "output_type": "stream",
     "text": [
      "WARNING  Model does not support 'augment=True', reverting to single-scale prediction.\n"
     ]
    },
    {
     "name": "stderr",
     "output_type": "stream",
     "text": [
      "                 Class     Images  Instances      Box(P          R      mAP50  mAP50-95)     Mask(P          R      mAP50  mAP50-95):   3%|▎         | 1/31 [00:02<01:03,  2.12s/it]"
     ]
    },
    {
     "name": "stdout",
     "output_type": "stream",
     "text": [
      "WARNING  Model does not support 'augment=True', reverting to single-scale prediction.\n"
     ]
    },
    {
     "name": "stderr",
     "output_type": "stream",
     "text": [
      "                 Class     Images  Instances      Box(P          R      mAP50  mAP50-95)     Mask(P          R      mAP50  mAP50-95):   6%|▋         | 2/31 [00:04<00:58,  2.02s/it]"
     ]
    },
    {
     "name": "stdout",
     "output_type": "stream",
     "text": [
      "WARNING  Model does not support 'augment=True', reverting to single-scale prediction.\n"
     ]
    },
    {
     "name": "stderr",
     "output_type": "stream",
     "text": [
      "                 Class     Images  Instances      Box(P          R      mAP50  mAP50-95)     Mask(P          R      mAP50  mAP50-95):  10%|▉         | 3/31 [00:06<00:58,  2.10s/it]"
     ]
    },
    {
     "name": "stdout",
     "output_type": "stream",
     "text": [
      "WARNING  Model does not support 'augment=True', reverting to single-scale prediction.\n"
     ]
    },
    {
     "name": "stderr",
     "output_type": "stream",
     "text": [
      "                 Class     Images  Instances      Box(P          R      mAP50  mAP50-95)     Mask(P          R      mAP50  mAP50-95):  13%|█▎        | 4/31 [00:08<00:59,  2.21s/it]"
     ]
    },
    {
     "name": "stdout",
     "output_type": "stream",
     "text": [
      "WARNING  Model does not support 'augment=True', reverting to single-scale prediction.\n"
     ]
    },
    {
     "name": "stderr",
     "output_type": "stream",
     "text": [
      "                 Class     Images  Instances      Box(P          R      mAP50  mAP50-95)     Mask(P          R      mAP50  mAP50-95):  16%|█▌        | 5/31 [00:10<00:53,  2.05s/it]"
     ]
    },
    {
     "name": "stdout",
     "output_type": "stream",
     "text": [
      "WARNING  Model does not support 'augment=True', reverting to single-scale prediction.\n"
     ]
    },
    {
     "name": "stderr",
     "output_type": "stream",
     "text": [
      "                 Class     Images  Instances      Box(P          R      mAP50  mAP50-95)     Mask(P          R      mAP50  mAP50-95):  19%|█▉        | 6/31 [00:12<00:48,  1.94s/it]"
     ]
    },
    {
     "name": "stdout",
     "output_type": "stream",
     "text": [
      "WARNING  Model does not support 'augment=True', reverting to single-scale prediction.\n"
     ]
    },
    {
     "name": "stderr",
     "output_type": "stream",
     "text": [
      "                 Class     Images  Instances      Box(P          R      mAP50  mAP50-95)     Mask(P          R      mAP50  mAP50-95):  23%|██▎       | 7/31 [00:13<00:43,  1.81s/it]"
     ]
    },
    {
     "name": "stdout",
     "output_type": "stream",
     "text": [
      "WARNING  Model does not support 'augment=True', reverting to single-scale prediction.\n"
     ]
    },
    {
     "name": "stderr",
     "output_type": "stream",
     "text": [
      "                 Class     Images  Instances      Box(P          R      mAP50  mAP50-95)     Mask(P          R      mAP50  mAP50-95):  26%|██▌       | 8/31 [00:15<00:40,  1.74s/it]"
     ]
    },
    {
     "name": "stdout",
     "output_type": "stream",
     "text": [
      "WARNING  Model does not support 'augment=True', reverting to single-scale prediction.\n"
     ]
    },
    {
     "name": "stderr",
     "output_type": "stream",
     "text": [
      "                 Class     Images  Instances      Box(P          R      mAP50  mAP50-95)     Mask(P          R      mAP50  mAP50-95):  29%|██▉       | 9/31 [00:16<00:37,  1.72s/it]"
     ]
    },
    {
     "name": "stdout",
     "output_type": "stream",
     "text": [
      "WARNING  Model does not support 'augment=True', reverting to single-scale prediction.\n"
     ]
    },
    {
     "name": "stderr",
     "output_type": "stream",
     "text": [
      "                 Class     Images  Instances      Box(P          R      mAP50  mAP50-95)     Mask(P          R      mAP50  mAP50-95):  32%|███▏      | 10/31 [00:18<00:36,  1.73s/it]"
     ]
    },
    {
     "name": "stdout",
     "output_type": "stream",
     "text": [
      "WARNING  Model does not support 'augment=True', reverting to single-scale prediction.\n"
     ]
    },
    {
     "name": "stderr",
     "output_type": "stream",
     "text": [
      "                 Class     Images  Instances      Box(P          R      mAP50  mAP50-95)     Mask(P          R      mAP50  mAP50-95):  35%|███▌      | 11/31 [00:20<00:34,  1.74s/it]"
     ]
    },
    {
     "name": "stdout",
     "output_type": "stream",
     "text": [
      "WARNING  Model does not support 'augment=True', reverting to single-scale prediction.\n"
     ]
    },
    {
     "name": "stderr",
     "output_type": "stream",
     "text": [
      "                 Class     Images  Instances      Box(P          R      mAP50  mAP50-95)     Mask(P          R      mAP50  mAP50-95):  39%|███▊      | 12/31 [00:22<00:33,  1.75s/it]"
     ]
    },
    {
     "name": "stdout",
     "output_type": "stream",
     "text": [
      "WARNING  Model does not support 'augment=True', reverting to single-scale prediction.\n"
     ]
    },
    {
     "name": "stderr",
     "output_type": "stream",
     "text": [
      "                 Class     Images  Instances      Box(P          R      mAP50  mAP50-95)     Mask(P          R      mAP50  mAP50-95):  42%|████▏     | 13/31 [00:24<00:31,  1.77s/it]"
     ]
    },
    {
     "name": "stdout",
     "output_type": "stream",
     "text": [
      "WARNING  Model does not support 'augment=True', reverting to single-scale prediction.\n"
     ]
    },
    {
     "name": "stderr",
     "output_type": "stream",
     "text": [
      "                 Class     Images  Instances      Box(P          R      mAP50  mAP50-95)     Mask(P          R      mAP50  mAP50-95):  45%|████▌     | 14/31 [00:25<00:30,  1.78s/it]"
     ]
    },
    {
     "name": "stdout",
     "output_type": "stream",
     "text": [
      "WARNING  Model does not support 'augment=True', reverting to single-scale prediction.\n"
     ]
    },
    {
     "name": "stderr",
     "output_type": "stream",
     "text": [
      "                 Class     Images  Instances      Box(P          R      mAP50  mAP50-95)     Mask(P          R      mAP50  mAP50-95):  48%|████▊     | 15/31 [00:27<00:28,  1.77s/it]"
     ]
    },
    {
     "name": "stdout",
     "output_type": "stream",
     "text": [
      "WARNING  Model does not support 'augment=True', reverting to single-scale prediction.\n"
     ]
    },
    {
     "name": "stderr",
     "output_type": "stream",
     "text": [
      "                 Class     Images  Instances      Box(P          R      mAP50  mAP50-95)     Mask(P          R      mAP50  mAP50-95):  52%|█████▏    | 16/31 [00:29<00:27,  1.81s/it]"
     ]
    },
    {
     "name": "stdout",
     "output_type": "stream",
     "text": [
      "WARNING  Model does not support 'augment=True', reverting to single-scale prediction.\n"
     ]
    },
    {
     "name": "stderr",
     "output_type": "stream",
     "text": [
      "                 Class     Images  Instances      Box(P          R      mAP50  mAP50-95)     Mask(P          R      mAP50  mAP50-95):  55%|█████▍    | 17/31 [00:31<00:25,  1.81s/it]"
     ]
    },
    {
     "name": "stdout",
     "output_type": "stream",
     "text": [
      "WARNING  Model does not support 'augment=True', reverting to single-scale prediction.\n"
     ]
    },
    {
     "name": "stderr",
     "output_type": "stream",
     "text": [
      "                 Class     Images  Instances      Box(P          R      mAP50  mAP50-95)     Mask(P          R      mAP50  mAP50-95):  58%|█████▊    | 18/31 [00:33<00:23,  1.81s/it]"
     ]
    },
    {
     "name": "stdout",
     "output_type": "stream",
     "text": [
      "WARNING  Model does not support 'augment=True', reverting to single-scale prediction.\n"
     ]
    },
    {
     "name": "stderr",
     "output_type": "stream",
     "text": [
      "                 Class     Images  Instances      Box(P          R      mAP50  mAP50-95)     Mask(P          R      mAP50  mAP50-95):  61%|██████▏   | 19/31 [00:35<00:22,  1.89s/it]"
     ]
    },
    {
     "name": "stdout",
     "output_type": "stream",
     "text": [
      "WARNING  Model does not support 'augment=True', reverting to single-scale prediction.\n"
     ]
    },
    {
     "name": "stderr",
     "output_type": "stream",
     "text": [
      "                 Class     Images  Instances      Box(P          R      mAP50  mAP50-95)     Mask(P          R      mAP50  mAP50-95):  65%|██████▍   | 20/31 [00:37<00:21,  1.93s/it]"
     ]
    },
    {
     "name": "stdout",
     "output_type": "stream",
     "text": [
      "WARNING  Model does not support 'augment=True', reverting to single-scale prediction.\n"
     ]
    },
    {
     "name": "stderr",
     "output_type": "stream",
     "text": [
      "                 Class     Images  Instances      Box(P          R      mAP50  mAP50-95)     Mask(P          R      mAP50  mAP50-95):  68%|██████▊   | 21/31 [00:39<00:19,  1.94s/it]"
     ]
    },
    {
     "name": "stdout",
     "output_type": "stream",
     "text": [
      "WARNING  Model does not support 'augment=True', reverting to single-scale prediction.\n"
     ]
    },
    {
     "name": "stderr",
     "output_type": "stream",
     "text": [
      "                 Class     Images  Instances      Box(P          R      mAP50  mAP50-95)     Mask(P          R      mAP50  mAP50-95):  71%|███████   | 22/31 [00:40<00:17,  1.89s/it]"
     ]
    },
    {
     "name": "stdout",
     "output_type": "stream",
     "text": [
      "WARNING  Model does not support 'augment=True', reverting to single-scale prediction.\n"
     ]
    },
    {
     "name": "stderr",
     "output_type": "stream",
     "text": [
      "                 Class     Images  Instances      Box(P          R      mAP50  mAP50-95)     Mask(P          R      mAP50  mAP50-95):  74%|███████▍  | 23/31 [00:42<00:15,  1.91s/it]"
     ]
    },
    {
     "name": "stdout",
     "output_type": "stream",
     "text": [
      "WARNING  Model does not support 'augment=True', reverting to single-scale prediction.\n"
     ]
    },
    {
     "name": "stderr",
     "output_type": "stream",
     "text": [
      "                 Class     Images  Instances      Box(P          R      mAP50  mAP50-95)     Mask(P          R      mAP50  mAP50-95):  77%|███████▋  | 24/31 [00:44<00:13,  1.88s/it]"
     ]
    },
    {
     "name": "stdout",
     "output_type": "stream",
     "text": [
      "WARNING  Model does not support 'augment=True', reverting to single-scale prediction.\n"
     ]
    },
    {
     "name": "stderr",
     "output_type": "stream",
     "text": [
      "                 Class     Images  Instances      Box(P          R      mAP50  mAP50-95)     Mask(P          R      mAP50  mAP50-95):  81%|████████  | 25/31 [00:46<00:11,  1.89s/it]"
     ]
    },
    {
     "name": "stdout",
     "output_type": "stream",
     "text": [
      "WARNING  Model does not support 'augment=True', reverting to single-scale prediction.\n"
     ]
    },
    {
     "name": "stderr",
     "output_type": "stream",
     "text": [
      "                 Class     Images  Instances      Box(P          R      mAP50  mAP50-95)     Mask(P          R      mAP50  mAP50-95):  84%|████████▍ | 26/31 [00:48<00:09,  1.94s/it]"
     ]
    },
    {
     "name": "stdout",
     "output_type": "stream",
     "text": [
      "WARNING  Model does not support 'augment=True', reverting to single-scale prediction.\n"
     ]
    },
    {
     "name": "stderr",
     "output_type": "stream",
     "text": [
      "                 Class     Images  Instances      Box(P          R      mAP50  mAP50-95)     Mask(P          R      mAP50  mAP50-95):  87%|████████▋ | 27/31 [00:50<00:07,  1.90s/it]"
     ]
    },
    {
     "name": "stdout",
     "output_type": "stream",
     "text": [
      "WARNING  Model does not support 'augment=True', reverting to single-scale prediction.\n"
     ]
    },
    {
     "name": "stderr",
     "output_type": "stream",
     "text": [
      "                 Class     Images  Instances      Box(P          R      mAP50  mAP50-95)     Mask(P          R      mAP50  mAP50-95):  90%|█████████ | 28/31 [00:52<00:05,  1.90s/it]"
     ]
    },
    {
     "name": "stdout",
     "output_type": "stream",
     "text": [
      "WARNING  Model does not support 'augment=True', reverting to single-scale prediction.\n"
     ]
    },
    {
     "name": "stderr",
     "output_type": "stream",
     "text": [
      "                 Class     Images  Instances      Box(P          R      mAP50  mAP50-95)     Mask(P          R      mAP50  mAP50-95):  94%|█████████▎| 29/31 [00:54<00:03,  1.88s/it]"
     ]
    },
    {
     "name": "stdout",
     "output_type": "stream",
     "text": [
      "WARNING  Model does not support 'augment=True', reverting to single-scale prediction.\n"
     ]
    },
    {
     "name": "stderr",
     "output_type": "stream",
     "text": [
      "                 Class     Images  Instances      Box(P          R      mAP50  mAP50-95)     Mask(P          R      mAP50  mAP50-95):  97%|█████████▋| 30/31 [00:56<00:01,  1.86s/it]"
     ]
    },
    {
     "name": "stdout",
     "output_type": "stream",
     "text": [
      "WARNING  Model does not support 'augment=True', reverting to single-scale prediction.\n"
     ]
    },
    {
     "name": "stderr",
     "output_type": "stream",
     "text": [
      "                 Class     Images  Instances      Box(P          R      mAP50  mAP50-95)     Mask(P          R      mAP50  mAP50-95): 100%|██████████| 31/31 [00:57<00:00,  1.86s/it]\n"
     ]
    },
    {
     "name": "stdout",
     "output_type": "stream",
     "text": [
      "                   all        495      23219      0.677      0.504      0.538      0.346      0.622      0.448      0.458      0.248\n",
      "                person        399       3387      0.625      0.468      0.521       0.29       0.51      0.351      0.357      0.143\n",
      "                 rider        252        548      0.795      0.446       0.56      0.331      0.541       0.29      0.283     0.0879\n",
      "                   car        474       4638      0.795       0.64      0.717      0.478      0.656      0.505      0.548      0.278\n",
      "                 truck         79         92      0.558       0.37      0.407       0.31      0.583       0.37      0.397      0.245\n",
      "                   bus         75         98      0.607      0.612      0.651      0.496      0.629      0.592      0.629      0.387\n",
      "                 train         22         23      0.636      0.478       0.43      0.242      0.587      0.435      0.394      0.185\n",
      "            motorcycle         93        149      0.752      0.295      0.364      0.162      0.568      0.215      0.238      0.065\n",
      "               bicycle        330       1165      0.737      0.334       0.44      0.226       0.65      0.273      0.307      0.105\n",
      "                  road        481        494      0.967      0.972      0.979      0.866      0.966       0.97      0.974      0.867\n",
      "              sidewalk        462       1205      0.651      0.437      0.483       0.28      0.673       0.42      0.445      0.217\n",
      "              building        486       1145      0.537      0.563      0.504      0.309      0.538      0.521      0.474      0.252\n",
      "                  pole        486       9801      0.464      0.175      0.182     0.0699      0.501      0.168      0.205     0.0871\n",
      "                   sky        440        474      0.677      0.755      0.752      0.432      0.683      0.715      0.702      0.304\n",
      "Speed: 0.2ms preprocess, 8.3ms inference, 0.0ms loss, 2.5ms postprocess per image\n",
      "Results saved to \u001b[1mruns\\segment\\train552\u001b[0m\n"
     ]
    }
   ],
   "source": [
    "results = model.train(\n",
    "    data='cityscapes.yaml',               # Ruta al archivo de configuración de datos\n",
    "    pretrained=True,                # Usar modelo preentrenado\n",
    "    freeze=0,\n",
    "    epochs=30,                      # Número de épocas para el ajuste fino\n",
    "    batch=8,                        # Tamaño de batch\n",
    "    imgsz=640,                      # Tamaño de imagen\n",
    "    device='cuda',                  # Dispositivo para entrenamiento\n",
    "    optimizer='AdamW',              # Usar AdamW como optimizador\n",
    "    lr0=1e-8,                    # Learning rate inicial\n",
    "    lrf=0.01221,                    # Learning rate final (ajustado con scheduler)\n",
    "    momentum=0.86519,               # Momentum\n",
    "    weight_decay=0.00045,           # Regularización L2\n",
    "    warmup_epochs=5.0,              # Warmup epochs\n",
    "    warmup_momentum=0.80406,        # Warmup momentum\n",
    "    box=5.59591,                    # Box loss gain\n",
    "    cls=0.76484,                    # CLS loss gain\n",
    "    dfl=2.14151,                    # DFL loss gain\n",
    "    hsv_h=0.0,                  # HSV-Hue augmentation\n",
    "    hsv_s=0.0,                  # HSV-Saturation augmentation\n",
    "    hsv_v=0.0,                  # HSV-Value augmentation\n",
    "    degrees=0.0,                    # Desactivar rotación\n",
    "    translate=0.00,              # Traslación\n",
    "    scale=0.0,                  # Escalado\n",
    "    shear=0.0,                      # Desactivar shear\n",
    "    perspective=0.0,                # Desactivar perspectiva\n",
    "    flipud=0.0,                     # Desactivar flip up-down\n",
    "    fliplr=0,                 # Flip left-right\n",
    "    bgr=0.0,                        # Desactivar cambio de canal BGR\n",
    "    mosaic=1,                 # Mosaic augmentation\n",
    "    mixup=0.0,                      # Desactivar mixup\n",
    "    copy_paste=0.0,                 # Desactivar copy-paste\n",
    "    #auto_augment='',                # Desactivar auto-augment\n",
    "    erasing=0.0,                    # Desactivar erasing\n",
    "    save=True,                      # Guardar el modelo     \n",
    "    val=True,                      # Desactivar validación\n",
    "    #close_mosaic=20,                 # Desactiva el mosaico\n",
    "    patience=17                     # Detener si no hay mejora después de 10 épocas\n",
    ")"
   ]
  }
 ],
 "metadata": {
  "kernelspec": {
   "display_name": "ia2023",
   "language": "python",
   "name": "ia2023"
  },
  "language_info": {
   "codemirror_mode": {
    "name": "ipython",
    "version": 3
   },
   "file_extension": ".py",
   "mimetype": "text/x-python",
   "name": "python",
   "nbconvert_exporter": "python",
   "pygments_lexer": "ipython3",
   "version": "3.11.5"
  }
 },
 "nbformat": 4,
 "nbformat_minor": 2
}
