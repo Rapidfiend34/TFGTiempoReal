{
 "cells": [
  {
   "cell_type": "code",
   "execution_count": 2,
   "metadata": {},
   "outputs": [
    {
     "name": "stdout",
     "output_type": "stream",
     "text": [
      "New https://pypi.org/project/ultralytics/8.3.108 available  Update with 'pip install -U ultralytics'\n",
      "WARNING  'label_smoothing' is deprecated and will be removed in in the future.\n",
      "Ultralytics 8.3.55  Python-3.11.5 torch-2.6.0+cu126 CUDA:0 (NVIDIA GeForce RTX 4060 Laptop GPU, 8188MiB)\n",
      "\u001b[34m\u001b[1mengine\\trainer: \u001b[0mtask=segment, mode=train, model=yolov8m-seg.pt, data=cityscapes.yaml, epochs=15, time=None, patience=100, batch=8, imgsz=640, save=True, save_period=-1, cache=False, device=None, workers=0, project=None, name=train60, exist_ok=False, pretrained=True, optimizer=auto, verbose=True, seed=0, deterministic=True, single_cls=False, rect=False, cos_lr=False, close_mosaic=10, resume=False, amp=True, fraction=1.0, profile=False, freeze=10, multi_scale=False, overlap_mask=True, mask_ratio=4, dropout=0.2, val=True, split=val, save_json=False, save_hybrid=False, conf=None, iou=0.7, max_det=300, half=False, dnn=False, plots=True, source=None, vid_stride=1, stream_buffer=False, visualize=False, augment=True, agnostic_nms=False, classes=None, retina_masks=False, embed=None, show=False, save_frames=False, save_txt=False, save_conf=False, save_crop=False, show_labels=True, show_conf=True, show_boxes=True, line_width=None, format=torchscript, keras=False, optimize=False, int8=False, dynamic=False, simplify=True, opset=None, workspace=None, nms=False, lr0=0.001, lrf=0.0001, momentum=0.937, weight_decay=0.0004, warmup_epochs=3, warmup_momentum=0.85, warmup_bias_lr=0.1, box=7.5, cls=0.5, dfl=1.5, pose=12.0, kobj=1.0, nbs=64, hsv_h=0.015, hsv_s=0.5, hsv_v=0.4, degrees=30.0, translate=0.15, scale=0.5, shear=7.0, perspective=0.0007, flipud=0.3, fliplr=0.5, bgr=0.0, mosaic=0.8, mixup=0.3, copy_paste=0.3, copy_paste_mode=flip, auto_augment=randaugment, erasing=0.4, crop_fraction=1.0, cfg=None, tracker=botsort.yaml, save_dir=runs\\segment\\train60\n",
      "Overriding model.yaml nc=80 with nc=13\n",
      "\n",
      "                   from  n    params  module                                       arguments                     \n",
      "  0                  -1  1      1392  ultralytics.nn.modules.conv.Conv             [3, 48, 3, 2]                 \n",
      "  1                  -1  1     41664  ultralytics.nn.modules.conv.Conv             [48, 96, 3, 2]                \n",
      "  2                  -1  2    111360  ultralytics.nn.modules.block.C2f             [96, 96, 2, True]             \n",
      "  3                  -1  1    166272  ultralytics.nn.modules.conv.Conv             [96, 192, 3, 2]               \n",
      "  4                  -1  4    813312  ultralytics.nn.modules.block.C2f             [192, 192, 4, True]           \n",
      "  5                  -1  1    664320  ultralytics.nn.modules.conv.Conv             [192, 384, 3, 2]              \n",
      "  6                  -1  4   3248640  ultralytics.nn.modules.block.C2f             [384, 384, 4, True]           \n",
      "  7                  -1  1   1991808  ultralytics.nn.modules.conv.Conv             [384, 576, 3, 2]              \n",
      "  8                  -1  2   3985920  ultralytics.nn.modules.block.C2f             [576, 576, 2, True]           \n",
      "  9                  -1  1    831168  ultralytics.nn.modules.block.SPPF            [576, 576, 5]                 \n",
      " 10                  -1  1         0  torch.nn.modules.upsampling.Upsample         [None, 2, 'nearest']          \n",
      " 11             [-1, 6]  1         0  ultralytics.nn.modules.conv.Concat           [1]                           \n",
      " 12                  -1  2   1993728  ultralytics.nn.modules.block.C2f             [960, 384, 2]                 \n",
      " 13                  -1  1         0  torch.nn.modules.upsampling.Upsample         [None, 2, 'nearest']          \n",
      " 14             [-1, 4]  1         0  ultralytics.nn.modules.conv.Concat           [1]                           \n",
      " 15                  -1  2    517632  ultralytics.nn.modules.block.C2f             [576, 192, 2]                 \n",
      " 16                  -1  1    332160  ultralytics.nn.modules.conv.Conv             [192, 192, 3, 2]              \n",
      " 17            [-1, 12]  1         0  ultralytics.nn.modules.conv.Concat           [1]                           \n",
      " 18                  -1  2   1846272  ultralytics.nn.modules.block.C2f             [576, 384, 2]                 \n",
      " 19                  -1  1   1327872  ultralytics.nn.modules.conv.Conv             [384, 384, 3, 2]              \n",
      " 20             [-1, 9]  1         0  ultralytics.nn.modules.conv.Concat           [1]                           \n",
      " 21                  -1  2   4207104  ultralytics.nn.modules.block.C2f             [960, 576, 2]                 \n",
      " 22        [15, 18, 21]  1   5166551  ultralytics.nn.modules.head.Segment          [13, 32, 192, [192, 384, 576]]\n",
      "YOLOv8m-seg summary: 331 layers, 27,247,175 parameters, 27,247,159 gradients, 110.4 GFLOPs\n",
      "\n",
      "Transferred 531/537 items from pretrained weights\n",
      "Freezing layer 'model.0.conv.weight'\n",
      "Freezing layer 'model.0.bn.weight'\n",
      "Freezing layer 'model.0.bn.bias'\n",
      "Freezing layer 'model.1.conv.weight'\n",
      "Freezing layer 'model.1.bn.weight'\n",
      "Freezing layer 'model.1.bn.bias'\n",
      "Freezing layer 'model.2.cv1.conv.weight'\n",
      "Freezing layer 'model.2.cv1.bn.weight'\n",
      "Freezing layer 'model.2.cv1.bn.bias'\n",
      "Freezing layer 'model.2.cv2.conv.weight'\n",
      "Freezing layer 'model.2.cv2.bn.weight'\n",
      "Freezing layer 'model.2.cv2.bn.bias'\n",
      "Freezing layer 'model.2.m.0.cv1.conv.weight'\n",
      "Freezing layer 'model.2.m.0.cv1.bn.weight'\n",
      "Freezing layer 'model.2.m.0.cv1.bn.bias'\n",
      "Freezing layer 'model.2.m.0.cv2.conv.weight'\n",
      "Freezing layer 'model.2.m.0.cv2.bn.weight'\n",
      "Freezing layer 'model.2.m.0.cv2.bn.bias'\n",
      "Freezing layer 'model.2.m.1.cv1.conv.weight'\n",
      "Freezing layer 'model.2.m.1.cv1.bn.weight'\n",
      "Freezing layer 'model.2.m.1.cv1.bn.bias'\n",
      "Freezing layer 'model.2.m.1.cv2.conv.weight'\n",
      "Freezing layer 'model.2.m.1.cv2.bn.weight'\n",
      "Freezing layer 'model.2.m.1.cv2.bn.bias'\n",
      "Freezing layer 'model.3.conv.weight'\n",
      "Freezing layer 'model.3.bn.weight'\n",
      "Freezing layer 'model.3.bn.bias'\n",
      "Freezing layer 'model.4.cv1.conv.weight'\n",
      "Freezing layer 'model.4.cv1.bn.weight'\n",
      "Freezing layer 'model.4.cv1.bn.bias'\n",
      "Freezing layer 'model.4.cv2.conv.weight'\n",
      "Freezing layer 'model.4.cv2.bn.weight'\n",
      "Freezing layer 'model.4.cv2.bn.bias'\n",
      "Freezing layer 'model.4.m.0.cv1.conv.weight'\n",
      "Freezing layer 'model.4.m.0.cv1.bn.weight'\n",
      "Freezing layer 'model.4.m.0.cv1.bn.bias'\n",
      "Freezing layer 'model.4.m.0.cv2.conv.weight'\n",
      "Freezing layer 'model.4.m.0.cv2.bn.weight'\n",
      "Freezing layer 'model.4.m.0.cv2.bn.bias'\n",
      "Freezing layer 'model.4.m.1.cv1.conv.weight'\n",
      "Freezing layer 'model.4.m.1.cv1.bn.weight'\n",
      "Freezing layer 'model.4.m.1.cv1.bn.bias'\n",
      "Freezing layer 'model.4.m.1.cv2.conv.weight'\n",
      "Freezing layer 'model.4.m.1.cv2.bn.weight'\n",
      "Freezing layer 'model.4.m.1.cv2.bn.bias'\n",
      "Freezing layer 'model.4.m.2.cv1.conv.weight'\n",
      "Freezing layer 'model.4.m.2.cv1.bn.weight'\n",
      "Freezing layer 'model.4.m.2.cv1.bn.bias'\n",
      "Freezing layer 'model.4.m.2.cv2.conv.weight'\n",
      "Freezing layer 'model.4.m.2.cv2.bn.weight'\n",
      "Freezing layer 'model.4.m.2.cv2.bn.bias'\n",
      "Freezing layer 'model.4.m.3.cv1.conv.weight'\n",
      "Freezing layer 'model.4.m.3.cv1.bn.weight'\n",
      "Freezing layer 'model.4.m.3.cv1.bn.bias'\n",
      "Freezing layer 'model.4.m.3.cv2.conv.weight'\n",
      "Freezing layer 'model.4.m.3.cv2.bn.weight'\n",
      "Freezing layer 'model.4.m.3.cv2.bn.bias'\n",
      "Freezing layer 'model.5.conv.weight'\n",
      "Freezing layer 'model.5.bn.weight'\n",
      "Freezing layer 'model.5.bn.bias'\n",
      "Freezing layer 'model.6.cv1.conv.weight'\n",
      "Freezing layer 'model.6.cv1.bn.weight'\n",
      "Freezing layer 'model.6.cv1.bn.bias'\n",
      "Freezing layer 'model.6.cv2.conv.weight'\n",
      "Freezing layer 'model.6.cv2.bn.weight'\n",
      "Freezing layer 'model.6.cv2.bn.bias'\n",
      "Freezing layer 'model.6.m.0.cv1.conv.weight'\n",
      "Freezing layer 'model.6.m.0.cv1.bn.weight'\n",
      "Freezing layer 'model.6.m.0.cv1.bn.bias'\n",
      "Freezing layer 'model.6.m.0.cv2.conv.weight'\n",
      "Freezing layer 'model.6.m.0.cv2.bn.weight'\n",
      "Freezing layer 'model.6.m.0.cv2.bn.bias'\n",
      "Freezing layer 'model.6.m.1.cv1.conv.weight'\n",
      "Freezing layer 'model.6.m.1.cv1.bn.weight'\n",
      "Freezing layer 'model.6.m.1.cv1.bn.bias'\n",
      "Freezing layer 'model.6.m.1.cv2.conv.weight'\n",
      "Freezing layer 'model.6.m.1.cv2.bn.weight'\n",
      "Freezing layer 'model.6.m.1.cv2.bn.bias'\n",
      "Freezing layer 'model.6.m.2.cv1.conv.weight'\n",
      "Freezing layer 'model.6.m.2.cv1.bn.weight'\n",
      "Freezing layer 'model.6.m.2.cv1.bn.bias'\n",
      "Freezing layer 'model.6.m.2.cv2.conv.weight'\n",
      "Freezing layer 'model.6.m.2.cv2.bn.weight'\n",
      "Freezing layer 'model.6.m.2.cv2.bn.bias'\n",
      "Freezing layer 'model.6.m.3.cv1.conv.weight'\n",
      "Freezing layer 'model.6.m.3.cv1.bn.weight'\n",
      "Freezing layer 'model.6.m.3.cv1.bn.bias'\n",
      "Freezing layer 'model.6.m.3.cv2.conv.weight'\n",
      "Freezing layer 'model.6.m.3.cv2.bn.weight'\n",
      "Freezing layer 'model.6.m.3.cv2.bn.bias'\n",
      "Freezing layer 'model.7.conv.weight'\n",
      "Freezing layer 'model.7.bn.weight'\n",
      "Freezing layer 'model.7.bn.bias'\n",
      "Freezing layer 'model.8.cv1.conv.weight'\n",
      "Freezing layer 'model.8.cv1.bn.weight'\n",
      "Freezing layer 'model.8.cv1.bn.bias'\n",
      "Freezing layer 'model.8.cv2.conv.weight'\n",
      "Freezing layer 'model.8.cv2.bn.weight'\n",
      "Freezing layer 'model.8.cv2.bn.bias'\n",
      "Freezing layer 'model.8.m.0.cv1.conv.weight'\n",
      "Freezing layer 'model.8.m.0.cv1.bn.weight'\n",
      "Freezing layer 'model.8.m.0.cv1.bn.bias'\n",
      "Freezing layer 'model.8.m.0.cv2.conv.weight'\n",
      "Freezing layer 'model.8.m.0.cv2.bn.weight'\n",
      "Freezing layer 'model.8.m.0.cv2.bn.bias'\n",
      "Freezing layer 'model.8.m.1.cv1.conv.weight'\n",
      "Freezing layer 'model.8.m.1.cv1.bn.weight'\n",
      "Freezing layer 'model.8.m.1.cv1.bn.bias'\n",
      "Freezing layer 'model.8.m.1.cv2.conv.weight'\n",
      "Freezing layer 'model.8.m.1.cv2.bn.weight'\n",
      "Freezing layer 'model.8.m.1.cv2.bn.bias'\n",
      "Freezing layer 'model.9.cv1.conv.weight'\n",
      "Freezing layer 'model.9.cv1.bn.weight'\n",
      "Freezing layer 'model.9.cv1.bn.bias'\n",
      "Freezing layer 'model.9.cv2.conv.weight'\n",
      "Freezing layer 'model.9.cv2.bn.weight'\n",
      "Freezing layer 'model.9.cv2.bn.bias'\n",
      "Freezing layer 'model.22.dfl.conv.weight'\n",
      "\u001b[34m\u001b[1mAMP: \u001b[0mrunning Automatic Mixed Precision (AMP) checks...\n",
      "\u001b[34m\u001b[1mAMP: \u001b[0mchecks passed \n"
     ]
    },
    {
     "name": "stderr",
     "output_type": "stream",
     "text": [
      "\u001b[34m\u001b[1mtrain: \u001b[0mScanning C:\\Users\\aaron\\Documents\\Año4\\TFG\\CityScapesWithPanopticSegm\\dataset\\labels\\train.cache... 2975 images, 0 backgrounds, 25 corrupt: 100%|██████████| 2975/2975 [00:00<?, ?it/s]"
     ]
    },
    {
     "name": "stdout",
     "output_type": "stream",
     "text": [
      "\u001b[34m\u001b[1mtrain: \u001b[0mWARNING  C:\\Users\\aaron\\Documents\\Ao4\\TFG\\CityScapesWithPanopticSegm\\dataset\\images\\train\\aachen_000000_000019_gtFine_polygons.png: 4 duplicate labels removed\n",
      "\u001b[34m\u001b[1mtrain: \u001b[0mWARNING  C:\\Users\\aaron\\Documents\\Ao4\\TFG\\CityScapesWithPanopticSegm\\dataset\\images\\train\\aachen_000004_000019_gtFine_polygons.png: 1 duplicate labels removed\n",
      "\u001b[34m\u001b[1mtrain: \u001b[0mWARNING  C:\\Users\\aaron\\Documents\\Ao4\\TFG\\CityScapesWithPanopticSegm\\dataset\\images\\train\\aachen_000008_000019_gtFine_polygons.png: 1 duplicate labels removed\n",
      "\u001b[34m\u001b[1mtrain: \u001b[0mWARNING  C:\\Users\\aaron\\Documents\\Ao4\\TFG\\CityScapesWithPanopticSegm\\dataset\\images\\train\\aachen_000022_000019_gtFine_polygons.png: 1 duplicate labels removed\n",
      "\u001b[34m\u001b[1mtrain: \u001b[0mWARNING  C:\\Users\\aaron\\Documents\\Ao4\\TFG\\CityScapesWithPanopticSegm\\dataset\\images\\train\\aachen_000026_000019_gtFine_polygons.png: 1 duplicate labels removed\n",
      "\u001b[34m\u001b[1mtrain: \u001b[0mWARNING  C:\\Users\\aaron\\Documents\\Ao4\\TFG\\CityScapesWithPanopticSegm\\dataset\\images\\train\\aachen_000030_000019_gtFine_polygons.png: 3 duplicate labels removed\n",
      "\u001b[34m\u001b[1mtrain: \u001b[0mWARNING  C:\\Users\\aaron\\Documents\\Ao4\\TFG\\CityScapesWithPanopticSegm\\dataset\\images\\train\\aachen_000031_000019_gtFine_polygons.png: 1 duplicate labels removed\n",
      "\u001b[34m\u001b[1mtrain: \u001b[0mWARNING  C:\\Users\\aaron\\Documents\\Ao4\\TFG\\CityScapesWithPanopticSegm\\dataset\\images\\train\\aachen_000034_000019_gtFine_polygons.png: 1 duplicate labels removed\n",
      "\u001b[34m\u001b[1mtrain: \u001b[0mWARNING  C:\\Users\\aaron\\Documents\\Ao4\\TFG\\CityScapesWithPanopticSegm\\dataset\\images\\train\\aachen_000042_000019_gtFine_polygons.png: 2 duplicate labels removed\n",
      "\u001b[34m\u001b[1mtrain: \u001b[0mWARNING  C:\\Users\\aaron\\Documents\\Ao4\\TFG\\CityScapesWithPanopticSegm\\dataset\\images\\train\\aachen_000058_000019_gtFine_polygons.png: 1 duplicate labels removed\n",
      "\u001b[34m\u001b[1mtrain: \u001b[0mWARNING  C:\\Users\\aaron\\Documents\\Ao4\\TFG\\CityScapesWithPanopticSegm\\dataset\\images\\train\\aachen_000060_000019_gtFine_polygons.png: 15 duplicate labels removed\n",
      "\u001b[34m\u001b[1mtrain: \u001b[0mWARNING  C:\\Users\\aaron\\Documents\\Ao4\\TFG\\CityScapesWithPanopticSegm\\dataset\\images\\train\\aachen_000061_000019_gtFine_polygons.png: 40 duplicate labels removed\n",
      "\u001b[34m\u001b[1mtrain: \u001b[0mWARNING  C:\\Users\\aaron\\Documents\\Ao4\\TFG\\CityScapesWithPanopticSegm\\dataset\\images\\train\\aachen_000062_000019_gtFine_polygons.png: 8 duplicate labels removed\n",
      "\u001b[34m\u001b[1mtrain: \u001b[0mWARNING  C:\\Users\\aaron\\Documents\\Ao4\\TFG\\CityScapesWithPanopticSegm\\dataset\\images\\train\\aachen_000064_000019_gtFine_polygons.png: 1 duplicate labels removed\n",
      "\u001b[34m\u001b[1mtrain: \u001b[0mWARNING  C:\\Users\\aaron\\Documents\\Ao4\\TFG\\CityScapesWithPanopticSegm\\dataset\\images\\train\\aachen_000070_000019_gtFine_polygons.png: 2 duplicate labels removed\n",
      "\u001b[34m\u001b[1mtrain: \u001b[0mWARNING  C:\\Users\\aaron\\Documents\\Ao4\\TFG\\CityScapesWithPanopticSegm\\dataset\\images\\train\\aachen_000072_000019_gtFine_polygons.png: 1 duplicate labels removed\n",
      "\u001b[34m\u001b[1mtrain: \u001b[0mWARNING  C:\\Users\\aaron\\Documents\\Ao4\\TFG\\CityScapesWithPanopticSegm\\dataset\\images\\train\\aachen_000078_000019_gtFine_polygons.png: 3 duplicate labels removed\n",
      "\u001b[34m\u001b[1mtrain: \u001b[0mWARNING  C:\\Users\\aaron\\Documents\\Ao4\\TFG\\CityScapesWithPanopticSegm\\dataset\\images\\train\\aachen_000079_000019_gtFine_polygons.png: 7 duplicate labels removed\n",
      "\u001b[34m\u001b[1mtrain: \u001b[0mWARNING  C:\\Users\\aaron\\Documents\\Ao4\\TFG\\CityScapesWithPanopticSegm\\dataset\\images\\train\\aachen_000080_000019_gtFine_polygons.png: 37 duplicate labels removed\n",
      "\u001b[34m\u001b[1mtrain: \u001b[0mWARNING  C:\\Users\\aaron\\Documents\\Ao4\\TFG\\CityScapesWithPanopticSegm\\dataset\\images\\train\\aachen_000090_000019_gtFine_polygons.png: 3 duplicate labels removed\n",
      "\u001b[34m\u001b[1mtrain: \u001b[0mWARNING  C:\\Users\\aaron\\Documents\\Ao4\\TFG\\CityScapesWithPanopticSegm\\dataset\\images\\train\\aachen_000092_000019_gtFine_polygons.png: 1 duplicate labels removed\n",
      "\u001b[34m\u001b[1mtrain: \u001b[0mWARNING  C:\\Users\\aaron\\Documents\\Ao4\\TFG\\CityScapesWithPanopticSegm\\dataset\\images\\train\\aachen_000095_000019_gtFine_polygons.png: 2 duplicate labels removed\n",
      "\u001b[34m\u001b[1mtrain: \u001b[0mWARNING  C:\\Users\\aaron\\Documents\\Ao4\\TFG\\CityScapesWithPanopticSegm\\dataset\\images\\train\\aachen_000096_000019_gtFine_polygons.png: 4 duplicate labels removed\n",
      "\u001b[34m\u001b[1mtrain: \u001b[0mWARNING  C:\\Users\\aaron\\Documents\\Ao4\\TFG\\CityScapesWithPanopticSegm\\dataset\\images\\train\\aachen_000098_000019_gtFine_polygons.png: 2 duplicate labels removed\n",
      "\u001b[34m\u001b[1mtrain: \u001b[0mWARNING  C:\\Users\\aaron\\Documents\\Ao4\\TFG\\CityScapesWithPanopticSegm\\dataset\\images\\train\\aachen_000152_000019_gtFine_polygons.png: 9 duplicate labels removed\n",
      "\u001b[34m\u001b[1mtrain: \u001b[0mWARNING  C:\\Users\\aaron\\Documents\\Ao4\\TFG\\CityScapesWithPanopticSegm\\dataset\\images\\train\\aachen_000153_000019_gtFine_polygons.png: 1 duplicate labels removed\n",
      "\u001b[34m\u001b[1mtrain: \u001b[0mWARNING  C:\\Users\\aaron\\Documents\\Ao4\\TFG\\CityScapesWithPanopticSegm\\dataset\\images\\train\\aachen_000155_000019_gtFine_polygons.png: 1 duplicate labels removed\n",
      "\u001b[34m\u001b[1mtrain: \u001b[0mWARNING  C:\\Users\\aaron\\Documents\\Ao4\\TFG\\CityScapesWithPanopticSegm\\dataset\\images\\train\\bochum_000000_000885_gtFine_polygons.png: 1 duplicate labels removed\n",
      "\u001b[34m\u001b[1mtrain: \u001b[0mWARNING  C:\\Users\\aaron\\Documents\\Ao4\\TFG\\CityScapesWithPanopticSegm\\dataset\\images\\train\\bochum_000000_004748_gtFine_polygons.png: 1 duplicate labels removed\n",
      "\u001b[34m\u001b[1mtrain: \u001b[0mWARNING  C:\\Users\\aaron\\Documents\\Ao4\\TFG\\CityScapesWithPanopticSegm\\dataset\\images\\train\\bochum_000000_007651_gtFine_polygons.png: 2 duplicate labels removed\n",
      "\u001b[34m\u001b[1mtrain: \u001b[0mWARNING  C:\\Users\\aaron\\Documents\\Ao4\\TFG\\CityScapesWithPanopticSegm\\dataset\\images\\train\\bochum_000000_013209_gtFine_polygons.png: 1 duplicate labels removed\n",
      "\u001b[34m\u001b[1mtrain: \u001b[0mWARNING  C:\\Users\\aaron\\Documents\\Ao4\\TFG\\CityScapesWithPanopticSegm\\dataset\\images\\train\\bochum_000000_017453_gtFine_polygons.png: 1 duplicate labels removed\n",
      "\u001b[34m\u001b[1mtrain: \u001b[0mWARNING  C:\\Users\\aaron\\Documents\\Ao4\\TFG\\CityScapesWithPanopticSegm\\dataset\\images\\train\\bochum_000000_033714_gtFine_polygons.png: 1 duplicate labels removed\n",
      "\u001b[34m\u001b[1mtrain: \u001b[0mWARNING  C:\\Users\\aaron\\Documents\\Ao4\\TFG\\CityScapesWithPanopticSegm\\dataset\\images\\train\\bochum_000000_036606_gtFine_polygons.png: 1 duplicate labels removed\n",
      "\u001b[34m\u001b[1mtrain: \u001b[0mWARNING  C:\\Users\\aaron\\Documents\\Ao4\\TFG\\CityScapesWithPanopticSegm\\dataset\\images\\train\\bremen_000021_000019_gtFine_polygons.png: 1 duplicate labels removed\n",
      "\u001b[34m\u001b[1mtrain: \u001b[0mWARNING  C:\\Users\\aaron\\Documents\\Ao4\\TFG\\CityScapesWithPanopticSegm\\dataset\\images\\train\\bremen_000060_000019_gtFine_polygons.png: 1 duplicate labels removed\n",
      "\u001b[34m\u001b[1mtrain: \u001b[0mWARNING  C:\\Users\\aaron\\Documents\\Ao4\\TFG\\CityScapesWithPanopticSegm\\dataset\\images\\train\\bremen_000099_000019_gtFine_polygons.png: 1 duplicate labels removed\n",
      "\u001b[34m\u001b[1mtrain: \u001b[0mWARNING  C:\\Users\\aaron\\Documents\\Ao4\\TFG\\CityScapesWithPanopticSegm\\dataset\\images\\train\\bremen_000111_000019_gtFine_polygons.png: ignoring corrupt image/label: non-normalized or out of bounds coordinates [     1.0005]\n",
      "\u001b[34m\u001b[1mtrain: \u001b[0mWARNING  C:\\Users\\aaron\\Documents\\Ao4\\TFG\\CityScapesWithPanopticSegm\\dataset\\images\\train\\bremen_000118_000019_gtFine_polygons.png: ignoring corrupt image/label: non-normalized or out of bounds coordinates [      1.001]\n",
      "\u001b[34m\u001b[1mtrain: \u001b[0mWARNING  C:\\Users\\aaron\\Documents\\Ao4\\TFG\\CityScapesWithPanopticSegm\\dataset\\images\\train\\bremen_000121_000019_gtFine_polygons.png: ignoring corrupt image/label: non-normalized or out of bounds coordinates [      1.001]\n",
      "\u001b[34m\u001b[1mtrain: \u001b[0mWARNING  C:\\Users\\aaron\\Documents\\Ao4\\TFG\\CityScapesWithPanopticSegm\\dataset\\images\\train\\bremen_000123_000019_gtFine_polygons.png: ignoring corrupt image/label: non-normalized or out of bounds coordinates [     1.0005]\n",
      "\u001b[34m\u001b[1mtrain: \u001b[0mWARNING  C:\\Users\\aaron\\Documents\\Ao4\\TFG\\CityScapesWithPanopticSegm\\dataset\\images\\train\\bremen_000124_000019_gtFine_polygons.png: ignoring corrupt image/label: non-normalized or out of bounds coordinates [     1.0005]\n",
      "\u001b[34m\u001b[1mtrain: \u001b[0mWARNING  C:\\Users\\aaron\\Documents\\Ao4\\TFG\\CityScapesWithPanopticSegm\\dataset\\images\\train\\bremen_000126_000019_gtFine_polygons.png: ignoring corrupt image/label: non-normalized or out of bounds coordinates [      1.001]\n",
      "\u001b[34m\u001b[1mtrain: \u001b[0mWARNING  C:\\Users\\aaron\\Documents\\Ao4\\TFG\\CityScapesWithPanopticSegm\\dataset\\images\\train\\bremen_000128_000019_gtFine_polygons.png: ignoring corrupt image/label: non-normalized or out of bounds coordinates [     1.0005]\n",
      "\u001b[34m\u001b[1mtrain: \u001b[0mWARNING  C:\\Users\\aaron\\Documents\\Ao4\\TFG\\CityScapesWithPanopticSegm\\dataset\\images\\train\\bremen_000129_000019_gtFine_polygons.png: ignoring corrupt image/label: non-normalized or out of bounds coordinates [     1.0005]\n",
      "\u001b[34m\u001b[1mtrain: \u001b[0mWARNING  C:\\Users\\aaron\\Documents\\Ao4\\TFG\\CityScapesWithPanopticSegm\\dataset\\images\\train\\bremen_000130_000019_gtFine_polygons.png: ignoring corrupt image/label: non-normalized or out of bounds coordinates [      1.001]\n",
      "\u001b[34m\u001b[1mtrain: \u001b[0mWARNING  C:\\Users\\aaron\\Documents\\Ao4\\TFG\\CityScapesWithPanopticSegm\\dataset\\images\\train\\bremen_000132_000019_gtFine_polygons.png: ignoring corrupt image/label: non-normalized or out of bounds coordinates [      1.001]\n",
      "\u001b[34m\u001b[1mtrain: \u001b[0mWARNING  C:\\Users\\aaron\\Documents\\Ao4\\TFG\\CityScapesWithPanopticSegm\\dataset\\images\\train\\bremen_000133_000019_gtFine_polygons.png: ignoring corrupt image/label: non-normalized or out of bounds coordinates [      1.001]\n",
      "\u001b[34m\u001b[1mtrain: \u001b[0mWARNING  C:\\Users\\aaron\\Documents\\Ao4\\TFG\\CityScapesWithPanopticSegm\\dataset\\images\\train\\bremen_000135_000019_gtFine_polygons.png: ignoring corrupt image/label: non-normalized or out of bounds coordinates [     1.0005]\n",
      "\u001b[34m\u001b[1mtrain: \u001b[0mWARNING  C:\\Users\\aaron\\Documents\\Ao4\\TFG\\CityScapesWithPanopticSegm\\dataset\\images\\train\\bremen_000241_000019_gtFine_polygons.png: 1 duplicate labels removed\n",
      "\u001b[34m\u001b[1mtrain: \u001b[0mWARNING  C:\\Users\\aaron\\Documents\\Ao4\\TFG\\CityScapesWithPanopticSegm\\dataset\\images\\train\\cologne_000004_000019_gtFine_polygons.png: 1 duplicate labels removed\n",
      "\u001b[34m\u001b[1mtrain: \u001b[0mWARNING  C:\\Users\\aaron\\Documents\\Ao4\\TFG\\CityScapesWithPanopticSegm\\dataset\\images\\train\\cologne_000006_000019_gtFine_polygons.png: 1 duplicate labels removed\n",
      "\u001b[34m\u001b[1mtrain: \u001b[0mWARNING  C:\\Users\\aaron\\Documents\\Ao4\\TFG\\CityScapesWithPanopticSegm\\dataset\\images\\train\\cologne_000007_000019_gtFine_polygons.png: 2 duplicate labels removed\n",
      "\u001b[34m\u001b[1mtrain: \u001b[0mWARNING  C:\\Users\\aaron\\Documents\\Ao4\\TFG\\CityScapesWithPanopticSegm\\dataset\\images\\train\\cologne_000009_000019_gtFine_polygons.png: 1 duplicate labels removed\n",
      "\u001b[34m\u001b[1mtrain: \u001b[0mWARNING  C:\\Users\\aaron\\Documents\\Ao4\\TFG\\CityScapesWithPanopticSegm\\dataset\\images\\train\\cologne_000012_000019_gtFine_polygons.png: 3 duplicate labels removed\n",
      "\u001b[34m\u001b[1mtrain: \u001b[0mWARNING  C:\\Users\\aaron\\Documents\\Ao4\\TFG\\CityScapesWithPanopticSegm\\dataset\\images\\train\\cologne_000018_000019_gtFine_polygons.png: 5 duplicate labels removed\n",
      "\u001b[34m\u001b[1mtrain: \u001b[0mWARNING  C:\\Users\\aaron\\Documents\\Ao4\\TFG\\CityScapesWithPanopticSegm\\dataset\\images\\train\\cologne_000019_000019_gtFine_polygons.png: 2 duplicate labels removed\n",
      "\u001b[34m\u001b[1mtrain: \u001b[0mWARNING  C:\\Users\\aaron\\Documents\\Ao4\\TFG\\CityScapesWithPanopticSegm\\dataset\\images\\train\\cologne_000021_000019_gtFine_polygons.png: 1 duplicate labels removed\n",
      "\u001b[34m\u001b[1mtrain: \u001b[0mWARNING  C:\\Users\\aaron\\Documents\\Ao4\\TFG\\CityScapesWithPanopticSegm\\dataset\\images\\train\\cologne_000040_000019_gtFine_polygons.png: 1 duplicate labels removed\n",
      "\u001b[34m\u001b[1mtrain: \u001b[0mWARNING  C:\\Users\\aaron\\Documents\\Ao4\\TFG\\CityScapesWithPanopticSegm\\dataset\\images\\train\\cologne_000053_000019_gtFine_polygons.png: 1 duplicate labels removed\n",
      "\u001b[34m\u001b[1mtrain: \u001b[0mWARNING  C:\\Users\\aaron\\Documents\\Ao4\\TFG\\CityScapesWithPanopticSegm\\dataset\\images\\train\\cologne_000056_000019_gtFine_polygons.png: 1 duplicate labels removed\n",
      "\u001b[34m\u001b[1mtrain: \u001b[0mWARNING  C:\\Users\\aaron\\Documents\\Ao4\\TFG\\CityScapesWithPanopticSegm\\dataset\\images\\train\\cologne_000057_000019_gtFine_polygons.png: 1 duplicate labels removed\n",
      "\u001b[34m\u001b[1mtrain: \u001b[0mWARNING  C:\\Users\\aaron\\Documents\\Ao4\\TFG\\CityScapesWithPanopticSegm\\dataset\\images\\train\\cologne_000061_000019_gtFine_polygons.png: 1 duplicate labels removed\n",
      "\u001b[34m\u001b[1mtrain: \u001b[0mWARNING  C:\\Users\\aaron\\Documents\\Ao4\\TFG\\CityScapesWithPanopticSegm\\dataset\\images\\train\\cologne_000090_000019_gtFine_polygons.png: 1 duplicate labels removed\n",
      "\u001b[34m\u001b[1mtrain: \u001b[0mWARNING  C:\\Users\\aaron\\Documents\\Ao4\\TFG\\CityScapesWithPanopticSegm\\dataset\\images\\train\\cologne_000092_000019_gtFine_polygons.png: 3 duplicate labels removed\n",
      "\u001b[34m\u001b[1mtrain: \u001b[0mWARNING  C:\\Users\\aaron\\Documents\\Ao4\\TFG\\CityScapesWithPanopticSegm\\dataset\\images\\train\\cologne_000111_000019_gtFine_polygons.png: 1 duplicate labels removed\n",
      "\u001b[34m\u001b[1mtrain: \u001b[0mWARNING  C:\\Users\\aaron\\Documents\\Ao4\\TFG\\CityScapesWithPanopticSegm\\dataset\\images\\train\\darmstadt_000002_000019_gtFine_polygons.png: 2 duplicate labels removed\n",
      "\u001b[34m\u001b[1mtrain: \u001b[0mWARNING  C:\\Users\\aaron\\Documents\\Ao4\\TFG\\CityScapesWithPanopticSegm\\dataset\\images\\train\\darmstadt_000004_000019_gtFine_polygons.png: 1 duplicate labels removed\n",
      "\u001b[34m\u001b[1mtrain: \u001b[0mWARNING  C:\\Users\\aaron\\Documents\\Ao4\\TFG\\CityScapesWithPanopticSegm\\dataset\\images\\train\\darmstadt_000014_000019_gtFine_polygons.png: 1 duplicate labels removed\n",
      "\u001b[34m\u001b[1mtrain: \u001b[0mWARNING  C:\\Users\\aaron\\Documents\\Ao4\\TFG\\CityScapesWithPanopticSegm\\dataset\\images\\train\\darmstadt_000015_000019_gtFine_polygons.png: 1 duplicate labels removed\n",
      "\u001b[34m\u001b[1mtrain: \u001b[0mWARNING  C:\\Users\\aaron\\Documents\\Ao4\\TFG\\CityScapesWithPanopticSegm\\dataset\\images\\train\\darmstadt_000021_000019_gtFine_polygons.png: 1 duplicate labels removed\n",
      "\u001b[34m\u001b[1mtrain: \u001b[0mWARNING  C:\\Users\\aaron\\Documents\\Ao4\\TFG\\CityScapesWithPanopticSegm\\dataset\\images\\train\\darmstadt_000026_000019_gtFine_polygons.png: 2 duplicate labels removed\n",
      "\u001b[34m\u001b[1mtrain: \u001b[0mWARNING  C:\\Users\\aaron\\Documents\\Ao4\\TFG\\CityScapesWithPanopticSegm\\dataset\\images\\train\\darmstadt_000036_000019_gtFine_polygons.png: 1 duplicate labels removed\n",
      "\u001b[34m\u001b[1mtrain: \u001b[0mWARNING  C:\\Users\\aaron\\Documents\\Ao4\\TFG\\CityScapesWithPanopticSegm\\dataset\\images\\train\\darmstadt_000046_000019_gtFine_polygons.png: 1 duplicate labels removed\n",
      "\u001b[34m\u001b[1mtrain: \u001b[0mWARNING  C:\\Users\\aaron\\Documents\\Ao4\\TFG\\CityScapesWithPanopticSegm\\dataset\\images\\train\\darmstadt_000061_000019_gtFine_polygons.png: 1 duplicate labels removed\n",
      "\u001b[34m\u001b[1mtrain: \u001b[0mWARNING  C:\\Users\\aaron\\Documents\\Ao4\\TFG\\CityScapesWithPanopticSegm\\dataset\\images\\train\\darmstadt_000083_000019_gtFine_polygons.png: 1 duplicate labels removed\n",
      "\u001b[34m\u001b[1mtrain: \u001b[0mWARNING  C:\\Users\\aaron\\Documents\\Ao4\\TFG\\CityScapesWithPanopticSegm\\dataset\\images\\train\\dusseldorf_000057_000019_gtFine_polygons.png: ignoring corrupt image/label: non-normalized or out of bounds coordinates [     1.0005]\n",
      "\u001b[34m\u001b[1mtrain: \u001b[0mWARNING  C:\\Users\\aaron\\Documents\\Ao4\\TFG\\CityScapesWithPanopticSegm\\dataset\\images\\train\\dusseldorf_000068_000019_gtFine_polygons.png: ignoring corrupt image/label: non-normalized or out of bounds coordinates [     1.0005]\n",
      "\u001b[34m\u001b[1mtrain: \u001b[0mWARNING  C:\\Users\\aaron\\Documents\\Ao4\\TFG\\CityScapesWithPanopticSegm\\dataset\\images\\train\\dusseldorf_000075_000019_gtFine_polygons.png: ignoring corrupt image/label: non-normalized or out of bounds coordinates [      1.001]\n",
      "\u001b[34m\u001b[1mtrain: \u001b[0mWARNING  C:\\Users\\aaron\\Documents\\Ao4\\TFG\\CityScapesWithPanopticSegm\\dataset\\images\\train\\dusseldorf_000088_000019_gtFine_polygons.png: ignoring corrupt image/label: non-normalized or out of bounds coordinates [     1.0005]\n",
      "\u001b[34m\u001b[1mtrain: \u001b[0mWARNING  C:\\Users\\aaron\\Documents\\Ao4\\TFG\\CityScapesWithPanopticSegm\\dataset\\images\\train\\dusseldorf_000090_000019_gtFine_polygons.png: ignoring corrupt image/label: non-normalized or out of bounds coordinates [     1.0005]\n",
      "\u001b[34m\u001b[1mtrain: \u001b[0mWARNING  C:\\Users\\aaron\\Documents\\Ao4\\TFG\\CityScapesWithPanopticSegm\\dataset\\images\\train\\dusseldorf_000098_000019_gtFine_polygons.png: ignoring corrupt image/label: non-normalized or out of bounds coordinates [     1.0005]\n",
      "\u001b[34m\u001b[1mtrain: \u001b[0mWARNING  C:\\Users\\aaron\\Documents\\Ao4\\TFG\\CityScapesWithPanopticSegm\\dataset\\images\\train\\dusseldorf_000157_000019_gtFine_polygons.png: ignoring corrupt image/label: non-normalized or out of bounds coordinates [     1.0049]\n",
      "\u001b[34m\u001b[1mtrain: \u001b[0mWARNING  C:\\Users\\aaron\\Documents\\Ao4\\TFG\\CityScapesWithPanopticSegm\\dataset\\images\\train\\dusseldorf_000198_000019_gtFine_polygons.png: ignoring corrupt image/label: non-normalized or out of bounds coordinates [     1.0073]\n",
      "\u001b[34m\u001b[1mtrain: \u001b[0mWARNING  C:\\Users\\aaron\\Documents\\Ao4\\TFG\\CityScapesWithPanopticSegm\\dataset\\images\\train\\erfurt_000020_000019_gtFine_polygons.png: 1 duplicate labels removed\n",
      "\u001b[34m\u001b[1mtrain: \u001b[0mWARNING  C:\\Users\\aaron\\Documents\\Ao4\\TFG\\CityScapesWithPanopticSegm\\dataset\\images\\train\\hamburg_000000_019892_gtFine_polygons.png: 1 duplicate labels removed\n",
      "\u001b[34m\u001b[1mtrain: \u001b[0mWARNING  C:\\Users\\aaron\\Documents\\Ao4\\TFG\\CityScapesWithPanopticSegm\\dataset\\images\\train\\hamburg_000000_032906_gtFine_polygons.png: 1 duplicate labels removed\n",
      "\u001b[34m\u001b[1mtrain: \u001b[0mWARNING  C:\\Users\\aaron\\Documents\\Ao4\\TFG\\CityScapesWithPanopticSegm\\dataset\\images\\train\\hamburg_000000_033506_gtFine_polygons.png: 9 duplicate labels removed\n",
      "\u001b[34m\u001b[1mtrain: \u001b[0mWARNING  C:\\Users\\aaron\\Documents\\Ao4\\TFG\\CityScapesWithPanopticSegm\\dataset\\images\\train\\hamburg_000000_035568_gtFine_polygons.png: 1 duplicate labels removed\n",
      "\u001b[34m\u001b[1mtrain: \u001b[0mWARNING  C:\\Users\\aaron\\Documents\\Ao4\\TFG\\CityScapesWithPanopticSegm\\dataset\\images\\train\\hamburg_000000_039420_gtFine_polygons.png: 1 duplicate labels removed\n",
      "\u001b[34m\u001b[1mtrain: \u001b[0mWARNING  C:\\Users\\aaron\\Documents\\Ao4\\TFG\\CityScapesWithPanopticSegm\\dataset\\images\\train\\hamburg_000000_041667_gtFine_polygons.png: 1 duplicate labels removed\n",
      "\u001b[34m\u001b[1mtrain: \u001b[0mWARNING  C:\\Users\\aaron\\Documents\\Ao4\\TFG\\CityScapesWithPanopticSegm\\dataset\\images\\train\\hamburg_000000_053886_gtFine_polygons.png: 1 duplicate labels removed\n",
      "\u001b[34m\u001b[1mtrain: \u001b[0mWARNING  C:\\Users\\aaron\\Documents\\Ao4\\TFG\\CityScapesWithPanopticSegm\\dataset\\images\\train\\hamburg_000000_071016_gtFine_polygons.png: 1 duplicate labels removed\n",
      "\u001b[34m\u001b[1mtrain: \u001b[0mWARNING  C:\\Users\\aaron\\Documents\\Ao4\\TFG\\CityScapesWithPanopticSegm\\dataset\\images\\train\\hamburg_000000_080438_gtFine_polygons.png: 1 duplicate labels removed\n",
      "\u001b[34m\u001b[1mtrain: \u001b[0mWARNING  C:\\Users\\aaron\\Documents\\Ao4\\TFG\\CityScapesWithPanopticSegm\\dataset\\images\\train\\hanover_000000_012347_gtFine_polygons.png: 1 duplicate labels removed\n",
      "\u001b[34m\u001b[1mtrain: \u001b[0mWARNING  C:\\Users\\aaron\\Documents\\Ao4\\TFG\\CityScapesWithPanopticSegm\\dataset\\images\\train\\hanover_000000_014537_gtFine_polygons.png: 1 duplicate labels removed\n",
      "\u001b[34m\u001b[1mtrain: \u001b[0mWARNING  C:\\Users\\aaron\\Documents\\Ao4\\TFG\\CityScapesWithPanopticSegm\\dataset\\images\\train\\hanover_000000_015587_gtFine_polygons.png: 1 duplicate labels removed\n",
      "\u001b[34m\u001b[1mtrain: \u001b[0mWARNING  C:\\Users\\aaron\\Documents\\Ao4\\TFG\\CityScapesWithPanopticSegm\\dataset\\images\\train\\hanover_000000_018800_gtFine_polygons.png: 3 duplicate labels removed\n",
      "\u001b[34m\u001b[1mtrain: \u001b[0mWARNING  C:\\Users\\aaron\\Documents\\Ao4\\TFG\\CityScapesWithPanopticSegm\\dataset\\images\\train\\hanover_000000_019116_gtFine_polygons.png: 4 duplicate labels removed\n",
      "\u001b[34m\u001b[1mtrain: \u001b[0mWARNING  C:\\Users\\aaron\\Documents\\Ao4\\TFG\\CityScapesWithPanopticSegm\\dataset\\images\\train\\hanover_000000_019282_gtFine_polygons.png: 2 duplicate labels removed\n",
      "\u001b[34m\u001b[1mtrain: \u001b[0mWARNING  C:\\Users\\aaron\\Documents\\Ao4\\TFG\\CityScapesWithPanopticSegm\\dataset\\images\\train\\hanover_000000_019456_gtFine_polygons.png: 1 duplicate labels removed\n",
      "\u001b[34m\u001b[1mtrain: \u001b[0mWARNING  C:\\Users\\aaron\\Documents\\Ao4\\TFG\\CityScapesWithPanopticSegm\\dataset\\images\\train\\hanover_000000_019672_gtFine_polygons.png: 1 duplicate labels removed\n",
      "\u001b[34m\u001b[1mtrain: \u001b[0mWARNING  C:\\Users\\aaron\\Documents\\Ao4\\TFG\\CityScapesWithPanopticSegm\\dataset\\images\\train\\hanover_000000_022645_gtFine_polygons.png: 4 duplicate labels removed\n",
      "\u001b[34m\u001b[1mtrain: \u001b[0mWARNING  C:\\Users\\aaron\\Documents\\Ao4\\TFG\\CityScapesWithPanopticSegm\\dataset\\images\\train\\hanover_000000_026356_gtFine_polygons.png: 1 duplicate labels removed\n",
      "\u001b[34m\u001b[1mtrain: \u001b[0mWARNING  C:\\Users\\aaron\\Documents\\Ao4\\TFG\\CityScapesWithPanopticSegm\\dataset\\images\\train\\hanover_000000_034015_gtFine_polygons.png: 2 duplicate labels removed\n",
      "\u001b[34m\u001b[1mtrain: \u001b[0mWARNING  C:\\Users\\aaron\\Documents\\Ao4\\TFG\\CityScapesWithPanopticSegm\\dataset\\images\\train\\hanover_000000_034141_gtFine_polygons.png: 2 duplicate labels removed\n",
      "\u001b[34m\u001b[1mtrain: \u001b[0mWARNING  C:\\Users\\aaron\\Documents\\Ao4\\TFG\\CityScapesWithPanopticSegm\\dataset\\images\\train\\hanover_000000_036051_gtFine_polygons.png: 1 duplicate labels removed\n",
      "\u001b[34m\u001b[1mtrain: \u001b[0mWARNING  C:\\Users\\aaron\\Documents\\Ao4\\TFG\\CityScapesWithPanopticSegm\\dataset\\images\\train\\hanover_000000_047499_gtFine_polygons.png: 1 duplicate labels removed\n",
      "\u001b[34m\u001b[1mtrain: \u001b[0mWARNING  C:\\Users\\aaron\\Documents\\Ao4\\TFG\\CityScapesWithPanopticSegm\\dataset\\images\\train\\hanover_000000_047870_gtFine_polygons.png: 1 duplicate labels removed\n",
      "\u001b[34m\u001b[1mtrain: \u001b[0mWARNING  C:\\Users\\aaron\\Documents\\Ao4\\TFG\\CityScapesWithPanopticSegm\\dataset\\images\\train\\hanover_000000_051152_gtFine_polygons.png: 2 duplicate labels removed\n",
      "\u001b[34m\u001b[1mtrain: \u001b[0mWARNING  C:\\Users\\aaron\\Documents\\Ao4\\TFG\\CityScapesWithPanopticSegm\\dataset\\images\\train\\hanover_000000_051536_gtFine_polygons.png: 2 duplicate labels removed\n",
      "\u001b[34m\u001b[1mtrain: \u001b[0mWARNING  C:\\Users\\aaron\\Documents\\Ao4\\TFG\\CityScapesWithPanopticSegm\\dataset\\images\\train\\hanover_000000_052512_gtFine_polygons.png: 1 duplicate labels removed\n",
      "\u001b[34m\u001b[1mtrain: \u001b[0mWARNING  C:\\Users\\aaron\\Documents\\Ao4\\TFG\\CityScapesWithPanopticSegm\\dataset\\images\\train\\hanover_000000_053027_gtFine_polygons.png: 1 duplicate labels removed\n",
      "\u001b[34m\u001b[1mtrain: \u001b[0mWARNING  C:\\Users\\aaron\\Documents\\Ao4\\TFG\\CityScapesWithPanopticSegm\\dataset\\images\\train\\hanover_000000_056800_gtFine_polygons.png: 1 duplicate labels removed\n",
      "\u001b[34m\u001b[1mtrain: \u001b[0mWARNING  C:\\Users\\aaron\\Documents\\Ao4\\TFG\\CityScapesWithPanopticSegm\\dataset\\images\\train\\jena_000059_000019_gtFine_polygons.png: ignoring corrupt image/label: non-normalized or out of bounds coordinates [     1.0005]\n",
      "\u001b[34m\u001b[1mtrain: \u001b[0mWARNING  C:\\Users\\aaron\\Documents\\Ao4\\TFG\\CityScapesWithPanopticSegm\\dataset\\images\\train\\krefeld_000000_004608_gtFine_polygons.png: 2 duplicate labels removed\n",
      "\u001b[34m\u001b[1mtrain: \u001b[0mWARNING  C:\\Users\\aaron\\Documents\\Ao4\\TFG\\CityScapesWithPanopticSegm\\dataset\\images\\train\\krefeld_000000_011655_gtFine_polygons.png: 1 duplicate labels removed\n",
      "\u001b[34m\u001b[1mtrain: \u001b[0mWARNING  C:\\Users\\aaron\\Documents\\Ao4\\TFG\\CityScapesWithPanopticSegm\\dataset\\images\\train\\krefeld_000000_013766_gtFine_polygons.png: 1 duplicate labels removed\n",
      "\u001b[34m\u001b[1mtrain: \u001b[0mWARNING  C:\\Users\\aaron\\Documents\\Ao4\\TFG\\CityScapesWithPanopticSegm\\dataset\\images\\train\\krefeld_000000_020933_gtFine_polygons.png: 1 duplicate labels removed\n",
      "\u001b[34m\u001b[1mtrain: \u001b[0mWARNING  C:\\Users\\aaron\\Documents\\Ao4\\TFG\\CityScapesWithPanopticSegm\\dataset\\images\\train\\strasbourg_000000_013654_gtFine_polygons.png: 1 duplicate labels removed\n",
      "\u001b[34m\u001b[1mtrain: \u001b[0mWARNING  C:\\Users\\aaron\\Documents\\Ao4\\TFG\\CityScapesWithPanopticSegm\\dataset\\images\\train\\strasbourg_000000_014503_gtFine_polygons.png: 1 duplicate labels removed\n",
      "\u001b[34m\u001b[1mtrain: \u001b[0mWARNING  C:\\Users\\aaron\\Documents\\Ao4\\TFG\\CityScapesWithPanopticSegm\\dataset\\images\\train\\strasbourg_000001_030539_gtFine_polygons.png: 1 duplicate labels removed\n",
      "\u001b[34m\u001b[1mtrain: \u001b[0mWARNING  C:\\Users\\aaron\\Documents\\Ao4\\TFG\\CityScapesWithPanopticSegm\\dataset\\images\\train\\strasbourg_000001_030997_gtFine_polygons.png: 1 duplicate labels removed\n",
      "\u001b[34m\u001b[1mtrain: \u001b[0mWARNING  C:\\Users\\aaron\\Documents\\Ao4\\TFG\\CityScapesWithPanopticSegm\\dataset\\images\\train\\strasbourg_000001_031582_gtFine_polygons.png: 1 duplicate labels removed\n",
      "\u001b[34m\u001b[1mtrain: \u001b[0mWARNING  C:\\Users\\aaron\\Documents\\Ao4\\TFG\\CityScapesWithPanopticSegm\\dataset\\images\\train\\strasbourg_000001_051317_gtFine_polygons.png: 1 duplicate labels removed\n",
      "\u001b[34m\u001b[1mtrain: \u001b[0mWARNING  C:\\Users\\aaron\\Documents\\Ao4\\TFG\\CityScapesWithPanopticSegm\\dataset\\images\\train\\strasbourg_000001_052050_gtFine_polygons.png: 1 duplicate labels removed\n",
      "\u001b[34m\u001b[1mtrain: \u001b[0mWARNING  C:\\Users\\aaron\\Documents\\Ao4\\TFG\\CityScapesWithPanopticSegm\\dataset\\images\\train\\strasbourg_000001_058373_gtFine_polygons.png: 14 duplicate labels removed\n",
      "\u001b[34m\u001b[1mtrain: \u001b[0mWARNING  C:\\Users\\aaron\\Documents\\Ao4\\TFG\\CityScapesWithPanopticSegm\\dataset\\images\\train\\strasbourg_000001_058954_gtFine_polygons.png: 1 duplicate labels removed\n",
      "\u001b[34m\u001b[1mtrain: \u001b[0mWARNING  C:\\Users\\aaron\\Documents\\Ao4\\TFG\\CityScapesWithPanopticSegm\\dataset\\images\\train\\strasbourg_000001_062691_gtFine_polygons.png: 1 duplicate labels removed\n",
      "\u001b[34m\u001b[1mtrain: \u001b[0mWARNING  C:\\Users\\aaron\\Documents\\Ao4\\TFG\\CityScapesWithPanopticSegm\\dataset\\images\\train\\strasbourg_000001_064224_gtFine_polygons.png: 2 duplicate labels removed\n",
      "\u001b[34m\u001b[1mtrain: \u001b[0mWARNING  C:\\Users\\aaron\\Documents\\Ao4\\TFG\\CityScapesWithPanopticSegm\\dataset\\images\\train\\strasbourg_000001_064393_gtFine_polygons.png: 1 duplicate labels removed\n",
      "\u001b[34m\u001b[1mtrain: \u001b[0mWARNING  C:\\Users\\aaron\\Documents\\Ao4\\TFG\\CityScapesWithPanopticSegm\\dataset\\images\\train\\stuttgart_000002_000019_gtFine_polygons.png: ignoring corrupt image/label: non-normalized or out of bounds coordinates [     1.0005]\n",
      "\u001b[34m\u001b[1mtrain: \u001b[0mWARNING  C:\\Users\\aaron\\Documents\\Ao4\\TFG\\CityScapesWithPanopticSegm\\dataset\\images\\train\\stuttgart_000005_000019_gtFine_polygons.png: ignoring corrupt image/label: non-normalized or out of bounds coordinates [      1.001]\n",
      "\u001b[34m\u001b[1mtrain: \u001b[0mWARNING  C:\\Users\\aaron\\Documents\\Ao4\\TFG\\CityScapesWithPanopticSegm\\dataset\\images\\train\\stuttgart_000006_000019_gtFine_polygons.png: 1 duplicate labels removed\n",
      "\u001b[34m\u001b[1mtrain: \u001b[0mWARNING  C:\\Users\\aaron\\Documents\\Ao4\\TFG\\CityScapesWithPanopticSegm\\dataset\\images\\train\\stuttgart_000068_000019_gtFine_polygons.png: 1 duplicate labels removed\n",
      "\u001b[34m\u001b[1mtrain: \u001b[0mWARNING  C:\\Users\\aaron\\Documents\\Ao4\\TFG\\CityScapesWithPanopticSegm\\dataset\\images\\train\\stuttgart_000109_000019_gtFine_polygons.png: 1 duplicate labels removed\n",
      "\u001b[34m\u001b[1mtrain: \u001b[0mWARNING  C:\\Users\\aaron\\Documents\\Ao4\\TFG\\CityScapesWithPanopticSegm\\dataset\\images\\train\\stuttgart_000120_000019_gtFine_polygons.png: 2 duplicate labels removed\n",
      "\u001b[34m\u001b[1mtrain: \u001b[0mWARNING  C:\\Users\\aaron\\Documents\\Ao4\\TFG\\CityScapesWithPanopticSegm\\dataset\\images\\train\\stuttgart_000168_000019_gtFine_polygons.png: 1 duplicate labels removed\n",
      "\u001b[34m\u001b[1mtrain: \u001b[0mWARNING  C:\\Users\\aaron\\Documents\\Ao4\\TFG\\CityScapesWithPanopticSegm\\dataset\\images\\train\\stuttgart_000175_000019_gtFine_polygons.png: 2 duplicate labels removed\n",
      "\u001b[34m\u001b[1mtrain: \u001b[0mWARNING  C:\\Users\\aaron\\Documents\\Ao4\\TFG\\CityScapesWithPanopticSegm\\dataset\\images\\train\\stuttgart_000184_000019_gtFine_polygons.png: 2 duplicate labels removed\n",
      "\u001b[34m\u001b[1mtrain: \u001b[0mWARNING  C:\\Users\\aaron\\Documents\\Ao4\\TFG\\CityScapesWithPanopticSegm\\dataset\\images\\train\\tubingen_000008_000019_gtFine_polygons.png: 1 duplicate labels removed\n",
      "\u001b[34m\u001b[1mtrain: \u001b[0mWARNING  C:\\Users\\aaron\\Documents\\Ao4\\TFG\\CityScapesWithPanopticSegm\\dataset\\images\\train\\tubingen_000089_000019_gtFine_polygons.png: 1 duplicate labels removed\n",
      "\u001b[34m\u001b[1mtrain: \u001b[0mWARNING  C:\\Users\\aaron\\Documents\\Ao4\\TFG\\CityScapesWithPanopticSegm\\dataset\\images\\train\\tubingen_000118_000019_gtFine_polygons.png: 6 duplicate labels removed\n",
      "\u001b[34m\u001b[1mtrain: \u001b[0mWARNING  C:\\Users\\aaron\\Documents\\Ao4\\TFG\\CityScapesWithPanopticSegm\\dataset\\images\\train\\ulm_000004_000019_gtFine_polygons.png: 2 duplicate labels removed\n",
      "\u001b[34m\u001b[1mtrain: \u001b[0mWARNING  C:\\Users\\aaron\\Documents\\Ao4\\TFG\\CityScapesWithPanopticSegm\\dataset\\images\\train\\ulm_000005_000019_gtFine_polygons.png: 4 duplicate labels removed\n",
      "\u001b[34m\u001b[1mtrain: \u001b[0mWARNING  C:\\Users\\aaron\\Documents\\Ao4\\TFG\\CityScapesWithPanopticSegm\\dataset\\images\\train\\ulm_000006_000019_gtFine_polygons.png: 8 duplicate labels removed\n",
      "\u001b[34m\u001b[1mtrain: \u001b[0mWARNING  C:\\Users\\aaron\\Documents\\Ao4\\TFG\\CityScapesWithPanopticSegm\\dataset\\images\\train\\ulm_000011_000019_gtFine_polygons.png: 1 duplicate labels removed\n",
      "\u001b[34m\u001b[1mtrain: \u001b[0mWARNING  C:\\Users\\aaron\\Documents\\Ao4\\TFG\\CityScapesWithPanopticSegm\\dataset\\images\\train\\ulm_000012_000019_gtFine_polygons.png: 2 duplicate labels removed\n",
      "\u001b[34m\u001b[1mtrain: \u001b[0mWARNING  C:\\Users\\aaron\\Documents\\Ao4\\TFG\\CityScapesWithPanopticSegm\\dataset\\images\\train\\ulm_000013_000019_gtFine_polygons.png: 2 duplicate labels removed\n",
      "\u001b[34m\u001b[1mtrain: \u001b[0mWARNING  C:\\Users\\aaron\\Documents\\Ao4\\TFG\\CityScapesWithPanopticSegm\\dataset\\images\\train\\ulm_000017_000019_gtFine_polygons.png: 2 duplicate labels removed\n",
      "\u001b[34m\u001b[1mtrain: \u001b[0mWARNING  C:\\Users\\aaron\\Documents\\Ao4\\TFG\\CityScapesWithPanopticSegm\\dataset\\images\\train\\ulm_000024_000019_gtFine_polygons.png: 2 duplicate labels removed\n",
      "\u001b[34m\u001b[1mtrain: \u001b[0mWARNING  C:\\Users\\aaron\\Documents\\Ao4\\TFG\\CityScapesWithPanopticSegm\\dataset\\images\\train\\ulm_000025_000019_gtFine_polygons.png: 3 duplicate labels removed\n",
      "\u001b[34m\u001b[1mtrain: \u001b[0mWARNING  C:\\Users\\aaron\\Documents\\Ao4\\TFG\\CityScapesWithPanopticSegm\\dataset\\images\\train\\ulm_000037_000019_gtFine_polygons.png: 1 duplicate labels removed\n",
      "\u001b[34m\u001b[1mtrain: \u001b[0mWARNING  C:\\Users\\aaron\\Documents\\Ao4\\TFG\\CityScapesWithPanopticSegm\\dataset\\images\\train\\ulm_000056_000019_gtFine_polygons.png: 2 duplicate labels removed\n",
      "\u001b[34m\u001b[1mtrain: \u001b[0mWARNING  C:\\Users\\aaron\\Documents\\Ao4\\TFG\\CityScapesWithPanopticSegm\\dataset\\images\\train\\ulm_000058_000019_gtFine_polygons.png: 3 duplicate labels removed\n",
      "\u001b[34m\u001b[1mtrain: \u001b[0mWARNING  C:\\Users\\aaron\\Documents\\Ao4\\TFG\\CityScapesWithPanopticSegm\\dataset\\images\\train\\ulm_000067_000019_gtFine_polygons.png: 3 duplicate labels removed\n",
      "\u001b[34m\u001b[1mtrain: \u001b[0mWARNING  C:\\Users\\aaron\\Documents\\Ao4\\TFG\\CityScapesWithPanopticSegm\\dataset\\images\\train\\ulm_000068_000019_gtFine_polygons.png: 3 duplicate labels removed\n",
      "\u001b[34m\u001b[1mtrain: \u001b[0mWARNING  C:\\Users\\aaron\\Documents\\Ao4\\TFG\\CityScapesWithPanopticSegm\\dataset\\images\\train\\ulm_000069_000019_gtFine_polygons.png: 3 duplicate labels removed\n",
      "\u001b[34m\u001b[1mtrain: \u001b[0mWARNING  C:\\Users\\aaron\\Documents\\Ao4\\TFG\\CityScapesWithPanopticSegm\\dataset\\images\\train\\ulm_000078_000019_gtFine_polygons.png: 1 duplicate labels removed\n",
      "\u001b[34m\u001b[1mtrain: \u001b[0mWARNING  C:\\Users\\aaron\\Documents\\Ao4\\TFG\\CityScapesWithPanopticSegm\\dataset\\images\\train\\ulm_000079_000019_gtFine_polygons.png: 1 duplicate labels removed\n",
      "\u001b[34m\u001b[1mtrain: \u001b[0mWARNING  C:\\Users\\aaron\\Documents\\Ao4\\TFG\\CityScapesWithPanopticSegm\\dataset\\images\\train\\ulm_000084_000019_gtFine_polygons.png: 2 duplicate labels removed\n",
      "\u001b[34m\u001b[1mtrain: \u001b[0mWARNING  C:\\Users\\aaron\\Documents\\Ao4\\TFG\\CityScapesWithPanopticSegm\\dataset\\images\\train\\weimar_000013_000019_gtFine_polygons.png: ignoring corrupt image/label: non-normalized or out of bounds coordinates [      1.001]\n",
      "\u001b[34m\u001b[1mtrain: \u001b[0mWARNING  C:\\Users\\aaron\\Documents\\Ao4\\TFG\\CityScapesWithPanopticSegm\\dataset\\images\\train\\zurich_000002_000019_gtFine_polygons.png: ignoring corrupt image/label: non-normalized or out of bounds coordinates [     1.0005]\n",
      "\u001b[34m\u001b[1mtrain: \u001b[0mWARNING  C:\\Users\\aaron\\Documents\\Ao4\\TFG\\CityScapesWithPanopticSegm\\dataset\\images\\train\\zurich_000027_000019_gtFine_polygons.png: 1 duplicate labels removed\n",
      "\u001b[34m\u001b[1mtrain: \u001b[0mWARNING  C:\\Users\\aaron\\Documents\\Ao4\\TFG\\CityScapesWithPanopticSegm\\dataset\\images\\train\\zurich_000107_000019_gtFine_polygons.png: 1 duplicate labels removed\n"
     ]
    },
    {
     "name": "stderr",
     "output_type": "stream",
     "text": [
      "\n",
      "\u001b[34m\u001b[1mval: \u001b[0mScanning C:\\Users\\aaron\\Documents\\Año4\\TFG\\CityScapesWithPanopticSegm\\dataset\\labels\\val.cache... 500 images, 0 backgrounds, 5 corrupt: 100%|██████████| 500/500 [00:00<?, ?it/s]"
     ]
    },
    {
     "name": "stdout",
     "output_type": "stream",
     "text": [
      "\u001b[34m\u001b[1mval: \u001b[0mWARNING  C:\\Users\\aaron\\Documents\\Ao4\\TFG\\CityScapesWithPanopticSegm\\dataset\\images\\val\\frankfurt_000001_016273_gtFine_polygons.png: 1 duplicate labels removed\n",
      "\u001b[34m\u001b[1mval: \u001b[0mWARNING  C:\\Users\\aaron\\Documents\\Ao4\\TFG\\CityScapesWithPanopticSegm\\dataset\\images\\val\\frankfurt_000001_017101_gtFine_polygons.png: 1 duplicate labels removed\n",
      "\u001b[34m\u001b[1mval: \u001b[0mWARNING  C:\\Users\\aaron\\Documents\\Ao4\\TFG\\CityScapesWithPanopticSegm\\dataset\\images\\val\\frankfurt_000001_028232_gtFine_polygons.png: 1 duplicate labels removed\n",
      "\u001b[34m\u001b[1mval: \u001b[0mWARNING  C:\\Users\\aaron\\Documents\\Ao4\\TFG\\CityScapesWithPanopticSegm\\dataset\\images\\val\\frankfurt_000001_046272_gtFine_polygons.png: 1 duplicate labels removed\n",
      "\u001b[34m\u001b[1mval: \u001b[0mWARNING  C:\\Users\\aaron\\Documents\\Ao4\\TFG\\CityScapesWithPanopticSegm\\dataset\\images\\val\\frankfurt_000001_077434_gtFine_polygons.png: 1 duplicate labels removed\n",
      "\u001b[34m\u001b[1mval: \u001b[0mWARNING  C:\\Users\\aaron\\Documents\\Ao4\\TFG\\CityScapesWithPanopticSegm\\dataset\\images\\val\\lindau_000000_000019_gtFine_polygons.png: ignoring corrupt image/label: non-normalized or out of bounds coordinates [     1.0034]\n",
      "\u001b[34m\u001b[1mval: \u001b[0mWARNING  C:\\Users\\aaron\\Documents\\Ao4\\TFG\\CityScapesWithPanopticSegm\\dataset\\images\\val\\lindau_000013_000019_gtFine_polygons.png: ignoring corrupt image/label: non-normalized or out of bounds coordinates [     1.0005]\n",
      "\u001b[34m\u001b[1mval: \u001b[0mWARNING  C:\\Users\\aaron\\Documents\\Ao4\\TFG\\CityScapesWithPanopticSegm\\dataset\\images\\val\\lindau_000018_000019_gtFine_polygons.png: ignoring corrupt image/label: non-normalized or out of bounds coordinates [      1.001]\n",
      "\u001b[34m\u001b[1mval: \u001b[0mWARNING  C:\\Users\\aaron\\Documents\\Ao4\\TFG\\CityScapesWithPanopticSegm\\dataset\\images\\val\\munster_000026_000019_gtFine_polygons.png: 2 duplicate labels removed\n",
      "\u001b[34m\u001b[1mval: \u001b[0mWARNING  C:\\Users\\aaron\\Documents\\Ao4\\TFG\\CityScapesWithPanopticSegm\\dataset\\images\\val\\munster_000029_000019_gtFine_polygons.png: 1 duplicate labels removed\n",
      "\u001b[34m\u001b[1mval: \u001b[0mWARNING  C:\\Users\\aaron\\Documents\\Ao4\\TFG\\CityScapesWithPanopticSegm\\dataset\\images\\val\\munster_000035_000019_gtFine_polygons.png: ignoring corrupt image/label: non-normalized or out of bounds coordinates [     1.0005]\n",
      "\u001b[34m\u001b[1mval: \u001b[0mWARNING  C:\\Users\\aaron\\Documents\\Ao4\\TFG\\CityScapesWithPanopticSegm\\dataset\\images\\val\\munster_000045_000019_gtFine_polygons.png: ignoring corrupt image/label: non-normalized or out of bounds coordinates [     1.0005]\n",
      "\u001b[34m\u001b[1mval: \u001b[0mWARNING  C:\\Users\\aaron\\Documents\\Ao4\\TFG\\CityScapesWithPanopticSegm\\dataset\\images\\val\\munster_000049_000019_gtFine_polygons.png: 1 duplicate labels removed\n",
      "\u001b[34m\u001b[1mval: \u001b[0mWARNING  C:\\Users\\aaron\\Documents\\Ao4\\TFG\\CityScapesWithPanopticSegm\\dataset\\images\\val\\munster_000108_000019_gtFine_polygons.png: 1 duplicate labels removed\n",
      "\u001b[34m\u001b[1mval: \u001b[0mWARNING  C:\\Users\\aaron\\Documents\\Ao4\\TFG\\CityScapesWithPanopticSegm\\dataset\\images\\val\\munster_000140_000019_gtFine_polygons.png: 1 duplicate labels removed\n",
      "\u001b[34m\u001b[1mval: \u001b[0mWARNING  C:\\Users\\aaron\\Documents\\Ao4\\TFG\\CityScapesWithPanopticSegm\\dataset\\images\\val\\munster_000141_000019_gtFine_polygons.png: 1 duplicate labels removed\n",
      "\u001b[34m\u001b[1mval: \u001b[0mWARNING  C:\\Users\\aaron\\Documents\\Ao4\\TFG\\CityScapesWithPanopticSegm\\dataset\\images\\val\\munster_000142_000019_gtFine_polygons.png: 1 duplicate labels removed\n",
      "\u001b[34m\u001b[1mval: \u001b[0mWARNING  C:\\Users\\aaron\\Documents\\Ao4\\TFG\\CityScapesWithPanopticSegm\\dataset\\images\\val\\munster_000167_000019_gtFine_polygons.png: 1 duplicate labels removed\n"
     ]
    },
    {
     "name": "stderr",
     "output_type": "stream",
     "text": [
      "\n"
     ]
    },
    {
     "name": "stdout",
     "output_type": "stream",
     "text": [
      "Plotting labels to runs\\segment\\train60\\labels.jpg... \n",
      "\u001b[34m\u001b[1moptimizer:\u001b[0m 'optimizer=auto' found, ignoring 'lr0=0.001' and 'momentum=0.937' and determining best 'optimizer', 'lr0' and 'momentum' automatically... \n",
      "\u001b[34m\u001b[1moptimizer:\u001b[0m AdamW(lr=0.000588, momentum=0.9) with parameter groups 86 weight(decay=0.0), 97 weight(decay=0.0004), 96 bias(decay=0.0)\n",
      "Image sizes 640 train, 640 val\n",
      "Using 0 dataloader workers\n",
      "Logging results to \u001b[1mruns\\segment\\train60\u001b[0m\n",
      "Starting training for 15 epochs...\n",
      "\n",
      "      Epoch    GPU_mem   box_loss   seg_loss   cls_loss   dfl_loss  Instances       Size\n"
     ]
    },
    {
     "name": "stderr",
     "output_type": "stream",
     "text": [
      "       1/15      3.37G      2.124      4.985      3.497      1.829        586        640:   1%|          | 4/369 [00:13<20:13,  3.32s/it]\n"
     ]
    },
    {
     "ename": "KeyboardInterrupt",
     "evalue": "",
     "output_type": "error",
     "traceback": [
      "\u001b[1;31m---------------------------------------------------------------------------\u001b[0m",
      "\u001b[1;31mKeyboardInterrupt\u001b[0m                         Traceback (most recent call last)",
      "Cell \u001b[1;32mIn[2], line 9\u001b[0m\n\u001b[0;32m      7\u001b[0m \u001b[38;5;66;03m# Cargar modelo\u001b[39;00m\n\u001b[0;32m      8\u001b[0m model \u001b[38;5;241m=\u001b[39m YOLO(\u001b[38;5;124m'\u001b[39m\u001b[38;5;124myolov8m-seg.pt\u001b[39m\u001b[38;5;124m'\u001b[39m)\n\u001b[1;32m----> 9\u001b[0m results \u001b[38;5;241m=\u001b[39m \u001b[43mmodel\u001b[49m\u001b[38;5;241;43m.\u001b[39;49m\u001b[43mtrain\u001b[49m\u001b[43m(\u001b[49m\n\u001b[0;32m     10\u001b[0m \u001b[43m    \u001b[49m\u001b[43mdata\u001b[49m\u001b[38;5;241;43m=\u001b[39;49m\u001b[38;5;124;43m'\u001b[39;49m\u001b[38;5;124;43mcityscapes.yaml\u001b[39;49m\u001b[38;5;124;43m'\u001b[39;49m\u001b[43m,\u001b[49m\n\u001b[0;32m     11\u001b[0m \u001b[43m    \u001b[49m\u001b[43mepochs\u001b[49m\u001b[38;5;241;43m=\u001b[39;49m\u001b[38;5;241;43m15\u001b[39;49m\u001b[43m,\u001b[49m\u001b[43m        \u001b[49m\u001b[38;5;66;43;03m# Más épocas para mejor convergencia\u001b[39;49;00m\n\u001b[0;32m     12\u001b[0m \u001b[43m    \u001b[49m\u001b[43mimgsz\u001b[49m\u001b[38;5;241;43m=\u001b[39;49m\u001b[38;5;241;43m640\u001b[39;49m\u001b[43m,\u001b[49m\u001b[43m      \u001b[49m\u001b[38;5;66;43;03m# Mantener resolución alta\u001b[39;49;00m\n\u001b[0;32m     13\u001b[0m \u001b[43m    \u001b[49m\u001b[43mbatch\u001b[49m\u001b[38;5;241;43m=\u001b[39;49m\u001b[38;5;241;43m8\u001b[39;49m\u001b[43m,\u001b[49m\u001b[43m         \u001b[49m\u001b[38;5;66;43;03m# Mantener batch size\u001b[39;49;00m\n\u001b[0;32m     14\u001b[0m \u001b[43m    \u001b[49m\u001b[43mworkers\u001b[49m\u001b[38;5;241;43m=\u001b[39;49m\u001b[38;5;241;43m0\u001b[39;49m\u001b[43m,\u001b[49m\n\u001b[0;32m     15\u001b[0m \u001b[43m    \u001b[49m\u001b[43mpretrained\u001b[49m\u001b[38;5;241;43m=\u001b[39;49m\u001b[38;5;28;43;01mTrue\u001b[39;49;00m\u001b[43m,\u001b[49m\n\u001b[0;32m     16\u001b[0m \u001b[43m    \u001b[49m\u001b[43mfreeze\u001b[49m\u001b[38;5;241;43m=\u001b[39;49m\u001b[38;5;241;43m10\u001b[39;49m\u001b[43m,\u001b[49m\n\u001b[0;32m     17\u001b[0m \u001b[43m    \u001b[49m\u001b[38;5;66;43;03m# Augmentaciones más agresivas para mejor generalización\u001b[39;49;00m\n\u001b[0;32m     18\u001b[0m \u001b[43m    \u001b[49m\u001b[43mflipud\u001b[49m\u001b[38;5;241;43m=\u001b[39;49m\u001b[38;5;241;43m0.3\u001b[39;49m\u001b[43m,\u001b[49m\n\u001b[0;32m     19\u001b[0m \u001b[43m    \u001b[49m\u001b[43mfliplr\u001b[49m\u001b[38;5;241;43m=\u001b[39;49m\u001b[38;5;241;43m0.5\u001b[39;49m\u001b[43m,\u001b[49m\n\u001b[0;32m     20\u001b[0m \u001b[43m    \u001b[49m\u001b[43mmosaic\u001b[49m\u001b[38;5;241;43m=\u001b[39;49m\u001b[38;5;241;43m0.8\u001b[39;49m\u001b[43m,\u001b[49m\u001b[43m      \u001b[49m\u001b[38;5;66;43;03m# Aumentar para más variedad\u001b[39;49;00m\n\u001b[0;32m     21\u001b[0m \u001b[43m    \u001b[49m\u001b[43mmixup\u001b[49m\u001b[38;5;241;43m=\u001b[39;49m\u001b[38;5;241;43m0.3\u001b[39;49m\u001b[43m,\u001b[49m\u001b[43m       \u001b[49m\u001b[38;5;66;43;03m# Aumentar para mejor robustez\u001b[39;49;00m\n\u001b[0;32m     22\u001b[0m \n\u001b[0;32m     23\u001b[0m \u001b[43m    \u001b[49m\u001b[38;5;66;43;03m# Ajustes de color más agresivos\u001b[39;49;00m\n\u001b[0;32m     24\u001b[0m \u001b[43m    \u001b[49m\u001b[43mhsv_h\u001b[49m\u001b[38;5;241;43m=\u001b[39;49m\u001b[38;5;241;43m0.015\u001b[39;49m\u001b[43m,\u001b[49m\u001b[43m     \u001b[49m\u001b[38;5;66;43;03m# Aumentar variación de tono\u001b[39;49;00m\n\u001b[0;32m     25\u001b[0m \u001b[43m    \u001b[49m\u001b[43mhsv_s\u001b[49m\u001b[38;5;241;43m=\u001b[39;49m\u001b[38;5;241;43m0.5\u001b[39;49m\u001b[43m,\u001b[49m\u001b[43m       \u001b[49m\u001b[38;5;66;43;03m# Aumentar saturación\u001b[39;49;00m\n\u001b[0;32m     26\u001b[0m \u001b[43m    \u001b[49m\u001b[43mhsv_v\u001b[49m\u001b[38;5;241;43m=\u001b[39;49m\u001b[38;5;241;43m0.4\u001b[39;49m\u001b[43m,\u001b[49m\u001b[43m       \u001b[49m\u001b[38;5;66;43;03m# Más variación de brillo\u001b[39;49;00m\n\u001b[0;32m     27\u001b[0m \n\u001b[0;32m     28\u001b[0m \u001b[43m    \u001b[49m\u001b[38;5;66;43;03m# Transformaciones geométricas más agresivas\u001b[39;49;00m\n\u001b[0;32m     29\u001b[0m \u001b[43m    \u001b[49m\u001b[43mdegrees\u001b[49m\u001b[38;5;241;43m=\u001b[39;49m\u001b[38;5;241;43m30.0\u001b[39;49m\u001b[43m,\u001b[49m\u001b[43m    \u001b[49m\u001b[38;5;66;43;03m# Más rotación\u001b[39;49;00m\n\u001b[0;32m     30\u001b[0m \u001b[43m    \u001b[49m\u001b[43mtranslate\u001b[49m\u001b[38;5;241;43m=\u001b[39;49m\u001b[38;5;241;43m0.15\u001b[39;49m\u001b[43m,\u001b[49m\u001b[43m  \u001b[49m\u001b[38;5;66;43;03m# Más traslación\u001b[39;49;00m\n\u001b[0;32m     31\u001b[0m \u001b[43m    \u001b[49m\u001b[43mscale\u001b[49m\u001b[38;5;241;43m=\u001b[39;49m\u001b[38;5;241;43m0.5\u001b[39;49m\u001b[43m,\u001b[49m\u001b[43m      \u001b[49m\u001b[38;5;66;43;03m# Más escala\u001b[39;49;00m\n\u001b[0;32m     32\u001b[0m \u001b[43m    \u001b[49m\u001b[43mshear\u001b[49m\u001b[38;5;241;43m=\u001b[39;49m\u001b[38;5;241;43m7.0\u001b[39;49m\u001b[43m,\u001b[49m\u001b[43m      \u001b[49m\u001b[38;5;66;43;03m# Aumentar shear\u001b[39;49;00m\n\u001b[0;32m     33\u001b[0m \u001b[43m    \u001b[49m\u001b[43mperspective\u001b[49m\u001b[38;5;241;43m=\u001b[39;49m\u001b[38;5;241;43m0.0007\u001b[39;49m\u001b[43m,\u001b[49m\u001b[43m \u001b[49m\u001b[38;5;66;43;03m# Más perspectiva\u001b[39;49;00m\n\u001b[0;32m     34\u001b[0m \n\u001b[0;32m     35\u001b[0m \u001b[43m    \u001b[49m\u001b[38;5;66;43;03m# Otras configuraciones\u001b[39;49;00m\n\u001b[0;32m     36\u001b[0m \u001b[43m    \u001b[49m\u001b[43mcopy_paste\u001b[49m\u001b[38;5;241;43m=\u001b[39;49m\u001b[38;5;241;43m0.3\u001b[39;49m\u001b[43m,\u001b[49m\u001b[43m  \u001b[49m\u001b[38;5;66;43;03m# Aumentar copy-paste\u001b[39;49;00m\n\u001b[0;32m     37\u001b[0m \u001b[43m    \u001b[49m\u001b[43maugment\u001b[49m\u001b[38;5;241;43m=\u001b[39;49m\u001b[38;5;28;43;01mTrue\u001b[39;49;00m\u001b[43m,\u001b[49m\n\u001b[0;32m     38\u001b[0m \n\u001b[0;32m     39\u001b[0m \u001b[43m    \u001b[49m\u001b[38;5;66;43;03m# Optimización ajustada\u001b[39;49;00m\n\u001b[0;32m     40\u001b[0m \u001b[43m    \u001b[49m\u001b[43mwarmup_epochs\u001b[49m\u001b[38;5;241;43m=\u001b[39;49m\u001b[38;5;241;43m3\u001b[39;49m\u001b[43m,\u001b[49m\n\u001b[0;32m     41\u001b[0m \u001b[43m    \u001b[49m\u001b[43mwarmup_momentum\u001b[49m\u001b[38;5;241;43m=\u001b[39;49m\u001b[38;5;241;43m0.85\u001b[39;49m\u001b[43m,\u001b[49m\n\u001b[0;32m     42\u001b[0m \u001b[43m    \u001b[49m\u001b[43mlr0\u001b[49m\u001b[38;5;241;43m=\u001b[39;49m\u001b[38;5;241;43m0.001\u001b[39;49m\u001b[43m,\u001b[49m\u001b[43m     \u001b[49m\u001b[38;5;66;43;03m# Learning rate más equilibrado\u001b[39;49;00m\n\u001b[0;32m     43\u001b[0m \u001b[43m    \u001b[49m\u001b[43mlrf\u001b[49m\u001b[38;5;241;43m=\u001b[39;49m\u001b[38;5;241;43m0.0001\u001b[39;49m\u001b[43m,\u001b[49m\u001b[43m    \u001b[49m\u001b[38;5;66;43;03m# Learning rate final ajustado\u001b[39;49;00m\n\u001b[0;32m     44\u001b[0m \u001b[43m    \u001b[49m\u001b[43mweight_decay\u001b[49m\u001b[38;5;241;43m=\u001b[39;49m\u001b[38;5;241;43m0.0004\u001b[39;49m\u001b[43m,\u001b[49m\u001b[43m  \u001b[49m\u001b[38;5;66;43;03m# Más regularización\u001b[39;49;00m\n\u001b[0;32m     45\u001b[0m \n\u001b[0;32m     46\u001b[0m \u001b[43m    \u001b[49m\u001b[38;5;66;43;03m# Nuevas configuraciones\u001b[39;49;00m\n\u001b[0;32m     47\u001b[0m \u001b[43m    \u001b[49m\u001b[43mlabel_smoothing\u001b[49m\u001b[38;5;241;43m=\u001b[39;49m\u001b[38;5;241;43m0.1\u001b[39;49m\u001b[43m,\u001b[49m\u001b[43m  \u001b[49m\u001b[38;5;66;43;03m# Añadir label smoothing\u001b[39;49;00m\n\u001b[0;32m     48\u001b[0m \u001b[43m    \u001b[49m\u001b[43moverlap_mask\u001b[49m\u001b[38;5;241;43m=\u001b[39;49m\u001b[38;5;28;43;01mTrue\u001b[39;49;00m\u001b[43m,\u001b[49m\u001b[43m    \u001b[49m\u001b[38;5;66;43;03m# Mejorar máscaras\u001b[39;49;00m\n\u001b[0;32m     49\u001b[0m \u001b[43m    \u001b[49m\u001b[43mmask_ratio\u001b[49m\u001b[38;5;241;43m=\u001b[39;49m\u001b[38;5;241;43m4\u001b[39;49m\u001b[43m,\u001b[49m\u001b[43m        \u001b[49m\u001b[38;5;66;43;03m# Ajustar ratio de máscara\u001b[39;49;00m\n\u001b[0;32m     50\u001b[0m \u001b[43m    \u001b[49m\u001b[43mdropout\u001b[49m\u001b[38;5;241;43m=\u001b[39;49m\u001b[38;5;241;43m0.2\u001b[39;49m\u001b[43m          \u001b[49m\u001b[38;5;66;43;03m# Añadir dropout\u001b[39;49;00m\n\u001b[0;32m     51\u001b[0m \u001b[43m)\u001b[49m\n",
      "File \u001b[1;32mc:\\Users\\aaron\\anaconda3\\envs\\ia2023\\Lib\\site-packages\\ultralytics\\engine\\model.py:806\u001b[0m, in \u001b[0;36mModel.train\u001b[1;34m(self, trainer, **kwargs)\u001b[0m\n\u001b[0;32m    803\u001b[0m     \u001b[38;5;28mself\u001b[39m\u001b[38;5;241m.\u001b[39mmodel \u001b[38;5;241m=\u001b[39m \u001b[38;5;28mself\u001b[39m\u001b[38;5;241m.\u001b[39mtrainer\u001b[38;5;241m.\u001b[39mmodel\n\u001b[0;32m    805\u001b[0m \u001b[38;5;28mself\u001b[39m\u001b[38;5;241m.\u001b[39mtrainer\u001b[38;5;241m.\u001b[39mhub_session \u001b[38;5;241m=\u001b[39m \u001b[38;5;28mself\u001b[39m\u001b[38;5;241m.\u001b[39msession  \u001b[38;5;66;03m# attach optional HUB session\u001b[39;00m\n\u001b[1;32m--> 806\u001b[0m \u001b[38;5;28;43mself\u001b[39;49m\u001b[38;5;241;43m.\u001b[39;49m\u001b[43mtrainer\u001b[49m\u001b[38;5;241;43m.\u001b[39;49m\u001b[43mtrain\u001b[49m\u001b[43m(\u001b[49m\u001b[43m)\u001b[49m\n\u001b[0;32m    807\u001b[0m \u001b[38;5;66;03m# Update model and cfg after training\u001b[39;00m\n\u001b[0;32m    808\u001b[0m \u001b[38;5;28;01mif\u001b[39;00m RANK \u001b[38;5;129;01min\u001b[39;00m {\u001b[38;5;241m-\u001b[39m\u001b[38;5;241m1\u001b[39m, \u001b[38;5;241m0\u001b[39m}:\n",
      "File \u001b[1;32mc:\\Users\\aaron\\anaconda3\\envs\\ia2023\\Lib\\site-packages\\ultralytics\\engine\\trainer.py:207\u001b[0m, in \u001b[0;36mBaseTrainer.train\u001b[1;34m(self)\u001b[0m\n\u001b[0;32m    204\u001b[0m         ddp_cleanup(\u001b[38;5;28mself\u001b[39m, \u001b[38;5;28mstr\u001b[39m(file))\n\u001b[0;32m    206\u001b[0m \u001b[38;5;28;01melse\u001b[39;00m:\n\u001b[1;32m--> 207\u001b[0m     \u001b[38;5;28;43mself\u001b[39;49m\u001b[38;5;241;43m.\u001b[39;49m\u001b[43m_do_train\u001b[49m\u001b[43m(\u001b[49m\u001b[43mworld_size\u001b[49m\u001b[43m)\u001b[49m\n",
      "File \u001b[1;32mc:\\Users\\aaron\\anaconda3\\envs\\ia2023\\Lib\\site-packages\\ultralytics\\engine\\trainer.py:362\u001b[0m, in \u001b[0;36mBaseTrainer._do_train\u001b[1;34m(self, world_size)\u001b[0m\n\u001b[0;32m    360\u001b[0m     pbar \u001b[38;5;241m=\u001b[39m TQDM(\u001b[38;5;28menumerate\u001b[39m(\u001b[38;5;28mself\u001b[39m\u001b[38;5;241m.\u001b[39mtrain_loader), total\u001b[38;5;241m=\u001b[39mnb)\n\u001b[0;32m    361\u001b[0m \u001b[38;5;28mself\u001b[39m\u001b[38;5;241m.\u001b[39mtloss \u001b[38;5;241m=\u001b[39m \u001b[38;5;28;01mNone\u001b[39;00m\n\u001b[1;32m--> 362\u001b[0m \u001b[43m\u001b[49m\u001b[38;5;28;43;01mfor\u001b[39;49;00m\u001b[43m \u001b[49m\u001b[43mi\u001b[49m\u001b[43m,\u001b[49m\u001b[43m \u001b[49m\u001b[43mbatch\u001b[49m\u001b[43m \u001b[49m\u001b[38;5;129;43;01min\u001b[39;49;00m\u001b[43m \u001b[49m\u001b[43mpbar\u001b[49m\u001b[43m:\u001b[49m\n\u001b[0;32m    363\u001b[0m \u001b[43m    \u001b[49m\u001b[38;5;28;43mself\u001b[39;49m\u001b[38;5;241;43m.\u001b[39;49m\u001b[43mrun_callbacks\u001b[49m\u001b[43m(\u001b[49m\u001b[38;5;124;43m\"\u001b[39;49m\u001b[38;5;124;43mon_train_batch_start\u001b[39;49m\u001b[38;5;124;43m\"\u001b[39;49m\u001b[43m)\u001b[49m\n\u001b[0;32m    364\u001b[0m \u001b[43m    \u001b[49m\u001b[38;5;66;43;03m# Warmup\u001b[39;49;00m\n",
      "File \u001b[1;32mc:\\Users\\aaron\\anaconda3\\envs\\ia2023\\Lib\\site-packages\\tqdm\\std.py:1182\u001b[0m, in \u001b[0;36mtqdm.__iter__\u001b[1;34m(self)\u001b[0m\n\u001b[0;32m   1179\u001b[0m time \u001b[38;5;241m=\u001b[39m \u001b[38;5;28mself\u001b[39m\u001b[38;5;241m.\u001b[39m_time\n\u001b[0;32m   1181\u001b[0m \u001b[38;5;28;01mtry\u001b[39;00m:\n\u001b[1;32m-> 1182\u001b[0m \u001b[43m    \u001b[49m\u001b[38;5;28;43;01mfor\u001b[39;49;00m\u001b[43m \u001b[49m\u001b[43mobj\u001b[49m\u001b[43m \u001b[49m\u001b[38;5;129;43;01min\u001b[39;49;00m\u001b[43m \u001b[49m\u001b[43miterable\u001b[49m\u001b[43m:\u001b[49m\n\u001b[0;32m   1183\u001b[0m \u001b[43m        \u001b[49m\u001b[38;5;28;43;01myield\u001b[39;49;00m\u001b[43m \u001b[49m\u001b[43mobj\u001b[49m\n\u001b[0;32m   1184\u001b[0m \u001b[43m        \u001b[49m\u001b[38;5;66;43;03m# Update and possibly print the progressbar.\u001b[39;49;00m\n\u001b[0;32m   1185\u001b[0m \u001b[43m        \u001b[49m\u001b[38;5;66;43;03m# Note: does not call self.update(1) for speed optimisation.\u001b[39;49;00m\n",
      "File \u001b[1;32mc:\\Users\\aaron\\anaconda3\\envs\\ia2023\\Lib\\site-packages\\ultralytics\\data\\build.py:48\u001b[0m, in \u001b[0;36mInfiniteDataLoader.__iter__\u001b[1;34m(self)\u001b[0m\n\u001b[0;32m     46\u001b[0m \u001b[38;5;250m\u001b[39m\u001b[38;5;124;03m\"\"\"Creates a sampler that repeats indefinitely.\"\"\"\u001b[39;00m\n\u001b[0;32m     47\u001b[0m \u001b[38;5;28;01mfor\u001b[39;00m _ \u001b[38;5;129;01min\u001b[39;00m \u001b[38;5;28mrange\u001b[39m(\u001b[38;5;28mlen\u001b[39m(\u001b[38;5;28mself\u001b[39m)):\n\u001b[1;32m---> 48\u001b[0m     \u001b[38;5;28;01myield\u001b[39;00m \u001b[38;5;28mnext\u001b[39m(\u001b[38;5;28mself\u001b[39m\u001b[38;5;241m.\u001b[39miterator)\n",
      "File \u001b[1;32mc:\\Users\\aaron\\anaconda3\\envs\\ia2023\\Lib\\site-packages\\torch\\utils\\data\\dataloader.py:708\u001b[0m, in \u001b[0;36m_BaseDataLoaderIter.__next__\u001b[1;34m(self)\u001b[0m\n\u001b[0;32m    705\u001b[0m \u001b[38;5;28;01mif\u001b[39;00m \u001b[38;5;28mself\u001b[39m\u001b[38;5;241m.\u001b[39m_sampler_iter \u001b[38;5;129;01mis\u001b[39;00m \u001b[38;5;28;01mNone\u001b[39;00m:\n\u001b[0;32m    706\u001b[0m     \u001b[38;5;66;03m# TODO(https://github.com/pytorch/pytorch/issues/76750)\u001b[39;00m\n\u001b[0;32m    707\u001b[0m     \u001b[38;5;28mself\u001b[39m\u001b[38;5;241m.\u001b[39m_reset()  \u001b[38;5;66;03m# type: ignore[call-arg]\u001b[39;00m\n\u001b[1;32m--> 708\u001b[0m data \u001b[38;5;241m=\u001b[39m \u001b[38;5;28;43mself\u001b[39;49m\u001b[38;5;241;43m.\u001b[39;49m\u001b[43m_next_data\u001b[49m\u001b[43m(\u001b[49m\u001b[43m)\u001b[49m\n\u001b[0;32m    709\u001b[0m \u001b[38;5;28mself\u001b[39m\u001b[38;5;241m.\u001b[39m_num_yielded \u001b[38;5;241m+\u001b[39m\u001b[38;5;241m=\u001b[39m \u001b[38;5;241m1\u001b[39m\n\u001b[0;32m    710\u001b[0m \u001b[38;5;28;01mif\u001b[39;00m (\n\u001b[0;32m    711\u001b[0m     \u001b[38;5;28mself\u001b[39m\u001b[38;5;241m.\u001b[39m_dataset_kind \u001b[38;5;241m==\u001b[39m _DatasetKind\u001b[38;5;241m.\u001b[39mIterable\n\u001b[0;32m    712\u001b[0m     \u001b[38;5;129;01mand\u001b[39;00m \u001b[38;5;28mself\u001b[39m\u001b[38;5;241m.\u001b[39m_IterableDataset_len_called \u001b[38;5;129;01mis\u001b[39;00m \u001b[38;5;129;01mnot\u001b[39;00m \u001b[38;5;28;01mNone\u001b[39;00m\n\u001b[0;32m    713\u001b[0m     \u001b[38;5;129;01mand\u001b[39;00m \u001b[38;5;28mself\u001b[39m\u001b[38;5;241m.\u001b[39m_num_yielded \u001b[38;5;241m>\u001b[39m \u001b[38;5;28mself\u001b[39m\u001b[38;5;241m.\u001b[39m_IterableDataset_len_called\n\u001b[0;32m    714\u001b[0m ):\n",
      "File \u001b[1;32mc:\\Users\\aaron\\anaconda3\\envs\\ia2023\\Lib\\site-packages\\torch\\utils\\data\\dataloader.py:764\u001b[0m, in \u001b[0;36m_SingleProcessDataLoaderIter._next_data\u001b[1;34m(self)\u001b[0m\n\u001b[0;32m    762\u001b[0m \u001b[38;5;28;01mdef\u001b[39;00m \u001b[38;5;21m_next_data\u001b[39m(\u001b[38;5;28mself\u001b[39m):\n\u001b[0;32m    763\u001b[0m     index \u001b[38;5;241m=\u001b[39m \u001b[38;5;28mself\u001b[39m\u001b[38;5;241m.\u001b[39m_next_index()  \u001b[38;5;66;03m# may raise StopIteration\u001b[39;00m\n\u001b[1;32m--> 764\u001b[0m     data \u001b[38;5;241m=\u001b[39m \u001b[38;5;28;43mself\u001b[39;49m\u001b[38;5;241;43m.\u001b[39;49m\u001b[43m_dataset_fetcher\u001b[49m\u001b[38;5;241;43m.\u001b[39;49m\u001b[43mfetch\u001b[49m\u001b[43m(\u001b[49m\u001b[43mindex\u001b[49m\u001b[43m)\u001b[49m  \u001b[38;5;66;03m# may raise StopIteration\u001b[39;00m\n\u001b[0;32m    765\u001b[0m     \u001b[38;5;28;01mif\u001b[39;00m \u001b[38;5;28mself\u001b[39m\u001b[38;5;241m.\u001b[39m_pin_memory:\n\u001b[0;32m    766\u001b[0m         data \u001b[38;5;241m=\u001b[39m _utils\u001b[38;5;241m.\u001b[39mpin_memory\u001b[38;5;241m.\u001b[39mpin_memory(data, \u001b[38;5;28mself\u001b[39m\u001b[38;5;241m.\u001b[39m_pin_memory_device)\n",
      "File \u001b[1;32mc:\\Users\\aaron\\anaconda3\\envs\\ia2023\\Lib\\site-packages\\torch\\utils\\data\\_utils\\fetch.py:52\u001b[0m, in \u001b[0;36m_MapDatasetFetcher.fetch\u001b[1;34m(self, possibly_batched_index)\u001b[0m\n\u001b[0;32m     50\u001b[0m         data \u001b[38;5;241m=\u001b[39m \u001b[38;5;28mself\u001b[39m\u001b[38;5;241m.\u001b[39mdataset\u001b[38;5;241m.\u001b[39m__getitems__(possibly_batched_index)\n\u001b[0;32m     51\u001b[0m     \u001b[38;5;28;01melse\u001b[39;00m:\n\u001b[1;32m---> 52\u001b[0m         data \u001b[38;5;241m=\u001b[39m \u001b[43m[\u001b[49m\u001b[38;5;28;43mself\u001b[39;49m\u001b[38;5;241;43m.\u001b[39;49m\u001b[43mdataset\u001b[49m\u001b[43m[\u001b[49m\u001b[43midx\u001b[49m\u001b[43m]\u001b[49m\u001b[43m \u001b[49m\u001b[38;5;28;43;01mfor\u001b[39;49;00m\u001b[43m \u001b[49m\u001b[43midx\u001b[49m\u001b[43m \u001b[49m\u001b[38;5;129;43;01min\u001b[39;49;00m\u001b[43m \u001b[49m\u001b[43mpossibly_batched_index\u001b[49m\u001b[43m]\u001b[49m\n\u001b[0;32m     53\u001b[0m \u001b[38;5;28;01melse\u001b[39;00m:\n\u001b[0;32m     54\u001b[0m     data \u001b[38;5;241m=\u001b[39m \u001b[38;5;28mself\u001b[39m\u001b[38;5;241m.\u001b[39mdataset[possibly_batched_index]\n",
      "File \u001b[1;32mc:\\Users\\aaron\\anaconda3\\envs\\ia2023\\Lib\\site-packages\\torch\\utils\\data\\_utils\\fetch.py:52\u001b[0m, in \u001b[0;36m<listcomp>\u001b[1;34m(.0)\u001b[0m\n\u001b[0;32m     50\u001b[0m         data \u001b[38;5;241m=\u001b[39m \u001b[38;5;28mself\u001b[39m\u001b[38;5;241m.\u001b[39mdataset\u001b[38;5;241m.\u001b[39m__getitems__(possibly_batched_index)\n\u001b[0;32m     51\u001b[0m     \u001b[38;5;28;01melse\u001b[39;00m:\n\u001b[1;32m---> 52\u001b[0m         data \u001b[38;5;241m=\u001b[39m [\u001b[38;5;28;43mself\u001b[39;49m\u001b[38;5;241;43m.\u001b[39;49m\u001b[43mdataset\u001b[49m\u001b[43m[\u001b[49m\u001b[43midx\u001b[49m\u001b[43m]\u001b[49m \u001b[38;5;28;01mfor\u001b[39;00m idx \u001b[38;5;129;01min\u001b[39;00m possibly_batched_index]\n\u001b[0;32m     53\u001b[0m \u001b[38;5;28;01melse\u001b[39;00m:\n\u001b[0;32m     54\u001b[0m     data \u001b[38;5;241m=\u001b[39m \u001b[38;5;28mself\u001b[39m\u001b[38;5;241m.\u001b[39mdataset[possibly_batched_index]\n",
      "File \u001b[1;32mc:\\Users\\aaron\\anaconda3\\envs\\ia2023\\Lib\\site-packages\\ultralytics\\data\\base.py:288\u001b[0m, in \u001b[0;36mBaseDataset.__getitem__\u001b[1;34m(self, index)\u001b[0m\n\u001b[0;32m    286\u001b[0m \u001b[38;5;28;01mdef\u001b[39;00m \u001b[38;5;21m__getitem__\u001b[39m(\u001b[38;5;28mself\u001b[39m, index):\n\u001b[0;32m    287\u001b[0m \u001b[38;5;250m    \u001b[39m\u001b[38;5;124;03m\"\"\"Returns transformed label information for given index.\"\"\"\u001b[39;00m\n\u001b[1;32m--> 288\u001b[0m     \u001b[38;5;28;01mreturn\u001b[39;00m \u001b[38;5;28mself\u001b[39m\u001b[38;5;241m.\u001b[39mtransforms(\u001b[38;5;28;43mself\u001b[39;49m\u001b[38;5;241;43m.\u001b[39;49m\u001b[43mget_image_and_label\u001b[49m\u001b[43m(\u001b[49m\u001b[43mindex\u001b[49m\u001b[43m)\u001b[49m)\n",
      "File \u001b[1;32mc:\\Users\\aaron\\anaconda3\\envs\\ia2023\\Lib\\site-packages\\ultralytics\\data\\base.py:294\u001b[0m, in \u001b[0;36mBaseDataset.get_image_and_label\u001b[1;34m(self, index)\u001b[0m\n\u001b[0;32m    292\u001b[0m label \u001b[38;5;241m=\u001b[39m deepcopy(\u001b[38;5;28mself\u001b[39m\u001b[38;5;241m.\u001b[39mlabels[index])  \u001b[38;5;66;03m# requires deepcopy() https://github.com/ultralytics/ultralytics/pull/1948\u001b[39;00m\n\u001b[0;32m    293\u001b[0m label\u001b[38;5;241m.\u001b[39mpop(\u001b[38;5;124m\"\u001b[39m\u001b[38;5;124mshape\u001b[39m\u001b[38;5;124m\"\u001b[39m, \u001b[38;5;28;01mNone\u001b[39;00m)  \u001b[38;5;66;03m# shape is for rect, remove it\u001b[39;00m\n\u001b[1;32m--> 294\u001b[0m label[\u001b[38;5;124m\"\u001b[39m\u001b[38;5;124mimg\u001b[39m\u001b[38;5;124m\"\u001b[39m], label[\u001b[38;5;124m\"\u001b[39m\u001b[38;5;124mori_shape\u001b[39m\u001b[38;5;124m\"\u001b[39m], label[\u001b[38;5;124m\"\u001b[39m\u001b[38;5;124mresized_shape\u001b[39m\u001b[38;5;124m\"\u001b[39m] \u001b[38;5;241m=\u001b[39m \u001b[38;5;28;43mself\u001b[39;49m\u001b[38;5;241;43m.\u001b[39;49m\u001b[43mload_image\u001b[49m\u001b[43m(\u001b[49m\u001b[43mindex\u001b[49m\u001b[43m)\u001b[49m\n\u001b[0;32m    295\u001b[0m label[\u001b[38;5;124m\"\u001b[39m\u001b[38;5;124mratio_pad\u001b[39m\u001b[38;5;124m\"\u001b[39m] \u001b[38;5;241m=\u001b[39m (\n\u001b[0;32m    296\u001b[0m     label[\u001b[38;5;124m\"\u001b[39m\u001b[38;5;124mresized_shape\u001b[39m\u001b[38;5;124m\"\u001b[39m][\u001b[38;5;241m0\u001b[39m] \u001b[38;5;241m/\u001b[39m label[\u001b[38;5;124m\"\u001b[39m\u001b[38;5;124mori_shape\u001b[39m\u001b[38;5;124m\"\u001b[39m][\u001b[38;5;241m0\u001b[39m],\n\u001b[0;32m    297\u001b[0m     label[\u001b[38;5;124m\"\u001b[39m\u001b[38;5;124mresized_shape\u001b[39m\u001b[38;5;124m\"\u001b[39m][\u001b[38;5;241m1\u001b[39m] \u001b[38;5;241m/\u001b[39m label[\u001b[38;5;124m\"\u001b[39m\u001b[38;5;124mori_shape\u001b[39m\u001b[38;5;124m\"\u001b[39m][\u001b[38;5;241m1\u001b[39m],\n\u001b[0;32m    298\u001b[0m )  \u001b[38;5;66;03m# for evaluation\u001b[39;00m\n\u001b[0;32m    299\u001b[0m \u001b[38;5;28;01mif\u001b[39;00m \u001b[38;5;28mself\u001b[39m\u001b[38;5;241m.\u001b[39mrect:\n",
      "File \u001b[1;32mc:\\Users\\aaron\\anaconda3\\envs\\ia2023\\Lib\\site-packages\\ultralytics\\data\\base.py:163\u001b[0m, in \u001b[0;36mBaseDataset.load_image\u001b[1;34m(self, i, rect_mode)\u001b[0m\n\u001b[0;32m    161\u001b[0m         im \u001b[38;5;241m=\u001b[39m cv2\u001b[38;5;241m.\u001b[39mimread(f)  \u001b[38;5;66;03m# BGR\u001b[39;00m\n\u001b[0;32m    162\u001b[0m \u001b[38;5;28;01melse\u001b[39;00m:  \u001b[38;5;66;03m# read image\u001b[39;00m\n\u001b[1;32m--> 163\u001b[0m     im \u001b[38;5;241m=\u001b[39m \u001b[43mcv2\u001b[49m\u001b[38;5;241;43m.\u001b[39;49m\u001b[43mimread\u001b[49m\u001b[43m(\u001b[49m\u001b[43mf\u001b[49m\u001b[43m)\u001b[49m  \u001b[38;5;66;03m# BGR\u001b[39;00m\n\u001b[0;32m    164\u001b[0m \u001b[38;5;28;01mif\u001b[39;00m im \u001b[38;5;129;01mis\u001b[39;00m \u001b[38;5;28;01mNone\u001b[39;00m:\n\u001b[0;32m    165\u001b[0m     \u001b[38;5;28;01mraise\u001b[39;00m \u001b[38;5;167;01mFileNotFoundError\u001b[39;00m(\u001b[38;5;124mf\u001b[39m\u001b[38;5;124m\"\u001b[39m\u001b[38;5;124mImage Not Found \u001b[39m\u001b[38;5;132;01m{\u001b[39;00mf\u001b[38;5;132;01m}\u001b[39;00m\u001b[38;5;124m\"\u001b[39m)\n",
      "File \u001b[1;32mc:\\Users\\aaron\\anaconda3\\envs\\ia2023\\Lib\\site-packages\\ultralytics\\utils\\patches.py:26\u001b[0m, in \u001b[0;36mimread\u001b[1;34m(filename, flags)\u001b[0m\n\u001b[0;32m     15\u001b[0m \u001b[38;5;28;01mdef\u001b[39;00m \u001b[38;5;21mimread\u001b[39m(filename: \u001b[38;5;28mstr\u001b[39m, flags: \u001b[38;5;28mint\u001b[39m \u001b[38;5;241m=\u001b[39m cv2\u001b[38;5;241m.\u001b[39mIMREAD_COLOR):\n\u001b[0;32m     16\u001b[0m \u001b[38;5;250m    \u001b[39m\u001b[38;5;124;03m\"\"\"\u001b[39;00m\n\u001b[0;32m     17\u001b[0m \u001b[38;5;124;03m    Read an image from a file.\u001b[39;00m\n\u001b[0;32m     18\u001b[0m \n\u001b[1;32m   (...)\u001b[0m\n\u001b[0;32m     24\u001b[0m \u001b[38;5;124;03m        (np.ndarray): The read image.\u001b[39;00m\n\u001b[0;32m     25\u001b[0m \u001b[38;5;124;03m    \"\"\"\u001b[39;00m\n\u001b[1;32m---> 26\u001b[0m     \u001b[38;5;28;01mreturn\u001b[39;00m \u001b[43mcv2\u001b[49m\u001b[38;5;241;43m.\u001b[39;49m\u001b[43mimdecode\u001b[49m\u001b[43m(\u001b[49m\u001b[43mnp\u001b[49m\u001b[38;5;241;43m.\u001b[39;49m\u001b[43mfromfile\u001b[49m\u001b[43m(\u001b[49m\u001b[43mfilename\u001b[49m\u001b[43m,\u001b[49m\u001b[43m \u001b[49m\u001b[43mnp\u001b[49m\u001b[38;5;241;43m.\u001b[39;49m\u001b[43muint8\u001b[49m\u001b[43m)\u001b[49m\u001b[43m,\u001b[49m\u001b[43m \u001b[49m\u001b[43mflags\u001b[49m\u001b[43m)\u001b[49m\n",
      "\u001b[1;31mKeyboardInterrupt\u001b[0m: "
     ]
    }
   ],
   "source": [
    "from gc import freeze\n",
    "import os\n",
    "os.environ['KMP_DUPLICATE_LIB_OK'] = 'TRUE'\n",
    "\n",
    "from ultralytics import YOLO\n",
    "\n",
    "# Cargar modelo\n",
    "model = YOLO('yolov8m-seg.pt')\n",
    "results = model.train(\n",
    "    data='cityscapes.yaml',\n",
    "    epochs=15,        # Más épocas para mejor convergencia\n",
    "    imgsz=640,      # Mantener resolución alta\n",
    "    batch=8,         # Mantener batch size\n",
    "    workers=0,\n",
    "    pretrained=True,\n",
    "    freeze=10,\n",
    "    # Augmentaciones más agresivas para mejor generalización\n",
    "    flipud=0.3,\n",
    "    fliplr=0.5,\n",
    "    mosaic=0.8,      # Aumentar para más variedad\n",
    "    mixup=0.3,       # Aumentar para mejor robustez\n",
    "\n",
    "    # Ajustes de color más agresivos\n",
    "    hsv_h=0.015,     # Aumentar variación de tono\n",
    "    hsv_s=0.5,       # Aumentar saturación\n",
    "    hsv_v=0.4,       # Más variación de brillo\n",
    "\n",
    "    # Transformaciones geométricas más agresivas\n",
    "    degrees=30.0,    # Más rotación\n",
    "    translate=0.15,  # Más traslación\n",
    "    scale=0.5,      # Más escala\n",
    "    shear=7.0,      # Aumentar shear\n",
    "    perspective=0.0007, # Más perspectiva\n",
    "\n",
    "    # Otras configuraciones\n",
    "    copy_paste=0.3,  # Aumentar copy-paste\n",
    "    augment=True,\n",
    "\n",
    "    # Optimización ajustada\n",
    "    warmup_epochs=3,\n",
    "    warmup_momentum=0.85,\n",
    "    lr0=0.001,     # Learning rate más equilibrado\n",
    "    lrf=0.0001,    # Learning rate final ajustado\n",
    "    weight_decay=0.0004,  # Más regularización\n",
    "\n",
    "    # Nuevas configuraciones\n",
    "    label_smoothing=0.1,  # Añadir label smoothing\n",
    "    overlap_mask=True,    # Mejorar máscaras\n",
    "    mask_ratio=4,        # Ajustar ratio de máscara\n",
    "    dropout=0.2          # Añadir dropout\n",
    ")"
   ]
  },
  {
   "cell_type": "code",
   "execution_count": 3,
   "metadata": {},
   "outputs": [
    {
     "name": "stdout",
     "output_type": "stream",
     "text": [
      "New https://pypi.org/project/ultralytics/8.3.107 available  Update with 'pip install -U ultralytics'\n",
      "WARNING  'label_smoothing' is deprecated and will be removed in in the future.\n",
      "Ultralytics 8.3.55  Python-3.11.5 torch-2.6.0+cu126 CUDA:0 (NVIDIA GeForce RTX 4060 Laptop GPU, 8188MiB)\n",
      "\u001b[34m\u001b[1mengine\\trainer: \u001b[0mtask=segment, mode=train, model=runs/segment/train52/weights/best.pt, data=cityscapes.yaml, epochs=50, time=None, patience=10, batch=8, imgsz=640, save=True, save_period=-1, cache=False, device=None, workers=0, project=None, name=train55, exist_ok=False, pretrained=True, optimizer=auto, verbose=True, seed=0, deterministic=True, single_cls=False, rect=False, cos_lr=False, close_mosaic=10, resume=False, amp=True, fraction=1.0, profile=False, freeze=10, multi_scale=False, overlap_mask=True, mask_ratio=4, dropout=0.2, val=True, split=val, save_json=False, save_hybrid=False, conf=None, iou=0.7, max_det=300, half=False, dnn=False, plots=True, source=None, vid_stride=1, stream_buffer=False, visualize=False, augment=True, agnostic_nms=False, classes=None, retina_masks=False, embed=None, show=False, save_frames=False, save_txt=False, save_conf=False, save_crop=False, show_labels=True, show_conf=True, show_boxes=True, line_width=None, format=torchscript, keras=False, optimize=False, int8=False, dynamic=False, simplify=True, opset=None, workspace=None, nms=False, lr0=0.001, lrf=0.0001, momentum=0.937, weight_decay=0.0004, warmup_epochs=3, warmup_momentum=0.85, warmup_bias_lr=0.1, box=7.5, cls=0.5, dfl=1.5, pose=12.0, kobj=1.0, nbs=64, hsv_h=0.015, hsv_s=0.5, hsv_v=0.4, degrees=30.0, translate=0.15, scale=0.5, shear=7.0, perspective=0.0007, flipud=0.3, fliplr=0.5, bgr=0.0, mosaic=0.8, mixup=0.3, copy_paste=0.3, copy_paste_mode=flip, auto_augment=randaugment, erasing=0.4, crop_fraction=1.0, cfg=None, tracker=botsort.yaml, save_dir=runs\\segment\\train55\n",
      "\n",
      "                   from  n    params  module                                       arguments                     \n",
      "  0                  -1  1      1392  ultralytics.nn.modules.conv.Conv             [3, 48, 3, 2]                 \n",
      "  1                  -1  1     41664  ultralytics.nn.modules.conv.Conv             [48, 96, 3, 2]                \n",
      "  2                  -1  2    111360  ultralytics.nn.modules.block.C2f             [96, 96, 2, True]             \n",
      "  3                  -1  1    166272  ultralytics.nn.modules.conv.Conv             [96, 192, 3, 2]               \n",
      "  4                  -1  4    813312  ultralytics.nn.modules.block.C2f             [192, 192, 4, True]           \n",
      "  5                  -1  1    664320  ultralytics.nn.modules.conv.Conv             [192, 384, 3, 2]              \n",
      "  6                  -1  4   3248640  ultralytics.nn.modules.block.C2f             [384, 384, 4, True]           \n",
      "  7                  -1  1   1991808  ultralytics.nn.modules.conv.Conv             [384, 576, 3, 2]              \n",
      "  8                  -1  2   3985920  ultralytics.nn.modules.block.C2f             [576, 576, 2, True]           \n",
      "  9                  -1  1    831168  ultralytics.nn.modules.block.SPPF            [576, 576, 5]                 \n",
      " 10                  -1  1         0  torch.nn.modules.upsampling.Upsample         [None, 2, 'nearest']          \n",
      " 11             [-1, 6]  1         0  ultralytics.nn.modules.conv.Concat           [1]                           \n",
      " 12                  -1  2   1993728  ultralytics.nn.modules.block.C2f             [960, 384, 2]                 \n",
      " 13                  -1  1         0  torch.nn.modules.upsampling.Upsample         [None, 2, 'nearest']          \n",
      " 14             [-1, 4]  1         0  ultralytics.nn.modules.conv.Concat           [1]                           \n",
      " 15                  -1  2    517632  ultralytics.nn.modules.block.C2f             [576, 192, 2]                 \n",
      " 16                  -1  1    332160  ultralytics.nn.modules.conv.Conv             [192, 192, 3, 2]              \n",
      " 17            [-1, 12]  1         0  ultralytics.nn.modules.conv.Concat           [1]                           \n",
      " 18                  -1  2   1846272  ultralytics.nn.modules.block.C2f             [576, 384, 2]                 \n",
      " 19                  -1  1   1327872  ultralytics.nn.modules.conv.Conv             [384, 384, 3, 2]              \n",
      " 20             [-1, 9]  1         0  ultralytics.nn.modules.conv.Concat           [1]                           \n",
      " 21                  -1  2   4207104  ultralytics.nn.modules.block.C2f             [960, 576, 2]                 \n",
      " 22        [15, 18, 21]  1   5166551  ultralytics.nn.modules.head.Segment          [13, 32, 192, [192, 384, 576]]\n",
      "YOLOv8m-seg summary: 331 layers, 27,247,175 parameters, 27,247,159 gradients, 110.4 GFLOPs\n",
      "\n",
      "Transferred 537/537 items from pretrained weights\n",
      "Freezing layer 'model.0.conv.weight'\n",
      "Freezing layer 'model.0.bn.weight'\n",
      "Freezing layer 'model.0.bn.bias'\n",
      "Freezing layer 'model.1.conv.weight'\n",
      "Freezing layer 'model.1.bn.weight'\n",
      "Freezing layer 'model.1.bn.bias'\n",
      "Freezing layer 'model.2.cv1.conv.weight'\n",
      "Freezing layer 'model.2.cv1.bn.weight'\n",
      "Freezing layer 'model.2.cv1.bn.bias'\n",
      "Freezing layer 'model.2.cv2.conv.weight'\n",
      "Freezing layer 'model.2.cv2.bn.weight'\n",
      "Freezing layer 'model.2.cv2.bn.bias'\n",
      "Freezing layer 'model.2.m.0.cv1.conv.weight'\n",
      "Freezing layer 'model.2.m.0.cv1.bn.weight'\n",
      "Freezing layer 'model.2.m.0.cv1.bn.bias'\n",
      "Freezing layer 'model.2.m.0.cv2.conv.weight'\n",
      "Freezing layer 'model.2.m.0.cv2.bn.weight'\n",
      "Freezing layer 'model.2.m.0.cv2.bn.bias'\n",
      "Freezing layer 'model.2.m.1.cv1.conv.weight'\n",
      "Freezing layer 'model.2.m.1.cv1.bn.weight'\n",
      "Freezing layer 'model.2.m.1.cv1.bn.bias'\n",
      "Freezing layer 'model.2.m.1.cv2.conv.weight'\n",
      "Freezing layer 'model.2.m.1.cv2.bn.weight'\n",
      "Freezing layer 'model.2.m.1.cv2.bn.bias'\n",
      "Freezing layer 'model.3.conv.weight'\n",
      "Freezing layer 'model.3.bn.weight'\n",
      "Freezing layer 'model.3.bn.bias'\n",
      "Freezing layer 'model.4.cv1.conv.weight'\n",
      "Freezing layer 'model.4.cv1.bn.weight'\n",
      "Freezing layer 'model.4.cv1.bn.bias'\n",
      "Freezing layer 'model.4.cv2.conv.weight'\n",
      "Freezing layer 'model.4.cv2.bn.weight'\n",
      "Freezing layer 'model.4.cv2.bn.bias'\n",
      "Freezing layer 'model.4.m.0.cv1.conv.weight'\n",
      "Freezing layer 'model.4.m.0.cv1.bn.weight'\n",
      "Freezing layer 'model.4.m.0.cv1.bn.bias'\n",
      "Freezing layer 'model.4.m.0.cv2.conv.weight'\n",
      "Freezing layer 'model.4.m.0.cv2.bn.weight'\n",
      "Freezing layer 'model.4.m.0.cv2.bn.bias'\n",
      "Freezing layer 'model.4.m.1.cv1.conv.weight'\n",
      "Freezing layer 'model.4.m.1.cv1.bn.weight'\n",
      "Freezing layer 'model.4.m.1.cv1.bn.bias'\n",
      "Freezing layer 'model.4.m.1.cv2.conv.weight'\n",
      "Freezing layer 'model.4.m.1.cv2.bn.weight'\n",
      "Freezing layer 'model.4.m.1.cv2.bn.bias'\n",
      "Freezing layer 'model.4.m.2.cv1.conv.weight'\n",
      "Freezing layer 'model.4.m.2.cv1.bn.weight'\n",
      "Freezing layer 'model.4.m.2.cv1.bn.bias'\n",
      "Freezing layer 'model.4.m.2.cv2.conv.weight'\n",
      "Freezing layer 'model.4.m.2.cv2.bn.weight'\n",
      "Freezing layer 'model.4.m.2.cv2.bn.bias'\n",
      "Freezing layer 'model.4.m.3.cv1.conv.weight'\n",
      "Freezing layer 'model.4.m.3.cv1.bn.weight'\n",
      "Freezing layer 'model.4.m.3.cv1.bn.bias'\n",
      "Freezing layer 'model.4.m.3.cv2.conv.weight'\n",
      "Freezing layer 'model.4.m.3.cv2.bn.weight'\n",
      "Freezing layer 'model.4.m.3.cv2.bn.bias'\n",
      "Freezing layer 'model.5.conv.weight'\n",
      "Freezing layer 'model.5.bn.weight'\n",
      "Freezing layer 'model.5.bn.bias'\n",
      "Freezing layer 'model.6.cv1.conv.weight'\n",
      "Freezing layer 'model.6.cv1.bn.weight'\n",
      "Freezing layer 'model.6.cv1.bn.bias'\n",
      "Freezing layer 'model.6.cv2.conv.weight'\n",
      "Freezing layer 'model.6.cv2.bn.weight'\n",
      "Freezing layer 'model.6.cv2.bn.bias'\n",
      "Freezing layer 'model.6.m.0.cv1.conv.weight'\n",
      "Freezing layer 'model.6.m.0.cv1.bn.weight'\n",
      "Freezing layer 'model.6.m.0.cv1.bn.bias'\n",
      "Freezing layer 'model.6.m.0.cv2.conv.weight'\n",
      "Freezing layer 'model.6.m.0.cv2.bn.weight'\n",
      "Freezing layer 'model.6.m.0.cv2.bn.bias'\n",
      "Freezing layer 'model.6.m.1.cv1.conv.weight'\n",
      "Freezing layer 'model.6.m.1.cv1.bn.weight'\n",
      "Freezing layer 'model.6.m.1.cv1.bn.bias'\n",
      "Freezing layer 'model.6.m.1.cv2.conv.weight'\n",
      "Freezing layer 'model.6.m.1.cv2.bn.weight'\n",
      "Freezing layer 'model.6.m.1.cv2.bn.bias'\n",
      "Freezing layer 'model.6.m.2.cv1.conv.weight'\n",
      "Freezing layer 'model.6.m.2.cv1.bn.weight'\n",
      "Freezing layer 'model.6.m.2.cv1.bn.bias'\n",
      "Freezing layer 'model.6.m.2.cv2.conv.weight'\n",
      "Freezing layer 'model.6.m.2.cv2.bn.weight'\n",
      "Freezing layer 'model.6.m.2.cv2.bn.bias'\n",
      "Freezing layer 'model.6.m.3.cv1.conv.weight'\n",
      "Freezing layer 'model.6.m.3.cv1.bn.weight'\n",
      "Freezing layer 'model.6.m.3.cv1.bn.bias'\n",
      "Freezing layer 'model.6.m.3.cv2.conv.weight'\n",
      "Freezing layer 'model.6.m.3.cv2.bn.weight'\n",
      "Freezing layer 'model.6.m.3.cv2.bn.bias'\n",
      "Freezing layer 'model.7.conv.weight'\n",
      "Freezing layer 'model.7.bn.weight'\n",
      "Freezing layer 'model.7.bn.bias'\n",
      "Freezing layer 'model.8.cv1.conv.weight'\n",
      "Freezing layer 'model.8.cv1.bn.weight'\n",
      "Freezing layer 'model.8.cv1.bn.bias'\n",
      "Freezing layer 'model.8.cv2.conv.weight'\n",
      "Freezing layer 'model.8.cv2.bn.weight'\n",
      "Freezing layer 'model.8.cv2.bn.bias'\n",
      "Freezing layer 'model.8.m.0.cv1.conv.weight'\n",
      "Freezing layer 'model.8.m.0.cv1.bn.weight'\n",
      "Freezing layer 'model.8.m.0.cv1.bn.bias'\n",
      "Freezing layer 'model.8.m.0.cv2.conv.weight'\n",
      "Freezing layer 'model.8.m.0.cv2.bn.weight'\n",
      "Freezing layer 'model.8.m.0.cv2.bn.bias'\n",
      "Freezing layer 'model.8.m.1.cv1.conv.weight'\n",
      "Freezing layer 'model.8.m.1.cv1.bn.weight'\n",
      "Freezing layer 'model.8.m.1.cv1.bn.bias'\n",
      "Freezing layer 'model.8.m.1.cv2.conv.weight'\n",
      "Freezing layer 'model.8.m.1.cv2.bn.weight'\n",
      "Freezing layer 'model.8.m.1.cv2.bn.bias'\n",
      "Freezing layer 'model.9.cv1.conv.weight'\n",
      "Freezing layer 'model.9.cv1.bn.weight'\n",
      "Freezing layer 'model.9.cv1.bn.bias'\n",
      "Freezing layer 'model.9.cv2.conv.weight'\n",
      "Freezing layer 'model.9.cv2.bn.weight'\n",
      "Freezing layer 'model.9.cv2.bn.bias'\n",
      "Freezing layer 'model.22.dfl.conv.weight'\n",
      "\u001b[34m\u001b[1mAMP: \u001b[0mrunning Automatic Mixed Precision (AMP) checks...\n",
      "\u001b[34m\u001b[1mAMP: \u001b[0mchecks passed \n"
     ]
    },
    {
     "name": "stderr",
     "output_type": "stream",
     "text": [
      "\u001b[34m\u001b[1mtrain: \u001b[0mScanning C:\\Users\\aaron\\Documents\\Año4\\TFG\\CityScapesWithPanopticSegm\\dataset\\labels\\train.cache... 2975 images, 0 backgrounds, 25 corrupt: 100%|██████████| 2975/2975 [00:00<?, ?it/s]"
     ]
    },
    {
     "name": "stdout",
     "output_type": "stream",
     "text": [
      "\u001b[34m\u001b[1mtrain: \u001b[0mWARNING  C:\\Users\\aaron\\Documents\\Ao4\\TFG\\CityScapesWithPanopticSegm\\dataset\\images\\train\\aachen_000000_000019_gtFine_polygons.png: 4 duplicate labels removed\n",
      "\u001b[34m\u001b[1mtrain: \u001b[0mWARNING  C:\\Users\\aaron\\Documents\\Ao4\\TFG\\CityScapesWithPanopticSegm\\dataset\\images\\train\\aachen_000004_000019_gtFine_polygons.png: 1 duplicate labels removed\n",
      "\u001b[34m\u001b[1mtrain: \u001b[0mWARNING  C:\\Users\\aaron\\Documents\\Ao4\\TFG\\CityScapesWithPanopticSegm\\dataset\\images\\train\\aachen_000008_000019_gtFine_polygons.png: 1 duplicate labels removed\n",
      "\u001b[34m\u001b[1mtrain: \u001b[0mWARNING  C:\\Users\\aaron\\Documents\\Ao4\\TFG\\CityScapesWithPanopticSegm\\dataset\\images\\train\\aachen_000022_000019_gtFine_polygons.png: 1 duplicate labels removed\n",
      "\u001b[34m\u001b[1mtrain: \u001b[0mWARNING  C:\\Users\\aaron\\Documents\\Ao4\\TFG\\CityScapesWithPanopticSegm\\dataset\\images\\train\\aachen_000026_000019_gtFine_polygons.png: 1 duplicate labels removed\n",
      "\u001b[34m\u001b[1mtrain: \u001b[0mWARNING  C:\\Users\\aaron\\Documents\\Ao4\\TFG\\CityScapesWithPanopticSegm\\dataset\\images\\train\\aachen_000030_000019_gtFine_polygons.png: 3 duplicate labels removed\n",
      "\u001b[34m\u001b[1mtrain: \u001b[0mWARNING  C:\\Users\\aaron\\Documents\\Ao4\\TFG\\CityScapesWithPanopticSegm\\dataset\\images\\train\\aachen_000031_000019_gtFine_polygons.png: 1 duplicate labels removed\n",
      "\u001b[34m\u001b[1mtrain: \u001b[0mWARNING  C:\\Users\\aaron\\Documents\\Ao4\\TFG\\CityScapesWithPanopticSegm\\dataset\\images\\train\\aachen_000034_000019_gtFine_polygons.png: 1 duplicate labels removed\n",
      "\u001b[34m\u001b[1mtrain: \u001b[0mWARNING  C:\\Users\\aaron\\Documents\\Ao4\\TFG\\CityScapesWithPanopticSegm\\dataset\\images\\train\\aachen_000042_000019_gtFine_polygons.png: 2 duplicate labels removed\n",
      "\u001b[34m\u001b[1mtrain: \u001b[0mWARNING  C:\\Users\\aaron\\Documents\\Ao4\\TFG\\CityScapesWithPanopticSegm\\dataset\\images\\train\\aachen_000058_000019_gtFine_polygons.png: 1 duplicate labels removed\n",
      "\u001b[34m\u001b[1mtrain: \u001b[0mWARNING  C:\\Users\\aaron\\Documents\\Ao4\\TFG\\CityScapesWithPanopticSegm\\dataset\\images\\train\\aachen_000060_000019_gtFine_polygons.png: 15 duplicate labels removed\n",
      "\u001b[34m\u001b[1mtrain: \u001b[0mWARNING  C:\\Users\\aaron\\Documents\\Ao4\\TFG\\CityScapesWithPanopticSegm\\dataset\\images\\train\\aachen_000061_000019_gtFine_polygons.png: 40 duplicate labels removed\n",
      "\u001b[34m\u001b[1mtrain: \u001b[0mWARNING  C:\\Users\\aaron\\Documents\\Ao4\\TFG\\CityScapesWithPanopticSegm\\dataset\\images\\train\\aachen_000062_000019_gtFine_polygons.png: 8 duplicate labels removed\n",
      "\u001b[34m\u001b[1mtrain: \u001b[0mWARNING  C:\\Users\\aaron\\Documents\\Ao4\\TFG\\CityScapesWithPanopticSegm\\dataset\\images\\train\\aachen_000064_000019_gtFine_polygons.png: 1 duplicate labels removed\n",
      "\u001b[34m\u001b[1mtrain: \u001b[0mWARNING  C:\\Users\\aaron\\Documents\\Ao4\\TFG\\CityScapesWithPanopticSegm\\dataset\\images\\train\\aachen_000070_000019_gtFine_polygons.png: 2 duplicate labels removed\n",
      "\u001b[34m\u001b[1mtrain: \u001b[0mWARNING  C:\\Users\\aaron\\Documents\\Ao4\\TFG\\CityScapesWithPanopticSegm\\dataset\\images\\train\\aachen_000072_000019_gtFine_polygons.png: 1 duplicate labels removed\n",
      "\u001b[34m\u001b[1mtrain: \u001b[0mWARNING  C:\\Users\\aaron\\Documents\\Ao4\\TFG\\CityScapesWithPanopticSegm\\dataset\\images\\train\\aachen_000078_000019_gtFine_polygons.png: 3 duplicate labels removed\n",
      "\u001b[34m\u001b[1mtrain: \u001b[0mWARNING  C:\\Users\\aaron\\Documents\\Ao4\\TFG\\CityScapesWithPanopticSegm\\dataset\\images\\train\\aachen_000079_000019_gtFine_polygons.png: 7 duplicate labels removed\n",
      "\u001b[34m\u001b[1mtrain: \u001b[0mWARNING  C:\\Users\\aaron\\Documents\\Ao4\\TFG\\CityScapesWithPanopticSegm\\dataset\\images\\train\\aachen_000080_000019_gtFine_polygons.png: 37 duplicate labels removed\n",
      "\u001b[34m\u001b[1mtrain: \u001b[0mWARNING  C:\\Users\\aaron\\Documents\\Ao4\\TFG\\CityScapesWithPanopticSegm\\dataset\\images\\train\\aachen_000090_000019_gtFine_polygons.png: 3 duplicate labels removed\n",
      "\u001b[34m\u001b[1mtrain: \u001b[0mWARNING  C:\\Users\\aaron\\Documents\\Ao4\\TFG\\CityScapesWithPanopticSegm\\dataset\\images\\train\\aachen_000092_000019_gtFine_polygons.png: 1 duplicate labels removed\n",
      "\u001b[34m\u001b[1mtrain: \u001b[0mWARNING  C:\\Users\\aaron\\Documents\\Ao4\\TFG\\CityScapesWithPanopticSegm\\dataset\\images\\train\\aachen_000095_000019_gtFine_polygons.png: 2 duplicate labels removed\n",
      "\u001b[34m\u001b[1mtrain: \u001b[0mWARNING  C:\\Users\\aaron\\Documents\\Ao4\\TFG\\CityScapesWithPanopticSegm\\dataset\\images\\train\\aachen_000096_000019_gtFine_polygons.png: 4 duplicate labels removed\n",
      "\u001b[34m\u001b[1mtrain: \u001b[0mWARNING  C:\\Users\\aaron\\Documents\\Ao4\\TFG\\CityScapesWithPanopticSegm\\dataset\\images\\train\\aachen_000098_000019_gtFine_polygons.png: 2 duplicate labels removed\n",
      "\u001b[34m\u001b[1mtrain: \u001b[0mWARNING  C:\\Users\\aaron\\Documents\\Ao4\\TFG\\CityScapesWithPanopticSegm\\dataset\\images\\train\\aachen_000152_000019_gtFine_polygons.png: 9 duplicate labels removed\n",
      "\u001b[34m\u001b[1mtrain: \u001b[0mWARNING  C:\\Users\\aaron\\Documents\\Ao4\\TFG\\CityScapesWithPanopticSegm\\dataset\\images\\train\\aachen_000153_000019_gtFine_polygons.png: 1 duplicate labels removed\n",
      "\u001b[34m\u001b[1mtrain: \u001b[0mWARNING  C:\\Users\\aaron\\Documents\\Ao4\\TFG\\CityScapesWithPanopticSegm\\dataset\\images\\train\\aachen_000155_000019_gtFine_polygons.png: 1 duplicate labels removed\n",
      "\u001b[34m\u001b[1mtrain: \u001b[0mWARNING  C:\\Users\\aaron\\Documents\\Ao4\\TFG\\CityScapesWithPanopticSegm\\dataset\\images\\train\\bochum_000000_000885_gtFine_polygons.png: 1 duplicate labels removed\n",
      "\u001b[34m\u001b[1mtrain: \u001b[0mWARNING  C:\\Users\\aaron\\Documents\\Ao4\\TFG\\CityScapesWithPanopticSegm\\dataset\\images\\train\\bochum_000000_004748_gtFine_polygons.png: 1 duplicate labels removed\n",
      "\u001b[34m\u001b[1mtrain: \u001b[0mWARNING  C:\\Users\\aaron\\Documents\\Ao4\\TFG\\CityScapesWithPanopticSegm\\dataset\\images\\train\\bochum_000000_007651_gtFine_polygons.png: 2 duplicate labels removed\n",
      "\u001b[34m\u001b[1mtrain: \u001b[0mWARNING  C:\\Users\\aaron\\Documents\\Ao4\\TFG\\CityScapesWithPanopticSegm\\dataset\\images\\train\\bochum_000000_013209_gtFine_polygons.png: 1 duplicate labels removed\n",
      "\u001b[34m\u001b[1mtrain: \u001b[0mWARNING  C:\\Users\\aaron\\Documents\\Ao4\\TFG\\CityScapesWithPanopticSegm\\dataset\\images\\train\\bochum_000000_017453_gtFine_polygons.png: 1 duplicate labels removed\n",
      "\u001b[34m\u001b[1mtrain: \u001b[0mWARNING  C:\\Users\\aaron\\Documents\\Ao4\\TFG\\CityScapesWithPanopticSegm\\dataset\\images\\train\\bochum_000000_033714_gtFine_polygons.png: 1 duplicate labels removed\n",
      "\u001b[34m\u001b[1mtrain: \u001b[0mWARNING  C:\\Users\\aaron\\Documents\\Ao4\\TFG\\CityScapesWithPanopticSegm\\dataset\\images\\train\\bochum_000000_036606_gtFine_polygons.png: 1 duplicate labels removed\n",
      "\u001b[34m\u001b[1mtrain: \u001b[0mWARNING  C:\\Users\\aaron\\Documents\\Ao4\\TFG\\CityScapesWithPanopticSegm\\dataset\\images\\train\\bremen_000021_000019_gtFine_polygons.png: 1 duplicate labels removed\n",
      "\u001b[34m\u001b[1mtrain: \u001b[0mWARNING  C:\\Users\\aaron\\Documents\\Ao4\\TFG\\CityScapesWithPanopticSegm\\dataset\\images\\train\\bremen_000060_000019_gtFine_polygons.png: 1 duplicate labels removed\n",
      "\u001b[34m\u001b[1mtrain: \u001b[0mWARNING  C:\\Users\\aaron\\Documents\\Ao4\\TFG\\CityScapesWithPanopticSegm\\dataset\\images\\train\\bremen_000099_000019_gtFine_polygons.png: 1 duplicate labels removed\n",
      "\u001b[34m\u001b[1mtrain: \u001b[0mWARNING  C:\\Users\\aaron\\Documents\\Ao4\\TFG\\CityScapesWithPanopticSegm\\dataset\\images\\train\\bremen_000111_000019_gtFine_polygons.png: ignoring corrupt image/label: non-normalized or out of bounds coordinates [     1.0005]\n",
      "\u001b[34m\u001b[1mtrain: \u001b[0mWARNING  C:\\Users\\aaron\\Documents\\Ao4\\TFG\\CityScapesWithPanopticSegm\\dataset\\images\\train\\bremen_000118_000019_gtFine_polygons.png: ignoring corrupt image/label: non-normalized or out of bounds coordinates [      1.001]\n",
      "\u001b[34m\u001b[1mtrain: \u001b[0mWARNING  C:\\Users\\aaron\\Documents\\Ao4\\TFG\\CityScapesWithPanopticSegm\\dataset\\images\\train\\bremen_000121_000019_gtFine_polygons.png: ignoring corrupt image/label: non-normalized or out of bounds coordinates [      1.001]\n",
      "\u001b[34m\u001b[1mtrain: \u001b[0mWARNING  C:\\Users\\aaron\\Documents\\Ao4\\TFG\\CityScapesWithPanopticSegm\\dataset\\images\\train\\bremen_000123_000019_gtFine_polygons.png: ignoring corrupt image/label: non-normalized or out of bounds coordinates [     1.0005]\n",
      "\u001b[34m\u001b[1mtrain: \u001b[0mWARNING  C:\\Users\\aaron\\Documents\\Ao4\\TFG\\CityScapesWithPanopticSegm\\dataset\\images\\train\\bremen_000124_000019_gtFine_polygons.png: ignoring corrupt image/label: non-normalized or out of bounds coordinates [     1.0005]\n",
      "\u001b[34m\u001b[1mtrain: \u001b[0mWARNING  C:\\Users\\aaron\\Documents\\Ao4\\TFG\\CityScapesWithPanopticSegm\\dataset\\images\\train\\bremen_000126_000019_gtFine_polygons.png: ignoring corrupt image/label: non-normalized or out of bounds coordinates [      1.001]\n",
      "\u001b[34m\u001b[1mtrain: \u001b[0mWARNING  C:\\Users\\aaron\\Documents\\Ao4\\TFG\\CityScapesWithPanopticSegm\\dataset\\images\\train\\bremen_000128_000019_gtFine_polygons.png: ignoring corrupt image/label: non-normalized or out of bounds coordinates [     1.0005]\n",
      "\u001b[34m\u001b[1mtrain: \u001b[0mWARNING  C:\\Users\\aaron\\Documents\\Ao4\\TFG\\CityScapesWithPanopticSegm\\dataset\\images\\train\\bremen_000129_000019_gtFine_polygons.png: ignoring corrupt image/label: non-normalized or out of bounds coordinates [     1.0005]\n",
      "\u001b[34m\u001b[1mtrain: \u001b[0mWARNING  C:\\Users\\aaron\\Documents\\Ao4\\TFG\\CityScapesWithPanopticSegm\\dataset\\images\\train\\bremen_000130_000019_gtFine_polygons.png: ignoring corrupt image/label: non-normalized or out of bounds coordinates [      1.001]\n",
      "\u001b[34m\u001b[1mtrain: \u001b[0mWARNING  C:\\Users\\aaron\\Documents\\Ao4\\TFG\\CityScapesWithPanopticSegm\\dataset\\images\\train\\bremen_000132_000019_gtFine_polygons.png: ignoring corrupt image/label: non-normalized or out of bounds coordinates [      1.001]\n",
      "\u001b[34m\u001b[1mtrain: \u001b[0mWARNING  C:\\Users\\aaron\\Documents\\Ao4\\TFG\\CityScapesWithPanopticSegm\\dataset\\images\\train\\bremen_000133_000019_gtFine_polygons.png: ignoring corrupt image/label: non-normalized or out of bounds coordinates [      1.001]\n",
      "\u001b[34m\u001b[1mtrain: \u001b[0mWARNING  C:\\Users\\aaron\\Documents\\Ao4\\TFG\\CityScapesWithPanopticSegm\\dataset\\images\\train\\bremen_000135_000019_gtFine_polygons.png: ignoring corrupt image/label: non-normalized or out of bounds coordinates [     1.0005]\n",
      "\u001b[34m\u001b[1mtrain: \u001b[0mWARNING  C:\\Users\\aaron\\Documents\\Ao4\\TFG\\CityScapesWithPanopticSegm\\dataset\\images\\train\\bremen_000241_000019_gtFine_polygons.png: 1 duplicate labels removed\n",
      "\u001b[34m\u001b[1mtrain: \u001b[0mWARNING  C:\\Users\\aaron\\Documents\\Ao4\\TFG\\CityScapesWithPanopticSegm\\dataset\\images\\train\\cologne_000004_000019_gtFine_polygons.png: 1 duplicate labels removed\n",
      "\u001b[34m\u001b[1mtrain: \u001b[0mWARNING  C:\\Users\\aaron\\Documents\\Ao4\\TFG\\CityScapesWithPanopticSegm\\dataset\\images\\train\\cologne_000006_000019_gtFine_polygons.png: 1 duplicate labels removed\n",
      "\u001b[34m\u001b[1mtrain: \u001b[0mWARNING  C:\\Users\\aaron\\Documents\\Ao4\\TFG\\CityScapesWithPanopticSegm\\dataset\\images\\train\\cologne_000007_000019_gtFine_polygons.png: 2 duplicate labels removed\n",
      "\u001b[34m\u001b[1mtrain: \u001b[0mWARNING  C:\\Users\\aaron\\Documents\\Ao4\\TFG\\CityScapesWithPanopticSegm\\dataset\\images\\train\\cologne_000009_000019_gtFine_polygons.png: 1 duplicate labels removed\n",
      "\u001b[34m\u001b[1mtrain: \u001b[0mWARNING  C:\\Users\\aaron\\Documents\\Ao4\\TFG\\CityScapesWithPanopticSegm\\dataset\\images\\train\\cologne_000012_000019_gtFine_polygons.png: 3 duplicate labels removed\n",
      "\u001b[34m\u001b[1mtrain: \u001b[0mWARNING  C:\\Users\\aaron\\Documents\\Ao4\\TFG\\CityScapesWithPanopticSegm\\dataset\\images\\train\\cologne_000018_000019_gtFine_polygons.png: 5 duplicate labels removed\n",
      "\u001b[34m\u001b[1mtrain: \u001b[0mWARNING  C:\\Users\\aaron\\Documents\\Ao4\\TFG\\CityScapesWithPanopticSegm\\dataset\\images\\train\\cologne_000019_000019_gtFine_polygons.png: 2 duplicate labels removed\n",
      "\u001b[34m\u001b[1mtrain: \u001b[0mWARNING  C:\\Users\\aaron\\Documents\\Ao4\\TFG\\CityScapesWithPanopticSegm\\dataset\\images\\train\\cologne_000021_000019_gtFine_polygons.png: 1 duplicate labels removed\n",
      "\u001b[34m\u001b[1mtrain: \u001b[0mWARNING  C:\\Users\\aaron\\Documents\\Ao4\\TFG\\CityScapesWithPanopticSegm\\dataset\\images\\train\\cologne_000040_000019_gtFine_polygons.png: 1 duplicate labels removed\n",
      "\u001b[34m\u001b[1mtrain: \u001b[0mWARNING  C:\\Users\\aaron\\Documents\\Ao4\\TFG\\CityScapesWithPanopticSegm\\dataset\\images\\train\\cologne_000053_000019_gtFine_polygons.png: 1 duplicate labels removed\n",
      "\u001b[34m\u001b[1mtrain: \u001b[0mWARNING  C:\\Users\\aaron\\Documents\\Ao4\\TFG\\CityScapesWithPanopticSegm\\dataset\\images\\train\\cologne_000056_000019_gtFine_polygons.png: 1 duplicate labels removed\n",
      "\u001b[34m\u001b[1mtrain: \u001b[0mWARNING  C:\\Users\\aaron\\Documents\\Ao4\\TFG\\CityScapesWithPanopticSegm\\dataset\\images\\train\\cologne_000057_000019_gtFine_polygons.png: 1 duplicate labels removed\n",
      "\u001b[34m\u001b[1mtrain: \u001b[0mWARNING  C:\\Users\\aaron\\Documents\\Ao4\\TFG\\CityScapesWithPanopticSegm\\dataset\\images\\train\\cologne_000061_000019_gtFine_polygons.png: 1 duplicate labels removed\n",
      "\u001b[34m\u001b[1mtrain: \u001b[0mWARNING  C:\\Users\\aaron\\Documents\\Ao4\\TFG\\CityScapesWithPanopticSegm\\dataset\\images\\train\\cologne_000090_000019_gtFine_polygons.png: 1 duplicate labels removed\n",
      "\u001b[34m\u001b[1mtrain: \u001b[0mWARNING  C:\\Users\\aaron\\Documents\\Ao4\\TFG\\CityScapesWithPanopticSegm\\dataset\\images\\train\\cologne_000092_000019_gtFine_polygons.png: 3 duplicate labels removed\n",
      "\u001b[34m\u001b[1mtrain: \u001b[0mWARNING  C:\\Users\\aaron\\Documents\\Ao4\\TFG\\CityScapesWithPanopticSegm\\dataset\\images\\train\\cologne_000111_000019_gtFine_polygons.png: 1 duplicate labels removed\n",
      "\u001b[34m\u001b[1mtrain: \u001b[0mWARNING  C:\\Users\\aaron\\Documents\\Ao4\\TFG\\CityScapesWithPanopticSegm\\dataset\\images\\train\\darmstadt_000002_000019_gtFine_polygons.png: 2 duplicate labels removed\n",
      "\u001b[34m\u001b[1mtrain: \u001b[0mWARNING  C:\\Users\\aaron\\Documents\\Ao4\\TFG\\CityScapesWithPanopticSegm\\dataset\\images\\train\\darmstadt_000004_000019_gtFine_polygons.png: 1 duplicate labels removed\n",
      "\u001b[34m\u001b[1mtrain: \u001b[0mWARNING  C:\\Users\\aaron\\Documents\\Ao4\\TFG\\CityScapesWithPanopticSegm\\dataset\\images\\train\\darmstadt_000014_000019_gtFine_polygons.png: 1 duplicate labels removed\n",
      "\u001b[34m\u001b[1mtrain: \u001b[0mWARNING  C:\\Users\\aaron\\Documents\\Ao4\\TFG\\CityScapesWithPanopticSegm\\dataset\\images\\train\\darmstadt_000015_000019_gtFine_polygons.png: 1 duplicate labels removed\n",
      "\u001b[34m\u001b[1mtrain: \u001b[0mWARNING  C:\\Users\\aaron\\Documents\\Ao4\\TFG\\CityScapesWithPanopticSegm\\dataset\\images\\train\\darmstadt_000021_000019_gtFine_polygons.png: 1 duplicate labels removed\n",
      "\u001b[34m\u001b[1mtrain: \u001b[0mWARNING  C:\\Users\\aaron\\Documents\\Ao4\\TFG\\CityScapesWithPanopticSegm\\dataset\\images\\train\\darmstadt_000026_000019_gtFine_polygons.png: 2 duplicate labels removed\n",
      "\u001b[34m\u001b[1mtrain: \u001b[0mWARNING  C:\\Users\\aaron\\Documents\\Ao4\\TFG\\CityScapesWithPanopticSegm\\dataset\\images\\train\\darmstadt_000036_000019_gtFine_polygons.png: 1 duplicate labels removed\n",
      "\u001b[34m\u001b[1mtrain: \u001b[0mWARNING  C:\\Users\\aaron\\Documents\\Ao4\\TFG\\CityScapesWithPanopticSegm\\dataset\\images\\train\\darmstadt_000046_000019_gtFine_polygons.png: 1 duplicate labels removed\n",
      "\u001b[34m\u001b[1mtrain: \u001b[0mWARNING  C:\\Users\\aaron\\Documents\\Ao4\\TFG\\CityScapesWithPanopticSegm\\dataset\\images\\train\\darmstadt_000061_000019_gtFine_polygons.png: 1 duplicate labels removed\n",
      "\u001b[34m\u001b[1mtrain: \u001b[0mWARNING  C:\\Users\\aaron\\Documents\\Ao4\\TFG\\CityScapesWithPanopticSegm\\dataset\\images\\train\\darmstadt_000083_000019_gtFine_polygons.png: 1 duplicate labels removed\n",
      "\u001b[34m\u001b[1mtrain: \u001b[0mWARNING  C:\\Users\\aaron\\Documents\\Ao4\\TFG\\CityScapesWithPanopticSegm\\dataset\\images\\train\\dusseldorf_000057_000019_gtFine_polygons.png: ignoring corrupt image/label: non-normalized or out of bounds coordinates [     1.0005]\n",
      "\u001b[34m\u001b[1mtrain: \u001b[0mWARNING  C:\\Users\\aaron\\Documents\\Ao4\\TFG\\CityScapesWithPanopticSegm\\dataset\\images\\train\\dusseldorf_000068_000019_gtFine_polygons.png: ignoring corrupt image/label: non-normalized or out of bounds coordinates [     1.0005]\n",
      "\u001b[34m\u001b[1mtrain: \u001b[0mWARNING  C:\\Users\\aaron\\Documents\\Ao4\\TFG\\CityScapesWithPanopticSegm\\dataset\\images\\train\\dusseldorf_000075_000019_gtFine_polygons.png: ignoring corrupt image/label: non-normalized or out of bounds coordinates [      1.001]\n",
      "\u001b[34m\u001b[1mtrain: \u001b[0mWARNING  C:\\Users\\aaron\\Documents\\Ao4\\TFG\\CityScapesWithPanopticSegm\\dataset\\images\\train\\dusseldorf_000088_000019_gtFine_polygons.png: ignoring corrupt image/label: non-normalized or out of bounds coordinates [     1.0005]\n",
      "\u001b[34m\u001b[1mtrain: \u001b[0mWARNING  C:\\Users\\aaron\\Documents\\Ao4\\TFG\\CityScapesWithPanopticSegm\\dataset\\images\\train\\dusseldorf_000090_000019_gtFine_polygons.png: ignoring corrupt image/label: non-normalized or out of bounds coordinates [     1.0005]\n",
      "\u001b[34m\u001b[1mtrain: \u001b[0mWARNING  C:\\Users\\aaron\\Documents\\Ao4\\TFG\\CityScapesWithPanopticSegm\\dataset\\images\\train\\dusseldorf_000098_000019_gtFine_polygons.png: ignoring corrupt image/label: non-normalized or out of bounds coordinates [     1.0005]\n",
      "\u001b[34m\u001b[1mtrain: \u001b[0mWARNING  C:\\Users\\aaron\\Documents\\Ao4\\TFG\\CityScapesWithPanopticSegm\\dataset\\images\\train\\dusseldorf_000157_000019_gtFine_polygons.png: ignoring corrupt image/label: non-normalized or out of bounds coordinates [     1.0049]\n",
      "\u001b[34m\u001b[1mtrain: \u001b[0mWARNING  C:\\Users\\aaron\\Documents\\Ao4\\TFG\\CityScapesWithPanopticSegm\\dataset\\images\\train\\dusseldorf_000198_000019_gtFine_polygons.png: ignoring corrupt image/label: non-normalized or out of bounds coordinates [     1.0073]\n",
      "\u001b[34m\u001b[1mtrain: \u001b[0mWARNING  C:\\Users\\aaron\\Documents\\Ao4\\TFG\\CityScapesWithPanopticSegm\\dataset\\images\\train\\erfurt_000020_000019_gtFine_polygons.png: 1 duplicate labels removed\n",
      "\u001b[34m\u001b[1mtrain: \u001b[0mWARNING  C:\\Users\\aaron\\Documents\\Ao4\\TFG\\CityScapesWithPanopticSegm\\dataset\\images\\train\\hamburg_000000_019892_gtFine_polygons.png: 1 duplicate labels removed\n",
      "\u001b[34m\u001b[1mtrain: \u001b[0mWARNING  C:\\Users\\aaron\\Documents\\Ao4\\TFG\\CityScapesWithPanopticSegm\\dataset\\images\\train\\hamburg_000000_032906_gtFine_polygons.png: 1 duplicate labels removed\n",
      "\u001b[34m\u001b[1mtrain: \u001b[0mWARNING  C:\\Users\\aaron\\Documents\\Ao4\\TFG\\CityScapesWithPanopticSegm\\dataset\\images\\train\\hamburg_000000_033506_gtFine_polygons.png: 9 duplicate labels removed\n",
      "\u001b[34m\u001b[1mtrain: \u001b[0mWARNING  C:\\Users\\aaron\\Documents\\Ao4\\TFG\\CityScapesWithPanopticSegm\\dataset\\images\\train\\hamburg_000000_035568_gtFine_polygons.png: 1 duplicate labels removed\n",
      "\u001b[34m\u001b[1mtrain: \u001b[0mWARNING  C:\\Users\\aaron\\Documents\\Ao4\\TFG\\CityScapesWithPanopticSegm\\dataset\\images\\train\\hamburg_000000_039420_gtFine_polygons.png: 1 duplicate labels removed\n",
      "\u001b[34m\u001b[1mtrain: \u001b[0mWARNING  C:\\Users\\aaron\\Documents\\Ao4\\TFG\\CityScapesWithPanopticSegm\\dataset\\images\\train\\hamburg_000000_041667_gtFine_polygons.png: 1 duplicate labels removed\n",
      "\u001b[34m\u001b[1mtrain: \u001b[0mWARNING  C:\\Users\\aaron\\Documents\\Ao4\\TFG\\CityScapesWithPanopticSegm\\dataset\\images\\train\\hamburg_000000_053886_gtFine_polygons.png: 1 duplicate labels removed\n",
      "\u001b[34m\u001b[1mtrain: \u001b[0mWARNING  C:\\Users\\aaron\\Documents\\Ao4\\TFG\\CityScapesWithPanopticSegm\\dataset\\images\\train\\hamburg_000000_071016_gtFine_polygons.png: 1 duplicate labels removed\n",
      "\u001b[34m\u001b[1mtrain: \u001b[0mWARNING  C:\\Users\\aaron\\Documents\\Ao4\\TFG\\CityScapesWithPanopticSegm\\dataset\\images\\train\\hamburg_000000_080438_gtFine_polygons.png: 1 duplicate labels removed\n",
      "\u001b[34m\u001b[1mtrain: \u001b[0mWARNING  C:\\Users\\aaron\\Documents\\Ao4\\TFG\\CityScapesWithPanopticSegm\\dataset\\images\\train\\hanover_000000_012347_gtFine_polygons.png: 1 duplicate labels removed\n",
      "\u001b[34m\u001b[1mtrain: \u001b[0mWARNING  C:\\Users\\aaron\\Documents\\Ao4\\TFG\\CityScapesWithPanopticSegm\\dataset\\images\\train\\hanover_000000_014537_gtFine_polygons.png: 1 duplicate labels removed\n",
      "\u001b[34m\u001b[1mtrain: \u001b[0mWARNING  C:\\Users\\aaron\\Documents\\Ao4\\TFG\\CityScapesWithPanopticSegm\\dataset\\images\\train\\hanover_000000_015587_gtFine_polygons.png: 1 duplicate labels removed\n",
      "\u001b[34m\u001b[1mtrain: \u001b[0mWARNING  C:\\Users\\aaron\\Documents\\Ao4\\TFG\\CityScapesWithPanopticSegm\\dataset\\images\\train\\hanover_000000_018800_gtFine_polygons.png: 3 duplicate labels removed\n",
      "\u001b[34m\u001b[1mtrain: \u001b[0mWARNING  C:\\Users\\aaron\\Documents\\Ao4\\TFG\\CityScapesWithPanopticSegm\\dataset\\images\\train\\hanover_000000_019116_gtFine_polygons.png: 4 duplicate labels removed\n",
      "\u001b[34m\u001b[1mtrain: \u001b[0mWARNING  C:\\Users\\aaron\\Documents\\Ao4\\TFG\\CityScapesWithPanopticSegm\\dataset\\images\\train\\hanover_000000_019282_gtFine_polygons.png: 2 duplicate labels removed\n",
      "\u001b[34m\u001b[1mtrain: \u001b[0mWARNING  C:\\Users\\aaron\\Documents\\Ao4\\TFG\\CityScapesWithPanopticSegm\\dataset\\images\\train\\hanover_000000_019456_gtFine_polygons.png: 1 duplicate labels removed\n",
      "\u001b[34m\u001b[1mtrain: \u001b[0mWARNING  C:\\Users\\aaron\\Documents\\Ao4\\TFG\\CityScapesWithPanopticSegm\\dataset\\images\\train\\hanover_000000_019672_gtFine_polygons.png: 1 duplicate labels removed\n",
      "\u001b[34m\u001b[1mtrain: \u001b[0mWARNING  C:\\Users\\aaron\\Documents\\Ao4\\TFG\\CityScapesWithPanopticSegm\\dataset\\images\\train\\hanover_000000_022645_gtFine_polygons.png: 4 duplicate labels removed\n",
      "\u001b[34m\u001b[1mtrain: \u001b[0mWARNING  C:\\Users\\aaron\\Documents\\Ao4\\TFG\\CityScapesWithPanopticSegm\\dataset\\images\\train\\hanover_000000_026356_gtFine_polygons.png: 1 duplicate labels removed\n",
      "\u001b[34m\u001b[1mtrain: \u001b[0mWARNING  C:\\Users\\aaron\\Documents\\Ao4\\TFG\\CityScapesWithPanopticSegm\\dataset\\images\\train\\hanover_000000_034015_gtFine_polygons.png: 2 duplicate labels removed\n",
      "\u001b[34m\u001b[1mtrain: \u001b[0mWARNING  C:\\Users\\aaron\\Documents\\Ao4\\TFG\\CityScapesWithPanopticSegm\\dataset\\images\\train\\hanover_000000_034141_gtFine_polygons.png: 2 duplicate labels removed\n",
      "\u001b[34m\u001b[1mtrain: \u001b[0mWARNING  C:\\Users\\aaron\\Documents\\Ao4\\TFG\\CityScapesWithPanopticSegm\\dataset\\images\\train\\hanover_000000_036051_gtFine_polygons.png: 1 duplicate labels removed\n",
      "\u001b[34m\u001b[1mtrain: \u001b[0mWARNING  C:\\Users\\aaron\\Documents\\Ao4\\TFG\\CityScapesWithPanopticSegm\\dataset\\images\\train\\hanover_000000_047499_gtFine_polygons.png: 1 duplicate labels removed\n",
      "\u001b[34m\u001b[1mtrain: \u001b[0mWARNING  C:\\Users\\aaron\\Documents\\Ao4\\TFG\\CityScapesWithPanopticSegm\\dataset\\images\\train\\hanover_000000_047870_gtFine_polygons.png: 1 duplicate labels removed\n",
      "\u001b[34m\u001b[1mtrain: \u001b[0mWARNING  C:\\Users\\aaron\\Documents\\Ao4\\TFG\\CityScapesWithPanopticSegm\\dataset\\images\\train\\hanover_000000_051152_gtFine_polygons.png: 2 duplicate labels removed\n",
      "\u001b[34m\u001b[1mtrain: \u001b[0mWARNING  C:\\Users\\aaron\\Documents\\Ao4\\TFG\\CityScapesWithPanopticSegm\\dataset\\images\\train\\hanover_000000_051536_gtFine_polygons.png: 2 duplicate labels removed\n",
      "\u001b[34m\u001b[1mtrain: \u001b[0mWARNING  C:\\Users\\aaron\\Documents\\Ao4\\TFG\\CityScapesWithPanopticSegm\\dataset\\images\\train\\hanover_000000_052512_gtFine_polygons.png: 1 duplicate labels removed\n",
      "\u001b[34m\u001b[1mtrain: \u001b[0mWARNING  C:\\Users\\aaron\\Documents\\Ao4\\TFG\\CityScapesWithPanopticSegm\\dataset\\images\\train\\hanover_000000_053027_gtFine_polygons.png: 1 duplicate labels removed\n",
      "\u001b[34m\u001b[1mtrain: \u001b[0mWARNING  C:\\Users\\aaron\\Documents\\Ao4\\TFG\\CityScapesWithPanopticSegm\\dataset\\images\\train\\hanover_000000_056800_gtFine_polygons.png: 1 duplicate labels removed\n",
      "\u001b[34m\u001b[1mtrain: \u001b[0mWARNING  C:\\Users\\aaron\\Documents\\Ao4\\TFG\\CityScapesWithPanopticSegm\\dataset\\images\\train\\jena_000059_000019_gtFine_polygons.png: ignoring corrupt image/label: non-normalized or out of bounds coordinates [     1.0005]\n",
      "\u001b[34m\u001b[1mtrain: \u001b[0mWARNING  C:\\Users\\aaron\\Documents\\Ao4\\TFG\\CityScapesWithPanopticSegm\\dataset\\images\\train\\krefeld_000000_004608_gtFine_polygons.png: 2 duplicate labels removed\n",
      "\u001b[34m\u001b[1mtrain: \u001b[0mWARNING  C:\\Users\\aaron\\Documents\\Ao4\\TFG\\CityScapesWithPanopticSegm\\dataset\\images\\train\\krefeld_000000_011655_gtFine_polygons.png: 1 duplicate labels removed\n",
      "\u001b[34m\u001b[1mtrain: \u001b[0mWARNING  C:\\Users\\aaron\\Documents\\Ao4\\TFG\\CityScapesWithPanopticSegm\\dataset\\images\\train\\krefeld_000000_013766_gtFine_polygons.png: 1 duplicate labels removed\n",
      "\u001b[34m\u001b[1mtrain: \u001b[0mWARNING  C:\\Users\\aaron\\Documents\\Ao4\\TFG\\CityScapesWithPanopticSegm\\dataset\\images\\train\\krefeld_000000_020933_gtFine_polygons.png: 1 duplicate labels removed\n",
      "\u001b[34m\u001b[1mtrain: \u001b[0mWARNING  C:\\Users\\aaron\\Documents\\Ao4\\TFG\\CityScapesWithPanopticSegm\\dataset\\images\\train\\strasbourg_000000_013654_gtFine_polygons.png: 1 duplicate labels removed\n",
      "\u001b[34m\u001b[1mtrain: \u001b[0mWARNING  C:\\Users\\aaron\\Documents\\Ao4\\TFG\\CityScapesWithPanopticSegm\\dataset\\images\\train\\strasbourg_000000_014503_gtFine_polygons.png: 1 duplicate labels removed\n",
      "\u001b[34m\u001b[1mtrain: \u001b[0mWARNING  C:\\Users\\aaron\\Documents\\Ao4\\TFG\\CityScapesWithPanopticSegm\\dataset\\images\\train\\strasbourg_000001_030539_gtFine_polygons.png: 1 duplicate labels removed\n",
      "\u001b[34m\u001b[1mtrain: \u001b[0mWARNING  C:\\Users\\aaron\\Documents\\Ao4\\TFG\\CityScapesWithPanopticSegm\\dataset\\images\\train\\strasbourg_000001_030997_gtFine_polygons.png: 1 duplicate labels removed\n",
      "\u001b[34m\u001b[1mtrain: \u001b[0mWARNING  C:\\Users\\aaron\\Documents\\Ao4\\TFG\\CityScapesWithPanopticSegm\\dataset\\images\\train\\strasbourg_000001_031582_gtFine_polygons.png: 1 duplicate labels removed\n",
      "\u001b[34m\u001b[1mtrain: \u001b[0mWARNING  C:\\Users\\aaron\\Documents\\Ao4\\TFG\\CityScapesWithPanopticSegm\\dataset\\images\\train\\strasbourg_000001_051317_gtFine_polygons.png: 1 duplicate labels removed\n",
      "\u001b[34m\u001b[1mtrain: \u001b[0mWARNING  C:\\Users\\aaron\\Documents\\Ao4\\TFG\\CityScapesWithPanopticSegm\\dataset\\images\\train\\strasbourg_000001_052050_gtFine_polygons.png: 1 duplicate labels removed\n",
      "\u001b[34m\u001b[1mtrain: \u001b[0mWARNING  C:\\Users\\aaron\\Documents\\Ao4\\TFG\\CityScapesWithPanopticSegm\\dataset\\images\\train\\strasbourg_000001_058373_gtFine_polygons.png: 14 duplicate labels removed\n",
      "\u001b[34m\u001b[1mtrain: \u001b[0mWARNING  C:\\Users\\aaron\\Documents\\Ao4\\TFG\\CityScapesWithPanopticSegm\\dataset\\images\\train\\strasbourg_000001_058954_gtFine_polygons.png: 1 duplicate labels removed\n",
      "\u001b[34m\u001b[1mtrain: \u001b[0mWARNING  C:\\Users\\aaron\\Documents\\Ao4\\TFG\\CityScapesWithPanopticSegm\\dataset\\images\\train\\strasbourg_000001_062691_gtFine_polygons.png: 1 duplicate labels removed\n",
      "\u001b[34m\u001b[1mtrain: \u001b[0mWARNING  C:\\Users\\aaron\\Documents\\Ao4\\TFG\\CityScapesWithPanopticSegm\\dataset\\images\\train\\strasbourg_000001_064224_gtFine_polygons.png: 2 duplicate labels removed\n",
      "\u001b[34m\u001b[1mtrain: \u001b[0mWARNING  C:\\Users\\aaron\\Documents\\Ao4\\TFG\\CityScapesWithPanopticSegm\\dataset\\images\\train\\strasbourg_000001_064393_gtFine_polygons.png: 1 duplicate labels removed\n",
      "\u001b[34m\u001b[1mtrain: \u001b[0mWARNING  C:\\Users\\aaron\\Documents\\Ao4\\TFG\\CityScapesWithPanopticSegm\\dataset\\images\\train\\stuttgart_000002_000019_gtFine_polygons.png: ignoring corrupt image/label: non-normalized or out of bounds coordinates [     1.0005]\n",
      "\u001b[34m\u001b[1mtrain: \u001b[0mWARNING  C:\\Users\\aaron\\Documents\\Ao4\\TFG\\CityScapesWithPanopticSegm\\dataset\\images\\train\\stuttgart_000005_000019_gtFine_polygons.png: ignoring corrupt image/label: non-normalized or out of bounds coordinates [      1.001]\n",
      "\u001b[34m\u001b[1mtrain: \u001b[0mWARNING  C:\\Users\\aaron\\Documents\\Ao4\\TFG\\CityScapesWithPanopticSegm\\dataset\\images\\train\\stuttgart_000006_000019_gtFine_polygons.png: 1 duplicate labels removed\n",
      "\u001b[34m\u001b[1mtrain: \u001b[0mWARNING  C:\\Users\\aaron\\Documents\\Ao4\\TFG\\CityScapesWithPanopticSegm\\dataset\\images\\train\\stuttgart_000068_000019_gtFine_polygons.png: 1 duplicate labels removed\n",
      "\u001b[34m\u001b[1mtrain: \u001b[0mWARNING  C:\\Users\\aaron\\Documents\\Ao4\\TFG\\CityScapesWithPanopticSegm\\dataset\\images\\train\\stuttgart_000109_000019_gtFine_polygons.png: 1 duplicate labels removed\n",
      "\u001b[34m\u001b[1mtrain: \u001b[0mWARNING  C:\\Users\\aaron\\Documents\\Ao4\\TFG\\CityScapesWithPanopticSegm\\dataset\\images\\train\\stuttgart_000120_000019_gtFine_polygons.png: 2 duplicate labels removed\n",
      "\u001b[34m\u001b[1mtrain: \u001b[0mWARNING  C:\\Users\\aaron\\Documents\\Ao4\\TFG\\CityScapesWithPanopticSegm\\dataset\\images\\train\\stuttgart_000168_000019_gtFine_polygons.png: 1 duplicate labels removed\n",
      "\u001b[34m\u001b[1mtrain: \u001b[0mWARNING  C:\\Users\\aaron\\Documents\\Ao4\\TFG\\CityScapesWithPanopticSegm\\dataset\\images\\train\\stuttgart_000175_000019_gtFine_polygons.png: 2 duplicate labels removed\n",
      "\u001b[34m\u001b[1mtrain: \u001b[0mWARNING  C:\\Users\\aaron\\Documents\\Ao4\\TFG\\CityScapesWithPanopticSegm\\dataset\\images\\train\\stuttgart_000184_000019_gtFine_polygons.png: 2 duplicate labels removed\n",
      "\u001b[34m\u001b[1mtrain: \u001b[0mWARNING  C:\\Users\\aaron\\Documents\\Ao4\\TFG\\CityScapesWithPanopticSegm\\dataset\\images\\train\\tubingen_000008_000019_gtFine_polygons.png: 1 duplicate labels removed\n",
      "\u001b[34m\u001b[1mtrain: \u001b[0mWARNING  C:\\Users\\aaron\\Documents\\Ao4\\TFG\\CityScapesWithPanopticSegm\\dataset\\images\\train\\tubingen_000089_000019_gtFine_polygons.png: 1 duplicate labels removed\n",
      "\u001b[34m\u001b[1mtrain: \u001b[0mWARNING  C:\\Users\\aaron\\Documents\\Ao4\\TFG\\CityScapesWithPanopticSegm\\dataset\\images\\train\\tubingen_000118_000019_gtFine_polygons.png: 6 duplicate labels removed\n",
      "\u001b[34m\u001b[1mtrain: \u001b[0mWARNING  C:\\Users\\aaron\\Documents\\Ao4\\TFG\\CityScapesWithPanopticSegm\\dataset\\images\\train\\ulm_000004_000019_gtFine_polygons.png: 2 duplicate labels removed\n",
      "\u001b[34m\u001b[1mtrain: \u001b[0mWARNING  C:\\Users\\aaron\\Documents\\Ao4\\TFG\\CityScapesWithPanopticSegm\\dataset\\images\\train\\ulm_000005_000019_gtFine_polygons.png: 4 duplicate labels removed\n",
      "\u001b[34m\u001b[1mtrain: \u001b[0mWARNING  C:\\Users\\aaron\\Documents\\Ao4\\TFG\\CityScapesWithPanopticSegm\\dataset\\images\\train\\ulm_000006_000019_gtFine_polygons.png: 8 duplicate labels removed\n",
      "\u001b[34m\u001b[1mtrain: \u001b[0mWARNING  C:\\Users\\aaron\\Documents\\Ao4\\TFG\\CityScapesWithPanopticSegm\\dataset\\images\\train\\ulm_000011_000019_gtFine_polygons.png: 1 duplicate labels removed\n",
      "\u001b[34m\u001b[1mtrain: \u001b[0mWARNING  C:\\Users\\aaron\\Documents\\Ao4\\TFG\\CityScapesWithPanopticSegm\\dataset\\images\\train\\ulm_000012_000019_gtFine_polygons.png: 2 duplicate labels removed\n",
      "\u001b[34m\u001b[1mtrain: \u001b[0mWARNING  C:\\Users\\aaron\\Documents\\Ao4\\TFG\\CityScapesWithPanopticSegm\\dataset\\images\\train\\ulm_000013_000019_gtFine_polygons.png: 2 duplicate labels removed\n",
      "\u001b[34m\u001b[1mtrain: \u001b[0mWARNING  C:\\Users\\aaron\\Documents\\Ao4\\TFG\\CityScapesWithPanopticSegm\\dataset\\images\\train\\ulm_000017_000019_gtFine_polygons.png: 2 duplicate labels removed\n",
      "\u001b[34m\u001b[1mtrain: \u001b[0mWARNING  C:\\Users\\aaron\\Documents\\Ao4\\TFG\\CityScapesWithPanopticSegm\\dataset\\images\\train\\ulm_000024_000019_gtFine_polygons.png: 2 duplicate labels removed\n",
      "\u001b[34m\u001b[1mtrain: \u001b[0mWARNING  C:\\Users\\aaron\\Documents\\Ao4\\TFG\\CityScapesWithPanopticSegm\\dataset\\images\\train\\ulm_000025_000019_gtFine_polygons.png: 3 duplicate labels removed\n",
      "\u001b[34m\u001b[1mtrain: \u001b[0mWARNING  C:\\Users\\aaron\\Documents\\Ao4\\TFG\\CityScapesWithPanopticSegm\\dataset\\images\\train\\ulm_000037_000019_gtFine_polygons.png: 1 duplicate labels removed\n",
      "\u001b[34m\u001b[1mtrain: \u001b[0mWARNING  C:\\Users\\aaron\\Documents\\Ao4\\TFG\\CityScapesWithPanopticSegm\\dataset\\images\\train\\ulm_000056_000019_gtFine_polygons.png: 2 duplicate labels removed\n",
      "\u001b[34m\u001b[1mtrain: \u001b[0mWARNING  C:\\Users\\aaron\\Documents\\Ao4\\TFG\\CityScapesWithPanopticSegm\\dataset\\images\\train\\ulm_000058_000019_gtFine_polygons.png: 3 duplicate labels removed\n",
      "\u001b[34m\u001b[1mtrain: \u001b[0mWARNING  C:\\Users\\aaron\\Documents\\Ao4\\TFG\\CityScapesWithPanopticSegm\\dataset\\images\\train\\ulm_000067_000019_gtFine_polygons.png: 3 duplicate labels removed\n",
      "\u001b[34m\u001b[1mtrain: \u001b[0mWARNING  C:\\Users\\aaron\\Documents\\Ao4\\TFG\\CityScapesWithPanopticSegm\\dataset\\images\\train\\ulm_000068_000019_gtFine_polygons.png: 3 duplicate labels removed\n",
      "\u001b[34m\u001b[1mtrain: \u001b[0mWARNING  C:\\Users\\aaron\\Documents\\Ao4\\TFG\\CityScapesWithPanopticSegm\\dataset\\images\\train\\ulm_000069_000019_gtFine_polygons.png: 3 duplicate labels removed\n",
      "\u001b[34m\u001b[1mtrain: \u001b[0mWARNING  C:\\Users\\aaron\\Documents\\Ao4\\TFG\\CityScapesWithPanopticSegm\\dataset\\images\\train\\ulm_000078_000019_gtFine_polygons.png: 1 duplicate labels removed\n",
      "\u001b[34m\u001b[1mtrain: \u001b[0mWARNING  C:\\Users\\aaron\\Documents\\Ao4\\TFG\\CityScapesWithPanopticSegm\\dataset\\images\\train\\ulm_000079_000019_gtFine_polygons.png: 1 duplicate labels removed\n",
      "\u001b[34m\u001b[1mtrain: \u001b[0mWARNING  C:\\Users\\aaron\\Documents\\Ao4\\TFG\\CityScapesWithPanopticSegm\\dataset\\images\\train\\ulm_000084_000019_gtFine_polygons.png: 2 duplicate labels removed\n",
      "\u001b[34m\u001b[1mtrain: \u001b[0mWARNING  C:\\Users\\aaron\\Documents\\Ao4\\TFG\\CityScapesWithPanopticSegm\\dataset\\images\\train\\weimar_000013_000019_gtFine_polygons.png: ignoring corrupt image/label: non-normalized or out of bounds coordinates [      1.001]\n",
      "\u001b[34m\u001b[1mtrain: \u001b[0mWARNING  C:\\Users\\aaron\\Documents\\Ao4\\TFG\\CityScapesWithPanopticSegm\\dataset\\images\\train\\zurich_000002_000019_gtFine_polygons.png: ignoring corrupt image/label: non-normalized or out of bounds coordinates [     1.0005]\n",
      "\u001b[34m\u001b[1mtrain: \u001b[0mWARNING  C:\\Users\\aaron\\Documents\\Ao4\\TFG\\CityScapesWithPanopticSegm\\dataset\\images\\train\\zurich_000027_000019_gtFine_polygons.png: 1 duplicate labels removed\n",
      "\u001b[34m\u001b[1mtrain: \u001b[0mWARNING  C:\\Users\\aaron\\Documents\\Ao4\\TFG\\CityScapesWithPanopticSegm\\dataset\\images\\train\\zurich_000107_000019_gtFine_polygons.png: 1 duplicate labels removed\n"
     ]
    },
    {
     "name": "stderr",
     "output_type": "stream",
     "text": [
      "\n",
      "\u001b[34m\u001b[1mval: \u001b[0mScanning C:\\Users\\aaron\\Documents\\Año4\\TFG\\CityScapesWithPanopticSegm\\dataset\\labels\\val.cache... 500 images, 0 backgrounds, 5 corrupt: 100%|██████████| 500/500 [00:00<?, ?it/s]"
     ]
    },
    {
     "name": "stdout",
     "output_type": "stream",
     "text": [
      "\u001b[34m\u001b[1mval: \u001b[0mWARNING  C:\\Users\\aaron\\Documents\\Ao4\\TFG\\CityScapesWithPanopticSegm\\dataset\\images\\val\\frankfurt_000001_016273_gtFine_polygons.png: 1 duplicate labels removed\n",
      "\u001b[34m\u001b[1mval: \u001b[0mWARNING  C:\\Users\\aaron\\Documents\\Ao4\\TFG\\CityScapesWithPanopticSegm\\dataset\\images\\val\\frankfurt_000001_017101_gtFine_polygons.png: 1 duplicate labels removed\n",
      "\u001b[34m\u001b[1mval: \u001b[0mWARNING  C:\\Users\\aaron\\Documents\\Ao4\\TFG\\CityScapesWithPanopticSegm\\dataset\\images\\val\\frankfurt_000001_028232_gtFine_polygons.png: 1 duplicate labels removed\n",
      "\u001b[34m\u001b[1mval: \u001b[0mWARNING  C:\\Users\\aaron\\Documents\\Ao4\\TFG\\CityScapesWithPanopticSegm\\dataset\\images\\val\\frankfurt_000001_046272_gtFine_polygons.png: 1 duplicate labels removed\n",
      "\u001b[34m\u001b[1mval: \u001b[0mWARNING  C:\\Users\\aaron\\Documents\\Ao4\\TFG\\CityScapesWithPanopticSegm\\dataset\\images\\val\\frankfurt_000001_077434_gtFine_polygons.png: 1 duplicate labels removed\n",
      "\u001b[34m\u001b[1mval: \u001b[0mWARNING  C:\\Users\\aaron\\Documents\\Ao4\\TFG\\CityScapesWithPanopticSegm\\dataset\\images\\val\\lindau_000000_000019_gtFine_polygons.png: ignoring corrupt image/label: non-normalized or out of bounds coordinates [     1.0034]\n",
      "\u001b[34m\u001b[1mval: \u001b[0mWARNING  C:\\Users\\aaron\\Documents\\Ao4\\TFG\\CityScapesWithPanopticSegm\\dataset\\images\\val\\lindau_000013_000019_gtFine_polygons.png: ignoring corrupt image/label: non-normalized or out of bounds coordinates [     1.0005]\n",
      "\u001b[34m\u001b[1mval: \u001b[0mWARNING  C:\\Users\\aaron\\Documents\\Ao4\\TFG\\CityScapesWithPanopticSegm\\dataset\\images\\val\\lindau_000018_000019_gtFine_polygons.png: ignoring corrupt image/label: non-normalized or out of bounds coordinates [      1.001]\n",
      "\u001b[34m\u001b[1mval: \u001b[0mWARNING  C:\\Users\\aaron\\Documents\\Ao4\\TFG\\CityScapesWithPanopticSegm\\dataset\\images\\val\\munster_000026_000019_gtFine_polygons.png: 2 duplicate labels removed\n",
      "\u001b[34m\u001b[1mval: \u001b[0mWARNING  C:\\Users\\aaron\\Documents\\Ao4\\TFG\\CityScapesWithPanopticSegm\\dataset\\images\\val\\munster_000029_000019_gtFine_polygons.png: 1 duplicate labels removed\n",
      "\u001b[34m\u001b[1mval: \u001b[0mWARNING  C:\\Users\\aaron\\Documents\\Ao4\\TFG\\CityScapesWithPanopticSegm\\dataset\\images\\val\\munster_000035_000019_gtFine_polygons.png: ignoring corrupt image/label: non-normalized or out of bounds coordinates [     1.0005]\n",
      "\u001b[34m\u001b[1mval: \u001b[0mWARNING  C:\\Users\\aaron\\Documents\\Ao4\\TFG\\CityScapesWithPanopticSegm\\dataset\\images\\val\\munster_000045_000019_gtFine_polygons.png: ignoring corrupt image/label: non-normalized or out of bounds coordinates [     1.0005]\n",
      "\u001b[34m\u001b[1mval: \u001b[0mWARNING  C:\\Users\\aaron\\Documents\\Ao4\\TFG\\CityScapesWithPanopticSegm\\dataset\\images\\val\\munster_000049_000019_gtFine_polygons.png: 1 duplicate labels removed\n",
      "\u001b[34m\u001b[1mval: \u001b[0mWARNING  C:\\Users\\aaron\\Documents\\Ao4\\TFG\\CityScapesWithPanopticSegm\\dataset\\images\\val\\munster_000108_000019_gtFine_polygons.png: 1 duplicate labels removed\n",
      "\u001b[34m\u001b[1mval: \u001b[0mWARNING  C:\\Users\\aaron\\Documents\\Ao4\\TFG\\CityScapesWithPanopticSegm\\dataset\\images\\val\\munster_000140_000019_gtFine_polygons.png: 1 duplicate labels removed\n",
      "\u001b[34m\u001b[1mval: \u001b[0mWARNING  C:\\Users\\aaron\\Documents\\Ao4\\TFG\\CityScapesWithPanopticSegm\\dataset\\images\\val\\munster_000141_000019_gtFine_polygons.png: 1 duplicate labels removed\n",
      "\u001b[34m\u001b[1mval: \u001b[0mWARNING  C:\\Users\\aaron\\Documents\\Ao4\\TFG\\CityScapesWithPanopticSegm\\dataset\\images\\val\\munster_000142_000019_gtFine_polygons.png: 1 duplicate labels removed\n",
      "\u001b[34m\u001b[1mval: \u001b[0mWARNING  C:\\Users\\aaron\\Documents\\Ao4\\TFG\\CityScapesWithPanopticSegm\\dataset\\images\\val\\munster_000167_000019_gtFine_polygons.png: 1 duplicate labels removed\n",
      "Plotting labels to runs\\segment\\train55\\labels.jpg... \n"
     ]
    },
    {
     "name": "stderr",
     "output_type": "stream",
     "text": [
      "\n"
     ]
    },
    {
     "name": "stdout",
     "output_type": "stream",
     "text": [
      "\u001b[34m\u001b[1moptimizer:\u001b[0m 'optimizer=auto' found, ignoring 'lr0=0.001' and 'momentum=0.937' and determining best 'optimizer', 'lr0' and 'momentum' automatically... \n",
      "\u001b[34m\u001b[1moptimizer:\u001b[0m AdamW(lr=0.000588, momentum=0.9) with parameter groups 86 weight(decay=0.0), 97 weight(decay=0.0004), 96 bias(decay=0.0)\n",
      "Image sizes 640 train, 640 val\n",
      "Using 0 dataloader workers\n",
      "Logging results to \u001b[1mruns\\segment\\train55\u001b[0m\n",
      "Starting training for 50 epochs...\n",
      "\n",
      "      Epoch    GPU_mem   box_loss   seg_loss   cls_loss   dfl_loss  Instances       Size\n"
     ]
    },
    {
     "name": "stderr",
     "output_type": "stream",
     "text": [
      "       1/50      4.18G      1.385      2.844      1.047      1.258        885        640: 100%|██████████| 369/369 [13:18<00:00,  2.16s/it]\n",
      "                 Class     Images  Instances      Box(P          R      mAP50  mAP50-95)     Mask(P          R      mAP50  mAP50-95): 100%|██████████| 31/31 [00:54<00:00,  1.75s/it]"
     ]
    },
    {
     "name": "stdout",
     "output_type": "stream",
     "text": [
      "                   all        495      23219      0.679        0.5      0.547      0.351      0.625      0.439      0.453      0.245\n"
     ]
    },
    {
     "name": "stderr",
     "output_type": "stream",
     "text": [
      "\n"
     ]
    },
    {
     "name": "stdout",
     "output_type": "stream",
     "text": [
      "\n",
      "      Epoch    GPU_mem   box_loss   seg_loss   cls_loss   dfl_loss  Instances       Size\n"
     ]
    },
    {
     "name": "stderr",
     "output_type": "stream",
     "text": [
      "       2/50      4.26G      1.408      2.866      1.069      1.268        427        640: 100%|██████████| 369/369 [12:47<00:00,  2.08s/it]\n",
      "                 Class     Images  Instances      Box(P          R      mAP50  mAP50-95)     Mask(P          R      mAP50  mAP50-95): 100%|██████████| 31/31 [00:51<00:00,  1.67s/it]\n"
     ]
    },
    {
     "name": "stdout",
     "output_type": "stream",
     "text": [
      "                   all        495      23219      0.653      0.501      0.533      0.334      0.582      0.422      0.426      0.232\n",
      "\n",
      "      Epoch    GPU_mem   box_loss   seg_loss   cls_loss   dfl_loss  Instances       Size\n"
     ]
    },
    {
     "name": "stderr",
     "output_type": "stream",
     "text": [
      "       3/50      4.36G      1.419      2.883      1.083      1.275        414        640: 100%|██████████| 369/369 [12:46<00:00,  2.08s/it]\n",
      "                 Class     Images  Instances      Box(P          R      mAP50  mAP50-95)     Mask(P          R      mAP50  mAP50-95): 100%|██████████| 31/31 [00:52<00:00,  1.69s/it]"
     ]
    },
    {
     "name": "stdout",
     "output_type": "stream",
     "text": [
      "                   all        495      23219       0.68      0.489      0.537      0.337      0.606       0.43      0.444      0.238\n"
     ]
    },
    {
     "name": "stderr",
     "output_type": "stream",
     "text": [
      "\n"
     ]
    },
    {
     "name": "stdout",
     "output_type": "stream",
     "text": [
      "\n",
      "      Epoch    GPU_mem   box_loss   seg_loss   cls_loss   dfl_loss  Instances       Size\n"
     ]
    },
    {
     "name": "stderr",
     "output_type": "stream",
     "text": [
      "       4/50      4.31G      1.429      2.901      1.093      1.282        427        640: 100%|██████████| 369/369 [12:52<00:00,  2.09s/it]\n",
      "                 Class     Images  Instances      Box(P          R      mAP50  mAP50-95)     Mask(P          R      mAP50  mAP50-95): 100%|██████████| 31/31 [00:51<00:00,  1.67s/it]\n"
     ]
    },
    {
     "name": "stdout",
     "output_type": "stream",
     "text": [
      "                   all        495      23219      0.664      0.495      0.533      0.335      0.584      0.433      0.432      0.231\n",
      "\n",
      "      Epoch    GPU_mem   box_loss   seg_loss   cls_loss   dfl_loss  Instances       Size\n"
     ]
    },
    {
     "name": "stderr",
     "output_type": "stream",
     "text": [
      "       5/50      4.17G      1.418      2.869      1.081      1.276        756        640: 100%|██████████| 369/369 [12:45<00:00,  2.07s/it]\n",
      "                 Class     Images  Instances      Box(P          R      mAP50  mAP50-95)     Mask(P          R      mAP50  mAP50-95): 100%|██████████| 31/31 [00:51<00:00,  1.67s/it]"
     ]
    },
    {
     "name": "stdout",
     "output_type": "stream",
     "text": [
      "                   all        495      23219      0.649      0.508      0.538       0.34      0.603      0.444      0.447      0.237\n"
     ]
    },
    {
     "name": "stderr",
     "output_type": "stream",
     "text": [
      "\n"
     ]
    },
    {
     "name": "stdout",
     "output_type": "stream",
     "text": [
      "\n",
      "      Epoch    GPU_mem   box_loss   seg_loss   cls_loss   dfl_loss  Instances       Size\n"
     ]
    },
    {
     "name": "stderr",
     "output_type": "stream",
     "text": [
      "       6/50       4.3G      1.419      2.882      1.085      1.275        577        640: 100%|██████████| 369/369 [12:36<00:00,  2.05s/it]\n",
      "                 Class     Images  Instances      Box(P          R      mAP50  mAP50-95)     Mask(P          R      mAP50  mAP50-95): 100%|██████████| 31/31 [00:51<00:00,  1.67s/it]\n"
     ]
    },
    {
     "name": "stdout",
     "output_type": "stream",
     "text": [
      "                   all        495      23219      0.656      0.491      0.536      0.339      0.604      0.425      0.449      0.241\n",
      "\n",
      "      Epoch    GPU_mem   box_loss   seg_loss   cls_loss   dfl_loss  Instances       Size\n"
     ]
    },
    {
     "name": "stderr",
     "output_type": "stream",
     "text": [
      "       7/50      4.74G      1.422      2.887       1.08       1.28        644        640: 100%|██████████| 369/369 [12:53<00:00,  2.10s/it]\n",
      "                 Class     Images  Instances      Box(P          R      mAP50  mAP50-95)     Mask(P          R      mAP50  mAP50-95): 100%|██████████| 31/31 [00:53<00:00,  1.72s/it]\n"
     ]
    },
    {
     "name": "stdout",
     "output_type": "stream",
     "text": [
      "                   all        495      23219      0.673      0.499      0.527      0.332      0.601      0.443      0.438      0.237\n",
      "\n",
      "      Epoch    GPU_mem   box_loss   seg_loss   cls_loss   dfl_loss  Instances       Size\n"
     ]
    },
    {
     "name": "stderr",
     "output_type": "stream",
     "text": [
      "       8/50      4.54G      1.433      2.914      1.094      1.285        517        640: 100%|██████████| 369/369 [13:00<00:00,  2.12s/it]\n",
      "                 Class     Images  Instances      Box(P          R      mAP50  mAP50-95)     Mask(P          R      mAP50  mAP50-95): 100%|██████████| 31/31 [00:53<00:00,  1.72s/it]\n"
     ]
    },
    {
     "name": "stdout",
     "output_type": "stream",
     "text": [
      "                   all        495      23219      0.681      0.499      0.537      0.338      0.627      0.435      0.449      0.239\n",
      "\n",
      "      Epoch    GPU_mem   box_loss   seg_loss   cls_loss   dfl_loss  Instances       Size\n"
     ]
    },
    {
     "name": "stderr",
     "output_type": "stream",
     "text": [
      "       9/50      4.62G      1.422      2.887      1.079      1.278        281        640: 100%|██████████| 369/369 [13:09<00:00,  2.14s/it]\n",
      "                 Class     Images  Instances      Box(P          R      mAP50  mAP50-95)     Mask(P          R      mAP50  mAP50-95): 100%|██████████| 31/31 [00:53<00:00,  1.73s/it]\n"
     ]
    },
    {
     "name": "stdout",
     "output_type": "stream",
     "text": [
      "                   all        495      23219      0.681      0.498      0.541      0.346      0.601       0.44      0.451      0.242\n",
      "\n",
      "      Epoch    GPU_mem   box_loss   seg_loss   cls_loss   dfl_loss  Instances       Size\n"
     ]
    },
    {
     "name": "stderr",
     "output_type": "stream",
     "text": [
      "      10/50      4.01G      1.406      2.855      1.071      1.273        740        640: 100%|██████████| 369/369 [12:29<00:00,  2.03s/it]\n",
      "                 Class     Images  Instances      Box(P          R      mAP50  mAP50-95)     Mask(P          R      mAP50  mAP50-95): 100%|██████████| 31/31 [00:51<00:00,  1.67s/it]\n"
     ]
    },
    {
     "name": "stdout",
     "output_type": "stream",
     "text": [
      "                   all        495      23219      0.665      0.497      0.538      0.342      0.599      0.447      0.449      0.237\n",
      "\n",
      "      Epoch    GPU_mem   box_loss   seg_loss   cls_loss   dfl_loss  Instances       Size\n"
     ]
    },
    {
     "name": "stderr",
     "output_type": "stream",
     "text": [
      "      11/50      3.91G      1.402      2.857      1.068      1.269        514        640: 100%|██████████| 369/369 [12:29<00:00,  2.03s/it]\n",
      "                 Class     Images  Instances      Box(P          R      mAP50  mAP50-95)     Mask(P          R      mAP50  mAP50-95): 100%|██████████| 31/31 [00:51<00:00,  1.67s/it]\n"
     ]
    },
    {
     "name": "stdout",
     "output_type": "stream",
     "text": [
      "                   all        495      23219      0.665        0.5       0.54      0.344      0.601      0.435      0.444       0.24\n",
      "\u001b[34m\u001b[1mEarlyStopping: \u001b[0mTraining stopped early as no improvement observed in last 10 epochs. Best results observed at epoch 1, best model saved as best.pt.\n",
      "To update EarlyStopping(patience=10) pass a new patience value, i.e. `patience=300` or use `patience=0` to disable EarlyStopping.\n",
      "\n",
      "11 epochs completed in 2.518 hours.\n",
      "Optimizer stripped from runs\\segment\\train55\\weights\\last.pt, 54.8MB\n",
      "Optimizer stripped from runs\\segment\\train55\\weights\\best.pt, 54.8MB\n",
      "\n",
      "Validating runs\\segment\\train55\\weights\\best.pt...\n",
      "Ultralytics 8.3.55  Python-3.11.5 torch-2.6.0+cu126 CUDA:0 (NVIDIA GeForce RTX 4060 Laptop GPU, 8188MiB)\n",
      "YOLOv8m-seg summary (fused): 245 layers, 27,229,911 parameters, 0 gradients, 110.0 GFLOPs\n"
     ]
    },
    {
     "name": "stderr",
     "output_type": "stream",
     "text": [
      "                 Class     Images  Instances      Box(P          R      mAP50  mAP50-95)     Mask(P          R      mAP50  mAP50-95):   0%|          | 0/31 [00:00<?, ?it/s]"
     ]
    },
    {
     "name": "stdout",
     "output_type": "stream",
     "text": [
      "WARNING  Model does not support 'augment=True', reverting to single-scale prediction.\n"
     ]
    },
    {
     "name": "stderr",
     "output_type": "stream",
     "text": [
      "                 Class     Images  Instances      Box(P          R      mAP50  mAP50-95)     Mask(P          R      mAP50  mAP50-95):   3%|▎         | 1/31 [00:02<01:03,  2.13s/it]"
     ]
    },
    {
     "name": "stdout",
     "output_type": "stream",
     "text": [
      "WARNING  Model does not support 'augment=True', reverting to single-scale prediction.\n"
     ]
    },
    {
     "name": "stderr",
     "output_type": "stream",
     "text": [
      "                 Class     Images  Instances      Box(P          R      mAP50  mAP50-95)     Mask(P          R      mAP50  mAP50-95):   6%|▋         | 2/31 [00:04<01:00,  2.07s/it]"
     ]
    },
    {
     "name": "stdout",
     "output_type": "stream",
     "text": [
      "WARNING  Model does not support 'augment=True', reverting to single-scale prediction.\n"
     ]
    },
    {
     "name": "stderr",
     "output_type": "stream",
     "text": [
      "                 Class     Images  Instances      Box(P          R      mAP50  mAP50-95)     Mask(P          R      mAP50  mAP50-95):  10%|▉         | 3/31 [00:06<00:59,  2.14s/it]"
     ]
    },
    {
     "name": "stdout",
     "output_type": "stream",
     "text": [
      "WARNING  Model does not support 'augment=True', reverting to single-scale prediction.\n"
     ]
    },
    {
     "name": "stderr",
     "output_type": "stream",
     "text": [
      "                 Class     Images  Instances      Box(P          R      mAP50  mAP50-95)     Mask(P          R      mAP50  mAP50-95):  13%|█▎        | 4/31 [00:08<00:59,  2.19s/it]"
     ]
    },
    {
     "name": "stdout",
     "output_type": "stream",
     "text": [
      "WARNING  Model does not support 'augment=True', reverting to single-scale prediction.\n"
     ]
    },
    {
     "name": "stderr",
     "output_type": "stream",
     "text": [
      "                 Class     Images  Instances      Box(P          R      mAP50  mAP50-95)     Mask(P          R      mAP50  mAP50-95):  16%|█▌        | 5/31 [00:10<00:52,  2.02s/it]"
     ]
    },
    {
     "name": "stdout",
     "output_type": "stream",
     "text": [
      "WARNING  Model does not support 'augment=True', reverting to single-scale prediction.\n"
     ]
    },
    {
     "name": "stderr",
     "output_type": "stream",
     "text": [
      "                 Class     Images  Instances      Box(P          R      mAP50  mAP50-95)     Mask(P          R      mAP50  mAP50-95):  19%|█▉        | 6/31 [00:12<00:47,  1.91s/it]"
     ]
    },
    {
     "name": "stdout",
     "output_type": "stream",
     "text": [
      "WARNING  Model does not support 'augment=True', reverting to single-scale prediction.\n"
     ]
    },
    {
     "name": "stderr",
     "output_type": "stream",
     "text": [
      "                 Class     Images  Instances      Box(P          R      mAP50  mAP50-95)     Mask(P          R      mAP50  mAP50-95):  23%|██▎       | 7/31 [00:13<00:42,  1.78s/it]"
     ]
    },
    {
     "name": "stdout",
     "output_type": "stream",
     "text": [
      "WARNING  Model does not support 'augment=True', reverting to single-scale prediction.\n"
     ]
    },
    {
     "name": "stderr",
     "output_type": "stream",
     "text": [
      "                 Class     Images  Instances      Box(P          R      mAP50  mAP50-95)     Mask(P          R      mAP50  mAP50-95):  26%|██▌       | 8/31 [00:15<00:39,  1.73s/it]"
     ]
    },
    {
     "name": "stdout",
     "output_type": "stream",
     "text": [
      "WARNING  Model does not support 'augment=True', reverting to single-scale prediction.\n"
     ]
    },
    {
     "name": "stderr",
     "output_type": "stream",
     "text": [
      "                 Class     Images  Instances      Box(P          R      mAP50  mAP50-95)     Mask(P          R      mAP50  mAP50-95):  29%|██▉       | 9/31 [00:16<00:38,  1.73s/it]"
     ]
    },
    {
     "name": "stdout",
     "output_type": "stream",
     "text": [
      "WARNING  Model does not support 'augment=True', reverting to single-scale prediction.\n"
     ]
    },
    {
     "name": "stderr",
     "output_type": "stream",
     "text": [
      "                 Class     Images  Instances      Box(P          R      mAP50  mAP50-95)     Mask(P          R      mAP50  mAP50-95):  32%|███▏      | 10/31 [00:18<00:36,  1.73s/it]"
     ]
    },
    {
     "name": "stdout",
     "output_type": "stream",
     "text": [
      "WARNING  Model does not support 'augment=True', reverting to single-scale prediction.\n"
     ]
    },
    {
     "name": "stderr",
     "output_type": "stream",
     "text": [
      "                 Class     Images  Instances      Box(P          R      mAP50  mAP50-95)     Mask(P          R      mAP50  mAP50-95):  35%|███▌      | 11/31 [00:20<00:35,  1.76s/it]"
     ]
    },
    {
     "name": "stdout",
     "output_type": "stream",
     "text": [
      "WARNING  Model does not support 'augment=True', reverting to single-scale prediction.\n"
     ]
    },
    {
     "name": "stderr",
     "output_type": "stream",
     "text": [
      "                 Class     Images  Instances      Box(P          R      mAP50  mAP50-95)     Mask(P          R      mAP50  mAP50-95):  39%|███▊      | 12/31 [00:22<00:34,  1.81s/it]"
     ]
    },
    {
     "name": "stdout",
     "output_type": "stream",
     "text": [
      "WARNING  Model does not support 'augment=True', reverting to single-scale prediction.\n"
     ]
    },
    {
     "name": "stderr",
     "output_type": "stream",
     "text": [
      "                 Class     Images  Instances      Box(P          R      mAP50  mAP50-95)     Mask(P          R      mAP50  mAP50-95):  42%|████▏     | 13/31 [00:24<00:33,  1.89s/it]"
     ]
    },
    {
     "name": "stdout",
     "output_type": "stream",
     "text": [
      "WARNING  Model does not support 'augment=True', reverting to single-scale prediction.\n"
     ]
    },
    {
     "name": "stderr",
     "output_type": "stream",
     "text": [
      "                 Class     Images  Instances      Box(P          R      mAP50  mAP50-95)     Mask(P          R      mAP50  mAP50-95):  45%|████▌     | 14/31 [00:26<00:32,  1.92s/it]"
     ]
    },
    {
     "name": "stdout",
     "output_type": "stream",
     "text": [
      "WARNING  Model does not support 'augment=True', reverting to single-scale prediction.\n"
     ]
    },
    {
     "name": "stderr",
     "output_type": "stream",
     "text": [
      "                 Class     Images  Instances      Box(P          R      mAP50  mAP50-95)     Mask(P          R      mAP50  mAP50-95):  48%|████▊     | 15/31 [00:28<00:29,  1.87s/it]"
     ]
    },
    {
     "name": "stdout",
     "output_type": "stream",
     "text": [
      "WARNING  Model does not support 'augment=True', reverting to single-scale prediction.\n"
     ]
    },
    {
     "name": "stderr",
     "output_type": "stream",
     "text": [
      "                 Class     Images  Instances      Box(P          R      mAP50  mAP50-95)     Mask(P          R      mAP50  mAP50-95):  52%|█████▏    | 16/31 [00:30<00:29,  1.95s/it]"
     ]
    },
    {
     "name": "stdout",
     "output_type": "stream",
     "text": [
      "WARNING  Model does not support 'augment=True', reverting to single-scale prediction.\n"
     ]
    },
    {
     "name": "stderr",
     "output_type": "stream",
     "text": [
      "                 Class     Images  Instances      Box(P          R      mAP50  mAP50-95)     Mask(P          R      mAP50  mAP50-95):  55%|█████▍    | 17/31 [00:32<00:26,  1.90s/it]"
     ]
    },
    {
     "name": "stdout",
     "output_type": "stream",
     "text": [
      "WARNING  Model does not support 'augment=True', reverting to single-scale prediction.\n"
     ]
    },
    {
     "name": "stderr",
     "output_type": "stream",
     "text": [
      "                 Class     Images  Instances      Box(P          R      mAP50  mAP50-95)     Mask(P          R      mAP50  mAP50-95):  58%|█████▊    | 18/31 [00:34<00:24,  1.89s/it]"
     ]
    },
    {
     "name": "stdout",
     "output_type": "stream",
     "text": [
      "WARNING  Model does not support 'augment=True', reverting to single-scale prediction.\n"
     ]
    },
    {
     "name": "stderr",
     "output_type": "stream",
     "text": [
      "                 Class     Images  Instances      Box(P          R      mAP50  mAP50-95)     Mask(P          R      mAP50  mAP50-95):  61%|██████▏   | 19/31 [00:36<00:23,  1.92s/it]"
     ]
    },
    {
     "name": "stdout",
     "output_type": "stream",
     "text": [
      "WARNING  Model does not support 'augment=True', reverting to single-scale prediction.\n"
     ]
    },
    {
     "name": "stderr",
     "output_type": "stream",
     "text": [
      "                 Class     Images  Instances      Box(P          R      mAP50  mAP50-95)     Mask(P          R      mAP50  mAP50-95):  65%|██████▍   | 20/31 [00:37<00:20,  1.88s/it]"
     ]
    },
    {
     "name": "stdout",
     "output_type": "stream",
     "text": [
      "WARNING  Model does not support 'augment=True', reverting to single-scale prediction.\n"
     ]
    },
    {
     "name": "stderr",
     "output_type": "stream",
     "text": [
      "                 Class     Images  Instances      Box(P          R      mAP50  mAP50-95)     Mask(P          R      mAP50  mAP50-95):  68%|██████▊   | 21/31 [00:39<00:18,  1.87s/it]"
     ]
    },
    {
     "name": "stdout",
     "output_type": "stream",
     "text": [
      "WARNING  Model does not support 'augment=True', reverting to single-scale prediction.\n"
     ]
    },
    {
     "name": "stderr",
     "output_type": "stream",
     "text": [
      "                 Class     Images  Instances      Box(P          R      mAP50  mAP50-95)     Mask(P          R      mAP50  mAP50-95):  71%|███████   | 22/31 [00:41<00:16,  1.86s/it]"
     ]
    },
    {
     "name": "stdout",
     "output_type": "stream",
     "text": [
      "WARNING  Model does not support 'augment=True', reverting to single-scale prediction.\n"
     ]
    },
    {
     "name": "stderr",
     "output_type": "stream",
     "text": [
      "                 Class     Images  Instances      Box(P          R      mAP50  mAP50-95)     Mask(P          R      mAP50  mAP50-95):  74%|███████▍  | 23/31 [00:43<00:14,  1.84s/it]"
     ]
    },
    {
     "name": "stdout",
     "output_type": "stream",
     "text": [
      "WARNING  Model does not support 'augment=True', reverting to single-scale prediction.\n"
     ]
    },
    {
     "name": "stderr",
     "output_type": "stream",
     "text": [
      "                 Class     Images  Instances      Box(P          R      mAP50  mAP50-95)     Mask(P          R      mAP50  mAP50-95):  77%|███████▋  | 24/31 [00:45<00:12,  1.83s/it]"
     ]
    },
    {
     "name": "stdout",
     "output_type": "stream",
     "text": [
      "WARNING  Model does not support 'augment=True', reverting to single-scale prediction.\n"
     ]
    },
    {
     "name": "stderr",
     "output_type": "stream",
     "text": [
      "                 Class     Images  Instances      Box(P          R      mAP50  mAP50-95)     Mask(P          R      mAP50  mAP50-95):  81%|████████  | 25/31 [00:47<00:11,  1.87s/it]"
     ]
    },
    {
     "name": "stdout",
     "output_type": "stream",
     "text": [
      "WARNING  Model does not support 'augment=True', reverting to single-scale prediction.\n"
     ]
    },
    {
     "name": "stderr",
     "output_type": "stream",
     "text": [
      "                 Class     Images  Instances      Box(P          R      mAP50  mAP50-95)     Mask(P          R      mAP50  mAP50-95):  84%|████████▍ | 26/31 [00:48<00:09,  1.87s/it]"
     ]
    },
    {
     "name": "stdout",
     "output_type": "stream",
     "text": [
      "WARNING  Model does not support 'augment=True', reverting to single-scale prediction.\n"
     ]
    },
    {
     "name": "stderr",
     "output_type": "stream",
     "text": [
      "                 Class     Images  Instances      Box(P          R      mAP50  mAP50-95)     Mask(P          R      mAP50  mAP50-95):  87%|████████▋ | 27/31 [00:50<00:07,  1.84s/it]"
     ]
    },
    {
     "name": "stdout",
     "output_type": "stream",
     "text": [
      "WARNING  Model does not support 'augment=True', reverting to single-scale prediction.\n"
     ]
    },
    {
     "name": "stderr",
     "output_type": "stream",
     "text": [
      "                 Class     Images  Instances      Box(P          R      mAP50  mAP50-95)     Mask(P          R      mAP50  mAP50-95):  90%|█████████ | 28/31 [00:52<00:05,  1.84s/it]"
     ]
    },
    {
     "name": "stdout",
     "output_type": "stream",
     "text": [
      "WARNING  Model does not support 'augment=True', reverting to single-scale prediction.\n"
     ]
    },
    {
     "name": "stderr",
     "output_type": "stream",
     "text": [
      "                 Class     Images  Instances      Box(P          R      mAP50  mAP50-95)     Mask(P          R      mAP50  mAP50-95):  94%|█████████▎| 29/31 [00:54<00:03,  1.84s/it]"
     ]
    },
    {
     "name": "stdout",
     "output_type": "stream",
     "text": [
      "WARNING  Model does not support 'augment=True', reverting to single-scale prediction.\n"
     ]
    },
    {
     "name": "stderr",
     "output_type": "stream",
     "text": [
      "                 Class     Images  Instances      Box(P          R      mAP50  mAP50-95)     Mask(P          R      mAP50  mAP50-95):  97%|█████████▋| 30/31 [00:56<00:01,  1.83s/it]"
     ]
    },
    {
     "name": "stdout",
     "output_type": "stream",
     "text": [
      "WARNING  Model does not support 'augment=True', reverting to single-scale prediction.\n"
     ]
    },
    {
     "name": "stderr",
     "output_type": "stream",
     "text": [
      "                 Class     Images  Instances      Box(P          R      mAP50  mAP50-95)     Mask(P          R      mAP50  mAP50-95): 100%|██████████| 31/31 [00:57<00:00,  1.86s/it]\n"
     ]
    },
    {
     "name": "stdout",
     "output_type": "stream",
     "text": [
      "                   all        495      23219      0.682        0.5      0.547      0.351      0.624      0.439      0.452      0.244\n",
      "                person        399       3387      0.695      0.464       0.54      0.303      0.543      0.332      0.349       0.14\n",
      "                 rider        252        548      0.836      0.431      0.573       0.35      0.577      0.286      0.272     0.0851\n",
      "                   car        474       4638      0.809      0.648      0.725      0.489      0.656      0.498      0.536      0.271\n",
      "                 truck         79         92      0.535       0.37      0.419      0.307      0.557      0.359      0.395      0.239\n",
      "                   bus         75         98      0.705      0.561       0.65      0.503      0.714      0.561      0.616      0.388\n",
      "                 train         22         23      0.474      0.478      0.468      0.255      0.442      0.435       0.42      0.208\n",
      "            motorcycle         93        149      0.701      0.322      0.376      0.175      0.619      0.262      0.259     0.0729\n",
      "               bicycle        330       1165      0.737      0.335      0.449      0.234      0.681      0.277      0.312      0.106\n",
      "                  road        481        494      0.964       0.97      0.978      0.864      0.965      0.968      0.973      0.868\n",
      "              sidewalk        462       1205      0.635      0.441      0.481       0.28      0.657      0.412      0.442      0.223\n",
      "              building        486       1145      0.549      0.551      0.504      0.312      0.564       0.52      0.477      0.249\n",
      "                  pole        486       9801      0.577      0.164      0.211       0.09      0.507      0.123      0.179     0.0778\n",
      "                   sky        440        474      0.653      0.762      0.734      0.401      0.633      0.677      0.645       0.25\n",
      "Speed: 0.2ms preprocess, 8.4ms inference, 0.0ms loss, 2.3ms postprocess per image\n",
      "Results saved to \u001b[1mruns\\segment\\train55\u001b[0m\n"
     ]
    }
   ],
   "source": [
    "from gc import freeze\n",
    "import os\n",
    "os.environ['KMP_DUPLICATE_LIB_OK'] = 'TRUE'\n",
    "\n",
    "from ultralytics import YOLO\n",
    "\n",
    "# Cargar modelo\n",
    "model = YOLO('runs/segment/train52/weights/best.pt')\n",
    "results = model.train(\n",
    "    data='cityscapes.yaml',\n",
    "    epochs=50,        # Más épocas para mejor convergencia\n",
    "    imgsz=640,      # Mantener resolución alta\n",
    "    batch=8,         # Mantener batch size\n",
    "    workers=0,\n",
    "    pretrained=True,\n",
    "    freeze=10,\n",
    "    patience=10,\n",
    "    # Augmentaciones más agresivas para mejor generalización\n",
    "    flipud=0.3,\n",
    "    fliplr=0.5,\n",
    "    mosaic=0.8,      # Aumentar para más variedad\n",
    "    mixup=0.3,       # Aumentar para mejor robustez\n",
    "\n",
    "    # Ajustes de color más agresivos\n",
    "    hsv_h=0.015,     # Aumentar variación de tono\n",
    "    hsv_s=0.5,       # Aumentar saturación\n",
    "    hsv_v=0.4,       # Más variación de brillo\n",
    "\n",
    "    # Transformaciones geométricas más agresivas\n",
    "    degrees=30.0,    # Más rotación\n",
    "    translate=0.15,  # Más traslación\n",
    "    scale=0.5,      # Más escala\n",
    "    shear=7.0,      # Aumentar shear\n",
    "    perspective=0.0007, # Más perspectiva\n",
    "\n",
    "    # Otras configuraciones\n",
    "    copy_paste=0.3,  # Aumentar copy-paste\n",
    "    augment=True,\n",
    "\n",
    "    # Optimización ajustada\n",
    "    warmup_epochs=3,\n",
    "    warmup_momentum=0.85,\n",
    "    lr0=0.001,     # Learning rate más equilibrado\n",
    "    lrf=0.0001,    # Learning rate final ajustado\n",
    "    weight_decay=0.0004,  # Más regularización\n",
    "\n",
    "    # Nuevas configuraciones\n",
    "    label_smoothing=0.1,  # Añadir label smoothing\n",
    "    overlap_mask=True,    # Mejorar máscaras\n",
    "    mask_ratio=4,        # Ajustar ratio de máscara\n",
    "    dropout=0.2          # Añadir dropout\n",
    ")"
   ]
  },
  {
   "cell_type": "code",
   "execution_count": 1,
   "metadata": {},
   "outputs": [
    {
     "ename": "NameError",
     "evalue": "name 'model' is not defined",
     "output_type": "error",
     "traceback": [
      "\u001b[1;31m---------------------------------------------------------------------------\u001b[0m",
      "\u001b[1;31mNameError\u001b[0m                                 Traceback (most recent call last)",
      "Cell \u001b[1;32mIn[1], line 1\u001b[0m\n\u001b[1;32m----> 1\u001b[0m results \u001b[38;5;241m=\u001b[39m \u001b[43mmodel\u001b[49m\u001b[38;5;241m.\u001b[39mtrain(\n\u001b[0;32m      2\u001b[0m     data\u001b[38;5;241m=\u001b[39m\u001b[38;5;124m'\u001b[39m\u001b[38;5;124mcityscapes.yaml\u001b[39m\u001b[38;5;124m'\u001b[39m,               \u001b[38;5;66;03m# Ruta al archivo de configuración de datos\u001b[39;00m\n\u001b[0;32m      3\u001b[0m     pretrained\u001b[38;5;241m=\u001b[39m\u001b[38;5;28;01mTrue\u001b[39;00m,                \u001b[38;5;66;03m# Usar modelo preentrenado\u001b[39;00m\n\u001b[0;32m      4\u001b[0m     freeze\u001b[38;5;241m=\u001b[39m\u001b[38;5;241m0\u001b[39m,\n\u001b[0;32m      5\u001b[0m     epochs\u001b[38;5;241m=\u001b[39m\u001b[38;5;241m30\u001b[39m,                      \u001b[38;5;66;03m# Número de épocas para el ajuste fino\u001b[39;00m\n\u001b[0;32m      6\u001b[0m     batch\u001b[38;5;241m=\u001b[39m\u001b[38;5;241m8\u001b[39m,                        \u001b[38;5;66;03m# Tamaño de batch\u001b[39;00m\n\u001b[0;32m      7\u001b[0m     imgsz\u001b[38;5;241m=\u001b[39m\u001b[38;5;241m640\u001b[39m,                      \u001b[38;5;66;03m# Tamaño de imagen\u001b[39;00m\n\u001b[0;32m      8\u001b[0m     device\u001b[38;5;241m=\u001b[39m\u001b[38;5;124m'\u001b[39m\u001b[38;5;124mcuda\u001b[39m\u001b[38;5;124m'\u001b[39m,                  \u001b[38;5;66;03m# Dispositivo para entrenamiento\u001b[39;00m\n\u001b[0;32m      9\u001b[0m     optimizer\u001b[38;5;241m=\u001b[39m\u001b[38;5;124m'\u001b[39m\u001b[38;5;124mAdamW\u001b[39m\u001b[38;5;124m'\u001b[39m,              \u001b[38;5;66;03m# Usar AdamW como optimizador\u001b[39;00m\n\u001b[0;32m     10\u001b[0m     lr0\u001b[38;5;241m=\u001b[39m\u001b[38;5;241m1e-8\u001b[39m,                    \u001b[38;5;66;03m# Learning rate inicial\u001b[39;00m\n\u001b[0;32m     11\u001b[0m     lrf\u001b[38;5;241m=\u001b[39m\u001b[38;5;241m0.01221\u001b[39m,                    \u001b[38;5;66;03m# Learning rate final (ajustado con scheduler)\u001b[39;00m\n\u001b[0;32m     12\u001b[0m     momentum\u001b[38;5;241m=\u001b[39m\u001b[38;5;241m0.86519\u001b[39m,               \u001b[38;5;66;03m# Momentum\u001b[39;00m\n\u001b[0;32m     13\u001b[0m     weight_decay\u001b[38;5;241m=\u001b[39m\u001b[38;5;241m0.00045\u001b[39m,           \u001b[38;5;66;03m# Regularización L2\u001b[39;00m\n\u001b[0;32m     14\u001b[0m     warmup_epochs\u001b[38;5;241m=\u001b[39m\u001b[38;5;241m5.0\u001b[39m,              \u001b[38;5;66;03m# Warmup epochs\u001b[39;00m\n\u001b[0;32m     15\u001b[0m     warmup_momentum\u001b[38;5;241m=\u001b[39m\u001b[38;5;241m0.80406\u001b[39m,        \u001b[38;5;66;03m# Warmup momentum\u001b[39;00m\n\u001b[0;32m     16\u001b[0m     box\u001b[38;5;241m=\u001b[39m\u001b[38;5;241m5.59591\u001b[39m,                    \u001b[38;5;66;03m# Box loss gain\u001b[39;00m\n\u001b[0;32m     17\u001b[0m     \u001b[38;5;28mcls\u001b[39m\u001b[38;5;241m=\u001b[39m\u001b[38;5;241m0.76484\u001b[39m,                    \u001b[38;5;66;03m# CLS loss gain\u001b[39;00m\n\u001b[0;32m     18\u001b[0m     dfl\u001b[38;5;241m=\u001b[39m\u001b[38;5;241m2.14151\u001b[39m,                    \u001b[38;5;66;03m# DFL loss gain\u001b[39;00m\n\u001b[0;32m     19\u001b[0m     hsv_h\u001b[38;5;241m=\u001b[39m\u001b[38;5;241m0.0\u001b[39m,                  \u001b[38;5;66;03m# HSV-Hue augmentation\u001b[39;00m\n\u001b[0;32m     20\u001b[0m     hsv_s\u001b[38;5;241m=\u001b[39m\u001b[38;5;241m0.0\u001b[39m,                  \u001b[38;5;66;03m# HSV-Saturation augmentation\u001b[39;00m\n\u001b[0;32m     21\u001b[0m     hsv_v\u001b[38;5;241m=\u001b[39m\u001b[38;5;241m0.0\u001b[39m,                  \u001b[38;5;66;03m# HSV-Value augmentation\u001b[39;00m\n\u001b[0;32m     22\u001b[0m     degrees\u001b[38;5;241m=\u001b[39m\u001b[38;5;241m0.0\u001b[39m,                    \u001b[38;5;66;03m# Desactivar rotación\u001b[39;00m\n\u001b[0;32m     23\u001b[0m     translate\u001b[38;5;241m=\u001b[39m\u001b[38;5;241m0.00\u001b[39m,              \u001b[38;5;66;03m# Traslación\u001b[39;00m\n\u001b[0;32m     24\u001b[0m     scale\u001b[38;5;241m=\u001b[39m\u001b[38;5;241m0.0\u001b[39m,                  \u001b[38;5;66;03m# Escalado\u001b[39;00m\n\u001b[0;32m     25\u001b[0m     shear\u001b[38;5;241m=\u001b[39m\u001b[38;5;241m0.0\u001b[39m,                      \u001b[38;5;66;03m# Desactivar shear\u001b[39;00m\n\u001b[0;32m     26\u001b[0m     perspective\u001b[38;5;241m=\u001b[39m\u001b[38;5;241m0.0\u001b[39m,                \u001b[38;5;66;03m# Desactivar perspectiva\u001b[39;00m\n\u001b[0;32m     27\u001b[0m     flipud\u001b[38;5;241m=\u001b[39m\u001b[38;5;241m0.0\u001b[39m,                     \u001b[38;5;66;03m# Desactivar flip up-down\u001b[39;00m\n\u001b[0;32m     28\u001b[0m     fliplr\u001b[38;5;241m=\u001b[39m\u001b[38;5;241m0\u001b[39m,                 \u001b[38;5;66;03m# Flip left-right\u001b[39;00m\n\u001b[0;32m     29\u001b[0m     bgr\u001b[38;5;241m=\u001b[39m\u001b[38;5;241m0.0\u001b[39m,                        \u001b[38;5;66;03m# Desactivar cambio de canal BGR\u001b[39;00m\n\u001b[0;32m     30\u001b[0m     mosaic\u001b[38;5;241m=\u001b[39m\u001b[38;5;241m1\u001b[39m,                 \u001b[38;5;66;03m# Mosaic augmentation\u001b[39;00m\n\u001b[0;32m     31\u001b[0m     mixup\u001b[38;5;241m=\u001b[39m\u001b[38;5;241m0.0\u001b[39m,                      \u001b[38;5;66;03m# Desactivar mixup\u001b[39;00m\n\u001b[0;32m     32\u001b[0m     copy_paste\u001b[38;5;241m=\u001b[39m\u001b[38;5;241m0.0\u001b[39m,                 \u001b[38;5;66;03m# Desactivar copy-paste\u001b[39;00m\n\u001b[0;32m     33\u001b[0m     \u001b[38;5;66;03m#auto_augment='',                # Desactivar auto-augment\u001b[39;00m\n\u001b[0;32m     34\u001b[0m     erasing\u001b[38;5;241m=\u001b[39m\u001b[38;5;241m0.0\u001b[39m,                    \u001b[38;5;66;03m# Desactivar erasing\u001b[39;00m\n\u001b[0;32m     35\u001b[0m     save\u001b[38;5;241m=\u001b[39m\u001b[38;5;28;01mTrue\u001b[39;00m,                      \u001b[38;5;66;03m# Guardar el modelo     \u001b[39;00m\n\u001b[0;32m     36\u001b[0m     val\u001b[38;5;241m=\u001b[39m\u001b[38;5;28;01mTrue\u001b[39;00m,                      \u001b[38;5;66;03m# Desactivar validación\u001b[39;00m\n\u001b[0;32m     37\u001b[0m     \u001b[38;5;66;03m#close_mosaic=20,                 # Desactiva el mosaico\u001b[39;00m\n\u001b[0;32m     38\u001b[0m     patience\u001b[38;5;241m=\u001b[39m\u001b[38;5;241m17\u001b[39m                     \u001b[38;5;66;03m# Detener si no hay mejora después de 10 épocas\u001b[39;00m\n\u001b[0;32m     39\u001b[0m )\n",
      "\u001b[1;31mNameError\u001b[0m: name 'model' is not defined"
     ]
    }
   ],
   "source": [
    "results = model.train(\n",
    "    data='cityscapes.yaml',               # Ruta al archivo de configuración de datos\n",
    "    pretrained=True,                # Usar modelo preentrenado\n",
    "    freeze=0,\n",
    "    epochs=30,                      # Número de épocas para el ajuste fino\n",
    "    batch=8,                        # Tamaño de batch\n",
    "    imgsz=640,                      # Tamaño de imagen\n",
    "    device='cuda',                  # Dispositivo para entrenamiento\n",
    "    optimizer='AdamW',              # Usar AdamW como optimizador\n",
    "    lr0=1e-8,                    # Learning rate inicial\n",
    "    lrf=0.01221,                    # Learning rate final (ajustado con scheduler)\n",
    "    momentum=0.86519,               # Momentum\n",
    "    weight_decay=0.00045,           # Regularización L2\n",
    "    warmup_epochs=5.0,              # Warmup epochs\n",
    "    warmup_momentum=0.80406,        # Warmup momentum\n",
    "    box=5.59591,                    # Box loss gain\n",
    "    cls=0.76484,                    # CLS loss gain\n",
    "    dfl=2.14151,                    # DFL loss gain\n",
    "    hsv_h=0.0,                  # HSV-Hue augmentation\n",
    "    hsv_s=0.0,                  # HSV-Saturation augmentation\n",
    "    hsv_v=0.0,                  # HSV-Value augmentation\n",
    "    degrees=0.0,                    # Desactivar rotación\n",
    "    translate=0.00,              # Traslación\n",
    "    scale=0.0,                  # Escalado\n",
    "    shear=0.0,                      # Desactivar shear\n",
    "    perspective=0.0,                # Desactivar perspectiva\n",
    "    flipud=0.0,                     # Desactivar flip up-down\n",
    "    fliplr=0,                 # Flip left-right\n",
    "    bgr=0.0,                        # Desactivar cambio de canal BGR\n",
    "    mosaic=1,                 # Mosaic augmentation\n",
    "    mixup=0.0,                      # Desactivar mixup\n",
    "    copy_paste=0.0,                 # Desactivar copy-paste\n",
    "    #auto_augment='',                # Desactivar auto-augment\n",
    "    erasing=0.0,                    # Desactivar erasing\n",
    "    save=True,                      # Guardar el modelo     \n",
    "    val=True,                      # Desactivar validación\n",
    "    #close_mosaic=20,                 # Desactiva el mosaico\n",
    "    patience=17                     # Detener si no hay mejora después de 10 épocas\n",
    ")"
   ]
  },
  {
   "cell_type": "code",
   "execution_count": 1,
   "metadata": {},
   "outputs": [
    {
     "name": "stdout",
     "output_type": "stream",
     "text": [
      "New https://pypi.org/project/ultralytics/8.3.134 available  Update with 'pip install -U ultralytics'\n",
      "Ultralytics 8.3.55  Python-3.11.5 torch-2.6.0+cu126 CUDA:0 (NVIDIA GeForce RTX 4060 Laptop GPU, 8188MiB)\n",
      "\u001b[34m\u001b[1mengine\\trainer: \u001b[0mtask=segment, mode=train, model=runs/segment/train21/weights/best.pt, data=cityscapes.yaml, epochs=50, time=None, patience=100, batch=8, imgsz=1024, save=True, save_period=-1, cache=False, device=None, workers=0, project=runs/segment, name=train22_nomosaic3, exist_ok=False, pretrained=True, optimizer=AdamW, verbose=True, seed=0, deterministic=True, single_cls=False, rect=False, cos_lr=True, close_mosaic=10, resume=False, amp=True, fraction=1.0, profile=False, freeze=None, multi_scale=False, overlap_mask=True, mask_ratio=4, dropout=0.1, val=True, split=val, save_json=False, save_hybrid=False, conf=None, iou=0.7, max_det=300, half=False, dnn=False, plots=True, source=None, vid_stride=1, stream_buffer=False, visualize=False, augment=True, agnostic_nms=False, classes=None, retina_masks=False, embed=None, show=False, save_frames=False, save_txt=False, save_conf=False, save_crop=False, show_labels=True, show_conf=True, show_boxes=True, line_width=None, format=torchscript, keras=False, optimize=False, int8=False, dynamic=False, simplify=True, opset=None, workspace=None, nms=False, lr0=0.0006, lrf=6e-05, momentum=0.937, weight_decay=0.0004, warmup_epochs=3, warmup_momentum=0.85, warmup_bias_lr=0.1, box=7.5, cls=0.5, dfl=1.5, pose=12.0, kobj=1.0, nbs=64, hsv_h=0.012, hsv_s=0.45, hsv_v=0.35, degrees=27.0, translate=0.12, scale=0.45, shear=6.0, perspective=0.0006, flipud=0.3, fliplr=0.5, bgr=0.0, mosaic=0.0, mixup=0.25, copy_paste=0.25, copy_paste_mode=flip, auto_augment=randaugment, erasing=0.4, crop_fraction=1.0, cfg=None, tracker=botsort.yaml, save_dir=runs\\segment\\train22_nomosaic3\n",
      "\n",
      "                   from  n    params  module                                       arguments                     \n",
      "  0                  -1  1       464  ultralytics.nn.modules.conv.Conv             [3, 16, 3, 2]                 \n",
      "  1                  -1  1      4672  ultralytics.nn.modules.conv.Conv             [16, 32, 3, 2]                \n",
      "  2                  -1  1      7360  ultralytics.nn.modules.block.C2f             [32, 32, 1, True]             \n",
      "  3                  -1  1     18560  ultralytics.nn.modules.conv.Conv             [32, 64, 3, 2]                \n",
      "  4                  -1  2     49664  ultralytics.nn.modules.block.C2f             [64, 64, 2, True]             \n",
      "  5                  -1  1     73984  ultralytics.nn.modules.conv.Conv             [64, 128, 3, 2]               \n",
      "  6                  -1  2    197632  ultralytics.nn.modules.block.C2f             [128, 128, 2, True]           \n",
      "  7                  -1  1    295424  ultralytics.nn.modules.conv.Conv             [128, 256, 3, 2]              \n",
      "  8                  -1  1    460288  ultralytics.nn.modules.block.C2f             [256, 256, 1, True]           \n",
      "  9                  -1  1    164608  ultralytics.nn.modules.block.SPPF            [256, 256, 5]                 \n",
      " 10                  -1  1         0  torch.nn.modules.upsampling.Upsample         [None, 2, 'nearest']          \n",
      " 11             [-1, 6]  1         0  ultralytics.nn.modules.conv.Concat           [1]                           \n",
      " 12                  -1  1    148224  ultralytics.nn.modules.block.C2f             [384, 128, 1]                 \n",
      " 13                  -1  1         0  torch.nn.modules.upsampling.Upsample         [None, 2, 'nearest']          \n",
      " 14             [-1, 4]  1         0  ultralytics.nn.modules.conv.Concat           [1]                           \n",
      " 15                  -1  1     37248  ultralytics.nn.modules.block.C2f             [192, 64, 1]                  \n",
      " 16                  -1  1     36992  ultralytics.nn.modules.conv.Conv             [64, 64, 3, 2]                \n",
      " 17            [-1, 12]  1         0  ultralytics.nn.modules.conv.Concat           [1]                           \n",
      " 18                  -1  1    123648  ultralytics.nn.modules.block.C2f             [192, 128, 1]                 \n",
      " 19                  -1  1    147712  ultralytics.nn.modules.conv.Conv             [128, 128, 3, 2]              \n",
      " 20             [-1, 9]  1         0  ultralytics.nn.modules.conv.Concat           [1]                           \n",
      " 21                  -1  1    493056  ultralytics.nn.modules.block.C2f             [384, 256, 1]                 \n",
      " 22        [15, 18, 21]  1   1006615  ultralytics.nn.modules.head.Segment          [13, 32, 64, [64, 128, 256]]  \n",
      "YOLOv8n-seg summary: 261 layers, 3,266,151 parameters, 3,266,135 gradients, 12.1 GFLOPs\n",
      "\n",
      "Transferred 417/417 items from pretrained weights\n",
      "Freezing layer 'model.22.dfl.conv.weight'\n",
      "\u001b[34m\u001b[1mAMP: \u001b[0mrunning Automatic Mixed Precision (AMP) checks...\n",
      "\u001b[34m\u001b[1mAMP: \u001b[0mchecks passed \n"
     ]
    },
    {
     "name": "stderr",
     "output_type": "stream",
     "text": [
      "\u001b[34m\u001b[1mtrain: \u001b[0mScanning C:\\Users\\aaron\\Documents\\Año4\\TFG\\CityScapesWithPanopticSegm\\dataset\\labels\\train.cache... 2975 images, 649 backgrounds, 0 corrupt: 100%|██████████| 2975/2975 [00:00<?, ?it/s]"
     ]
    },
    {
     "name": "stdout",
     "output_type": "stream",
     "text": [
      "\u001b[34m\u001b[1mtrain: \u001b[0mWARNING  C:\\Users\\aaron\\Documents\\Ao4\\TFG\\CityScapesWithPanopticSegm\\dataset\\images\\train\\aachen_000031_000019_gtFine_polygons.png: 1 duplicate labels removed\n",
      "\u001b[34m\u001b[1mtrain: \u001b[0mWARNING  C:\\Users\\aaron\\Documents\\Ao4\\TFG\\CityScapesWithPanopticSegm\\dataset\\images\\train\\aachen_000042_000019_gtFine_polygons.png: 1 duplicate labels removed\n",
      "\u001b[34m\u001b[1mtrain: \u001b[0mWARNING  C:\\Users\\aaron\\Documents\\Ao4\\TFG\\CityScapesWithPanopticSegm\\dataset\\images\\train\\aachen_000064_000019_gtFine_polygons.png: 1 duplicate labels removed\n",
      "\u001b[34m\u001b[1mtrain: \u001b[0mWARNING  C:\\Users\\aaron\\Documents\\Ao4\\TFG\\CityScapesWithPanopticSegm\\dataset\\images\\train\\aachen_000090_000019_gtFine_polygons.png: 2 duplicate labels removed\n",
      "\u001b[34m\u001b[1mtrain: \u001b[0mWARNING  C:\\Users\\aaron\\Documents\\Ao4\\TFG\\CityScapesWithPanopticSegm\\dataset\\images\\train\\aachen_000092_000019_gtFine_polygons.png: 1 duplicate labels removed\n",
      "\u001b[34m\u001b[1mtrain: \u001b[0mWARNING  C:\\Users\\aaron\\Documents\\Ao4\\TFG\\CityScapesWithPanopticSegm\\dataset\\images\\train\\aachen_000098_000019_gtFine_polygons.png: 2 duplicate labels removed\n",
      "\u001b[34m\u001b[1mtrain: \u001b[0mWARNING  C:\\Users\\aaron\\Documents\\Ao4\\TFG\\CityScapesWithPanopticSegm\\dataset\\images\\train\\darmstadt_000046_000019_gtFine_polygons.png: 1 duplicate labels removed\n",
      "\u001b[34m\u001b[1mtrain: \u001b[0mWARNING  C:\\Users\\aaron\\Documents\\Ao4\\TFG\\CityScapesWithPanopticSegm\\dataset\\images\\train\\hamburg_000000_032906_gtFine_polygons.png: 1 duplicate labels removed\n",
      "\u001b[34m\u001b[1mtrain: \u001b[0mWARNING  C:\\Users\\aaron\\Documents\\Ao4\\TFG\\CityScapesWithPanopticSegm\\dataset\\images\\train\\hamburg_000000_033506_gtFine_polygons.png: 1 duplicate labels removed\n",
      "\u001b[34m\u001b[1mtrain: \u001b[0mWARNING  C:\\Users\\aaron\\Documents\\Ao4\\TFG\\CityScapesWithPanopticSegm\\dataset\\images\\train\\hamburg_000000_039420_gtFine_polygons.png: 1 duplicate labels removed\n",
      "\u001b[34m\u001b[1mtrain: \u001b[0mWARNING  C:\\Users\\aaron\\Documents\\Ao4\\TFG\\CityScapesWithPanopticSegm\\dataset\\images\\train\\hamburg_000000_053886_gtFine_polygons.png: 1 duplicate labels removed\n",
      "\u001b[34m\u001b[1mtrain: \u001b[0mWARNING  C:\\Users\\aaron\\Documents\\Ao4\\TFG\\CityScapesWithPanopticSegm\\dataset\\images\\train\\hanover_000000_019456_gtFine_polygons.png: 1 duplicate labels removed\n",
      "\u001b[34m\u001b[1mtrain: \u001b[0mWARNING  C:\\Users\\aaron\\Documents\\Ao4\\TFG\\CityScapesWithPanopticSegm\\dataset\\images\\train\\strasbourg_000001_051317_gtFine_polygons.png: 1 duplicate labels removed\n",
      "\u001b[34m\u001b[1mtrain: \u001b[0mWARNING  C:\\Users\\aaron\\Documents\\Ao4\\TFG\\CityScapesWithPanopticSegm\\dataset\\images\\train\\strasbourg_000001_052050_gtFine_polygons.png: 1 duplicate labels removed\n",
      "\u001b[34m\u001b[1mtrain: \u001b[0mWARNING  C:\\Users\\aaron\\Documents\\Ao4\\TFG\\CityScapesWithPanopticSegm\\dataset\\images\\train\\stuttgart_000109_000019_gtFine_polygons.png: 1 duplicate labels removed\n"
     ]
    },
    {
     "name": "stderr",
     "output_type": "stream",
     "text": [
      "\n",
      "\u001b[34m\u001b[1mval: \u001b[0mScanning C:\\Users\\aaron\\Documents\\Año4\\TFG\\CityScapesWithPanopticSegm\\dataset\\labels\\val.cache... 500 images, 98 backgrounds, 0 corrupt: 100%|██████████| 500/500 [00:00<?, ?it/s]"
     ]
    },
    {
     "name": "stdout",
     "output_type": "stream",
     "text": [
      "\u001b[34m\u001b[1mval: \u001b[0mWARNING  C:\\Users\\aaron\\Documents\\Ao4\\TFG\\CityScapesWithPanopticSegm\\dataset\\images\\val\\frankfurt_000001_016273_gtFine_polygons.png: 1 duplicate labels removed\n",
      "\u001b[34m\u001b[1mval: \u001b[0mWARNING  C:\\Users\\aaron\\Documents\\Ao4\\TFG\\CityScapesWithPanopticSegm\\dataset\\images\\val\\frankfurt_000001_017101_gtFine_polygons.png: 1 duplicate labels removed\n",
      "\u001b[34m\u001b[1mval: \u001b[0mWARNING  C:\\Users\\aaron\\Documents\\Ao4\\TFG\\CityScapesWithPanopticSegm\\dataset\\images\\val\\frankfurt_000001_077434_gtFine_polygons.png: 1 duplicate labels removed\n",
      "\u001b[34m\u001b[1mval: \u001b[0mWARNING  C:\\Users\\aaron\\Documents\\Ao4\\TFG\\CityScapesWithPanopticSegm\\dataset\\images\\val\\munster_000026_000019_gtFine_polygons.png: 1 duplicate labels removed\n"
     ]
    },
    {
     "name": "stderr",
     "output_type": "stream",
     "text": [
      "\n"
     ]
    },
    {
     "name": "stdout",
     "output_type": "stream",
     "text": [
      "Plotting labels to runs\\segment\\train22_nomosaic3\\labels.jpg... \n",
      "\u001b[34m\u001b[1moptimizer:\u001b[0m AdamW(lr=0.0006, momentum=0.937) with parameter groups 66 weight(decay=0.0), 77 weight(decay=0.0004), 76 bias(decay=0.0)\n",
      "Image sizes 1024 train, 1024 val\n",
      "Using 0 dataloader workers\n",
      "Logging results to \u001b[1mruns\\segment\\train22_nomosaic3\u001b[0m\n",
      "Starting training for 50 epochs...\n",
      "\n",
      "      Epoch    GPU_mem   box_loss   seg_loss   cls_loss   dfl_loss  Instances       Size\n"
     ]
    },
    {
     "name": "stderr",
     "output_type": "stream",
     "text": [
      "  0%|          | 0/372 [00:00<?, ?it/s]"
     ]
    },
    {
     "ename": "",
     "evalue": "",
     "output_type": "error",
     "traceback": [
      "\u001b[1;31mThe Kernel crashed while executing code in the current cell or a previous cell. \n",
      "\u001b[1;31mPlease review the code in the cell(s) to identify a possible cause of the failure. \n",
      "\u001b[1;31mClick <a href='https://aka.ms/vscodeJupyterKernelCrash'>here</a> for more info. \n",
      "\u001b[1;31mView Jupyter <a href='command:jupyter.viewOutput'>log</a> for further details."
     ]
    }
   ],
   "source": [
    "from ultralytics import YOLO\n",
    "\n",
    "# Cargar el modelo preentrenado\n",
    "model = YOLO('runs/segment/train21/weights/best.pt')\n",
    "\n",
    "# Entrenamiento con los mismos parámetros pero sin mosaic\n",
    "model.train(\n",
    "    data='cityscapes.yaml',\n",
    "    epochs=50,\n",
    "    batch=8,\n",
    "    imgsz=1024,\n",
    "    save=True,\n",
    "    save_period=-1,\n",
    "    cache=False,\n",
    "    device=None,\n",
    "    workers=0,\n",
    "    project='runs/segment',\n",
    "    name='train22_nomosaic',\n",
    "    exist_ok=False,\n",
    "    pretrained=True,\n",
    "    optimizer='AdamW',\n",
    "    verbose=True,\n",
    "    seed=0,\n",
    "    deterministic=True,\n",
    "    single_cls=False,\n",
    "    rect=False,\n",
    "    cos_lr=True,\n",
    "    close_mosaic=10,\n",
    "    resume=False,\n",
    "    amp=True,\n",
    "    fraction=1.0,\n",
    "    profile=False,\n",
    "    freeze=None,\n",
    "    multi_scale=False,\n",
    "    overlap_mask=True,\n",
    "    mask_ratio=4,\n",
    "    dropout=0.1,\n",
    "    val=True,\n",
    "    split='val',\n",
    "    save_json=False,\n",
    "    save_hybrid=False,\n",
    "    conf=None,\n",
    "    iou=0.7,\n",
    "    max_det=300,\n",
    "    half=False,\n",
    "    dnn=False,\n",
    "    plots=True,\n",
    "    source=None,\n",
    "    vid_stride=1,\n",
    "    stream_buffer=False,\n",
    "    visualize=False,\n",
    "    augment=True,\n",
    "    agnostic_nms=False,\n",
    "    classes=None,\n",
    "    retina_masks=False,\n",
    "    embed=None,\n",
    "    show=False,\n",
    "    save_frames=False,\n",
    "    save_txt=False,\n",
    "    save_conf=False,\n",
    "    save_crop=False,\n",
    "    show_labels=True,\n",
    "    show_conf=True,\n",
    "    show_boxes=True,\n",
    "    line_width=None,\n",
    "    format='torchscript',\n",
    "    keras=False,\n",
    "    optimize=False,\n",
    "    int8=False,\n",
    "    dynamic=False,\n",
    "    simplify=True,\n",
    "    opset=None,\n",
    "    workspace=None,\n",
    "    nms=False,\n",
    "    lr0=0.0006,\n",
    "    lrf=6e-5,\n",
    "    momentum=0.937,\n",
    "    weight_decay=0.0004,\n",
    "    warmup_epochs=3,\n",
    "    warmup_momentum=0.85,\n",
    "    warmup_bias_lr=0.1,\n",
    "    box=7.5,\n",
    "    cls=0.5,\n",
    "    dfl=1.5,\n",
    "    pose=12.0,\n",
    "    kobj=1.0,\n",
    "    nbs=64,\n",
    "    hsv_h=0.012,\n",
    "    hsv_s=0.45,\n",
    "    hsv_v=0.35,\n",
    "    degrees=27.0,\n",
    "    translate=0.12,\n",
    "    scale=0.45,\n",
    "    shear=6.0,\n",
    "    perspective=0.0006,\n",
    "    flipud=0.3,\n",
    "    fliplr=0.5,\n",
    "    bgr=0.0,\n",
    "    mosaic=0.0,  # <- Mosaic desactivado\n",
    "    mixup=0.25,\n",
    "    copy_paste=0.25,\n",
    "    copy_paste_mode='flip',\n",
    "    auto_augment='randaugment',\n",
    "    erasing=0.4,\n",
    "    crop_fraction=1.0,\n",
    "    tracker='botsort.yaml',\n",
    ")\n"
   ]
  }
 ],
 "metadata": {
  "kernelspec": {
   "display_name": "ia2023",
   "language": "python",
   "name": "ia2023"
  },
  "language_info": {
   "codemirror_mode": {
    "name": "ipython",
    "version": 3
   },
   "file_extension": ".py",
   "mimetype": "text/x-python",
   "name": "python",
   "nbconvert_exporter": "python",
   "pygments_lexer": "ipython3",
   "version": "3.11.5"
  }
 },
 "nbformat": 4,
 "nbformat_minor": 2
}
