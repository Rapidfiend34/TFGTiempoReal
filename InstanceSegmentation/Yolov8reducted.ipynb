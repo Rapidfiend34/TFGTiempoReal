{
 "cells": [
  {
   "cell_type": "code",
   "execution_count": 1,
   "metadata": {},
   "outputs": [
    {
     "name": "stdout",
     "output_type": "stream",
     "text": [
      "New https://pypi.org/project/ultralytics/8.3.109 available  Update with 'pip install -U ultralytics'\n",
      "Ultralytics 8.3.55  Python-3.11.5 torch-2.6.0+cu126 CUDA:0 (NVIDIA GeForce RTX 4060 Laptop GPU, 8188MiB)\n",
      "\u001b[34m\u001b[1mengine\\trainer: \u001b[0mtask=segment, mode=train, model=runs/segment/train63/weights/best.pt, data=cityscapes.yaml, epochs=30, time=None, patience=17, batch=8, imgsz=640, save=True, save_period=-1, cache=False, device=cuda, workers=8, project=None, name=train66, exist_ok=False, pretrained=True, optimizer=AdamW, verbose=True, seed=0, deterministic=True, single_cls=False, rect=False, cos_lr=False, close_mosaic=10, resume=False, amp=True, fraction=1.0, profile=False, freeze=0, multi_scale=False, overlap_mask=True, mask_ratio=4, dropout=0.0, val=True, split=val, save_json=False, save_hybrid=False, conf=None, iou=0.7, max_det=300, half=False, dnn=False, plots=True, source=None, vid_stride=1, stream_buffer=False, visualize=False, augment=False, agnostic_nms=False, classes=None, retina_masks=False, embed=None, show=False, save_frames=False, save_txt=False, save_conf=False, save_crop=False, show_labels=True, show_conf=True, show_boxes=True, line_width=None, format=torchscript, keras=False, optimize=False, int8=False, dynamic=False, simplify=True, opset=None, workspace=None, nms=False, lr0=1e-08, lrf=0.01221, momentum=0.86519, weight_decay=0.00045, warmup_epochs=5.0, warmup_momentum=0.80406, warmup_bias_lr=0.1, box=5.59591, cls=0.76484, dfl=2.14151, pose=12.0, kobj=1.0, nbs=64, hsv_h=0.0, hsv_s=0.0, hsv_v=0.0, degrees=0.0, translate=0.0, scale=0.0, shear=0.0, perspective=0.0, flipud=0.0, fliplr=0, bgr=0.0, mosaic=1, mixup=0.0, copy_paste=0.0, copy_paste_mode=flip, auto_augment=randaugment, erasing=0.0, crop_fraction=1.0, cfg=None, tracker=botsort.yaml, save_dir=runs\\segment\\train66\n",
      "\n",
      "                   from  n    params  module                                       arguments                     \n",
      "  0                  -1  1       464  ultralytics.nn.modules.conv.Conv             [3, 16, 3, 2]                 \n",
      "  1                  -1  1      4672  ultralytics.nn.modules.conv.Conv             [16, 32, 3, 2]                \n",
      "  2                  -1  1      7360  ultralytics.nn.modules.block.C2f             [32, 32, 1, True]             \n",
      "  3                  -1  1     18560  ultralytics.nn.modules.conv.Conv             [32, 64, 3, 2]                \n",
      "  4                  -1  2     49664  ultralytics.nn.modules.block.C2f             [64, 64, 2, True]             \n",
      "  5                  -1  1     73984  ultralytics.nn.modules.conv.Conv             [64, 128, 3, 2]               \n",
      "  6                  -1  2    197632  ultralytics.nn.modules.block.C2f             [128, 128, 2, True]           \n",
      "  7                  -1  1    295424  ultralytics.nn.modules.conv.Conv             [128, 256, 3, 2]              \n",
      "  8                  -1  1    460288  ultralytics.nn.modules.block.C2f             [256, 256, 1, True]           \n",
      "  9                  -1  1    164608  ultralytics.nn.modules.block.SPPF            [256, 256, 5]                 \n",
      " 10                  -1  1         0  torch.nn.modules.upsampling.Upsample         [None, 2, 'nearest']          \n",
      " 11             [-1, 6]  1         0  ultralytics.nn.modules.conv.Concat           [1]                           \n",
      " 12                  -1  1    148224  ultralytics.nn.modules.block.C2f             [384, 128, 1]                 \n",
      " 13                  -1  1         0  torch.nn.modules.upsampling.Upsample         [None, 2, 'nearest']          \n",
      " 14             [-1, 4]  1         0  ultralytics.nn.modules.conv.Concat           [1]                           \n",
      " 15                  -1  1     37248  ultralytics.nn.modules.block.C2f             [192, 64, 1]                  \n",
      " 16                  -1  1     36992  ultralytics.nn.modules.conv.Conv             [64, 64, 3, 2]                \n",
      " 17            [-1, 12]  1         0  ultralytics.nn.modules.conv.Concat           [1]                           \n",
      " 18                  -1  1    123648  ultralytics.nn.modules.block.C2f             [192, 128, 1]                 \n",
      " 19                  -1  1    147712  ultralytics.nn.modules.conv.Conv             [128, 128, 3, 2]              \n",
      " 20             [-1, 9]  1         0  ultralytics.nn.modules.conv.Concat           [1]                           \n",
      " 21                  -1  1    493056  ultralytics.nn.modules.block.C2f             [384, 256, 1]                 \n",
      " 22        [15, 18, 21]  1   1004275  ultralytics.nn.modules.head.Segment          [1, 32, 64, [64, 128, 256]]   \n",
      "YOLOv8n-seg summary: 261 layers, 3,263,811 parameters, 3,263,795 gradients, 12.1 GFLOPs\n",
      "\n",
      "Transferred 417/417 items from pretrained weights\n",
      "Freezing layer 'model.22.dfl.conv.weight'\n",
      "\u001b[34m\u001b[1mAMP: \u001b[0mrunning Automatic Mixed Precision (AMP) checks...\n",
      "\u001b[34m\u001b[1mAMP: \u001b[0mchecks passed \n"
     ]
    },
    {
     "name": "stderr",
     "output_type": "stream",
     "text": [
      "\u001b[34m\u001b[1mtrain: \u001b[0mScanning C:\\Users\\aaron\\Documents\\Año4\\TFG\\CityScapesWithPanopticSegm\\dataset\\labels\\train.cache... 2975 images, 649 backgrounds, 0 corrupt: 100%|██████████| 2975/2975 [00:00<?, ?it/s]"
     ]
    },
    {
     "name": "stdout",
     "output_type": "stream",
     "text": [
      "\u001b[34m\u001b[1mtrain: \u001b[0mWARNING  C:\\Users\\aaron\\Documents\\Ao4\\TFG\\CityScapesWithPanopticSegm\\dataset\\images\\train\\aachen_000031_000019_gtFine_polygons.png: 1 duplicate labels removed\n",
      "\u001b[34m\u001b[1mtrain: \u001b[0mWARNING  C:\\Users\\aaron\\Documents\\Ao4\\TFG\\CityScapesWithPanopticSegm\\dataset\\images\\train\\aachen_000042_000019_gtFine_polygons.png: 1 duplicate labels removed\n",
      "\u001b[34m\u001b[1mtrain: \u001b[0mWARNING  C:\\Users\\aaron\\Documents\\Ao4\\TFG\\CityScapesWithPanopticSegm\\dataset\\images\\train\\aachen_000064_000019_gtFine_polygons.png: 1 duplicate labels removed\n",
      "\u001b[34m\u001b[1mtrain: \u001b[0mWARNING  C:\\Users\\aaron\\Documents\\Ao4\\TFG\\CityScapesWithPanopticSegm\\dataset\\images\\train\\aachen_000090_000019_gtFine_polygons.png: 2 duplicate labels removed\n",
      "\u001b[34m\u001b[1mtrain: \u001b[0mWARNING  C:\\Users\\aaron\\Documents\\Ao4\\TFG\\CityScapesWithPanopticSegm\\dataset\\images\\train\\aachen_000092_000019_gtFine_polygons.png: 1 duplicate labels removed\n",
      "\u001b[34m\u001b[1mtrain: \u001b[0mWARNING  C:\\Users\\aaron\\Documents\\Ao4\\TFG\\CityScapesWithPanopticSegm\\dataset\\images\\train\\aachen_000098_000019_gtFine_polygons.png: 2 duplicate labels removed\n",
      "\u001b[34m\u001b[1mtrain: \u001b[0mWARNING  C:\\Users\\aaron\\Documents\\Ao4\\TFG\\CityScapesWithPanopticSegm\\dataset\\images\\train\\darmstadt_000046_000019_gtFine_polygons.png: 1 duplicate labels removed\n",
      "\u001b[34m\u001b[1mtrain: \u001b[0mWARNING  C:\\Users\\aaron\\Documents\\Ao4\\TFG\\CityScapesWithPanopticSegm\\dataset\\images\\train\\hamburg_000000_032906_gtFine_polygons.png: 1 duplicate labels removed\n",
      "\u001b[34m\u001b[1mtrain: \u001b[0mWARNING  C:\\Users\\aaron\\Documents\\Ao4\\TFG\\CityScapesWithPanopticSegm\\dataset\\images\\train\\hamburg_000000_033506_gtFine_polygons.png: 1 duplicate labels removed\n",
      "\u001b[34m\u001b[1mtrain: \u001b[0mWARNING  C:\\Users\\aaron\\Documents\\Ao4\\TFG\\CityScapesWithPanopticSegm\\dataset\\images\\train\\hamburg_000000_039420_gtFine_polygons.png: 1 duplicate labels removed\n",
      "\u001b[34m\u001b[1mtrain: \u001b[0mWARNING  C:\\Users\\aaron\\Documents\\Ao4\\TFG\\CityScapesWithPanopticSegm\\dataset\\images\\train\\hamburg_000000_053886_gtFine_polygons.png: 1 duplicate labels removed\n",
      "\u001b[34m\u001b[1mtrain: \u001b[0mWARNING  C:\\Users\\aaron\\Documents\\Ao4\\TFG\\CityScapesWithPanopticSegm\\dataset\\images\\train\\hanover_000000_019456_gtFine_polygons.png: 1 duplicate labels removed\n",
      "\u001b[34m\u001b[1mtrain: \u001b[0mWARNING  C:\\Users\\aaron\\Documents\\Ao4\\TFG\\CityScapesWithPanopticSegm\\dataset\\images\\train\\strasbourg_000001_051317_gtFine_polygons.png: 1 duplicate labels removed\n",
      "\u001b[34m\u001b[1mtrain: \u001b[0mWARNING  C:\\Users\\aaron\\Documents\\Ao4\\TFG\\CityScapesWithPanopticSegm\\dataset\\images\\train\\strasbourg_000001_052050_gtFine_polygons.png: 1 duplicate labels removed\n",
      "\u001b[34m\u001b[1mtrain: \u001b[0mWARNING  C:\\Users\\aaron\\Documents\\Ao4\\TFG\\CityScapesWithPanopticSegm\\dataset\\images\\train\\stuttgart_000109_000019_gtFine_polygons.png: 1 duplicate labels removed\n"
     ]
    },
    {
     "name": "stderr",
     "output_type": "stream",
     "text": [
      "\n",
      "\u001b[34m\u001b[1mval: \u001b[0mScanning C:\\Users\\aaron\\Documents\\Año4\\TFG\\CityScapesWithPanopticSegm\\dataset\\labels\\val.cache... 500 images, 98 backgrounds, 0 corrupt: 100%|██████████| 500/500 [00:00<?, ?it/s]"
     ]
    },
    {
     "name": "stdout",
     "output_type": "stream",
     "text": [
      "\u001b[34m\u001b[1mval: \u001b[0mWARNING  C:\\Users\\aaron\\Documents\\Ao4\\TFG\\CityScapesWithPanopticSegm\\dataset\\images\\val\\frankfurt_000001_016273_gtFine_polygons.png: 1 duplicate labels removed\n",
      "\u001b[34m\u001b[1mval: \u001b[0mWARNING  C:\\Users\\aaron\\Documents\\Ao4\\TFG\\CityScapesWithPanopticSegm\\dataset\\images\\val\\frankfurt_000001_017101_gtFine_polygons.png: 1 duplicate labels removed\n",
      "\u001b[34m\u001b[1mval: \u001b[0mWARNING  C:\\Users\\aaron\\Documents\\Ao4\\TFG\\CityScapesWithPanopticSegm\\dataset\\images\\val\\frankfurt_000001_077434_gtFine_polygons.png: 1 duplicate labels removed\n",
      "\u001b[34m\u001b[1mval: \u001b[0mWARNING  C:\\Users\\aaron\\Documents\\Ao4\\TFG\\CityScapesWithPanopticSegm\\dataset\\images\\val\\munster_000026_000019_gtFine_polygons.png: 1 duplicate labels removed\n"
     ]
    },
    {
     "name": "stderr",
     "output_type": "stream",
     "text": [
      "\n"
     ]
    },
    {
     "name": "stdout",
     "output_type": "stream",
     "text": [
      "Plotting labels to runs\\segment\\train66\\labels.jpg... \n",
      "\u001b[34m\u001b[1moptimizer:\u001b[0m AdamW(lr=1e-08, momentum=0.86519) with parameter groups 66 weight(decay=0.0), 77 weight(decay=0.00045), 76 bias(decay=0.0)\n",
      "Image sizes 640 train, 640 val\n",
      "Using 8 dataloader workers\n",
      "Logging results to \u001b[1mruns\\segment\\train66\u001b[0m\n",
      "Starting training for 30 epochs...\n",
      "\n",
      "      Epoch    GPU_mem   box_loss   seg_loss   cls_loss   dfl_loss  Instances       Size\n"
     ]
    },
    {
     "name": "stderr",
     "output_type": "stream",
     "text": [
      "       1/30      1.83G      1.271      2.535      1.784      1.485        110        640: 100%|██████████| 372/372 [01:49<00:00,  3.38it/s]\n",
      "                 Class     Images  Instances      Box(P          R      mAP50  mAP50-95)     Mask(P          R      mAP50  mAP50-95): 100%|██████████| 32/32 [00:09<00:00,  3.55it/s]"
     ]
    },
    {
     "name": "stdout",
     "output_type": "stream",
     "text": [
      "                   all        500       3415      0.545      0.339      0.362      0.184      0.388      0.251      0.219     0.0719\n"
     ]
    },
    {
     "name": "stderr",
     "output_type": "stream",
     "text": [
      "\n"
     ]
    },
    {
     "name": "stdout",
     "output_type": "stream",
     "text": [
      "\n",
      "      Epoch    GPU_mem   box_loss   seg_loss   cls_loss   dfl_loss  Instances       Size\n"
     ]
    },
    {
     "name": "stderr",
     "output_type": "stream",
     "text": [
      "       2/30       1.8G       1.25       2.46      1.722      1.459         58        640: 100%|██████████| 372/372 [01:38<00:00,  3.78it/s]\n",
      "                 Class     Images  Instances      Box(P          R      mAP50  mAP50-95)     Mask(P          R      mAP50  mAP50-95): 100%|██████████| 32/32 [00:08<00:00,  3.64it/s]\n"
     ]
    },
    {
     "name": "stdout",
     "output_type": "stream",
     "text": [
      "                   all        500       3415      0.589      0.389      0.425      0.218      0.454      0.313      0.288      0.106\n",
      "\n",
      "      Epoch    GPU_mem   box_loss   seg_loss   cls_loss   dfl_loss  Instances       Size\n"
     ]
    },
    {
     "name": "stderr",
     "output_type": "stream",
     "text": [
      "       3/30      1.81G      1.228      2.403      1.651       1.45         58        640: 100%|██████████| 372/372 [01:35<00:00,  3.91it/s]\n",
      "                 Class     Images  Instances      Box(P          R      mAP50  mAP50-95)     Mask(P          R      mAP50  mAP50-95): 100%|██████████| 32/32 [00:08<00:00,  3.71it/s]\n"
     ]
    },
    {
     "name": "stdout",
     "output_type": "stream",
     "text": [
      "                   all        500       3415       0.59      0.375       0.43       0.22      0.502      0.302      0.312      0.119\n",
      "\n",
      "      Epoch    GPU_mem   box_loss   seg_loss   cls_loss   dfl_loss  Instances       Size\n"
     ]
    },
    {
     "name": "stderr",
     "output_type": "stream",
     "text": [
      "       4/30      1.73G      1.216        2.4      1.631      1.438         56        640: 100%|██████████| 372/372 [01:34<00:00,  3.95it/s]\n",
      "                 Class     Images  Instances      Box(P          R      mAP50  mAP50-95)     Mask(P          R      mAP50  mAP50-95): 100%|██████████| 32/32 [00:08<00:00,  3.63it/s]\n"
     ]
    },
    {
     "name": "stdout",
     "output_type": "stream",
     "text": [
      "                   all        500       3415      0.615      0.386      0.445      0.234      0.524      0.323       0.34       0.13\n",
      "\n",
      "      Epoch    GPU_mem   box_loss   seg_loss   cls_loss   dfl_loss  Instances       Size\n"
     ]
    },
    {
     "name": "stderr",
     "output_type": "stream",
     "text": [
      "       5/30      1.83G      1.204      2.389      1.608      1.443         66        640: 100%|██████████| 372/372 [01:33<00:00,  3.98it/s]\n",
      "                 Class     Images  Instances      Box(P          R      mAP50  mAP50-95)     Mask(P          R      mAP50  mAP50-95): 100%|██████████| 32/32 [00:08<00:00,  3.66it/s]\n"
     ]
    },
    {
     "name": "stdout",
     "output_type": "stream",
     "text": [
      "                   all        500       3415      0.622      0.385      0.452      0.237      0.531      0.321       0.35      0.136\n",
      "\n",
      "      Epoch    GPU_mem   box_loss   seg_loss   cls_loss   dfl_loss  Instances       Size\n"
     ]
    },
    {
     "name": "stderr",
     "output_type": "stream",
     "text": [
      "       6/30      1.77G      1.199      2.367      1.601      1.438        157        640: 100%|██████████| 372/372 [01:32<00:00,  4.03it/s]\n",
      "                 Class     Images  Instances      Box(P          R      mAP50  mAP50-95)     Mask(P          R      mAP50  mAP50-95): 100%|██████████| 32/32 [00:08<00:00,  3.78it/s]"
     ]
    },
    {
     "name": "stdout",
     "output_type": "stream",
     "text": [
      "                   all        500       3415      0.615      0.384      0.452      0.237       0.53      0.323       0.35      0.137\n"
     ]
    },
    {
     "name": "stderr",
     "output_type": "stream",
     "text": [
      "\n"
     ]
    },
    {
     "name": "stdout",
     "output_type": "stream",
     "text": [
      "\n",
      "      Epoch    GPU_mem   box_loss   seg_loss   cls_loss   dfl_loss  Instances       Size\n"
     ]
    },
    {
     "name": "stderr",
     "output_type": "stream",
     "text": [
      "       7/30      1.84G       1.21      2.403       1.63      1.436         82        640: 100%|██████████| 372/372 [01:32<00:00,  4.01it/s]\n",
      "                 Class     Images  Instances      Box(P          R      mAP50  mAP50-95)     Mask(P          R      mAP50  mAP50-95): 100%|██████████| 32/32 [00:08<00:00,  3.78it/s]\n"
     ]
    },
    {
     "name": "stdout",
     "output_type": "stream",
     "text": [
      "                   all        500       3415      0.622      0.381       0.45      0.236      0.527      0.323      0.353      0.138\n",
      "\n",
      "      Epoch    GPU_mem   box_loss   seg_loss   cls_loss   dfl_loss  Instances       Size\n"
     ]
    },
    {
     "name": "stderr",
     "output_type": "stream",
     "text": [
      "       8/30      1.68G      1.206      2.394      1.596      1.445         66        640: 100%|██████████| 372/372 [01:31<00:00,  4.05it/s]\n",
      "                 Class     Images  Instances      Box(P          R      mAP50  mAP50-95)     Mask(P          R      mAP50  mAP50-95): 100%|██████████| 32/32 [00:08<00:00,  3.74it/s]\n"
     ]
    },
    {
     "name": "stdout",
     "output_type": "stream",
     "text": [
      "                   all        500       3415      0.594      0.398      0.452      0.237      0.527      0.325      0.352      0.138\n",
      "\n",
      "      Epoch    GPU_mem   box_loss   seg_loss   cls_loss   dfl_loss  Instances       Size\n"
     ]
    },
    {
     "name": "stderr",
     "output_type": "stream",
     "text": [
      "       9/30      1.93G      1.207      2.385       1.62       1.44         59        640: 100%|██████████| 372/372 [01:33<00:00,  3.99it/s]\n",
      "                 Class     Images  Instances      Box(P          R      mAP50  mAP50-95)     Mask(P          R      mAP50  mAP50-95): 100%|██████████| 32/32 [00:08<00:00,  3.75it/s]\n"
     ]
    },
    {
     "name": "stdout",
     "output_type": "stream",
     "text": [
      "                   all        500       3415      0.619      0.382      0.452      0.237      0.528      0.324      0.351      0.138\n",
      "\n",
      "      Epoch    GPU_mem   box_loss   seg_loss   cls_loss   dfl_loss  Instances       Size\n"
     ]
    },
    {
     "name": "stderr",
     "output_type": "stream",
     "text": [
      "      10/30      1.71G      1.206      2.397      1.618      1.438         86        640: 100%|██████████| 372/372 [01:31<00:00,  4.06it/s]\n",
      "                 Class     Images  Instances      Box(P          R      mAP50  mAP50-95)     Mask(P          R      mAP50  mAP50-95): 100%|██████████| 32/32 [00:08<00:00,  3.80it/s]\n"
     ]
    },
    {
     "name": "stdout",
     "output_type": "stream",
     "text": [
      "                   all        500       3415      0.621      0.384      0.451      0.237      0.532      0.322      0.351      0.138\n",
      "\n",
      "      Epoch    GPU_mem   box_loss   seg_loss   cls_loss   dfl_loss  Instances       Size\n"
     ]
    },
    {
     "name": "stderr",
     "output_type": "stream",
     "text": [
      "      11/30      1.78G      1.203      2.378      1.611      1.443         15        640: 100%|██████████| 372/372 [01:31<00:00,  4.08it/s]\n",
      "                 Class     Images  Instances      Box(P          R      mAP50  mAP50-95)     Mask(P          R      mAP50  mAP50-95): 100%|██████████| 32/32 [00:08<00:00,  3.63it/s]\n"
     ]
    },
    {
     "name": "stdout",
     "output_type": "stream",
     "text": [
      "                   all        500       3415      0.626      0.383      0.451      0.237      0.531      0.324      0.353      0.138\n",
      "\n",
      "      Epoch    GPU_mem   box_loss   seg_loss   cls_loss   dfl_loss  Instances       Size\n"
     ]
    },
    {
     "name": "stderr",
     "output_type": "stream",
     "text": [
      "      12/30      1.84G      1.203      2.376      1.602      1.438         39        640: 100%|██████████| 372/372 [01:32<00:00,  4.03it/s]\n",
      "                 Class     Images  Instances      Box(P          R      mAP50  mAP50-95)     Mask(P          R      mAP50  mAP50-95): 100%|██████████| 32/32 [00:08<00:00,  3.77it/s]\n"
     ]
    },
    {
     "name": "stdout",
     "output_type": "stream",
     "text": [
      "                   all        500       3415      0.619      0.384      0.451      0.237      0.532      0.319       0.35      0.137\n",
      "\n",
      "      Epoch    GPU_mem   box_loss   seg_loss   cls_loss   dfl_loss  Instances       Size\n"
     ]
    },
    {
     "name": "stderr",
     "output_type": "stream",
     "text": [
      "      13/30      1.68G      1.203      2.384      1.601      1.435         82        640: 100%|██████████| 372/372 [01:31<00:00,  4.06it/s]\n",
      "                 Class     Images  Instances      Box(P          R      mAP50  mAP50-95)     Mask(P          R      mAP50  mAP50-95): 100%|██████████| 32/32 [00:08<00:00,  3.73it/s]\n"
     ]
    },
    {
     "name": "stdout",
     "output_type": "stream",
     "text": [
      "                   all        500       3415      0.624      0.382      0.452      0.237      0.528      0.322      0.352      0.136\n",
      "\n",
      "      Epoch    GPU_mem   box_loss   seg_loss   cls_loss   dfl_loss  Instances       Size\n"
     ]
    },
    {
     "name": "stderr",
     "output_type": "stream",
     "text": [
      "      14/30         2G      1.204      2.383      1.598      1.438         70        640: 100%|██████████| 372/372 [01:33<00:00,  3.99it/s]\n",
      "                 Class     Images  Instances      Box(P          R      mAP50  mAP50-95)     Mask(P          R      mAP50  mAP50-95): 100%|██████████| 32/32 [00:08<00:00,  3.73it/s]\n"
     ]
    },
    {
     "name": "stdout",
     "output_type": "stream",
     "text": [
      "                   all        500       3415      0.621      0.381      0.452      0.236      0.531      0.323      0.353      0.138\n",
      "\n",
      "      Epoch    GPU_mem   box_loss   seg_loss   cls_loss   dfl_loss  Instances       Size\n"
     ]
    },
    {
     "name": "stderr",
     "output_type": "stream",
     "text": [
      "      15/30      1.76G      1.196      2.359      1.589       1.44         53        640: 100%|██████████| 372/372 [01:31<00:00,  4.05it/s]\n",
      "                 Class     Images  Instances      Box(P          R      mAP50  mAP50-95)     Mask(P          R      mAP50  mAP50-95): 100%|██████████| 32/32 [00:08<00:00,  3.72it/s]\n"
     ]
    },
    {
     "name": "stdout",
     "output_type": "stream",
     "text": [
      "                   all        500       3415      0.621      0.384      0.451      0.237      0.535      0.322       0.35      0.137\n",
      "\n",
      "      Epoch    GPU_mem   box_loss   seg_loss   cls_loss   dfl_loss  Instances       Size\n"
     ]
    },
    {
     "name": "stderr",
     "output_type": "stream",
     "text": [
      "      16/30      1.98G      1.209       2.37      1.609      1.441         72        640: 100%|██████████| 372/372 [01:33<00:00,  3.99it/s]\n",
      "                 Class     Images  Instances      Box(P          R      mAP50  mAP50-95)     Mask(P          R      mAP50  mAP50-95): 100%|██████████| 32/32 [00:08<00:00,  3.76it/s]\n"
     ]
    },
    {
     "name": "stdout",
     "output_type": "stream",
     "text": [
      "                   all        500       3415      0.614      0.387      0.451      0.237      0.525      0.323       0.35      0.137\n",
      "\n",
      "      Epoch    GPU_mem   box_loss   seg_loss   cls_loss   dfl_loss  Instances       Size\n"
     ]
    },
    {
     "name": "stderr",
     "output_type": "stream",
     "text": [
      "      17/30      2.06G      1.202      2.371       1.59      1.433        121        640: 100%|██████████| 372/372 [01:33<00:00,  3.97it/s]\n",
      "                 Class     Images  Instances      Box(P          R      mAP50  mAP50-95)     Mask(P          R      mAP50  mAP50-95): 100%|██████████| 32/32 [00:08<00:00,  3.73it/s]\n"
     ]
    },
    {
     "name": "stdout",
     "output_type": "stream",
     "text": [
      "                   all        500       3415      0.596      0.394      0.451      0.237      0.521      0.326      0.351      0.137\n",
      "\n",
      "      Epoch    GPU_mem   box_loss   seg_loss   cls_loss   dfl_loss  Instances       Size\n"
     ]
    },
    {
     "name": "stderr",
     "output_type": "stream",
     "text": [
      "      18/30      2.02G      1.214      2.404      1.607       1.44         35        640: 100%|██████████| 372/372 [01:33<00:00,  3.99it/s]\n",
      "                 Class     Images  Instances      Box(P          R      mAP50  mAP50-95)     Mask(P          R      mAP50  mAP50-95): 100%|██████████| 32/32 [00:08<00:00,  3.72it/s]"
     ]
    },
    {
     "name": "stdout",
     "output_type": "stream",
     "text": [
      "                   all        500       3415      0.621      0.383       0.45      0.236      0.537      0.322      0.352      0.138\n"
     ]
    },
    {
     "name": "stderr",
     "output_type": "stream",
     "text": [
      "\n"
     ]
    },
    {
     "name": "stdout",
     "output_type": "stream",
     "text": [
      "\n",
      "      Epoch    GPU_mem   box_loss   seg_loss   cls_loss   dfl_loss  Instances       Size\n"
     ]
    },
    {
     "name": "stderr",
     "output_type": "stream",
     "text": [
      "      19/30      1.73G      1.197      2.388      1.605      1.436         76        640: 100%|██████████| 372/372 [01:32<00:00,  4.02it/s]\n",
      "                 Class     Images  Instances      Box(P          R      mAP50  mAP50-95)     Mask(P          R      mAP50  mAP50-95): 100%|██████████| 32/32 [00:08<00:00,  3.66it/s]\n"
     ]
    },
    {
     "name": "stdout",
     "output_type": "stream",
     "text": [
      "                   all        500       3415      0.618      0.387      0.451      0.237      0.527       0.33      0.353      0.139\n",
      "\n",
      "      Epoch    GPU_mem   box_loss   seg_loss   cls_loss   dfl_loss  Instances       Size\n"
     ]
    },
    {
     "name": "stderr",
     "output_type": "stream",
     "text": [
      "      20/30      1.72G      1.203      2.384      1.607      1.435         28        640: 100%|██████████| 372/372 [01:32<00:00,  4.01it/s]\n",
      "                 Class     Images  Instances      Box(P          R      mAP50  mAP50-95)     Mask(P          R      mAP50  mAP50-95): 100%|██████████| 32/32 [00:08<00:00,  3.68it/s]\n"
     ]
    },
    {
     "name": "stdout",
     "output_type": "stream",
     "text": [
      "                   all        500       3415      0.623      0.384      0.453      0.237      0.534      0.322      0.353      0.138\n",
      "Closing dataloader mosaic\n",
      "\n",
      "      Epoch    GPU_mem   box_loss   seg_loss   cls_loss   dfl_loss  Instances       Size\n"
     ]
    },
    {
     "name": "stderr",
     "output_type": "stream",
     "text": [
      "      21/30      1.66G      1.229      2.412      1.683      1.427         13        640: 100%|██████████| 372/372 [01:30<00:00,  4.09it/s]\n",
      "                 Class     Images  Instances      Box(P          R      mAP50  mAP50-95)     Mask(P          R      mAP50  mAP50-95): 100%|██████████| 32/32 [00:08<00:00,  3.69it/s]\n"
     ]
    },
    {
     "name": "stdout",
     "output_type": "stream",
     "text": [
      "                   all        500       3415       0.59      0.378      0.423      0.219      0.489      0.322      0.326      0.129\n",
      "\n",
      "      Epoch    GPU_mem   box_loss   seg_loss   cls_loss   dfl_loss  Instances       Size\n"
     ]
    },
    {
     "name": "stderr",
     "output_type": "stream",
     "text": [
      "      22/30      1.94G      1.232      2.415      1.689      1.431         35        640: 100%|██████████| 372/372 [01:30<00:00,  4.11it/s]\n",
      "                 Class     Images  Instances      Box(P          R      mAP50  mAP50-95)     Mask(P          R      mAP50  mAP50-95): 100%|██████████| 32/32 [00:08<00:00,  3.71it/s]\n"
     ]
    },
    {
     "name": "stdout",
     "output_type": "stream",
     "text": [
      "                   all        500       3415      0.595      0.378      0.425      0.221      0.505      0.315      0.326      0.129\n",
      "\n",
      "      Epoch    GPU_mem   box_loss   seg_loss   cls_loss   dfl_loss  Instances       Size\n"
     ]
    },
    {
     "name": "stderr",
     "output_type": "stream",
     "text": [
      "      23/30      1.73G      1.233      2.424      1.674      1.426         73        640: 100%|██████████| 372/372 [01:28<00:00,  4.19it/s]\n",
      "                 Class     Images  Instances      Box(P          R      mAP50  mAP50-95)     Mask(P          R      mAP50  mAP50-95): 100%|██████████| 32/32 [00:08<00:00,  3.72it/s]\n"
     ]
    },
    {
     "name": "stdout",
     "output_type": "stream",
     "text": [
      "                   all        500       3415      0.593       0.38      0.426      0.221       0.49      0.318      0.327      0.129\n",
      "\n",
      "      Epoch    GPU_mem   box_loss   seg_loss   cls_loss   dfl_loss  Instances       Size\n"
     ]
    },
    {
     "name": "stderr",
     "output_type": "stream",
     "text": [
      "      24/30      1.58G      1.231      2.414      1.672      1.428         24        640: 100%|██████████| 372/372 [01:28<00:00,  4.22it/s]\n",
      "                 Class     Images  Instances      Box(P          R      mAP50  mAP50-95)     Mask(P          R      mAP50  mAP50-95): 100%|██████████| 32/32 [00:08<00:00,  3.77it/s]\n"
     ]
    },
    {
     "name": "stdout",
     "output_type": "stream",
     "text": [
      "                   all        500       3415      0.594      0.378      0.425      0.221      0.501      0.315      0.327      0.129\n",
      "\n",
      "      Epoch    GPU_mem   box_loss   seg_loss   cls_loss   dfl_loss  Instances       Size\n"
     ]
    },
    {
     "name": "stderr",
     "output_type": "stream",
     "text": [
      "      25/30      1.88G       1.23      2.407      1.682      1.427         10        640: 100%|██████████| 372/372 [01:29<00:00,  4.14it/s]\n",
      "                 Class     Images  Instances      Box(P          R      mAP50  mAP50-95)     Mask(P          R      mAP50  mAP50-95): 100%|██████████| 32/32 [00:08<00:00,  3.78it/s]\n"
     ]
    },
    {
     "name": "stdout",
     "output_type": "stream",
     "text": [
      "                   all        500       3415      0.597      0.378      0.425      0.221      0.506      0.315      0.327      0.129\n",
      "\n",
      "      Epoch    GPU_mem   box_loss   seg_loss   cls_loss   dfl_loss  Instances       Size\n"
     ]
    },
    {
     "name": "stderr",
     "output_type": "stream",
     "text": [
      "      26/30      1.78G       1.24      2.405      1.695      1.427         41        640: 100%|██████████| 372/372 [01:29<00:00,  4.16it/s]\n",
      "                 Class     Images  Instances      Box(P          R      mAP50  mAP50-95)     Mask(P          R      mAP50  mAP50-95): 100%|██████████| 32/32 [00:08<00:00,  3.64it/s]\n"
     ]
    },
    {
     "name": "stdout",
     "output_type": "stream",
     "text": [
      "                   all        500       3415      0.589      0.378      0.423       0.22       0.49      0.317      0.326      0.129\n",
      "\n",
      "      Epoch    GPU_mem   box_loss   seg_loss   cls_loss   dfl_loss  Instances       Size\n"
     ]
    },
    {
     "name": "stderr",
     "output_type": "stream",
     "text": [
      "      27/30      1.74G      1.235      2.411      1.678       1.43         62        640: 100%|██████████| 372/372 [01:28<00:00,  4.20it/s]\n",
      "                 Class     Images  Instances      Box(P          R      mAP50  mAP50-95)     Mask(P          R      mAP50  mAP50-95): 100%|██████████| 32/32 [00:08<00:00,  3.79it/s]\n"
     ]
    },
    {
     "name": "stdout",
     "output_type": "stream",
     "text": [
      "                   all        500       3415      0.595      0.379      0.426      0.221      0.497      0.315      0.326      0.129\n",
      "\n",
      "      Epoch    GPU_mem   box_loss   seg_loss   cls_loss   dfl_loss  Instances       Size\n"
     ]
    },
    {
     "name": "stderr",
     "output_type": "stream",
     "text": [
      "      28/30       1.9G      1.226      2.398      1.678      1.423         24        640: 100%|██████████| 372/372 [01:29<00:00,  4.16it/s]\n",
      "                 Class     Images  Instances      Box(P          R      mAP50  mAP50-95)     Mask(P          R      mAP50  mAP50-95): 100%|██████████| 32/32 [00:08<00:00,  3.76it/s]\n"
     ]
    },
    {
     "name": "stdout",
     "output_type": "stream",
     "text": [
      "                   all        500       3415      0.596      0.378      0.425       0.22      0.498      0.315      0.326      0.129\n",
      "\n",
      "      Epoch    GPU_mem   box_loss   seg_loss   cls_loss   dfl_loss  Instances       Size\n"
     ]
    },
    {
     "name": "stderr",
     "output_type": "stream",
     "text": [
      "      29/30      1.87G      1.227      2.419      1.668      1.425         60        640: 100%|██████████| 372/372 [01:29<00:00,  4.13it/s]\n",
      "                 Class     Images  Instances      Box(P          R      mAP50  mAP50-95)     Mask(P          R      mAP50  mAP50-95): 100%|██████████| 32/32 [00:08<00:00,  3.69it/s]\n"
     ]
    },
    {
     "name": "stdout",
     "output_type": "stream",
     "text": [
      "                   all        500       3415      0.591       0.38      0.425       0.22      0.498      0.316      0.326      0.129\n",
      "\n",
      "      Epoch    GPU_mem   box_loss   seg_loss   cls_loss   dfl_loss  Instances       Size\n"
     ]
    },
    {
     "name": "stderr",
     "output_type": "stream",
     "text": [
      "      30/30      1.76G       1.23      2.417      1.686      1.429         17        640: 100%|██████████| 372/372 [01:29<00:00,  4.14it/s]\n",
      "                 Class     Images  Instances      Box(P          R      mAP50  mAP50-95)     Mask(P          R      mAP50  mAP50-95): 100%|██████████| 32/32 [00:08<00:00,  3.72it/s]\n"
     ]
    },
    {
     "name": "stdout",
     "output_type": "stream",
     "text": [
      "                   all        500       3415      0.595      0.376      0.424       0.22      0.501      0.315      0.326      0.129\n",
      "\n",
      "30 epochs completed in 0.881 hours.\n",
      "Optimizer stripped from runs\\segment\\train66\\weights\\last.pt, 6.8MB\n",
      "Optimizer stripped from runs\\segment\\train66\\weights\\best.pt, 6.8MB\n",
      "\n",
      "Validating runs\\segment\\train66\\weights\\best.pt...\n",
      "Ultralytics 8.3.55  Python-3.11.5 torch-2.6.0+cu126 CUDA:0 (NVIDIA GeForce RTX 4060 Laptop GPU, 8188MiB)\n",
      "YOLOv8n-seg summary (fused): 195 layers, 3,258,259 parameters, 0 gradients, 12.0 GFLOPs\n"
     ]
    },
    {
     "name": "stderr",
     "output_type": "stream",
     "text": [
      "                 Class     Images  Instances      Box(P          R      mAP50  mAP50-95)     Mask(P          R      mAP50  mAP50-95): 100%|██████████| 32/32 [00:08<00:00,  3.67it/s]\n"
     ]
    },
    {
     "name": "stdout",
     "output_type": "stream",
     "text": [
      "                   all        500       3415      0.599      0.395      0.452      0.237      0.527      0.327      0.351      0.138\n",
      "Speed: 0.3ms preprocess, 2.7ms inference, 0.0ms loss, 2.3ms postprocess per image\n",
      "Results saved to \u001b[1mruns\\segment\\train66\u001b[0m\n"
     ]
    }
   ],
   "source": [
    "from gc import freeze\n",
    "import os\n",
    "os.environ['KMP_DUPLICATE_LIB_OK'] = 'TRUE'\n",
    "\n",
    "from ultralytics import YOLO\n",
    "\n",
    "# Cargar modelo\n",
    "\"\"\" model = YOLO('./runs/segment/train62/weights/best.pt')\n",
    "results = model.train(\n",
    "    data='cityscapes.yaml',\n",
    "    epochs=70,        # Más épocas para mejor convergencia\n",
    "    imgsz=640,      # Mantener resolución alta\n",
    "    batch=8,         # Mantener batch size\n",
    "    workers=0,\n",
    "    pretrained=True,\n",
    "    freeze=10,\n",
    "    patience=15,\n",
    "    # Augmentaciones más agresivas para mejor generalización\n",
    "    flipud=0.3,\n",
    "    fliplr=0.5,\n",
    "    mosaic=0.8,      # Aumentar para más variedad\n",
    "    mixup=0.3,       # Aumentar para mejor robustez\n",
    "\n",
    "    # Ajustes de color más agresivos\n",
    "    hsv_h=0.015,     # Aumentar variación de tono\n",
    "    hsv_s=0.5,       # Aumentar saturación\n",
    "    hsv_v=0.4,       # Más variación de brillo\n",
    "\n",
    "    # Transformaciones geométricas más agresivas\n",
    "    degrees=30.0,    # Más rotación\n",
    "    translate=0.15,  # Más traslación\n",
    "    scale=0.5,      # Más escala\n",
    "    shear=7.0,      # Aumentar shear\n",
    "    perspective=0.0007, # Más perspectiva\n",
    "\n",
    "    # Otras configuraciones\n",
    "    copy_paste=0.3,  # Aumentar copy-paste\n",
    "    augment=True,\n",
    "\n",
    "    # Optimización ajustada\n",
    "    warmup_epochs=3,\n",
    "    warmup_momentum=0.85,\n",
    "    lr0=0.001,     # Learning rate más equilibrado\n",
    "    lrf=0.0001,    # Learning rate final ajustado\n",
    "    weight_decay=0.0004,  # Más regularización\n",
    "\n",
    "    # Nuevas configuraciones\n",
    "    label_smoothing=0.1,  # Añadir label smoothing\n",
    "    overlap_mask=True,    # Mejorar máscaras\n",
    "    mask_ratio=4,        # Ajustar ratio de máscara\n",
    "    dropout=0.2          # Añadir dropout\n",
    ") \"\"\"\n",
    "\n",
    "model = YOLO('runs/segment/train63/weights/best.pt')\n",
    "results = model.train(\n",
    "    data='cityscapes.yaml',               # Ruta al archivo de configuración de datos\n",
    "    pretrained=True,                # Usar modelo preentrenado\n",
    "    freeze=0,\n",
    "    epochs=30,                      # Número de épocas para el ajuste fino\n",
    "    batch=8,                        # Tamaño de batch\n",
    "    imgsz=640,                      # Tamaño de imagen\n",
    "    device='cuda',                  # Dispositivo para entrenamiento\n",
    "    optimizer='AdamW',              # Usar AdamW como optimizador\n",
    "    lr0=1e-8,                    # Learning rate inicial\n",
    "    lrf=0.01221,                    # Learning rate final (ajustado con scheduler)\n",
    "    momentum=0.86519,               # Momentum\n",
    "    weight_decay=0.00045,           # Regularización L2\n",
    "    warmup_epochs=5.0,              # Warmup epochs\n",
    "    warmup_momentum=0.80406,        # Warmup momentum\n",
    "    box=5.59591,                    # Box loss gain\n",
    "    cls=0.76484,                    # CLS loss gain\n",
    "    dfl=2.14151,                    # DFL loss gain\n",
    "    hsv_h=0.0,                  # HSV-Hue augmentation\n",
    "    hsv_s=0.0,                  # HSV-Saturation augmentation\n",
    "    hsv_v=0.0,                  # HSV-Value augmentation\n",
    "    degrees=0.0,                    # Desactivar rotación\n",
    "    translate=0.00,              # Traslación\n",
    "    scale=0.0,                  # Escalado\n",
    "    shear=0.0,                      # Desactivar shear\n",
    "    perspective=0.0,                # Desactivar perspectiva\n",
    "    flipud=0.0,                     # Desactivar flip up-down\n",
    "    fliplr=0,                 # Flip left-right\n",
    "    bgr=0.0,                        # Desactivar cambio de canal BGR\n",
    "    mosaic=1,                 # Mosaic augmentation\n",
    "    mixup=0.0,                      # Desactivar mixup\n",
    "    copy_paste=0.0,                 # Desactivar copy-paste\n",
    "    #auto_augment='',                # Desactivar auto-augment\n",
    "    erasing=0.0,                    # Desactivar erasing\n",
    "    save=True,                      # Guardar el modelo     \n",
    "    val=True,                      # Desactivar validación\n",
    "    #close_mosaic=20,                 # Desactiva el mosaico\n",
    "    patience=17                     # Detener si no hay mejora después de 10 épocas\n",
    ")"
   ]
  }
 ],
 "metadata": {
  "kernelspec": {
   "display_name": "ia2023",
   "language": "python",
   "name": "ia2023"
  },
  "language_info": {
   "codemirror_mode": {
    "name": "ipython",
    "version": 3
   },
   "file_extension": ".py",
   "mimetype": "text/x-python",
   "name": "python",
   "nbconvert_exporter": "python",
   "pygments_lexer": "ipython3",
   "version": "3.11.5"
  }
 },
 "nbformat": 4,
 "nbformat_minor": 2
}
